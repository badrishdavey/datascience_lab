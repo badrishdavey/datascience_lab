{
  "nbformat": 4,
  "nbformat_minor": 0,
  "metadata": {
    "colab": {
      "name": "Session 2 - Python Basics.ipynb",
      "version": "0.3.2",
      "provenance": [],
      "collapsed_sections": [
        "ImDhs9pQnXUP",
        "RIpjW5aKnNeV",
        "I1HyLjx7SYad"
      ],
      "toc_visible": true,
      "include_colab_link": true
    },
    "kernelspec": {
      "name": "python3",
      "display_name": "Python 3"
    }
  },
  "cells": [
    {
      "cell_type": "markdown",
      "metadata": {
        "id": "view-in-github",
        "colab_type": "text"
      },
      "source": [
        "<a href=\"https://colab.research.google.com/github/badrishdavey/datascience_lab/blob/master/Session_2_Python_Basics.ipynb\" target=\"_parent\"><img src=\"https://colab.research.google.com/assets/colab-badge.svg\" alt=\"Open In Colab\"/></a>"
      ]
    },
    {
      "cell_type": "markdown",
      "metadata": {
        "id": "NXnG3FtVoZYO",
        "colab_type": "text"
      },
      "source": [
        "# Heading 1\n",
        "## Heading 2\n",
        "### Heading 3\n",
        "\n",
        "##### Heading 5\n",
        "###### Heading 6\n",
        "\n",
        "This is the paragraph text I want the other users to see.\n",
        "This will not be in a separate line.\n",
        "\n",
        "This however will be separate.\n",
        "\n",
        "> This is a Quote\n",
        "> \n",
        "> Read this as a quote\n",
        "> \n",
        "> > Quotes within Quotes\n",
        "\n",
        "\n",
        "\n",
        "1. List Item 1\n",
        "  1. Item 2\n",
        "    1. Item 3\n",
        "       1. Item 4\n",
        "3. Item 3\n",
        "5. Item 4\n",
        "4. Item 5\n",
        "1. Item 6\n",
        "1. Item 7\n",
        "\n",
        "\n",
        "- This is a bullet\n",
        "  - Sub bullet\n",
        "    - Sub sub bullet\n",
        "      - Sub sub sub bullet\n",
        "\n",
        "\n",
        "* This is another bullet\n",
        "\n",
        "I want to write things in *Italics* like this.\n",
        "\n",
        "I want to write things in **Bold** like this.\n",
        "\n",
        "I want to write things in ***Bold Italics*** like this.\n",
        "\n",
        "[This is a link](http://google.com)\n",
        "\n",
        "![Python](data:image/jpeg;base64,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)\n",
        "\n",
        "![Python](https://seeklogo.com/images/P/python-logo-C50EED1930-seeklogo.com.png)\n",
        "\n",
        "[Python](https://seeklogo.com/images/P/python-logo-C50EED1930-seeklogo.com.png)\n",
        "\n",
        "$e^x$\n",
        "\n",
        "$$\\frac{1}{\\frac{e^x}{x^2 + 2x}}$$\n",
        "\n",
        "<!-- This will not be visible -->\n",
        "\n",
        "|Head 1|Head2|\n",
        "|--|\n",
        "|Column 1 Row 1|Column 2 Row 1\n",
        "|Column 1 Row 2|Column 2 Row 2\n",
        "\n"
      ]
    },
    {
      "cell_type": "markdown",
      "metadata": {
        "id": "xXtN4-fARka0",
        "colab_type": "text"
      },
      "source": [
        "# Python Basics"
      ]
    },
    {
      "cell_type": "code",
      "metadata": {
        "id": "qlDg6DF-R7sT",
        "colab_type": "code",
        "outputId": "986ddbe0-3fb6-4ee0-cc22-d0a0ab9b41a2",
        "colab": {
          "base_uri": "https://localhost:8080/",
          "height": 374
        }
      },
      "source": [
        "import this  # PEP 20"
      ],
      "execution_count": 0,
      "outputs": [
        {
          "output_type": "stream",
          "text": [
            "The Zen of Python, by Tim Peters\n",
            "\n",
            "Beautiful is better than ugly.\n",
            "Explicit is better than implicit.\n",
            "Simple is better than complex.\n",
            "Complex is better than complicated.\n",
            "Flat is better than nested.\n",
            "Sparse is better than dense.\n",
            "Readability counts.\n",
            "Special cases aren't special enough to break the rules.\n",
            "Although practicality beats purity.\n",
            "Errors should never pass silently.\n",
            "Unless explicitly silenced.\n",
            "In the face of ambiguity, refuse the temptation to guess.\n",
            "There should be one-- and preferably only one --obvious way to do it.\n",
            "Although that way may not be obvious at first unless you're Dutch.\n",
            "Now is better than never.\n",
            "Although never is often better than *right* now.\n",
            "If the implementation is hard to explain, it's a bad idea.\n",
            "If the implementation is easy to explain, it may be a good idea.\n",
            "Namespaces are one honking great idea -- let's do more of those!\n"
          ],
          "name": "stdout"
        }
      ]
    },
    {
      "cell_type": "markdown",
      "metadata": {
        "id": "avbRHTYyR21Y",
        "colab_type": "text"
      },
      "source": [
        "## Basic operations in Python"
      ]
    },
    {
      "cell_type": "markdown",
      "metadata": {
        "id": "lwlNnfWASMay",
        "colab_type": "text"
      },
      "source": [
        "### Comments, Strings, DocStrings and Display"
      ]
    },
    {
      "cell_type": "code",
      "metadata": {
        "id": "RXTSLCMMSQjj",
        "colab_type": "code",
        "outputId": "80f987d4-4435-4eb0-f3d2-cc081f1e609e",
        "colab": {
          "base_uri": "https://localhost:8080/",
          "height": 129
        }
      },
      "source": [
        "# A comment in Python is any part of the code starting with a `#` sign and ending with the end line (Return or Enter)\n",
        "This is not a comment # This is also a comment"
      ],
      "execution_count": 0,
      "outputs": [
        {
          "output_type": "error",
          "ename": "SyntaxError",
          "evalue": "ignored",
          "traceback": [
            "\u001b[0;36m  File \u001b[0;32m\"<ipython-input-2-543a28a88d7c>\"\u001b[0;36m, line \u001b[0;32m1\u001b[0m\n\u001b[0;31m    This is not a comment # This is also a comment\u001b[0m\n\u001b[0m                        ^\u001b[0m\n\u001b[0;31mSyntaxError\u001b[0m\u001b[0;31m:\u001b[0m invalid syntax\n"
          ]
        }
      ]
    },
    {
      "cell_type": "code",
      "metadata": {
        "id": "9PrckAsRSa_b",
        "colab_type": "code",
        "outputId": "60e39b1c-dfa5-4aca-c1cb-ad81f3b4df50",
        "colab": {
          "base_uri": "https://localhost:8080/",
          "height": 54
        }
      },
      "source": [
        "\"Strings are another way of creating comments. This statement simply creates a string that is neither stored into a variable nor displayed during the execution. However, it does utilise 1 execution cycle of the processor.\""
      ],
      "execution_count": 0,
      "outputs": [
        {
          "output_type": "execute_result",
          "data": {
            "text/plain": [
              "'Strings are another way of creating comments. This statement simply creates a string that is neither stored into a variable nor displayed during the execution. However, it does utilise 1 execution cycle of the processor.'"
            ]
          },
          "metadata": {
            "tags": []
          },
          "execution_count": 3
        }
      ]
    },
    {
      "cell_type": "code",
      "metadata": {
        "id": "E_UzbRlxTO0e",
        "colab_type": "code",
        "outputId": "7166da9a-b9c2-41e4-a55a-44a4079a099d",
        "colab": {
          "base_uri": "https://localhost:8080/",
          "height": 34
        }
      },
      "source": [
        "'A string may be written by putting a single quote (\\') or a double quote (\\\") at the begining and the end of the string'"
      ],
      "execution_count": 0,
      "outputs": [
        {
          "output_type": "execute_result",
          "data": {
            "text/plain": [
              "'A string may be written by putting a single quote (\\') or a double quote (\") at the begining and the end of the string'"
            ]
          },
          "metadata": {
            "tags": []
          },
          "execution_count": 4
        }
      ]
    },
    {
      "cell_type": "code",
      "metadata": {
        "id": "vvaVMEuGTVY0",
        "colab_type": "code",
        "outputId": "ac112730-cf35-4de0-cfae-ea3481af595c",
        "colab": {
          "base_uri": "https://localhost:8080/",
          "height": 54
        }
      },
      "source": [
        "\"\"\"Tripple quotes at the begining and end of a string allow for the user to provide multiple line input.\n",
        "\n",
        "Tripple quotes are either \\'\\'\\' or \\\"\\\"\\\".\n",
        "\n",
        "These allow for us to write code that retains the format of the text (new lines, etc).\n",
        "\"\"\""
      ],
      "execution_count": 0,
      "outputs": [
        {
          "output_type": "execute_result",
          "data": {
            "text/plain": [
              "'Tripple quotes at the begining and end of a string allow for the user to provide multiple line input.\\n\\nTripple quotes are either \\'\\'\\' or \"\"\".\\n\\nThese allow for us to write code that retains the format of the text (new lines, etc).\\n'"
            ]
          },
          "metadata": {
            "tags": []
          },
          "execution_count": 5
        }
      ]
    },
    {
      "cell_type": "code",
      "metadata": {
        "id": "7JU8KhX9UcyK",
        "colab_type": "code",
        "outputId": "dfe66866-aaa5-493e-cd28-aeab239deb4c",
        "colab": {
          "base_uri": "https://localhost:8080/",
          "height": 425
        }
      },
      "source": [
        "# DocStrings are special strings within the python code that are interpretted as documentation by python. These can be read by using the help function:\n",
        "\n",
        "help(this)"
      ],
      "execution_count": 0,
      "outputs": [
        {
          "output_type": "stream",
          "text": [
            "Help on module this:\n",
            "\n",
            "NAME\n",
            "    this\n",
            "\n",
            "MODULE REFERENCE\n",
            "    https://docs.python.org/3.6/library/this\n",
            "    \n",
            "    The following documentation is automatically generated from the Python\n",
            "    source files.  It may be incomplete, incorrect or include features that\n",
            "    are considered implementation detail and may vary between Python\n",
            "    implementations.  When in doubt, consult the module reference at the\n",
            "    location listed above.\n",
            "\n",
            "DATA\n",
            "    c = 97\n",
            "    d = {'A': 'N', 'B': 'O', 'C': 'P', 'D': 'Q', 'E': 'R', 'F': 'S', 'G': ...\n",
            "    i = 25\n",
            "    s = \"Gur Mra bs Clguba, ol Gvz Crgref\\n\\nOrnhgvshy vf o...bar ubaxvat ...\n",
            "\n",
            "FILE\n",
            "    /usr/lib/python3.6/this.py\n",
            "\n",
            "\n"
          ],
          "name": "stdout"
        }
      ]
    },
    {
      "cell_type": "code",
      "metadata": {
        "id": "ijRcZIcN2eAm",
        "colab_type": "code",
        "outputId": "13363d87-1b6d-4f85-8a3d-75e36095bf66",
        "colab": {
          "base_uri": "https://localhost:8080/",
          "height": 3298
        }
      },
      "source": [
        "from sklearn.covariance import EmpiricalCovariance\n",
        "help(EmpiricalCovariance)\n",
        "EmpiricalCovariance?"
      ],
      "execution_count": 0,
      "outputs": [
        {
          "output_type": "stream",
          "text": [
            "Help on class EmpiricalCovariance in module sklearn.covariance.empirical_covariance_:\n",
            "\n",
            "class EmpiricalCovariance(sklearn.base.BaseEstimator)\n",
            " |  Maximum likelihood covariance estimator\n",
            " |  \n",
            " |  Read more in the :ref:`User Guide <covariance>`.\n",
            " |  \n",
            " |  Parameters\n",
            " |  ----------\n",
            " |  store_precision : bool\n",
            " |      Specifies if the estimated precision is stored.\n",
            " |  \n",
            " |  assume_centered : bool\n",
            " |      If True, data are not centered before computation.\n",
            " |      Useful when working with data whose mean is almost, but not exactly\n",
            " |      zero.\n",
            " |      If False (default), data are centered before computation.\n",
            " |  \n",
            " |  Attributes\n",
            " |  ----------\n",
            " |  location_ : array-like, shape (n_features,)\n",
            " |      Estimated location, i.e. the estimated mean.\n",
            " |  \n",
            " |  covariance_ : 2D ndarray, shape (n_features, n_features)\n",
            " |      Estimated covariance matrix\n",
            " |  \n",
            " |  precision_ : 2D ndarray, shape (n_features, n_features)\n",
            " |      Estimated pseudo-inverse matrix.\n",
            " |      (stored only if store_precision is True)\n",
            " |  \n",
            " |  Examples\n",
            " |  --------\n",
            " |  >>> import numpy as np\n",
            " |  >>> from sklearn.covariance import EmpiricalCovariance\n",
            " |  >>> from sklearn.datasets import make_gaussian_quantiles\n",
            " |  >>> real_cov = np.array([[.8, .3],\n",
            " |  ...                      [.3, .4]])\n",
            " |  >>> np.random.seed(0)\n",
            " |  >>> X = np.random.multivariate_normal(mean=[0, 0],\n",
            " |  ...                                   cov=real_cov,\n",
            " |  ...                                   size=500)\n",
            " |  >>> cov = EmpiricalCovariance().fit(X)\n",
            " |  >>> cov.covariance_ # doctest: +ELLIPSIS\n",
            " |  array([[0.7569..., 0.2818...],\n",
            " |         [0.2818..., 0.3928...]])\n",
            " |  >>> cov.location_\n",
            " |  array([0.0622..., 0.0193...])\n",
            " |  \n",
            " |  Method resolution order:\n",
            " |      EmpiricalCovariance\n",
            " |      sklearn.base.BaseEstimator\n",
            " |      builtins.object\n",
            " |  \n",
            " |  Methods defined here:\n",
            " |  \n",
            " |  __init__(self, store_precision=True, assume_centered=False)\n",
            " |      Initialize self.  See help(type(self)) for accurate signature.\n",
            " |  \n",
            " |  error_norm(self, comp_cov, norm='frobenius', scaling=True, squared=True)\n",
            " |      Computes the Mean Squared Error between two covariance estimators.\n",
            " |      (In the sense of the Frobenius norm).\n",
            " |      \n",
            " |      Parameters\n",
            " |      ----------\n",
            " |      comp_cov : array-like, shape = [n_features, n_features]\n",
            " |          The covariance to compare with.\n",
            " |      \n",
            " |      norm : str\n",
            " |          The type of norm used to compute the error. Available error types:\n",
            " |          - 'frobenius' (default): sqrt(tr(A^t.A))\n",
            " |          - 'spectral': sqrt(max(eigenvalues(A^t.A))\n",
            " |          where A is the error ``(comp_cov - self.covariance_)``.\n",
            " |      \n",
            " |      scaling : bool\n",
            " |          If True (default), the squared error norm is divided by n_features.\n",
            " |          If False, the squared error norm is not rescaled.\n",
            " |      \n",
            " |      squared : bool\n",
            " |          Whether to compute the squared error norm or the error norm.\n",
            " |          If True (default), the squared error norm is returned.\n",
            " |          If False, the error norm is returned.\n",
            " |      \n",
            " |      Returns\n",
            " |      -------\n",
            " |      The Mean Squared Error (in the sense of the Frobenius norm) between\n",
            " |      `self` and `comp_cov` covariance estimators.\n",
            " |  \n",
            " |  fit(self, X, y=None)\n",
            " |      Fits the Maximum Likelihood Estimator covariance model\n",
            " |      according to the given training data and parameters.\n",
            " |      \n",
            " |      Parameters\n",
            " |      ----------\n",
            " |      X : array-like, shape = [n_samples, n_features]\n",
            " |        Training data, where n_samples is the number of samples and\n",
            " |        n_features is the number of features.\n",
            " |      \n",
            " |      y\n",
            " |          not used, present for API consistence purpose.\n",
            " |      \n",
            " |      Returns\n",
            " |      -------\n",
            " |      self : object\n",
            " |  \n",
            " |  get_precision(self)\n",
            " |      Getter for the precision matrix.\n",
            " |      \n",
            " |      Returns\n",
            " |      -------\n",
            " |      precision_ : array-like\n",
            " |          The precision matrix associated to the current covariance object.\n",
            " |  \n",
            " |  mahalanobis(self, X)\n",
            " |      Computes the squared Mahalanobis distances of given observations.\n",
            " |      \n",
            " |      Parameters\n",
            " |      ----------\n",
            " |      X : array-like, shape = [n_samples, n_features]\n",
            " |          The observations, the Mahalanobis distances of the which we\n",
            " |          compute. Observations are assumed to be drawn from the same\n",
            " |          distribution than the data used in fit.\n",
            " |      \n",
            " |      Returns\n",
            " |      -------\n",
            " |      dist : array, shape = [n_samples,]\n",
            " |          Squared Mahalanobis distances of the observations.\n",
            " |  \n",
            " |  score(self, X_test, y=None)\n",
            " |      Computes the log-likelihood of a Gaussian data set with\n",
            " |      `self.covariance_` as an estimator of its covariance matrix.\n",
            " |      \n",
            " |      Parameters\n",
            " |      ----------\n",
            " |      X_test : array-like, shape = [n_samples, n_features]\n",
            " |          Test data of which we compute the likelihood, where n_samples is\n",
            " |          the number of samples and n_features is the number of features.\n",
            " |          X_test is assumed to be drawn from the same distribution than\n",
            " |          the data used in fit (including centering).\n",
            " |      \n",
            " |      y\n",
            " |          not used, present for API consistence purpose.\n",
            " |      \n",
            " |      Returns\n",
            " |      -------\n",
            " |      res : float\n",
            " |          The likelihood of the data set with `self.covariance_` as an\n",
            " |          estimator of its covariance matrix.\n",
            " |  \n",
            " |  ----------------------------------------------------------------------\n",
            " |  Methods inherited from sklearn.base.BaseEstimator:\n",
            " |  \n",
            " |  __getstate__(self)\n",
            " |  \n",
            " |  __repr__(self)\n",
            " |      Return repr(self).\n",
            " |  \n",
            " |  __setstate__(self, state)\n",
            " |  \n",
            " |  get_params(self, deep=True)\n",
            " |      Get parameters for this estimator.\n",
            " |      \n",
            " |      Parameters\n",
            " |      ----------\n",
            " |      deep : boolean, optional\n",
            " |          If True, will return the parameters for this estimator and\n",
            " |          contained subobjects that are estimators.\n",
            " |      \n",
            " |      Returns\n",
            " |      -------\n",
            " |      params : mapping of string to any\n",
            " |          Parameter names mapped to their values.\n",
            " |  \n",
            " |  set_params(self, **params)\n",
            " |      Set the parameters of this estimator.\n",
            " |      \n",
            " |      The method works on simple estimators as well as on nested objects\n",
            " |      (such as pipelines). The latter have parameters of the form\n",
            " |      ``<component>__<parameter>`` so that it's possible to update each\n",
            " |      component of a nested object.\n",
            " |      \n",
            " |      Returns\n",
            " |      -------\n",
            " |      self\n",
            " |  \n",
            " |  ----------------------------------------------------------------------\n",
            " |  Data descriptors inherited from sklearn.base.BaseEstimator:\n",
            " |  \n",
            " |  __dict__\n",
            " |      dictionary for instance variables (if defined)\n",
            " |  \n",
            " |  __weakref__\n",
            " |      list of weak references to the object (if defined)\n",
            "\n"
          ],
          "name": "stdout"
        }
      ]
    },
    {
      "cell_type": "markdown",
      "metadata": {
        "id": "E0yPK11a2dpv",
        "colab_type": "text"
      },
      "source": [
        ""
      ]
    },
    {
      "cell_type": "code",
      "metadata": {
        "id": "HUsr_PJSzmaJ",
        "colab_type": "code",
        "outputId": "d67c5ce4-8821-46c5-b78b-07e8a8f17053",
        "colab": {
          "base_uri": "https://localhost:8080/",
          "height": 3349
        }
      },
      "source": [
        "from sklearn import linear_model\n",
        "help(linear_model.LinearRegression)"
      ],
      "execution_count": 0,
      "outputs": [
        {
          "output_type": "stream",
          "text": [
            "Help on class LinearRegression in module sklearn.linear_model.base:\n",
            "\n",
            "class LinearRegression(LinearModel, sklearn.base.RegressorMixin)\n",
            " |  Ordinary least squares Linear Regression.\n",
            " |  \n",
            " |  Parameters\n",
            " |  ----------\n",
            " |  fit_intercept : boolean, optional, default True\n",
            " |      whether to calculate the intercept for this model. If set\n",
            " |      to False, no intercept will be used in calculations\n",
            " |      (e.g. data is expected to be already centered).\n",
            " |  \n",
            " |  normalize : boolean, optional, default False\n",
            " |      This parameter is ignored when ``fit_intercept`` is set to False.\n",
            " |      If True, the regressors X will be normalized before regression by\n",
            " |      subtracting the mean and dividing by the l2-norm.\n",
            " |      If you wish to standardize, please use\n",
            " |      :class:`sklearn.preprocessing.StandardScaler` before calling ``fit`` on\n",
            " |      an estimator with ``normalize=False``.\n",
            " |  \n",
            " |  copy_X : boolean, optional, default True\n",
            " |      If True, X will be copied; else, it may be overwritten.\n",
            " |  \n",
            " |  n_jobs : int or None, optional (default=None)\n",
            " |      The number of jobs to use for the computation. This will only provide\n",
            " |      speedup for n_targets > 1 and sufficient large problems.\n",
            " |      ``None`` means 1 unless in a :obj:`joblib.parallel_backend` context.\n",
            " |      ``-1`` means using all processors. See :term:`Glossary <n_jobs>`\n",
            " |      for more details.\n",
            " |  \n",
            " |  Attributes\n",
            " |  ----------\n",
            " |  coef_ : array, shape (n_features, ) or (n_targets, n_features)\n",
            " |      Estimated coefficients for the linear regression problem.\n",
            " |      If multiple targets are passed during the fit (y 2D), this\n",
            " |      is a 2D array of shape (n_targets, n_features), while if only\n",
            " |      one target is passed, this is a 1D array of length n_features.\n",
            " |  \n",
            " |  intercept_ : array\n",
            " |      Independent term in the linear model.\n",
            " |  \n",
            " |  Examples\n",
            " |  --------\n",
            " |  >>> import numpy as np\n",
            " |  >>> from sklearn.linear_model import LinearRegression\n",
            " |  >>> X = np.array([[1, 1], [1, 2], [2, 2], [2, 3]])\n",
            " |  >>> # y = 1 * x_0 + 2 * x_1 + 3\n",
            " |  >>> y = np.dot(X, np.array([1, 2])) + 3\n",
            " |  >>> reg = LinearRegression().fit(X, y)\n",
            " |  >>> reg.score(X, y)\n",
            " |  1.0\n",
            " |  >>> reg.coef_\n",
            " |  array([1., 2.])\n",
            " |  >>> reg.intercept_ # doctest: +ELLIPSIS\n",
            " |  3.0000...\n",
            " |  >>> reg.predict(np.array([[3, 5]]))\n",
            " |  array([16.])\n",
            " |  \n",
            " |  Notes\n",
            " |  -----\n",
            " |  From the implementation point of view, this is just plain Ordinary\n",
            " |  Least Squares (scipy.linalg.lstsq) wrapped as a predictor object.\n",
            " |  \n",
            " |  Method resolution order:\n",
            " |      LinearRegression\n",
            " |      LinearModel\n",
            " |      abc.NewBase\n",
            " |      sklearn.base.BaseEstimator\n",
            " |      sklearn.base.RegressorMixin\n",
            " |      builtins.object\n",
            " |  \n",
            " |  Methods defined here:\n",
            " |  \n",
            " |  __init__(self, fit_intercept=True, normalize=False, copy_X=True, n_jobs=None)\n",
            " |      Initialize self.  See help(type(self)) for accurate signature.\n",
            " |  \n",
            " |  fit(self, X, y, sample_weight=None)\n",
            " |      Fit linear model.\n",
            " |      \n",
            " |      Parameters\n",
            " |      ----------\n",
            " |      X : array-like or sparse matrix, shape (n_samples, n_features)\n",
            " |          Training data\n",
            " |      \n",
            " |      y : array_like, shape (n_samples, n_targets)\n",
            " |          Target values. Will be cast to X's dtype if necessary\n",
            " |      \n",
            " |      sample_weight : numpy array of shape [n_samples]\n",
            " |          Individual weights for each sample\n",
            " |      \n",
            " |          .. versionadded:: 0.17\n",
            " |             parameter *sample_weight* support to LinearRegression.\n",
            " |      \n",
            " |      Returns\n",
            " |      -------\n",
            " |      self : returns an instance of self.\n",
            " |  \n",
            " |  ----------------------------------------------------------------------\n",
            " |  Data and other attributes defined here:\n",
            " |  \n",
            " |  __abstractmethods__ = frozenset()\n",
            " |  \n",
            " |  ----------------------------------------------------------------------\n",
            " |  Methods inherited from LinearModel:\n",
            " |  \n",
            " |  predict(self, X)\n",
            " |      Predict using the linear model\n",
            " |      \n",
            " |      Parameters\n",
            " |      ----------\n",
            " |      X : array_like or sparse matrix, shape (n_samples, n_features)\n",
            " |          Samples.\n",
            " |      \n",
            " |      Returns\n",
            " |      -------\n",
            " |      C : array, shape (n_samples,)\n",
            " |          Returns predicted values.\n",
            " |  \n",
            " |  ----------------------------------------------------------------------\n",
            " |  Methods inherited from sklearn.base.BaseEstimator:\n",
            " |  \n",
            " |  __getstate__(self)\n",
            " |  \n",
            " |  __repr__(self)\n",
            " |      Return repr(self).\n",
            " |  \n",
            " |  __setstate__(self, state)\n",
            " |  \n",
            " |  get_params(self, deep=True)\n",
            " |      Get parameters for this estimator.\n",
            " |      \n",
            " |      Parameters\n",
            " |      ----------\n",
            " |      deep : boolean, optional\n",
            " |          If True, will return the parameters for this estimator and\n",
            " |          contained subobjects that are estimators.\n",
            " |      \n",
            " |      Returns\n",
            " |      -------\n",
            " |      params : mapping of string to any\n",
            " |          Parameter names mapped to their values.\n",
            " |  \n",
            " |  set_params(self, **params)\n",
            " |      Set the parameters of this estimator.\n",
            " |      \n",
            " |      The method works on simple estimators as well as on nested objects\n",
            " |      (such as pipelines). The latter have parameters of the form\n",
            " |      ``<component>__<parameter>`` so that it's possible to update each\n",
            " |      component of a nested object.\n",
            " |      \n",
            " |      Returns\n",
            " |      -------\n",
            " |      self\n",
            " |  \n",
            " |  ----------------------------------------------------------------------\n",
            " |  Data descriptors inherited from sklearn.base.BaseEstimator:\n",
            " |  \n",
            " |  __dict__\n",
            " |      dictionary for instance variables (if defined)\n",
            " |  \n",
            " |  __weakref__\n",
            " |      list of weak references to the object (if defined)\n",
            " |  \n",
            " |  ----------------------------------------------------------------------\n",
            " |  Methods inherited from sklearn.base.RegressorMixin:\n",
            " |  \n",
            " |  score(self, X, y, sample_weight=None)\n",
            " |      Returns the coefficient of determination R^2 of the prediction.\n",
            " |      \n",
            " |      The coefficient R^2 is defined as (1 - u/v), where u is the residual\n",
            " |      sum of squares ((y_true - y_pred) ** 2).sum() and v is the total\n",
            " |      sum of squares ((y_true - y_true.mean()) ** 2).sum().\n",
            " |      The best possible score is 1.0 and it can be negative (because the\n",
            " |      model can be arbitrarily worse). A constant model that always\n",
            " |      predicts the expected value of y, disregarding the input features,\n",
            " |      would get a R^2 score of 0.0.\n",
            " |      \n",
            " |      Parameters\n",
            " |      ----------\n",
            " |      X : array-like, shape = (n_samples, n_features)\n",
            " |          Test samples. For some estimators this may be a\n",
            " |          precomputed kernel matrix instead, shape = (n_samples,\n",
            " |          n_samples_fitted], where n_samples_fitted is the number of\n",
            " |          samples used in the fitting for the estimator.\n",
            " |      \n",
            " |      y : array-like, shape = (n_samples) or (n_samples, n_outputs)\n",
            " |          True values for X.\n",
            " |      \n",
            " |      sample_weight : array-like, shape = [n_samples], optional\n",
            " |          Sample weights.\n",
            " |      \n",
            " |      Returns\n",
            " |      -------\n",
            " |      score : float\n",
            " |          R^2 of self.predict(X) wrt. y.\n",
            "\n"
          ],
          "name": "stdout"
        }
      ]
    },
    {
      "cell_type": "code",
      "metadata": {
        "id": "O1rPz5noVez6",
        "colab_type": "code",
        "colab": {}
      },
      "source": [
        "# Alternatively you can access some of the documentation using the ?\n",
        "\n",
        "linear_model.LinearRegression?"
      ],
      "execution_count": 0,
      "outputs": []
    },
    {
      "cell_type": "markdown",
      "metadata": {
        "id": "f2Z7j14CVvlB",
        "colab_type": "text"
      },
      "source": [
        "The print function is used display results of the code execution."
      ]
    },
    {
      "cell_type": "code",
      "metadata": {
        "id": "iQaFarxaVslJ",
        "colab_type": "code",
        "outputId": "2f1a471d-07fe-4e76-cecb-d58a056d77c1",
        "colab": {
          "base_uri": "https://localhost:8080/",
          "height": 85
        }
      },
      "source": [
        "print(1, 'ABC', 1.234)\n",
        "print(2, 'DEFABC', 1.234)\n",
        "print(1, 'ABC', 1.234, end=\"---\")\n",
        "print(1, 'ABC', 1.234)\n",
        "32\n",
        "33"
      ],
      "execution_count": 0,
      "outputs": [
        {
          "output_type": "stream",
          "text": [
            "1 ABC 1.234\n",
            "2 DEFABC 1.234\n",
            "1 ABC 1.234---1 ABC 1.234\n"
          ],
          "name": "stdout"
        },
        {
          "output_type": "execute_result",
          "data": {
            "text/plain": [
              "33"
            ]
          },
          "metadata": {
            "tags": []
          },
          "execution_count": 10
        }
      ]
    },
    {
      "cell_type": "markdown",
      "metadata": {
        "id": "M5TqZWuBWETS",
        "colab_type": "text"
      },
      "source": [
        "When using Jupyter notebooks or IPython or such a IDE, the result of the last executed line is automatically displayed as output "
      ]
    },
    {
      "cell_type": "code",
      "metadata": {
        "id": "jn87vGCiWiFY",
        "colab_type": "code",
        "outputId": "f1aca5af-a16a-4a5d-c396-42a91736c8b1",
        "colab": {
          "base_uri": "https://localhost:8080/",
          "height": 34
        }
      },
      "source": [
        "1"
      ],
      "execution_count": 0,
      "outputs": [
        {
          "output_type": "execute_result",
          "data": {
            "text/plain": [
              "1"
            ]
          },
          "metadata": {
            "tags": []
          },
          "execution_count": 11
        }
      ]
    },
    {
      "cell_type": "markdown",
      "metadata": {
        "id": "owxtxAlPR32E",
        "colab_type": "text"
      },
      "source": [
        "### Mathematical Operations\n",
        "\n"
      ]
    },
    {
      "cell_type": "markdown",
      "metadata": {
        "id": "YppZBydlS9hf",
        "colab_type": "text"
      },
      "source": [
        "The most basic mathematics operations are:\n",
        "\n",
        "- Addition: +\n",
        "- Subtraction: -\n",
        "- Multiplication: *\n",
        "- Division: /\n",
        "- Integer Division: //\n",
        "- Modulus (Remainder): %\n",
        "- Power (Exponent): **"
      ]
    },
    {
      "cell_type": "code",
      "metadata": {
        "id": "sO1bbrldOs-s",
        "colab_type": "code",
        "outputId": "8366cc62-5125-4854-9ee4-6c5803ac0a27",
        "colab": {
          "base_uri": "https://localhost:8080/",
          "height": 34
        }
      },
      "source": [
        "3+2"
      ],
      "execution_count": 0,
      "outputs": [
        {
          "output_type": "execute_result",
          "data": {
            "text/plain": [
              "5"
            ]
          },
          "metadata": {
            "tags": []
          },
          "execution_count": 12
        }
      ]
    },
    {
      "cell_type": "code",
      "metadata": {
        "id": "PXhPqsWZXFRR",
        "colab_type": "code",
        "outputId": "80394cbd-85de-48c4-9554-d2735968bffb",
        "colab": {
          "base_uri": "https://localhost:8080/",
          "height": 34
        }
      },
      "source": [
        "3-2"
      ],
      "execution_count": 0,
      "outputs": [
        {
          "output_type": "execute_result",
          "data": {
            "text/plain": [
              "1"
            ]
          },
          "metadata": {
            "tags": []
          },
          "execution_count": 13
        }
      ]
    },
    {
      "cell_type": "code",
      "metadata": {
        "id": "I4lvfq9wXGFq",
        "colab_type": "code",
        "outputId": "1f96cfee-11b6-4288-dadb-9f6bf6d08152",
        "colab": {
          "base_uri": "https://localhost:8080/",
          "height": 34
        }
      },
      "source": [
        "3*2"
      ],
      "execution_count": 0,
      "outputs": [
        {
          "output_type": "execute_result",
          "data": {
            "text/plain": [
              "6"
            ]
          },
          "metadata": {
            "tags": []
          },
          "execution_count": 14
        }
      ]
    },
    {
      "cell_type": "code",
      "metadata": {
        "id": "gteiI7eVXHcm",
        "colab_type": "code",
        "outputId": "b9c13b29-d2b1-430a-957b-7e43f7d60eda",
        "colab": {
          "base_uri": "https://localhost:8080/",
          "height": 34
        }
      },
      "source": [
        "3/2"
      ],
      "execution_count": 0,
      "outputs": [
        {
          "output_type": "execute_result",
          "data": {
            "text/plain": [
              "1.5"
            ]
          },
          "metadata": {
            "tags": []
          },
          "execution_count": 15
        }
      ]
    },
    {
      "cell_type": "code",
      "metadata": {
        "id": "nX5lWFL7XIO5",
        "colab_type": "code",
        "outputId": "26732a1b-95f2-445a-89bf-44269e2cf0f3",
        "colab": {
          "base_uri": "https://localhost:8080/",
          "height": 34
        }
      },
      "source": [
        "15//2"
      ],
      "execution_count": 0,
      "outputs": [
        {
          "output_type": "execute_result",
          "data": {
            "text/plain": [
              "7"
            ]
          },
          "metadata": {
            "tags": []
          },
          "execution_count": 18
        }
      ]
    },
    {
      "cell_type": "code",
      "metadata": {
        "id": "i9tc2IoQXI1q",
        "colab_type": "code",
        "outputId": "79250c4a-7dba-4ed6-cc66-8948fe03b789",
        "colab": {
          "base_uri": "https://localhost:8080/",
          "height": 34
        }
      },
      "source": [
        "14%3"
      ],
      "execution_count": 0,
      "outputs": [
        {
          "output_type": "execute_result",
          "data": {
            "text/plain": [
              "2"
            ]
          },
          "metadata": {
            "tags": []
          },
          "execution_count": 19
        }
      ]
    },
    {
      "cell_type": "code",
      "metadata": {
        "id": "IJC7_9_4XRRu",
        "colab_type": "code",
        "outputId": "3df05106-1005-455a-aea2-7cc5a4fe2e09",
        "colab": {
          "base_uri": "https://localhost:8080/",
          "height": 34
        }
      },
      "source": [
        "3**4"
      ],
      "execution_count": 0,
      "outputs": [
        {
          "output_type": "execute_result",
          "data": {
            "text/plain": [
              "81"
            ]
          },
          "metadata": {
            "tags": []
          },
          "execution_count": 20
        }
      ]
    },
    {
      "cell_type": "markdown",
      "metadata": {
        "id": "xE8wfesfXbf9",
        "colab_type": "text"
      },
      "source": [
        "### Variable assignment\n",
        "\n",
        "Variable assignment in Python is as simple as:\n",
        "\n",
        "```\n",
        "name = value\n",
        "```\n",
        "\n",
        "Here name is a name given to the variable and value is the stored value in that variable. Variables allow us provide such names to values and reuse them on the go without coding the value in the begining.\n",
        "\n",
        "***Note:*** Python is Case Sensitive. This means X and x are considered different names. Alo this means that you must always be careful of the case in which you are typing the code.\n",
        "\n",
        "Variable assignment can also include an operation instead of a simple value."
      ]
    },
    {
      "cell_type": "code",
      "metadata": {
        "id": "dN2lO7Dd14yT",
        "colab_type": "code",
        "outputId": "ceb64af2-09c6-42a6-aa92-0a55449195f7",
        "colab": {
          "base_uri": "https://localhost:8080/",
          "height": 34
        }
      },
      "source": [
        "x = 1\n",
        "x"
      ],
      "execution_count": 0,
      "outputs": [
        {
          "output_type": "execute_result",
          "data": {
            "text/plain": [
              "1"
            ]
          },
          "metadata": {
            "tags": []
          },
          "execution_count": 26
        }
      ]
    },
    {
      "cell_type": "code",
      "metadata": {
        "id": "KlAl4oM2XTRE",
        "colab_type": "code",
        "outputId": "3dd4a48e-997c-4002-d4e5-c60468215022",
        "colab": {
          "base_uri": "https://localhost:8080/",
          "height": 51
        }
      },
      "source": [
        "x = 1 + 3\n",
        "print(x)\n",
        "x"
      ],
      "execution_count": 0,
      "outputs": [
        {
          "output_type": "stream",
          "text": [
            "4\n"
          ],
          "name": "stdout"
        },
        {
          "output_type": "execute_result",
          "data": {
            "text/plain": [
              "4"
            ]
          },
          "metadata": {
            "tags": []
          },
          "execution_count": 24
        }
      ]
    },
    {
      "cell_type": "markdown",
      "metadata": {
        "id": "UWyRZ12sYY2K",
        "colab_type": "text"
      },
      "source": [
        "Variables can be used as a part of other variable creations"
      ]
    },
    {
      "cell_type": "code",
      "metadata": {
        "id": "WZXhSjcdYUJU",
        "colab_type": "code",
        "outputId": "65dca926-7298-4c92-8c7e-919bb90bf2d9",
        "colab": {
          "base_uri": "https://localhost:8080/",
          "height": 34
        }
      },
      "source": [
        "y = x + 3\n",
        "y"
      ],
      "execution_count": 0,
      "outputs": [
        {
          "output_type": "execute_result",
          "data": {
            "text/plain": [
              "4"
            ]
          },
          "metadata": {
            "tags": []
          },
          "execution_count": 31
        }
      ]
    },
    {
      "cell_type": "code",
      "metadata": {
        "id": "zprMWBZwYeUm",
        "colab_type": "code",
        "outputId": "af24a6ed-b670-48e2-d359-1cd4b8b562bc",
        "colab": {
          "base_uri": "https://localhost:8080/",
          "height": 34
        }
      },
      "source": [
        "x + y"
      ],
      "execution_count": 0,
      "outputs": [
        {
          "output_type": "execute_result",
          "data": {
            "text/plain": [
              "5"
            ]
          },
          "metadata": {
            "tags": []
          },
          "execution_count": 28
        }
      ]
    },
    {
      "cell_type": "code",
      "metadata": {
        "id": "h6bFVoyk5q0L",
        "colab_type": "code",
        "outputId": "1a553435-536e-4c03-fa0f-30ee85e7aa52",
        "colab": {
          "base_uri": "https://localhost:8080/",
          "height": 163
        }
      },
      "source": [
        "X"
      ],
      "execution_count": 0,
      "outputs": [
        {
          "output_type": "error",
          "ename": "NameError",
          "evalue": "ignored",
          "traceback": [
            "\u001b[0;31m---------------------------------------------------------------------------\u001b[0m",
            "\u001b[0;31mNameError\u001b[0m                                 Traceback (most recent call last)",
            "\u001b[0;32m<ipython-input-29-b5fec669aca1>\u001b[0m in \u001b[0;36m<module>\u001b[0;34m()\u001b[0m\n\u001b[0;32m----> 1\u001b[0;31m \u001b[0mX\u001b[0m\u001b[0;34m\u001b[0m\u001b[0;34m\u001b[0m\u001b[0m\n\u001b[0m",
            "\u001b[0;31mNameError\u001b[0m: name 'X' is not defined"
          ]
        }
      ]
    },
    {
      "cell_type": "code",
      "metadata": {
        "id": "Y0mM2Lsx5qts",
        "colab_type": "code",
        "colab": {}
      },
      "source": [
        ""
      ],
      "execution_count": 0,
      "outputs": []
    },
    {
      "cell_type": "markdown",
      "metadata": {
        "id": "vFIXign-YjEn",
        "colab_type": "text"
      },
      "source": [
        "### String operations"
      ]
    },
    {
      "cell_type": "code",
      "metadata": {
        "id": "2bgLBhl7Yg-w",
        "colab_type": "code",
        "outputId": "1640536b-d290-4c98-824c-fa3f16587c23",
        "colab": {
          "base_uri": "https://localhost:8080/",
          "height": 51
        }
      },
      "source": [
        "a = \"Hello World!\"\n",
        "print(a)\n",
        "a"
      ],
      "execution_count": 0,
      "outputs": [
        {
          "output_type": "stream",
          "text": [
            "Hello World!\n"
          ],
          "name": "stdout"
        },
        {
          "output_type": "execute_result",
          "data": {
            "text/plain": [
              "'Hello World!'"
            ]
          },
          "metadata": {
            "tags": []
          },
          "execution_count": 34
        }
      ]
    },
    {
      "cell_type": "code",
      "metadata": {
        "id": "t9mNsRC_YxFo",
        "colab_type": "code",
        "outputId": "9572ec03-3118-4a87-e891-ac8a6007060d",
        "colab": {
          "base_uri": "https://localhost:8080/",
          "height": 34
        }
      },
      "source": [
        "len(a)  # len is short for length"
      ],
      "execution_count": 0,
      "outputs": [
        {
          "output_type": "execute_result",
          "data": {
            "text/plain": [
              "12"
            ]
          },
          "metadata": {
            "tags": []
          },
          "execution_count": 37
        }
      ]
    },
    {
      "cell_type": "code",
      "metadata": {
        "id": "xH_zMRj86Hoh",
        "colab_type": "code",
        "outputId": "5884a6b3-8898-47f0-996a-d1c1879439bb",
        "colab": {
          "base_uri": "https://localhost:8080/",
          "height": 34
        }
      },
      "source": [
        "len(\"Hello World!!\")"
      ],
      "execution_count": 0,
      "outputs": [
        {
          "output_type": "execute_result",
          "data": {
            "text/plain": [
              "13"
            ]
          },
          "metadata": {
            "tags": []
          },
          "execution_count": 38
        }
      ]
    },
    {
      "cell_type": "code",
      "metadata": {
        "id": "8A_VKfCy4TqQ",
        "colab_type": "code",
        "outputId": "2ae73235-224d-4b12-bee4-bd5fcfdb0eeb",
        "colab": {
          "base_uri": "https://localhost:8080/",
          "height": 34
        }
      },
      "source": [
        "a.lower()"
      ],
      "execution_count": 0,
      "outputs": [
        {
          "output_type": "execute_result",
          "data": {
            "text/plain": [
              "'hello world!'"
            ]
          },
          "metadata": {
            "tags": []
          },
          "execution_count": 39
        }
      ]
    },
    {
      "cell_type": "code",
      "metadata": {
        "id": "J-TH7ePlY2Sn",
        "colab_type": "code",
        "outputId": "efd1ea61-9e02-436b-f273-b4223939db1a",
        "colab": {
          "base_uri": "https://localhost:8080/",
          "height": 34
        }
      },
      "source": [
        "a.upper()"
      ],
      "execution_count": 0,
      "outputs": [
        {
          "output_type": "execute_result",
          "data": {
            "text/plain": [
              "'HELLO WORLD!'"
            ]
          },
          "metadata": {
            "tags": []
          },
          "execution_count": 40
        }
      ]
    },
    {
      "cell_type": "code",
      "metadata": {
        "id": "FmN0Ylry4f2f",
        "colab_type": "code",
        "outputId": "99eb8877-b52d-4c0e-d380-21489321874a",
        "colab": {
          "base_uri": "https://localhost:8080/",
          "height": 34
        }
      },
      "source": [
        "a.capitalize()"
      ],
      "execution_count": 0,
      "outputs": [
        {
          "output_type": "execute_result",
          "data": {
            "text/plain": [
              "'Hello world!'"
            ]
          },
          "metadata": {
            "tags": []
          },
          "execution_count": 41
        }
      ]
    },
    {
      "cell_type": "code",
      "metadata": {
        "id": "ugc1_W0g6aEQ",
        "colab_type": "code",
        "outputId": "24c2894e-2562-46aa-cb87-75d5cb8f16ed",
        "colab": {
          "base_uri": "https://localhost:8080/",
          "height": 34
        }
      },
      "source": [
        "\"Hello World! I hope you are liking Python. Python is a beautiful language\".capitalize()"
      ],
      "execution_count": 0,
      "outputs": [
        {
          "output_type": "execute_result",
          "data": {
            "text/plain": [
              "'Hello world! i hope you are liking python. python is a beautiful language'"
            ]
          },
          "metadata": {
            "tags": []
          },
          "execution_count": 42
        }
      ]
    },
    {
      "cell_type": "code",
      "metadata": {
        "id": "VXDv5kLjY4AH",
        "colab_type": "code",
        "outputId": "8e1fa1ef-fcd5-4e3a-d429-44d6443e3f57",
        "colab": {
          "base_uri": "https://localhost:8080/",
          "height": 34
        }
      },
      "source": [
        "a.replace('Hel', 'Ja')"
      ],
      "execution_count": 0,
      "outputs": [
        {
          "output_type": "execute_result",
          "data": {
            "text/plain": [
              "'Jalo World!'"
            ]
          },
          "metadata": {
            "tags": []
          },
          "execution_count": 43
        }
      ]
    },
    {
      "cell_type": "code",
      "metadata": {
        "id": "i2vQat_cY9sM",
        "colab_type": "code",
        "outputId": "9121709f-9e9e-4382-a124-ba2cc72bda27",
        "colab": {
          "base_uri": "https://localhost:8080/",
          "height": 34
        }
      },
      "source": [
        "a.replace('!', '')"
      ],
      "execution_count": 0,
      "outputs": [
        {
          "output_type": "execute_result",
          "data": {
            "text/plain": [
              "'Hello World'"
            ]
          },
          "metadata": {
            "tags": []
          },
          "execution_count": 44
        }
      ]
    },
    {
      "cell_type": "code",
      "metadata": {
        "id": "p7OV7xU9ZC0E",
        "colab_type": "code",
        "outputId": "09a9f53f-2f92-4bcb-fd38-2efcc58fdab3",
        "colab": {
          "base_uri": "https://localhost:8080/",
          "height": 34
        }
      },
      "source": [
        "a.split()"
      ],
      "execution_count": 0,
      "outputs": [
        {
          "output_type": "execute_result",
          "data": {
            "text/plain": [
              "['Hello', 'World!']"
            ]
          },
          "metadata": {
            "tags": []
          },
          "execution_count": 45
        }
      ]
    },
    {
      "cell_type": "code",
      "metadata": {
        "id": "AiR32ZfJZFf6",
        "colab_type": "code",
        "outputId": "ad51bdf4-fccf-48b8-a7f1-cf79ad2d45d7",
        "colab": {
          "base_uri": "https://localhost:8080/",
          "height": 68
        }
      },
      "source": [
        "b = a.split('l')\n",
        "print(b)\n",
        "print(a)\n",
        "a = a.capitalize()\n",
        "print(a)"
      ],
      "execution_count": 0,
      "outputs": [
        {
          "output_type": "stream",
          "text": [
            "['He', '', 'o Wor', 'd!']\n",
            "Hello World!\n",
            "Hello world!\n"
          ],
          "name": "stdout"
        }
      ]
    },
    {
      "cell_type": "code",
      "metadata": {
        "id": "T06kFgjvZHtt",
        "colab_type": "code",
        "outputId": "dfdb0f1a-0873-4c13-87ad-edf4c4c264d9",
        "colab": {
          "base_uri": "https://localhost:8080/",
          "height": 51
        }
      },
      "source": [
        "b = input()\n",
        "b"
      ],
      "execution_count": 0,
      "outputs": [
        {
          "output_type": "stream",
          "text": [
            "A string Here!\n"
          ],
          "name": "stdout"
        },
        {
          "output_type": "execute_result",
          "data": {
            "text/plain": [
              "'A string Here!'"
            ]
          },
          "metadata": {
            "tags": []
          },
          "execution_count": 48
        }
      ]
    },
    {
      "cell_type": "code",
      "metadata": {
        "id": "LpDEk5qsZKjd",
        "colab_type": "code",
        "outputId": "0b92890f-e792-4ca3-8d18-7e7c078a236d",
        "colab": {
          "base_uri": "https://localhost:8080/",
          "height": 51
        }
      },
      "source": [
        "c = input('Please enter your name:')\n",
        "print('Welcome', c, '!')"
      ],
      "execution_count": 0,
      "outputs": [
        {
          "output_type": "stream",
          "text": [
            "Please enter your name:Gagan\n",
            "Welcome Gagan !\n"
          ],
          "name": "stdout"
        }
      ]
    },
    {
      "cell_type": "code",
      "metadata": {
        "id": "jlc3yJWtZY_q",
        "colab_type": "code",
        "outputId": "29319ff7-fc25-4041-f8e0-cc4484f6ed6c",
        "colab": {
          "base_uri": "https://localhost:8080/",
          "height": 34
        }
      },
      "source": [
        "'Welcome {}!'.format(c)"
      ],
      "execution_count": 0,
      "outputs": [
        {
          "output_type": "execute_result",
          "data": {
            "text/plain": [
              "'Welcome Gagan!'"
            ]
          },
          "metadata": {
            "tags": []
          },
          "execution_count": 50
        }
      ]
    },
    {
      "cell_type": "code",
      "metadata": {
        "id": "N4GHnTW8aimZ",
        "colab_type": "code",
        "outputId": "c665fd7c-17ac-4dd7-f5a3-adce1f540cfa",
        "colab": {
          "base_uri": "https://localhost:8080/",
          "height": 51
        }
      },
      "source": [
        "d = '{} is an amazing language!'\n",
        "print(d)\n",
        "d.format('Python')"
      ],
      "execution_count": 0,
      "outputs": [
        {
          "output_type": "stream",
          "text": [
            "{} is an amazing language!\n"
          ],
          "name": "stdout"
        },
        {
          "output_type": "execute_result",
          "data": {
            "text/plain": [
              "'Python is an amazing language!'"
            ]
          },
          "metadata": {
            "tags": []
          },
          "execution_count": 51
        }
      ]
    },
    {
      "cell_type": "code",
      "metadata": {
        "id": "dnsq7u8dauNk",
        "colab_type": "code",
        "outputId": "e49fcdbc-dfbf-4a4e-bcd9-1ad13e59b5f5",
        "colab": {
          "base_uri": "https://localhost:8080/",
          "height": 34
        }
      },
      "source": [
        "d"
      ],
      "execution_count": 0,
      "outputs": [
        {
          "output_type": "execute_result",
          "data": {
            "text/plain": [
              "'{} is an amazing language!'"
            ]
          },
          "metadata": {
            "tags": []
          },
          "execution_count": 52
        }
      ]
    },
    {
      "cell_type": "code",
      "metadata": {
        "id": "BI5G69bmavLU",
        "colab_type": "code",
        "outputId": "54e69701-880f-4109-a077-a3da5e114f15",
        "colab": {
          "base_uri": "https://localhost:8080/",
          "height": 34
        }
      },
      "source": [
        "'{} is an {} language!'.format('Python', 'amazing')"
      ],
      "execution_count": 0,
      "outputs": [
        {
          "output_type": "execute_result",
          "data": {
            "text/plain": [
              "'Python is an amazing language!'"
            ]
          },
          "metadata": {
            "tags": []
          },
          "execution_count": 53
        }
      ]
    },
    {
      "cell_type": "code",
      "metadata": {
        "id": "VHr0Feqk31fE",
        "colab_type": "code",
        "outputId": "c1d9b383-f285-4ae2-a39b-e42660620f45",
        "colab": {
          "base_uri": "https://localhost:8080/",
          "height": 34
        }
      },
      "source": [
        "'{} is a great language!'.format('Python', 'amazing')"
      ],
      "execution_count": 0,
      "outputs": [
        {
          "output_type": "execute_result",
          "data": {
            "text/plain": [
              "'Python is a great language!'"
            ]
          },
          "metadata": {
            "tags": []
          },
          "execution_count": 55
        }
      ]
    },
    {
      "cell_type": "code",
      "metadata": {
        "id": "CFrgGQCxa4CI",
        "colab_type": "code",
        "outputId": "e3de7b67-929d-4be1-9327-0a9d6b9c6c8d",
        "colab": {
          "base_uri": "https://localhost:8080/",
          "height": 34
        }
      },
      "source": [
        "'I rate {} as {} out of 5.'.format('Python', 5)"
      ],
      "execution_count": 0,
      "outputs": [
        {
          "output_type": "execute_result",
          "data": {
            "text/plain": [
              "'I rate Python as 5 out of 5.'"
            ]
          },
          "metadata": {
            "tags": []
          },
          "execution_count": 56
        }
      ]
    },
    {
      "cell_type": "code",
      "metadata": {
        "id": "BU9zWYKza_sL",
        "colab_type": "code",
        "outputId": "6337e0b9-01e5-49f9-c5c8-49ade15ac69c",
        "colab": {
          "base_uri": "https://localhost:8080/",
          "height": 34
        }
      },
      "source": [
        "'I rate {language} as {rating} out of 5.'.format(rating=5, language='Python')"
      ],
      "execution_count": 0,
      "outputs": [
        {
          "output_type": "execute_result",
          "data": {
            "text/plain": [
              "'I rate Python as 5 out of 5.'"
            ]
          },
          "metadata": {
            "tags": []
          },
          "execution_count": 58
        }
      ]
    },
    {
      "cell_type": "code",
      "metadata": {
        "id": "zNvyt9fqbHyX",
        "colab_type": "code",
        "outputId": "2c9bb0fa-a68b-4871-cea8-8ac54e15d5b9",
        "colab": {
          "base_uri": "https://localhost:8080/",
          "height": 34
        }
      },
      "source": [
        "'I rate {1} as {0} out of 5.'.format(5, 'Python')"
      ],
      "execution_count": 0,
      "outputs": [
        {
          "output_type": "execute_result",
          "data": {
            "text/plain": [
              "'I rate Python as 5 out of 5.'"
            ]
          },
          "metadata": {
            "tags": []
          },
          "execution_count": 57
        }
      ]
    },
    {
      "cell_type": "code",
      "metadata": {
        "id": "qemrIY79bPPj",
        "colab_type": "code",
        "outputId": "8a335442-5652-44e4-bc66-6e3ad62c975b",
        "colab": {
          "base_uri": "https://localhost:8080/",
          "height": 34
        }
      },
      "source": [
        "'I rate {1} as {0} out of 5. I love {1}'.format(5, 'Python')"
      ],
      "execution_count": 0,
      "outputs": [
        {
          "output_type": "execute_result",
          "data": {
            "text/plain": [
              "'I rate Python as 5 out of 5. I love Python'"
            ]
          },
          "metadata": {
            "tags": []
          },
          "execution_count": 59
        }
      ]
    },
    {
      "cell_type": "code",
      "metadata": {
        "id": "ueVhnh3mbWO7",
        "colab_type": "code",
        "outputId": "dc69f1b9-884c-4afe-c42f-1da0cd3b5564",
        "colab": {
          "base_uri": "https://localhost:8080/",
          "height": 34
        }
      },
      "source": [
        "'I rate {language} as {} out of 5. I love {language}'.format(5, language='Python')"
      ],
      "execution_count": 0,
      "outputs": [
        {
          "output_type": "execute_result",
          "data": {
            "text/plain": [
              "'I rate Python as 5 out of 5. I love Python'"
            ]
          },
          "metadata": {
            "tags": []
          },
          "execution_count": 60
        }
      ]
    },
    {
      "cell_type": "code",
      "metadata": {
        "id": "Hg36IyuRbd15",
        "colab_type": "code",
        "outputId": "e7908edb-bdb2-4f45-e69c-278c429cebb1",
        "colab": {
          "base_uri": "https://localhost:8080/",
          "height": 34
        }
      },
      "source": [
        "print(\"I ate {0:f} percent of a {1}!\".format(75, \"salad\"))"
      ],
      "execution_count": 0,
      "outputs": [
        {
          "output_type": "stream",
          "text": [
            "I ate 75.000000 percent of a salad!\n"
          ],
          "name": "stdout"
        }
      ]
    },
    {
      "cell_type": "code",
      "metadata": {
        "id": "yrIwoEqg4zMg",
        "colab_type": "code",
        "outputId": "70ff6e1e-3b53-406f-fc88-f34dc61b09c8",
        "colab": {
          "base_uri": "https://localhost:8080/",
          "height": 34
        }
      },
      "source": [
        "5/7*100"
      ],
      "execution_count": 0,
      "outputs": [
        {
          "output_type": "execute_result",
          "data": {
            "text/plain": [
              "71.42857142857143"
            ]
          },
          "metadata": {
            "tags": []
          },
          "execution_count": 63
        }
      ]
    },
    {
      "cell_type": "code",
      "metadata": {
        "id": "NFYurXaMbkz7",
        "colab_type": "code",
        "outputId": "c965c48e-aa8a-4b66-b986-e3ea30acbc49",
        "colab": {
          "base_uri": "https://localhost:8080/",
          "height": 34
        }
      },
      "source": [
        "print(\"I ate {0:.3f}% of a salad!\".format(5/7*100))"
      ],
      "execution_count": 0,
      "outputs": [
        {
          "output_type": "stream",
          "text": [
            "I ate 71.429% of a salad!\n"
          ],
          "name": "stdout"
        }
      ]
    },
    {
      "cell_type": "code",
      "metadata": {
        "id": "nsHltgNRbqD2",
        "colab_type": "code",
        "outputId": "c0b34194-fa55-48d6-f633-982251702708",
        "colab": {
          "base_uri": "https://localhost:8080/",
          "height": 85
        }
      },
      "source": [
        "print(\"I ate {:07.3f}% of a {}!\".format(75.765367, 'Salad'))\n",
        "print(\"I ate {:7.3f}% of a {}!\".format(75.765367, 'Salad'))\n",
        "print(\"I ate {:07.3f}% of a {}!\".format(175.7367, 'Something Else'))\n",
        "print(\"I ate {:7.3f}% of a {}!\".format(75.7367, 'Another thing'))"
      ],
      "execution_count": 0,
      "outputs": [
        {
          "output_type": "stream",
          "text": [
            "I ate 075.765% of a Salad!\n",
            "I ate  75.765% of a Salad!\n",
            "I ate 175.737% of a Something Else!\n",
            "I ate  75.737% of a Another thing!\n"
          ],
          "name": "stdout"
        }
      ]
    },
    {
      "cell_type": "code",
      "metadata": {
        "id": "xW6tpjuMb4nb",
        "colab_type": "code",
        "outputId": "c093576f-8e47-4a45-c1eb-158977e53178",
        "colab": {
          "base_uri": "https://localhost:8080/",
          "height": 34
        }
      },
      "source": [
        "print(\"I ate {:03.0f}% of a {}!\".format(75.765367, 'Salad'))"
      ],
      "execution_count": 0,
      "outputs": [
        {
          "output_type": "stream",
          "text": [
            "I ate 076% of a Salad!\n"
          ],
          "name": "stdout"
        }
      ]
    },
    {
      "cell_type": "code",
      "metadata": {
        "id": "J31GvRDWcUq-",
        "colab_type": "code",
        "outputId": "39003d1c-ac42-43ab-dc56-5dd9619e06a0",
        "colab": {
          "base_uri": "https://localhost:8080/",
          "height": 34
        }
      },
      "source": [
        "print(\"I have {0:4} amazing {1:16}!\".format(1, \"computer\"))"
      ],
      "execution_count": 0,
      "outputs": [
        {
          "output_type": "stream",
          "text": [
            "I have    1 amazing computer        !\n"
          ],
          "name": "stdout"
        }
      ]
    },
    {
      "cell_type": "code",
      "metadata": {
        "id": "R9yjGeq49ETY",
        "colab_type": "code",
        "outputId": "552830a3-add3-4293-ca69-8950d1e97387",
        "colab": {
          "base_uri": "https://localhost:8080/",
          "height": 68
        }
      },
      "source": [
        "print('{} is less than {}'.format(1, 2))\n",
        "print('{:02} is less than {:2}'.format(1, 2))\n",
        "print('10 is less than 20')"
      ],
      "execution_count": 0,
      "outputs": [
        {
          "output_type": "stream",
          "text": [
            "1 is less than 2\n",
            "01 is less than  2\n",
            "10 is less than 20\n"
          ],
          "name": "stdout"
        }
      ]
    },
    {
      "cell_type": "code",
      "metadata": {
        "id": "qsqEpT7Zcov7",
        "colab_type": "code",
        "outputId": "f91e32bf-fb85-4aa1-fb3a-0c99bcc680da",
        "colab": {
          "base_uri": "https://localhost:8080/",
          "height": 34
        }
      },
      "source": [
        "print(\"{2:>7} have {0:<4} amazing {1:^16}!\".format(1, \"computer\", 'I'))"
      ],
      "execution_count": 0,
      "outputs": [
        {
          "output_type": "stream",
          "text": [
            "      I have 1    amazing     computer    !\n"
          ],
          "name": "stdout"
        }
      ]
    },
    {
      "cell_type": "code",
      "metadata": {
        "id": "iCweI0LM6l6n",
        "colab_type": "code",
        "outputId": "a4646c41-d6d7-4fb1-b8a3-445f8bf7610d",
        "colab": {
          "base_uri": "https://localhost:8080/",
          "height": 68
        }
      },
      "source": [
        "print(\"I can't do this\")\n",
        "print('I can\\'t do this')\n",
        "print('I can\\\\t do this')"
      ],
      "execution_count": 0,
      "outputs": [
        {
          "output_type": "stream",
          "text": [
            "I can't do this\n",
            "I can't do this\n",
            "I can\\t do this\n"
          ],
          "name": "stdout"
        }
      ]
    },
    {
      "cell_type": "markdown",
      "metadata": {
        "id": "GvjZWNiddaYC",
        "colab_type": "text"
      },
      "source": [
        "## Python Data Types and Structures\n",
        "\n",
        "Python has various data types and data structures."
      ]
    },
    {
      "cell_type": "markdown",
      "metadata": {
        "id": "7oQgY6DshpZY",
        "colab_type": "text"
      },
      "source": [
        "### Data Types\n",
        "\n",
        "- Integers\n",
        "  - Binary\n",
        "  - Octal\n",
        "  - Hexadecimal\n",
        "  - Decimal\n",
        "- Floating Point (Floats)\n",
        "  - Exponent\n",
        "  - Infinite\n",
        "- Complex Numbers\n",
        "- Strings\n",
        "  - Escape characters\n",
        "    - \\'\n",
        "    - \\\"\n",
        "    - \\\\\n",
        "    - \\n\n",
        "    - \\t\n",
        "    - \\a\n",
        "    - \\b\n",
        "    - \\f\n",
        "    - \\N{name}\n",
        "    - \\r\n",
        "    - \\uxxxx\n",
        "    - \\Uxxxxxxxx\n",
        "    - \\v\n",
        "    - \\ooo\n",
        "    - \\xhh\n",
        "- Boolean (Bool)"
      ]
    },
    {
      "cell_type": "code",
      "metadata": {
        "id": "T6vhLVvgdKwk",
        "colab_type": "code",
        "outputId": "83095e8e-1518-48e1-d305-b3babfd2d46d",
        "colab": {
          "base_uri": "https://localhost:8080/",
          "height": 34
        }
      },
      "source": [
        "1  # Decimal"
      ],
      "execution_count": 0,
      "outputs": [
        {
          "output_type": "execute_result",
          "data": {
            "text/plain": [
              "1"
            ]
          },
          "metadata": {
            "tags": []
          },
          "execution_count": 82
        }
      ]
    },
    {
      "cell_type": "code",
      "metadata": {
        "id": "9QTGFj43fnyk",
        "colab_type": "code",
        "outputId": "fd7beb42-dc70-4f85-ac3f-86e916d911c4",
        "colab": {
          "base_uri": "https://localhost:8080/",
          "height": 34
        }
      },
      "source": [
        "0b10  # Binary"
      ],
      "execution_count": 0,
      "outputs": [
        {
          "output_type": "execute_result",
          "data": {
            "text/plain": [
              "2"
            ]
          },
          "metadata": {
            "tags": []
          },
          "execution_count": 83
        }
      ]
    },
    {
      "cell_type": "code",
      "metadata": {
        "id": "8gXR_I_gfqI_",
        "colab_type": "code",
        "outputId": "5694a3bb-0a12-4304-e19a-5db106dbe565",
        "colab": {
          "base_uri": "https://localhost:8080/",
          "height": 34
        }
      },
      "source": [
        "0x10  # Hexadecimal"
      ],
      "execution_count": 0,
      "outputs": [
        {
          "output_type": "execute_result",
          "data": {
            "text/plain": [
              "16"
            ]
          },
          "metadata": {
            "tags": []
          },
          "execution_count": 84
        }
      ]
    },
    {
      "cell_type": "code",
      "metadata": {
        "id": "ulMwEa7vfsVE",
        "colab_type": "code",
        "outputId": "82004a31-9abf-4761-d0a4-31a44641c015",
        "colab": {
          "base_uri": "https://localhost:8080/",
          "height": 34
        }
      },
      "source": [
        "0o10  # Octal"
      ],
      "execution_count": 0,
      "outputs": [
        {
          "output_type": "execute_result",
          "data": {
            "text/plain": [
              "8"
            ]
          },
          "metadata": {
            "tags": []
          },
          "execution_count": 85
        }
      ]
    },
    {
      "cell_type": "code",
      "metadata": {
        "id": "KYALTSgzfyD6",
        "colab_type": "code",
        "outputId": "ab5cd37f-3aee-4e6e-9526-bc2ac3d802d4",
        "colab": {
          "base_uri": "https://localhost:8080/",
          "height": 34
        }
      },
      "source": [
        "1.234"
      ],
      "execution_count": 0,
      "outputs": [
        {
          "output_type": "execute_result",
          "data": {
            "text/plain": [
              "1.234"
            ]
          },
          "metadata": {
            "tags": []
          },
          "execution_count": 86
        }
      ]
    },
    {
      "cell_type": "code",
      "metadata": {
        "id": "K5v5XRc9f73y",
        "colab_type": "code",
        "outputId": "144f5d70-16f0-4d0f-e73d-10fb3808ace4",
        "colab": {
          "base_uri": "https://localhost:8080/",
          "height": 34
        }
      },
      "source": [
        "1.2e2  # 1.2 * 10**2"
      ],
      "execution_count": 0,
      "outputs": [
        {
          "output_type": "execute_result",
          "data": {
            "text/plain": [
              "120.0"
            ]
          },
          "metadata": {
            "tags": []
          },
          "execution_count": 87
        }
      ]
    },
    {
      "cell_type": "code",
      "metadata": {
        "id": "qGdIvAQ-f9Z6",
        "colab_type": "code",
        "outputId": "e134ba06-20a4-405d-dc02-891ac7f609ac",
        "colab": {
          "base_uri": "https://localhost:8080/",
          "height": 34
        }
      },
      "source": [
        "1.4536e-2  # 1.4536 * 10**-2"
      ],
      "execution_count": 0,
      "outputs": [
        {
          "output_type": "execute_result",
          "data": {
            "text/plain": [
              "0.014536"
            ]
          },
          "metadata": {
            "tags": []
          },
          "execution_count": 88
        }
      ]
    },
    {
      "cell_type": "code",
      "metadata": {
        "id": "1zsq7dbDf_A5",
        "colab_type": "code",
        "outputId": "3bed0984-21bf-4370-83ca-ea9a02880654",
        "colab": {
          "base_uri": "https://localhost:8080/",
          "height": 34
        }
      },
      "source": [
        "1.79e308"
      ],
      "execution_count": 0,
      "outputs": [
        {
          "output_type": "execute_result",
          "data": {
            "text/plain": [
              "1.79e+308"
            ]
          },
          "metadata": {
            "tags": []
          },
          "execution_count": 95
        }
      ]
    },
    {
      "cell_type": "code",
      "metadata": {
        "id": "SsXwnNXfgCuX",
        "colab_type": "code",
        "outputId": "9a0c4813-a47a-49f2-8642-7580608c2404",
        "colab": {
          "base_uri": "https://localhost:8080/",
          "height": 34
        }
      },
      "source": [
        "-1.79e308"
      ],
      "execution_count": 0,
      "outputs": [
        {
          "output_type": "execute_result",
          "data": {
            "text/plain": [
              "-1.79e+308"
            ]
          },
          "metadata": {
            "tags": []
          },
          "execution_count": 93
        }
      ]
    },
    {
      "cell_type": "code",
      "metadata": {
        "id": "hiy7kHlOgDkt",
        "colab_type": "code",
        "outputId": "ea21deab-d15e-458a-dac6-81c0c17fe46b",
        "colab": {
          "base_uri": "https://localhost:8080/",
          "height": 34
        }
      },
      "source": [
        "5e-324"
      ],
      "execution_count": 0,
      "outputs": [
        {
          "output_type": "execute_result",
          "data": {
            "text/plain": [
              "5e-324"
            ]
          },
          "metadata": {
            "tags": []
          },
          "execution_count": 96
        }
      ]
    },
    {
      "cell_type": "code",
      "metadata": {
        "id": "ZAPSfRSPgKYn",
        "colab_type": "code",
        "outputId": "ade7c6a0-8d55-42d7-c3ae-b452f666e7c3",
        "colab": {
          "base_uri": "https://localhost:8080/",
          "height": 34
        }
      },
      "source": [
        "1e-325"
      ],
      "execution_count": 0,
      "outputs": [
        {
          "output_type": "execute_result",
          "data": {
            "text/plain": [
              "0.0"
            ]
          },
          "metadata": {
            "tags": []
          },
          "execution_count": 97
        }
      ]
    },
    {
      "cell_type": "code",
      "metadata": {
        "id": "PEAj6F-6gLXW",
        "colab_type": "code",
        "outputId": "dfc102b0-9fc5-419f-a31b-57f7c3c0c8f3",
        "colab": {
          "base_uri": "https://localhost:8080/",
          "height": 34
        }
      },
      "source": [
        "2 + 3j"
      ],
      "execution_count": 0,
      "outputs": [
        {
          "output_type": "execute_result",
          "data": {
            "text/plain": [
              "(2+3j)"
            ]
          },
          "metadata": {
            "tags": []
          },
          "execution_count": 98
        }
      ]
    },
    {
      "cell_type": "code",
      "metadata": {
        "id": "wPfY4jmEgQt2",
        "colab_type": "code",
        "outputId": "9c4c7941-2f69-47b7-bd4a-95b715e25775",
        "colab": {
          "base_uri": "https://localhost:8080/",
          "height": 34
        }
      },
      "source": [
        "'This is a string'"
      ],
      "execution_count": 0,
      "outputs": [
        {
          "output_type": "execute_result",
          "data": {
            "text/plain": [
              "'This is a string'"
            ]
          },
          "metadata": {
            "tags": []
          },
          "execution_count": 99
        }
      ]
    },
    {
      "cell_type": "code",
      "metadata": {
        "id": "MSus1PwhgUIr",
        "colab_type": "code",
        "outputId": "15107e58-3cd2-482a-d698-b3cf70359f6d",
        "colab": {
          "base_uri": "https://localhost:8080/",
          "height": 34
        }
      },
      "source": [
        "'this is a single quote \\''"
      ],
      "execution_count": 0,
      "outputs": [
        {
          "output_type": "execute_result",
          "data": {
            "text/plain": [
              "\"this is a single quote '\""
            ]
          },
          "metadata": {
            "tags": []
          },
          "execution_count": 100
        }
      ]
    },
    {
      "cell_type": "code",
      "metadata": {
        "id": "dm18DOrIgaeX",
        "colab_type": "code",
        "outputId": "2f767b87-9be9-41fd-fabb-389d3059b6c9",
        "colab": {
          "base_uri": "https://localhost:8080/",
          "height": 34
        }
      },
      "source": [
        "'this is a double quote \\\"'"
      ],
      "execution_count": 0,
      "outputs": [
        {
          "output_type": "execute_result",
          "data": {
            "text/plain": [
              "'this is a double quote \"'"
            ]
          },
          "metadata": {
            "tags": []
          },
          "execution_count": 101
        }
      ]
    },
    {
      "cell_type": "code",
      "metadata": {
        "id": "6yvdGT1NgfHr",
        "colab_type": "code",
        "outputId": "de93ce76-deea-4d18-d612-af169ef8781d",
        "colab": {
          "base_uri": "https://localhost:8080/",
          "height": 68
        }
      },
      "source": [
        "print('I can separate this\\ninto 2 lines')\n",
        "'I can separate this\\ninto 2 lines'"
      ],
      "execution_count": 0,
      "outputs": [
        {
          "output_type": "stream",
          "text": [
            "I can separate this\n",
            "into 2 lines\n"
          ],
          "name": "stdout"
        },
        {
          "output_type": "execute_result",
          "data": {
            "text/plain": [
              "'I can separate this\\ninto 2 lines'"
            ]
          },
          "metadata": {
            "tags": []
          },
          "execution_count": 102
        }
      ]
    },
    {
      "cell_type": "code",
      "metadata": {
        "id": "xAtKAD5Egiwz",
        "colab_type": "code",
        "outputId": "5844ebf8-43ec-4353-801c-ff70ed3246d3",
        "colab": {
          "base_uri": "https://localhost:8080/",
          "height": 34
        }
      },
      "source": [
        "print('What if I want a backlash \\\\')"
      ],
      "execution_count": 0,
      "outputs": [
        {
          "output_type": "stream",
          "text": [
            "What if I want a backlash \\\n"
          ],
          "name": "stdout"
        }
      ]
    },
    {
      "cell_type": "code",
      "metadata": {
        "id": "rCnC-O6SgqlU",
        "colab_type": "code",
        "outputId": "101a392f-0a46-415d-fb89-4268ce0284d9",
        "colab": {
          "base_uri": "https://localhost:8080/",
          "height": 68
        }
      },
      "source": [
        "print('One\\tTwo\\tThree')\n",
        "print('Three\\tFour\\tFive')\n",
        "print('Two Hundred\\tTens')"
      ],
      "execution_count": 0,
      "outputs": [
        {
          "output_type": "stream",
          "text": [
            "One\tTwo\tThree\n",
            "Three\tFour\tFive\n",
            "Two Hundred\tTens\n"
          ],
          "name": "stdout"
        }
      ]
    },
    {
      "cell_type": "code",
      "metadata": {
        "id": "2Fdml5p9gwjx",
        "colab_type": "code",
        "outputId": "49eff349-3021-432e-ce06-f8b10bce2c21",
        "colab": {
          "base_uri": "https://localhost:8080/",
          "height": 34
        }
      },
      "source": [
        "print('Values\\b Like this')"
      ],
      "execution_count": 0,
      "outputs": [
        {
          "output_type": "stream",
          "text": [
            "Values\b Like this\n"
          ],
          "name": "stdout"
        }
      ]
    },
    {
      "cell_type": "code",
      "metadata": {
        "id": "r5LMgLFMg6MI",
        "colab_type": "code",
        "outputId": "f24e4cff-3225-46f2-e6db-0c8fab1356fc",
        "colab": {
          "base_uri": "https://localhost:8080/",
          "height": 34
        }
      },
      "source": [
        "print('\\u2192 \\N{rightwards arrow} \\u3862')  # icon or symbol"
      ],
      "execution_count": 0,
      "outputs": [
        {
          "output_type": "stream",
          "text": [
            "→ → 㡢\n"
          ],
          "name": "stdout"
        }
      ]
    },
    {
      "cell_type": "markdown",
      "metadata": {
        "id": "_ogHqr4zhfwp",
        "colab_type": "text"
      },
      "source": [
        "### Data Structures\n",
        "\n",
        "- Lists\n",
        "- Tuples\n",
        "- Dictionaries"
      ]
    },
    {
      "cell_type": "code",
      "metadata": {
        "id": "aURRY2Buh_cm",
        "colab_type": "code",
        "outputId": "7dca4bbf-96d0-4099-dea1-6c83b9f1e155",
        "colab": {
          "base_uri": "https://localhost:8080/",
          "height": 34
        }
      },
      "source": [
        "lst = [0, 1, 2, 3]\n",
        "lst"
      ],
      "execution_count": 0,
      "outputs": [
        {
          "output_type": "execute_result",
          "data": {
            "text/plain": [
              "[0, 1, 2, 3]"
            ]
          },
          "metadata": {
            "tags": []
          },
          "execution_count": 107
        }
      ]
    },
    {
      "cell_type": "code",
      "metadata": {
        "id": "begy-dByg_V_",
        "colab_type": "code",
        "outputId": "a4f51616-6c36-49ae-b750-9a386bbef4f1",
        "colab": {
          "base_uri": "https://localhost:8080/",
          "height": 34
        }
      },
      "source": [
        "tup = (0, 1, 2, 3)\n",
        "tup"
      ],
      "execution_count": 0,
      "outputs": [
        {
          "output_type": "execute_result",
          "data": {
            "text/plain": [
              "(0, 1, 2, 3)"
            ]
          },
          "metadata": {
            "tags": []
          },
          "execution_count": 108
        }
      ]
    },
    {
      "cell_type": "code",
      "metadata": {
        "id": "p3uyGRvdiBo2",
        "colab_type": "code",
        "outputId": "9a4feaa1-28d8-430e-c36e-19cc481b81ed",
        "colab": {
          "base_uri": "https://localhost:8080/",
          "height": 34
        }
      },
      "source": [
        "dct = {'One': 1, 'Two': 2, 3: 'Three'}\n",
        "dct"
      ],
      "execution_count": 0,
      "outputs": [
        {
          "output_type": "execute_result",
          "data": {
            "text/plain": [
              "{3: 'Three', 'One': 1, 'Two': 2}"
            ]
          },
          "metadata": {
            "tags": []
          },
          "execution_count": 109
        }
      ]
    },
    {
      "cell_type": "markdown",
      "metadata": {
        "id": "bn0DaUlriPvw",
        "colab_type": "text"
      },
      "source": [
        "## Functions"
      ]
    },
    {
      "cell_type": "markdown",
      "metadata": {
        "id": "Jq3AiUsBiTNN",
        "colab_type": "text"
      },
      "source": [
        "### InBuilt Functions"
      ]
    },
    {
      "cell_type": "markdown",
      "metadata": {
        "id": "5wUxs5AHiYOF",
        "colab_type": "text"
      },
      "source": [
        "#### Math\n",
        "\n",
        "- abs()\n",
        "- divmod()\n",
        "- max()\n",
        "- min()\n",
        "- pow()\n",
        "- round()\n",
        "- sum()"
      ]
    },
    {
      "cell_type": "code",
      "metadata": {
        "id": "48-endD7iGJZ",
        "colab_type": "code",
        "outputId": "d9958800-6bad-45c9-d883-67bb2258df6f",
        "colab": {
          "base_uri": "https://localhost:8080/",
          "height": 34
        }
      },
      "source": [
        "abs(-3.2)"
      ],
      "execution_count": 0,
      "outputs": [
        {
          "output_type": "execute_result",
          "data": {
            "text/plain": [
              "3.2"
            ]
          },
          "metadata": {
            "tags": []
          },
          "execution_count": 110
        }
      ]
    },
    {
      "cell_type": "code",
      "metadata": {
        "id": "ZDn5NJiWiniB",
        "colab_type": "code",
        "outputId": "4d89ecee-1a93-493d-f7fc-c38fa2b883cf",
        "colab": {
          "base_uri": "https://localhost:8080/",
          "height": 34
        }
      },
      "source": [
        "divmod(5, 2)"
      ],
      "execution_count": 0,
      "outputs": [
        {
          "output_type": "execute_result",
          "data": {
            "text/plain": [
              "(2, 1)"
            ]
          },
          "metadata": {
            "tags": []
          },
          "execution_count": 111
        }
      ]
    },
    {
      "cell_type": "code",
      "metadata": {
        "id": "ogjlIocaiphV",
        "colab_type": "code",
        "outputId": "cf3eb0a7-9716-40bd-a28d-3a85a271ac1c",
        "colab": {
          "base_uri": "https://localhost:8080/",
          "height": 34
        }
      },
      "source": [
        "max(3, 5, 2)"
      ],
      "execution_count": 0,
      "outputs": [
        {
          "output_type": "execute_result",
          "data": {
            "text/plain": [
              "5"
            ]
          },
          "metadata": {
            "tags": []
          },
          "execution_count": 112
        }
      ]
    },
    {
      "cell_type": "code",
      "metadata": {
        "id": "dzJgLdP_irpV",
        "colab_type": "code",
        "outputId": "84343e14-b8c8-4acb-dc36-52740cfa77f0",
        "colab": {
          "base_uri": "https://localhost:8080/",
          "height": 34
        }
      },
      "source": [
        "min(3, 5, 2)"
      ],
      "execution_count": 0,
      "outputs": [
        {
          "output_type": "execute_result",
          "data": {
            "text/plain": [
              "2"
            ]
          },
          "metadata": {
            "tags": []
          },
          "execution_count": 113
        }
      ]
    },
    {
      "cell_type": "code",
      "metadata": {
        "id": "Mq8U0Dr9itCI",
        "colab_type": "code",
        "outputId": "a57a907b-6e7a-4a5b-963b-bd092429e29f",
        "colab": {
          "base_uri": "https://localhost:8080/",
          "height": 34
        }
      },
      "source": [
        "pow(4, 3)"
      ],
      "execution_count": 0,
      "outputs": [
        {
          "output_type": "execute_result",
          "data": {
            "text/plain": [
              "64"
            ]
          },
          "metadata": {
            "tags": []
          },
          "execution_count": 114
        }
      ]
    },
    {
      "cell_type": "code",
      "metadata": {
        "id": "7wnjMDn4ivXM",
        "colab_type": "code",
        "outputId": "2105ec76-c469-4a78-ac8e-2d266f827645",
        "colab": {
          "base_uri": "https://localhost:8080/",
          "height": 34
        }
      },
      "source": [
        "round(5.4)"
      ],
      "execution_count": 0,
      "outputs": [
        {
          "output_type": "execute_result",
          "data": {
            "text/plain": [
              "5"
            ]
          },
          "metadata": {
            "tags": []
          },
          "execution_count": 115
        }
      ]
    },
    {
      "cell_type": "code",
      "metadata": {
        "id": "Vm4i4UFLiw-w",
        "colab_type": "code",
        "outputId": "42b69d90-aa13-41a4-e1ba-e515ab727c0d",
        "colab": {
          "base_uri": "https://localhost:8080/",
          "height": 34
        }
      },
      "source": [
        "round(5.5)"
      ],
      "execution_count": 0,
      "outputs": [
        {
          "output_type": "execute_result",
          "data": {
            "text/plain": [
              "6"
            ]
          },
          "metadata": {
            "tags": []
          },
          "execution_count": 116
        }
      ]
    },
    {
      "cell_type": "code",
      "metadata": {
        "id": "K8lEyqagiyHn",
        "colab_type": "code",
        "outputId": "b00309a9-9c72-4e76-9a55-8581a129b199",
        "colab": {
          "base_uri": "https://localhost:8080/",
          "height": 34
        }
      },
      "source": [
        "sum([5, 3, 7, 13])"
      ],
      "execution_count": 0,
      "outputs": [
        {
          "output_type": "execute_result",
          "data": {
            "text/plain": [
              "28"
            ]
          },
          "metadata": {
            "tags": []
          },
          "execution_count": 121
        }
      ]
    },
    {
      "cell_type": "markdown",
      "metadata": {
        "id": "sbQVPq-djDEQ",
        "colab_type": "text"
      },
      "source": [
        "#### Type Conversion\n",
        "\n",
        "- ascii()\n",
        "- bin()\n",
        "- bool()\n",
        "- chr()\n",
        "- complex()\n",
        "- float()\n",
        "- hex()\n",
        "- int()\n",
        "- oct()\n",
        "- ord()\n",
        "- repr()\n",
        "- str()\n",
        "- type()"
      ]
    },
    {
      "cell_type": "code",
      "metadata": {
        "id": "O3ON_0R-lHgN",
        "colab_type": "code",
        "outputId": "1115e4c0-13ba-40b9-8bae-3e7b58528427",
        "colab": {
          "base_uri": "https://localhost:8080/",
          "height": 34
        }
      },
      "source": [
        "ascii('\\u0042')"
      ],
      "execution_count": 0,
      "outputs": [
        {
          "output_type": "execute_result",
          "data": {
            "text/plain": [
              "\"'B'\""
            ]
          },
          "metadata": {
            "tags": []
          },
          "execution_count": 122
        }
      ]
    },
    {
      "cell_type": "code",
      "metadata": {
        "id": "EgW2izSclgGn",
        "colab_type": "code",
        "outputId": "a70af341-b502-4061-b8e6-1256e8533894",
        "colab": {
          "base_uri": "https://localhost:8080/",
          "height": 34
        }
      },
      "source": [
        "bin(6)"
      ],
      "execution_count": 0,
      "outputs": [
        {
          "output_type": "execute_result",
          "data": {
            "text/plain": [
              "'0b110'"
            ]
          },
          "metadata": {
            "tags": []
          },
          "execution_count": 123
        }
      ]
    },
    {
      "cell_type": "code",
      "metadata": {
        "id": "TRabWZdLllxU",
        "colab_type": "code",
        "outputId": "a9705a72-27f3-4599-9d01-5561c4ac3824",
        "colab": {
          "base_uri": "https://localhost:8080/",
          "height": 34
        }
      },
      "source": [
        "bool(1)"
      ],
      "execution_count": 0,
      "outputs": [
        {
          "output_type": "execute_result",
          "data": {
            "text/plain": [
              "True"
            ]
          },
          "metadata": {
            "tags": []
          },
          "execution_count": 124
        }
      ]
    },
    {
      "cell_type": "code",
      "metadata": {
        "id": "BUpuymVSln0u",
        "colab_type": "code",
        "outputId": "c49b93ea-0dce-4699-bd80-73bdb12dd6cd",
        "colab": {
          "base_uri": "https://localhost:8080/",
          "height": 34
        }
      },
      "source": [
        "chr(42)"
      ],
      "execution_count": 0,
      "outputs": [
        {
          "output_type": "execute_result",
          "data": {
            "text/plain": [
              "'*'"
            ]
          },
          "metadata": {
            "tags": []
          },
          "execution_count": 125
        }
      ]
    },
    {
      "cell_type": "code",
      "metadata": {
        "id": "Z0DJy7DllqOM",
        "colab_type": "code",
        "outputId": "b083da4b-a0e9-4d45-f378-9e75ec6bb863",
        "colab": {
          "base_uri": "https://localhost:8080/",
          "height": 34
        }
      },
      "source": [
        "complex(5, 3)"
      ],
      "execution_count": 0,
      "outputs": [
        {
          "output_type": "execute_result",
          "data": {
            "text/plain": [
              "(5+3j)"
            ]
          },
          "metadata": {
            "tags": []
          },
          "execution_count": 126
        }
      ]
    },
    {
      "cell_type": "code",
      "metadata": {
        "id": "3dbZ5-OTltDt",
        "colab_type": "code",
        "outputId": "f4fdf325-817a-4384-f9b3-3ff51d4cdd9f",
        "colab": {
          "base_uri": "https://localhost:8080/",
          "height": 34
        }
      },
      "source": [
        "float(3)  ## IMPORTANT"
      ],
      "execution_count": 0,
      "outputs": [
        {
          "output_type": "execute_result",
          "data": {
            "text/plain": [
              "3.0"
            ]
          },
          "metadata": {
            "tags": []
          },
          "execution_count": 127
        }
      ]
    },
    {
      "cell_type": "code",
      "metadata": {
        "id": "K0uaLDfZlwSn",
        "colab_type": "code",
        "outputId": "e68abc2a-3417-45d9-996a-d98b8ff13bb5",
        "colab": {
          "base_uri": "https://localhost:8080/",
          "height": 34
        }
      },
      "source": [
        "hex(21)"
      ],
      "execution_count": 0,
      "outputs": [
        {
          "output_type": "execute_result",
          "data": {
            "text/plain": [
              "'0x15'"
            ]
          },
          "metadata": {
            "tags": []
          },
          "execution_count": 128
        }
      ]
    },
    {
      "cell_type": "code",
      "metadata": {
        "id": "EVCft6a9lzD2",
        "colab_type": "code",
        "outputId": "420d6f18-3268-4331-8e5a-9d3aa91ae30a",
        "colab": {
          "base_uri": "https://localhost:8080/",
          "height": 34
        }
      },
      "source": [
        "int(2.1)  ## IMPORTANT"
      ],
      "execution_count": 0,
      "outputs": [
        {
          "output_type": "execute_result",
          "data": {
            "text/plain": [
              "2"
            ]
          },
          "metadata": {
            "tags": []
          },
          "execution_count": 129
        }
      ]
    },
    {
      "cell_type": "code",
      "metadata": {
        "id": "9hqatxK2_K9v",
        "colab_type": "code",
        "outputId": "1138bad3-f2d5-412d-c9fa-0731038ad02f",
        "colab": {
          "base_uri": "https://localhost:8080/",
          "height": 34
        }
      },
      "source": [
        "int(2.5)"
      ],
      "execution_count": 0,
      "outputs": [
        {
          "output_type": "execute_result",
          "data": {
            "text/plain": [
              "2"
            ]
          },
          "metadata": {
            "tags": []
          },
          "execution_count": 130
        }
      ]
    },
    {
      "cell_type": "code",
      "metadata": {
        "id": "hatC8Kq4l5lv",
        "colab_type": "code",
        "outputId": "a455986c-fd4c-4c21-8b1a-8ea13513e653",
        "colab": {
          "base_uri": "https://localhost:8080/",
          "height": 34
        }
      },
      "source": [
        "oct(12)"
      ],
      "execution_count": 0,
      "outputs": [
        {
          "output_type": "execute_result",
          "data": {
            "text/plain": [
              "'0o14'"
            ]
          },
          "metadata": {
            "tags": []
          },
          "execution_count": 131
        }
      ]
    },
    {
      "cell_type": "code",
      "metadata": {
        "id": "mXftw8V8l9m-",
        "colab_type": "code",
        "outputId": "88379cf5-0c4a-4356-bcd4-b8d46b94b570",
        "colab": {
          "base_uri": "https://localhost:8080/",
          "height": 34
        }
      },
      "source": [
        "ord('A')"
      ],
      "execution_count": 0,
      "outputs": [
        {
          "output_type": "execute_result",
          "data": {
            "text/plain": [
              "65"
            ]
          },
          "metadata": {
            "tags": []
          },
          "execution_count": 132
        }
      ]
    },
    {
      "cell_type": "code",
      "metadata": {
        "id": "Q5t2cGSFmCDC",
        "colab_type": "code",
        "outputId": "da31d61b-5b0b-46a6-ce22-ec8129d13570",
        "colab": {
          "base_uri": "https://localhost:8080/",
          "height": 34
        }
      },
      "source": [
        "repr(int)"
      ],
      "execution_count": 0,
      "outputs": [
        {
          "output_type": "execute_result",
          "data": {
            "text/plain": [
              "\"<class 'int'>\""
            ]
          },
          "metadata": {
            "tags": []
          },
          "execution_count": 133
        }
      ]
    },
    {
      "cell_type": "code",
      "metadata": {
        "id": "_MbxishIAtQ-",
        "colab_type": "code",
        "outputId": "4bd8eb75-adb1-4737-af91-bc0d1efa79e3",
        "colab": {
          "base_uri": "https://localhost:8080/",
          "height": 4063
        }
      },
      "source": [
        "help(int)"
      ],
      "execution_count": 0,
      "outputs": [
        {
          "output_type": "stream",
          "text": [
            "Help on class int in module builtins:\n",
            "\n",
            "class int(object)\n",
            " |  int(x=0) -> integer\n",
            " |  int(x, base=10) -> integer\n",
            " |  \n",
            " |  Convert a number or string to an integer, or return 0 if no arguments\n",
            " |  are given.  If x is a number, return x.__int__().  For floating point\n",
            " |  numbers, this truncates towards zero.\n",
            " |  \n",
            " |  If x is not a number or if base is given, then x must be a string,\n",
            " |  bytes, or bytearray instance representing an integer literal in the\n",
            " |  given base.  The literal can be preceded by '+' or '-' and be surrounded\n",
            " |  by whitespace.  The base defaults to 10.  Valid bases are 0 and 2-36.\n",
            " |  Base 0 means to interpret the base from the string as an integer literal.\n",
            " |  >>> int('0b100', base=0)\n",
            " |  4\n",
            " |  \n",
            " |  Methods defined here:\n",
            " |  \n",
            " |  __abs__(self, /)\n",
            " |      abs(self)\n",
            " |  \n",
            " |  __add__(self, value, /)\n",
            " |      Return self+value.\n",
            " |  \n",
            " |  __and__(self, value, /)\n",
            " |      Return self&value.\n",
            " |  \n",
            " |  __bool__(self, /)\n",
            " |      self != 0\n",
            " |  \n",
            " |  __ceil__(...)\n",
            " |      Ceiling of an Integral returns itself.\n",
            " |  \n",
            " |  __divmod__(self, value, /)\n",
            " |      Return divmod(self, value).\n",
            " |  \n",
            " |  __eq__(self, value, /)\n",
            " |      Return self==value.\n",
            " |  \n",
            " |  __float__(self, /)\n",
            " |      float(self)\n",
            " |  \n",
            " |  __floor__(...)\n",
            " |      Flooring an Integral returns itself.\n",
            " |  \n",
            " |  __floordiv__(self, value, /)\n",
            " |      Return self//value.\n",
            " |  \n",
            " |  __format__(...)\n",
            " |      default object formatter\n",
            " |  \n",
            " |  __ge__(self, value, /)\n",
            " |      Return self>=value.\n",
            " |  \n",
            " |  __getattribute__(self, name, /)\n",
            " |      Return getattr(self, name).\n",
            " |  \n",
            " |  __getnewargs__(...)\n",
            " |  \n",
            " |  __gt__(self, value, /)\n",
            " |      Return self>value.\n",
            " |  \n",
            " |  __hash__(self, /)\n",
            " |      Return hash(self).\n",
            " |  \n",
            " |  __index__(self, /)\n",
            " |      Return self converted to an integer, if self is suitable for use as an index into a list.\n",
            " |  \n",
            " |  __int__(self, /)\n",
            " |      int(self)\n",
            " |  \n",
            " |  __invert__(self, /)\n",
            " |      ~self\n",
            " |  \n",
            " |  __le__(self, value, /)\n",
            " |      Return self<=value.\n",
            " |  \n",
            " |  __lshift__(self, value, /)\n",
            " |      Return self<<value.\n",
            " |  \n",
            " |  __lt__(self, value, /)\n",
            " |      Return self<value.\n",
            " |  \n",
            " |  __mod__(self, value, /)\n",
            " |      Return self%value.\n",
            " |  \n",
            " |  __mul__(self, value, /)\n",
            " |      Return self*value.\n",
            " |  \n",
            " |  __ne__(self, value, /)\n",
            " |      Return self!=value.\n",
            " |  \n",
            " |  __neg__(self, /)\n",
            " |      -self\n",
            " |  \n",
            " |  __new__(*args, **kwargs) from builtins.type\n",
            " |      Create and return a new object.  See help(type) for accurate signature.\n",
            " |  \n",
            " |  __or__(self, value, /)\n",
            " |      Return self|value.\n",
            " |  \n",
            " |  __pos__(self, /)\n",
            " |      +self\n",
            " |  \n",
            " |  __pow__(self, value, mod=None, /)\n",
            " |      Return pow(self, value, mod).\n",
            " |  \n",
            " |  __radd__(self, value, /)\n",
            " |      Return value+self.\n",
            " |  \n",
            " |  __rand__(self, value, /)\n",
            " |      Return value&self.\n",
            " |  \n",
            " |  __rdivmod__(self, value, /)\n",
            " |      Return divmod(value, self).\n",
            " |  \n",
            " |  __repr__(self, /)\n",
            " |      Return repr(self).\n",
            " |  \n",
            " |  __rfloordiv__(self, value, /)\n",
            " |      Return value//self.\n",
            " |  \n",
            " |  __rlshift__(self, value, /)\n",
            " |      Return value<<self.\n",
            " |  \n",
            " |  __rmod__(self, value, /)\n",
            " |      Return value%self.\n",
            " |  \n",
            " |  __rmul__(self, value, /)\n",
            " |      Return value*self.\n",
            " |  \n",
            " |  __ror__(self, value, /)\n",
            " |      Return value|self.\n",
            " |  \n",
            " |  __round__(...)\n",
            " |      Rounding an Integral returns itself.\n",
            " |      Rounding with an ndigits argument also returns an integer.\n",
            " |  \n",
            " |  __rpow__(self, value, mod=None, /)\n",
            " |      Return pow(value, self, mod).\n",
            " |  \n",
            " |  __rrshift__(self, value, /)\n",
            " |      Return value>>self.\n",
            " |  \n",
            " |  __rshift__(self, value, /)\n",
            " |      Return self>>value.\n",
            " |  \n",
            " |  __rsub__(self, value, /)\n",
            " |      Return value-self.\n",
            " |  \n",
            " |  __rtruediv__(self, value, /)\n",
            " |      Return value/self.\n",
            " |  \n",
            " |  __rxor__(self, value, /)\n",
            " |      Return value^self.\n",
            " |  \n",
            " |  __sizeof__(...)\n",
            " |      Returns size in memory, in bytes\n",
            " |  \n",
            " |  __str__(self, /)\n",
            " |      Return str(self).\n",
            " |  \n",
            " |  __sub__(self, value, /)\n",
            " |      Return self-value.\n",
            " |  \n",
            " |  __truediv__(self, value, /)\n",
            " |      Return self/value.\n",
            " |  \n",
            " |  __trunc__(...)\n",
            " |      Truncating an Integral returns itself.\n",
            " |  \n",
            " |  __xor__(self, value, /)\n",
            " |      Return self^value.\n",
            " |  \n",
            " |  bit_length(...)\n",
            " |      int.bit_length() -> int\n",
            " |      \n",
            " |      Number of bits necessary to represent self in binary.\n",
            " |      >>> bin(37)\n",
            " |      '0b100101'\n",
            " |      >>> (37).bit_length()\n",
            " |      6\n",
            " |  \n",
            " |  conjugate(...)\n",
            " |      Returns self, the complex conjugate of any int.\n",
            " |  \n",
            " |  from_bytes(...) from builtins.type\n",
            " |      int.from_bytes(bytes, byteorder, *, signed=False) -> int\n",
            " |      \n",
            " |      Return the integer represented by the given array of bytes.\n",
            " |      \n",
            " |      The bytes argument must be a bytes-like object (e.g. bytes or bytearray).\n",
            " |      \n",
            " |      The byteorder argument determines the byte order used to represent the\n",
            " |      integer.  If byteorder is 'big', the most significant byte is at the\n",
            " |      beginning of the byte array.  If byteorder is 'little', the most\n",
            " |      significant byte is at the end of the byte array.  To request the native\n",
            " |      byte order of the host system, use `sys.byteorder' as the byte order value.\n",
            " |      \n",
            " |      The signed keyword-only argument indicates whether two's complement is\n",
            " |      used to represent the integer.\n",
            " |  \n",
            " |  to_bytes(...)\n",
            " |      int.to_bytes(length, byteorder, *, signed=False) -> bytes\n",
            " |      \n",
            " |      Return an array of bytes representing an integer.\n",
            " |      \n",
            " |      The integer is represented using length bytes.  An OverflowError is\n",
            " |      raised if the integer is not representable with the given number of\n",
            " |      bytes.\n",
            " |      \n",
            " |      The byteorder argument determines the byte order used to represent the\n",
            " |      integer.  If byteorder is 'big', the most significant byte is at the\n",
            " |      beginning of the byte array.  If byteorder is 'little', the most\n",
            " |      significant byte is at the end of the byte array.  To request the native\n",
            " |      byte order of the host system, use `sys.byteorder' as the byte order value.\n",
            " |      \n",
            " |      The signed keyword-only argument determines whether two's complement is\n",
            " |      used to represent the integer.  If signed is False and a negative integer\n",
            " |      is given, an OverflowError is raised.\n",
            " |  \n",
            " |  ----------------------------------------------------------------------\n",
            " |  Data descriptors defined here:\n",
            " |  \n",
            " |  denominator\n",
            " |      the denominator of a rational number in lowest terms\n",
            " |  \n",
            " |  imag\n",
            " |      the imaginary part of a complex number\n",
            " |  \n",
            " |  numerator\n",
            " |      the numerator of a rational number in lowest terms\n",
            " |  \n",
            " |  real\n",
            " |      the real part of a complex number\n",
            "\n"
          ],
          "name": "stdout"
        }
      ]
    },
    {
      "cell_type": "code",
      "metadata": {
        "id": "1WmlLtR0mFZ7",
        "colab_type": "code",
        "outputId": "f1ab3320-087a-43b0-8b3a-de5388f8102e",
        "colab": {
          "base_uri": "https://localhost:8080/",
          "height": 34
        }
      },
      "source": [
        "str(3 + 5.1 + 6j)"
      ],
      "execution_count": 0,
      "outputs": [
        {
          "output_type": "execute_result",
          "data": {
            "text/plain": [
              "'(8.1+6j)'"
            ]
          },
          "metadata": {
            "tags": []
          },
          "execution_count": 139
        }
      ]
    },
    {
      "cell_type": "code",
      "metadata": {
        "id": "zAqgblBvmL0w",
        "colab_type": "code",
        "outputId": "86725cf7-3a64-41fb-d09f-0372c6a1a11e",
        "colab": {
          "base_uri": "https://localhost:8080/",
          "height": 34
        }
      },
      "source": [
        "type(3)  ## IMPORTANT"
      ],
      "execution_count": 0,
      "outputs": [
        {
          "output_type": "execute_result",
          "data": {
            "text/plain": [
              "int"
            ]
          },
          "metadata": {
            "tags": []
          },
          "execution_count": 135
        }
      ]
    },
    {
      "cell_type": "code",
      "metadata": {
        "id": "Cd1A-hhfEID_",
        "colab_type": "code",
        "outputId": "f84ad26c-e359-4c4d-cdfa-c433abfdbabe",
        "colab": {
          "base_uri": "https://localhost:8080/",
          "height": 34
        }
      },
      "source": [
        "type(lst)  ## IMPORTANT"
      ],
      "execution_count": 0,
      "outputs": [
        {
          "output_type": "execute_result",
          "data": {
            "text/plain": [
              "list"
            ]
          },
          "metadata": {
            "tags": []
          },
          "execution_count": 136
        }
      ]
    },
    {
      "cell_type": "code",
      "metadata": {
        "id": "vkTfdwSjATcK",
        "colab_type": "code",
        "outputId": "22e74241-7483-42f5-b5e7-6821d19e152c",
        "colab": {
          "base_uri": "https://localhost:8080/",
          "height": 34
        }
      },
      "source": [
        "print(type(lst))"
      ],
      "execution_count": 0,
      "outputs": [
        {
          "output_type": "stream",
          "text": [
            "<class 'list'>\n"
          ],
          "name": "stdout"
        }
      ]
    },
    {
      "cell_type": "code",
      "metadata": {
        "id": "uydmMDxeGp_5",
        "colab_type": "code",
        "outputId": "c36c9bea-96c8-4e47-946d-5e957c8cd070",
        "colab": {
          "base_uri": "https://localhost:8080/",
          "height": 34
        }
      },
      "source": [
        "type(float(3))"
      ],
      "execution_count": 0,
      "outputs": [
        {
          "output_type": "execute_result",
          "data": {
            "text/plain": [
              "float"
            ]
          },
          "metadata": {
            "tags": []
          },
          "execution_count": 137
        }
      ]
    },
    {
      "cell_type": "markdown",
      "metadata": {
        "id": "63RLtDncjJNl",
        "colab_type": "text"
      },
      "source": [
        "#### Iterables and Iterators\n",
        "\n",
        "- all()\n",
        "- any()\n",
        "- enumerate()\n",
        "- filter()\n",
        "- iter()\n",
        "- len()\n",
        "- map()\n",
        "- next()\n",
        "- range()\n",
        "- reversed()\n",
        "- slice()\n",
        "- sorted()\n",
        "- zip()"
      ]
    },
    {
      "cell_type": "code",
      "metadata": {
        "id": "37Bb2QB0mOwI",
        "colab_type": "code",
        "outputId": "7bdba755-fe07-45a7-e001-1417487d8d52",
        "colab": {
          "base_uri": "https://localhost:8080/",
          "height": 34
        }
      },
      "source": [
        "all([True, False])  ## IMPORTANT"
      ],
      "execution_count": 0,
      "outputs": [
        {
          "output_type": "execute_result",
          "data": {
            "text/plain": [
              "False"
            ]
          },
          "metadata": {
            "tags": []
          },
          "execution_count": 142
        }
      ]
    },
    {
      "cell_type": "code",
      "metadata": {
        "id": "Zbz4RoHgmRKX",
        "colab_type": "code",
        "outputId": "724eb96f-6cc6-4068-8019-10255cf45669",
        "colab": {
          "base_uri": "https://localhost:8080/",
          "height": 34
        }
      },
      "source": [
        "any([True, False])  ## IMPORTANT"
      ],
      "execution_count": 0,
      "outputs": [
        {
          "output_type": "execute_result",
          "data": {
            "text/plain": [
              "True"
            ]
          },
          "metadata": {
            "tags": []
          },
          "execution_count": 143
        }
      ]
    },
    {
      "cell_type": "code",
      "metadata": {
        "id": "0Inoud4AmUPZ",
        "colab_type": "code",
        "outputId": "12622063-beb9-4ced-eca3-d08c4cbadcf0",
        "colab": {
          "base_uri": "https://localhost:8080/",
          "height": 34
        }
      },
      "source": [
        "enumerate(['A', 'B'])  ## IMPORTANT"
      ],
      "execution_count": 0,
      "outputs": [
        {
          "output_type": "execute_result",
          "data": {
            "text/plain": [
              "<enumerate at 0x7ff82cd09cf0>"
            ]
          },
          "metadata": {
            "tags": []
          },
          "execution_count": 144
        }
      ]
    },
    {
      "cell_type": "code",
      "metadata": {
        "id": "_o8f-HJzmYb3",
        "colab_type": "code",
        "outputId": "da298486-4084-43fa-f3a1-de6aa625cf84",
        "colab": {
          "base_uri": "https://localhost:8080/",
          "height": 34
        }
      },
      "source": [
        "list(enumerate(['A', 'B']))  ## IMPORTANT"
      ],
      "execution_count": 0,
      "outputs": [
        {
          "output_type": "execute_result",
          "data": {
            "text/plain": [
              "[(0, 'A'), (1, 'B')]"
            ]
          },
          "metadata": {
            "tags": []
          },
          "execution_count": 145
        }
      ]
    },
    {
      "cell_type": "code",
      "metadata": {
        "id": "G4zmiJywmcx3",
        "colab_type": "code",
        "outputId": "4fde6589-3f8b-4c4c-bd94-2a1905def3f4",
        "colab": {
          "base_uri": "https://localhost:8080/",
          "height": 34
        }
      },
      "source": [
        "filter(lambda x: x%3==1, [1, 2, 3, 4, 5])  ## IMPORTANT"
      ],
      "execution_count": 0,
      "outputs": [
        {
          "output_type": "execute_result",
          "data": {
            "text/plain": [
              "<filter at 0x7ff82cd1e978>"
            ]
          },
          "metadata": {
            "tags": []
          },
          "execution_count": 146
        }
      ]
    },
    {
      "cell_type": "code",
      "metadata": {
        "id": "u54dqfXzmld9",
        "colab_type": "code",
        "outputId": "2ce37f14-a186-4556-88a3-44b7e8fcfe9b",
        "colab": {
          "base_uri": "https://localhost:8080/",
          "height": 34
        }
      },
      "source": [
        "list(filter(lambda x: x%3==1,\n",
        "            [1, 2, 3, 4, 5]\n",
        "           ))"
      ],
      "execution_count": 0,
      "outputs": [
        {
          "output_type": "execute_result",
          "data": {
            "text/plain": [
              "[1, 4]"
            ]
          },
          "metadata": {
            "tags": []
          },
          "execution_count": 150
        }
      ]
    },
    {
      "cell_type": "code",
      "metadata": {
        "id": "zRhm6FzCmpQj",
        "colab_type": "code",
        "outputId": "ab23da53-d153-47a7-ee23-5ae2fce53653",
        "colab": {
          "base_uri": "https://localhost:8080/",
          "height": 34
        }
      },
      "source": [
        "iter([1, 2, 3])"
      ],
      "execution_count": 0,
      "outputs": [
        {
          "output_type": "execute_result",
          "data": {
            "text/plain": [
              "<list_iterator at 0x7ff8307bc4a8>"
            ]
          },
          "metadata": {
            "tags": []
          },
          "execution_count": 152
        }
      ]
    },
    {
      "cell_type": "code",
      "metadata": {
        "id": "6WyOUCvcmrxS",
        "colab_type": "code",
        "outputId": "217ff639-3500-4725-aa62-5cb4e4c24a10",
        "colab": {
          "base_uri": "https://localhost:8080/",
          "height": 34
        }
      },
      "source": [
        "list(iter([1, 2, 3]))"
      ],
      "execution_count": 0,
      "outputs": [
        {
          "output_type": "execute_result",
          "data": {
            "text/plain": [
              "[1, 2, 3]"
            ]
          },
          "metadata": {
            "tags": []
          },
          "execution_count": 153
        }
      ]
    },
    {
      "cell_type": "code",
      "metadata": {
        "id": "T35ExzPQm5zP",
        "colab_type": "code",
        "outputId": "e375de48-3b6b-4110-c1bc-18333c920992",
        "colab": {
          "base_uri": "https://localhost:8080/",
          "height": 34
        }
      },
      "source": [
        "next(iter([1, 5, 3, 6]))"
      ],
      "execution_count": 0,
      "outputs": [
        {
          "output_type": "execute_result",
          "data": {
            "text/plain": [
              "1"
            ]
          },
          "metadata": {
            "tags": []
          },
          "execution_count": 155
        }
      ]
    },
    {
      "cell_type": "code",
      "metadata": {
        "id": "4qwfQfBmIhxg",
        "colab_type": "code",
        "outputId": "720e57e7-0cd1-4e7f-bcaf-75f76cdc2af0",
        "colab": {
          "base_uri": "https://localhost:8080/",
          "height": 85
        }
      },
      "source": [
        "abc = iter([1, 5, 3, 6])\n",
        "print(next(abc))\n",
        "print(next(abc))\n",
        "print(next(abc))\n",
        "print(next(abc))"
      ],
      "execution_count": 0,
      "outputs": [
        {
          "output_type": "stream",
          "text": [
            "1\n",
            "5\n",
            "3\n",
            "6\n"
          ],
          "name": "stdout"
        }
      ]
    },
    {
      "cell_type": "code",
      "metadata": {
        "id": "LbcavCR0ENBz",
        "colab_type": "code",
        "outputId": "d988c2b6-667f-4a69-91dd-e65478b4ba15",
        "colab": {
          "base_uri": "https://localhost:8080/",
          "height": 163
        }
      },
      "source": [
        "next([1, 2, 3])"
      ],
      "execution_count": 0,
      "outputs": [
        {
          "output_type": "error",
          "ename": "TypeError",
          "evalue": "ignored",
          "traceback": [
            "\u001b[0;31m---------------------------------------------------------------------------\u001b[0m",
            "\u001b[0;31mTypeError\u001b[0m                                 Traceback (most recent call last)",
            "\u001b[0;32m<ipython-input-160-4a6488f07b8e>\u001b[0m in \u001b[0;36m<module>\u001b[0;34m()\u001b[0m\n\u001b[0;32m----> 1\u001b[0;31m \u001b[0mnext\u001b[0m\u001b[0;34m(\u001b[0m\u001b[0;34m[\u001b[0m\u001b[0;36m1\u001b[0m\u001b[0;34m,\u001b[0m \u001b[0;36m2\u001b[0m\u001b[0;34m,\u001b[0m \u001b[0;36m3\u001b[0m\u001b[0;34m]\u001b[0m\u001b[0;34m)\u001b[0m\u001b[0;34m\u001b[0m\u001b[0;34m\u001b[0m\u001b[0m\n\u001b[0m",
            "\u001b[0;31mTypeError\u001b[0m: 'list' object is not an iterator"
          ]
        }
      ]
    },
    {
      "cell_type": "code",
      "metadata": {
        "id": "T49XFuEfFj-w",
        "colab_type": "code",
        "colab": {}
      },
      "source": [
        "# def evens(n):\n",
        "#   i = 0\n",
        "#   while i < n:\n",
        "#     if i%2 == 0:\n",
        "#       yield(i)\n",
        "#     i += 1\n",
        "\n",
        "# abc = evens(11)\n",
        "# print(abc)\n",
        "# print(next(abc))\n",
        "# print('---')\n",
        "# for i in abc:\n",
        "#   print(i)"
      ],
      "execution_count": 0,
      "outputs": []
    },
    {
      "cell_type": "code",
      "metadata": {
        "id": "3Sl0fcvfmuj_",
        "colab_type": "code",
        "outputId": "388aaafd-77a6-420f-f260-77dc6195bb0d",
        "colab": {
          "base_uri": "https://localhost:8080/",
          "height": 34
        }
      },
      "source": [
        "len([1, 2, 4, 7])  ## IMPORTANT"
      ],
      "execution_count": 0,
      "outputs": [
        {
          "output_type": "execute_result",
          "data": {
            "text/plain": [
              "4"
            ]
          },
          "metadata": {
            "tags": []
          },
          "execution_count": 178
        }
      ]
    },
    {
      "cell_type": "code",
      "metadata": {
        "id": "U8EVTCUgmzaP",
        "colab_type": "code",
        "outputId": "b958f903-7dfb-4106-e995-9482699ceb7b",
        "colab": {
          "base_uri": "https://localhost:8080/",
          "height": 34
        }
      },
      "source": [
        "map(lambda x: x**2,\n",
        "    [1, 2, 3, 6])  ## IMPORTANT"
      ],
      "execution_count": 0,
      "outputs": [
        {
          "output_type": "execute_result",
          "data": {
            "text/plain": [
              "<map at 0x7ff82cd13588>"
            ]
          },
          "metadata": {
            "tags": []
          },
          "execution_count": 179
        }
      ]
    },
    {
      "cell_type": "code",
      "metadata": {
        "id": "gAd5KFrPm35P",
        "colab_type": "code",
        "outputId": "baa36d83-aefa-438f-b101-88a77650f199",
        "colab": {
          "base_uri": "https://localhost:8080/",
          "height": 34
        }
      },
      "source": [
        "list(map(lambda x: x**2, [1, 2, 3, 6]))"
      ],
      "execution_count": 0,
      "outputs": [
        {
          "output_type": "execute_result",
          "data": {
            "text/plain": [
              "[1, 4, 9, 36]"
            ]
          },
          "metadata": {
            "tags": []
          },
          "execution_count": 180
        }
      ]
    },
    {
      "cell_type": "code",
      "metadata": {
        "id": "inx5M8qZG8SM",
        "colab_type": "code",
        "outputId": "d185105d-35a2-4b0b-fcb9-9345f98e1e4e",
        "colab": {
          "base_uri": "https://localhost:8080/",
          "height": 34
        }
      },
      "source": [
        "list(map(lambda x: x**2,\n",
        "         filter(lambda x: x%3==0,\n",
        "                [1, 2, 3, 4, 5, 6, 7, 8, 9, 10])))"
      ],
      "execution_count": 0,
      "outputs": [
        {
          "output_type": "execute_result",
          "data": {
            "text/plain": [
              "[9, 36, 81]"
            ]
          },
          "metadata": {
            "tags": []
          },
          "execution_count": 181
        }
      ]
    },
    {
      "cell_type": "code",
      "metadata": {
        "id": "VO92wpvFHNM2",
        "colab_type": "code",
        "outputId": "93033c75-df08-46a5-fa24-af0b56a2873e",
        "colab": {
          "base_uri": "https://localhost:8080/",
          "height": 34
        }
      },
      "source": [
        "lst1 = [1, 2, 3, 4, 5, 6, 7, 8, 9, 10]\n",
        "filtered = filter(lambda x: x%3 == 0, lst1)\n",
        "squared = map(lambda x: x**2, filtered)\n",
        "print(list(squared))"
      ],
      "execution_count": 0,
      "outputs": [
        {
          "output_type": "stream",
          "text": [
            "[9, 36, 81]\n"
          ],
          "name": "stdout"
        }
      ]
    },
    {
      "cell_type": "code",
      "metadata": {
        "id": "yUsIBpo5H9gU",
        "colab_type": "code",
        "outputId": "79006889-d7b9-4eb7-f85d-76db17c870e0",
        "colab": {
          "base_uri": "https://localhost:8080/",
          "height": 34
        }
      },
      "source": [
        "lst1 = [1, 2, 3, 4, 5, 6, 7, 8, 9, 10]\n",
        "filtered = filter(lambda x: x%4 == 0, lst1)\n",
        "squared = map(lambda x: x**2, filtered)\n",
        "print(list(squared))"
      ],
      "execution_count": 0,
      "outputs": [
        {
          "output_type": "stream",
          "text": [
            "[16, 64]\n"
          ],
          "name": "stdout"
        }
      ]
    },
    {
      "cell_type": "code",
      "metadata": {
        "id": "uHaUJeTlH_8X",
        "colab_type": "code",
        "outputId": "30ccdf6b-0a8e-4c45-81c9-8643a4901837",
        "colab": {
          "base_uri": "https://localhost:8080/",
          "height": 34
        }
      },
      "source": [
        "lst1 = [1, 2, 3, 4, 5, 6, 7, 8, 9, 10]\n",
        "squared = map(lambda x: x**2, lst1)\n",
        "filtered = filter(lambda x: x%4 == 0, squared)\n",
        "print(list(filtered))"
      ],
      "execution_count": 0,
      "outputs": [
        {
          "output_type": "stream",
          "text": [
            "[4, 16, 36, 64, 100]\n"
          ],
          "name": "stdout"
        }
      ]
    },
    {
      "cell_type": "code",
      "metadata": {
        "id": "J0Bvy1oonBFy",
        "colab_type": "code",
        "outputId": "17a16183-4052-4e12-bfb5-e6e1c79a629e",
        "colab": {
          "base_uri": "https://localhost:8080/",
          "height": 34
        }
      },
      "source": [
        "list(range(5))  ## IMPORTANT"
      ],
      "execution_count": 0,
      "outputs": [
        {
          "output_type": "execute_result",
          "data": {
            "text/plain": [
              "[0, 1, 2, 3, 4]"
            ]
          },
          "metadata": {
            "tags": []
          },
          "execution_count": 189
        }
      ]
    },
    {
      "cell_type": "code",
      "metadata": {
        "id": "m5BCAVu8nFo_",
        "colab_type": "code",
        "outputId": "1cdf44bc-e897-40c6-fecf-ffaf7531611a",
        "colab": {
          "base_uri": "https://localhost:8080/",
          "height": 34
        }
      },
      "source": [
        "list(range(1, 5))  ## IMPORTANT"
      ],
      "execution_count": 0,
      "outputs": [
        {
          "output_type": "execute_result",
          "data": {
            "text/plain": [
              "[1, 2, 3, 4]"
            ]
          },
          "metadata": {
            "tags": []
          },
          "execution_count": 190
        }
      ]
    },
    {
      "cell_type": "code",
      "metadata": {
        "id": "TnYEE9_tnHhy",
        "colab_type": "code",
        "outputId": "0e38000c-2cbe-4929-f32f-d7d4c2daea9f",
        "colab": {
          "base_uri": "https://localhost:8080/",
          "height": 34
        }
      },
      "source": [
        "list(range(-10, -6, 2))  ## IMPORTANT"
      ],
      "execution_count": 0,
      "outputs": [
        {
          "output_type": "execute_result",
          "data": {
            "text/plain": [
              "[-10, -8]"
            ]
          },
          "metadata": {
            "tags": []
          },
          "execution_count": 191
        }
      ]
    },
    {
      "cell_type": "code",
      "metadata": {
        "id": "3yt5a8_ZnTfD",
        "colab_type": "code",
        "outputId": "bddc8be9-29f5-4467-f9ba-0bb91a2d44c3",
        "colab": {
          "base_uri": "https://localhost:8080/",
          "height": 34
        }
      },
      "source": [
        "list(reversed([1, 4, 3, 5]))"
      ],
      "execution_count": 0,
      "outputs": [
        {
          "output_type": "execute_result",
          "data": {
            "text/plain": [
              "[5, 3, 4, 1]"
            ]
          },
          "metadata": {
            "tags": []
          },
          "execution_count": 192
        }
      ]
    },
    {
      "cell_type": "code",
      "metadata": {
        "id": "lLLlU1gbnYi6",
        "colab_type": "code",
        "outputId": "13dc25c5-8fcc-4dae-f8f0-f18f47f66ef2",
        "colab": {
          "base_uri": "https://localhost:8080/",
          "height": 34
        }
      },
      "source": [
        "sorted([4, 3, 6, 2, 8])"
      ],
      "execution_count": 0,
      "outputs": [
        {
          "output_type": "execute_result",
          "data": {
            "text/plain": [
              "[2, 3, 4, 6, 8]"
            ]
          },
          "metadata": {
            "tags": []
          },
          "execution_count": 193
        }
      ]
    },
    {
      "cell_type": "code",
      "metadata": {
        "id": "_uR8PDfEovrd",
        "colab_type": "code",
        "outputId": "62e5b14a-7f71-499e-f1ca-0d801a1e0e2c",
        "colab": {
          "base_uri": "https://localhost:8080/",
          "height": 34
        }
      },
      "source": [
        "list(zip([1, 2, 'X', 4], ['A', 1.5, 'C']))  ## IMPORTANT"
      ],
      "execution_count": 0,
      "outputs": [
        {
          "output_type": "execute_result",
          "data": {
            "text/plain": [
              "[(1, 'A'), (2, 1.5), ('X', 'C')]"
            ]
          },
          "metadata": {
            "tags": []
          },
          "execution_count": 194
        }
      ]
    },
    {
      "cell_type": "code",
      "metadata": {
        "id": "TFtDLOk7JdEd",
        "colab_type": "code",
        "outputId": "b9b80c77-db05-49d5-c85d-8df0fef2489f",
        "colab": {
          "base_uri": "https://localhost:8080/",
          "height": 187
        }
      },
      "source": [
        "list(zip(range(len(lst1)), lst1))"
      ],
      "execution_count": 0,
      "outputs": [
        {
          "output_type": "execute_result",
          "data": {
            "text/plain": [
              "[(0, 1),\n",
              " (1, 2),\n",
              " (2, 3),\n",
              " (3, 4),\n",
              " (4, 5),\n",
              " (5, 6),\n",
              " (6, 7),\n",
              " (7, 8),\n",
              " (8, 9),\n",
              " (9, 10)]"
            ]
          },
          "metadata": {
            "tags": []
          },
          "execution_count": 196
        }
      ]
    },
    {
      "cell_type": "code",
      "metadata": {
        "id": "CJ1835CDJj5I",
        "colab_type": "code",
        "outputId": "9e17a682-c3b7-4cd2-c4b1-99e26b5fb018",
        "colab": {
          "base_uri": "https://localhost:8080/",
          "height": 187
        }
      },
      "source": [
        "list(enumerate(lst1))"
      ],
      "execution_count": 0,
      "outputs": [
        {
          "output_type": "execute_result",
          "data": {
            "text/plain": [
              "[(0, 1),\n",
              " (1, 2),\n",
              " (2, 3),\n",
              " (3, 4),\n",
              " (4, 5),\n",
              " (5, 6),\n",
              " (6, 7),\n",
              " (7, 8),\n",
              " (8, 9),\n",
              " (9, 10)]"
            ]
          },
          "metadata": {
            "tags": []
          },
          "execution_count": 197
        }
      ]
    },
    {
      "cell_type": "code",
      "metadata": {
        "id": "nCdY0m-uFy0O",
        "colab_type": "code",
        "outputId": "ac8d1be9-24d6-4f0f-9592-d7fb2d03c517",
        "colab": {
          "base_uri": "https://localhost:8080/",
          "height": 34
        }
      },
      "source": [
        "students = ['Arvind', 'Gagan', 'ABC']\n",
        "marks = [10, 8, 5]\n",
        "print(students, marks)"
      ],
      "execution_count": 0,
      "outputs": [
        {
          "output_type": "stream",
          "text": [
            "['Arvind', 'Gagan', 'ABC'] [10, 8, 5]\n"
          ],
          "name": "stdout"
        }
      ]
    },
    {
      "cell_type": "code",
      "metadata": {
        "id": "jPan7SopGAg8",
        "colab_type": "code",
        "outputId": "239bbefc-9f23-4da6-8b00-ecd3f2ceca5a",
        "colab": {
          "base_uri": "https://localhost:8080/",
          "height": 34
        }
      },
      "source": [
        "print(list(zip(students, marks)))"
      ],
      "execution_count": 0,
      "outputs": [
        {
          "output_type": "stream",
          "text": [
            "[('Arvind', 10), ('Gagan', 8), ('ABC', 5)]\n"
          ],
          "name": "stdout"
        }
      ]
    },
    {
      "cell_type": "code",
      "metadata": {
        "id": "7Ep1tAXhGTVG",
        "colab_type": "code",
        "outputId": "a5248e11-fb8c-449a-e550-f185ac7d0718",
        "colab": {
          "base_uri": "https://localhost:8080/",
          "height": 34
        }
      },
      "source": [
        "list(zip(students, zip(marks, students)))"
      ],
      "execution_count": 0,
      "outputs": [
        {
          "output_type": "execute_result",
          "data": {
            "text/plain": [
              "[('Arvind', (10, 'Arvind')), ('Gagan', (8, 'Gagan')), ('ABC', (5, 'ABC'))]"
            ]
          },
          "metadata": {
            "tags": []
          },
          "execution_count": 200
        }
      ]
    },
    {
      "cell_type": "code",
      "metadata": {
        "id": "RyCGFZZHHe_u",
        "colab_type": "code",
        "colab": {}
      },
      "source": [
        "zip?"
      ],
      "execution_count": 0,
      "outputs": []
    },
    {
      "cell_type": "code",
      "metadata": {
        "id": "BSfdqabJKUCe",
        "colab_type": "code",
        "outputId": "8ef3d560-e1ae-4e6a-c6fb-f6aac279af20",
        "colab": {
          "base_uri": "https://localhost:8080/",
          "height": 34
        }
      },
      "source": [
        "marks2 = [10, 5, 9]\n",
        "list(zip(students, marks, marks2))"
      ],
      "execution_count": 0,
      "outputs": [
        {
          "output_type": "execute_result",
          "data": {
            "text/plain": [
              "[('Arvind', 10, 10), ('Gagan', 8, 5), ('ABC', 5, 9)]"
            ]
          },
          "metadata": {
            "tags": []
          },
          "execution_count": 202
        }
      ]
    },
    {
      "cell_type": "markdown",
      "metadata": {
        "id": "ziHcI0RTjJcl",
        "colab_type": "text"
      },
      "source": [
        "#### Composite Data Type\n",
        "\n",
        "- bytearray()\n",
        "- bytes()\n",
        "- dict()\n",
        "- frozenset()\n",
        "- list()\n",
        "- object()\n",
        "- set()\n",
        "- tuple()"
      ]
    },
    {
      "cell_type": "markdown",
      "metadata": {
        "id": "aQLvVgRijJ2g",
        "colab_type": "text"
      },
      "source": [
        "#### Classes, Attributes, and Inheritance\n",
        "\n",
        "- classmethod()\n",
        "- delattr()\n",
        "- getattr()\n",
        "- hasattr()\n",
        "- isinstance()\n",
        "- issubclass()\n",
        "- property()\n",
        "- setattr()\n",
        "- super()"
      ]
    },
    {
      "cell_type": "markdown",
      "metadata": {
        "id": "GLgQ9nqOjKKb",
        "colab_type": "text"
      },
      "source": [
        "#### Input/Output\n",
        "\n",
        "- format()\n",
        "- input()\n",
        "- open()\n",
        "- print()"
      ]
    },
    {
      "cell_type": "markdown",
      "metadata": {
        "id": "pCHY_eVhjKcy",
        "colab_type": "text"
      },
      "source": [
        "#### Variables, References, and Scope\n",
        "\n",
        "- dir()\n",
        "- globals()\n",
        "- id()\n",
        "- locals()\n",
        "- vars()"
      ]
    },
    {
      "cell_type": "markdown",
      "metadata": {
        "id": "PBf7e7T-jNMY",
        "colab_type": "text"
      },
      "source": [
        "#### Miscellaneous\n",
        "\n",
        "- callable()\n",
        "- compile()\n",
        "- eval()\n",
        "- exec()\n",
        "- hash()\n",
        "- help()\n",
        "- memoryview()\n",
        "- staticmethod()\n",
        "- _ _ import _ _()"
      ]
    },
    {
      "cell_type": "markdown",
      "metadata": {
        "id": "MEXRLnaAjKuX",
        "colab_type": "text"
      },
      "source": [
        "## Lists Operations\n",
        "\n",
        "Lists are a collection of various values that have the same name but are seperated by a 'poition' or 'index' or 'location'. We will explore lists and various operations related to lists.\n",
        "\n",
        "It must be noted that lists are *mutable*.\n",
        "\n",
        "Another thing to note is that indexing in Python starts with 0. If you dont know what that means then good. You don't have to unlearn bad habits of another language.\n",
        "\n",
        "We will see what that means and a lot of other properties of lists in the next section."
      ]
    },
    {
      "cell_type": "markdown",
      "metadata": {
        "id": "0lGpvL85WPC3",
        "colab_type": "text"
      },
      "source": [
        "### Create a list"
      ]
    },
    {
      "cell_type": "code",
      "metadata": {
        "id": "eCBoF-lXKv_X",
        "colab_type": "code",
        "colab": {}
      },
      "source": [
        "lst1 = []\n",
        "print(lst1)"
      ],
      "execution_count": 0,
      "outputs": []
    },
    {
      "cell_type": "code",
      "metadata": {
        "id": "BHid98ZCQ7m5",
        "colab_type": "code",
        "colab": {}
      },
      "source": [
        "lst1 = [1, 2, 3, 4]\n",
        "print(lst1)"
      ],
      "execution_count": 0,
      "outputs": []
    },
    {
      "cell_type": "markdown",
      "metadata": {
        "id": "TnWHgHWeWSkT",
        "colab_type": "text"
      },
      "source": [
        "### Expand a list"
      ]
    },
    {
      "cell_type": "code",
      "metadata": {
        "id": "f5StgfLlRH7m",
        "colab_type": "code",
        "colab": {}
      },
      "source": [
        "lst2 = [5, 6, 7, 8]\n",
        "print(lst2)\n",
        "print(lst1 + lst2)"
      ],
      "execution_count": 0,
      "outputs": []
    },
    {
      "cell_type": "code",
      "metadata": {
        "id": "SxHz14ckRHxZ",
        "colab_type": "code",
        "colab": {}
      },
      "source": [
        "lst1.append(6)\n",
        "print(lst1)"
      ],
      "execution_count": 0,
      "outputs": []
    },
    {
      "cell_type": "markdown",
      "metadata": {
        "id": "7UyFCysnWXad",
        "colab_type": "text"
      },
      "source": [
        "### Extract a value from a list"
      ]
    },
    {
      "cell_type": "code",
      "metadata": {
        "id": "wsht9ennRHmy",
        "colab_type": "code",
        "colab": {}
      },
      "source": [
        "lst1.pop(3)"
      ],
      "execution_count": 0,
      "outputs": []
    },
    {
      "cell_type": "code",
      "metadata": {
        "id": "8yuK7tKZRHc4",
        "colab_type": "code",
        "colab": {}
      },
      "source": [
        "print(lst1)"
      ],
      "execution_count": 0,
      "outputs": []
    },
    {
      "cell_type": "code",
      "metadata": {
        "id": "AT2v7U_5RHSF",
        "colab_type": "code",
        "colab": {}
      },
      "source": [
        "print(lst1[3])"
      ],
      "execution_count": 0,
      "outputs": []
    },
    {
      "cell_type": "code",
      "metadata": {
        "id": "Hvz7I76tMZt7",
        "colab_type": "code",
        "colab": {}
      },
      "source": [
        "lst1"
      ],
      "execution_count": 0,
      "outputs": []
    },
    {
      "cell_type": "markdown",
      "metadata": {
        "id": "7T7rtX00XFju",
        "colab_type": "text"
      },
      "source": [
        "### Update a value of a list: Mutation"
      ]
    },
    {
      "cell_type": "code",
      "metadata": {
        "id": "loyb4cONRHHa",
        "colab_type": "code",
        "colab": {}
      },
      "source": [
        "lst1[3] = 8"
      ],
      "execution_count": 0,
      "outputs": []
    },
    {
      "cell_type": "code",
      "metadata": {
        "id": "08xfhuHwRG43",
        "colab_type": "code",
        "colab": {}
      },
      "source": [
        "print(lst1)"
      ],
      "execution_count": 0,
      "outputs": []
    },
    {
      "cell_type": "markdown",
      "metadata": {
        "id": "bAvHPPvXaZxY",
        "colab_type": "text"
      },
      "source": [
        "### Copying a list"
      ]
    },
    {
      "cell_type": "code",
      "metadata": {
        "id": "7LI10J8baazI",
        "colab_type": "code",
        "colab": {}
      },
      "source": [
        "lst3 = lst1\n",
        "print(lst3)"
      ],
      "execution_count": 0,
      "outputs": []
    },
    {
      "cell_type": "code",
      "metadata": {
        "id": "8kK5LEUVaaP_",
        "colab_type": "code",
        "colab": {}
      },
      "source": [
        "print(lst3[2], lst1[2])\n",
        "lst3[2] = 11\n",
        "print(lst3[2], lst1[2])"
      ],
      "execution_count": 0,
      "outputs": []
    },
    {
      "cell_type": "code",
      "metadata": {
        "id": "7jcmb0Ksat7y",
        "colab_type": "code",
        "colab": {}
      },
      "source": [
        "lst4 = lst1.copy()\n",
        "print(lst4[2], lst1[2])\n",
        "lst4[2] = 10\n",
        "print(lst4[2], lst1[2])"
      ],
      "execution_count": 0,
      "outputs": []
    },
    {
      "cell_type": "code",
      "metadata": {
        "id": "jGkbYRsIatkU",
        "colab_type": "code",
        "colab": {}
      },
      "source": [
        "lst4 = list(lst1)\n",
        "print(lst4[2], lst1[2])\n",
        "lst4[2] = 10\n",
        "print(lst4[2], lst1[2])"
      ],
      "execution_count": 0,
      "outputs": []
    },
    {
      "cell_type": "markdown",
      "metadata": {
        "id": "wsyAvVayX8qI",
        "colab_type": "text"
      },
      "source": [
        "### Negative Index"
      ]
    },
    {
      "cell_type": "code",
      "metadata": {
        "id": "m_0KYNg-Ntir",
        "colab_type": "code",
        "colab": {}
      },
      "source": [
        "print(lst3)\n",
        "print(lst3[-1])\n",
        "print(lst3[-2])\n",
        "print(lst3[-3])"
      ],
      "execution_count": 0,
      "outputs": []
    },
    {
      "cell_type": "markdown",
      "metadata": {
        "id": "9OusoW1_asf1",
        "colab_type": "text"
      },
      "source": [
        ""
      ]
    },
    {
      "cell_type": "markdown",
      "metadata": {
        "id": "hme6DBjiXJwe",
        "colab_type": "text"
      },
      "source": [
        "## Loops"
      ]
    },
    {
      "cell_type": "code",
      "metadata": {
        "id": "ufkblNH_WL8x",
        "colab_type": "code",
        "colab": {}
      },
      "source": [
        "for i in lst1:  # [1, 2, 11, 8]\n",
        "  print(i)\n",
        "  \n",
        "# \"\"\"\n",
        "# i = lst1[0]\n",
        "# print(i)\n",
        "\n",
        "# i = lst1[1]\n",
        "# print(i)\n",
        "\n",
        "# i = lst1[2]\n",
        "# print(i)\n",
        "\n",
        "# i = lst1[3]\n",
        "# print(i)\n",
        "# \"\"\""
      ],
      "execution_count": 0,
      "outputs": []
    },
    {
      "cell_type": "code",
      "metadata": {
        "id": "INaQmm0mWLv3",
        "colab_type": "code",
        "colab": {}
      },
      "source": [
        "for i in lst4:\n",
        "  print(i + 6)"
      ],
      "execution_count": 0,
      "outputs": []
    },
    {
      "cell_type": "code",
      "metadata": {
        "id": "HhGlJjzUWLi5",
        "colab_type": "code",
        "colab": {}
      },
      "source": [
        "for i in lst3:\n",
        "  print(i)\n",
        "  k = i + 5\n",
        "  print(k)\n",
        "  l = k * i\n",
        "  print(l)\n",
        "  m = l + k\n",
        "  print(m)\n",
        "  print('-----')\n",
        "print('Somethig else!')"
      ],
      "execution_count": 0,
      "outputs": []
    },
    {
      "cell_type": "code",
      "metadata": {
        "id": "buPqyywNWKsg",
        "colab_type": "code",
        "colab": {}
      },
      "source": [
        "print(k)"
      ],
      "execution_count": 0,
      "outputs": []
    },
    {
      "cell_type": "code",
      "metadata": {
        "id": "_bScmgdgWLUj",
        "colab_type": "code",
        "colab": {}
      },
      "source": [
        "print(lst3)\n",
        "for i in lst3:\n",
        "  lst3[2] += 1  # lst[3] = lst[3] + 1\n",
        "  i = i ** 2\n",
        "  print(i)"
      ],
      "execution_count": 0,
      "outputs": []
    },
    {
      "cell_type": "code",
      "metadata": {
        "id": "IsMg93mHQACz",
        "colab_type": "code",
        "colab": {}
      },
      "source": [
        "lst3"
      ],
      "execution_count": 0,
      "outputs": []
    },
    {
      "cell_type": "code",
      "metadata": {
        "id": "dqYWT619M9Df",
        "colab_type": "code",
        "colab": {}
      },
      "source": [
        "for i in range(len(lst3) -1, -5, -1):\n",
        "  print(i, lst3[i])"
      ],
      "execution_count": 0,
      "outputs": []
    },
    {
      "cell_type": "code",
      "metadata": {
        "id": "lIGn9ed5SIH1",
        "colab_type": "code",
        "colab": {}
      },
      "source": [
        "for i in range(len(lst3)):\n",
        "  print(i, lst3[i])"
      ],
      "execution_count": 0,
      "outputs": []
    },
    {
      "cell_type": "code",
      "metadata": {
        "id": "cBNLsJnNNUNh",
        "colab_type": "code",
        "colab": {}
      },
      "source": [
        "i = 0\n",
        "while i < 10:\n",
        "  print(i)\n",
        "  i = i + 3"
      ],
      "execution_count": 0,
      "outputs": []
    },
    {
      "cell_type": "code",
      "metadata": {
        "id": "9C8GlUidMn-y",
        "colab_type": "code",
        "colab": {}
      },
      "source": [
        "lst3"
      ],
      "execution_count": 0,
      "outputs": []
    },
    {
      "cell_type": "code",
      "metadata": {
        "id": "lbrzCiEbWLGt",
        "colab_type": "code",
        "colab": {}
      },
      "source": [
        "lst5 = []\n",
        "print(lst4)\n",
        "for i in lst4:\n",
        "  lst5.append(i*2)\n",
        "  print(lst5)"
      ],
      "execution_count": 0,
      "outputs": []
    },
    {
      "cell_type": "code",
      "metadata": {
        "id": "KvX8bC_dWK5i",
        "colab_type": "code",
        "colab": {}
      },
      "source": [
        "print(lst5)"
      ],
      "execution_count": 0,
      "outputs": []
    },
    {
      "cell_type": "code",
      "metadata": {
        "id": "w7pRkNaac21P",
        "colab_type": "code",
        "colab": {}
      },
      "source": [
        "print(lst2)\n",
        "print(list(enumerate(lst2)))\n",
        "for i, j in enumerate(lst2):\n",
        "  print(i, j, lst2)"
      ],
      "execution_count": 0,
      "outputs": []
    },
    {
      "cell_type": "code",
      "metadata": {
        "id": "5N5GCw9YdIwH",
        "colab_type": "code",
        "colab": {}
      },
      "source": [
        "print(lst1)\n",
        "print(lst2)\n",
        "lst3 = [1, 2, 3, 4, 5, 6, 7, 8]\n",
        "print(lst3)\n",
        "for i, j, k in zip(lst1, lst2, lst3):\n",
        "  print(i, j, k)\n",
        "print(lst1, lst2, lst3)"
      ],
      "execution_count": 0,
      "outputs": []
    },
    {
      "cell_type": "markdown",
      "metadata": {
        "id": "edLKnMATc0OC",
        "colab_type": "text"
      },
      "source": [
        "### Map, Filter and Reduce"
      ]
    },
    {
      "cell_type": "code",
      "metadata": {
        "id": "gdhbx4yjWKdM",
        "colab_type": "code",
        "colab": {}
      },
      "source": [
        "print(lst2)\n",
        "x = map(lambda x: x*3, lst2)\n",
        "print(x)\n",
        "print(list(x))\n",
        "print(list(x))\n",
        "print(lst2)"
      ],
      "execution_count": 0,
      "outputs": []
    },
    {
      "cell_type": "code",
      "metadata": {
        "id": "onf9b4k8WJ-W",
        "colab_type": "code",
        "colab": {}
      },
      "source": [
        "x = filter(lambda x: x%2 == 0, lst2)\n",
        "print(x)\n",
        "print(list(x))\n",
        "print(list(x))\n",
        "\n",
        "def double(x):\n",
        "  return(x%2 == 0)\n",
        "\n",
        "x = filter(double, lst2)\n",
        "print(x)\n",
        "y = list(x)\n",
        "print(y)\n",
        "print(y)"
      ],
      "execution_count": 0,
      "outputs": []
    },
    {
      "cell_type": "code",
      "metadata": {
        "id": "-j9FEaJJdybW",
        "colab_type": "code",
        "colab": {}
      },
      "source": [
        "from functools import reduce\n",
        "def process(x, y):\n",
        "  print(x, y)\n",
        "  return(x + y)\n",
        "x = reduce(process, lst2, 0)\n",
        "print(x, lst2)"
      ],
      "execution_count": 0,
      "outputs": []
    },
    {
      "cell_type": "code",
      "metadata": {
        "id": "ftE_fyOJeeOY",
        "colab_type": "code",
        "colab": {}
      },
      "source": [
        "x = reduce(lambda x, y: x + y, lst2, 26)\n",
        "print(x, lst2)"
      ],
      "execution_count": 0,
      "outputs": []
    },
    {
      "cell_type": "markdown",
      "metadata": {
        "id": "BVDt7dz2ZIHI",
        "colab_type": "text"
      },
      "source": [
        "##### Slicing, Dicing and Splicing\n",
        "\n",
        "1. Extract a part of the list\n",
        "2. Extract a part of a multi-dimensional list\n",
        "3. Extract every other element"
      ]
    },
    {
      "cell_type": "code",
      "metadata": {
        "id": "t9SZA4hoeudz",
        "colab_type": "code",
        "colab": {}
      },
      "source": [
        "lst = [[  1,  2,  3,  4,  5],\n",
        "       [  6,  7,  8,  9, 10],\n",
        "       [ 11, [12, 13, 14], 13, 14, 15],\n",
        "       [ 16, 17, 18, 19, 20],\n",
        "       [ 21, 22, 23, 24],\n",
        "       'A',\n",
        "       234,\n",
        "       {'A': 'B'}\n",
        "      ]\n",
        "lst"
      ],
      "execution_count": 0,
      "outputs": []
    },
    {
      "cell_type": "code",
      "metadata": {
        "id": "XBIffXhpeKux",
        "colab_type": "code",
        "colab": {}
      },
      "source": [
        "lst[0]"
      ],
      "execution_count": 0,
      "outputs": []
    },
    {
      "cell_type": "code",
      "metadata": {
        "id": "dZ-E6-X9eOdj",
        "colab_type": "code",
        "colab": {}
      },
      "source": [
        "lst[0][0]"
      ],
      "execution_count": 0,
      "outputs": []
    },
    {
      "cell_type": "code",
      "metadata": {
        "id": "jlglAHN8ePkn",
        "colab_type": "code",
        "colab": {}
      },
      "source": [
        "type(lst)"
      ],
      "execution_count": 0,
      "outputs": []
    },
    {
      "cell_type": "code",
      "metadata": {
        "id": "_22JI80heShq",
        "colab_type": "code",
        "colab": {}
      },
      "source": [
        "type(lst[0])"
      ],
      "execution_count": 0,
      "outputs": []
    },
    {
      "cell_type": "code",
      "metadata": {
        "id": "VZJYPV4HeTuE",
        "colab_type": "code",
        "colab": {}
      },
      "source": [
        "type(lst[0][0])"
      ],
      "execution_count": 0,
      "outputs": []
    },
    {
      "cell_type": "code",
      "metadata": {
        "id": "8c0NCBYqfIh3",
        "colab_type": "code",
        "colab": {}
      },
      "source": [
        "lst[0:3]"
      ],
      "execution_count": 0,
      "outputs": []
    },
    {
      "cell_type": "code",
      "metadata": {
        "id": "F8U8NbTBfJ1r",
        "colab_type": "code",
        "colab": {}
      },
      "source": [
        "lst[1:3]"
      ],
      "execution_count": 0,
      "outputs": []
    },
    {
      "cell_type": "code",
      "metadata": {
        "id": "lGN4dVltfVaT",
        "colab_type": "code",
        "colab": {}
      },
      "source": [
        "lst[:4]"
      ],
      "execution_count": 0,
      "outputs": []
    },
    {
      "cell_type": "code",
      "metadata": {
        "id": "oMXzn-eYffFk",
        "colab_type": "code",
        "colab": {}
      },
      "source": [
        "lst[3:]"
      ],
      "execution_count": 0,
      "outputs": []
    },
    {
      "cell_type": "code",
      "metadata": {
        "id": "bOICuoMQYfXj",
        "colab_type": "code",
        "colab": {}
      },
      "source": [
        "lst"
      ],
      "execution_count": 0,
      "outputs": []
    },
    {
      "cell_type": "code",
      "metadata": {
        "id": "1gh0iQYBfh95",
        "colab_type": "code",
        "colab": {}
      },
      "source": [
        "lst[0:5:2]"
      ],
      "execution_count": 0,
      "outputs": []
    },
    {
      "cell_type": "code",
      "metadata": {
        "id": "TWu8GHJCflLm",
        "colab_type": "code",
        "colab": {}
      },
      "source": [
        "lst[:5:3]"
      ],
      "execution_count": 0,
      "outputs": []
    },
    {
      "cell_type": "code",
      "metadata": {
        "id": "Q0XNoIuHfoFZ",
        "colab_type": "code",
        "colab": {}
      },
      "source": [
        "lst[0::2]"
      ],
      "execution_count": 0,
      "outputs": []
    },
    {
      "cell_type": "code",
      "metadata": {
        "id": "MvR3XqNVfqCd",
        "colab_type": "code",
        "colab": {}
      },
      "source": [
        "lst[::3]"
      ],
      "execution_count": 0,
      "outputs": []
    },
    {
      "cell_type": "code",
      "metadata": {
        "id": "prUzWAl_61s_",
        "colab_type": "code",
        "colab": {}
      },
      "source": [
        "list(map(lambda x: x[1], [[1, 2, 3], [4, 5, 6], [7, 8, 9]]))"
      ],
      "execution_count": 0,
      "outputs": []
    },
    {
      "cell_type": "code",
      "metadata": {
        "id": "dRZ8SSDQc1rg",
        "colab_type": "code",
        "colab": {}
      },
      "source": [
        "print(\"{:*^20s}\".format(\"Gagan\"))"
      ],
      "execution_count": 0,
      "outputs": []
    },
    {
      "cell_type": "code",
      "metadata": {
        "id": "qMk9VUKxc6VH",
        "colab_type": "code",
        "colab": {}
      },
      "source": [
        "nComp = 1\n",
        "print(\"I have {0:4} amazing {1:16}!\".format(nComp, \"computer\"))"
      ],
      "execution_count": 0,
      "outputs": []
    },
    {
      "cell_type": "markdown",
      "metadata": {
        "id": "-zg4T7IfjK_Q",
        "colab_type": "text"
      },
      "source": [
        "## Dictionary"
      ]
    },
    {
      "cell_type": "code",
      "metadata": {
        "id": "RFOjfrtgenN1",
        "colab_type": "code",
        "colab": {}
      },
      "source": [
        "dct1 = {\n",
        "    'Key3': 'Value 5',\n",
        "    'Key1': 'Value 1',\n",
        "    'Key2': 'Value 2',\n",
        "    'Key3': 'Val 5'\n",
        "}\n",
        "print(dct1)"
      ],
      "execution_count": 0,
      "outputs": []
    },
    {
      "cell_type": "code",
      "metadata": {
        "id": "hiAcjUCgezNo",
        "colab_type": "code",
        "colab": {}
      },
      "source": [
        "dct1.keys()"
      ],
      "execution_count": 0,
      "outputs": []
    },
    {
      "cell_type": "code",
      "metadata": {
        "id": "79LlkCkwfIVa",
        "colab_type": "code",
        "colab": {}
      },
      "source": [
        "dct1.values()"
      ],
      "execution_count": 0,
      "outputs": []
    },
    {
      "cell_type": "code",
      "metadata": {
        "id": "51w1MTtdfIAY",
        "colab_type": "code",
        "colab": {}
      },
      "source": [
        "dct1.items()"
      ],
      "execution_count": 0,
      "outputs": []
    },
    {
      "cell_type": "code",
      "metadata": {
        "id": "CjR9D0fEey6m",
        "colab_type": "code",
        "colab": {}
      },
      "source": [
        "dct1['Key1']"
      ],
      "execution_count": 0,
      "outputs": []
    },
    {
      "cell_type": "markdown",
      "metadata": {
        "id": "_g0CmycFa9kC",
        "colab_type": "text"
      },
      "source": [
        "## Python Basics Continued\n",
        "\n",
        "- Python Reference - [GitLab](https://gitlab.erc.monash.edu.au/andrease/Python4Maths) - [PDF](https://gitlab.erc.monash.edu.au/andrease/Python4Maths/blob/master/Python.pdf)\n",
        "- Python for Data Science Reference - [GitHub](https://github.com/jakevdp/PythonDataScienceHandbook) - [HTML](https://jakevdp.github.io/PythonDataScienceHandbook/)\n",
        "- Other Reference Notebooks - [KDNuggets](https://www.kdnuggets.com/2016/04/top-10-ipython-nb-tutorials.html)\n",
        "- Dezyre Free Course - [Introduction to Data Science in Python](https://www.dezyre.com/introduction-to-data-science-in-python/39)\n",
        "- Practice - [Python Practice](https://www.practicepython.org/)"
      ]
    },
    {
      "cell_type": "markdown",
      "metadata": {
        "id": "cYiem8g-sy1U",
        "colab_type": "text"
      },
      "source": [
        "# Beyond Today"
      ]
    },
    {
      "cell_type": "markdown",
      "metadata": {
        "id": "tESQl0yff5b2",
        "colab_type": "text"
      },
      "source": [
        "### Conditions"
      ]
    },
    {
      "cell_type": "markdown",
      "metadata": {
        "id": "Ivw_zobyhT0S",
        "colab_type": "text"
      },
      "source": [
        "### List Contraction"
      ]
    },
    {
      "cell_type": "markdown",
      "metadata": {
        "id": "z54mf3bAi2-b",
        "colab_type": "text"
      },
      "source": [
        "## Python Libraries\n",
        "\n",
        "- [Numpy](http://www.numpy.org/) (Numerical Python) - [Docs](https://docs.scipy.org/doc/numpy/user/) [API](https://docs.scipy.org/doc/numpy/reference/index.html) [Tutorial](https://docs.scipy.org/doc/numpy/user/quickstart.html)\n",
        "- Pandas (Python Data Analysis Library) - [Docs](https://pandas.pydata.org/) [API](http://pandas.pydata.org/pandas-docs/stable/basics.html) [Tutorial](http://pandas.pydata.org/pandas-docs/stable/tutorials.html)\n",
        "- SKLearn (Scientific Kit for Machine Learning)\n",
        "- Matplotlib (Mathematical Plotting Library)\n",
        "- Seaborn (Seaborn - An easier plotting library)\n",
        "- Scipy (Scientific Python)\n",
        "\n",
        "Some CheatSheets:\n",
        "\n",
        "- [Collection of Cheat Sheets](http://datasciencefree.com/cheatsheets.html)\n",
        "  - [Python](http://datasciencefree.com/python.pdf)\n",
        "  - [Numpy](http://datasciencefree.com/numpy.pdf)\n",
        "  - [Pandas](http://datasciencefree.com/pandas.pdf)\n",
        "- [DataCamp](https://www.datacamp.com/community/data-science-cheatsheets)\n",
        "  - [Python Basics](https://s3.amazonaws.com/assets.datacamp.com/blog_assets/PythonForDataScience.pdf)\n",
        "  - [Numpy Basics](https://s3.amazonaws.com/assets.datacamp.com/blog_assets/Numpy_Python_Cheat_Sheet.pdf)\n",
        "  - [Pandas Basics](https://s3.amazonaws.com/assets.datacamp.com/blog_assets/PandasPythonForDataScience.pdf)\n",
        "  - [SKLearn (Scikit Learn)](https://s3.amazonaws.com/assets.datacamp.com/blog_assets/Scikit_Learn_Cheat_Sheet_Python.pdf)"
      ]
    },
    {
      "cell_type": "markdown",
      "metadata": {
        "id": "ImDhs9pQnXUP",
        "colab_type": "text"
      },
      "source": [
        "### Import Statements"
      ]
    },
    {
      "cell_type": "code",
      "metadata": {
        "id": "Qllu8qJgJPDH",
        "colab_type": "code",
        "colab": {}
      },
      "source": [
        "!pip install -r requirement.txt"
      ],
      "execution_count": 0,
      "outputs": []
    },
    {
      "cell_type": "code",
      "metadata": {
        "id": "7pQ1xfCgnbWZ",
        "colab_type": "code",
        "colab": {}
      },
      "source": [
        "import this  # Normal Import Statement\n",
        "import numpy as np  # Import but give a new name (short)\n",
        "import pandas as pd\n",
        "from sklearn.linear_model import LinearRegression, LogisticRegression  # Import a specific part of the library\n",
        "from numpy import random as rnd  # Import only a part of the library (previous import numpy is not required) and name it something else\n",
        "import matplotlib.pyplot as plt  # Another way to import a specific part of the library and naming it something else\n",
        "from math import sqrt\n",
        "# from numpy import random\n",
        "import random"
      ],
      "execution_count": 0,
      "outputs": []
    },
    {
      "cell_type": "markdown",
      "metadata": {
        "id": "9aXYJ7nKnaoX",
        "colab_type": "text"
      },
      "source": [
        ""
      ]
    },
    {
      "cell_type": "markdown",
      "metadata": {
        "id": "RIpjW5aKnNeV",
        "colab_type": "text"
      },
      "source": [
        "### Numpy"
      ]
    },
    {
      "cell_type": "code",
      "metadata": {
        "id": "DRXhNZNEJ3ov",
        "colab_type": "code",
        "colab": {}
      },
      "source": [
        "import numpy as np"
      ],
      "execution_count": 0,
      "outputs": []
    },
    {
      "cell_type": "code",
      "metadata": {
        "id": "4K-fEzcCJ3lR",
        "colab_type": "code",
        "colab": {}
      },
      "source": [
        "np.ndarray((3, 4), dtype=int)"
      ],
      "execution_count": 0,
      "outputs": []
    },
    {
      "cell_type": "code",
      "metadata": {
        "id": "jS2AeTJpJ3jQ",
        "colab_type": "code",
        "colab": {}
      },
      "source": [
        "x = np.array([[2, 3, 4], [5, 6, 7]])\n",
        "x"
      ],
      "execution_count": 0,
      "outputs": []
    },
    {
      "cell_type": "code",
      "metadata": {
        "id": "spJnpL2-J3g6",
        "colab_type": "code",
        "colab": {}
      },
      "source": [
        "np.zeros((3, 4), dtype=int)"
      ],
      "execution_count": 0,
      "outputs": []
    },
    {
      "cell_type": "code",
      "metadata": {
        "id": "IpaaQUEzJ3e2",
        "colab_type": "code",
        "colab": {}
      },
      "source": [
        "np.zeros((3, 4))"
      ],
      "execution_count": 0,
      "outputs": []
    },
    {
      "cell_type": "code",
      "metadata": {
        "id": "dimXoM-HJ3bM",
        "colab_type": "code",
        "colab": {}
      },
      "source": [
        "np.ones((2, 5))"
      ],
      "execution_count": 0,
      "outputs": []
    },
    {
      "cell_type": "code",
      "metadata": {
        "id": "TVKGoIEHJ3Y0",
        "colab_type": "code",
        "colab": {}
      },
      "source": [
        "np.ones((2, 5)) * 2"
      ],
      "execution_count": 0,
      "outputs": []
    },
    {
      "cell_type": "code",
      "metadata": {
        "id": "0SabJ0mVJ3WE",
        "colab_type": "code",
        "colab": {}
      },
      "source": [
        "np.arange(1.3, -9, -0.8)"
      ],
      "execution_count": 0,
      "outputs": []
    },
    {
      "cell_type": "code",
      "metadata": {
        "id": "PShRxfCQJ3S0",
        "colab_type": "code",
        "colab": {}
      },
      "source": [
        "np.arange(9).reshape((3, 3))"
      ],
      "execution_count": 0,
      "outputs": []
    },
    {
      "cell_type": "code",
      "metadata": {
        "id": "PJC663-IJ3Q6",
        "colab_type": "code",
        "colab": {}
      },
      "source": [
        "np.random.randint(-5, 5, (3, 4))"
      ],
      "execution_count": 0,
      "outputs": []
    },
    {
      "cell_type": "code",
      "metadata": {
        "id": "dAWq2U_ZJ3Nj",
        "colab_type": "code",
        "colab": {}
      },
      "source": [
        "np.eye(4)  # I or Identity"
      ],
      "execution_count": 0,
      "outputs": []
    },
    {
      "cell_type": "code",
      "metadata": {
        "id": "D0o4rGtuJ3LF",
        "colab_type": "code",
        "colab": {}
      },
      "source": [
        "ar1 = np.arange(15).reshape(3, 5)\n",
        "ar1"
      ],
      "execution_count": 0,
      "outputs": []
    },
    {
      "cell_type": "code",
      "metadata": {
        "id": "BY6msK4fJ3Ik",
        "colab_type": "code",
        "colab": {}
      },
      "source": [
        "ar2 = np.arange(15) + 5\n",
        "ar2 = ar2.reshape(3, 5)\n",
        "ar2"
      ],
      "execution_count": 0,
      "outputs": []
    },
    {
      "cell_type": "code",
      "metadata": {
        "id": "zgdAA4vOJ3Gq",
        "colab_type": "code",
        "colab": {}
      },
      "source": [
        "ar3 = np.arange(15).reshape(5, 3)\n",
        "ar3"
      ],
      "execution_count": 0,
      "outputs": []
    },
    {
      "cell_type": "code",
      "metadata": {
        "id": "siLhY4e0J3DM",
        "colab_type": "code",
        "colab": {}
      },
      "source": [
        "ar1.flatten()"
      ],
      "execution_count": 0,
      "outputs": []
    },
    {
      "cell_type": "code",
      "metadata": {
        "id": "FOxDr_5vJ3BJ",
        "colab_type": "code",
        "colab": {}
      },
      "source": [
        "ar1 + ar2"
      ],
      "execution_count": 0,
      "outputs": []
    },
    {
      "cell_type": "code",
      "metadata": {
        "id": "ig5bnTDkJ29_",
        "colab_type": "code",
        "colab": {}
      },
      "source": [
        "ar1 + ar3"
      ],
      "execution_count": 0,
      "outputs": []
    },
    {
      "cell_type": "code",
      "metadata": {
        "id": "_SBgdJ2BJ279",
        "colab_type": "code",
        "colab": {}
      },
      "source": [
        "ar1 - ar2"
      ],
      "execution_count": 0,
      "outputs": []
    },
    {
      "cell_type": "code",
      "metadata": {
        "id": "LMDto9QqJ25A",
        "colab_type": "code",
        "colab": {}
      },
      "source": [
        "ar1 * ar2"
      ],
      "execution_count": 0,
      "outputs": []
    },
    {
      "cell_type": "code",
      "metadata": {
        "id": "kEntPeNkJ203",
        "colab_type": "code",
        "colab": {}
      },
      "source": [
        "ar1 / ar2"
      ],
      "execution_count": 0,
      "outputs": []
    },
    {
      "cell_type": "code",
      "metadata": {
        "id": "oBb7tGlxJ2sQ",
        "colab_type": "code",
        "colab": {}
      },
      "source": [
        "ar1"
      ],
      "execution_count": 0,
      "outputs": []
    },
    {
      "cell_type": "code",
      "metadata": {
        "id": "DK1t53K0kkKP",
        "colab_type": "code",
        "colab": {}
      },
      "source": [
        "ar1.T"
      ],
      "execution_count": 0,
      "outputs": []
    },
    {
      "cell_type": "code",
      "metadata": {
        "id": "BLZrGg8ooUrI",
        "colab_type": "code",
        "colab": {}
      },
      "source": [
        "ar1.dot(ar3)"
      ],
      "execution_count": 0,
      "outputs": []
    },
    {
      "cell_type": "code",
      "metadata": {
        "id": "sQLMbfI_SJQ6",
        "colab_type": "code",
        "colab": {}
      },
      "source": [
        "ar1"
      ],
      "execution_count": 0,
      "outputs": []
    },
    {
      "cell_type": "code",
      "metadata": {
        "id": "N0l1P9ySSNzQ",
        "colab_type": "code",
        "colab": {}
      },
      "source": [
        "ar3"
      ],
      "execution_count": 0,
      "outputs": []
    },
    {
      "cell_type": "markdown",
      "metadata": {
        "id": "I1HyLjx7SYad",
        "colab_type": "text"
      },
      "source": [
        "#### Matrix Multiplication\n",
        "\n",
        "Steps are:\n",
        "\n",
        "1. ar1 has 5 columns -> ar3 must have 5 rows\n",
        "2. since ar1 has 3 rows and ar3 has 3 column our answer will have 3 rows and 3 columns\n",
        "3. we select the first row of ar1 and the first column of ar3 and do an element wise multiplication and then sum it up -> this is the value of the first row and first column of our answer."
      ]
    },
    {
      "cell_type": "code",
      "metadata": {
        "id": "OIjr7H1xSOMr",
        "colab_type": "code",
        "colab": {}
      },
      "source": [
        "0*0 + 1*3 + 2*6 + 3*9 + 4*12"
      ],
      "execution_count": 0,
      "outputs": []
    },
    {
      "cell_type": "code",
      "metadata": {
        "id": "qFzvILohTP1V",
        "colab_type": "code",
        "colab": {}
      },
      "source": [
        "5*0 + 6*3 + 7*6 + 8*9 + 9*12"
      ],
      "execution_count": 0,
      "outputs": []
    },
    {
      "cell_type": "code",
      "metadata": {
        "id": "F1kBUgAkTiK_",
        "colab_type": "code",
        "colab": {}
      },
      "source": [
        "prices = np.array([1, 5, 6, 8])\n",
        "shoppers = np.array([\n",
        "    [5, 0, 9, 6],\n",
        "    [0, 7, 3, 1],\n",
        "    [6, 5, 7, 2],\n",
        "    [6, 8, 2, 7]\n",
        "])\n",
        "invoices = shoppers.dot(prices)\n",
        "invoices"
      ],
      "execution_count": 0,
      "outputs": []
    },
    {
      "cell_type": "code",
      "metadata": {
        "id": "AaVgeaEgUHVC",
        "colab_type": "code",
        "colab": {}
      },
      "source": [
        "5*1+0*5+9*6+6*8"
      ],
      "execution_count": 0,
      "outputs": []
    },
    {
      "cell_type": "markdown",
      "metadata": {
        "id": "FXevfyj4UzZT",
        "colab_type": "text"
      },
      "source": [
        "$\\left[ A \\right] \\rightarrow$ Shoppers and their shopping karts\n",
        "\n",
        "$ \\left[ B \\right] \\rightarrow$ Item Prices\n",
        "\n",
        "$ \\left[ C \\right] \\rightarrow$ Invoice Amounts\n",
        "\n",
        "$ C = A \\bullet B$\n",
        "\n",
        "$ A^{-1} \\bullet C = B$\n",
        "\n",
        "$ A^{-1} \\bullet A = A \\bullet A^{-1} = I$"
      ]
    },
    {
      "cell_type": "code",
      "metadata": {
        "id": "m9r-N1U-USeh",
        "colab_type": "code",
        "colab": {}
      },
      "source": [
        "np.linalg.inv(shoppers)  # Inverse of a matrix"
      ],
      "execution_count": 0,
      "outputs": []
    },
    {
      "cell_type": "code",
      "metadata": {
        "id": "ZN7Lbu9bUvTM",
        "colab_type": "code",
        "colab": {}
      },
      "source": [
        "np.linalg.inv(shoppers).dot(shoppers)"
      ],
      "execution_count": 0,
      "outputs": []
    },
    {
      "cell_type": "code",
      "metadata": {
        "id": "YWzlgMF2WD0P",
        "colab_type": "code",
        "colab": {}
      },
      "source": [
        "shoppers.dot(np.linalg.inv(shoppers))"
      ],
      "execution_count": 0,
      "outputs": []
    },
    {
      "cell_type": "code",
      "metadata": {
        "id": "6qI1015DWTKm",
        "colab_type": "code",
        "colab": {}
      },
      "source": [
        "np.linalg.inv(shoppers).dot(invoices)"
      ],
      "execution_count": 0,
      "outputs": []
    },
    {
      "cell_type": "code",
      "metadata": {
        "id": "Kxsh3K6YWYpv",
        "colab_type": "code",
        "colab": {}
      },
      "source": [
        "np.abs(ar1 - ar2)"
      ],
      "execution_count": 0,
      "outputs": []
    },
    {
      "cell_type": "code",
      "metadata": {
        "id": "zm2-Pl4jXpQy",
        "colab_type": "code",
        "colab": {}
      },
      "source": [
        "ar1 - ar2"
      ],
      "execution_count": 0,
      "outputs": []
    },
    {
      "cell_type": "code",
      "metadata": {
        "id": "T3vaBChmXqxP",
        "colab_type": "code",
        "colab": {}
      },
      "source": [
        "np.max(ar1)"
      ],
      "execution_count": 0,
      "outputs": []
    },
    {
      "cell_type": "code",
      "metadata": {
        "id": "7Fs8bGG4XvAO",
        "colab_type": "code",
        "colab": {}
      },
      "source": [
        "np.max(ar1, axis=0)"
      ],
      "execution_count": 0,
      "outputs": []
    },
    {
      "cell_type": "code",
      "metadata": {
        "id": "pdcPSW6fXyLu",
        "colab_type": "code",
        "colab": {}
      },
      "source": [
        "np.max(ar1, axis=1)"
      ],
      "execution_count": 0,
      "outputs": []
    },
    {
      "cell_type": "code",
      "metadata": {
        "id": "0cIVFjNKX3nD",
        "colab_type": "code",
        "colab": {}
      },
      "source": [
        "np.sum(ar1, axis=0)"
      ],
      "execution_count": 0,
      "outputs": []
    },
    {
      "cell_type": "code",
      "metadata": {
        "id": "Fx5H98G6X_eC",
        "colab_type": "code",
        "colab": {}
      },
      "source": [
        "np.argmax(ar1, axis=0)"
      ],
      "execution_count": 0,
      "outputs": []
    },
    {
      "cell_type": "code",
      "metadata": {
        "id": "uszVJOWeYE_c",
        "colab_type": "code",
        "colab": {}
      },
      "source": [
        "ar1"
      ],
      "execution_count": 0,
      "outputs": []
    },
    {
      "cell_type": "code",
      "metadata": {
        "id": "fmEYINptYLlb",
        "colab_type": "code",
        "colab": {}
      },
      "source": [
        "np.argmax(ar1, axis=1)"
      ],
      "execution_count": 0,
      "outputs": []
    },
    {
      "cell_type": "code",
      "metadata": {
        "id": "bvK_j9ZlYTSi",
        "colab_type": "code",
        "colab": {}
      },
      "source": [
        "ar4 = np.sin(ar1)\n",
        "ar4"
      ],
      "execution_count": 0,
      "outputs": []
    },
    {
      "cell_type": "code",
      "metadata": {
        "id": "DsFRKsZYYd5l",
        "colab_type": "code",
        "colab": {}
      },
      "source": [
        "ar1.shape"
      ],
      "execution_count": 0,
      "outputs": []
    },
    {
      "cell_type": "code",
      "metadata": {
        "id": "mYUIwZecYhnO",
        "colab_type": "code",
        "colab": {}
      },
      "source": [
        "np.argmax(ar4, axis=0)"
      ],
      "execution_count": 0,
      "outputs": []
    },
    {
      "cell_type": "code",
      "metadata": {
        "id": "nQPyVzfLY8Y1",
        "colab_type": "code",
        "colab": {}
      },
      "source": [
        "np.argmax(ar4, axis=1)"
      ],
      "execution_count": 0,
      "outputs": []
    },
    {
      "cell_type": "code",
      "metadata": {
        "id": "hXB2lZpXZJHe",
        "colab_type": "code",
        "colab": {}
      },
      "source": [
        "np.argmax(ar4)"
      ],
      "execution_count": 0,
      "outputs": []
    },
    {
      "cell_type": "code",
      "metadata": {
        "id": "1gy9JKlJZNWI",
        "colab_type": "code",
        "colab": {}
      },
      "source": [
        "ar4.flatten()"
      ],
      "execution_count": 0,
      "outputs": []
    },
    {
      "cell_type": "code",
      "metadata": {
        "id": "xeJTNEE2ZQXf",
        "colab_type": "code",
        "colab": {}
      },
      "source": [
        "np.array([1, 2, 3, 4]).shape"
      ],
      "execution_count": 0,
      "outputs": []
    },
    {
      "cell_type": "code",
      "metadata": {
        "id": "v9NAVmHJZedQ",
        "colab_type": "code",
        "colab": {}
      },
      "source": [
        "np.array([[1, 2, 3, 4]]).shape"
      ],
      "execution_count": 0,
      "outputs": []
    },
    {
      "cell_type": "code",
      "metadata": {
        "id": "04II0798ZhLO",
        "colab_type": "code",
        "colab": {}
      },
      "source": [
        "np.array([1, 2, 3, 4], ndmin=2).shape"
      ],
      "execution_count": 0,
      "outputs": []
    },
    {
      "cell_type": "code",
      "metadata": {
        "id": "DEM1iU_CZnqo",
        "colab_type": "code",
        "colab": {}
      },
      "source": [
        ""
      ],
      "execution_count": 0,
      "outputs": []
    },
    {
      "cell_type": "code",
      "metadata": {
        "id": "o2XLUEeJhNsP",
        "colab_type": "code",
        "colab": {}
      },
      "source": [
        "lst = []\n",
        "for i in range(10):\n",
        "  lst.append(i * 4)\n",
        "  print(i, lst)\n",
        "print(lst)"
      ],
      "execution_count": 0,
      "outputs": []
    },
    {
      "cell_type": "code",
      "metadata": {
        "id": "6ePTZe_Phm9l",
        "colab_type": "code",
        "colab": {}
      },
      "source": [
        "lst = [i * 3 for i in range(10)]\n",
        "lst"
      ],
      "execution_count": 0,
      "outputs": []
    },
    {
      "cell_type": "code",
      "metadata": {
        "id": "H7XlcEDChsiN",
        "colab_type": "code",
        "colab": {}
      },
      "source": [
        "lst = [i*i + i for i in range(1, 10, 2)]\n",
        "lst"
      ],
      "execution_count": 0,
      "outputs": []
    },
    {
      "cell_type": "code",
      "metadata": {
        "id": "9hqRQdtAh0xL",
        "colab_type": "code",
        "colab": {}
      },
      "source": [
        "lst = [i * 2 for i in range(20) if i % 3 == 0]\n",
        "lst"
      ],
      "execution_count": 0,
      "outputs": []
    },
    {
      "cell_type": "code",
      "metadata": {
        "id": "W689xCjmh8tQ",
        "colab_type": "code",
        "colab": {}
      },
      "source": [
        ""
      ],
      "execution_count": 0,
      "outputs": []
    },
    {
      "cell_type": "code",
      "metadata": {
        "id": "q-D-W9S4frBK",
        "colab_type": "code",
        "colab": {}
      },
      "source": [
        "lst[0][0] == 5"
      ],
      "execution_count": 0,
      "outputs": []
    },
    {
      "cell_type": "code",
      "metadata": {
        "id": "fuHC1swggHWL",
        "colab_type": "code",
        "colab": {}
      },
      "source": [
        "lst[0][0] == 1"
      ],
      "execution_count": 0,
      "outputs": []
    },
    {
      "cell_type": "code",
      "metadata": {
        "id": "pjqIXkw5gKAL",
        "colab_type": "code",
        "colab": {}
      },
      "source": [
        "if lst[0][0] == 1:\n",
        "  print('This is True!!')\n",
        "else:\n",
        "  print('It was all a dream!')\n",
        "print('Everybody comes here!')"
      ],
      "execution_count": 0,
      "outputs": []
    },
    {
      "cell_type": "code",
      "metadata": {
        "id": "GugZQs63gVcZ",
        "colab_type": "code",
        "colab": {}
      },
      "source": [
        "if lst[1][2] == 8:\n",
        "  print('True again!')\n",
        "if lst[3][4] == 20:\n",
        "  print('This is also True!!')\n",
        "else:\n",
        "  print('Finally a dream!!')"
      ],
      "execution_count": 0,
      "outputs": []
    },
    {
      "cell_type": "code",
      "metadata": {
        "id": "ILDqAj2Ggz4a",
        "colab_type": "code",
        "colab": {}
      },
      "source": [
        "if lst[1][2] == 3:\n",
        "  print('True again!')\n",
        "else:\n",
        "  if lst[3][4] == 2:\n",
        "    print('This is also True!!')\n",
        "  else:\n",
        "    print('Finally a dream!!')\n",
        "  print('Else 1 ends!')\n",
        "# Nested IF - Else Blocks or Nested IF Conditions"
      ],
      "execution_count": 0,
      "outputs": []
    },
    {
      "cell_type": "code",
      "metadata": {
        "id": "ZslQsUNWg4bS",
        "colab_type": "code",
        "colab": {}
      },
      "source": [
        "if lst[1][2] == 8:\n",
        "  print('True again!')\n",
        "elif lst[3][4] == 20:\n",
        "  print('This is also True!!')\n",
        "else:\n",
        "  print('Finally a dream!!')"
      ],
      "execution_count": 0,
      "outputs": []
    },
    {
      "cell_type": "code",
      "metadata": {
        "id": "hdUJtjE09c2L",
        "colab_type": "code",
        "colab": {}
      },
      "source": [
        "greeting = 'Hi'\n",
        "\n",
        "operations = {\n",
        "    'Hi': lambda: print(12345),\n",
        "    'Hello': lambda: print('ABCDE')\n",
        "}\n",
        "\n",
        "operations[greeting]()"
      ],
      "execution_count": 0,
      "outputs": []
    },
    {
      "cell_type": "code",
      "metadata": {
        "id": "A6aYl8SEhEaH",
        "colab_type": "code",
        "colab": {}
      },
      "source": [
        "if ((lst[1][2] == 8) and (lst[3][4] == 20)) or (lst[0][1] == 1) and not 2 == 3:  # alternate is or\n",
        "  print('This is also True!!')\n",
        "else:\n",
        "  print('Finally a dream!!')"
      ],
      "execution_count": 0,
      "outputs": []
    },
    {
      "cell_type": "code",
      "metadata": {
        "id": "9RGYs-zXhMNC",
        "colab_type": "code",
        "colab": {}
      },
      "source": [
        "if lst[1][2] == 8 or lst[3][4] == 20:\n",
        "  print('This is also True!!')\n",
        "else:\n",
        "  print('Finally a dream!!')"
      ],
      "execution_count": 0,
      "outputs": []
    }
  ]
}