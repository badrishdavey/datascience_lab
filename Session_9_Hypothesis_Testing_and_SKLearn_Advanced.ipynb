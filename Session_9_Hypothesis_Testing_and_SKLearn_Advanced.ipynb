{
  "nbformat": 4,
  "nbformat_minor": 0,
  "metadata": {
    "colab": {
      "name": "Session 9 - Hypothesis Testing and SKLearn Advanced.ipynb",
      "version": "0.3.2",
      "provenance": [],
      "collapsed_sections": [],
      "toc_visible": true,
      "include_colab_link": true
    },
    "kernelspec": {
      "name": "python3",
      "display_name": "Python 3"
    }
  },
  "cells": [
    {
      "cell_type": "markdown",
      "metadata": {
        "id": "view-in-github",
        "colab_type": "text"
      },
      "source": [
        "<a href=\"https://colab.research.google.com/github/badrishdavey/datascience_lab/blob/master/Session_9_Hypothesis_Testing_and_SKLearn_Advanced.ipynb\" target=\"_parent\"><img src=\"https://colab.research.google.com/assets/colab-badge.svg\" alt=\"Open In Colab\"/></a>"
      ]
    },
    {
      "cell_type": "markdown",
      "metadata": {
        "id": "jg_z9w_CY-je",
        "colab_type": "text"
      },
      "source": [
        "## Hypothesis Testing\n",
        "\n",
        "Hypothesis is any statement that follows the following rules:\n",
        "\n",
        "- It is something that can be proven True or False\n",
        "- It has to be an educated guess\n",
        "- It should be a claimed fact\n",
        "- It must explain some nature of the data\n",
        "  - How is a value related to another\n",
        "  - Estimating populatation mean or std or any other parameters\n",
        "  - Relation between multiple populations"
      ]
    },
    {
      "cell_type": "markdown",
      "metadata": {
        "id": "E_1eEQmVZ8di",
        "colab_type": "text"
      },
      "source": [
        "### Competing Hypothesis\n",
        "\n",
        "- **Null Hypothesis** - Old theory or what is assumed true at this point of time\n",
        "- **Alternate Hypothesis** - New theory or what we are testing for\n",
        "\n",
        "With respect to a bag of potatoes:\n",
        "\n",
        "- Null hypothesis is that bag is 40 Kg in weight\n",
        "- Alternate is  bag is 45 Kg in weight\n",
        "- Alternate is that Bag is not 40 Kg in weight\n",
        "- Alternate is that bag is greater than 45 Kg weight"
      ]
    },
    {
      "cell_type": "markdown",
      "metadata": {
        "id": "4CLcf8FvbC_x",
        "colab_type": "text"
      },
      "source": [
        "### Tests for Hypothesis Testing\n",
        "\n",
        "- **t Test** - Data is less than 30 Samples\n",
        "- **z Test** - Data is greater than 30 Samples\n",
        "- **ANOVA** - Comparing more than 2 values (datas - columns - variables - attributes)\n",
        "\n",
        "What do I use?\n",
        "- If we are looking at 1 column/attribute/property/variable/feature\n",
        "  - If data < 30 samples - t Test\n",
        "  - If data >= 30 samples - z Test\n",
        "- If we are looking at 2 column/attribute/property/variable/feature\n",
        "  - Independant Columns\n",
        "    - If data < 30 samples - t Test\n",
        "    - If data >= 30 samples - z Test\n",
        "  - Dependant Columns\n",
        "    - Paired t Test\n",
        "- If we are looking more than 2 columns/attribute/property/variable/feature\n",
        "  - One Way ANOVA\n",
        "    - 1 dependant and 1 independant column/attribute/property/variable/feature - If we count the reference column - this is 3 columns\n",
        "  - Two Way ANOVA\n",
        "    - 1 dependent and 2 or more independant columns/attribute/property/variable/feature"
      ]
    },
    {
      "cell_type": "markdown",
      "metadata": {
        "id": "Y4N32xh9ec5a",
        "colab_type": "text"
      },
      "source": [
        "### p - value\n",
        "\n",
        "This is the probability that Null Hypothesis is True. This is the probability that Alternate Hypothesis is False.\n",
        "\n",
        "p $\\leq$ 0.05 - I am less than or equal to 5% confident that Null Hypothesis is True - ***I Say I am Rejecting The Null Hypothesis*** - I Am Accepting The Alternate Hypothesis.\n",
        "\n",
        "p > 0.05 - I am more than 5% confident that Null Hypothesis is True - ***I Say I am Accepting The Null Hypothesis*** - I Am Rejecting The Alternate Hypothesis.\n",
        "\n",
        "\n",
        "p = 1 - $\\alpha$ where $\\alpha$ is the confidence that I need."
      ]
    },
    {
      "cell_type": "markdown",
      "metadata": {
        "id": "jO67wnCVgOJb",
        "colab_type": "text"
      },
      "source": [
        "### Case - Testing for a Disease\n",
        "\n",
        "7,000,000,000\n",
        "\n",
        "0.01 %\n",
        "\n",
        "Quarantine\n",
        "\n",
        "$H_0$ says that you have the disease\n",
        "\n",
        "$H_A$ says that if you clear the test, you dont have the disease\n",
        "\n",
        "% people is our tolerance for error\n",
        "\n",
        "5 / (7000000000 * 0.0001) = 5 / 700000"
      ]
    },
    {
      "cell_type": "markdown",
      "metadata": {
        "id": "e0D-EfOkvRUR",
        "colab_type": "text"
      },
      "source": [
        "population = 700000\n",
        "\n",
        "disease = 1% of the population\n",
        "\n",
        "|| Have Disease | Do Not Have Disease |\n",
        "|---|---|---\n",
        "|Test Says You Have Disease| 99% |  10%\n",
        "|Test Says You Dont Have Disease | 1% | 90%\n",
        "\n",
        "|Type| Calculation | Value\n",
        "|---|---|---\n",
        "|Diseased Population|1% of 700000|7000\n",
        "|Disease Free Population| 99% of 700000|693000\n",
        "|Have Disease & Test Positive|99% of 7000|6930\n",
        "|Have Disease & Tested Negative|1% of 7000|70\n",
        "|No Disease & Tested Positive|10% of 693000|69300\n",
        "|No Disease & Tested Negative|90% of 693000|623700\n",
        "\n",
        "---\n",
        "\n",
        "Correct Prediction: (6930 + 623700)/700000 = 90.09%\n",
        "\n",
        "Incorrect Prediction: 9.91%\n",
        "\n",
        "---\n",
        "\n",
        "If Positive then what are the chances that I have the disease: 6930/(6930+69300) = 9.09%\n",
        "\n",
        "If Negative then what are the chances that I do not have the disease: 623700/(623700 + 70) = 99.98%\n",
        "\n",
        "---\n",
        "\n",
        "If I create a test where I aways say that you do not have the disease:\n",
        "\n",
        "---\n",
        "\n",
        "Correct Prediction: (693000)/700000 = 99%\n",
        "\n",
        "Incorrect Prediction: 1%\n",
        "\n",
        "---\n",
        "\n",
        "If Positive then what are the chances that I have the disease: 100%\n",
        "\n",
        "If Negative then what are the chances that I do not have the disease: 693000/(700000) = 99%\n",
        "\n",
        "---\n",
        "\n"
      ]
    },
    {
      "cell_type": "code",
      "metadata": {
        "id": "DW2PX0gWxUIu",
        "colab_type": "code",
        "outputId": "f0c7b426-e7fa-48f1-f421-4d4fc54fd5f9",
        "colab": {
          "base_uri": "https://localhost:8080/",
          "height": 34
        }
      },
      "source": [
        "623700/(623700 + 70)"
      ],
      "execution_count": 0,
      "outputs": [
        {
          "output_type": "execute_result",
          "data": {
            "text/plain": [
              "0.999887779149366"
            ]
          },
          "metadata": {
            "tags": []
          },
          "execution_count": 9
        }
      ]
    },
    {
      "cell_type": "markdown",
      "metadata": {
        "id": "RXa-6ZGv2OKb",
        "colab_type": "text"
      },
      "source": [
        "let say I am working for an online store. The engg team developed two landing pages A & B. Goal is to test wheher more people buy on Page A vs Page B. How should I go about testing this? how many days of data I need to collect?\n",
        "\n",
        "$H_0$ = Page A is better (in terms of number of clicks)\n",
        "\n",
        "$H_A$ = Page B increases clicks on the item by at least 10%\n",
        "\n",
        "p value = 50% = 0.5\n",
        "\n",
        "% of population to test\n",
        "\n",
        "each day 5000 people see page A and 50 people see page B\n",
        "\n",
        "page A = 1% of people click on an average and std in this is 0.5%\n",
        "\n",
        "page B = 1.3% of people click on an average and std in this is 0.7%\n",
        "\n",
        "page A = $ 0.01 \\pm \\frac{0.005}{\\sqrt{5000}}$\n",
        "\n",
        "page B = $ 0.013 \\pm \\frac{0.007}{\\sqrt{50}}$\n",
        "\n",
        "\n",
        "\n",
        "1.1 * 0.01 = 0.011 <- New Target\n",
        "\n",
        "0.011 < 0.013 pm 0.001 with a confidence of 97.5% -> $H_A$ accepted\n",
        "\n",
        "p value = 0.025\n",
        "\n"
      ]
    },
    {
      "cell_type": "markdown",
      "metadata": {
        "id": "9GB1LDmpcphn",
        "colab_type": "text"
      },
      "source": [
        "$$ Z = \\frac{x - \\mu}{\\sigma} $$\n",
        "\n",
        "$$ Z = \\frac{x - \\mu}{\\frac{\\sigma_S}{\\sqrt{N}}} = \\frac{\\left(x - \\mu \\right) \\sqrt{N}}{\\sigma_N} $$"
      ]
    },
    {
      "cell_type": "code",
      "metadata": {
        "id": "B_Yj2HOHZ7M9",
        "colab_type": "code",
        "outputId": "45add26d-2c87-406c-853e-72c08d682e17",
        "colab": {
          "base_uri": "https://localhost:8080/",
          "height": 34
        }
      },
      "source": [
        "0.013 # Average Clicks\n",
        "0.007 / math.sqrt(50)  # STD of the Clicks\n",
        "# Z value of 0.011 = 2.02  # 97.8 % confidence I am increasing the clicks by greater than 10%\n",
        "(0.013 - 0.011) / (0.007 / math.sqrt(50))"
      ],
      "execution_count": 0,
      "outputs": [
        {
          "output_type": "execute_result",
          "data": {
            "text/plain": [
              "2.0203050891044216"
            ]
          },
          "metadata": {
            "tags": []
          },
          "execution_count": 25
        }
      ]
    },
    {
      "cell_type": "code",
      "metadata": {
        "id": "PXV2oAJWanlH",
        "colab_type": "code",
        "outputId": "8163f317-e5da-4a24-e5ae-2bbc088e9147",
        "colab": {
          "base_uri": "https://localhost:8080/",
          "height": 34
        }
      },
      "source": [
        "# (target - 0.01)/(0.005/math.sqrt(5000)) = 2\n",
        "# target = 2 * 0.005 / math.sqrt(5000) + 0.01\n",
        "2 * 0.005 / math.sqrt(5000) + 0.01  # 95% confidence value of A\n",
        "(2 * 0.005 / math.sqrt(5000) + 0.01) * 1.1  # Target after 10 % increase"
      ],
      "execution_count": 0,
      "outputs": [
        {
          "output_type": "execute_result",
          "data": {
            "text/plain": [
              "0.011155563491861042"
            ]
          },
          "metadata": {
            "tags": []
          },
          "execution_count": 27
        }
      ]
    },
    {
      "cell_type": "code",
      "metadata": {
        "id": "1JBp1xoKbZl-",
        "colab_type": "code",
        "outputId": "7df1f396-5414-45e1-aab2-a04c8900c6c4",
        "colab": {
          "base_uri": "https://localhost:8080/",
          "height": 34
        }
      },
      "source": [
        "(0.013 - (2 * 0.005 / math.sqrt(5000) + 0.01) * 1.1) / (0.007 / math.sqrt(50))  # 96.86 % confidence\n",
        "# I am 96.86% confident that I am better than than 95% confidence interval of A by at least 10%"
      ],
      "execution_count": 0,
      "outputs": [
        {
          "output_type": "execute_result",
          "data": {
            "text/plain": [
              "1.8631622319615624"
            ]
          },
          "metadata": {
            "tags": []
          },
          "execution_count": 29
        }
      ]
    },
    {
      "cell_type": "code",
      "metadata": {
        "id": "JtUjiGG6Y4H5",
        "colab_type": "code",
        "outputId": "5c5109a3-dd26-4b3e-f607-83092d91351f",
        "colab": {
          "base_uri": "https://localhost:8080/",
          "height": 34
        }
      },
      "source": [
        "1 - 0.16 - 0.16  # Z = 1"
      ],
      "execution_count": 0,
      "outputs": [
        {
          "output_type": "execute_result",
          "data": {
            "text/plain": [
              "0.6799999999999999"
            ]
          },
          "metadata": {
            "tags": []
          },
          "execution_count": 19
        }
      ]
    },
    {
      "cell_type": "code",
      "metadata": {
        "id": "apeDOqZXZQ31",
        "colab_type": "code",
        "outputId": "e2892551-b3f7-4f59-e51a-a69d9d3afcbc",
        "colab": {
          "base_uri": "https://localhost:8080/",
          "height": 34
        }
      },
      "source": [
        "1 - (1 - 0.9772) * 2  # Z = 2"
      ],
      "execution_count": 0,
      "outputs": [
        {
          "output_type": "execute_result",
          "data": {
            "text/plain": [
              "0.9543999999999999"
            ]
          },
          "metadata": {
            "tags": []
          },
          "execution_count": 23
        }
      ]
    },
    {
      "cell_type": "code",
      "metadata": {
        "id": "7wtcNqh8ZdFa",
        "colab_type": "code",
        "outputId": "07d73def-c85d-4443-d47e-12cad30a9226",
        "colab": {
          "base_uri": "https://localhost:8080/",
          "height": 34
        }
      },
      "source": [
        "1 - (1 - 0.9987) * 2  # Z = 3"
      ],
      "execution_count": 0,
      "outputs": [
        {
          "output_type": "execute_result",
          "data": {
            "text/plain": [
              "0.9974000000000001"
            ]
          },
          "metadata": {
            "tags": []
          },
          "execution_count": 22
        }
      ]
    },
    {
      "cell_type": "code",
      "metadata": {
        "id": "dK-vm_HNcfu1",
        "colab_type": "code",
        "outputId": "fe48c527-81c3-49e5-8a7b-4906df7f0b75",
        "colab": {
          "base_uri": "https://localhost:8080/",
          "height": 34
        }
      },
      "source": [
        "1 - (1 - 0.9686) * 2"
      ],
      "execution_count": 0,
      "outputs": [
        {
          "output_type": "execute_result",
          "data": {
            "text/plain": [
              "0.9372"
            ]
          },
          "metadata": {
            "tags": []
          },
          "execution_count": 30
        }
      ]
    },
    {
      "cell_type": "markdown",
      "metadata": {
        "id": "2-yZQzxRiDan",
        "colab_type": "text"
      },
      "source": [
        "### Case - Testing for a Disease\n",
        "\n",
        "There is a Test A - Which checks if you have disease B\n",
        "\n",
        "99% of the population does not have this disease. (1% of population has the disease)\n",
        "\n",
        "If you have the disease 99% of the times Test A will be positive (1% of the times it ill be negative)\n",
        "\n",
        "If you do not have the disease 10% of the times Test A will still be positive (90% of the times it will be negative)\n",
        "\n",
        "Is Test A good or not.\n",
        "\n",
        "Test C - 100% positive for people with disease and 11% positive for people without disease.\n",
        "\n",
        "Which is better?\n",
        "\n",
        "99% vs 100%\n",
        "\n",
        "10% vs 11% "
      ]
    },
    {
      "cell_type": "markdown",
      "metadata": {
        "id": "baAoxtqMkvtE",
        "colab_type": "text"
      },
      "source": [
        "7,000,000,000\n",
        "\n",
        "70,000,000 - Have the disease\n",
        "\n",
        "6,930,000,000 - Do not have the disease\n",
        "\n",
        "Test A -\n",
        "\n",
        "Out of 70,000,000 people with disease - 69,300,000 will be detected and 700,000 will not be detected\n",
        "\n",
        "Out of 6,930,000,000 people without the disease - 693,000,000 will be detected as with disease and ~6, 200,000,000 will be detected as without the disease\n",
        "\n",
        "700,000 + 693,000,000 = 693,700,000 - Errors with Test A\n",
        "\n",
        "69,300,000 / (69,300,000 + 693,000,000) = 9.090909%\n",
        "\n",
        "\n",
        "Test C\n",
        "\n",
        "Out of 70,000,000 people with the disease - 70,000,000 will be detected and 0 will not be detected\n",
        "\n",
        "Out of 6, 930,000,000 people without the disease - 699,930,000 will be detected as with the disease\n",
        "\n",
        "0 + 699,930,000 Errors with Test C\n",
        "\n",
        "70,000,000 / (70,000,000 + 699,930,000) = 9.091735 %\n",
        "\n",
        "Test D\n",
        "\n",
        "No disease\n",
        "\n",
        "My errors are only 70,000,000 people\n",
        "\n",
        "\n",
        "\n",
        "\n"
      ]
    },
    {
      "cell_type": "code",
      "metadata": {
        "id": "EdGgoR6JgLnW",
        "colab_type": "code",
        "outputId": "6515bf55-0e42-4f61-c219-e64cbbead2c5",
        "colab": {
          "base_uri": "https://localhost:8080/",
          "height": 34
        }
      },
      "source": [
        "69300000 / (69300000 + 693000000), 70000000 / (70000000 + 699930000), 0"
      ],
      "execution_count": 0,
      "outputs": [
        {
          "output_type": "execute_result",
          "data": {
            "text/plain": [
              "(0.09090909090909091, 0.09091735612328393, 0)"
            ]
          },
          "metadata": {
            "tags": []
          },
          "execution_count": 35
        }
      ]
    },
    {
      "cell_type": "markdown",
      "metadata": {
        "id": "uCJI_4xEgLC4",
        "colab_type": "text"
      },
      "source": [
        ""
      ]
    },
    {
      "cell_type": "markdown",
      "metadata": {
        "id": "SE6aAbzLnjXT",
        "colab_type": "text"
      },
      "source": [
        "|Actual _ \\ Prediction >|Have Disease|Do Not Have Disease\n",
        "|-------|---|---\n",
        "|Have Disease| True Positive | False Negative\n",
        "|Do Not Have Disease| False Positive | True Negative\n",
        "\n",
        "### Type of Errors\n",
        "\n",
        "||Null Hypothesis is True|Null Hypothesis is False\n",
        "|---|---|---\n",
        "|Accept Null Hypothesis| Correct Decision | Type II Error ($\\beta \\geq$ 0.95 = 1 - $\\alpha$ )\n",
        "|Reject Null Hypothesis|Type I Error ($\\alpha$ < 0.05)| Correct Desicion\n",
        "\n",
        "Type 0 - Reject Null Hypothesis for wrong reason"
      ]
    },
    {
      "cell_type": "markdown",
      "metadata": {
        "id": "H3uN7T1bsO6f",
        "colab_type": "text"
      },
      "source": [
        "### ANOVA\n",
        "\n",
        "Analysis of Variance\n",
        "\n",
        "Degree of Freedom - \n",
        "\n",
        "5 numbers - must have an average of 3 - sum should be 15\n",
        "\n",
        "100, 50, -500, 7, 358\n",
        "\n",
        "4 value are free - Degree of Freedom\n",
        "\n",
        "Degree of Freedom = Number of Values - Number of Restrictions"
      ]
    },
    {
      "cell_type": "code",
      "metadata": {
        "id": "u5bsx_a8kYYr",
        "colab_type": "code",
        "outputId": "12536602-998e-4dac-fddf-c0ca97db044f",
        "colab": {
          "base_uri": "https://localhost:8080/",
          "height": 34
        }
      },
      "source": [
        "import numpy as np\n",
        "X = [6, 7, 10, 54]\n",
        "def find_fifth(X):\n",
        "  avg = 3\n",
        "  n = 5\n",
        "  return avg * n - sum(X)\n",
        "\n",
        "def check_fifth(X):\n",
        "  fifth = find_fifth(X)\n",
        "  X.append(fifth)\n",
        "  return fifth, np.mean(X)\n",
        "\n",
        "check_fifth([15, 25, 35, 45])"
      ],
      "execution_count": 0,
      "outputs": [
        {
          "output_type": "execute_result",
          "data": {
            "text/plain": [
              "(-105, 3.0)"
            ]
          },
          "metadata": {
            "tags": []
          },
          "execution_count": 39
        }
      ]
    },
    {
      "cell_type": "code",
      "metadata": {
        "id": "-47xGeHCRgXn",
        "colab_type": "code",
        "colab": {}
      },
      "source": [
        "15 - (100 + 50 - 500 + 7)"
      ],
      "execution_count": 0,
      "outputs": []
    },
    {
      "cell_type": "code",
      "metadata": {
        "id": "pOUCPBGm7eku",
        "colab_type": "code",
        "colab": {}
      },
      "source": [
        "import numpy as np"
      ],
      "execution_count": 0,
      "outputs": []
    },
    {
      "cell_type": "code",
      "metadata": {
        "id": "3bsM1gSUtoLP",
        "colab_type": "code",
        "outputId": "5dd5c8d0-a27d-4eee-96de-0c4f9c860a69",
        "colab": {
          "base_uri": "https://localhost:8080/",
          "height": 34
        }
      },
      "source": [
        "np.mean([8, 10, -6, 5, 7])"
      ],
      "execution_count": 0,
      "outputs": [
        {
          "output_type": "execute_result",
          "data": {
            "text/plain": [
              "4.8"
            ]
          },
          "metadata": {
            "tags": []
          },
          "execution_count": 9
        }
      ]
    },
    {
      "cell_type": "code",
      "metadata": {
        "id": "fywAdvg5mYot",
        "colab_type": "code",
        "outputId": "50d7a2b5-9360-4e00-9a14-51e17dd5fc82",
        "colab": {
          "base_uri": "https://localhost:8080/",
          "height": 34
        }
      },
      "source": [
        "np.mean([8, 10, -6, 5, -2])  # I chose 5th value to be -2"
      ],
      "execution_count": 0,
      "outputs": [
        {
          "output_type": "execute_result",
          "data": {
            "text/plain": [
              "3.0"
            ]
          },
          "metadata": {
            "tags": []
          },
          "execution_count": 11
        }
      ]
    },
    {
      "cell_type": "markdown",
      "metadata": {
        "id": "pCHZqqH68oBD",
        "colab_type": "text"
      },
      "source": [
        "## Effect of GridSearch, Scoring, Pipelines when using SKLearn"
      ]
    },
    {
      "cell_type": "code",
      "metadata": {
        "id": "W-iB0urD8aZ_",
        "colab_type": "code",
        "colab": {}
      },
      "source": [
        "from sklearn.datasets import load_iris"
      ],
      "execution_count": 0,
      "outputs": []
    },
    {
      "cell_type": "code",
      "metadata": {
        "id": "0Vm-Jdu99ZaE",
        "colab_type": "code",
        "outputId": "57081a41-4245-4531-e469-75becbebccb6",
        "colab": {
          "base_uri": "https://localhost:8080/",
          "height": 1000
        }
      },
      "source": [
        "data = load_iris()\n",
        "data"
      ],
      "execution_count": 0,
      "outputs": [
        {
          "output_type": "execute_result",
          "data": {
            "text/plain": [
              "{'DESCR': '.. _iris_dataset:\\n\\nIris plants dataset\\n--------------------\\n\\n**Data Set Characteristics:**\\n\\n    :Number of Instances: 150 (50 in each of three classes)\\n    :Number of Attributes: 4 numeric, predictive attributes and the class\\n    :Attribute Information:\\n        - sepal length in cm\\n        - sepal width in cm\\n        - petal length in cm\\n        - petal width in cm\\n        - class:\\n                - Iris-Setosa\\n                - Iris-Versicolour\\n                - Iris-Virginica\\n                \\n    :Summary Statistics:\\n\\n    ============== ==== ==== ======= ===== ====================\\n                    Min  Max   Mean    SD   Class Correlation\\n    ============== ==== ==== ======= ===== ====================\\n    sepal length:   4.3  7.9   5.84   0.83    0.7826\\n    sepal width:    2.0  4.4   3.05   0.43   -0.4194\\n    petal length:   1.0  6.9   3.76   1.76    0.9490  (high!)\\n    petal width:    0.1  2.5   1.20   0.76    0.9565  (high!)\\n    ============== ==== ==== ======= ===== ====================\\n\\n    :Missing Attribute Values: None\\n    :Class Distribution: 33.3% for each of 3 classes.\\n    :Creator: R.A. Fisher\\n    :Donor: Michael Marshall (MARSHALL%PLU@io.arc.nasa.gov)\\n    :Date: July, 1988\\n\\nThe famous Iris database, first used by Sir R.A. Fisher. The dataset is taken\\nfrom Fisher\\'s paper. Note that it\\'s the same as in R, but not as in the UCI\\nMachine Learning Repository, which has two wrong data points.\\n\\nThis is perhaps the best known database to be found in the\\npattern recognition literature.  Fisher\\'s paper is a classic in the field and\\nis referenced frequently to this day.  (See Duda & Hart, for example.)  The\\ndata set contains 3 classes of 50 instances each, where each class refers to a\\ntype of iris plant.  One class is linearly separable from the other 2; the\\nlatter are NOT linearly separable from each other.\\n\\n.. topic:: References\\n\\n   - Fisher, R.A. \"The use of multiple measurements in taxonomic problems\"\\n     Annual Eugenics, 7, Part II, 179-188 (1936); also in \"Contributions to\\n     Mathematical Statistics\" (John Wiley, NY, 1950).\\n   - Duda, R.O., & Hart, P.E. (1973) Pattern Classification and Scene Analysis.\\n     (Q327.D83) John Wiley & Sons.  ISBN 0-471-22361-1.  See page 218.\\n   - Dasarathy, B.V. (1980) \"Nosing Around the Neighborhood: A New System\\n     Structure and Classification Rule for Recognition in Partially Exposed\\n     Environments\".  IEEE Transactions on Pattern Analysis and Machine\\n     Intelligence, Vol. PAMI-2, No. 1, 67-71.\\n   - Gates, G.W. (1972) \"The Reduced Nearest Neighbor Rule\".  IEEE Transactions\\n     on Information Theory, May 1972, 431-433.\\n   - See also: 1988 MLC Proceedings, 54-64.  Cheeseman et al\"s AUTOCLASS II\\n     conceptual clustering system finds 3 classes in the data.\\n   - Many, many more ...',\n",
              " 'data': array([[5.1, 3.5, 1.4, 0.2],\n",
              "        [4.9, 3. , 1.4, 0.2],\n",
              "        [4.7, 3.2, 1.3, 0.2],\n",
              "        [4.6, 3.1, 1.5, 0.2],\n",
              "        [5. , 3.6, 1.4, 0.2],\n",
              "        [5.4, 3.9, 1.7, 0.4],\n",
              "        [4.6, 3.4, 1.4, 0.3],\n",
              "        [5. , 3.4, 1.5, 0.2],\n",
              "        [4.4, 2.9, 1.4, 0.2],\n",
              "        [4.9, 3.1, 1.5, 0.1],\n",
              "        [5.4, 3.7, 1.5, 0.2],\n",
              "        [4.8, 3.4, 1.6, 0.2],\n",
              "        [4.8, 3. , 1.4, 0.1],\n",
              "        [4.3, 3. , 1.1, 0.1],\n",
              "        [5.8, 4. , 1.2, 0.2],\n",
              "        [5.7, 4.4, 1.5, 0.4],\n",
              "        [5.4, 3.9, 1.3, 0.4],\n",
              "        [5.1, 3.5, 1.4, 0.3],\n",
              "        [5.7, 3.8, 1.7, 0.3],\n",
              "        [5.1, 3.8, 1.5, 0.3],\n",
              "        [5.4, 3.4, 1.7, 0.2],\n",
              "        [5.1, 3.7, 1.5, 0.4],\n",
              "        [4.6, 3.6, 1. , 0.2],\n",
              "        [5.1, 3.3, 1.7, 0.5],\n",
              "        [4.8, 3.4, 1.9, 0.2],\n",
              "        [5. , 3. , 1.6, 0.2],\n",
              "        [5. , 3.4, 1.6, 0.4],\n",
              "        [5.2, 3.5, 1.5, 0.2],\n",
              "        [5.2, 3.4, 1.4, 0.2],\n",
              "        [4.7, 3.2, 1.6, 0.2],\n",
              "        [4.8, 3.1, 1.6, 0.2],\n",
              "        [5.4, 3.4, 1.5, 0.4],\n",
              "        [5.2, 4.1, 1.5, 0.1],\n",
              "        [5.5, 4.2, 1.4, 0.2],\n",
              "        [4.9, 3.1, 1.5, 0.2],\n",
              "        [5. , 3.2, 1.2, 0.2],\n",
              "        [5.5, 3.5, 1.3, 0.2],\n",
              "        [4.9, 3.6, 1.4, 0.1],\n",
              "        [4.4, 3. , 1.3, 0.2],\n",
              "        [5.1, 3.4, 1.5, 0.2],\n",
              "        [5. , 3.5, 1.3, 0.3],\n",
              "        [4.5, 2.3, 1.3, 0.3],\n",
              "        [4.4, 3.2, 1.3, 0.2],\n",
              "        [5. , 3.5, 1.6, 0.6],\n",
              "        [5.1, 3.8, 1.9, 0.4],\n",
              "        [4.8, 3. , 1.4, 0.3],\n",
              "        [5.1, 3.8, 1.6, 0.2],\n",
              "        [4.6, 3.2, 1.4, 0.2],\n",
              "        [5.3, 3.7, 1.5, 0.2],\n",
              "        [5. , 3.3, 1.4, 0.2],\n",
              "        [7. , 3.2, 4.7, 1.4],\n",
              "        [6.4, 3.2, 4.5, 1.5],\n",
              "        [6.9, 3.1, 4.9, 1.5],\n",
              "        [5.5, 2.3, 4. , 1.3],\n",
              "        [6.5, 2.8, 4.6, 1.5],\n",
              "        [5.7, 2.8, 4.5, 1.3],\n",
              "        [6.3, 3.3, 4.7, 1.6],\n",
              "        [4.9, 2.4, 3.3, 1. ],\n",
              "        [6.6, 2.9, 4.6, 1.3],\n",
              "        [5.2, 2.7, 3.9, 1.4],\n",
              "        [5. , 2. , 3.5, 1. ],\n",
              "        [5.9, 3. , 4.2, 1.5],\n",
              "        [6. , 2.2, 4. , 1. ],\n",
              "        [6.1, 2.9, 4.7, 1.4],\n",
              "        [5.6, 2.9, 3.6, 1.3],\n",
              "        [6.7, 3.1, 4.4, 1.4],\n",
              "        [5.6, 3. , 4.5, 1.5],\n",
              "        [5.8, 2.7, 4.1, 1. ],\n",
              "        [6.2, 2.2, 4.5, 1.5],\n",
              "        [5.6, 2.5, 3.9, 1.1],\n",
              "        [5.9, 3.2, 4.8, 1.8],\n",
              "        [6.1, 2.8, 4. , 1.3],\n",
              "        [6.3, 2.5, 4.9, 1.5],\n",
              "        [6.1, 2.8, 4.7, 1.2],\n",
              "        [6.4, 2.9, 4.3, 1.3],\n",
              "        [6.6, 3. , 4.4, 1.4],\n",
              "        [6.8, 2.8, 4.8, 1.4],\n",
              "        [6.7, 3. , 5. , 1.7],\n",
              "        [6. , 2.9, 4.5, 1.5],\n",
              "        [5.7, 2.6, 3.5, 1. ],\n",
              "        [5.5, 2.4, 3.8, 1.1],\n",
              "        [5.5, 2.4, 3.7, 1. ],\n",
              "        [5.8, 2.7, 3.9, 1.2],\n",
              "        [6. , 2.7, 5.1, 1.6],\n",
              "        [5.4, 3. , 4.5, 1.5],\n",
              "        [6. , 3.4, 4.5, 1.6],\n",
              "        [6.7, 3.1, 4.7, 1.5],\n",
              "        [6.3, 2.3, 4.4, 1.3],\n",
              "        [5.6, 3. , 4.1, 1.3],\n",
              "        [5.5, 2.5, 4. , 1.3],\n",
              "        [5.5, 2.6, 4.4, 1.2],\n",
              "        [6.1, 3. , 4.6, 1.4],\n",
              "        [5.8, 2.6, 4. , 1.2],\n",
              "        [5. , 2.3, 3.3, 1. ],\n",
              "        [5.6, 2.7, 4.2, 1.3],\n",
              "        [5.7, 3. , 4.2, 1.2],\n",
              "        [5.7, 2.9, 4.2, 1.3],\n",
              "        [6.2, 2.9, 4.3, 1.3],\n",
              "        [5.1, 2.5, 3. , 1.1],\n",
              "        [5.7, 2.8, 4.1, 1.3],\n",
              "        [6.3, 3.3, 6. , 2.5],\n",
              "        [5.8, 2.7, 5.1, 1.9],\n",
              "        [7.1, 3. , 5.9, 2.1],\n",
              "        [6.3, 2.9, 5.6, 1.8],\n",
              "        [6.5, 3. , 5.8, 2.2],\n",
              "        [7.6, 3. , 6.6, 2.1],\n",
              "        [4.9, 2.5, 4.5, 1.7],\n",
              "        [7.3, 2.9, 6.3, 1.8],\n",
              "        [6.7, 2.5, 5.8, 1.8],\n",
              "        [7.2, 3.6, 6.1, 2.5],\n",
              "        [6.5, 3.2, 5.1, 2. ],\n",
              "        [6.4, 2.7, 5.3, 1.9],\n",
              "        [6.8, 3. , 5.5, 2.1],\n",
              "        [5.7, 2.5, 5. , 2. ],\n",
              "        [5.8, 2.8, 5.1, 2.4],\n",
              "        [6.4, 3.2, 5.3, 2.3],\n",
              "        [6.5, 3. , 5.5, 1.8],\n",
              "        [7.7, 3.8, 6.7, 2.2],\n",
              "        [7.7, 2.6, 6.9, 2.3],\n",
              "        [6. , 2.2, 5. , 1.5],\n",
              "        [6.9, 3.2, 5.7, 2.3],\n",
              "        [5.6, 2.8, 4.9, 2. ],\n",
              "        [7.7, 2.8, 6.7, 2. ],\n",
              "        [6.3, 2.7, 4.9, 1.8],\n",
              "        [6.7, 3.3, 5.7, 2.1],\n",
              "        [7.2, 3.2, 6. , 1.8],\n",
              "        [6.2, 2.8, 4.8, 1.8],\n",
              "        [6.1, 3. , 4.9, 1.8],\n",
              "        [6.4, 2.8, 5.6, 2.1],\n",
              "        [7.2, 3. , 5.8, 1.6],\n",
              "        [7.4, 2.8, 6.1, 1.9],\n",
              "        [7.9, 3.8, 6.4, 2. ],\n",
              "        [6.4, 2.8, 5.6, 2.2],\n",
              "        [6.3, 2.8, 5.1, 1.5],\n",
              "        [6.1, 2.6, 5.6, 1.4],\n",
              "        [7.7, 3. , 6.1, 2.3],\n",
              "        [6.3, 3.4, 5.6, 2.4],\n",
              "        [6.4, 3.1, 5.5, 1.8],\n",
              "        [6. , 3. , 4.8, 1.8],\n",
              "        [6.9, 3.1, 5.4, 2.1],\n",
              "        [6.7, 3.1, 5.6, 2.4],\n",
              "        [6.9, 3.1, 5.1, 2.3],\n",
              "        [5.8, 2.7, 5.1, 1.9],\n",
              "        [6.8, 3.2, 5.9, 2.3],\n",
              "        [6.7, 3.3, 5.7, 2.5],\n",
              "        [6.7, 3. , 5.2, 2.3],\n",
              "        [6.3, 2.5, 5. , 1.9],\n",
              "        [6.5, 3. , 5.2, 2. ],\n",
              "        [6.2, 3.4, 5.4, 2.3],\n",
              "        [5.9, 3. , 5.1, 1.8]]),\n",
              " 'feature_names': ['sepal length (cm)',\n",
              "  'sepal width (cm)',\n",
              "  'petal length (cm)',\n",
              "  'petal width (cm)'],\n",
              " 'filename': '/usr/local/lib/python3.6/dist-packages/sklearn/datasets/data/iris.csv',\n",
              " 'target': array([0, 0, 0, 0, 0, 0, 0, 0, 0, 0, 0, 0, 0, 0, 0, 0, 0, 0, 0, 0, 0, 0,\n",
              "        0, 0, 0, 0, 0, 0, 0, 0, 0, 0, 0, 0, 0, 0, 0, 0, 0, 0, 0, 0, 0, 0,\n",
              "        0, 0, 0, 0, 0, 0, 1, 1, 1, 1, 1, 1, 1, 1, 1, 1, 1, 1, 1, 1, 1, 1,\n",
              "        1, 1, 1, 1, 1, 1, 1, 1, 1, 1, 1, 1, 1, 1, 1, 1, 1, 1, 1, 1, 1, 1,\n",
              "        1, 1, 1, 1, 1, 1, 1, 1, 1, 1, 1, 1, 2, 2, 2, 2, 2, 2, 2, 2, 2, 2,\n",
              "        2, 2, 2, 2, 2, 2, 2, 2, 2, 2, 2, 2, 2, 2, 2, 2, 2, 2, 2, 2, 2, 2,\n",
              "        2, 2, 2, 2, 2, 2, 2, 2, 2, 2, 2, 2, 2, 2, 2, 2, 2, 2]),\n",
              " 'target_names': array(['setosa', 'versicolor', 'virginica'], dtype='<U10')}"
            ]
          },
          "metadata": {
            "tags": []
          },
          "execution_count": 41
        }
      ]
    },
    {
      "cell_type": "code",
      "metadata": {
        "id": "7BUtC865nKY2",
        "colab_type": "code",
        "outputId": "1cfb4a8f-8a7f-46b7-bbfb-f88f85948cb0",
        "colab": {
          "base_uri": "https://localhost:8080/",
          "height": 1000
        }
      },
      "source": [
        "import pandas as pd\n",
        "pd.read_csv(data.filename)"
      ],
      "execution_count": 0,
      "outputs": [
        {
          "output_type": "execute_result",
          "data": {
            "text/html": [
              "<div>\n",
              "<style scoped>\n",
              "    .dataframe tbody tr th:only-of-type {\n",
              "        vertical-align: middle;\n",
              "    }\n",
              "\n",
              "    .dataframe tbody tr th {\n",
              "        vertical-align: top;\n",
              "    }\n",
              "\n",
              "    .dataframe thead th {\n",
              "        text-align: right;\n",
              "    }\n",
              "</style>\n",
              "<table border=\"1\" class=\"dataframe\">\n",
              "  <thead>\n",
              "    <tr style=\"text-align: right;\">\n",
              "      <th></th>\n",
              "      <th>150</th>\n",
              "      <th>4</th>\n",
              "      <th>setosa</th>\n",
              "      <th>versicolor</th>\n",
              "      <th>virginica</th>\n",
              "    </tr>\n",
              "  </thead>\n",
              "  <tbody>\n",
              "    <tr>\n",
              "      <th>0</th>\n",
              "      <td>5.1</td>\n",
              "      <td>3.5</td>\n",
              "      <td>1.4</td>\n",
              "      <td>0.2</td>\n",
              "      <td>0</td>\n",
              "    </tr>\n",
              "    <tr>\n",
              "      <th>1</th>\n",
              "      <td>4.9</td>\n",
              "      <td>3.0</td>\n",
              "      <td>1.4</td>\n",
              "      <td>0.2</td>\n",
              "      <td>0</td>\n",
              "    </tr>\n",
              "    <tr>\n",
              "      <th>2</th>\n",
              "      <td>4.7</td>\n",
              "      <td>3.2</td>\n",
              "      <td>1.3</td>\n",
              "      <td>0.2</td>\n",
              "      <td>0</td>\n",
              "    </tr>\n",
              "    <tr>\n",
              "      <th>3</th>\n",
              "      <td>4.6</td>\n",
              "      <td>3.1</td>\n",
              "      <td>1.5</td>\n",
              "      <td>0.2</td>\n",
              "      <td>0</td>\n",
              "    </tr>\n",
              "    <tr>\n",
              "      <th>4</th>\n",
              "      <td>5.0</td>\n",
              "      <td>3.6</td>\n",
              "      <td>1.4</td>\n",
              "      <td>0.2</td>\n",
              "      <td>0</td>\n",
              "    </tr>\n",
              "    <tr>\n",
              "      <th>5</th>\n",
              "      <td>5.4</td>\n",
              "      <td>3.9</td>\n",
              "      <td>1.7</td>\n",
              "      <td>0.4</td>\n",
              "      <td>0</td>\n",
              "    </tr>\n",
              "    <tr>\n",
              "      <th>6</th>\n",
              "      <td>4.6</td>\n",
              "      <td>3.4</td>\n",
              "      <td>1.4</td>\n",
              "      <td>0.3</td>\n",
              "      <td>0</td>\n",
              "    </tr>\n",
              "    <tr>\n",
              "      <th>7</th>\n",
              "      <td>5.0</td>\n",
              "      <td>3.4</td>\n",
              "      <td>1.5</td>\n",
              "      <td>0.2</td>\n",
              "      <td>0</td>\n",
              "    </tr>\n",
              "    <tr>\n",
              "      <th>8</th>\n",
              "      <td>4.4</td>\n",
              "      <td>2.9</td>\n",
              "      <td>1.4</td>\n",
              "      <td>0.2</td>\n",
              "      <td>0</td>\n",
              "    </tr>\n",
              "    <tr>\n",
              "      <th>9</th>\n",
              "      <td>4.9</td>\n",
              "      <td>3.1</td>\n",
              "      <td>1.5</td>\n",
              "      <td>0.1</td>\n",
              "      <td>0</td>\n",
              "    </tr>\n",
              "    <tr>\n",
              "      <th>10</th>\n",
              "      <td>5.4</td>\n",
              "      <td>3.7</td>\n",
              "      <td>1.5</td>\n",
              "      <td>0.2</td>\n",
              "      <td>0</td>\n",
              "    </tr>\n",
              "    <tr>\n",
              "      <th>11</th>\n",
              "      <td>4.8</td>\n",
              "      <td>3.4</td>\n",
              "      <td>1.6</td>\n",
              "      <td>0.2</td>\n",
              "      <td>0</td>\n",
              "    </tr>\n",
              "    <tr>\n",
              "      <th>12</th>\n",
              "      <td>4.8</td>\n",
              "      <td>3.0</td>\n",
              "      <td>1.4</td>\n",
              "      <td>0.1</td>\n",
              "      <td>0</td>\n",
              "    </tr>\n",
              "    <tr>\n",
              "      <th>13</th>\n",
              "      <td>4.3</td>\n",
              "      <td>3.0</td>\n",
              "      <td>1.1</td>\n",
              "      <td>0.1</td>\n",
              "      <td>0</td>\n",
              "    </tr>\n",
              "    <tr>\n",
              "      <th>14</th>\n",
              "      <td>5.8</td>\n",
              "      <td>4.0</td>\n",
              "      <td>1.2</td>\n",
              "      <td>0.2</td>\n",
              "      <td>0</td>\n",
              "    </tr>\n",
              "    <tr>\n",
              "      <th>15</th>\n",
              "      <td>5.7</td>\n",
              "      <td>4.4</td>\n",
              "      <td>1.5</td>\n",
              "      <td>0.4</td>\n",
              "      <td>0</td>\n",
              "    </tr>\n",
              "    <tr>\n",
              "      <th>16</th>\n",
              "      <td>5.4</td>\n",
              "      <td>3.9</td>\n",
              "      <td>1.3</td>\n",
              "      <td>0.4</td>\n",
              "      <td>0</td>\n",
              "    </tr>\n",
              "    <tr>\n",
              "      <th>17</th>\n",
              "      <td>5.1</td>\n",
              "      <td>3.5</td>\n",
              "      <td>1.4</td>\n",
              "      <td>0.3</td>\n",
              "      <td>0</td>\n",
              "    </tr>\n",
              "    <tr>\n",
              "      <th>18</th>\n",
              "      <td>5.7</td>\n",
              "      <td>3.8</td>\n",
              "      <td>1.7</td>\n",
              "      <td>0.3</td>\n",
              "      <td>0</td>\n",
              "    </tr>\n",
              "    <tr>\n",
              "      <th>19</th>\n",
              "      <td>5.1</td>\n",
              "      <td>3.8</td>\n",
              "      <td>1.5</td>\n",
              "      <td>0.3</td>\n",
              "      <td>0</td>\n",
              "    </tr>\n",
              "    <tr>\n",
              "      <th>20</th>\n",
              "      <td>5.4</td>\n",
              "      <td>3.4</td>\n",
              "      <td>1.7</td>\n",
              "      <td>0.2</td>\n",
              "      <td>0</td>\n",
              "    </tr>\n",
              "    <tr>\n",
              "      <th>21</th>\n",
              "      <td>5.1</td>\n",
              "      <td>3.7</td>\n",
              "      <td>1.5</td>\n",
              "      <td>0.4</td>\n",
              "      <td>0</td>\n",
              "    </tr>\n",
              "    <tr>\n",
              "      <th>22</th>\n",
              "      <td>4.6</td>\n",
              "      <td>3.6</td>\n",
              "      <td>1.0</td>\n",
              "      <td>0.2</td>\n",
              "      <td>0</td>\n",
              "    </tr>\n",
              "    <tr>\n",
              "      <th>23</th>\n",
              "      <td>5.1</td>\n",
              "      <td>3.3</td>\n",
              "      <td>1.7</td>\n",
              "      <td>0.5</td>\n",
              "      <td>0</td>\n",
              "    </tr>\n",
              "    <tr>\n",
              "      <th>24</th>\n",
              "      <td>4.8</td>\n",
              "      <td>3.4</td>\n",
              "      <td>1.9</td>\n",
              "      <td>0.2</td>\n",
              "      <td>0</td>\n",
              "    </tr>\n",
              "    <tr>\n",
              "      <th>25</th>\n",
              "      <td>5.0</td>\n",
              "      <td>3.0</td>\n",
              "      <td>1.6</td>\n",
              "      <td>0.2</td>\n",
              "      <td>0</td>\n",
              "    </tr>\n",
              "    <tr>\n",
              "      <th>26</th>\n",
              "      <td>5.0</td>\n",
              "      <td>3.4</td>\n",
              "      <td>1.6</td>\n",
              "      <td>0.4</td>\n",
              "      <td>0</td>\n",
              "    </tr>\n",
              "    <tr>\n",
              "      <th>27</th>\n",
              "      <td>5.2</td>\n",
              "      <td>3.5</td>\n",
              "      <td>1.5</td>\n",
              "      <td>0.2</td>\n",
              "      <td>0</td>\n",
              "    </tr>\n",
              "    <tr>\n",
              "      <th>28</th>\n",
              "      <td>5.2</td>\n",
              "      <td>3.4</td>\n",
              "      <td>1.4</td>\n",
              "      <td>0.2</td>\n",
              "      <td>0</td>\n",
              "    </tr>\n",
              "    <tr>\n",
              "      <th>29</th>\n",
              "      <td>4.7</td>\n",
              "      <td>3.2</td>\n",
              "      <td>1.6</td>\n",
              "      <td>0.2</td>\n",
              "      <td>0</td>\n",
              "    </tr>\n",
              "    <tr>\n",
              "      <th>...</th>\n",
              "      <td>...</td>\n",
              "      <td>...</td>\n",
              "      <td>...</td>\n",
              "      <td>...</td>\n",
              "      <td>...</td>\n",
              "    </tr>\n",
              "    <tr>\n",
              "      <th>120</th>\n",
              "      <td>6.9</td>\n",
              "      <td>3.2</td>\n",
              "      <td>5.7</td>\n",
              "      <td>2.3</td>\n",
              "      <td>2</td>\n",
              "    </tr>\n",
              "    <tr>\n",
              "      <th>121</th>\n",
              "      <td>5.6</td>\n",
              "      <td>2.8</td>\n",
              "      <td>4.9</td>\n",
              "      <td>2.0</td>\n",
              "      <td>2</td>\n",
              "    </tr>\n",
              "    <tr>\n",
              "      <th>122</th>\n",
              "      <td>7.7</td>\n",
              "      <td>2.8</td>\n",
              "      <td>6.7</td>\n",
              "      <td>2.0</td>\n",
              "      <td>2</td>\n",
              "    </tr>\n",
              "    <tr>\n",
              "      <th>123</th>\n",
              "      <td>6.3</td>\n",
              "      <td>2.7</td>\n",
              "      <td>4.9</td>\n",
              "      <td>1.8</td>\n",
              "      <td>2</td>\n",
              "    </tr>\n",
              "    <tr>\n",
              "      <th>124</th>\n",
              "      <td>6.7</td>\n",
              "      <td>3.3</td>\n",
              "      <td>5.7</td>\n",
              "      <td>2.1</td>\n",
              "      <td>2</td>\n",
              "    </tr>\n",
              "    <tr>\n",
              "      <th>125</th>\n",
              "      <td>7.2</td>\n",
              "      <td>3.2</td>\n",
              "      <td>6.0</td>\n",
              "      <td>1.8</td>\n",
              "      <td>2</td>\n",
              "    </tr>\n",
              "    <tr>\n",
              "      <th>126</th>\n",
              "      <td>6.2</td>\n",
              "      <td>2.8</td>\n",
              "      <td>4.8</td>\n",
              "      <td>1.8</td>\n",
              "      <td>2</td>\n",
              "    </tr>\n",
              "    <tr>\n",
              "      <th>127</th>\n",
              "      <td>6.1</td>\n",
              "      <td>3.0</td>\n",
              "      <td>4.9</td>\n",
              "      <td>1.8</td>\n",
              "      <td>2</td>\n",
              "    </tr>\n",
              "    <tr>\n",
              "      <th>128</th>\n",
              "      <td>6.4</td>\n",
              "      <td>2.8</td>\n",
              "      <td>5.6</td>\n",
              "      <td>2.1</td>\n",
              "      <td>2</td>\n",
              "    </tr>\n",
              "    <tr>\n",
              "      <th>129</th>\n",
              "      <td>7.2</td>\n",
              "      <td>3.0</td>\n",
              "      <td>5.8</td>\n",
              "      <td>1.6</td>\n",
              "      <td>2</td>\n",
              "    </tr>\n",
              "    <tr>\n",
              "      <th>130</th>\n",
              "      <td>7.4</td>\n",
              "      <td>2.8</td>\n",
              "      <td>6.1</td>\n",
              "      <td>1.9</td>\n",
              "      <td>2</td>\n",
              "    </tr>\n",
              "    <tr>\n",
              "      <th>131</th>\n",
              "      <td>7.9</td>\n",
              "      <td>3.8</td>\n",
              "      <td>6.4</td>\n",
              "      <td>2.0</td>\n",
              "      <td>2</td>\n",
              "    </tr>\n",
              "    <tr>\n",
              "      <th>132</th>\n",
              "      <td>6.4</td>\n",
              "      <td>2.8</td>\n",
              "      <td>5.6</td>\n",
              "      <td>2.2</td>\n",
              "      <td>2</td>\n",
              "    </tr>\n",
              "    <tr>\n",
              "      <th>133</th>\n",
              "      <td>6.3</td>\n",
              "      <td>2.8</td>\n",
              "      <td>5.1</td>\n",
              "      <td>1.5</td>\n",
              "      <td>2</td>\n",
              "    </tr>\n",
              "    <tr>\n",
              "      <th>134</th>\n",
              "      <td>6.1</td>\n",
              "      <td>2.6</td>\n",
              "      <td>5.6</td>\n",
              "      <td>1.4</td>\n",
              "      <td>2</td>\n",
              "    </tr>\n",
              "    <tr>\n",
              "      <th>135</th>\n",
              "      <td>7.7</td>\n",
              "      <td>3.0</td>\n",
              "      <td>6.1</td>\n",
              "      <td>2.3</td>\n",
              "      <td>2</td>\n",
              "    </tr>\n",
              "    <tr>\n",
              "      <th>136</th>\n",
              "      <td>6.3</td>\n",
              "      <td>3.4</td>\n",
              "      <td>5.6</td>\n",
              "      <td>2.4</td>\n",
              "      <td>2</td>\n",
              "    </tr>\n",
              "    <tr>\n",
              "      <th>137</th>\n",
              "      <td>6.4</td>\n",
              "      <td>3.1</td>\n",
              "      <td>5.5</td>\n",
              "      <td>1.8</td>\n",
              "      <td>2</td>\n",
              "    </tr>\n",
              "    <tr>\n",
              "      <th>138</th>\n",
              "      <td>6.0</td>\n",
              "      <td>3.0</td>\n",
              "      <td>4.8</td>\n",
              "      <td>1.8</td>\n",
              "      <td>2</td>\n",
              "    </tr>\n",
              "    <tr>\n",
              "      <th>139</th>\n",
              "      <td>6.9</td>\n",
              "      <td>3.1</td>\n",
              "      <td>5.4</td>\n",
              "      <td>2.1</td>\n",
              "      <td>2</td>\n",
              "    </tr>\n",
              "    <tr>\n",
              "      <th>140</th>\n",
              "      <td>6.7</td>\n",
              "      <td>3.1</td>\n",
              "      <td>5.6</td>\n",
              "      <td>2.4</td>\n",
              "      <td>2</td>\n",
              "    </tr>\n",
              "    <tr>\n",
              "      <th>141</th>\n",
              "      <td>6.9</td>\n",
              "      <td>3.1</td>\n",
              "      <td>5.1</td>\n",
              "      <td>2.3</td>\n",
              "      <td>2</td>\n",
              "    </tr>\n",
              "    <tr>\n",
              "      <th>142</th>\n",
              "      <td>5.8</td>\n",
              "      <td>2.7</td>\n",
              "      <td>5.1</td>\n",
              "      <td>1.9</td>\n",
              "      <td>2</td>\n",
              "    </tr>\n",
              "    <tr>\n",
              "      <th>143</th>\n",
              "      <td>6.8</td>\n",
              "      <td>3.2</td>\n",
              "      <td>5.9</td>\n",
              "      <td>2.3</td>\n",
              "      <td>2</td>\n",
              "    </tr>\n",
              "    <tr>\n",
              "      <th>144</th>\n",
              "      <td>6.7</td>\n",
              "      <td>3.3</td>\n",
              "      <td>5.7</td>\n",
              "      <td>2.5</td>\n",
              "      <td>2</td>\n",
              "    </tr>\n",
              "    <tr>\n",
              "      <th>145</th>\n",
              "      <td>6.7</td>\n",
              "      <td>3.0</td>\n",
              "      <td>5.2</td>\n",
              "      <td>2.3</td>\n",
              "      <td>2</td>\n",
              "    </tr>\n",
              "    <tr>\n",
              "      <th>146</th>\n",
              "      <td>6.3</td>\n",
              "      <td>2.5</td>\n",
              "      <td>5.0</td>\n",
              "      <td>1.9</td>\n",
              "      <td>2</td>\n",
              "    </tr>\n",
              "    <tr>\n",
              "      <th>147</th>\n",
              "      <td>6.5</td>\n",
              "      <td>3.0</td>\n",
              "      <td>5.2</td>\n",
              "      <td>2.0</td>\n",
              "      <td>2</td>\n",
              "    </tr>\n",
              "    <tr>\n",
              "      <th>148</th>\n",
              "      <td>6.2</td>\n",
              "      <td>3.4</td>\n",
              "      <td>5.4</td>\n",
              "      <td>2.3</td>\n",
              "      <td>2</td>\n",
              "    </tr>\n",
              "    <tr>\n",
              "      <th>149</th>\n",
              "      <td>5.9</td>\n",
              "      <td>3.0</td>\n",
              "      <td>5.1</td>\n",
              "      <td>1.8</td>\n",
              "      <td>2</td>\n",
              "    </tr>\n",
              "  </tbody>\n",
              "</table>\n",
              "<p>150 rows × 5 columns</p>\n",
              "</div>"
            ],
            "text/plain": [
              "     150    4  setosa  versicolor  virginica\n",
              "0    5.1  3.5     1.4         0.2          0\n",
              "1    4.9  3.0     1.4         0.2          0\n",
              "2    4.7  3.2     1.3         0.2          0\n",
              "3    4.6  3.1     1.5         0.2          0\n",
              "4    5.0  3.6     1.4         0.2          0\n",
              "5    5.4  3.9     1.7         0.4          0\n",
              "6    4.6  3.4     1.4         0.3          0\n",
              "7    5.0  3.4     1.5         0.2          0\n",
              "8    4.4  2.9     1.4         0.2          0\n",
              "9    4.9  3.1     1.5         0.1          0\n",
              "10   5.4  3.7     1.5         0.2          0\n",
              "11   4.8  3.4     1.6         0.2          0\n",
              "12   4.8  3.0     1.4         0.1          0\n",
              "13   4.3  3.0     1.1         0.1          0\n",
              "14   5.8  4.0     1.2         0.2          0\n",
              "15   5.7  4.4     1.5         0.4          0\n",
              "16   5.4  3.9     1.3         0.4          0\n",
              "17   5.1  3.5     1.4         0.3          0\n",
              "18   5.7  3.8     1.7         0.3          0\n",
              "19   5.1  3.8     1.5         0.3          0\n",
              "20   5.4  3.4     1.7         0.2          0\n",
              "21   5.1  3.7     1.5         0.4          0\n",
              "22   4.6  3.6     1.0         0.2          0\n",
              "23   5.1  3.3     1.7         0.5          0\n",
              "24   4.8  3.4     1.9         0.2          0\n",
              "25   5.0  3.0     1.6         0.2          0\n",
              "26   5.0  3.4     1.6         0.4          0\n",
              "27   5.2  3.5     1.5         0.2          0\n",
              "28   5.2  3.4     1.4         0.2          0\n",
              "29   4.7  3.2     1.6         0.2          0\n",
              "..   ...  ...     ...         ...        ...\n",
              "120  6.9  3.2     5.7         2.3          2\n",
              "121  5.6  2.8     4.9         2.0          2\n",
              "122  7.7  2.8     6.7         2.0          2\n",
              "123  6.3  2.7     4.9         1.8          2\n",
              "124  6.7  3.3     5.7         2.1          2\n",
              "125  7.2  3.2     6.0         1.8          2\n",
              "126  6.2  2.8     4.8         1.8          2\n",
              "127  6.1  3.0     4.9         1.8          2\n",
              "128  6.4  2.8     5.6         2.1          2\n",
              "129  7.2  3.0     5.8         1.6          2\n",
              "130  7.4  2.8     6.1         1.9          2\n",
              "131  7.9  3.8     6.4         2.0          2\n",
              "132  6.4  2.8     5.6         2.2          2\n",
              "133  6.3  2.8     5.1         1.5          2\n",
              "134  6.1  2.6     5.6         1.4          2\n",
              "135  7.7  3.0     6.1         2.3          2\n",
              "136  6.3  3.4     5.6         2.4          2\n",
              "137  6.4  3.1     5.5         1.8          2\n",
              "138  6.0  3.0     4.8         1.8          2\n",
              "139  6.9  3.1     5.4         2.1          2\n",
              "140  6.7  3.1     5.6         2.4          2\n",
              "141  6.9  3.1     5.1         2.3          2\n",
              "142  5.8  2.7     5.1         1.9          2\n",
              "143  6.8  3.2     5.9         2.3          2\n",
              "144  6.7  3.3     5.7         2.5          2\n",
              "145  6.7  3.0     5.2         2.3          2\n",
              "146  6.3  2.5     5.0         1.9          2\n",
              "147  6.5  3.0     5.2         2.0          2\n",
              "148  6.2  3.4     5.4         2.3          2\n",
              "149  5.9  3.0     5.1         1.8          2\n",
              "\n",
              "[150 rows x 5 columns]"
            ]
          },
          "metadata": {
            "tags": []
          },
          "execution_count": 42
        }
      ]
    },
    {
      "cell_type": "code",
      "metadata": {
        "id": "d_51dNu09bbw",
        "colab_type": "code",
        "outputId": "ec7f271f-f581-4581-bc11-a6fcbebe6b9a",
        "colab": {
          "base_uri": "https://localhost:8080/",
          "height": 1075
        }
      },
      "source": [
        "print(data.DESCR)"
      ],
      "execution_count": 0,
      "outputs": [
        {
          "output_type": "stream",
          "text": [
            ".. _iris_dataset:\n",
            "\n",
            "Iris plants dataset\n",
            "--------------------\n",
            "\n",
            "**Data Set Characteristics:**\n",
            "\n",
            "    :Number of Instances: 150 (50 in each of three classes)\n",
            "    :Number of Attributes: 4 numeric, predictive attributes and the class\n",
            "    :Attribute Information:\n",
            "        - sepal length in cm\n",
            "        - sepal width in cm\n",
            "        - petal length in cm\n",
            "        - petal width in cm\n",
            "        - class:\n",
            "                - Iris-Setosa\n",
            "                - Iris-Versicolour\n",
            "                - Iris-Virginica\n",
            "                \n",
            "    :Summary Statistics:\n",
            "\n",
            "    ============== ==== ==== ======= ===== ====================\n",
            "                    Min  Max   Mean    SD   Class Correlation\n",
            "    ============== ==== ==== ======= ===== ====================\n",
            "    sepal length:   4.3  7.9   5.84   0.83    0.7826\n",
            "    sepal width:    2.0  4.4   3.05   0.43   -0.4194\n",
            "    petal length:   1.0  6.9   3.76   1.76    0.9490  (high!)\n",
            "    petal width:    0.1  2.5   1.20   0.76    0.9565  (high!)\n",
            "    ============== ==== ==== ======= ===== ====================\n",
            "\n",
            "    :Missing Attribute Values: None\n",
            "    :Class Distribution: 33.3% for each of 3 classes.\n",
            "    :Creator: R.A. Fisher\n",
            "    :Donor: Michael Marshall (MARSHALL%PLU@io.arc.nasa.gov)\n",
            "    :Date: July, 1988\n",
            "\n",
            "The famous Iris database, first used by Sir R.A. Fisher. The dataset is taken\n",
            "from Fisher's paper. Note that it's the same as in R, but not as in the UCI\n",
            "Machine Learning Repository, which has two wrong data points.\n",
            "\n",
            "This is perhaps the best known database to be found in the\n",
            "pattern recognition literature.  Fisher's paper is a classic in the field and\n",
            "is referenced frequently to this day.  (See Duda & Hart, for example.)  The\n",
            "data set contains 3 classes of 50 instances each, where each class refers to a\n",
            "type of iris plant.  One class is linearly separable from the other 2; the\n",
            "latter are NOT linearly separable from each other.\n",
            "\n",
            ".. topic:: References\n",
            "\n",
            "   - Fisher, R.A. \"The use of multiple measurements in taxonomic problems\"\n",
            "     Annual Eugenics, 7, Part II, 179-188 (1936); also in \"Contributions to\n",
            "     Mathematical Statistics\" (John Wiley, NY, 1950).\n",
            "   - Duda, R.O., & Hart, P.E. (1973) Pattern Classification and Scene Analysis.\n",
            "     (Q327.D83) John Wiley & Sons.  ISBN 0-471-22361-1.  See page 218.\n",
            "   - Dasarathy, B.V. (1980) \"Nosing Around the Neighborhood: A New System\n",
            "     Structure and Classification Rule for Recognition in Partially Exposed\n",
            "     Environments\".  IEEE Transactions on Pattern Analysis and Machine\n",
            "     Intelligence, Vol. PAMI-2, No. 1, 67-71.\n",
            "   - Gates, G.W. (1972) \"The Reduced Nearest Neighbor Rule\".  IEEE Transactions\n",
            "     on Information Theory, May 1972, 431-433.\n",
            "   - See also: 1988 MLC Proceedings, 54-64.  Cheeseman et al\"s AUTOCLASS II\n",
            "     conceptual clustering system finds 3 classes in the data.\n",
            "   - Many, many more ...\n"
          ],
          "name": "stdout"
        }
      ]
    },
    {
      "cell_type": "code",
      "metadata": {
        "id": "IWWOMdws9ty3",
        "colab_type": "code",
        "outputId": "c2f3230c-bb41-4c43-dbbd-3be172198f8b",
        "colab": {
          "base_uri": "https://localhost:8080/",
          "height": 221
        }
      },
      "source": [
        "!pip install yellowbrick"
      ],
      "execution_count": 0,
      "outputs": [
        {
          "output_type": "stream",
          "text": [
            "Requirement already satisfied: yellowbrick in /usr/local/lib/python3.6/dist-packages (0.9.1)\n",
            "Requirement already satisfied: matplotlib!=3.0.0,>=1.5.1 in /usr/local/lib/python3.6/dist-packages (from yellowbrick) (3.0.3)\n",
            "Requirement already satisfied: numpy>=1.13.0 in /usr/local/lib/python3.6/dist-packages (from yellowbrick) (1.16.4)\n",
            "Requirement already satisfied: cycler>=0.10.0 in /usr/local/lib/python3.6/dist-packages (from yellowbrick) (0.10.0)\n",
            "Requirement already satisfied: scipy>=1.0.0 in /usr/local/lib/python3.6/dist-packages (from yellowbrick) (1.3.0)\n",
            "Requirement already satisfied: scikit-learn>=0.20 in /usr/local/lib/python3.6/dist-packages (from yellowbrick) (0.21.2)\n",
            "Requirement already satisfied: pyparsing!=2.0.4,!=2.1.2,!=2.1.6,>=2.0.1 in /usr/local/lib/python3.6/dist-packages (from matplotlib!=3.0.0,>=1.5.1->yellowbrick) (2.4.0)\n",
            "Requirement already satisfied: python-dateutil>=2.1 in /usr/local/lib/python3.6/dist-packages (from matplotlib!=3.0.0,>=1.5.1->yellowbrick) (2.5.3)\n",
            "Requirement already satisfied: kiwisolver>=1.0.1 in /usr/local/lib/python3.6/dist-packages (from matplotlib!=3.0.0,>=1.5.1->yellowbrick) (1.1.0)\n",
            "Requirement already satisfied: six in /usr/local/lib/python3.6/dist-packages (from cycler>=0.10.0->yellowbrick) (1.12.0)\n",
            "Requirement already satisfied: joblib>=0.11 in /usr/local/lib/python3.6/dist-packages (from scikit-learn>=0.20->yellowbrick) (0.13.2)\n",
            "Requirement already satisfied: setuptools in /usr/local/lib/python3.6/dist-packages (from kiwisolver>=1.0.1->matplotlib!=3.0.0,>=1.5.1->yellowbrick) (41.0.1)\n"
          ],
          "name": "stdout"
        }
      ]
    },
    {
      "cell_type": "code",
      "metadata": {
        "id": "tgzMderY9eDT",
        "colab_type": "code",
        "colab": {}
      },
      "source": [
        "from yellowbrick.features import ParallelCoordinates"
      ],
      "execution_count": 0,
      "outputs": []
    },
    {
      "cell_type": "code",
      "metadata": {
        "id": "lII5gMBN90Io",
        "colab_type": "code",
        "outputId": "801ae24f-dca7-4988-a7a6-0d7cff96b409",
        "colab": {
          "base_uri": "https://localhost:8080/",
          "height": 362
        }
      },
      "source": [
        "viz = ParallelCoordinates(features=data.feature_names,\n",
        "                          classes=data.target_names,\n",
        "                          normalize='standard')\n",
        "viz.fit(data.data, data.target)\n",
        "viz.transform(data.data)\n",
        "viz.poof()"
      ],
      "execution_count": 0,
      "outputs": [
        {
          "output_type": "display_data",
          "data": {
            "image/png": "[encoded data removed]",
            "text/plain": [
              "<Figure size 576x396 with 1 Axes>"
            ]
          },
          "metadata": {
            "tags": []
          }
        }
      ]
    },
    {
      "cell_type": "markdown",
      "metadata": {
        "id": "zWIchyFhBUuj",
        "colab_type": "text"
      },
      "source": [
        "### Pipelines"
      ]
    },
    {
      "cell_type": "code",
      "metadata": {
        "id": "TGY4-lon-AXl",
        "colab_type": "code",
        "colab": {}
      },
      "source": [
        "from sklearn.tree import DecisionTreeClassifier\n",
        "from sklearn.preprocessing import StandardScaler\n",
        "from sklearn.model_selection import train_test_split"
      ],
      "execution_count": 0,
      "outputs": []
    },
    {
      "cell_type": "code",
      "metadata": {
        "id": "HU7uQJof_Fn2",
        "colab_type": "code",
        "colab": {}
      },
      "source": [
        "X, y = data.data, data.target\n",
        "X_train, X_test, y_train, y_test = train_test_split(X, y)"
      ],
      "execution_count": 0,
      "outputs": []
    },
    {
      "cell_type": "code",
      "metadata": {
        "id": "BinmiAIB_LIh",
        "colab_type": "code",
        "outputId": "87811fd9-4fd0-4e8b-ae7b-d0aa9f2ad00c",
        "colab": {
          "base_uri": "https://localhost:8080/",
          "height": 119
        }
      },
      "source": [
        "scaler = StandardScaler()\n",
        "scaler.fit(X_train)\n",
        "X1 = scaler.transform(X_train)\n",
        "\n",
        "clf = DecisionTreeClassifier()\n",
        "clf.fit(X1, y_train)"
      ],
      "execution_count": 0,
      "outputs": [
        {
          "output_type": "execute_result",
          "data": {
            "text/plain": [
              "DecisionTreeClassifier(class_weight=None, criterion='gini', max_depth=None,\n",
              "                       max_features=None, max_leaf_nodes=None,\n",
              "                       min_impurity_decrease=0.0, min_impurity_split=None,\n",
              "                       min_samples_leaf=1, min_samples_split=2,\n",
              "                       min_weight_fraction_leaf=0.0, presort=False,\n",
              "                       random_state=None, splitter='best')"
            ]
          },
          "metadata": {
            "tags": []
          },
          "execution_count": 48
        }
      ]
    },
    {
      "cell_type": "code",
      "metadata": {
        "id": "ZTUdZz5a_w0f",
        "colab_type": "code",
        "outputId": "2b83f555-8c42-4715-98b5-44fff57e8dfc",
        "colab": {
          "base_uri": "https://localhost:8080/",
          "height": 51
        }
      },
      "source": [
        "X2 = scaler.transform(X_test)\n",
        "clf.predict(X2)"
      ],
      "execution_count": 0,
      "outputs": [
        {
          "output_type": "execute_result",
          "data": {
            "text/plain": [
              "array([2, 0, 1, 1, 1, 2, 2, 0, 1, 2, 0, 0, 0, 1, 1, 2, 1, 2, 0, 0, 2, 1,\n",
              "       1, 0, 0, 1, 2, 2, 2, 2, 2, 1, 2, 0, 0, 1, 2, 2])"
            ]
          },
          "metadata": {
            "tags": []
          },
          "execution_count": 49
        }
      ]
    },
    {
      "cell_type": "code",
      "metadata": {
        "id": "amJzkiokAB4S",
        "colab_type": "code",
        "colab": {}
      },
      "source": [
        "from sklearn.pipeline import Pipeline"
      ],
      "execution_count": 0,
      "outputs": []
    },
    {
      "cell_type": "code",
      "metadata": {
        "id": "rxS6kKAyANf4",
        "colab_type": "code",
        "colab": {}
      },
      "source": [
        "decision_pipeline = Pipeline([\n",
        "    ('normalize', StandardScaler()),\n",
        "    ('decision', DecisionTreeClassifier())\n",
        "])"
      ],
      "execution_count": 0,
      "outputs": []
    },
    {
      "cell_type": "code",
      "metadata": {
        "id": "IlnaXOHKAbJr",
        "colab_type": "code",
        "outputId": "63f2b803-ee82-47d6-c73a-4bbbdcdb71bd",
        "colab": {
          "base_uri": "https://localhost:8080/",
          "height": 255
        }
      },
      "source": [
        "decision_pipeline.fit(X_train, y_train)"
      ],
      "execution_count": 0,
      "outputs": [
        {
          "output_type": "execute_result",
          "data": {
            "text/plain": [
              "Pipeline(memory=None,\n",
              "         steps=[('normalize',\n",
              "                 StandardScaler(copy=True, with_mean=True, with_std=True)),\n",
              "                ('decision',\n",
              "                 DecisionTreeClassifier(class_weight=None, criterion='gini',\n",
              "                                        max_depth=None, max_features=None,\n",
              "                                        max_leaf_nodes=None,\n",
              "                                        min_impurity_decrease=0.0,\n",
              "                                        min_impurity_split=None,\n",
              "                                        min_samples_leaf=1, min_samples_split=2,\n",
              "                                        min_weight_fraction_leaf=0.0,\n",
              "                                        presort=False, random_state=None,\n",
              "                                        splitter='best'))],\n",
              "         verbose=False)"
            ]
          },
          "metadata": {
            "tags": []
          },
          "execution_count": 52
        }
      ]
    },
    {
      "cell_type": "code",
      "metadata": {
        "id": "J3G-7m31Ae7H",
        "colab_type": "code",
        "outputId": "9c709cc0-ac77-46ca-d423-8e77110852fe",
        "colab": {
          "base_uri": "https://localhost:8080/",
          "height": 51
        }
      },
      "source": [
        "decision_pipeline.predict(X_test)"
      ],
      "execution_count": 0,
      "outputs": [
        {
          "output_type": "execute_result",
          "data": {
            "text/plain": [
              "array([2, 0, 1, 1, 1, 2, 2, 0, 1, 2, 0, 0, 0, 1, 1, 2, 1, 2, 0, 0, 2, 1,\n",
              "       1, 0, 0, 1, 2, 2, 2, 2, 2, 1, 2, 0, 0, 1, 2, 2])"
            ]
          },
          "metadata": {
            "tags": []
          },
          "execution_count": 53
        }
      ]
    },
    {
      "cell_type": "code",
      "metadata": {
        "id": "4uDnjmFbAk3k",
        "colab_type": "code",
        "outputId": "4680d3f4-39ba-4a34-830e-86fa096d3a86",
        "colab": {
          "base_uri": "https://localhost:8080/",
          "height": 34
        }
      },
      "source": [
        "decision_pipeline.score(X_test, y_test)"
      ],
      "execution_count": 0,
      "outputs": [
        {
          "output_type": "execute_result",
          "data": {
            "text/plain": [
              "0.9210526315789473"
            ]
          },
          "metadata": {
            "tags": []
          },
          "execution_count": 54
        }
      ]
    },
    {
      "cell_type": "code",
      "metadata": {
        "id": "gJjcUZZjAoY0",
        "colab_type": "code",
        "colab": {}
      },
      "source": [
        "scaler2 = decision_pipeline.steps[0][1]\n",
        "clf2 = decision_pipeline.steps[1][1]"
      ],
      "execution_count": 0,
      "outputs": []
    },
    {
      "cell_type": "code",
      "metadata": {
        "id": "sazTFyckA066",
        "colab_type": "code",
        "outputId": "6715f43f-9e5e-414f-a401-87aaad5bd8d8",
        "colab": {
          "base_uri": "https://localhost:8080/",
          "height": 51
        }
      },
      "source": [
        "clf2.predict(scaler2.transform(X_test))"
      ],
      "execution_count": 0,
      "outputs": [
        {
          "output_type": "execute_result",
          "data": {
            "text/plain": [
              "array([2, 0, 1, 1, 1, 2, 2, 0, 1, 2, 0, 0, 0, 1, 1, 2, 1, 2, 0, 0, 2, 1,\n",
              "       1, 0, 0, 1, 2, 2, 2, 2, 2, 1, 2, 0, 0, 1, 2, 2])"
            ]
          },
          "metadata": {
            "tags": []
          },
          "execution_count": 57
        }
      ]
    },
    {
      "cell_type": "code",
      "metadata": {
        "id": "hCqAmdM4BF38",
        "colab_type": "code",
        "outputId": "3108b0df-b5fe-4929-f2d0-4e29a796507d",
        "colab": {
          "base_uri": "https://localhost:8080/",
          "height": 51
        }
      },
      "source": [
        "clf2.predict(X_test)"
      ],
      "execution_count": 0,
      "outputs": [
        {
          "output_type": "execute_result",
          "data": {
            "text/plain": [
              "array([2, 2, 2, 2, 2, 2, 2, 2, 2, 2, 2, 2, 2, 2, 2, 2, 2, 2, 2, 2, 2, 2,\n",
              "       2, 2, 2, 2, 2, 2, 2, 2, 2, 2, 2, 2, 2, 2, 2, 2])"
            ]
          },
          "metadata": {
            "tags": []
          },
          "execution_count": 58
        }
      ]
    },
    {
      "cell_type": "markdown",
      "metadata": {
        "id": "1fEDWA3ZBQpn",
        "colab_type": "text"
      },
      "source": [
        "### Search (GridSearch and RandomSearch)"
      ]
    },
    {
      "cell_type": "code",
      "metadata": {
        "id": "q5g68Q11BJnq",
        "colab_type": "code",
        "colab": {}
      },
      "source": [
        "from sklearn.model_selection import GridSearchCV, RandomizedSearchCV"
      ],
      "execution_count": 0,
      "outputs": []
    },
    {
      "cell_type": "code",
      "metadata": {
        "id": "XGUj0I6ABkRz",
        "colab_type": "code",
        "outputId": "8ae194e8-dc6c-46bf-d1fd-b5225d18ccda",
        "colab": {
          "base_uri": "https://localhost:8080/",
          "height": 119
        }
      },
      "source": [
        "clf = DecisionTreeClassifier()\n",
        "clf"
      ],
      "execution_count": 0,
      "outputs": [
        {
          "output_type": "execute_result",
          "data": {
            "text/plain": [
              "DecisionTreeClassifier(class_weight=None, criterion='gini', max_depth=None,\n",
              "                       max_features=None, max_leaf_nodes=None,\n",
              "                       min_impurity_decrease=0.0, min_impurity_split=None,\n",
              "                       min_samples_leaf=1, min_samples_split=2,\n",
              "                       min_weight_fraction_leaf=0.0, presort=False,\n",
              "                       random_state=None, splitter='best')"
            ]
          },
          "metadata": {
            "tags": []
          },
          "execution_count": 61
        }
      ]
    },
    {
      "cell_type": "code",
      "metadata": {
        "id": "K7nePlrUBrAi",
        "colab_type": "code",
        "colab": {}
      },
      "source": [
        "param_range = {\n",
        "    'criterion': ['gini', 'entropy'],\n",
        "    'max_depth': [3, 5, 7, 9]\n",
        "}"
      ],
      "execution_count": 0,
      "outputs": []
    },
    {
      "cell_type": "code",
      "metadata": {
        "id": "Hm6wr0LbCAxc",
        "colab_type": "code",
        "outputId": "73b601f9-fa3f-4283-853a-4956ae589207",
        "colab": {
          "base_uri": "https://localhost:8080/",
          "height": 1000
        }
      },
      "source": [
        "clf = GridSearchCV(DecisionTreeClassifier(),\n",
        "                   param_range,\n",
        "                   cv=3,\n",
        "                   verbose=5)\n",
        "clf.fit(X_train, y_train)"
      ],
      "execution_count": 0,
      "outputs": [
        {
          "output_type": "stream",
          "text": [
            "Fitting 3 folds for each of 8 candidates, totalling 24 fits\n",
            "[CV] criterion=gini, max_depth=3 .....................................\n",
            "[CV] ......... criterion=gini, max_depth=3, score=0.868, total=   0.0s\n",
            "[CV] criterion=gini, max_depth=3 .....................................\n",
            "[CV] ......... criterion=gini, max_depth=3, score=0.919, total=   0.0s\n",
            "[CV] criterion=gini, max_depth=3 .....................................\n",
            "[CV] ......... criterion=gini, max_depth=3, score=0.946, total=   0.0s\n",
            "[CV] criterion=gini, max_depth=5 .....................................\n",
            "[CV] ......... criterion=gini, max_depth=5, score=0.868, total=   0.0s\n",
            "[CV] criterion=gini, max_depth=5 .....................................\n",
            "[CV] ......... criterion=gini, max_depth=5, score=0.919, total=   0.0s\n",
            "[CV] criterion=gini, max_depth=5 .....................................\n",
            "[CV] ......... criterion=gini, max_depth=5, score=0.892, total=   0.0s\n",
            "[CV] criterion=gini, max_depth=7 .....................................\n",
            "[CV] ......... criterion=gini, max_depth=7, score=0.868, total=   0.0s\n",
            "[CV] criterion=gini, max_depth=7 .....................................\n",
            "[CV] ......... criterion=gini, max_depth=7, score=0.946, total=   0.0s\n",
            "[CV] criterion=gini, max_depth=7 .....................................\n",
            "[CV] ......... criterion=gini, max_depth=7, score=0.892, total=   0.0s\n",
            "[CV] criterion=gini, max_depth=9 .....................................\n",
            "[CV] ......... criterion=gini, max_depth=9, score=0.868, total=   0.0s\n",
            "[CV] criterion=gini, max_depth=9 .....................................\n",
            "[CV] ......... criterion=gini, max_depth=9, score=0.946, total=   0.0s\n",
            "[CV] criterion=gini, max_depth=9 .....................................\n",
            "[CV] ......... criterion=gini, max_depth=9, score=0.892, total=   0.0s\n",
            "[CV] criterion=entropy, max_depth=3 ..................................\n",
            "[CV] ...... criterion=entropy, max_depth=3, score=0.868, total=   0.0s\n",
            "[CV] criterion=entropy, max_depth=3 ..................................\n",
            "[CV] ...... criterion=entropy, max_depth=3, score=0.919, total=   0.0s\n",
            "[CV] criterion=entropy, max_depth=3 ..................................\n",
            "[CV] ...... criterion=entropy, max_depth=3, score=0.865, total=   0.0s\n",
            "[CV] criterion=entropy, max_depth=5 ..................................\n",
            "[CV] ...... criterion=entropy, max_depth=5, score=0.868, total=   0.0s\n",
            "[CV] criterion=entropy, max_depth=5 ..................................\n",
            "[CV] ...... criterion=entropy, max_depth=5, score=0.946, total=   0.0s\n",
            "[CV] criterion=entropy, max_depth=5 ..................................\n",
            "[CV] ...... criterion=entropy, max_depth=5, score=0.892, total=   0.0s\n",
            "[CV] criterion=entropy, max_depth=7 ..................................\n",
            "[CV] ...... criterion=entropy, max_depth=7, score=0.947, total=   0.0s\n",
            "[CV] criterion=entropy, max_depth=7 ..................................\n",
            "[CV] ...... criterion=entropy, max_depth=7, score=0.919, total=   0.0s\n",
            "[CV] criterion=entropy, max_depth=7 ..................................\n",
            "[CV] ...... criterion=entropy, max_depth=7, score=0.892, total=   0.0s\n",
            "[CV] criterion=entropy, max_depth=9 ..................................\n",
            "[CV] ...... criterion=entropy, max_depth=9, score=0.868, total=   0.0s\n",
            "[CV] criterion=entropy, max_depth=9 ..................................\n",
            "[CV] ...... criterion=entropy, max_depth=9, score=0.919, total=   0.0s\n",
            "[CV] criterion=entropy, max_depth=9 ..................................\n",
            "[CV] ...... criterion=entropy, max_depth=9, score=0.892, total=   0.0s\n"
          ],
          "name": "stdout"
        },
        {
          "output_type": "stream",
          "text": [
            "[Parallel(n_jobs=1)]: Using backend SequentialBackend with 1 concurrent workers.\n",
            "[Parallel(n_jobs=1)]: Done   1 out of   1 | elapsed:    0.0s remaining:    0.0s\n",
            "[Parallel(n_jobs=1)]: Done   2 out of   2 | elapsed:    0.0s remaining:    0.0s\n",
            "[Parallel(n_jobs=1)]: Done   3 out of   3 | elapsed:    0.0s remaining:    0.0s\n",
            "[Parallel(n_jobs=1)]: Done   4 out of   4 | elapsed:    0.0s remaining:    0.0s\n",
            "[Parallel(n_jobs=1)]: Done  24 out of  24 | elapsed:    0.0s finished\n",
            "/usr/local/lib/python3.6/dist-packages/sklearn/model_selection/_search.py:813: DeprecationWarning: The default of the `iid` parameter will change from True to False in version 0.22 and will be removed in 0.24. This will change numeric results when test-set sizes are unequal.\n",
            "  DeprecationWarning)\n"
          ],
          "name": "stderr"
        },
        {
          "output_type": "execute_result",
          "data": {
            "text/plain": [
              "GridSearchCV(cv=3, error_score='raise-deprecating',\n",
              "             estimator=DecisionTreeClassifier(class_weight=None,\n",
              "                                              criterion='gini', max_depth=None,\n",
              "                                              max_features=None,\n",
              "                                              max_leaf_nodes=None,\n",
              "                                              min_impurity_decrease=0.0,\n",
              "                                              min_impurity_split=None,\n",
              "                                              min_samples_leaf=1,\n",
              "                                              min_samples_split=2,\n",
              "                                              min_weight_fraction_leaf=0.0,\n",
              "                                              presort=False, random_state=None,\n",
              "                                              splitter='best'),\n",
              "             iid='warn', n_jobs=None,\n",
              "             param_grid={'criterion': ['gini', 'entropy'],\n",
              "                         'max_depth': [3, 5, 7, 9]},\n",
              "             pre_dispatch='2*n_jobs', refit=True, return_train_score=False,\n",
              "             scoring=None, verbose=5)"
            ]
          },
          "metadata": {
            "tags": []
          },
          "execution_count": 63
        }
      ]
    },
    {
      "cell_type": "code",
      "metadata": {
        "id": "zojukvzPCXG3",
        "colab_type": "code",
        "outputId": "71d259a8-e68e-4bc7-854b-31cd390b9328",
        "colab": {
          "base_uri": "https://localhost:8080/",
          "height": 119
        }
      },
      "source": [
        "clf.best_estimator_"
      ],
      "execution_count": 0,
      "outputs": [
        {
          "output_type": "execute_result",
          "data": {
            "text/plain": [
              "DecisionTreeClassifier(class_weight=None, criterion='entropy', max_depth=7,\n",
              "                       max_features=None, max_leaf_nodes=None,\n",
              "                       min_impurity_decrease=0.0, min_impurity_split=None,\n",
              "                       min_samples_leaf=1, min_samples_split=2,\n",
              "                       min_weight_fraction_leaf=0.0, presort=False,\n",
              "                       random_state=None, splitter='best')"
            ]
          },
          "metadata": {
            "tags": []
          },
          "execution_count": 64
        }
      ]
    },
    {
      "cell_type": "code",
      "metadata": {
        "id": "4cyApwAxCpvf",
        "colab_type": "code",
        "outputId": "e6ead3a9-24f8-419e-d50f-919fa4d7f6bf",
        "colab": {
          "base_uri": "https://localhost:8080/",
          "height": 51
        }
      },
      "source": [
        "clf.predict(X_test)"
      ],
      "execution_count": 0,
      "outputs": [
        {
          "output_type": "execute_result",
          "data": {
            "text/plain": [
              "array([2, 0, 1, 1, 1, 2, 2, 0, 1, 2, 0, 0, 0, 1, 1, 2, 1, 2, 0, 0, 2, 1,\n",
              "       2, 0, 0, 1, 2, 2, 2, 2, 2, 1, 2, 0, 0, 1, 2, 2])"
            ]
          },
          "metadata": {
            "tags": []
          },
          "execution_count": 65
        }
      ]
    },
    {
      "cell_type": "code",
      "metadata": {
        "id": "uacTwzSwCx-K",
        "colab_type": "code",
        "outputId": "db16182b-f8be-4144-9d86-dcacb9b1d714",
        "colab": {
          "base_uri": "https://localhost:8080/",
          "height": 34
        }
      },
      "source": [
        "clf.score(X_test, y_test)"
      ],
      "execution_count": 0,
      "outputs": [
        {
          "output_type": "execute_result",
          "data": {
            "text/plain": [
              "0.9473684210526315"
            ]
          },
          "metadata": {
            "tags": []
          },
          "execution_count": 66
        }
      ]
    },
    {
      "cell_type": "code",
      "metadata": {
        "id": "pu_WylGbC0Wn",
        "colab_type": "code",
        "outputId": "f430d8a5-0091-41d4-ad12-2158f581eb0d",
        "colab": {
          "base_uri": "https://localhost:8080/",
          "height": 1000
        }
      },
      "source": [
        "clf = RandomizedSearchCV(DecisionTreeClassifier(),\n",
        "                         param_range,\n",
        "                         cv=3,\n",
        "                         verbose=5,\n",
        "                         n_iter=5)\n",
        "clf.fit(X_train, y_train)"
      ],
      "execution_count": 0,
      "outputs": [
        {
          "output_type": "stream",
          "text": [
            "Fitting 3 folds for each of 5 candidates, totalling 15 fits\n",
            "[CV] max_depth=3, criterion=entropy ..................................\n",
            "[CV] ...... max_depth=3, criterion=entropy, score=0.868, total=   0.0s\n",
            "[CV] max_depth=3, criterion=entropy ..................................\n",
            "[CV] ...... max_depth=3, criterion=entropy, score=0.919, total=   0.0s\n",
            "[CV] max_depth=3, criterion=entropy ..................................\n",
            "[CV] ...... max_depth=3, criterion=entropy, score=0.946, total=   0.0s\n",
            "[CV] max_depth=7, criterion=entropy ..................................\n",
            "[CV] ...... max_depth=7, criterion=entropy, score=0.868, total=   0.0s\n",
            "[CV] max_depth=7, criterion=entropy ..................................\n",
            "[CV] ...... max_depth=7, criterion=entropy, score=0.919, total=   0.0s\n",
            "[CV] max_depth=7, criterion=entropy ..................................\n",
            "[CV] ...... max_depth=7, criterion=entropy, score=0.892, total=   0.0s\n",
            "[CV] max_depth=7, criterion=gini .....................................\n",
            "[CV] ......... max_depth=7, criterion=gini, score=0.868, total=   0.0s\n",
            "[CV] max_depth=7, criterion=gini .....................................\n",
            "[CV] ......... max_depth=7, criterion=gini, score=0.946, total=   0.0s\n",
            "[CV] max_depth=7, criterion=gini .....................................\n",
            "[CV] ......... max_depth=7, criterion=gini, score=0.892, total=   0.0s\n",
            "[CV] max_depth=5, criterion=gini .....................................\n",
            "[CV] ......... max_depth=5, criterion=gini, score=0.868, total=   0.0s\n",
            "[CV] max_depth=5, criterion=gini .....................................\n",
            "[CV] ......... max_depth=5, criterion=gini, score=0.919, total=   0.0s\n",
            "[CV] max_depth=5, criterion=gini .....................................\n",
            "[CV] ......... max_depth=5, criterion=gini, score=0.892, total=   0.0s\n",
            "[CV] max_depth=5, criterion=entropy ..................................\n",
            "[CV] ...... max_depth=5, criterion=entropy, score=0.868, total=   0.0s\n",
            "[CV] max_depth=5, criterion=entropy ..................................\n",
            "[CV] ...... max_depth=5, criterion=entropy, score=0.946, total=   0.0s\n",
            "[CV] max_depth=5, criterion=entropy ..................................\n",
            "[CV] ...... max_depth=5, criterion=entropy, score=0.892, total=   0.0s\n"
          ],
          "name": "stdout"
        },
        {
          "output_type": "stream",
          "text": [
            "[Parallel(n_jobs=1)]: Using backend SequentialBackend with 1 concurrent workers.\n",
            "[Parallel(n_jobs=1)]: Done   1 out of   1 | elapsed:    0.0s remaining:    0.0s\n",
            "[Parallel(n_jobs=1)]: Done   2 out of   2 | elapsed:    0.0s remaining:    0.0s\n",
            "[Parallel(n_jobs=1)]: Done   3 out of   3 | elapsed:    0.0s remaining:    0.0s\n",
            "[Parallel(n_jobs=1)]: Done   4 out of   4 | elapsed:    0.0s remaining:    0.0s\n",
            "[Parallel(n_jobs=1)]: Done  15 out of  15 | elapsed:    0.0s finished\n",
            "/usr/local/lib/python3.6/dist-packages/sklearn/model_selection/_search.py:813: DeprecationWarning: The default of the `iid` parameter will change from True to False in version 0.22 and will be removed in 0.24. This will change numeric results when test-set sizes are unequal.\n",
            "  DeprecationWarning)\n"
          ],
          "name": "stderr"
        },
        {
          "output_type": "execute_result",
          "data": {
            "text/plain": [
              "RandomizedSearchCV(cv=3, error_score='raise-deprecating',\n",
              "                   estimator=DecisionTreeClassifier(class_weight=None,\n",
              "                                                    criterion='gini',\n",
              "                                                    max_depth=None,\n",
              "                                                    max_features=None,\n",
              "                                                    max_leaf_nodes=None,\n",
              "                                                    min_impurity_decrease=0.0,\n",
              "                                                    min_impurity_split=None,\n",
              "                                                    min_samples_leaf=1,\n",
              "                                                    min_samples_split=2,\n",
              "                                                    min_weight_fraction_leaf=0.0,\n",
              "                                                    presort=False,\n",
              "                                                    random_state=None,\n",
              "                                                    splitter='best'),\n",
              "                   iid='warn', n_iter=5, n_jobs=None,\n",
              "                   param_distributions={'criterion': ['gini', 'entropy'],\n",
              "                                        'max_depth': [3, 5, 7, 9]},\n",
              "                   pre_dispatch='2*n_jobs', random_state=None, refit=True,\n",
              "                   return_train_score=False, scoring=None, verbose=5)"
            ]
          },
          "metadata": {
            "tags": []
          },
          "execution_count": 68
        }
      ]
    },
    {
      "cell_type": "code",
      "metadata": {
        "id": "PskU1AyNDN3g",
        "colab_type": "code",
        "outputId": "47b0520c-7884-4225-b629-b7f80e55fbf5",
        "colab": {
          "base_uri": "https://localhost:8080/",
          "height": 119
        }
      },
      "source": [
        "clf.best_estimator_"
      ],
      "execution_count": 0,
      "outputs": [
        {
          "output_type": "execute_result",
          "data": {
            "text/plain": [
              "DecisionTreeClassifier(class_weight=None, criterion='entropy', max_depth=3,\n",
              "                       max_features=None, max_leaf_nodes=None,\n",
              "                       min_impurity_decrease=0.0, min_impurity_split=None,\n",
              "                       min_samples_leaf=1, min_samples_split=2,\n",
              "                       min_weight_fraction_leaf=0.0, presort=False,\n",
              "                       random_state=None, splitter='best')"
            ]
          },
          "metadata": {
            "tags": []
          },
          "execution_count": 69
        }
      ]
    },
    {
      "cell_type": "code",
      "metadata": {
        "id": "iiq5mYLWDUor",
        "colab_type": "code",
        "outputId": "75a1ab24-7f3a-4c18-92dc-58d5dd919afc",
        "colab": {
          "base_uri": "https://localhost:8080/",
          "height": 255
        }
      },
      "source": [
        "decision_pipeline"
      ],
      "execution_count": 0,
      "outputs": [
        {
          "output_type": "execute_result",
          "data": {
            "text/plain": [
              "Pipeline(memory=None,\n",
              "         steps=[('normalize',\n",
              "                 StandardScaler(copy=True, with_mean=True, with_std=True)),\n",
              "                ('decision',\n",
              "                 DecisionTreeClassifier(class_weight=None, criterion='gini',\n",
              "                                        max_depth=None, max_features=None,\n",
              "                                        max_leaf_nodes=None,\n",
              "                                        min_impurity_decrease=0.0,\n",
              "                                        min_impurity_split=None,\n",
              "                                        min_samples_leaf=1, min_samples_split=2,\n",
              "                                        min_weight_fraction_leaf=0.0,\n",
              "                                        presort=False, random_state=None,\n",
              "                                        splitter='best'))],\n",
              "         verbose=False)"
            ]
          },
          "metadata": {
            "tags": []
          },
          "execution_count": 70
        }
      ]
    },
    {
      "cell_type": "code",
      "metadata": {
        "id": "DMPhoFuEDxGk",
        "colab_type": "code",
        "colab": {}
      },
      "source": [
        "params = {\n",
        "    'decision__criterion': ['gini', 'entropy'],\n",
        "    'normalize__with_mean': [True, False],\n",
        "    'decision__max_depth': [3, 7]\n",
        "}"
      ],
      "execution_count": 0,
      "outputs": []
    },
    {
      "cell_type": "code",
      "metadata": {
        "id": "x9aDK7moEHfd",
        "colab_type": "code",
        "outputId": "04885aa1-f36e-4986-b21f-3f833e75ff2d",
        "colab": {
          "base_uri": "https://localhost:8080/",
          "height": 1000
        }
      },
      "source": [
        "clf = GridSearchCV(decision_pipeline,\n",
        "                   params,\n",
        "                   cv=3,\n",
        "                   verbose=5)\n",
        "clf.fit(X_train, y_train)"
      ],
      "execution_count": 0,
      "outputs": [
        {
          "output_type": "stream",
          "text": [
            "Fitting 3 folds for each of 8 candidates, totalling 24 fits\n",
            "[CV] decision__criterion=gini, decision__max_depth=3, normalize__with_mean=True \n",
            "[CV]  decision__criterion=gini, decision__max_depth=3, normalize__with_mean=True, score=0.868, total=   0.0s\n",
            "[CV] decision__criterion=gini, decision__max_depth=3, normalize__with_mean=True \n",
            "[CV]  decision__criterion=gini, decision__max_depth=3, normalize__with_mean=True, score=0.946, total=   0.0s\n",
            "[CV] decision__criterion=gini, decision__max_depth=3, normalize__with_mean=True \n",
            "[CV]  decision__criterion=gini, decision__max_depth=3, normalize__with_mean=True, score=0.865, total=   0.0s\n",
            "[CV] decision__criterion=gini, decision__max_depth=3, normalize__with_mean=False \n",
            "[CV]  decision__criterion=gini, decision__max_depth=3, normalize__with_mean=False, score=0.868, total=   0.0s\n",
            "[CV] decision__criterion=gini, decision__max_depth=3, normalize__with_mean=False \n",
            "[CV]  decision__criterion=gini, decision__max_depth=3, normalize__with_mean=False, score=0.946, total=   0.0s\n",
            "[CV] decision__criterion=gini, decision__max_depth=3, normalize__with_mean=False \n",
            "[CV]  decision__criterion=gini, decision__max_depth=3, normalize__with_mean=False, score=0.865, total=   0.0s\n",
            "[CV] decision__criterion=gini, decision__max_depth=7, normalize__with_mean=True \n",
            "[CV]  decision__criterion=gini, decision__max_depth=7, normalize__with_mean=True, score=0.868, total=   0.0s\n",
            "[CV] decision__criterion=gini, decision__max_depth=7, normalize__with_mean=True \n",
            "[CV]  decision__criterion=gini, decision__max_depth=7, normalize__with_mean=True, score=0.946, total=   0.0s\n",
            "[CV] decision__criterion=gini, decision__max_depth=7, normalize__with_mean=True \n",
            "[CV]  decision__criterion=gini, decision__max_depth=7, normalize__with_mean=True, score=0.892, total=   0.0s\n",
            "[CV] decision__criterion=gini, decision__max_depth=7, normalize__with_mean=False \n",
            "[CV]  decision__criterion=gini, decision__max_depth=7, normalize__with_mean=False, score=0.868, total=   0.0s\n",
            "[CV] decision__criterion=gini, decision__max_depth=7, normalize__with_mean=False \n",
            "[CV]  decision__criterion=gini, decision__max_depth=7, normalize__with_mean=False, score=0.946, total=   0.0s\n",
            "[CV] decision__criterion=gini, decision__max_depth=7, normalize__with_mean=False \n",
            "[CV]  decision__criterion=gini, decision__max_depth=7, normalize__with_mean=False, score=0.892, total=   0.0s\n",
            "[CV] decision__criterion=entropy, decision__max_depth=3, normalize__with_mean=True \n",
            "[CV]  decision__criterion=entropy, decision__max_depth=3, normalize__with_mean=True, score=0.868, total=   0.0s\n",
            "[CV] decision__criterion=entropy, decision__max_depth=3, normalize__with_mean=True \n",
            "[CV]  decision__criterion=entropy, decision__max_depth=3, normalize__with_mean=True, score=0.946, total=   0.0s\n",
            "[CV] decision__criterion=entropy, decision__max_depth=3, normalize__with_mean=True \n",
            "[CV]  decision__criterion=entropy, decision__max_depth=3, normalize__with_mean=True, score=0.865, total=   0.0s\n",
            "[CV] decision__criterion=entropy, decision__max_depth=3, normalize__with_mean=False \n",
            "[CV]  decision__criterion=entropy, decision__max_depth=3, normalize__with_mean=False, score=0.868, total=   0.0s\n",
            "[CV] decision__criterion=entropy, decision__max_depth=3, normalize__with_mean=False \n",
            "[CV]  decision__criterion=entropy, decision__max_depth=3, normalize__with_mean=False, score=0.946, total=   0.0s\n",
            "[CV] decision__criterion=entropy, decision__max_depth=3, normalize__with_mean=False \n",
            "[CV]  decision__criterion=entropy, decision__max_depth=3, normalize__with_mean=False, score=0.865, total=   0.0s\n",
            "[CV] decision__criterion=entropy, decision__max_depth=7, normalize__with_mean=True \n",
            "[CV]  decision__criterion=entropy, decision__max_depth=7, normalize__with_mean=True, score=0.868, total=   0.0s\n",
            "[CV] decision__criterion=entropy, decision__max_depth=7, normalize__with_mean=True \n",
            "[CV]  decision__criterion=entropy, decision__max_depth=7, normalize__with_mean=True, score=0.946, total=   0.0s\n",
            "[CV] decision__criterion=entropy, decision__max_depth=7, normalize__with_mean=True \n",
            "[CV]  decision__criterion=entropy, decision__max_depth=7, normalize__with_mean=True, score=0.892, total=   0.0s\n",
            "[CV] decision__criterion=entropy, decision__max_depth=7, normalize__with_mean=False \n",
            "[CV]  decision__criterion=entropy, decision__max_depth=7, normalize__with_mean=False, score=0.868, total=   0.0s\n",
            "[CV] decision__criterion=entropy, decision__max_depth=7, normalize__with_mean=False \n",
            "[CV]  decision__criterion=entropy, decision__max_depth=7, normalize__with_mean=False, score=0.946, total=   0.0s\n",
            "[CV] decision__criterion=entropy, decision__max_depth=7, normalize__with_mean=False \n",
            "[CV]  decision__criterion=entropy, decision__max_depth=7, normalize__with_mean=False, score=0.892, total=   0.0s\n"
          ],
          "name": "stdout"
        },
        {
          "output_type": "stream",
          "text": [
            "[Parallel(n_jobs=1)]: Using backend SequentialBackend with 1 concurrent workers.\n",
            "[Parallel(n_jobs=1)]: Done   1 out of   1 | elapsed:    0.0s remaining:    0.0s\n",
            "[Parallel(n_jobs=1)]: Done   2 out of   2 | elapsed:    0.0s remaining:    0.0s\n",
            "[Parallel(n_jobs=1)]: Done   3 out of   3 | elapsed:    0.0s remaining:    0.0s\n",
            "[Parallel(n_jobs=1)]: Done   4 out of   4 | elapsed:    0.0s remaining:    0.0s\n",
            "[Parallel(n_jobs=1)]: Done  24 out of  24 | elapsed:    0.1s finished\n",
            "/usr/local/lib/python3.6/dist-packages/sklearn/model_selection/_search.py:813: DeprecationWarning: The default of the `iid` parameter will change from True to False in version 0.22 and will be removed in 0.24. This will change numeric results when test-set sizes are unequal.\n",
            "  DeprecationWarning)\n"
          ],
          "name": "stderr"
        },
        {
          "output_type": "execute_result",
          "data": {
            "text/plain": [
              "GridSearchCV(cv=3, error_score='raise-deprecating',\n",
              "             estimator=Pipeline(memory=None,\n",
              "                                steps=[('normalize',\n",
              "                                        StandardScaler(copy=True,\n",
              "                                                       with_mean=True,\n",
              "                                                       with_std=True)),\n",
              "                                       ('decision',\n",
              "                                        DecisionTreeClassifier(class_weight=None,\n",
              "                                                               criterion='gini',\n",
              "                                                               max_depth=None,\n",
              "                                                               max_features=None,\n",
              "                                                               max_leaf_nodes=None,\n",
              "                                                               min_impurity_decrease=0.0,\n",
              "                                                               min_impurity_split=None,\n",
              "                                                               min_samples_leaf=1,\n",
              "                                                               min_samples_split=2,\n",
              "                                                               min_weight_fraction_leaf=0.0,\n",
              "                                                               presort=False,\n",
              "                                                               random_state=None,\n",
              "                                                               splitter='best'))],\n",
              "                                verbose=False),\n",
              "             iid='warn', n_jobs=None,\n",
              "             param_grid={'decision__criterion': ['gini', 'entropy'],\n",
              "                         'decision__max_depth': [3, 7],\n",
              "                         'normalize__with_mean': [True, False]},\n",
              "             pre_dispatch='2*n_jobs', refit=True, return_train_score=False,\n",
              "             scoring=None, verbose=5)"
            ]
          },
          "metadata": {
            "tags": []
          },
          "execution_count": 73
        }
      ]
    },
    {
      "cell_type": "code",
      "metadata": {
        "id": "4PaSd9iTESFb",
        "colab_type": "code",
        "outputId": "c9f49da4-4fbc-446a-d959-a1489ce3d613",
        "colab": {
          "base_uri": "https://localhost:8080/",
          "height": 255
        }
      },
      "source": [
        "clf.best_estimator_"
      ],
      "execution_count": 0,
      "outputs": [
        {
          "output_type": "execute_result",
          "data": {
            "text/plain": [
              "Pipeline(memory=None,\n",
              "         steps=[('normalize',\n",
              "                 StandardScaler(copy=True, with_mean=True, with_std=True)),\n",
              "                ('decision',\n",
              "                 DecisionTreeClassifier(class_weight=None, criterion='gini',\n",
              "                                        max_depth=7, max_features=None,\n",
              "                                        max_leaf_nodes=None,\n",
              "                                        min_impurity_decrease=0.0,\n",
              "                                        min_impurity_split=None,\n",
              "                                        min_samples_leaf=1, min_samples_split=2,\n",
              "                                        min_weight_fraction_leaf=0.0,\n",
              "                                        presort=False, random_state=None,\n",
              "                                        splitter='best'))],\n",
              "         verbose=False)"
            ]
          },
          "metadata": {
            "tags": []
          },
          "execution_count": 74
        }
      ]
    },
    {
      "cell_type": "code",
      "metadata": {
        "id": "CKK0OtrsEXxc",
        "colab_type": "code",
        "outputId": "5ff53601-2f96-4b00-d2c8-b75160a1caba",
        "colab": {
          "base_uri": "https://localhost:8080/",
          "height": 51
        }
      },
      "source": [
        "clf.predict(X_test)"
      ],
      "execution_count": 0,
      "outputs": [
        {
          "output_type": "execute_result",
          "data": {
            "text/plain": [
              "array([2, 0, 1, 1, 1, 2, 2, 0, 1, 2, 0, 0, 0, 1, 1, 2, 1, 2, 0, 0, 2, 1,\n",
              "       2, 0, 0, 1, 2, 2, 2, 2, 2, 1, 2, 0, 0, 1, 2, 2])"
            ]
          },
          "metadata": {
            "tags": []
          },
          "execution_count": 75
        }
      ]
    },
    {
      "cell_type": "code",
      "metadata": {
        "id": "wwlVqCfUEf1Y",
        "colab_type": "code",
        "outputId": "9fa312bb-6025-4b27-c41e-7c3b0ee66a41",
        "colab": {
          "base_uri": "https://localhost:8080/",
          "height": 34
        }
      },
      "source": [
        "clf.score(X_test, y_test)"
      ],
      "execution_count": 0,
      "outputs": [
        {
          "output_type": "execute_result",
          "data": {
            "text/plain": [
              "0.9473684210526315"
            ]
          },
          "metadata": {
            "tags": []
          },
          "execution_count": 76
        }
      ]
    },
    {
      "cell_type": "markdown",
      "metadata": {
        "id": "IY1X3_OeEs04",
        "colab_type": "text"
      },
      "source": [
        "### Scoring"
      ]
    },
    {
      "cell_type": "code",
      "metadata": {
        "id": "rQ6BNWtWEh7j",
        "colab_type": "code",
        "colab": {}
      },
      "source": [
        "from sklearn.metrics import recall_score"
      ],
      "execution_count": 0,
      "outputs": []
    },
    {
      "cell_type": "code",
      "metadata": {
        "id": "Wg_EWyeqE34Z",
        "colab_type": "code",
        "colab": {}
      },
      "source": [
        "GridSearchCV?"
      ],
      "execution_count": 0,
      "outputs": []
    },
    {
      "cell_type": "code",
      "metadata": {
        "id": "qNXMopBNE5sa",
        "colab_type": "code",
        "colab": {}
      },
      "source": [
        "recall_score?"
      ],
      "execution_count": 0,
      "outputs": []
    },
    {
      "cell_type": "code",
      "metadata": {
        "id": "lVfjIYplFWxp",
        "colab_type": "code",
        "colab": {}
      },
      "source": [
        "def scorer(estimator, X, y):\n",
        "  pred = estimator.predict(X)\n",
        "  return(recall_score(y, pred, pos_label=2, average='micro'))"
      ],
      "execution_count": 0,
      "outputs": []
    },
    {
      "cell_type": "code",
      "metadata": {
        "id": "62bZhgfmFmTG",
        "colab_type": "code",
        "outputId": "2fc259c7-5919-4f82-bd38-1479e2c75126",
        "colab": {
          "base_uri": "https://localhost:8080/",
          "height": 1000
        }
      },
      "source": [
        "clf = GridSearchCV(decision_pipeline,\n",
        "                   params,\n",
        "                   cv=3,\n",
        "                   verbose=5,\n",
        "                   scoring=scorer)\n",
        "clf.fit(X_train, y_train)"
      ],
      "execution_count": 0,
      "outputs": [
        {
          "output_type": "stream",
          "text": [
            "Fitting 3 folds for each of 8 candidates, totalling 24 fits\n",
            "[CV] decision__criterion=gini, decision__max_depth=3, normalize__with_mean=True \n",
            "[CV]  decision__criterion=gini, decision__max_depth=3, normalize__with_mean=True, score=0.868, total=   0.0s\n",
            "[CV] decision__criterion=gini, decision__max_depth=3, normalize__with_mean=True \n",
            "[CV]  decision__criterion=gini, decision__max_depth=3, normalize__with_mean=True, score=0.946, total=   0.0s\n",
            "[CV] decision__criterion=gini, decision__max_depth=3, normalize__with_mean=True \n",
            "[CV]  decision__criterion=gini, decision__max_depth=3, normalize__with_mean=True, score=0.946, total=   0.0s\n",
            "[CV] decision__criterion=gini, decision__max_depth=3, normalize__with_mean=False \n",
            "[CV]  decision__criterion=gini, decision__max_depth=3, normalize__with_mean=False, score=0.868, total=   0.0s\n",
            "[CV] decision__criterion=gini, decision__max_depth=3, normalize__with_mean=False \n",
            "[CV]  decision__criterion=gini, decision__max_depth=3, normalize__with_mean=False, score=0.946, total=   0.0s\n",
            "[CV] decision__criterion=gini, decision__max_depth=3, normalize__with_mean=False \n",
            "[CV]  decision__criterion=gini, decision__max_depth=3, normalize__with_mean=False, score=0.865, total=   0.0s\n",
            "[CV] decision__criterion=gini, decision__max_depth=7, normalize__with_mean=True \n",
            "[CV]  decision__criterion=gini, decision__max_depth=7, normalize__with_mean=True, score=0.868, total=   0.0s\n",
            "[CV] decision__criterion=gini, decision__max_depth=7, normalize__with_mean=True \n",
            "[CV]  decision__criterion=gini, decision__max_depth=7, normalize__with_mean=True, score=0.946, total=   0.0s\n",
            "[CV] decision__criterion=gini, decision__max_depth=7, normalize__with_mean=True \n",
            "[CV]  decision__criterion=gini, decision__max_depth=7, normalize__with_mean=True, score=0.892, total=   0.0s\n",
            "[CV] decision__criterion=gini, decision__max_depth=7, normalize__with_mean=False \n",
            "[CV]  decision__criterion=gini, decision__max_depth=7, normalize__with_mean=False, score=0.868, total=   0.0s\n",
            "[CV] decision__criterion=gini, decision__max_depth=7, normalize__with_mean=False \n",
            "[CV]  decision__criterion=gini, decision__max_depth=7, normalize__with_mean=False, score=0.946, total=   0.0s\n",
            "[CV] decision__criterion=gini, decision__max_depth=7, normalize__with_mean=False \n",
            "[CV]  decision__criterion=gini, decision__max_depth=7, normalize__with_mean=False, score=0.892, total=   0.0s\n",
            "[CV] decision__criterion=entropy, decision__max_depth=3, normalize__with_mean=True \n",
            "[CV]  decision__criterion=entropy, decision__max_depth=3, normalize__with_mean=True, score=0.868, total=   0.0s\n",
            "[CV] decision__criterion=entropy, decision__max_depth=3, normalize__with_mean=True \n",
            "[CV]  decision__criterion=entropy, decision__max_depth=3, normalize__with_mean=True, score=0.946, total=   0.0s\n",
            "[CV] decision__criterion=entropy, decision__max_depth=3, normalize__with_mean=True \n",
            "[CV]  decision__criterion=entropy, decision__max_depth=3, normalize__with_mean=True, score=0.946, total=   0.0s\n",
            "[CV] decision__criterion=entropy, decision__max_depth=3, normalize__with_mean=False \n",
            "[CV]  decision__criterion=entropy, decision__max_depth=3, normalize__with_mean=False, score=0.868, total=   0.0s\n",
            "[CV] decision__criterion=entropy, decision__max_depth=3, normalize__with_mean=False \n",
            "[CV]  decision__criterion=entropy, decision__max_depth=3, normalize__with_mean=False, score=0.946, total=   0.0s\n",
            "[CV] decision__criterion=entropy, decision__max_depth=3, normalize__with_mean=False \n",
            "[CV]  decision__criterion=entropy, decision__max_depth=3, normalize__with_mean=False, score=0.946, total=   0.0s\n",
            "[CV] decision__criterion=entropy, decision__max_depth=7, normalize__with_mean=True \n",
            "[CV]  decision__criterion=entropy, decision__max_depth=7, normalize__with_mean=True, score=0.868, total=   0.0s\n",
            "[CV] decision__criterion=entropy, decision__max_depth=7, normalize__with_mean=True \n",
            "[CV]  decision__criterion=entropy, decision__max_depth=7, normalize__with_mean=True, score=0.946, total=   0.0s\n",
            "[CV] decision__criterion=entropy, decision__max_depth=7, normalize__with_mean=True \n",
            "[CV]  decision__criterion=entropy, decision__max_depth=7, normalize__with_mean=True, score=0.892, total=   0.0s\n",
            "[CV] decision__criterion=entropy, decision__max_depth=7, normalize__with_mean=False \n",
            "[CV]  decision__criterion=entropy, decision__max_depth=7, normalize__with_mean=False, score=0.947, total=   0.0s\n",
            "[CV] decision__criterion=entropy, decision__max_depth=7, normalize__with_mean=False \n",
            "[CV]  decision__criterion=entropy, decision__max_depth=7, normalize__with_mean=False, score=0.946, total=   0.0s\n",
            "[CV] decision__criterion=entropy, decision__max_depth=7, normalize__with_mean=False \n",
            "[CV]  decision__criterion=entropy, decision__max_depth=7, normalize__with_mean=False, score=0.892, total=   0.0s\n"
          ],
          "name": "stdout"
        },
        {
          "output_type": "stream",
          "text": [
            "[Parallel(n_jobs=1)]: Using backend SequentialBackend with 1 concurrent workers.\n",
            "/usr/local/lib/python3.6/dist-packages/sklearn/metrics/classification.py:1259: UserWarning: Note that pos_label (set to 2) is ignored when average != 'binary' (got 'micro'). You may use labels=[pos_label] to specify a single positive class.\n",
            "  % (pos_label, average), UserWarning)\n",
            "[Parallel(n_jobs=1)]: Done   1 out of   1 | elapsed:    0.0s remaining:    0.0s\n",
            "/usr/local/lib/python3.6/dist-packages/sklearn/metrics/classification.py:1259: UserWarning: Note that pos_label (set to 2) is ignored when average != 'binary' (got 'micro'). You may use labels=[pos_label] to specify a single positive class.\n",
            "  % (pos_label, average), UserWarning)\n",
            "[Parallel(n_jobs=1)]: Done   2 out of   2 | elapsed:    0.0s remaining:    0.0s\n",
            "/usr/local/lib/python3.6/dist-packages/sklearn/metrics/classification.py:1259: UserWarning: Note that pos_label (set to 2) is ignored when average != 'binary' (got 'micro'). You may use labels=[pos_label] to specify a single positive class.\n",
            "  % (pos_label, average), UserWarning)\n",
            "[Parallel(n_jobs=1)]: Done   3 out of   3 | elapsed:    0.0s remaining:    0.0s\n",
            "/usr/local/lib/python3.6/dist-packages/sklearn/metrics/classification.py:1259: UserWarning: Note that pos_label (set to 2) is ignored when average != 'binary' (got 'micro'). You may use labels=[pos_label] to specify a single positive class.\n",
            "  % (pos_label, average), UserWarning)\n",
            "[Parallel(n_jobs=1)]: Done   4 out of   4 | elapsed:    0.0s remaining:    0.0s\n",
            "/usr/local/lib/python3.6/dist-packages/sklearn/metrics/classification.py:1259: UserWarning: Note that pos_label (set to 2) is ignored when average != 'binary' (got 'micro'). You may use labels=[pos_label] to specify a single positive class.\n",
            "  % (pos_label, average), UserWarning)\n",
            "/usr/local/lib/python3.6/dist-packages/sklearn/metrics/classification.py:1259: UserWarning: Note that pos_label (set to 2) is ignored when average != 'binary' (got 'micro'). You may use labels=[pos_label] to specify a single positive class.\n",
            "  % (pos_label, average), UserWarning)\n",
            "/usr/local/lib/python3.6/dist-packages/sklearn/metrics/classification.py:1259: UserWarning: Note that pos_label (set to 2) is ignored when average != 'binary' (got 'micro'). You may use labels=[pos_label] to specify a single positive class.\n",
            "  % (pos_label, average), UserWarning)\n",
            "/usr/local/lib/python3.6/dist-packages/sklearn/metrics/classification.py:1259: UserWarning: Note that pos_label (set to 2) is ignored when average != 'binary' (got 'micro'). You may use labels=[pos_label] to specify a single positive class.\n",
            "  % (pos_label, average), UserWarning)\n",
            "/usr/local/lib/python3.6/dist-packages/sklearn/metrics/classification.py:1259: UserWarning: Note that pos_label (set to 2) is ignored when average != 'binary' (got 'micro'). You may use labels=[pos_label] to specify a single positive class.\n",
            "  % (pos_label, average), UserWarning)\n",
            "/usr/local/lib/python3.6/dist-packages/sklearn/metrics/classification.py:1259: UserWarning: Note that pos_label (set to 2) is ignored when average != 'binary' (got 'micro'). You may use labels=[pos_label] to specify a single positive class.\n",
            "  % (pos_label, average), UserWarning)\n",
            "/usr/local/lib/python3.6/dist-packages/sklearn/metrics/classification.py:1259: UserWarning: Note that pos_label (set to 2) is ignored when average != 'binary' (got 'micro'). You may use labels=[pos_label] to specify a single positive class.\n",
            "  % (pos_label, average), UserWarning)\n",
            "/usr/local/lib/python3.6/dist-packages/sklearn/metrics/classification.py:1259: UserWarning: Note that pos_label (set to 2) is ignored when average != 'binary' (got 'micro'). You may use labels=[pos_label] to specify a single positive class.\n",
            "  % (pos_label, average), UserWarning)\n",
            "/usr/local/lib/python3.6/dist-packages/sklearn/metrics/classification.py:1259: UserWarning: Note that pos_label (set to 2) is ignored when average != 'binary' (got 'micro'). You may use labels=[pos_label] to specify a single positive class.\n",
            "  % (pos_label, average), UserWarning)\n",
            "/usr/local/lib/python3.6/dist-packages/sklearn/metrics/classification.py:1259: UserWarning: Note that pos_label (set to 2) is ignored when average != 'binary' (got 'micro'). You may use labels=[pos_label] to specify a single positive class.\n",
            "  % (pos_label, average), UserWarning)\n",
            "/usr/local/lib/python3.6/dist-packages/sklearn/metrics/classification.py:1259: UserWarning: Note that pos_label (set to 2) is ignored when average != 'binary' (got 'micro'). You may use labels=[pos_label] to specify a single positive class.\n",
            "  % (pos_label, average), UserWarning)\n",
            "/usr/local/lib/python3.6/dist-packages/sklearn/metrics/classification.py:1259: UserWarning: Note that pos_label (set to 2) is ignored when average != 'binary' (got 'micro'). You may use labels=[pos_label] to specify a single positive class.\n",
            "  % (pos_label, average), UserWarning)\n",
            "/usr/local/lib/python3.6/dist-packages/sklearn/metrics/classification.py:1259: UserWarning: Note that pos_label (set to 2) is ignored when average != 'binary' (got 'micro'). You may use labels=[pos_label] to specify a single positive class.\n",
            "  % (pos_label, average), UserWarning)\n",
            "/usr/local/lib/python3.6/dist-packages/sklearn/metrics/classification.py:1259: UserWarning: Note that pos_label (set to 2) is ignored when average != 'binary' (got 'micro'). You may use labels=[pos_label] to specify a single positive class.\n",
            "  % (pos_label, average), UserWarning)\n",
            "/usr/local/lib/python3.6/dist-packages/sklearn/metrics/classification.py:1259: UserWarning: Note that pos_label (set to 2) is ignored when average != 'binary' (got 'micro'). You may use labels=[pos_label] to specify a single positive class.\n",
            "  % (pos_label, average), UserWarning)\n",
            "/usr/local/lib/python3.6/dist-packages/sklearn/metrics/classification.py:1259: UserWarning: Note that pos_label (set to 2) is ignored when average != 'binary' (got 'micro'). You may use labels=[pos_label] to specify a single positive class.\n",
            "  % (pos_label, average), UserWarning)\n",
            "/usr/local/lib/python3.6/dist-packages/sklearn/metrics/classification.py:1259: UserWarning: Note that pos_label (set to 2) is ignored when average != 'binary' (got 'micro'). You may use labels=[pos_label] to specify a single positive class.\n",
            "  % (pos_label, average), UserWarning)\n",
            "/usr/local/lib/python3.6/dist-packages/sklearn/metrics/classification.py:1259: UserWarning: Note that pos_label (set to 2) is ignored when average != 'binary' (got 'micro'). You may use labels=[pos_label] to specify a single positive class.\n",
            "  % (pos_label, average), UserWarning)\n",
            "/usr/local/lib/python3.6/dist-packages/sklearn/metrics/classification.py:1259: UserWarning: Note that pos_label (set to 2) is ignored when average != 'binary' (got 'micro'). You may use labels=[pos_label] to specify a single positive class.\n",
            "  % (pos_label, average), UserWarning)\n",
            "/usr/local/lib/python3.6/dist-packages/sklearn/metrics/classification.py:1259: UserWarning: Note that pos_label (set to 2) is ignored when average != 'binary' (got 'micro'). You may use labels=[pos_label] to specify a single positive class.\n",
            "  % (pos_label, average), UserWarning)\n",
            "[Parallel(n_jobs=1)]: Done  24 out of  24 | elapsed:    0.1s finished\n",
            "/usr/local/lib/python3.6/dist-packages/sklearn/model_selection/_search.py:813: DeprecationWarning: The default of the `iid` parameter will change from True to False in version 0.22 and will be removed in 0.24. This will change numeric results when test-set sizes are unequal.\n",
            "  DeprecationWarning)\n"
          ],
          "name": "stderr"
        },
        {
          "output_type": "execute_result",
          "data": {
            "text/plain": [
              "GridSearchCV(cv=3, error_score='raise-deprecating',\n",
              "             estimator=Pipeline(memory=None,\n",
              "                                steps=[('normalize',\n",
              "                                        StandardScaler(copy=True,\n",
              "                                                       with_mean=True,\n",
              "                                                       with_std=True)),\n",
              "                                       ('decision',\n",
              "                                        DecisionTreeClassifier(class_weight=None,\n",
              "                                                               criterion='gini',\n",
              "                                                               max_depth=None,\n",
              "                                                               max_features=None,\n",
              "                                                               max_leaf_nodes=None,\n",
              "                                                               min_impurity_decrease=0.0,\n",
              "                                                               min_impurity_split=None,\n",
              "                                                               min_samples_leaf=1,\n",
              "                                                               m...=2,\n",
              "                                                               min_weight_fraction_leaf=0.0,\n",
              "                                                               presort=False,\n",
              "                                                               random_state=None,\n",
              "                                                               splitter='best'))],\n",
              "                                verbose=False),\n",
              "             iid='warn', n_jobs=None,\n",
              "             param_grid={'decision__criterion': ['gini', 'entropy'],\n",
              "                         'decision__max_depth': [3, 7],\n",
              "                         'normalize__with_mean': [True, False]},\n",
              "             pre_dispatch='2*n_jobs', refit=True, return_train_score=False,\n",
              "             scoring=<function scorer at 0x7f8469c98620>, verbose=5)"
            ]
          },
          "metadata": {
            "tags": []
          },
          "execution_count": 83
        }
      ]
    },
    {
      "cell_type": "code",
      "metadata": {
        "id": "0DImPT1YFyHz",
        "colab_type": "code",
        "outputId": "1373c8a2-e0af-4bab-9078-62d507dd5659",
        "colab": {
          "base_uri": "https://localhost:8080/",
          "height": 51
        }
      },
      "source": [
        "clf.predict(X_test)"
      ],
      "execution_count": 0,
      "outputs": [
        {
          "output_type": "execute_result",
          "data": {
            "text/plain": [
              "array([2, 0, 1, 1, 1, 2, 2, 0, 1, 2, 0, 0, 0, 1, 1, 2, 1, 2, 0, 0, 2, 1,\n",
              "       2, 0, 0, 1, 2, 2, 2, 2, 2, 1, 2, 0, 0, 1, 2, 2])"
            ]
          },
          "metadata": {
            "tags": []
          },
          "execution_count": 84
        }
      ]
    },
    {
      "cell_type": "code",
      "metadata": {
        "id": "fyRGTbiBHxgn",
        "colab_type": "code",
        "outputId": "79616998-2edc-4b30-9804-09db491e2f92",
        "colab": {
          "base_uri": "https://localhost:8080/",
          "height": 88
        }
      },
      "source": [
        "clf.score(X_test, y_test)"
      ],
      "execution_count": 0,
      "outputs": [
        {
          "output_type": "stream",
          "text": [
            "/usr/local/lib/python3.6/dist-packages/sklearn/metrics/classification.py:1259: UserWarning: Note that pos_label (set to 2) is ignored when average != 'binary' (got 'micro'). You may use labels=[pos_label] to specify a single positive class.\n",
            "  % (pos_label, average), UserWarning)\n"
          ],
          "name": "stderr"
        },
        {
          "output_type": "execute_result",
          "data": {
            "text/plain": [
              "0.9473684210526315"
            ]
          },
          "metadata": {
            "tags": []
          },
          "execution_count": 85
        }
      ]
    },
    {
      "cell_type": "code",
      "metadata": {
        "id": "JYFC-EhaGIMR",
        "colab_type": "code",
        "outputId": "3968c573-fedf-4e00-fb74-5228d8580300",
        "colab": {
          "base_uri": "https://localhost:8080/",
          "height": 255
        }
      },
      "source": [
        "clf.best_estimator_"
      ],
      "execution_count": 0,
      "outputs": [
        {
          "output_type": "execute_result",
          "data": {
            "text/plain": [
              "Pipeline(memory=None,\n",
              "         steps=[('normalize',\n",
              "                 StandardScaler(copy=True, with_mean=False, with_std=True)),\n",
              "                ('decision',\n",
              "                 DecisionTreeClassifier(class_weight=None, criterion='entropy',\n",
              "                                        max_depth=7, max_features=None,\n",
              "                                        max_leaf_nodes=None,\n",
              "                                        min_impurity_decrease=0.0,\n",
              "                                        min_impurity_split=None,\n",
              "                                        min_samples_leaf=1, min_samples_split=2,\n",
              "                                        min_weight_fraction_leaf=0.0,\n",
              "                                        presort=False, random_state=None,\n",
              "                                        splitter='best'))],\n",
              "         verbose=False)"
            ]
          },
          "metadata": {
            "tags": []
          },
          "execution_count": 86
        }
      ]
    },
    {
      "cell_type": "code",
      "metadata": {
        "id": "wir-vXmrgtZv",
        "colab_type": "code",
        "colab": {}
      },
      "source": [
        "from pickle import dump, load\n",
        "with open('classifier.pkl', 'wb') as f:\n",
        "  dump(clf, f)"
      ],
      "execution_count": 0,
      "outputs": []
    },
    {
      "cell_type": "code",
      "metadata": {
        "id": "58x6iUFFhd_-",
        "colab_type": "code",
        "colab": {}
      },
      "source": [
        "with open('classifier.pkl', 'rb') as f:\n",
        "  var2 = load(f)"
      ],
      "execution_count": 0,
      "outputs": []
    },
    {
      "cell_type": "code",
      "metadata": {
        "id": "uVK0j-erhnb3",
        "colab_type": "code",
        "outputId": "a2dc1a13-08ec-45da-d578-4a93584c32b7",
        "colab": {
          "base_uri": "https://localhost:8080/",
          "height": 476
        }
      },
      "source": [
        "var2"
      ],
      "execution_count": 0,
      "outputs": [
        {
          "output_type": "execute_result",
          "data": {
            "text/plain": [
              "GridSearchCV(cv=3, error_score='raise-deprecating',\n",
              "             estimator=Pipeline(memory=None,\n",
              "                                steps=[('normalize',\n",
              "                                        StandardScaler(copy=True,\n",
              "                                                       with_mean=True,\n",
              "                                                       with_std=True)),\n",
              "                                       ('decision',\n",
              "                                        DecisionTreeClassifier(class_weight=None,\n",
              "                                                               criterion='gini',\n",
              "                                                               max_depth=None,\n",
              "                                                               max_features=None,\n",
              "                                                               max_leaf_nodes=None,\n",
              "                                                               min_impurity_decrease=0.0,\n",
              "                                                               min_impurity_split=None,\n",
              "                                                               min_samples_leaf=1,\n",
              "                                                               m...=2,\n",
              "                                                               min_weight_fraction_leaf=0.0,\n",
              "                                                               presort=False,\n",
              "                                                               random_state=None,\n",
              "                                                               splitter='best'))],\n",
              "                                verbose=False),\n",
              "             iid='warn', n_jobs=None,\n",
              "             param_grid={'decision__criterion': ['gini', 'entropy'],\n",
              "                         'decision__max_depth': [3, 7],\n",
              "                         'normalize__with_mean': [True, False]},\n",
              "             pre_dispatch='2*n_jobs', refit=True, return_train_score=False,\n",
              "             scoring=<function scorer at 0x7f8469c98620>, verbose=5)"
            ]
          },
          "metadata": {
            "tags": []
          },
          "execution_count": 89
        }
      ]
    },
    {
      "cell_type": "markdown",
      "metadata": {
        "id": "qyKB_XHZHdWI",
        "colab_type": "text"
      },
      "source": [
        "### Custom Transformation"
      ]
    },
    {
      "cell_type": "code",
      "metadata": {
        "id": "LwYjUB6IGUii",
        "colab_type": "code",
        "colab": {}
      },
      "source": [
        "from sklearn.base import BaseEstimator, TransformerMixin"
      ],
      "execution_count": 0,
      "outputs": []
    },
    {
      "cell_type": "code",
      "metadata": {
        "id": "lEWCNUPDJi9n",
        "colab_type": "code",
        "colab": {}
      },
      "source": [
        "class GPSTransform(BaseEstimator, TransformerMixin):\n",
        "  def __init__(self, columns=None): # Initializer. Constructor\n",
        "    if columns is None:\n",
        "      columns = []\n",
        "    self.columns = columns\n",
        "    self.number = 0\n",
        "\n",
        "  def fit(self, X, y):\n",
        "    self.number = len(self.columns)\n",
        "    return(self)\n",
        "\n",
        "  def transform(self, X):\n",
        "    X[:, self.columns] -= self.number\n",
        "    return(X)"
      ],
      "execution_count": 0,
      "outputs": []
    },
    {
      "cell_type": "code",
      "metadata": {
        "id": "efJo2a80KsKa",
        "colab_type": "code",
        "colab": {}
      },
      "source": [
        "g = GPSTransform(columns=[3])\n",
        "a = np.random.randn(5, 10)"
      ],
      "execution_count": 0,
      "outputs": []
    },
    {
      "cell_type": "code",
      "metadata": {
        "id": "Abx74f3oKyyD",
        "colab_type": "code",
        "outputId": "75f13a17-9b16-4852-9c45-56b24a75166a",
        "colab": {
          "base_uri": "https://localhost:8080/",
          "height": 357
        }
      },
      "source": [
        "a"
      ],
      "execution_count": 0,
      "outputs": [
        {
          "output_type": "execute_result",
          "data": {
            "text/plain": [
              "array([[ 1.14687422e-01,  1.28612006e+00,  5.12538391e-01,\n",
              "         1.42942265e+00,  5.71937822e-02, -1.27458089e-01,\n",
              "         3.45403926e-01, -4.43867521e-01, -1.12557194e+00,\n",
              "         1.64744857e+00],\n",
              "       [-1.58167905e+00, -4.36220570e-01, -2.63574490e-01,\n",
              "        -9.04528118e-01, -9.73744860e-01, -1.03975481e+00,\n",
              "        -6.22144004e-01, -6.33823979e-01, -3.36714645e-01,\n",
              "         4.64907864e-01],\n",
              "       [ 5.02517928e-01, -1.34188009e+00,  1.54405106e+00,\n",
              "         5.94099381e-01,  1.62186225e+00, -6.34833906e-01,\n",
              "         1.04675651e+00, -1.54140314e+00, -3.78278786e-01,\n",
              "        -1.55310724e+00],\n",
              "       [ 5.44461713e-01,  1.63559978e-01,  2.09018550e-01,\n",
              "         6.68845947e-01,  4.47390737e-01, -7.19747749e-01,\n",
              "        -3.89679972e-01,  4.19046040e-04,  3.02722092e-01,\n",
              "         3.71481127e-01],\n",
              "       [ 2.37805765e+00,  2.93813183e-01,  8.90652319e-01,\n",
              "         1.05952745e+00, -9.78548017e-01,  1.12064251e+00,\n",
              "         1.52858830e+00,  3.55201549e-01, -4.76610404e-01,\n",
              "        -8.40895918e-01]])"
            ]
          },
          "metadata": {
            "tags": []
          },
          "execution_count": 93
        }
      ]
    },
    {
      "cell_type": "code",
      "metadata": {
        "id": "Ax23xPXdKzYm",
        "colab_type": "code",
        "outputId": "b7036f02-f019-4532-b121-78bcafe5c6ea",
        "colab": {
          "base_uri": "https://localhost:8080/",
          "height": 34
        }
      },
      "source": [
        "g"
      ],
      "execution_count": 0,
      "outputs": [
        {
          "output_type": "execute_result",
          "data": {
            "text/plain": [
              "GPSTransform(columns=[3])"
            ]
          },
          "metadata": {
            "tags": []
          },
          "execution_count": 94
        }
      ]
    },
    {
      "cell_type": "code",
      "metadata": {
        "id": "QVhysx3qK1qL",
        "colab_type": "code",
        "outputId": "0f0fd42d-8e7b-4c14-e147-a064c13b9f94",
        "colab": {
          "base_uri": "https://localhost:8080/",
          "height": 34
        }
      },
      "source": [
        "g.fit(a, [])"
      ],
      "execution_count": 0,
      "outputs": [
        {
          "output_type": "execute_result",
          "data": {
            "text/plain": [
              "GPSTransform(columns=[3])"
            ]
          },
          "metadata": {
            "tags": []
          },
          "execution_count": 95
        }
      ]
    },
    {
      "cell_type": "code",
      "metadata": {
        "id": "fCT37DO_LAnL",
        "colab_type": "code",
        "outputId": "10b94764-277c-481f-f836-0d219bdbc235",
        "colab": {
          "base_uri": "https://localhost:8080/",
          "height": 357
        }
      },
      "source": [
        "g.transform(a)"
      ],
      "execution_count": 0,
      "outputs": [
        {
          "output_type": "execute_result",
          "data": {
            "text/plain": [
              "array([[ 1.14687422e-01,  1.28612006e+00,  5.12538391e-01,\n",
              "         4.29422647e-01,  5.71937822e-02, -1.27458089e-01,\n",
              "         3.45403926e-01, -4.43867521e-01, -1.12557194e+00,\n",
              "         1.64744857e+00],\n",
              "       [-1.58167905e+00, -4.36220570e-01, -2.63574490e-01,\n",
              "        -1.90452812e+00, -9.73744860e-01, -1.03975481e+00,\n",
              "        -6.22144004e-01, -6.33823979e-01, -3.36714645e-01,\n",
              "         4.64907864e-01],\n",
              "       [ 5.02517928e-01, -1.34188009e+00,  1.54405106e+00,\n",
              "        -4.05900619e-01,  1.62186225e+00, -6.34833906e-01,\n",
              "         1.04675651e+00, -1.54140314e+00, -3.78278786e-01,\n",
              "        -1.55310724e+00],\n",
              "       [ 5.44461713e-01,  1.63559978e-01,  2.09018550e-01,\n",
              "        -3.31154053e-01,  4.47390737e-01, -7.19747749e-01,\n",
              "        -3.89679972e-01,  4.19046040e-04,  3.02722092e-01,\n",
              "         3.71481127e-01],\n",
              "       [ 2.37805765e+00,  2.93813183e-01,  8.90652319e-01,\n",
              "         5.95274483e-02, -9.78548017e-01,  1.12064251e+00,\n",
              "         1.52858830e+00,  3.55201549e-01, -4.76610404e-01,\n",
              "        -8.40895918e-01]])"
            ]
          },
          "metadata": {
            "tags": []
          },
          "execution_count": 96
        }
      ]
    },
    {
      "cell_type": "code",
      "metadata": {
        "id": "EFnoO-zELMtS",
        "colab_type": "code",
        "colab": {}
      },
      "source": [
        "gps_pipeline = Pipeline([\n",
        "    ('gps', GPSTransform()),\n",
        "    ('normalise', StandardScaler())\n",
        "])"
      ],
      "execution_count": 0,
      "outputs": []
    },
    {
      "cell_type": "code",
      "metadata": {
        "id": "a6kfVENaLo1A",
        "colab_type": "code",
        "outputId": "151a53c2-00f1-4050-ae3d-2834160fdc41",
        "colab": {
          "base_uri": "https://localhost:8080/",
          "height": 102
        }
      },
      "source": [
        "gps_pipeline.fit(a, [])"
      ],
      "execution_count": 0,
      "outputs": [
        {
          "output_type": "execute_result",
          "data": {
            "text/plain": [
              "Pipeline(memory=None,\n",
              "         steps=[('gps', GPSTransform(columns=[])),\n",
              "                ('normalise',\n",
              "                 StandardScaler(copy=True, with_mean=True, with_std=True))],\n",
              "         verbose=False)"
            ]
          },
          "metadata": {
            "tags": []
          },
          "execution_count": 98
        }
      ]
    },
    {
      "cell_type": "code",
      "metadata": {
        "id": "bOlzJ4ydLsr7",
        "colab_type": "code",
        "outputId": "ddfa3cf7-7280-4b3f-f47c-09695cc12d6e",
        "colab": {
          "base_uri": "https://localhost:8080/",
          "height": 187
        }
      },
      "source": [
        "gps_pipeline.transform(a)"
      ],
      "execution_count": 0,
      "outputs": [
        {
          "output_type": "execute_result",
          "data": {
            "text/plain": [
              "array([[-0.2195829 ,  1.49151073, -0.10764116,  1.08123486,  0.02298382,\n",
              "         0.20123999, -0.04436908,  0.01369871, -1.59181098,  1.46498947],\n",
              "       [-1.5647034 , -0.49519228, -1.37344781, -1.85329775, -1.03657476,\n",
              "        -1.00048673, -1.22435821, -0.28108707,  0.14576251,  0.40182338],\n",
              "       [ 0.08794426, -1.53986164,  1.57471154,  0.03096276,  1.63108913,\n",
              "        -0.46710296,  0.81097709, -1.68952267,  0.05421142, -1.412478  ],\n",
              "       [ 0.12120326,  0.1966487 , -0.60266893,  0.12494342,  0.42401306,\n",
              "        -0.57895608, -0.94085284,  0.70316917,  1.55421539,  0.31782784],\n",
              "       [ 1.57513879,  0.34689449,  0.50904636,  0.6161567 , -1.04151125,\n",
              "         1.84530579,  1.39860304,  1.25374186, -0.16237834, -0.77216268]])"
            ]
          },
          "metadata": {
            "tags": []
          },
          "execution_count": 99
        }
      ]
    },
    {
      "cell_type": "code",
      "metadata": {
        "id": "-nWH-K3-Lyb0",
        "colab_type": "code",
        "colab": {}
      },
      "source": [
        "gps_pipeline2 = Pipeline([\n",
        "    ('gps', GPSTransform()),\n",
        "    ('normalise', StandardScaler()),\n",
        "    ('decision', DecisionTreeClassifier())\n",
        "])"
      ],
      "execution_count": 0,
      "outputs": []
    },
    {
      "cell_type": "code",
      "metadata": {
        "id": "TULUMEtdMHRX",
        "colab_type": "code",
        "colab": {}
      },
      "source": [
        "clf = GridSearchCV(gps_pipeline2,\n",
        "                   {\n",
        "                       'gps__columns': [[3, 4], [3], [5, 2, 7]]\n",
        "                   }, verbose=5, cv=3)"
      ],
      "execution_count": 0,
      "outputs": []
    },
    {
      "cell_type": "code",
      "metadata": {
        "id": "pHATjmyMMXkv",
        "colab_type": "code",
        "outputId": "1d8683a1-c8dc-4f2c-cff4-a53bc0fd249a",
        "colab": {
          "base_uri": "https://localhost:8080/",
          "height": 972
        }
      },
      "source": [
        "clf.fit(a, np.random.choice(2, 5))"
      ],
      "execution_count": 0,
      "outputs": [
        {
          "output_type": "stream",
          "text": [
            "Fitting 3 folds for each of 3 candidates, totalling 9 fits\n",
            "[CV] gps__columns=[3, 4] .............................................\n",
            "[CV] ................. gps__columns=[3, 4], score=0.667, total=   0.0s\n",
            "[CV] gps__columns=[3, 4] .............................................\n",
            "[CV] ................. gps__columns=[3, 4], score=1.000, total=   0.0s\n",
            "[CV] gps__columns=[3, 4] .............................................\n",
            "[CV] ................. gps__columns=[3, 4], score=1.000, total=   0.0s\n",
            "[CV] gps__columns=[3] ................................................\n",
            "[CV] .................... gps__columns=[3], score=0.667, total=   0.0s\n",
            "[CV] gps__columns=[3] ................................................\n",
            "[CV] .................... gps__columns=[3], score=1.000, total=   0.0s\n",
            "[CV] gps__columns=[3] ................................................\n",
            "[CV] .................... gps__columns=[3], score=0.000, total=   0.0s\n",
            "[CV] gps__columns=[5, 2, 7] ..........................................\n",
            "[CV] .............. gps__columns=[5, 2, 7], score=0.667, total=   0.0s\n",
            "[CV] gps__columns=[5, 2, 7] ..........................................\n",
            "[CV] .............. gps__columns=[5, 2, 7], score=1.000, total=   0.0s\n",
            "[CV] gps__columns=[5, 2, 7] ..........................................\n",
            "[CV] .............. gps__columns=[5, 2, 7], score=1.000, total=   0.0s\n"
          ],
          "name": "stdout"
        },
        {
          "output_type": "stream",
          "text": [
            "/usr/local/lib/python3.6/dist-packages/sklearn/model_selection/_split.py:657: Warning: The least populated class in y has only 1 members, which is too few. The minimum number of members in any class cannot be less than n_splits=3.\n",
            "  % (min_groups, self.n_splits)), Warning)\n",
            "[Parallel(n_jobs=1)]: Using backend SequentialBackend with 1 concurrent workers.\n",
            "[Parallel(n_jobs=1)]: Done   1 out of   1 | elapsed:    0.0s remaining:    0.0s\n",
            "[Parallel(n_jobs=1)]: Done   2 out of   2 | elapsed:    0.0s remaining:    0.0s\n",
            "[Parallel(n_jobs=1)]: Done   3 out of   3 | elapsed:    0.0s remaining:    0.0s\n",
            "[Parallel(n_jobs=1)]: Done   4 out of   4 | elapsed:    0.0s remaining:    0.0s\n",
            "[Parallel(n_jobs=1)]: Done   9 out of   9 | elapsed:    0.0s finished\n",
            "/usr/local/lib/python3.6/dist-packages/sklearn/model_selection/_search.py:813: DeprecationWarning: The default of the `iid` parameter will change from True to False in version 0.22 and will be removed in 0.24. This will change numeric results when test-set sizes are unequal.\n",
            "  DeprecationWarning)\n"
          ],
          "name": "stderr"
        },
        {
          "output_type": "execute_result",
          "data": {
            "text/plain": [
              "GridSearchCV(cv=3, error_score='raise-deprecating',\n",
              "             estimator=Pipeline(memory=None,\n",
              "                                steps=[('gps', GPSTransform(columns=[])),\n",
              "                                       ('normalise',\n",
              "                                        StandardScaler(copy=True,\n",
              "                                                       with_mean=True,\n",
              "                                                       with_std=True)),\n",
              "                                       ('decision',\n",
              "                                        DecisionTreeClassifier(class_weight=None,\n",
              "                                                               criterion='gini',\n",
              "                                                               max_depth=None,\n",
              "                                                               max_features=None,\n",
              "                                                               max_leaf_nodes=None,\n",
              "                                                               min_impurity_decrease=0.0,\n",
              "                                                               min_impurity_split=None,\n",
              "                                                               min_samples_leaf=1,\n",
              "                                                               min_samples_split=2,\n",
              "                                                               min_weight_fraction_leaf=0.0,\n",
              "                                                               presort=False,\n",
              "                                                               random_state=None,\n",
              "                                                               splitter='best'))],\n",
              "                                verbose=False),\n",
              "             iid='warn', n_jobs=None,\n",
              "             param_grid={'gps__columns': [[3, 4], [3], [5, 2, 7]]},\n",
              "             pre_dispatch='2*n_jobs', refit=True, return_train_score=False,\n",
              "             scoring=None, verbose=5)"
            ]
          },
          "metadata": {
            "tags": []
          },
          "execution_count": 102
        }
      ]
    },
    {
      "cell_type": "code",
      "metadata": {
        "id": "aXnfXKcNMaOL",
        "colab_type": "code",
        "outputId": "2f64a447-828b-4022-e1f8-508ad1d5a429",
        "colab": {
          "base_uri": "https://localhost:8080/",
          "height": 272
        }
      },
      "source": [
        "clf.best_estimator_"
      ],
      "execution_count": 0,
      "outputs": [
        {
          "output_type": "execute_result",
          "data": {
            "text/plain": [
              "Pipeline(memory=None,\n",
              "         steps=[('gps', GPSTransform(columns=[3, 4])),\n",
              "                ('normalise',\n",
              "                 StandardScaler(copy=True, with_mean=True, with_std=True)),\n",
              "                ('decision',\n",
              "                 DecisionTreeClassifier(class_weight=None, criterion='gini',\n",
              "                                        max_depth=None, max_features=None,\n",
              "                                        max_leaf_nodes=None,\n",
              "                                        min_impurity_decrease=0.0,\n",
              "                                        min_impurity_split=None,\n",
              "                                        min_samples_leaf=1, min_samples_split=2,\n",
              "                                        min_weight_fraction_leaf=0.0,\n",
              "                                        presort=False, random_state=None,\n",
              "                                        splitter='best'))],\n",
              "         verbose=False)"
            ]
          },
          "metadata": {
            "tags": []
          },
          "execution_count": 103
        }
      ]
    },
    {
      "cell_type": "markdown",
      "metadata": {
        "id": "rBYnLUGkOEeL",
        "colab_type": "text"
      },
      "source": [
        "[Kaggle Competiton for Housing Prices](https://www.kaggle.com/c/house-prices-advanced-regression-techniques/data)\n",
        "\n",
        "1. Did you have everything from the dataset on your list?\n",
        "2. Did the dataset have everything you wanted?\n",
        "3. If there was something missing in the dataset, did the dataset provide enough information to calculate what you wanted?\n",
        "\n",
        "\n",
        "Play and plot as much information as possible from this dataset."
      ]
    },
    {
      "cell_type": "code",
      "metadata": {
        "id": "lPL3kW5BMt3D",
        "colab_type": "code",
        "colab": {}
      },
      "source": [
        ""
      ],
      "execution_count": 0,
      "outputs": []
    }
  ]
}