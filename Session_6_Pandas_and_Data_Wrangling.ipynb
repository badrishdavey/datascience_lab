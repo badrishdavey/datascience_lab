{
  "nbformat": 4,
  "nbformat_minor": 0,
  "metadata": {
    "colab": {
      "name": "Session 6 - Pandas and Data Wrangling.ipynb",
      "version": "0.3.2",
      "provenance": [],
      "collapsed_sections": [],
      "toc_visible": true,
      "include_colab_link": true
    },
    "kernelspec": {
      "name": "python3",
      "display_name": "Python 3"
    }
  },
  "cells": [
    {
      "cell_type": "markdown",
      "metadata": {
        "id": "view-in-github",
        "colab_type": "text"
      },
      "source": [
        "<a href=\"https://colab.research.google.com/github/badrishdavey/datascience_lab/blob/master/Session_6_Pandas_and_Data_Wrangling.ipynb\" target=\"_parent\"><img src=\"https://colab.research.google.com/assets/colab-badge.svg\" alt=\"Open In Colab\"/></a>"
      ]
    },
    {
      "cell_type": "markdown",
      "metadata": {
        "id": "wHOT0yUhAume",
        "colab_type": "text"
      },
      "source": [
        "# Discussion on Matrix Multiplication + Inverse as a Machine Learning Tool"
      ]
    },
    {
      "cell_type": "code",
      "metadata": {
        "id": "rW5iWceHAtRu",
        "colab_type": "code",
        "colab": {}
      },
      "source": [
        "import numpy as np"
      ],
      "execution_count": 0,
      "outputs": []
    },
    {
      "cell_type": "code",
      "metadata": {
        "id": "iCWP4w19AtNp",
        "colab_type": "code",
        "colab": {}
      },
      "source": [
        "X = np.random.randn(4, 4)\n",
        "X_future = np.random.randn(5, 4)"
      ],
      "execution_count": 0,
      "outputs": []
    },
    {
      "cell_type": "code",
      "metadata": {
        "id": "jQ4jXGlKAtAO",
        "colab_type": "code",
        "outputId": "46a16fa0-caf8-4c26-97e2-d54e898d1ff9",
        "colab": {
          "base_uri": "https://localhost:8080/",
          "height": 85
        }
      },
      "source": [
        "X"
      ],
      "execution_count": 0,
      "outputs": [
        {
          "output_type": "execute_result",
          "data": {
            "text/plain": [
              "array([[ 0.07691159,  0.35409567, -0.91882971, -0.76344449],\n",
              "       [-0.50316168,  0.66068731, -0.89597289,  0.38624099],\n",
              "       [-0.20891896,  0.40601186, -1.58239536,  0.67318069],\n",
              "       [ 1.88786298,  0.33273199,  2.99857897, -0.06873962]])"
            ]
          },
          "metadata": {
            "tags": []
          },
          "execution_count": 3
        }
      ]
    },
    {
      "cell_type": "code",
      "metadata": {
        "id": "7t7z0VMYAs7_",
        "colab_type": "code",
        "outputId": "04075ba1-9af3-427d-d3a7-ef59f577aad9",
        "colab": {
          "base_uri": "https://localhost:8080/",
          "height": 187
        }
      },
      "source": [
        "X_future"
      ],
      "execution_count": 0,
      "outputs": [
        {
          "output_type": "execute_result",
          "data": {
            "text/plain": [
              "array([[ 1.26468482e-01, -8.58945738e-01,  1.18204288e+00,\n",
              "        -6.42211694e-01],\n",
              "       [-8.77198622e-01, -1.07871469e-01, -7.83311719e-01,\n",
              "         1.54525492e+00],\n",
              "       [ 7.91620111e-01, -1.77939692e-01,  5.12771770e-01,\n",
              "         1.35073926e-01],\n",
              "       [ 1.42972852e-01, -3.89283299e-01, -9.29564601e-01,\n",
              "         6.13223545e-05],\n",
              "       [ 6.57168860e-01,  1.45225514e+00, -1.46564460e-01,\n",
              "        -1.85611955e+00]])"
            ]
          },
          "metadata": {
            "tags": []
          },
          "execution_count": 4
        }
      ]
    },
    {
      "cell_type": "code",
      "metadata": {
        "id": "2RUX77eZAs4B",
        "colab_type": "code",
        "colab": {}
      },
      "source": [
        "def get_y(x):\n",
        "  return(0.3*x[0] + 0.8*x[1] - 5*x[2] + 5*x[3])\n",
        "\n",
        "Y = np.array([get_y(x) for x in X])\n",
        "Y_future = np.array([get_y(x) for x in X_future])"
      ],
      "execution_count": 0,
      "outputs": []
    },
    {
      "cell_type": "code",
      "metadata": {
        "id": "cAW9s8tNAsz0",
        "colab_type": "code",
        "outputId": "c8e6d96e-b0be-496a-f85e-2939b01bbc98",
        "colab": {
          "base_uri": "https://localhost:8080/",
          "height": 34
        }
      },
      "source": [
        "Y"
      ],
      "execution_count": 0,
      "outputs": [
        {
          "output_type": "execute_result",
          "data": {
            "text/plain": [
              "array([  1.08327609,   6.78867075,  11.54001408, -14.50404846])"
            ]
          },
          "metadata": {
            "tags": []
          },
          "execution_count": 6
        }
      ]
    },
    {
      "cell_type": "code",
      "metadata": {
        "id": "UaurF5JmAsvZ",
        "colab_type": "code",
        "outputId": "79d6e783-385d-4a37-8393-3ec328079b95",
        "colab": {
          "base_uri": "https://localhost:8080/",
          "height": 34
        }
      },
      "source": [
        "Y_future"
      ],
      "execution_count": 0,
      "outputs": [
        {
          "output_type": "execute_result",
          "data": {
            "text/plain": [
              "array([-9.77048894, 11.29337645, -1.79335494,  4.37959483, -7.18882067])"
            ]
          },
          "metadata": {
            "tags": []
          },
          "execution_count": 7
        }
      ]
    },
    {
      "cell_type": "markdown",
      "metadata": {
        "id": "AhoSbEuuCMx8",
        "colab_type": "text"
      },
      "source": [
        "$$ Y =X \\bullet \\beta $$\n",
        "\n",
        "$$ Y_{future} = X_{future} \\bullet \\beta $$\n",
        "\n",
        "$ X^{-1} \\bullet Y = X^{-1} \\bullet X  \\bullet \\beta $\n",
        "\n",
        "$ X^{-1} \\bullet Y = I  \\bullet \\beta $\n",
        "\n",
        "$ X^{-1} \\bullet Y = \\beta $\n",
        "\n",
        "$$ Y_{future} = X_{future} \\bullet X^{-1} \\bullet Y $$\n"
      ]
    },
    {
      "cell_type": "code",
      "metadata": {
        "id": "dOmmwhjAAsqU",
        "colab_type": "code",
        "outputId": "6bbb920d-a84e-40e7-d629-c763ea850dc0",
        "colab": {
          "base_uri": "https://localhost:8080/",
          "height": 34
        }
      },
      "source": [
        "beta = np.linalg.inv(X).dot(Y)\n",
        "X_future.dot(beta)"
      ],
      "execution_count": 0,
      "outputs": [
        {
          "output_type": "execute_result",
          "data": {
            "text/plain": [
              "array([-9.77048894, 11.29337645, -1.79335494,  4.37959483, -7.18882067])"
            ]
          },
          "metadata": {
            "tags": []
          },
          "execution_count": 8
        }
      ]
    },
    {
      "cell_type": "code",
      "metadata": {
        "id": "bU6sbxQ-Asko",
        "colab_type": "code",
        "outputId": "ff02a9cc-8403-409b-cc46-f1114b4137b8",
        "colab": {
          "base_uri": "https://localhost:8080/",
          "height": 34
        }
      },
      "source": [
        "beta"
      ],
      "execution_count": 0,
      "outputs": [
        {
          "output_type": "execute_result",
          "data": {
            "text/plain": [
              "array([ 0.3,  0.8, -5. ,  5. ])"
            ]
          },
          "metadata": {
            "tags": []
          },
          "execution_count": 9
        }
      ]
    },
    {
      "cell_type": "code",
      "metadata": {
        "id": "RfgC5ckUEvPQ",
        "colab_type": "code",
        "outputId": "0112a52b-d0a9-4a95-9438-3366b0f96637",
        "colab": {
          "base_uri": "https://localhost:8080/",
          "height": 306
        }
      },
      "source": [
        "np.linalg.inv(X_future)"
      ],
      "execution_count": 0,
      "outputs": [
        {
          "output_type": "error",
          "ename": "LinAlgError",
          "evalue": "ignored",
          "traceback": [
            "\u001b[0;31m---------------------------------------------------------------------------\u001b[0m",
            "\u001b[0;31mLinAlgError\u001b[0m                               Traceback (most recent call last)",
            "\u001b[0;32m<ipython-input-10-9df5ef53e9c0>\u001b[0m in \u001b[0;36m<module>\u001b[0;34m()\u001b[0m\n\u001b[0;32m----> 1\u001b[0;31m \u001b[0mnp\u001b[0m\u001b[0;34m.\u001b[0m\u001b[0mlinalg\u001b[0m\u001b[0;34m.\u001b[0m\u001b[0minv\u001b[0m\u001b[0;34m(\u001b[0m\u001b[0mX_future\u001b[0m\u001b[0;34m)\u001b[0m\u001b[0;34m\u001b[0m\u001b[0;34m\u001b[0m\u001b[0m\n\u001b[0m",
            "\u001b[0;32m/usr/local/lib/python3.6/dist-packages/numpy/linalg/linalg.py\u001b[0m in \u001b[0;36minv\u001b[0;34m(a)\u001b[0m\n\u001b[1;32m    544\u001b[0m     \u001b[0ma\u001b[0m\u001b[0;34m,\u001b[0m \u001b[0mwrap\u001b[0m \u001b[0;34m=\u001b[0m \u001b[0m_makearray\u001b[0m\u001b[0;34m(\u001b[0m\u001b[0ma\u001b[0m\u001b[0;34m)\u001b[0m\u001b[0;34m\u001b[0m\u001b[0;34m\u001b[0m\u001b[0m\n\u001b[1;32m    545\u001b[0m     \u001b[0m_assertRankAtLeast2\u001b[0m\u001b[0;34m(\u001b[0m\u001b[0ma\u001b[0m\u001b[0;34m)\u001b[0m\u001b[0;34m\u001b[0m\u001b[0;34m\u001b[0m\u001b[0m\n\u001b[0;32m--> 546\u001b[0;31m     \u001b[0m_assertNdSquareness\u001b[0m\u001b[0;34m(\u001b[0m\u001b[0ma\u001b[0m\u001b[0;34m)\u001b[0m\u001b[0;34m\u001b[0m\u001b[0;34m\u001b[0m\u001b[0m\n\u001b[0m\u001b[1;32m    547\u001b[0m     \u001b[0mt\u001b[0m\u001b[0;34m,\u001b[0m \u001b[0mresult_t\u001b[0m \u001b[0;34m=\u001b[0m \u001b[0m_commonType\u001b[0m\u001b[0;34m(\u001b[0m\u001b[0ma\u001b[0m\u001b[0;34m)\u001b[0m\u001b[0;34m\u001b[0m\u001b[0;34m\u001b[0m\u001b[0m\n\u001b[1;32m    548\u001b[0m \u001b[0;34m\u001b[0m\u001b[0m\n",
            "\u001b[0;32m/usr/local/lib/python3.6/dist-packages/numpy/linalg/linalg.py\u001b[0m in \u001b[0;36m_assertNdSquareness\u001b[0;34m(*arrays)\u001b[0m\n\u001b[1;32m    211\u001b[0m         \u001b[0mm\u001b[0m\u001b[0;34m,\u001b[0m \u001b[0mn\u001b[0m \u001b[0;34m=\u001b[0m \u001b[0ma\u001b[0m\u001b[0;34m.\u001b[0m\u001b[0mshape\u001b[0m\u001b[0;34m[\u001b[0m\u001b[0;34m-\u001b[0m\u001b[0;36m2\u001b[0m\u001b[0;34m:\u001b[0m\u001b[0;34m]\u001b[0m\u001b[0;34m\u001b[0m\u001b[0;34m\u001b[0m\u001b[0m\n\u001b[1;32m    212\u001b[0m         \u001b[0;32mif\u001b[0m \u001b[0mm\u001b[0m \u001b[0;34m!=\u001b[0m \u001b[0mn\u001b[0m\u001b[0;34m:\u001b[0m\u001b[0;34m\u001b[0m\u001b[0;34m\u001b[0m\u001b[0m\n\u001b[0;32m--> 213\u001b[0;31m             \u001b[0;32mraise\u001b[0m \u001b[0mLinAlgError\u001b[0m\u001b[0;34m(\u001b[0m\u001b[0;34m'Last 2 dimensions of the array must be square'\u001b[0m\u001b[0;34m)\u001b[0m\u001b[0;34m\u001b[0m\u001b[0;34m\u001b[0m\u001b[0m\n\u001b[0m\u001b[1;32m    214\u001b[0m \u001b[0;34m\u001b[0m\u001b[0m\n\u001b[1;32m    215\u001b[0m \u001b[0;32mdef\u001b[0m \u001b[0m_assertFinite\u001b[0m\u001b[0;34m(\u001b[0m\u001b[0;34m*\u001b[0m\u001b[0marrays\u001b[0m\u001b[0;34m)\u001b[0m\u001b[0;34m:\u001b[0m\u001b[0;34m\u001b[0m\u001b[0;34m\u001b[0m\u001b[0m\n",
            "\u001b[0;31mLinAlgError\u001b[0m: Last 2 dimensions of the array must be square"
          ]
        }
      ]
    },
    {
      "cell_type": "code",
      "metadata": {
        "id": "0xu3Rx2rF8HB",
        "colab_type": "code",
        "colab": {}
      },
      "source": [
        "X = np.random.randn(5, 4)"
      ],
      "execution_count": 0,
      "outputs": []
    },
    {
      "cell_type": "code",
      "metadata": {
        "id": "RiGUT8GoEvKS",
        "colab_type": "code",
        "colab": {}
      },
      "source": [
        "def get_y(x):\n",
        "  return(3*x[0] + 8*x[1] + 41*x[2] - 0.2 * x[3] + 100)"
      ],
      "execution_count": 0,
      "outputs": []
    },
    {
      "cell_type": "code",
      "metadata": {
        "id": "eLOYJhP4EvE2",
        "colab_type": "code",
        "colab": {}
      },
      "source": [
        "Y = np.array([get_y(x) for x in X])\n",
        "Y_future = np.array([get_y(x) for x in X_future])"
      ],
      "execution_count": 0,
      "outputs": []
    },
    {
      "cell_type": "code",
      "metadata": {
        "id": "8Yb-b9HSFvO5",
        "colab_type": "code",
        "outputId": "4ec0a496-39f9-4fb1-c80d-58cabe653d69",
        "colab": {
          "base_uri": "https://localhost:8080/",
          "height": 85
        }
      },
      "source": [
        "Y, Y_future"
      ],
      "execution_count": 0,
      "outputs": [
        {
          "output_type": "execute_result",
          "data": {
            "text/plain": [
              "(array([ 99.78123163,  98.97279814, 115.71985874,  98.46983525,\n",
              "        118.24417921]),\n",
              " array([142.10004016,  64.08060091, 121.94797057,  59.20249127,\n",
              "        107.95162871]))"
            ]
          },
          "metadata": {
            "tags": []
          },
          "execution_count": 14
        }
      ]
    },
    {
      "cell_type": "code",
      "metadata": {
        "id": "GX9ioDZNEu_d",
        "colab_type": "code",
        "outputId": "af0be440-9e0f-440d-ace9-669d47aafd99",
        "colab": {
          "base_uri": "https://localhost:8080/",
          "height": 51
        }
      },
      "source": [
        "beta = np.linalg.inv(X[:4]).dot(Y[:4])\n",
        "X_future.dot(beta)"
      ],
      "execution_count": 0,
      "outputs": [
        {
          "output_type": "execute_result",
          "data": {
            "text/plain": [
              "array([1469.9310269 , -864.59801187,  803.43678057, -949.02932138,\n",
              "       -554.2693179 ])"
            ]
          },
          "metadata": {
            "tags": []
          },
          "execution_count": 15
        }
      ]
    },
    {
      "cell_type": "code",
      "metadata": {
        "id": "dVqc_o3BEu6V",
        "colab_type": "code",
        "outputId": "645fc530-53b1-4918-d08c-9ed605719f68",
        "colab": {
          "base_uri": "https://localhost:8080/",
          "height": 187
        }
      },
      "source": [
        "np.hstack([X, np.ones((len(X), 1))])"
      ],
      "execution_count": 0,
      "outputs": [
        {
          "output_type": "execute_result",
          "data": {
            "text/plain": [
              "array([[ 4.08467306e-01, -1.87701953e-01,  4.10300453e-04,\n",
              "        -2.03115091e-01,  1.00000000e+00],\n",
              "       [ 1.88539411e+00, -1.59160724e-01, -1.38772359e-01,\n",
              "        -1.39784160e+00,  1.00000000e+00],\n",
              "       [ 3.51866521e-01,  9.77388216e-01,  1.68920927e-01,\n",
              "         4.03022790e-01,  1.00000000e+00],\n",
              "       [ 1.10189989e+00,  1.23505529e-01, -1.39995051e-01,\n",
              "         4.20557812e-01,  1.00000000e+00],\n",
              "       [ 1.70811731e-01,  1.83629317e-01,  4.01355832e-01,\n",
              "         9.64398131e-01,  1.00000000e+00]])"
            ]
          },
          "metadata": {
            "tags": []
          },
          "execution_count": 16
        }
      ]
    },
    {
      "cell_type": "code",
      "metadata": {
        "id": "1tKBgBTrEu1L",
        "colab_type": "code",
        "outputId": "2791d4b0-9308-4c2b-86fe-157a0db03c33",
        "colab": {
          "base_uri": "https://localhost:8080/",
          "height": 51
        }
      },
      "source": [
        "beta = np.linalg.inv(np.hstack([X, np.ones((len(X), 1))])).dot(Y)\n",
        "np.hstack([X_future, np.ones((len(X_future), 1))]).dot(beta)"
      ],
      "execution_count": 0,
      "outputs": [
        {
          "output_type": "execute_result",
          "data": {
            "text/plain": [
              "array([142.10004016,  64.08060091, 121.94797057,  59.20249127,\n",
              "       107.95162871])"
            ]
          },
          "metadata": {
            "tags": []
          },
          "execution_count": 17
        }
      ]
    },
    {
      "cell_type": "code",
      "metadata": {
        "id": "ggP9VMK4Euvi",
        "colab_type": "code",
        "outputId": "c8f5f5b2-1553-49e9-ffdf-0758b67392cb",
        "colab": {
          "base_uri": "https://localhost:8080/",
          "height": 34
        }
      },
      "source": [
        "beta"
      ],
      "execution_count": 0,
      "outputs": [
        {
          "output_type": "execute_result",
          "data": {
            "text/plain": [
              "array([  3. ,   8. ,  41. ,  -0.2, 100. ])"
            ]
          },
          "metadata": {
            "tags": []
          },
          "execution_count": 18
        }
      ]
    },
    {
      "cell_type": "code",
      "metadata": {
        "id": "itwvg7UBEuqm",
        "colab_type": "code",
        "colab": {}
      },
      "source": [
        "def get_y(x):\n",
        "  return(3*x[0] + 8*x[1] + 41*x[2] - 0.2 * x[3] + x[2]*x[2])"
      ],
      "execution_count": 0,
      "outputs": []
    },
    {
      "cell_type": "code",
      "metadata": {
        "id": "DXTX0fByEulX",
        "colab_type": "code",
        "colab": {}
      },
      "source": [
        "Y = np.array([get_y(x) for x in X])\n",
        "Y_future = np.array([get_y(x) for x in X_future])"
      ],
      "execution_count": 0,
      "outputs": []
    },
    {
      "cell_type": "code",
      "metadata": {
        "id": "R-K-0z5aEugR",
        "colab_type": "code",
        "outputId": "69b0fd74-35b1-45ec-a163-88abd865cd32",
        "colab": {
          "base_uri": "https://localhost:8080/",
          "height": 68
        }
      },
      "source": [
        "Y, Y_future"
      ],
      "execution_count": 0,
      "outputs": [
        {
          "output_type": "execute_result",
          "data": {
            "text/plain": [
              "(array([-0.2187682 , -1.00794409, 15.74839302, -1.51056613, 18.40526572]),\n",
              " array([ 43.49726554, -35.30582184,  22.21090545, -39.93341838,\n",
              "          7.97310985]))"
            ]
          },
          "metadata": {
            "tags": []
          },
          "execution_count": 21
        }
      ]
    },
    {
      "cell_type": "code",
      "metadata": {
        "id": "EhmIsS6_H-ps",
        "colab_type": "code",
        "outputId": "fc99fc04-7e5f-4a4f-faf5-92b6d170c7df",
        "colab": {
          "base_uri": "https://localhost:8080/",
          "height": 51
        }
      },
      "source": [
        "X[:, 2] * X[:, 2]"
      ],
      "execution_count": 0,
      "outputs": [
        {
          "output_type": "execute_result",
          "data": {
            "text/plain": [
              "array([1.68346462e-07, 1.92577676e-02, 2.85342795e-02, 1.95986143e-02,\n",
              "       1.61086504e-01])"
            ]
          },
          "metadata": {
            "tags": []
          },
          "execution_count": 22
        }
      ]
    },
    {
      "cell_type": "code",
      "metadata": {
        "id": "L8Kn-M6AH1PM",
        "colab_type": "code",
        "outputId": "c0fe316e-6dc7-41c5-ebb6-358e3164cc75",
        "colab": {
          "base_uri": "https://localhost:8080/",
          "height": 187
        }
      },
      "source": [
        "np.hstack([X, np.array(X[:,2] * X[:, 2], ndmin=2).T])"
      ],
      "execution_count": 0,
      "outputs": [
        {
          "output_type": "execute_result",
          "data": {
            "text/plain": [
              "array([[ 4.08467306e-01, -1.87701953e-01,  4.10300453e-04,\n",
              "        -2.03115091e-01,  1.68346462e-07],\n",
              "       [ 1.88539411e+00, -1.59160724e-01, -1.38772359e-01,\n",
              "        -1.39784160e+00,  1.92577676e-02],\n",
              "       [ 3.51866521e-01,  9.77388216e-01,  1.68920927e-01,\n",
              "         4.03022790e-01,  2.85342795e-02],\n",
              "       [ 1.10189989e+00,  1.23505529e-01, -1.39995051e-01,\n",
              "         4.20557812e-01,  1.95986143e-02],\n",
              "       [ 1.70811731e-01,  1.83629317e-01,  4.01355832e-01,\n",
              "         9.64398131e-01,  1.61086504e-01]])"
            ]
          },
          "metadata": {
            "tags": []
          },
          "execution_count": 23
        }
      ]
    },
    {
      "cell_type": "code",
      "metadata": {
        "id": "wOYWvggyEubK",
        "colab_type": "code",
        "outputId": "27c7b8e9-facd-446e-d90b-fc282b9c7f42",
        "colab": {
          "base_uri": "https://localhost:8080/",
          "height": 51
        }
      },
      "source": [
        "beta = np.linalg.inv(np.hstack([X, np.array(X[:,2] * X[:, 2], ndmin=2).T])).dot(Y)\n",
        "np.hstack([X_future, np.array(X_future[:,2] * X_future[:, 2], ndmin=2).T]).dot(beta)"
      ],
      "execution_count": 0,
      "outputs": [
        {
          "output_type": "execute_result",
          "data": {
            "text/plain": [
              "array([ 43.49726554, -35.30582184,  22.21090545, -39.93341838,\n",
              "         7.97310985])"
            ]
          },
          "metadata": {
            "tags": []
          },
          "execution_count": 24
        }
      ]
    },
    {
      "cell_type": "code",
      "metadata": {
        "id": "N-Y2WvDyEuVt",
        "colab_type": "code",
        "outputId": "0386301e-943f-401e-e08f-7d4b1e033f2d",
        "colab": {
          "base_uri": "https://localhost:8080/",
          "height": 102
        }
      },
      "source": [
        "X = np.random.randint(20, 40, (5, 4))\n",
        "X"
      ],
      "execution_count": 0,
      "outputs": [
        {
          "output_type": "execute_result",
          "data": {
            "text/plain": [
              "array([[26, 34, 30, 34],\n",
              "       [34, 24, 29, 23],\n",
              "       [30, 21, 31, 34],\n",
              "       [24, 34, 36, 24],\n",
              "       [32, 26, 32, 20]])"
            ]
          },
          "metadata": {
            "tags": []
          },
          "execution_count": 25
        }
      ]
    },
    {
      "cell_type": "code",
      "metadata": {
        "id": "9G4EIcVHEuOw",
        "colab_type": "code",
        "outputId": "1cb87bdf-9678-4b7b-cb71-81feede2a989",
        "colab": {
          "base_uri": "https://localhost:8080/",
          "height": 102
        }
      },
      "source": [
        "X2 = np.random.randint(-10, 10, (5, 3))\n",
        "X2"
      ],
      "execution_count": 0,
      "outputs": [
        {
          "output_type": "execute_result",
          "data": {
            "text/plain": [
              "array([[ 8,  3, -2],\n",
              "       [-5,  8, -3],\n",
              "       [-7,  5,  6],\n",
              "       [-3, -2, -5],\n",
              "       [ 8,  3,  2]])"
            ]
          },
          "metadata": {
            "tags": []
          },
          "execution_count": 26
        }
      ]
    },
    {
      "cell_type": "code",
      "metadata": {
        "id": "nJodHs63AsYg",
        "colab_type": "code",
        "outputId": "a23ca282-04ba-42d8-e347-df9f194a9ed5",
        "colab": {
          "base_uri": "https://localhost:8080/",
          "height": 102
        }
      },
      "source": [
        "np.hstack([X, X2])"
      ],
      "execution_count": 0,
      "outputs": [
        {
          "output_type": "execute_result",
          "data": {
            "text/plain": [
              "array([[26, 34, 30, 34,  8,  3, -2],\n",
              "       [34, 24, 29, 23, -5,  8, -3],\n",
              "       [30, 21, 31, 34, -7,  5,  6],\n",
              "       [24, 34, 36, 24, -3, -2, -5],\n",
              "       [32, 26, 32, 20,  8,  3,  2]])"
            ]
          },
          "metadata": {
            "tags": []
          },
          "execution_count": 27
        }
      ]
    },
    {
      "cell_type": "code",
      "metadata": {
        "id": "ptLw81QFJ9YP",
        "colab_type": "code",
        "outputId": "3fc863e5-ec99-4580-9430-1276d84ccb7b",
        "colab": {
          "base_uri": "https://localhost:8080/",
          "height": 136
        }
      },
      "source": [
        "np.vstack([X, np.random.randint(-10, 10, (2, 4))])"
      ],
      "execution_count": 0,
      "outputs": [
        {
          "output_type": "execute_result",
          "data": {
            "text/plain": [
              "array([[26, 34, 30, 34],\n",
              "       [34, 24, 29, 23],\n",
              "       [30, 21, 31, 34],\n",
              "       [24, 34, 36, 24],\n",
              "       [32, 26, 32, 20],\n",
              "       [-7, -2, -1,  5],\n",
              "       [-2, -7,  2, -4]])"
            ]
          },
          "metadata": {
            "tags": []
          },
          "execution_count": 28
        }
      ]
    },
    {
      "cell_type": "markdown",
      "metadata": {
        "id": "Faicv0oHWqby",
        "colab_type": "text"
      },
      "source": [
        "# Data Wrangling"
      ]
    },
    {
      "cell_type": "code",
      "metadata": {
        "id": "p-ApWn8cuJbd",
        "colab_type": "code",
        "colab": {}
      },
      "source": [
        "import numpy as np\n",
        "import pandas as pd\n",
        "import matplotlib.pyplot as plt\n",
        "import seaborn as sns\n",
        "%matplotlib inline"
      ],
      "execution_count": 0,
      "outputs": []
    },
    {
      "cell_type": "markdown",
      "metadata": {
        "id": "ADTNvfuD9cpf",
        "colab_type": "text"
      },
      "source": [
        "## Exerpts from 10 minutes to Pandas"
      ]
    },
    {
      "cell_type": "code",
      "metadata": {
        "id": "xtVyphTeMFrl",
        "colab_type": "code",
        "outputId": "461e8abb-5a88-4ee5-caf8-50867dd94993",
        "colab": {
          "base_uri": "https://localhost:8080/",
          "height": 34
        }
      },
      "source": [
        "list('ANDHFY')"
      ],
      "execution_count": 0,
      "outputs": [
        {
          "output_type": "execute_result",
          "data": {
            "text/plain": [
              "['A', 'N', 'D', 'H', 'F', 'Y']"
            ]
          },
          "metadata": {
            "tags": []
          },
          "execution_count": 30
        }
      ]
    },
    {
      "cell_type": "code",
      "metadata": {
        "id": "E9htoPleMN-c",
        "colab_type": "code",
        "colab": {}
      },
      "source": [
        "s = pd.Series([1,3,5,np.nan,6,8]) "
      ],
      "execution_count": 0,
      "outputs": []
    },
    {
      "cell_type": "code",
      "metadata": {
        "id": "a6Hsb0-dMOu4",
        "colab_type": "code",
        "outputId": "93413487-dd77-410e-ff87-ba92ba60efb8",
        "colab": {
          "base_uri": "https://localhost:8080/",
          "height": 136
        }
      },
      "source": [
        "s"
      ],
      "execution_count": 0,
      "outputs": [
        {
          "output_type": "execute_result",
          "data": {
            "text/plain": [
              "0    1.0\n",
              "1    3.0\n",
              "2    5.0\n",
              "3    NaN\n",
              "4    6.0\n",
              "5    8.0\n",
              "dtype: float64"
            ]
          },
          "metadata": {
            "tags": []
          },
          "execution_count": 32
        }
      ]
    },
    {
      "cell_type": "code",
      "metadata": {
        "id": "Sa20x8nSMR3K",
        "colab_type": "code",
        "colab": {}
      },
      "source": [
        ""
      ],
      "execution_count": 0,
      "outputs": []
    },
    {
      "cell_type": "code",
      "metadata": {
        "id": "AFNNfKGA9glD",
        "colab_type": "code",
        "colab": {}
      },
      "source": [
        "s = pd.Series([1,3,5,np.nan,6,8], index=list('ABCEDF'))  # NaN is Not-a-Number -> Missing value or corrupt value\n",
        "## If you have np.nan or np.inf -> datatype will be np.float"
      ],
      "execution_count": 0,
      "outputs": []
    },
    {
      "cell_type": "code",
      "metadata": {
        "id": "cb87R0lzeq1o",
        "colab_type": "code",
        "outputId": "34aaf0ed-69d7-4686-ad9f-75b5ac54b6d7",
        "colab": {
          "base_uri": "https://localhost:8080/",
          "height": 136
        }
      },
      "source": [
        "s"
      ],
      "execution_count": 0,
      "outputs": [
        {
          "output_type": "execute_result",
          "data": {
            "text/plain": [
              "A    1.0\n",
              "B    3.0\n",
              "C    5.0\n",
              "E    NaN\n",
              "D    6.0\n",
              "F    8.0\n",
              "dtype: float64"
            ]
          },
          "metadata": {
            "tags": []
          },
          "execution_count": 34
        }
      ]
    },
    {
      "cell_type": "code",
      "metadata": {
        "id": "6LaMD75tMLiU",
        "colab_type": "code",
        "colab": {}
      },
      "source": [
        ""
      ],
      "execution_count": 0,
      "outputs": []
    },
    {
      "cell_type": "code",
      "metadata": {
        "id": "h7_Wk3_a-egv",
        "colab_type": "code",
        "outputId": "c9f47429-3411-47b7-8a98-369725eb6448",
        "colab": {
          "base_uri": "https://localhost:8080/",
          "height": 34
        }
      },
      "source": [
        "dates = pd.date_range('20130101', '20130218', freq='SM')\n",
        "dates"
      ],
      "execution_count": 0,
      "outputs": [
        {
          "output_type": "execute_result",
          "data": {
            "text/plain": [
              "DatetimeIndex(['2013-01-15', '2013-01-31', '2013-02-15'], dtype='datetime64[ns]', freq='SM-15')"
            ]
          },
          "metadata": {
            "tags": []
          },
          "execution_count": 35
        }
      ]
    },
    {
      "cell_type": "code",
      "metadata": {
        "id": "YclgySfjNFHQ",
        "colab_type": "code",
        "outputId": "babd553a-a8a3-46f6-e788-afe2a1d48eb3",
        "colab": {
          "base_uri": "https://localhost:8080/",
          "height": 34
        }
      },
      "source": [
        "dates = pd.date_range('20130101', '20130218', freq='MS')\n",
        "dates"
      ],
      "execution_count": 0,
      "outputs": [
        {
          "output_type": "execute_result",
          "data": {
            "text/plain": [
              "DatetimeIndex(['2013-01-01', '2013-02-01'], dtype='datetime64[ns]', freq='MS')"
            ]
          },
          "metadata": {
            "tags": []
          },
          "execution_count": 36
        }
      ]
    },
    {
      "cell_type": "code",
      "metadata": {
        "id": "XGkeaB9-NJdo",
        "colab_type": "code",
        "outputId": "5774b8d7-c509-410c-e2fe-ef6e84f87773",
        "colab": {
          "base_uri": "https://localhost:8080/",
          "height": 34
        }
      },
      "source": [
        "dates = pd.date_range('20130101', '20130218', freq='M')\n",
        "dates"
      ],
      "execution_count": 0,
      "outputs": [
        {
          "output_type": "execute_result",
          "data": {
            "text/plain": [
              "DatetimeIndex(['2013-01-31'], dtype='datetime64[ns]', freq='M')"
            ]
          },
          "metadata": {
            "tags": []
          },
          "execution_count": 37
        }
      ]
    },
    {
      "cell_type": "code",
      "metadata": {
        "id": "VF8zmPlVNJYJ",
        "colab_type": "code",
        "outputId": "598cfe74-38bf-4e9a-c35f-985f3b6fc5f6",
        "colab": {
          "base_uri": "https://localhost:8080/",
          "height": 595
        }
      },
      "source": [
        "dates = pd.date_range('20130101', '20130218', freq='18H')\n",
        "dates"
      ],
      "execution_count": 0,
      "outputs": [
        {
          "output_type": "execute_result",
          "data": {
            "text/plain": [
              "DatetimeIndex(['2013-01-01 00:00:00', '2013-01-01 18:00:00',\n",
              "               '2013-01-02 12:00:00', '2013-01-03 06:00:00',\n",
              "               '2013-01-04 00:00:00', '2013-01-04 18:00:00',\n",
              "               '2013-01-05 12:00:00', '2013-01-06 06:00:00',\n",
              "               '2013-01-07 00:00:00', '2013-01-07 18:00:00',\n",
              "               '2013-01-08 12:00:00', '2013-01-09 06:00:00',\n",
              "               '2013-01-10 00:00:00', '2013-01-10 18:00:00',\n",
              "               '2013-01-11 12:00:00', '2013-01-12 06:00:00',\n",
              "               '2013-01-13 00:00:00', '2013-01-13 18:00:00',\n",
              "               '2013-01-14 12:00:00', '2013-01-15 06:00:00',\n",
              "               '2013-01-16 00:00:00', '2013-01-16 18:00:00',\n",
              "               '2013-01-17 12:00:00', '2013-01-18 06:00:00',\n",
              "               '2013-01-19 00:00:00', '2013-01-19 18:00:00',\n",
              "               '2013-01-20 12:00:00', '2013-01-21 06:00:00',\n",
              "               '2013-01-22 00:00:00', '2013-01-22 18:00:00',\n",
              "               '2013-01-23 12:00:00', '2013-01-24 06:00:00',\n",
              "               '2013-01-25 00:00:00', '2013-01-25 18:00:00',\n",
              "               '2013-01-26 12:00:00', '2013-01-27 06:00:00',\n",
              "               '2013-01-28 00:00:00', '2013-01-28 18:00:00',\n",
              "               '2013-01-29 12:00:00', '2013-01-30 06:00:00',\n",
              "               '2013-01-31 00:00:00', '2013-01-31 18:00:00',\n",
              "               '2013-02-01 12:00:00', '2013-02-02 06:00:00',\n",
              "               '2013-02-03 00:00:00', '2013-02-03 18:00:00',\n",
              "               '2013-02-04 12:00:00', '2013-02-05 06:00:00',\n",
              "               '2013-02-06 00:00:00', '2013-02-06 18:00:00',\n",
              "               '2013-02-07 12:00:00', '2013-02-08 06:00:00',\n",
              "               '2013-02-09 00:00:00', '2013-02-09 18:00:00',\n",
              "               '2013-02-10 12:00:00', '2013-02-11 06:00:00',\n",
              "               '2013-02-12 00:00:00', '2013-02-12 18:00:00',\n",
              "               '2013-02-13 12:00:00', '2013-02-14 06:00:00',\n",
              "               '2013-02-15 00:00:00', '2013-02-15 18:00:00',\n",
              "               '2013-02-16 12:00:00', '2013-02-17 06:00:00',\n",
              "               '2013-02-18 00:00:00'],\n",
              "              dtype='datetime64[ns]', freq='18H')"
            ]
          },
          "metadata": {
            "tags": []
          },
          "execution_count": 38
        }
      ]
    },
    {
      "cell_type": "code",
      "metadata": {
        "id": "ePRiC1zjNJSj",
        "colab_type": "code",
        "outputId": "9a9c4fac-a3aa-4648-ee7d-ebef5342d193",
        "colab": {
          "base_uri": "https://localhost:8080/",
          "height": 255
        }
      },
      "source": [
        "dates = pd.date_range('20130101', '20130218', freq='D')\n",
        "dates"
      ],
      "execution_count": 0,
      "outputs": [
        {
          "output_type": "execute_result",
          "data": {
            "text/plain": [
              "DatetimeIndex(['2013-01-01', '2013-01-02', '2013-01-03', '2013-01-04',\n",
              "               '2013-01-05', '2013-01-06', '2013-01-07', '2013-01-08',\n",
              "               '2013-01-09', '2013-01-10', '2013-01-11', '2013-01-12',\n",
              "               '2013-01-13', '2013-01-14', '2013-01-15', '2013-01-16',\n",
              "               '2013-01-17', '2013-01-18', '2013-01-19', '2013-01-20',\n",
              "               '2013-01-21', '2013-01-22', '2013-01-23', '2013-01-24',\n",
              "               '2013-01-25', '2013-01-26', '2013-01-27', '2013-01-28',\n",
              "               '2013-01-29', '2013-01-30', '2013-01-31', '2013-02-01',\n",
              "               '2013-02-02', '2013-02-03', '2013-02-04', '2013-02-05',\n",
              "               '2013-02-06', '2013-02-07', '2013-02-08', '2013-02-09',\n",
              "               '2013-02-10', '2013-02-11', '2013-02-12', '2013-02-13',\n",
              "               '2013-02-14', '2013-02-15', '2013-02-16', '2013-02-17',\n",
              "               '2013-02-18'],\n",
              "              dtype='datetime64[ns]', freq='D')"
            ]
          },
          "metadata": {
            "tags": []
          },
          "execution_count": 39
        }
      ]
    },
    {
      "cell_type": "code",
      "metadata": {
        "id": "ZzhKiOHcNJM4",
        "colab_type": "code",
        "outputId": "74fc7f94-135f-4460-d466-21eef6005acc",
        "colab": {
          "base_uri": "https://localhost:8080/",
          "height": 119
        }
      },
      "source": [
        "dates = pd.date_range('20130101', '20130218', freq='3D')\n",
        "dates"
      ],
      "execution_count": 0,
      "outputs": [
        {
          "output_type": "execute_result",
          "data": {
            "text/plain": [
              "DatetimeIndex(['2013-01-01', '2013-01-04', '2013-01-07', '2013-01-10',\n",
              "               '2013-01-13', '2013-01-16', '2013-01-19', '2013-01-22',\n",
              "               '2013-01-25', '2013-01-28', '2013-01-31', '2013-02-03',\n",
              "               '2013-02-06', '2013-02-09', '2013-02-12', '2013-02-15',\n",
              "               '2013-02-18'],\n",
              "              dtype='datetime64[ns]', freq='3D')"
            ]
          },
          "metadata": {
            "tags": []
          },
          "execution_count": 40
        }
      ]
    },
    {
      "cell_type": "code",
      "metadata": {
        "id": "xM9sQ1jENJHZ",
        "colab_type": "code",
        "outputId": "63a89458-cb72-4e81-90b7-3c935ee29816",
        "colab": {
          "base_uri": "https://localhost:8080/",
          "height": 170
        }
      },
      "source": [
        "dates = pd.date_range('20130101', '20130218', periods=16)\n",
        "dates"
      ],
      "execution_count": 0,
      "outputs": [
        {
          "output_type": "execute_result",
          "data": {
            "text/plain": [
              "DatetimeIndex(['2013-01-01 00:00:00', '2013-01-04 04:48:00',\n",
              "               '2013-01-07 09:36:00', '2013-01-10 14:24:00',\n",
              "               '2013-01-13 19:12:00', '2013-01-17 00:00:00',\n",
              "               '2013-01-20 04:48:00', '2013-01-23 09:36:00',\n",
              "               '2013-01-26 14:24:00', '2013-01-29 19:12:00',\n",
              "               '2013-02-02 00:00:00', '2013-02-05 04:48:00',\n",
              "               '2013-02-08 09:36:00', '2013-02-11 14:24:00',\n",
              "               '2013-02-14 19:12:00', '2013-02-18 00:00:00'],\n",
              "              dtype='datetime64[ns]', freq=None)"
            ]
          },
          "metadata": {
            "tags": []
          },
          "execution_count": 41
        }
      ]
    },
    {
      "cell_type": "code",
      "metadata": {
        "id": "HfS0jc04NJCM",
        "colab_type": "code",
        "outputId": "8952fb01-d7b6-4d47-9d76-357e02c811ec",
        "colab": {
          "base_uri": "https://localhost:8080/",
          "height": 119
        }
      },
      "source": [
        "dates[dates < '20130201']"
      ],
      "execution_count": 0,
      "outputs": [
        {
          "output_type": "execute_result",
          "data": {
            "text/plain": [
              "DatetimeIndex(['2013-01-01 00:00:00', '2013-01-04 04:48:00',\n",
              "               '2013-01-07 09:36:00', '2013-01-10 14:24:00',\n",
              "               '2013-01-13 19:12:00', '2013-01-17 00:00:00',\n",
              "               '2013-01-20 04:48:00', '2013-01-23 09:36:00',\n",
              "               '2013-01-26 14:24:00', '2013-01-29 19:12:00'],\n",
              "              dtype='datetime64[ns]', freq=None)"
            ]
          },
          "metadata": {
            "tags": []
          },
          "execution_count": 42
        }
      ]
    },
    {
      "cell_type": "code",
      "metadata": {
        "id": "_eJoOfvbNI7h",
        "colab_type": "code",
        "outputId": "8c034353-7c2b-4167-88d7-574b8cf1b3ff",
        "colab": {
          "base_uri": "https://localhost:8080/",
          "height": 51
        }
      },
      "source": [
        "np.linspace(2, 7, 10)"
      ],
      "execution_count": 0,
      "outputs": [
        {
          "output_type": "execute_result",
          "data": {
            "text/plain": [
              "array([2.        , 2.55555556, 3.11111111, 3.66666667, 4.22222222,\n",
              "       4.77777778, 5.33333333, 5.88888889, 6.44444444, 7.        ])"
            ]
          },
          "metadata": {
            "tags": []
          },
          "execution_count": 43
        }
      ]
    },
    {
      "cell_type": "code",
      "metadata": {
        "id": "efgbWa5dNI1H",
        "colab_type": "code",
        "colab": {}
      },
      "source": [
        ""
      ],
      "execution_count": 0,
      "outputs": []
    },
    {
      "cell_type": "code",
      "metadata": {
        "id": "pro6szarNIvZ",
        "colab_type": "code",
        "colab": {}
      },
      "source": [
        ""
      ],
      "execution_count": 0,
      "outputs": []
    },
    {
      "cell_type": "code",
      "metadata": {
        "id": "54Lnn-iYNIpG",
        "colab_type": "code",
        "colab": {}
      },
      "source": [
        ""
      ],
      "execution_count": 0,
      "outputs": []
    },
    {
      "cell_type": "code",
      "metadata": {
        "id": "K7mKlwobx_KT",
        "colab_type": "code",
        "outputId": "c451cde4-b09f-4101-e16f-fa964d7f25e8",
        "colab": {
          "base_uri": "https://localhost:8080/",
          "height": 102
        }
      },
      "source": [
        "pd.Series([1, 5, 3, 7],index=list(range(4)),dtype='float32')"
      ],
      "execution_count": 0,
      "outputs": [
        {
          "output_type": "execute_result",
          "data": {
            "text/plain": [
              "0    1.0\n",
              "1    5.0\n",
              "2    3.0\n",
              "3    7.0\n",
              "dtype: float32"
            ]
          },
          "metadata": {
            "tags": []
          },
          "execution_count": 44
        }
      ]
    },
    {
      "cell_type": "code",
      "metadata": {
        "id": "-PtZquoVyDUb",
        "colab_type": "code",
        "outputId": "9d920593-b6bc-4cf3-c6be-ba4b73510e4f",
        "colab": {
          "base_uri": "https://localhost:8080/",
          "height": 102
        }
      },
      "source": [
        "pd.Series([1, 5, 3, 7],index=[3, 1, 0, 2],dtype='float32')"
      ],
      "execution_count": 0,
      "outputs": [
        {
          "output_type": "execute_result",
          "data": {
            "text/plain": [
              "3    1.0\n",
              "1    5.0\n",
              "0    3.0\n",
              "2    7.0\n",
              "dtype: float32"
            ]
          },
          "metadata": {
            "tags": []
          },
          "execution_count": 45
        }
      ]
    },
    {
      "cell_type": "code",
      "metadata": {
        "id": "_nip9ERMPNSq",
        "colab_type": "code",
        "outputId": "b6369f0c-68e0-499e-de4c-f4565b8ef6e4",
        "colab": {
          "base_uri": "https://localhost:8080/",
          "height": 119
        }
      },
      "source": [
        "pd.Series(1, index=range(5))"
      ],
      "execution_count": 0,
      "outputs": [
        {
          "output_type": "execute_result",
          "data": {
            "text/plain": [
              "0    1\n",
              "1    1\n",
              "2    1\n",
              "3    1\n",
              "4    1\n",
              "dtype: int64"
            ]
          },
          "metadata": {
            "tags": []
          },
          "execution_count": 46
        }
      ]
    },
    {
      "cell_type": "code",
      "metadata": {
        "id": "DzkC8Dh3OfO-",
        "colab_type": "code",
        "outputId": "396c2328-7be5-4e74-b5a1-97398ed6d1ff",
        "colab": {
          "base_uri": "https://localhost:8080/",
          "height": 34
        }
      },
      "source": [
        "[1] * 5"
      ],
      "execution_count": 0,
      "outputs": [
        {
          "output_type": "execute_result",
          "data": {
            "text/plain": [
              "[1, 1, 1, 1, 1]"
            ]
          },
          "metadata": {
            "tags": []
          },
          "execution_count": 47
        }
      ]
    },
    {
      "cell_type": "code",
      "metadata": {
        "id": "t78GfOJWzjeg",
        "colab_type": "code",
        "outputId": "773081b4-8ffd-4aa3-f8dc-d169ae3dcfb6",
        "colab": {
          "base_uri": "https://localhost:8080/",
          "height": 34
        }
      },
      "source": [
        "[3, 5] * 4"
      ],
      "execution_count": 0,
      "outputs": [
        {
          "output_type": "execute_result",
          "data": {
            "text/plain": [
              "[3, 5, 3, 5, 3, 5, 3, 5]"
            ]
          },
          "metadata": {
            "tags": []
          },
          "execution_count": 48
        }
      ]
    },
    {
      "cell_type": "code",
      "metadata": {
        "id": "3ZCiWHzVOoPk",
        "colab_type": "code",
        "outputId": "d4ad0f2a-1c31-488f-a239-668965622ec9",
        "colab": {
          "base_uri": "https://localhost:8080/",
          "height": 34
        }
      },
      "source": [
        "'abc' * 4"
      ],
      "execution_count": 0,
      "outputs": [
        {
          "output_type": "execute_result",
          "data": {
            "text/plain": [
              "'abcabcabcabc'"
            ]
          },
          "metadata": {
            "tags": []
          },
          "execution_count": 49
        }
      ]
    },
    {
      "cell_type": "code",
      "metadata": {
        "id": "A8ltT1kHQdTU",
        "colab_type": "code",
        "outputId": "b9e78ba8-d99a-4181-e8aa-bc1b09e3fcc6",
        "colab": {
          "base_uri": "https://localhost:8080/",
          "height": 34
        }
      },
      "source": [
        "[3] * 4, np.array([3] * 4)"
      ],
      "execution_count": 0,
      "outputs": [
        {
          "output_type": "execute_result",
          "data": {
            "text/plain": [
              "([3, 3, 3, 3], array([3, 3, 3, 3]))"
            ]
          },
          "metadata": {
            "tags": []
          },
          "execution_count": 50
        }
      ]
    },
    {
      "cell_type": "code",
      "metadata": {
        "id": "nYHckVEk-tLR",
        "colab_type": "code",
        "outputId": "0c46cdda-77ce-4770-97cc-e53f49bd1822",
        "colab": {
          "base_uri": "https://localhost:8080/",
          "height": 297
        }
      },
      "source": [
        "df2 = pd.DataFrame({\n",
        "    'A' : 1.,\n",
        "    'B' : pd.Timestamp('20130102'),\n",
        "    'C' : pd.Series([1, 5, 3, 7],index=list(range(4)),dtype='float32'),\n",
        "#     'D' : np.array([3] * 4,dtype='int32'),\n",
        "#     'E' : pd.Categorical([\"test\",\"train\",\"test\",\"train\"]),\n",
        "    'F' : 'foo',\n",
        "    'G' : pd.Series([1, 5, 3, 7],index=['A', 'B', 'C', 'D'],dtype='float32'),\n",
        "#     'H' : [5, 7, 2, 5]\n",
        "})\n",
        "df2"
      ],
      "execution_count": 0,
      "outputs": [
        {
          "output_type": "execute_result",
          "data": {
            "text/html": [
              "<div>\n",
              "<style scoped>\n",
              "    .dataframe tbody tr th:only-of-type {\n",
              "        vertical-align: middle;\n",
              "    }\n",
              "\n",
              "    .dataframe tbody tr th {\n",
              "        vertical-align: top;\n",
              "    }\n",
              "\n",
              "    .dataframe thead th {\n",
              "        text-align: right;\n",
              "    }\n",
              "</style>\n",
              "<table border=\"1\" class=\"dataframe\">\n",
              "  <thead>\n",
              "    <tr style=\"text-align: right;\">\n",
              "      <th></th>\n",
              "      <th>A</th>\n",
              "      <th>B</th>\n",
              "      <th>C</th>\n",
              "      <th>F</th>\n",
              "      <th>G</th>\n",
              "    </tr>\n",
              "  </thead>\n",
              "  <tbody>\n",
              "    <tr>\n",
              "      <th>0</th>\n",
              "      <td>1.0</td>\n",
              "      <td>2013-01-02</td>\n",
              "      <td>1.0</td>\n",
              "      <td>foo</td>\n",
              "      <td>NaN</td>\n",
              "    </tr>\n",
              "    <tr>\n",
              "      <th>1</th>\n",
              "      <td>1.0</td>\n",
              "      <td>2013-01-02</td>\n",
              "      <td>5.0</td>\n",
              "      <td>foo</td>\n",
              "      <td>NaN</td>\n",
              "    </tr>\n",
              "    <tr>\n",
              "      <th>2</th>\n",
              "      <td>1.0</td>\n",
              "      <td>2013-01-02</td>\n",
              "      <td>3.0</td>\n",
              "      <td>foo</td>\n",
              "      <td>NaN</td>\n",
              "    </tr>\n",
              "    <tr>\n",
              "      <th>3</th>\n",
              "      <td>1.0</td>\n",
              "      <td>2013-01-02</td>\n",
              "      <td>7.0</td>\n",
              "      <td>foo</td>\n",
              "      <td>NaN</td>\n",
              "    </tr>\n",
              "    <tr>\n",
              "      <th>A</th>\n",
              "      <td>1.0</td>\n",
              "      <td>2013-01-02</td>\n",
              "      <td>NaN</td>\n",
              "      <td>foo</td>\n",
              "      <td>1.0</td>\n",
              "    </tr>\n",
              "    <tr>\n",
              "      <th>B</th>\n",
              "      <td>1.0</td>\n",
              "      <td>2013-01-02</td>\n",
              "      <td>NaN</td>\n",
              "      <td>foo</td>\n",
              "      <td>5.0</td>\n",
              "    </tr>\n",
              "    <tr>\n",
              "      <th>C</th>\n",
              "      <td>1.0</td>\n",
              "      <td>2013-01-02</td>\n",
              "      <td>NaN</td>\n",
              "      <td>foo</td>\n",
              "      <td>3.0</td>\n",
              "    </tr>\n",
              "    <tr>\n",
              "      <th>D</th>\n",
              "      <td>1.0</td>\n",
              "      <td>2013-01-02</td>\n",
              "      <td>NaN</td>\n",
              "      <td>foo</td>\n",
              "      <td>7.0</td>\n",
              "    </tr>\n",
              "  </tbody>\n",
              "</table>\n",
              "</div>"
            ],
            "text/plain": [
              "     A          B    C    F    G\n",
              "0  1.0 2013-01-02  1.0  foo  NaN\n",
              "1  1.0 2013-01-02  5.0  foo  NaN\n",
              "2  1.0 2013-01-02  3.0  foo  NaN\n",
              "3  1.0 2013-01-02  7.0  foo  NaN\n",
              "A  1.0 2013-01-02  NaN  foo  1.0\n",
              "B  1.0 2013-01-02  NaN  foo  5.0\n",
              "C  1.0 2013-01-02  NaN  foo  3.0\n",
              "D  1.0 2013-01-02  NaN  foo  7.0"
            ]
          },
          "metadata": {
            "tags": []
          },
          "execution_count": 51
        }
      ]
    },
    {
      "cell_type": "code",
      "metadata": {
        "id": "4hmKePJT1gyd",
        "colab_type": "code",
        "outputId": "cf97e60a-2c0f-45db-a33a-c14b481cbeca",
        "colab": {
          "base_uri": "https://localhost:8080/",
          "height": 173
        }
      },
      "source": [
        "df2 = pd.DataFrame({\n",
        "    'A' : 1.,\n",
        "    'B' : pd.Timestamp('20130102'),\n",
        "    'C' : pd.Series([1, 5, 3, 7],index=list(range(4)),dtype='float32'),\n",
        "    'D' : np.array([3] * 4,dtype='int32'),\n",
        "    'E' : pd.Categorical([\"test\",\"train\",\"test\",\"train\"]),\n",
        "    'F' : 'foo',\n",
        "    'G' : pd.Series([1, 5, 3, 7],index=[3, 0, 2, 1],dtype='float32'),\n",
        "    'H' : [5, 7, 2, 5]\n",
        "})\n",
        "df2"
      ],
      "execution_count": 0,
      "outputs": [
        {
          "output_type": "execute_result",
          "data": {
            "text/html": [
              "<div>\n",
              "<style scoped>\n",
              "    .dataframe tbody tr th:only-of-type {\n",
              "        vertical-align: middle;\n",
              "    }\n",
              "\n",
              "    .dataframe tbody tr th {\n",
              "        vertical-align: top;\n",
              "    }\n",
              "\n",
              "    .dataframe thead th {\n",
              "        text-align: right;\n",
              "    }\n",
              "</style>\n",
              "<table border=\"1\" class=\"dataframe\">\n",
              "  <thead>\n",
              "    <tr style=\"text-align: right;\">\n",
              "      <th></th>\n",
              "      <th>A</th>\n",
              "      <th>B</th>\n",
              "      <th>C</th>\n",
              "      <th>D</th>\n",
              "      <th>E</th>\n",
              "      <th>F</th>\n",
              "      <th>G</th>\n",
              "      <th>H</th>\n",
              "    </tr>\n",
              "  </thead>\n",
              "  <tbody>\n",
              "    <tr>\n",
              "      <th>0</th>\n",
              "      <td>1.0</td>\n",
              "      <td>2013-01-02</td>\n",
              "      <td>1.0</td>\n",
              "      <td>3</td>\n",
              "      <td>test</td>\n",
              "      <td>foo</td>\n",
              "      <td>5.0</td>\n",
              "      <td>5</td>\n",
              "    </tr>\n",
              "    <tr>\n",
              "      <th>1</th>\n",
              "      <td>1.0</td>\n",
              "      <td>2013-01-02</td>\n",
              "      <td>5.0</td>\n",
              "      <td>3</td>\n",
              "      <td>train</td>\n",
              "      <td>foo</td>\n",
              "      <td>7.0</td>\n",
              "      <td>7</td>\n",
              "    </tr>\n",
              "    <tr>\n",
              "      <th>2</th>\n",
              "      <td>1.0</td>\n",
              "      <td>2013-01-02</td>\n",
              "      <td>3.0</td>\n",
              "      <td>3</td>\n",
              "      <td>test</td>\n",
              "      <td>foo</td>\n",
              "      <td>3.0</td>\n",
              "      <td>2</td>\n",
              "    </tr>\n",
              "    <tr>\n",
              "      <th>3</th>\n",
              "      <td>1.0</td>\n",
              "      <td>2013-01-02</td>\n",
              "      <td>7.0</td>\n",
              "      <td>3</td>\n",
              "      <td>train</td>\n",
              "      <td>foo</td>\n",
              "      <td>1.0</td>\n",
              "      <td>5</td>\n",
              "    </tr>\n",
              "  </tbody>\n",
              "</table>\n",
              "</div>"
            ],
            "text/plain": [
              "     A          B    C  D      E    F    G  H\n",
              "0  1.0 2013-01-02  1.0  3   test  foo  5.0  5\n",
              "1  1.0 2013-01-02  5.0  3  train  foo  7.0  7\n",
              "2  1.0 2013-01-02  3.0  3   test  foo  3.0  2\n",
              "3  1.0 2013-01-02  7.0  3  train  foo  1.0  5"
            ]
          },
          "metadata": {
            "tags": []
          },
          "execution_count": 52
        }
      ]
    },
    {
      "cell_type": "code",
      "metadata": {
        "id": "gfIg0Ae0APmq",
        "colab_type": "code",
        "outputId": "a7958a4c-0607-4152-b36b-8f13ac8b0797",
        "colab": {
          "base_uri": "https://localhost:8080/",
          "height": 297
        }
      },
      "source": [
        "df2.describe()"
      ],
      "execution_count": 0,
      "outputs": [
        {
          "output_type": "execute_result",
          "data": {
            "text/html": [
              "<div>\n",
              "<style scoped>\n",
              "    .dataframe tbody tr th:only-of-type {\n",
              "        vertical-align: middle;\n",
              "    }\n",
              "\n",
              "    .dataframe tbody tr th {\n",
              "        vertical-align: top;\n",
              "    }\n",
              "\n",
              "    .dataframe thead th {\n",
              "        text-align: right;\n",
              "    }\n",
              "</style>\n",
              "<table border=\"1\" class=\"dataframe\">\n",
              "  <thead>\n",
              "    <tr style=\"text-align: right;\">\n",
              "      <th></th>\n",
              "      <th>A</th>\n",
              "      <th>C</th>\n",
              "      <th>D</th>\n",
              "      <th>G</th>\n",
              "      <th>H</th>\n",
              "    </tr>\n",
              "  </thead>\n",
              "  <tbody>\n",
              "    <tr>\n",
              "      <th>count</th>\n",
              "      <td>4.0</td>\n",
              "      <td>4.000000</td>\n",
              "      <td>4.0</td>\n",
              "      <td>4.000000</td>\n",
              "      <td>4.000000</td>\n",
              "    </tr>\n",
              "    <tr>\n",
              "      <th>mean</th>\n",
              "      <td>1.0</td>\n",
              "      <td>4.000000</td>\n",
              "      <td>3.0</td>\n",
              "      <td>4.000000</td>\n",
              "      <td>4.750000</td>\n",
              "    </tr>\n",
              "    <tr>\n",
              "      <th>std</th>\n",
              "      <td>0.0</td>\n",
              "      <td>2.581989</td>\n",
              "      <td>0.0</td>\n",
              "      <td>2.581989</td>\n",
              "      <td>2.061553</td>\n",
              "    </tr>\n",
              "    <tr>\n",
              "      <th>min</th>\n",
              "      <td>1.0</td>\n",
              "      <td>1.000000</td>\n",
              "      <td>3.0</td>\n",
              "      <td>1.000000</td>\n",
              "      <td>2.000000</td>\n",
              "    </tr>\n",
              "    <tr>\n",
              "      <th>25%</th>\n",
              "      <td>1.0</td>\n",
              "      <td>2.500000</td>\n",
              "      <td>3.0</td>\n",
              "      <td>2.500000</td>\n",
              "      <td>4.250000</td>\n",
              "    </tr>\n",
              "    <tr>\n",
              "      <th>50%</th>\n",
              "      <td>1.0</td>\n",
              "      <td>4.000000</td>\n",
              "      <td>3.0</td>\n",
              "      <td>4.000000</td>\n",
              "      <td>5.000000</td>\n",
              "    </tr>\n",
              "    <tr>\n",
              "      <th>75%</th>\n",
              "      <td>1.0</td>\n",
              "      <td>5.500000</td>\n",
              "      <td>3.0</td>\n",
              "      <td>5.500000</td>\n",
              "      <td>5.500000</td>\n",
              "    </tr>\n",
              "    <tr>\n",
              "      <th>max</th>\n",
              "      <td>1.0</td>\n",
              "      <td>7.000000</td>\n",
              "      <td>3.0</td>\n",
              "      <td>7.000000</td>\n",
              "      <td>7.000000</td>\n",
              "    </tr>\n",
              "  </tbody>\n",
              "</table>\n",
              "</div>"
            ],
            "text/plain": [
              "         A         C    D         G         H\n",
              "count  4.0  4.000000  4.0  4.000000  4.000000\n",
              "mean   1.0  4.000000  3.0  4.000000  4.750000\n",
              "std    0.0  2.581989  0.0  2.581989  2.061553\n",
              "min    1.0  1.000000  3.0  1.000000  2.000000\n",
              "25%    1.0  2.500000  3.0  2.500000  4.250000\n",
              "50%    1.0  4.000000  3.0  4.000000  5.000000\n",
              "75%    1.0  5.500000  3.0  5.500000  5.500000\n",
              "max    1.0  7.000000  3.0  7.000000  7.000000"
            ]
          },
          "metadata": {
            "tags": []
          },
          "execution_count": 53
        }
      ]
    },
    {
      "cell_type": "code",
      "metadata": {
        "id": "HHL3a_4WSsiK",
        "colab_type": "code",
        "outputId": "334eb127-4ac6-4eef-8687-0cc68619ad3e",
        "colab": {
          "base_uri": "https://localhost:8080/",
          "height": 235
        }
      },
      "source": [
        "df2[['B', 'E', 'F']].describe()"
      ],
      "execution_count": 0,
      "outputs": [
        {
          "output_type": "execute_result",
          "data": {
            "text/html": [
              "<div>\n",
              "<style scoped>\n",
              "    .dataframe tbody tr th:only-of-type {\n",
              "        vertical-align: middle;\n",
              "    }\n",
              "\n",
              "    .dataframe tbody tr th {\n",
              "        vertical-align: top;\n",
              "    }\n",
              "\n",
              "    .dataframe thead th {\n",
              "        text-align: right;\n",
              "    }\n",
              "</style>\n",
              "<table border=\"1\" class=\"dataframe\">\n",
              "  <thead>\n",
              "    <tr style=\"text-align: right;\">\n",
              "      <th></th>\n",
              "      <th>B</th>\n",
              "      <th>E</th>\n",
              "      <th>F</th>\n",
              "    </tr>\n",
              "  </thead>\n",
              "  <tbody>\n",
              "    <tr>\n",
              "      <th>count</th>\n",
              "      <td>4</td>\n",
              "      <td>4</td>\n",
              "      <td>4</td>\n",
              "    </tr>\n",
              "    <tr>\n",
              "      <th>unique</th>\n",
              "      <td>1</td>\n",
              "      <td>2</td>\n",
              "      <td>1</td>\n",
              "    </tr>\n",
              "    <tr>\n",
              "      <th>top</th>\n",
              "      <td>2013-01-02 00:00:00</td>\n",
              "      <td>train</td>\n",
              "      <td>foo</td>\n",
              "    </tr>\n",
              "    <tr>\n",
              "      <th>freq</th>\n",
              "      <td>4</td>\n",
              "      <td>2</td>\n",
              "      <td>4</td>\n",
              "    </tr>\n",
              "    <tr>\n",
              "      <th>first</th>\n",
              "      <td>2013-01-02 00:00:00</td>\n",
              "      <td>NaN</td>\n",
              "      <td>NaN</td>\n",
              "    </tr>\n",
              "    <tr>\n",
              "      <th>last</th>\n",
              "      <td>2013-01-02 00:00:00</td>\n",
              "      <td>NaN</td>\n",
              "      <td>NaN</td>\n",
              "    </tr>\n",
              "  </tbody>\n",
              "</table>\n",
              "</div>"
            ],
            "text/plain": [
              "                          B      E    F\n",
              "count                     4      4    4\n",
              "unique                    1      2    1\n",
              "top     2013-01-02 00:00:00  train  foo\n",
              "freq                      4      2    4\n",
              "first   2013-01-02 00:00:00    NaN  NaN\n",
              "last    2013-01-02 00:00:00    NaN  NaN"
            ]
          },
          "metadata": {
            "tags": []
          },
          "execution_count": 54
        }
      ]
    },
    {
      "cell_type": "code",
      "metadata": {
        "id": "Huc8I5NVTmDM",
        "colab_type": "code",
        "outputId": "19767d69-4b66-4a66-b23b-351f9ed432d6",
        "colab": {
          "base_uri": "https://localhost:8080/",
          "height": 34
        }
      },
      "source": [
        "df2.columns"
      ],
      "execution_count": 0,
      "outputs": [
        {
          "output_type": "execute_result",
          "data": {
            "text/plain": [
              "Index(['A', 'B', 'C', 'D', 'E', 'F', 'G', 'H'], dtype='object')"
            ]
          },
          "metadata": {
            "tags": []
          },
          "execution_count": 55
        }
      ]
    },
    {
      "cell_type": "code",
      "metadata": {
        "id": "_4LEFr56Tn5u",
        "colab_type": "code",
        "outputId": "2889dc27-81e2-4bc6-aa12-ef7f5fd81b8b",
        "colab": {
          "base_uri": "https://localhost:8080/",
          "height": 34
        }
      },
      "source": [
        "df2.describe().columns"
      ],
      "execution_count": 0,
      "outputs": [
        {
          "output_type": "execute_result",
          "data": {
            "text/plain": [
              "Index(['A', 'C', 'D', 'G', 'H'], dtype='object')"
            ]
          },
          "metadata": {
            "tags": []
          },
          "execution_count": 56
        }
      ]
    },
    {
      "cell_type": "markdown",
      "metadata": {
        "id": "M1xTZsmxUmwm",
        "colab_type": "text"
      },
      "source": [
        "I have some columns in df2.\n",
        "- Some of these columns are not available in df2.describe()\n",
        "- I want a list of columns that are not available in df2.describe()\n",
        "- I want to modify this list based on the position of the column in df2\n",
        "- if the columns was at an even position (like column B) then i want the name of the column twice (as 'BB' for example) otherwise the column name itself with no modification\n"
      ]
    },
    {
      "cell_type": "code",
      "metadata": {
        "id": "TxDSz0qSUmS2",
        "colab_type": "code",
        "colab": {}
      },
      "source": [
        ""
      ],
      "execution_count": 0,
      "outputs": []
    },
    {
      "cell_type": "code",
      "metadata": {
        "id": "CNImna-a3oGp",
        "colab_type": "code",
        "outputId": "51ed4a34-2b87-4092-bbcf-27f2eac4971b",
        "colab": {
          "base_uri": "https://localhost:8080/",
          "height": 34
        }
      },
      "source": [
        "lst = []\n",
        "for i, col in enumerate(df2.columns):\n",
        "  if col not in df2.describe().columns:\n",
        "    x = col\n",
        "    if i % 2 != 0:\n",
        "      x = col * 2\n",
        "    lst.append(x)\n",
        "lst"
      ],
      "execution_count": 0,
      "outputs": [
        {
          "output_type": "execute_result",
          "data": {
            "text/plain": [
              "['BB', 'E', 'FF']"
            ]
          },
          "metadata": {
            "tags": []
          },
          "execution_count": 57
        }
      ]
    },
    {
      "cell_type": "code",
      "metadata": {
        "id": "Umc_SpcuYcCr",
        "colab_type": "code",
        "colab": {}
      },
      "source": [
        "# [\n",
        "#     for i, col in enumerate(df2.columns)\n",
        "# ]\n",
        "# I want to go to all columns in df2"
      ],
      "execution_count": 0,
      "outputs": []
    },
    {
      "cell_type": "code",
      "metadata": {
        "id": "CcVbb-A2Yb8F",
        "colab_type": "code",
        "colab": {}
      },
      "source": [
        "# [\n",
        "#     for i, col in enumerate(df2.columns)\n",
        "#     if col not in df2.describe().columns\n",
        "# ]\n",
        "# I want to filter only those columns not in df2.describe()\n",
        "# Since this is filtering the if condition comes after for"
      ],
      "execution_count": 0,
      "outputs": []
    },
    {
      "cell_type": "code",
      "metadata": {
        "id": "URirDWIJYbyu",
        "colab_type": "code",
        "colab": {}
      },
      "source": [
        "# [\n",
        "#     True if i % 2 != 0 else False\n",
        "#     for i, col in enumerate(df2.columns)\n",
        "#     if col not in df2.describe().columns\n",
        "# ]\n",
        "# I want to decide the value based on some properties so the if comes before for"
      ],
      "execution_count": 0,
      "outputs": []
    },
    {
      "cell_type": "code",
      "metadata": {
        "id": "tBqqujXoX-pw",
        "colab_type": "code",
        "outputId": "49712129-db61-42c6-e303-7ab1df43fb3c",
        "colab": {
          "base_uri": "https://localhost:8080/",
          "height": 34
        }
      },
      "source": [
        "[\n",
        "    col * 2\n",
        "    if i % 2 != 0\n",
        "    else col\n",
        "    \n",
        "    for i, col in enumerate(df2.columns)\n",
        "    if col not in df2.describe().columns\n",
        "]"
      ],
      "execution_count": 0,
      "outputs": [
        {
          "output_type": "execute_result",
          "data": {
            "text/plain": [
              "['BB', 'E', 'FF']"
            ]
          },
          "metadata": {
            "tags": []
          },
          "execution_count": 61
        }
      ]
    },
    {
      "cell_type": "code",
      "metadata": {
        "id": "lTkga-ptZ0uq",
        "colab_type": "code",
        "outputId": "765945f9-641b-46dc-9c25-e54265757fca",
        "colab": {
          "base_uri": "https://localhost:8080/",
          "height": 34
        }
      },
      "source": [
        "list(\n",
        "    map(\n",
        "        lambda x: x[1] * 2 if x[0] % 2 != 0 else x[1],\n",
        "        # x must be [position, value]\n",
        "        filter(\n",
        "            lambda x: x[1] not in df2.describe().columns,\n",
        "            enumerate(df2.columns)\n",
        "        )\n",
        "    )\n",
        ")"
      ],
      "execution_count": 0,
      "outputs": [
        {
          "output_type": "execute_result",
          "data": {
            "text/plain": [
              "['BB', 'E', 'FF']"
            ]
          },
          "metadata": {
            "tags": []
          },
          "execution_count": 62
        }
      ]
    },
    {
      "cell_type": "code",
      "metadata": {
        "id": "w0F_cBP1AgBo",
        "colab_type": "code",
        "outputId": "ddeaa4f3-8272-4b37-ceed-ce9ba97a2feb",
        "colab": {
          "base_uri": "https://localhost:8080/",
          "height": 235
        }
      },
      "source": [
        "df2.columns\n",
        "[col for col in df2.columns]\n",
        "df2.describe().columns\n",
        "[col\n",
        " for col in df2.columns\n",
        " if col not in df2.describe().columns]\n",
        "df2[[col for col in df2.columns if col not in df2.describe().columns]]\n",
        "df2[[col for col in df2.columns if col not in df2.describe().columns]].describe()"
      ],
      "execution_count": 0,
      "outputs": [
        {
          "output_type": "execute_result",
          "data": {
            "text/html": [
              "<div>\n",
              "<style scoped>\n",
              "    .dataframe tbody tr th:only-of-type {\n",
              "        vertical-align: middle;\n",
              "    }\n",
              "\n",
              "    .dataframe tbody tr th {\n",
              "        vertical-align: top;\n",
              "    }\n",
              "\n",
              "    .dataframe thead th {\n",
              "        text-align: right;\n",
              "    }\n",
              "</style>\n",
              "<table border=\"1\" class=\"dataframe\">\n",
              "  <thead>\n",
              "    <tr style=\"text-align: right;\">\n",
              "      <th></th>\n",
              "      <th>B</th>\n",
              "      <th>E</th>\n",
              "      <th>F</th>\n",
              "    </tr>\n",
              "  </thead>\n",
              "  <tbody>\n",
              "    <tr>\n",
              "      <th>count</th>\n",
              "      <td>4</td>\n",
              "      <td>4</td>\n",
              "      <td>4</td>\n",
              "    </tr>\n",
              "    <tr>\n",
              "      <th>unique</th>\n",
              "      <td>1</td>\n",
              "      <td>2</td>\n",
              "      <td>1</td>\n",
              "    </tr>\n",
              "    <tr>\n",
              "      <th>top</th>\n",
              "      <td>2013-01-02 00:00:00</td>\n",
              "      <td>train</td>\n",
              "      <td>foo</td>\n",
              "    </tr>\n",
              "    <tr>\n",
              "      <th>freq</th>\n",
              "      <td>4</td>\n",
              "      <td>2</td>\n",
              "      <td>4</td>\n",
              "    </tr>\n",
              "    <tr>\n",
              "      <th>first</th>\n",
              "      <td>2013-01-02 00:00:00</td>\n",
              "      <td>NaN</td>\n",
              "      <td>NaN</td>\n",
              "    </tr>\n",
              "    <tr>\n",
              "      <th>last</th>\n",
              "      <td>2013-01-02 00:00:00</td>\n",
              "      <td>NaN</td>\n",
              "      <td>NaN</td>\n",
              "    </tr>\n",
              "  </tbody>\n",
              "</table>\n",
              "</div>"
            ],
            "text/plain": [
              "                          B      E    F\n",
              "count                     4      4    4\n",
              "unique                    1      2    1\n",
              "top     2013-01-02 00:00:00  train  foo\n",
              "freq                      4      2    4\n",
              "first   2013-01-02 00:00:00    NaN  NaN\n",
              "last    2013-01-02 00:00:00    NaN  NaN"
            ]
          },
          "metadata": {
            "tags": []
          },
          "execution_count": 63
        }
      ]
    },
    {
      "cell_type": "code",
      "metadata": {
        "id": "xMmLKC1fATQ4",
        "colab_type": "code",
        "outputId": "cfc8b872-9a6e-45c1-8bf9-909a6ba426bd",
        "colab": {
          "base_uri": "https://localhost:8080/",
          "height": 235
        }
      },
      "source": [
        "df2[[col for col in df2.columns if col not in df2.describe().columns]].describe()"
      ],
      "execution_count": 0,
      "outputs": [
        {
          "output_type": "execute_result",
          "data": {
            "text/html": [
              "<div>\n",
              "<style scoped>\n",
              "    .dataframe tbody tr th:only-of-type {\n",
              "        vertical-align: middle;\n",
              "    }\n",
              "\n",
              "    .dataframe tbody tr th {\n",
              "        vertical-align: top;\n",
              "    }\n",
              "\n",
              "    .dataframe thead th {\n",
              "        text-align: right;\n",
              "    }\n",
              "</style>\n",
              "<table border=\"1\" class=\"dataframe\">\n",
              "  <thead>\n",
              "    <tr style=\"text-align: right;\">\n",
              "      <th></th>\n",
              "      <th>B</th>\n",
              "      <th>E</th>\n",
              "      <th>F</th>\n",
              "    </tr>\n",
              "  </thead>\n",
              "  <tbody>\n",
              "    <tr>\n",
              "      <th>count</th>\n",
              "      <td>4</td>\n",
              "      <td>4</td>\n",
              "      <td>4</td>\n",
              "    </tr>\n",
              "    <tr>\n",
              "      <th>unique</th>\n",
              "      <td>1</td>\n",
              "      <td>2</td>\n",
              "      <td>1</td>\n",
              "    </tr>\n",
              "    <tr>\n",
              "      <th>top</th>\n",
              "      <td>2013-01-02 00:00:00</td>\n",
              "      <td>train</td>\n",
              "      <td>foo</td>\n",
              "    </tr>\n",
              "    <tr>\n",
              "      <th>freq</th>\n",
              "      <td>4</td>\n",
              "      <td>2</td>\n",
              "      <td>4</td>\n",
              "    </tr>\n",
              "    <tr>\n",
              "      <th>first</th>\n",
              "      <td>2013-01-02 00:00:00</td>\n",
              "      <td>NaN</td>\n",
              "      <td>NaN</td>\n",
              "    </tr>\n",
              "    <tr>\n",
              "      <th>last</th>\n",
              "      <td>2013-01-02 00:00:00</td>\n",
              "      <td>NaN</td>\n",
              "      <td>NaN</td>\n",
              "    </tr>\n",
              "  </tbody>\n",
              "</table>\n",
              "</div>"
            ],
            "text/plain": [
              "                          B      E    F\n",
              "count                     4      4    4\n",
              "unique                    1      2    1\n",
              "top     2013-01-02 00:00:00  train  foo\n",
              "freq                      4      2    4\n",
              "first   2013-01-02 00:00:00    NaN  NaN\n",
              "last    2013-01-02 00:00:00    NaN  NaN"
            ]
          },
          "metadata": {
            "tags": []
          },
          "execution_count": 64
        }
      ]
    },
    {
      "cell_type": "code",
      "metadata": {
        "id": "OCxI4ivbBFEG",
        "colab_type": "code",
        "outputId": "7d89c5ba-9843-4f17-996c-4f836978cdbc",
        "colab": {
          "base_uri": "https://localhost:8080/",
          "height": 170
        }
      },
      "source": [
        "df2.dtypes"
      ],
      "execution_count": 0,
      "outputs": [
        {
          "output_type": "execute_result",
          "data": {
            "text/plain": [
              "A           float64\n",
              "B    datetime64[ns]\n",
              "C           float32\n",
              "D             int32\n",
              "E          category\n",
              "F            object\n",
              "G           float32\n",
              "H             int64\n",
              "dtype: object"
            ]
          },
          "metadata": {
            "tags": []
          },
          "execution_count": 65
        }
      ]
    },
    {
      "cell_type": "code",
      "metadata": {
        "id": "RjWb5AXBclvg",
        "colab_type": "code",
        "outputId": "e5055b36-cd76-4a27-a3bf-80154083029f",
        "colab": {
          "base_uri": "https://localhost:8080/",
          "height": 238
        }
      },
      "source": [
        "df2.info()"
      ],
      "execution_count": 0,
      "outputs": [
        {
          "output_type": "stream",
          "text": [
            "<class 'pandas.core.frame.DataFrame'>\n",
            "Int64Index: 4 entries, 0 to 3\n",
            "Data columns (total 8 columns):\n",
            "A    4 non-null float64\n",
            "B    4 non-null datetime64[ns]\n",
            "C    4 non-null float32\n",
            "D    4 non-null int32\n",
            "E    4 non-null category\n",
            "F    4 non-null object\n",
            "G    4 non-null float32\n",
            "H    4 non-null int64\n",
            "dtypes: category(1), datetime64[ns](1), float32(2), float64(1), int32(1), int64(1), object(1)\n",
            "memory usage: 308.0+ bytes\n"
          ],
          "name": "stdout"
        }
      ]
    },
    {
      "cell_type": "code",
      "metadata": {
        "id": "nlrj_PSmCENL",
        "colab_type": "code",
        "outputId": "084ed230-f11e-4b57-e02f-23f99e9ddfa3",
        "colab": {
          "base_uri": "https://localhost:8080/",
          "height": 173
        }
      },
      "source": [
        "df2.head()"
      ],
      "execution_count": 0,
      "outputs": [
        {
          "output_type": "execute_result",
          "data": {
            "text/html": [
              "<div>\n",
              "<style scoped>\n",
              "    .dataframe tbody tr th:only-of-type {\n",
              "        vertical-align: middle;\n",
              "    }\n",
              "\n",
              "    .dataframe tbody tr th {\n",
              "        vertical-align: top;\n",
              "    }\n",
              "\n",
              "    .dataframe thead th {\n",
              "        text-align: right;\n",
              "    }\n",
              "</style>\n",
              "<table border=\"1\" class=\"dataframe\">\n",
              "  <thead>\n",
              "    <tr style=\"text-align: right;\">\n",
              "      <th></th>\n",
              "      <th>A</th>\n",
              "      <th>B</th>\n",
              "      <th>C</th>\n",
              "      <th>D</th>\n",
              "      <th>E</th>\n",
              "      <th>F</th>\n",
              "      <th>G</th>\n",
              "      <th>H</th>\n",
              "    </tr>\n",
              "  </thead>\n",
              "  <tbody>\n",
              "    <tr>\n",
              "      <th>0</th>\n",
              "      <td>1.0</td>\n",
              "      <td>2013-01-02</td>\n",
              "      <td>1.0</td>\n",
              "      <td>3</td>\n",
              "      <td>test</td>\n",
              "      <td>foo</td>\n",
              "      <td>5.0</td>\n",
              "      <td>5</td>\n",
              "    </tr>\n",
              "    <tr>\n",
              "      <th>1</th>\n",
              "      <td>1.0</td>\n",
              "      <td>2013-01-02</td>\n",
              "      <td>5.0</td>\n",
              "      <td>3</td>\n",
              "      <td>train</td>\n",
              "      <td>foo</td>\n",
              "      <td>7.0</td>\n",
              "      <td>7</td>\n",
              "    </tr>\n",
              "    <tr>\n",
              "      <th>2</th>\n",
              "      <td>1.0</td>\n",
              "      <td>2013-01-02</td>\n",
              "      <td>3.0</td>\n",
              "      <td>3</td>\n",
              "      <td>test</td>\n",
              "      <td>foo</td>\n",
              "      <td>3.0</td>\n",
              "      <td>2</td>\n",
              "    </tr>\n",
              "    <tr>\n",
              "      <th>3</th>\n",
              "      <td>1.0</td>\n",
              "      <td>2013-01-02</td>\n",
              "      <td>7.0</td>\n",
              "      <td>3</td>\n",
              "      <td>train</td>\n",
              "      <td>foo</td>\n",
              "      <td>1.0</td>\n",
              "      <td>5</td>\n",
              "    </tr>\n",
              "  </tbody>\n",
              "</table>\n",
              "</div>"
            ],
            "text/plain": [
              "     A          B    C  D      E    F    G  H\n",
              "0  1.0 2013-01-02  1.0  3   test  foo  5.0  5\n",
              "1  1.0 2013-01-02  5.0  3  train  foo  7.0  7\n",
              "2  1.0 2013-01-02  3.0  3   test  foo  3.0  2\n",
              "3  1.0 2013-01-02  7.0  3  train  foo  1.0  5"
            ]
          },
          "metadata": {
            "tags": []
          },
          "execution_count": 67
        }
      ]
    },
    {
      "cell_type": "code",
      "metadata": {
        "id": "EzC-mTGkCOVx",
        "colab_type": "code",
        "outputId": "168dc514-0c57-434d-a73d-75bc3754e03f",
        "colab": {
          "base_uri": "https://localhost:8080/",
          "height": 111
        }
      },
      "source": [
        "df2.head(2)"
      ],
      "execution_count": 0,
      "outputs": [
        {
          "output_type": "execute_result",
          "data": {
            "text/html": [
              "<div>\n",
              "<style scoped>\n",
              "    .dataframe tbody tr th:only-of-type {\n",
              "        vertical-align: middle;\n",
              "    }\n",
              "\n",
              "    .dataframe tbody tr th {\n",
              "        vertical-align: top;\n",
              "    }\n",
              "\n",
              "    .dataframe thead th {\n",
              "        text-align: right;\n",
              "    }\n",
              "</style>\n",
              "<table border=\"1\" class=\"dataframe\">\n",
              "  <thead>\n",
              "    <tr style=\"text-align: right;\">\n",
              "      <th></th>\n",
              "      <th>A</th>\n",
              "      <th>B</th>\n",
              "      <th>C</th>\n",
              "      <th>D</th>\n",
              "      <th>E</th>\n",
              "      <th>F</th>\n",
              "      <th>G</th>\n",
              "      <th>H</th>\n",
              "    </tr>\n",
              "  </thead>\n",
              "  <tbody>\n",
              "    <tr>\n",
              "      <th>0</th>\n",
              "      <td>1.0</td>\n",
              "      <td>2013-01-02</td>\n",
              "      <td>1.0</td>\n",
              "      <td>3</td>\n",
              "      <td>test</td>\n",
              "      <td>foo</td>\n",
              "      <td>5.0</td>\n",
              "      <td>5</td>\n",
              "    </tr>\n",
              "    <tr>\n",
              "      <th>1</th>\n",
              "      <td>1.0</td>\n",
              "      <td>2013-01-02</td>\n",
              "      <td>5.0</td>\n",
              "      <td>3</td>\n",
              "      <td>train</td>\n",
              "      <td>foo</td>\n",
              "      <td>7.0</td>\n",
              "      <td>7</td>\n",
              "    </tr>\n",
              "  </tbody>\n",
              "</table>\n",
              "</div>"
            ],
            "text/plain": [
              "     A          B    C  D      E    F    G  H\n",
              "0  1.0 2013-01-02  1.0  3   test  foo  5.0  5\n",
              "1  1.0 2013-01-02  5.0  3  train  foo  7.0  7"
            ]
          },
          "metadata": {
            "tags": []
          },
          "execution_count": 68
        }
      ]
    },
    {
      "cell_type": "code",
      "metadata": {
        "id": "26fAiFisCSSr",
        "colab_type": "code",
        "outputId": "05eea9fb-e379-42fa-8905-46221d5f2e94",
        "colab": {
          "base_uri": "https://localhost:8080/",
          "height": 142
        }
      },
      "source": [
        "df2.tail(3)"
      ],
      "execution_count": 0,
      "outputs": [
        {
          "output_type": "execute_result",
          "data": {
            "text/html": [
              "<div>\n",
              "<style scoped>\n",
              "    .dataframe tbody tr th:only-of-type {\n",
              "        vertical-align: middle;\n",
              "    }\n",
              "\n",
              "    .dataframe tbody tr th {\n",
              "        vertical-align: top;\n",
              "    }\n",
              "\n",
              "    .dataframe thead th {\n",
              "        text-align: right;\n",
              "    }\n",
              "</style>\n",
              "<table border=\"1\" class=\"dataframe\">\n",
              "  <thead>\n",
              "    <tr style=\"text-align: right;\">\n",
              "      <th></th>\n",
              "      <th>A</th>\n",
              "      <th>B</th>\n",
              "      <th>C</th>\n",
              "      <th>D</th>\n",
              "      <th>E</th>\n",
              "      <th>F</th>\n",
              "      <th>G</th>\n",
              "      <th>H</th>\n",
              "    </tr>\n",
              "  </thead>\n",
              "  <tbody>\n",
              "    <tr>\n",
              "      <th>1</th>\n",
              "      <td>1.0</td>\n",
              "      <td>2013-01-02</td>\n",
              "      <td>5.0</td>\n",
              "      <td>3</td>\n",
              "      <td>train</td>\n",
              "      <td>foo</td>\n",
              "      <td>7.0</td>\n",
              "      <td>7</td>\n",
              "    </tr>\n",
              "    <tr>\n",
              "      <th>2</th>\n",
              "      <td>1.0</td>\n",
              "      <td>2013-01-02</td>\n",
              "      <td>3.0</td>\n",
              "      <td>3</td>\n",
              "      <td>test</td>\n",
              "      <td>foo</td>\n",
              "      <td>3.0</td>\n",
              "      <td>2</td>\n",
              "    </tr>\n",
              "    <tr>\n",
              "      <th>3</th>\n",
              "      <td>1.0</td>\n",
              "      <td>2013-01-02</td>\n",
              "      <td>7.0</td>\n",
              "      <td>3</td>\n",
              "      <td>train</td>\n",
              "      <td>foo</td>\n",
              "      <td>1.0</td>\n",
              "      <td>5</td>\n",
              "    </tr>\n",
              "  </tbody>\n",
              "</table>\n",
              "</div>"
            ],
            "text/plain": [
              "     A          B    C  D      E    F    G  H\n",
              "1  1.0 2013-01-02  5.0  3  train  foo  7.0  7\n",
              "2  1.0 2013-01-02  3.0  3   test  foo  3.0  2\n",
              "3  1.0 2013-01-02  7.0  3  train  foo  1.0  5"
            ]
          },
          "metadata": {
            "tags": []
          },
          "execution_count": 69
        }
      ]
    },
    {
      "cell_type": "code",
      "metadata": {
        "id": "v6_IK1UlCWju",
        "colab_type": "code",
        "outputId": "67b420ad-b439-4f36-e5a4-4317ce296140",
        "colab": {
          "base_uri": "https://localhost:8080/",
          "height": 34
        }
      },
      "source": [
        "df2.index"
      ],
      "execution_count": 0,
      "outputs": [
        {
          "output_type": "execute_result",
          "data": {
            "text/plain": [
              "Int64Index([0, 1, 2, 3], dtype='int64')"
            ]
          },
          "metadata": {
            "tags": []
          },
          "execution_count": 70
        }
      ]
    },
    {
      "cell_type": "code",
      "metadata": {
        "id": "xYQkJtl0CaiG",
        "colab_type": "code",
        "outputId": "b100f7e0-e8ae-41e6-d18b-a3b8b16e6bf4",
        "colab": {
          "base_uri": "https://localhost:8080/",
          "height": 190
        }
      },
      "source": [
        "df2.index = ['A', 'B', 'C', 'D']\n",
        "idx = df2.index\n",
        "idx = idx[1:3]\n",
        "print(idx)\n",
        "# df2\n",
        "# df2.loc[idx]  # Value of index of the row (it has to be something from the index)\n",
        "df2.iloc[::-1]  # Position of the row (it has to be a number or a set of numbers)"
      ],
      "execution_count": 0,
      "outputs": [
        {
          "output_type": "stream",
          "text": [
            "Index(['B', 'C'], dtype='object')\n"
          ],
          "name": "stdout"
        },
        {
          "output_type": "execute_result",
          "data": {
            "text/html": [
              "<div>\n",
              "<style scoped>\n",
              "    .dataframe tbody tr th:only-of-type {\n",
              "        vertical-align: middle;\n",
              "    }\n",
              "\n",
              "    .dataframe tbody tr th {\n",
              "        vertical-align: top;\n",
              "    }\n",
              "\n",
              "    .dataframe thead th {\n",
              "        text-align: right;\n",
              "    }\n",
              "</style>\n",
              "<table border=\"1\" class=\"dataframe\">\n",
              "  <thead>\n",
              "    <tr style=\"text-align: right;\">\n",
              "      <th></th>\n",
              "      <th>A</th>\n",
              "      <th>B</th>\n",
              "      <th>C</th>\n",
              "      <th>D</th>\n",
              "      <th>E</th>\n",
              "      <th>F</th>\n",
              "      <th>G</th>\n",
              "      <th>H</th>\n",
              "    </tr>\n",
              "  </thead>\n",
              "  <tbody>\n",
              "    <tr>\n",
              "      <th>D</th>\n",
              "      <td>1.0</td>\n",
              "      <td>2013-01-02</td>\n",
              "      <td>7.0</td>\n",
              "      <td>3</td>\n",
              "      <td>train</td>\n",
              "      <td>foo</td>\n",
              "      <td>1.0</td>\n",
              "      <td>5</td>\n",
              "    </tr>\n",
              "    <tr>\n",
              "      <th>C</th>\n",
              "      <td>1.0</td>\n",
              "      <td>2013-01-02</td>\n",
              "      <td>3.0</td>\n",
              "      <td>3</td>\n",
              "      <td>test</td>\n",
              "      <td>foo</td>\n",
              "      <td>3.0</td>\n",
              "      <td>2</td>\n",
              "    </tr>\n",
              "    <tr>\n",
              "      <th>B</th>\n",
              "      <td>1.0</td>\n",
              "      <td>2013-01-02</td>\n",
              "      <td>5.0</td>\n",
              "      <td>3</td>\n",
              "      <td>train</td>\n",
              "      <td>foo</td>\n",
              "      <td>7.0</td>\n",
              "      <td>7</td>\n",
              "    </tr>\n",
              "    <tr>\n",
              "      <th>A</th>\n",
              "      <td>1.0</td>\n",
              "      <td>2013-01-02</td>\n",
              "      <td>1.0</td>\n",
              "      <td>3</td>\n",
              "      <td>test</td>\n",
              "      <td>foo</td>\n",
              "      <td>5.0</td>\n",
              "      <td>5</td>\n",
              "    </tr>\n",
              "  </tbody>\n",
              "</table>\n",
              "</div>"
            ],
            "text/plain": [
              "     A          B    C  D      E    F    G  H\n",
              "D  1.0 2013-01-02  7.0  3  train  foo  1.0  5\n",
              "C  1.0 2013-01-02  3.0  3   test  foo  3.0  2\n",
              "B  1.0 2013-01-02  5.0  3  train  foo  7.0  7\n",
              "A  1.0 2013-01-02  1.0  3   test  foo  5.0  5"
            ]
          },
          "metadata": {
            "tags": []
          },
          "execution_count": 71
        }
      ]
    },
    {
      "cell_type": "code",
      "metadata": {
        "id": "_sOzeTQtfKBa",
        "colab_type": "code",
        "colab": {}
      },
      "source": [
        ""
      ],
      "execution_count": 0,
      "outputs": []
    },
    {
      "cell_type": "code",
      "metadata": {
        "id": "BHpFrjrSDDUc",
        "colab_type": "code",
        "outputId": "a69081e4-afa4-4cb0-c467-91d82de9497d",
        "colab": {
          "base_uri": "https://localhost:8080/",
          "height": 142
        }
      },
      "source": [
        "df3 = df2.copy()\n",
        "df3.columns = ['A', 'B', 'C', 'D', 'E', 'F', 'Index Column', 'H']\n",
        "df3.reset_index().set_index('Index Column').loc[[3.0, 7.0]].reset_index().set_index('C')"
      ],
      "execution_count": 0,
      "outputs": [
        {
          "output_type": "execute_result",
          "data": {
            "text/html": [
              "<div>\n",
              "<style scoped>\n",
              "    .dataframe tbody tr th:only-of-type {\n",
              "        vertical-align: middle;\n",
              "    }\n",
              "\n",
              "    .dataframe tbody tr th {\n",
              "        vertical-align: top;\n",
              "    }\n",
              "\n",
              "    .dataframe thead th {\n",
              "        text-align: right;\n",
              "    }\n",
              "</style>\n",
              "<table border=\"1\" class=\"dataframe\">\n",
              "  <thead>\n",
              "    <tr style=\"text-align: right;\">\n",
              "      <th></th>\n",
              "      <th>Index Column</th>\n",
              "      <th>index</th>\n",
              "      <th>A</th>\n",
              "      <th>B</th>\n",
              "      <th>D</th>\n",
              "      <th>E</th>\n",
              "      <th>F</th>\n",
              "      <th>H</th>\n",
              "    </tr>\n",
              "    <tr>\n",
              "      <th>C</th>\n",
              "      <th></th>\n",
              "      <th></th>\n",
              "      <th></th>\n",
              "      <th></th>\n",
              "      <th></th>\n",
              "      <th></th>\n",
              "      <th></th>\n",
              "      <th></th>\n",
              "    </tr>\n",
              "  </thead>\n",
              "  <tbody>\n",
              "    <tr>\n",
              "      <th>3.0</th>\n",
              "      <td>3.0</td>\n",
              "      <td>C</td>\n",
              "      <td>1.0</td>\n",
              "      <td>2013-01-02</td>\n",
              "      <td>3</td>\n",
              "      <td>test</td>\n",
              "      <td>foo</td>\n",
              "      <td>2</td>\n",
              "    </tr>\n",
              "    <tr>\n",
              "      <th>5.0</th>\n",
              "      <td>7.0</td>\n",
              "      <td>B</td>\n",
              "      <td>1.0</td>\n",
              "      <td>2013-01-02</td>\n",
              "      <td>3</td>\n",
              "      <td>train</td>\n",
              "      <td>foo</td>\n",
              "      <td>7</td>\n",
              "    </tr>\n",
              "  </tbody>\n",
              "</table>\n",
              "</div>"
            ],
            "text/plain": [
              "     Index Column index    A          B  D      E    F  H\n",
              "C                                                        \n",
              "3.0           3.0     C  1.0 2013-01-02  3   test  foo  2\n",
              "5.0           7.0     B  1.0 2013-01-02  3  train  foo  7"
            ]
          },
          "metadata": {
            "tags": []
          },
          "execution_count": 72
        }
      ]
    },
    {
      "cell_type": "code",
      "metadata": {
        "id": "oTPyI9yTCLbl",
        "colab_type": "code",
        "outputId": "fabc5620-c7ba-4cc6-9e0a-6ac680aa9875",
        "colab": {
          "base_uri": "https://localhost:8080/",
          "height": 204
        }
      },
      "source": [
        "df3 = df2.set_index('G')\n",
        "df3"
      ],
      "execution_count": 0,
      "outputs": [
        {
          "output_type": "execute_result",
          "data": {
            "text/html": [
              "<div>\n",
              "<style scoped>\n",
              "    .dataframe tbody tr th:only-of-type {\n",
              "        vertical-align: middle;\n",
              "    }\n",
              "\n",
              "    .dataframe tbody tr th {\n",
              "        vertical-align: top;\n",
              "    }\n",
              "\n",
              "    .dataframe thead th {\n",
              "        text-align: right;\n",
              "    }\n",
              "</style>\n",
              "<table border=\"1\" class=\"dataframe\">\n",
              "  <thead>\n",
              "    <tr style=\"text-align: right;\">\n",
              "      <th></th>\n",
              "      <th>A</th>\n",
              "      <th>B</th>\n",
              "      <th>C</th>\n",
              "      <th>D</th>\n",
              "      <th>E</th>\n",
              "      <th>F</th>\n",
              "      <th>H</th>\n",
              "    </tr>\n",
              "    <tr>\n",
              "      <th>G</th>\n",
              "      <th></th>\n",
              "      <th></th>\n",
              "      <th></th>\n",
              "      <th></th>\n",
              "      <th></th>\n",
              "      <th></th>\n",
              "      <th></th>\n",
              "    </tr>\n",
              "  </thead>\n",
              "  <tbody>\n",
              "    <tr>\n",
              "      <th>5.0</th>\n",
              "      <td>1.0</td>\n",
              "      <td>2013-01-02</td>\n",
              "      <td>1.0</td>\n",
              "      <td>3</td>\n",
              "      <td>test</td>\n",
              "      <td>foo</td>\n",
              "      <td>5</td>\n",
              "    </tr>\n",
              "    <tr>\n",
              "      <th>7.0</th>\n",
              "      <td>1.0</td>\n",
              "      <td>2013-01-02</td>\n",
              "      <td>5.0</td>\n",
              "      <td>3</td>\n",
              "      <td>train</td>\n",
              "      <td>foo</td>\n",
              "      <td>7</td>\n",
              "    </tr>\n",
              "    <tr>\n",
              "      <th>3.0</th>\n",
              "      <td>1.0</td>\n",
              "      <td>2013-01-02</td>\n",
              "      <td>3.0</td>\n",
              "      <td>3</td>\n",
              "      <td>test</td>\n",
              "      <td>foo</td>\n",
              "      <td>2</td>\n",
              "    </tr>\n",
              "    <tr>\n",
              "      <th>1.0</th>\n",
              "      <td>1.0</td>\n",
              "      <td>2013-01-02</td>\n",
              "      <td>7.0</td>\n",
              "      <td>3</td>\n",
              "      <td>train</td>\n",
              "      <td>foo</td>\n",
              "      <td>5</td>\n",
              "    </tr>\n",
              "  </tbody>\n",
              "</table>\n",
              "</div>"
            ],
            "text/plain": [
              "       A          B    C  D      E    F  H\n",
              "G                                         \n",
              "5.0  1.0 2013-01-02  1.0  3   test  foo  5\n",
              "7.0  1.0 2013-01-02  5.0  3  train  foo  7\n",
              "3.0  1.0 2013-01-02  3.0  3   test  foo  2\n",
              "1.0  1.0 2013-01-02  7.0  3  train  foo  5"
            ]
          },
          "metadata": {
            "tags": []
          },
          "execution_count": 73
        }
      ]
    },
    {
      "cell_type": "code",
      "metadata": {
        "id": "vznVSs-XDKS0",
        "colab_type": "code",
        "outputId": "bf9ca64e-df09-46b3-ace5-61391747455f",
        "colab": {
          "base_uri": "https://localhost:8080/",
          "height": 173
        }
      },
      "source": [
        "df3.iloc[[2, 1, 3], [1, 5, 3]]"
      ],
      "execution_count": 0,
      "outputs": [
        {
          "output_type": "execute_result",
          "data": {
            "text/html": [
              "<div>\n",
              "<style scoped>\n",
              "    .dataframe tbody tr th:only-of-type {\n",
              "        vertical-align: middle;\n",
              "    }\n",
              "\n",
              "    .dataframe tbody tr th {\n",
              "        vertical-align: top;\n",
              "    }\n",
              "\n",
              "    .dataframe thead th {\n",
              "        text-align: right;\n",
              "    }\n",
              "</style>\n",
              "<table border=\"1\" class=\"dataframe\">\n",
              "  <thead>\n",
              "    <tr style=\"text-align: right;\">\n",
              "      <th></th>\n",
              "      <th>B</th>\n",
              "      <th>F</th>\n",
              "      <th>D</th>\n",
              "    </tr>\n",
              "    <tr>\n",
              "      <th>G</th>\n",
              "      <th></th>\n",
              "      <th></th>\n",
              "      <th></th>\n",
              "    </tr>\n",
              "  </thead>\n",
              "  <tbody>\n",
              "    <tr>\n",
              "      <th>3.0</th>\n",
              "      <td>2013-01-02</td>\n",
              "      <td>foo</td>\n",
              "      <td>3</td>\n",
              "    </tr>\n",
              "    <tr>\n",
              "      <th>7.0</th>\n",
              "      <td>2013-01-02</td>\n",
              "      <td>foo</td>\n",
              "      <td>3</td>\n",
              "    </tr>\n",
              "    <tr>\n",
              "      <th>1.0</th>\n",
              "      <td>2013-01-02</td>\n",
              "      <td>foo</td>\n",
              "      <td>3</td>\n",
              "    </tr>\n",
              "  </tbody>\n",
              "</table>\n",
              "</div>"
            ],
            "text/plain": [
              "             B    F  D\n",
              "G                     \n",
              "3.0 2013-01-02  foo  3\n",
              "7.0 2013-01-02  foo  3\n",
              "1.0 2013-01-02  foo  3"
            ]
          },
          "metadata": {
            "tags": []
          },
          "execution_count": 74
        }
      ]
    },
    {
      "cell_type": "code",
      "metadata": {
        "id": "yJREG61FDUrs",
        "colab_type": "code",
        "outputId": "c8c4fb7c-cf81-4d10-b1a7-8a35c2cbcf94",
        "colab": {
          "base_uri": "https://localhost:8080/",
          "height": 142
        }
      },
      "source": [
        "df3.loc[[7.0, 3.0], ['A', 'D', 'B']]"
      ],
      "execution_count": 0,
      "outputs": [
        {
          "output_type": "execute_result",
          "data": {
            "text/html": [
              "<div>\n",
              "<style scoped>\n",
              "    .dataframe tbody tr th:only-of-type {\n",
              "        vertical-align: middle;\n",
              "    }\n",
              "\n",
              "    .dataframe tbody tr th {\n",
              "        vertical-align: top;\n",
              "    }\n",
              "\n",
              "    .dataframe thead th {\n",
              "        text-align: right;\n",
              "    }\n",
              "</style>\n",
              "<table border=\"1\" class=\"dataframe\">\n",
              "  <thead>\n",
              "    <tr style=\"text-align: right;\">\n",
              "      <th></th>\n",
              "      <th>A</th>\n",
              "      <th>D</th>\n",
              "      <th>B</th>\n",
              "    </tr>\n",
              "    <tr>\n",
              "      <th>G</th>\n",
              "      <th></th>\n",
              "      <th></th>\n",
              "      <th></th>\n",
              "    </tr>\n",
              "  </thead>\n",
              "  <tbody>\n",
              "    <tr>\n",
              "      <th>7.0</th>\n",
              "      <td>1.0</td>\n",
              "      <td>3</td>\n",
              "      <td>2013-01-02</td>\n",
              "    </tr>\n",
              "    <tr>\n",
              "      <th>3.0</th>\n",
              "      <td>1.0</td>\n",
              "      <td>3</td>\n",
              "      <td>2013-01-02</td>\n",
              "    </tr>\n",
              "  </tbody>\n",
              "</table>\n",
              "</div>"
            ],
            "text/plain": [
              "       A  D          B\n",
              "G                     \n",
              "7.0  1.0  3 2013-01-02\n",
              "3.0  1.0  3 2013-01-02"
            ]
          },
          "metadata": {
            "tags": []
          },
          "execution_count": 75
        }
      ]
    },
    {
      "cell_type": "code",
      "metadata": {
        "id": "XEvLkVsBgk9P",
        "colab_type": "code",
        "outputId": "fab1de70-9f99-4dda-8d5f-d5766bac343d",
        "colab": {
          "base_uri": "https://localhost:8080/",
          "height": 142
        }
      },
      "source": [
        "df3.loc[[7.0, 1.0]].iloc[:, [3, 1]]"
      ],
      "execution_count": 0,
      "outputs": [
        {
          "output_type": "execute_result",
          "data": {
            "text/html": [
              "<div>\n",
              "<style scoped>\n",
              "    .dataframe tbody tr th:only-of-type {\n",
              "        vertical-align: middle;\n",
              "    }\n",
              "\n",
              "    .dataframe tbody tr th {\n",
              "        vertical-align: top;\n",
              "    }\n",
              "\n",
              "    .dataframe thead th {\n",
              "        text-align: right;\n",
              "    }\n",
              "</style>\n",
              "<table border=\"1\" class=\"dataframe\">\n",
              "  <thead>\n",
              "    <tr style=\"text-align: right;\">\n",
              "      <th></th>\n",
              "      <th>D</th>\n",
              "      <th>B</th>\n",
              "    </tr>\n",
              "    <tr>\n",
              "      <th>G</th>\n",
              "      <th></th>\n",
              "      <th></th>\n",
              "    </tr>\n",
              "  </thead>\n",
              "  <tbody>\n",
              "    <tr>\n",
              "      <th>7.0</th>\n",
              "      <td>3</td>\n",
              "      <td>2013-01-02</td>\n",
              "    </tr>\n",
              "    <tr>\n",
              "      <th>1.0</th>\n",
              "      <td>3</td>\n",
              "      <td>2013-01-02</td>\n",
              "    </tr>\n",
              "  </tbody>\n",
              "</table>\n",
              "</div>"
            ],
            "text/plain": [
              "     D          B\n",
              "G                \n",
              "7.0  3 2013-01-02\n",
              "1.0  3 2013-01-02"
            ]
          },
          "metadata": {
            "tags": []
          },
          "execution_count": 76
        }
      ]
    },
    {
      "cell_type": "code",
      "metadata": {
        "id": "ZxayJmwTgwPx",
        "colab_type": "code",
        "outputId": "9df6c10a-4288-4a1d-8e46-43260378691a",
        "colab": {
          "base_uri": "https://localhost:8080/",
          "height": 204
        }
      },
      "source": [
        "df3[['A', 'C']]"
      ],
      "execution_count": 0,
      "outputs": [
        {
          "output_type": "execute_result",
          "data": {
            "text/html": [
              "<div>\n",
              "<style scoped>\n",
              "    .dataframe tbody tr th:only-of-type {\n",
              "        vertical-align: middle;\n",
              "    }\n",
              "\n",
              "    .dataframe tbody tr th {\n",
              "        vertical-align: top;\n",
              "    }\n",
              "\n",
              "    .dataframe thead th {\n",
              "        text-align: right;\n",
              "    }\n",
              "</style>\n",
              "<table border=\"1\" class=\"dataframe\">\n",
              "  <thead>\n",
              "    <tr style=\"text-align: right;\">\n",
              "      <th></th>\n",
              "      <th>A</th>\n",
              "      <th>C</th>\n",
              "    </tr>\n",
              "    <tr>\n",
              "      <th>G</th>\n",
              "      <th></th>\n",
              "      <th></th>\n",
              "    </tr>\n",
              "  </thead>\n",
              "  <tbody>\n",
              "    <tr>\n",
              "      <th>5.0</th>\n",
              "      <td>1.0</td>\n",
              "      <td>1.0</td>\n",
              "    </tr>\n",
              "    <tr>\n",
              "      <th>7.0</th>\n",
              "      <td>1.0</td>\n",
              "      <td>5.0</td>\n",
              "    </tr>\n",
              "    <tr>\n",
              "      <th>3.0</th>\n",
              "      <td>1.0</td>\n",
              "      <td>3.0</td>\n",
              "    </tr>\n",
              "    <tr>\n",
              "      <th>1.0</th>\n",
              "      <td>1.0</td>\n",
              "      <td>7.0</td>\n",
              "    </tr>\n",
              "  </tbody>\n",
              "</table>\n",
              "</div>"
            ],
            "text/plain": [
              "       A    C\n",
              "G            \n",
              "5.0  1.0  1.0\n",
              "7.0  1.0  5.0\n",
              "3.0  1.0  3.0\n",
              "1.0  1.0  7.0"
            ]
          },
          "metadata": {
            "tags": []
          },
          "execution_count": 77
        }
      ]
    },
    {
      "cell_type": "code",
      "metadata": {
        "id": "CGJtHeZXg0x0",
        "colab_type": "code",
        "outputId": "bd885ba1-8448-426b-ff14-68f8091b97e4",
        "colab": {
          "base_uri": "https://localhost:8080/",
          "height": 204
        }
      },
      "source": [
        "df3[df3.columns[2:5]]"
      ],
      "execution_count": 0,
      "outputs": [
        {
          "output_type": "execute_result",
          "data": {
            "text/html": [
              "<div>\n",
              "<style scoped>\n",
              "    .dataframe tbody tr th:only-of-type {\n",
              "        vertical-align: middle;\n",
              "    }\n",
              "\n",
              "    .dataframe tbody tr th {\n",
              "        vertical-align: top;\n",
              "    }\n",
              "\n",
              "    .dataframe thead th {\n",
              "        text-align: right;\n",
              "    }\n",
              "</style>\n",
              "<table border=\"1\" class=\"dataframe\">\n",
              "  <thead>\n",
              "    <tr style=\"text-align: right;\">\n",
              "      <th></th>\n",
              "      <th>C</th>\n",
              "      <th>D</th>\n",
              "      <th>E</th>\n",
              "    </tr>\n",
              "    <tr>\n",
              "      <th>G</th>\n",
              "      <th></th>\n",
              "      <th></th>\n",
              "      <th></th>\n",
              "    </tr>\n",
              "  </thead>\n",
              "  <tbody>\n",
              "    <tr>\n",
              "      <th>5.0</th>\n",
              "      <td>1.0</td>\n",
              "      <td>3</td>\n",
              "      <td>test</td>\n",
              "    </tr>\n",
              "    <tr>\n",
              "      <th>7.0</th>\n",
              "      <td>5.0</td>\n",
              "      <td>3</td>\n",
              "      <td>train</td>\n",
              "    </tr>\n",
              "    <tr>\n",
              "      <th>3.0</th>\n",
              "      <td>3.0</td>\n",
              "      <td>3</td>\n",
              "      <td>test</td>\n",
              "    </tr>\n",
              "    <tr>\n",
              "      <th>1.0</th>\n",
              "      <td>7.0</td>\n",
              "      <td>3</td>\n",
              "      <td>train</td>\n",
              "    </tr>\n",
              "  </tbody>\n",
              "</table>\n",
              "</div>"
            ],
            "text/plain": [
              "       C  D      E\n",
              "G                 \n",
              "5.0  1.0  3   test\n",
              "7.0  5.0  3  train\n",
              "3.0  3.0  3   test\n",
              "1.0  7.0  3  train"
            ]
          },
          "metadata": {
            "tags": []
          },
          "execution_count": 78
        }
      ]
    },
    {
      "cell_type": "code",
      "metadata": {
        "id": "JyvYh8rfD6by",
        "colab_type": "code",
        "outputId": "b88b81bc-4457-4cd4-c5d7-04576e69656a",
        "colab": {
          "base_uri": "https://localhost:8080/",
          "height": 221
        }
      },
      "source": [
        "idx = df3.index.values\n",
        "idx[2] = 1.5\n",
        "print(idx)\n",
        "df3['I'] = idx\n",
        "df3\n",
        "df3.reset_index().set_index('I')"
      ],
      "execution_count": 0,
      "outputs": [
        {
          "output_type": "stream",
          "text": [
            "[5.  7.  1.5 1. ]\n"
          ],
          "name": "stdout"
        },
        {
          "output_type": "execute_result",
          "data": {
            "text/html": [
              "<div>\n",
              "<style scoped>\n",
              "    .dataframe tbody tr th:only-of-type {\n",
              "        vertical-align: middle;\n",
              "    }\n",
              "\n",
              "    .dataframe tbody tr th {\n",
              "        vertical-align: top;\n",
              "    }\n",
              "\n",
              "    .dataframe thead th {\n",
              "        text-align: right;\n",
              "    }\n",
              "</style>\n",
              "<table border=\"1\" class=\"dataframe\">\n",
              "  <thead>\n",
              "    <tr style=\"text-align: right;\">\n",
              "      <th></th>\n",
              "      <th>G</th>\n",
              "      <th>A</th>\n",
              "      <th>B</th>\n",
              "      <th>C</th>\n",
              "      <th>D</th>\n",
              "      <th>E</th>\n",
              "      <th>F</th>\n",
              "      <th>H</th>\n",
              "    </tr>\n",
              "    <tr>\n",
              "      <th>I</th>\n",
              "      <th></th>\n",
              "      <th></th>\n",
              "      <th></th>\n",
              "      <th></th>\n",
              "      <th></th>\n",
              "      <th></th>\n",
              "      <th></th>\n",
              "      <th></th>\n",
              "    </tr>\n",
              "  </thead>\n",
              "  <tbody>\n",
              "    <tr>\n",
              "      <th>5.0</th>\n",
              "      <td>5.0</td>\n",
              "      <td>1.0</td>\n",
              "      <td>2013-01-02</td>\n",
              "      <td>1.0</td>\n",
              "      <td>3</td>\n",
              "      <td>test</td>\n",
              "      <td>foo</td>\n",
              "      <td>5</td>\n",
              "    </tr>\n",
              "    <tr>\n",
              "      <th>7.0</th>\n",
              "      <td>7.0</td>\n",
              "      <td>1.0</td>\n",
              "      <td>2013-01-02</td>\n",
              "      <td>5.0</td>\n",
              "      <td>3</td>\n",
              "      <td>train</td>\n",
              "      <td>foo</td>\n",
              "      <td>7</td>\n",
              "    </tr>\n",
              "    <tr>\n",
              "      <th>1.5</th>\n",
              "      <td>1.5</td>\n",
              "      <td>1.0</td>\n",
              "      <td>2013-01-02</td>\n",
              "      <td>3.0</td>\n",
              "      <td>3</td>\n",
              "      <td>test</td>\n",
              "      <td>foo</td>\n",
              "      <td>2</td>\n",
              "    </tr>\n",
              "    <tr>\n",
              "      <th>1.0</th>\n",
              "      <td>1.0</td>\n",
              "      <td>1.0</td>\n",
              "      <td>2013-01-02</td>\n",
              "      <td>7.0</td>\n",
              "      <td>3</td>\n",
              "      <td>train</td>\n",
              "      <td>foo</td>\n",
              "      <td>5</td>\n",
              "    </tr>\n",
              "  </tbody>\n",
              "</table>\n",
              "</div>"
            ],
            "text/plain": [
              "       G    A          B    C  D      E    F  H\n",
              "I                                              \n",
              "5.0  5.0  1.0 2013-01-02  1.0  3   test  foo  5\n",
              "7.0  7.0  1.0 2013-01-02  5.0  3  train  foo  7\n",
              "1.5  1.5  1.0 2013-01-02  3.0  3   test  foo  2\n",
              "1.0  1.0  1.0 2013-01-02  7.0  3  train  foo  5"
            ]
          },
          "metadata": {
            "tags": []
          },
          "execution_count": 79
        }
      ]
    },
    {
      "cell_type": "code",
      "metadata": {
        "id": "64UByS1qEiY0",
        "colab_type": "code",
        "outputId": "800ec74a-b851-493e-e3bc-ae6da165dac4",
        "colab": {
          "base_uri": "https://localhost:8080/",
          "height": 119
        }
      },
      "source": [
        "df3['B']"
      ],
      "execution_count": 0,
      "outputs": [
        {
          "output_type": "execute_result",
          "data": {
            "text/plain": [
              "G\n",
              "5.0   2013-01-02\n",
              "7.0   2013-01-02\n",
              "1.5   2013-01-02\n",
              "1.0   2013-01-02\n",
              "Name: B, dtype: datetime64[ns]"
            ]
          },
          "metadata": {
            "tags": []
          },
          "execution_count": 80
        }
      ]
    },
    {
      "cell_type": "code",
      "metadata": {
        "id": "aDw76do-EyCF",
        "colab_type": "code",
        "outputId": "f194f362-4532-43b2-dd81-4a1be423d2d9",
        "colab": {
          "base_uri": "https://localhost:8080/",
          "height": 119
        }
      },
      "source": [
        "df3.B"
      ],
      "execution_count": 0,
      "outputs": [
        {
          "output_type": "execute_result",
          "data": {
            "text/plain": [
              "G\n",
              "5.0   2013-01-02\n",
              "7.0   2013-01-02\n",
              "1.5   2013-01-02\n",
              "1.0   2013-01-02\n",
              "Name: B, dtype: datetime64[ns]"
            ]
          },
          "metadata": {
            "tags": []
          },
          "execution_count": 81
        }
      ]
    },
    {
      "cell_type": "code",
      "metadata": {
        "id": "owEPKLiUE2wu",
        "colab_type": "code",
        "outputId": "ea4656c3-9e55-4ed6-ac90-17745b5c3b67",
        "colab": {
          "base_uri": "https://localhost:8080/",
          "height": 204
        }
      },
      "source": [
        "df3[['B', 'C']]"
      ],
      "execution_count": 0,
      "outputs": [
        {
          "output_type": "execute_result",
          "data": {
            "text/html": [
              "<div>\n",
              "<style scoped>\n",
              "    .dataframe tbody tr th:only-of-type {\n",
              "        vertical-align: middle;\n",
              "    }\n",
              "\n",
              "    .dataframe tbody tr th {\n",
              "        vertical-align: top;\n",
              "    }\n",
              "\n",
              "    .dataframe thead th {\n",
              "        text-align: right;\n",
              "    }\n",
              "</style>\n",
              "<table border=\"1\" class=\"dataframe\">\n",
              "  <thead>\n",
              "    <tr style=\"text-align: right;\">\n",
              "      <th></th>\n",
              "      <th>B</th>\n",
              "      <th>C</th>\n",
              "    </tr>\n",
              "    <tr>\n",
              "      <th>G</th>\n",
              "      <th></th>\n",
              "      <th></th>\n",
              "    </tr>\n",
              "  </thead>\n",
              "  <tbody>\n",
              "    <tr>\n",
              "      <th>5.0</th>\n",
              "      <td>2013-01-02</td>\n",
              "      <td>1.0</td>\n",
              "    </tr>\n",
              "    <tr>\n",
              "      <th>7.0</th>\n",
              "      <td>2013-01-02</td>\n",
              "      <td>5.0</td>\n",
              "    </tr>\n",
              "    <tr>\n",
              "      <th>1.5</th>\n",
              "      <td>2013-01-02</td>\n",
              "      <td>3.0</td>\n",
              "    </tr>\n",
              "    <tr>\n",
              "      <th>1.0</th>\n",
              "      <td>2013-01-02</td>\n",
              "      <td>7.0</td>\n",
              "    </tr>\n",
              "  </tbody>\n",
              "</table>\n",
              "</div>"
            ],
            "text/plain": [
              "             B    C\n",
              "G                  \n",
              "5.0 2013-01-02  1.0\n",
              "7.0 2013-01-02  5.0\n",
              "1.5 2013-01-02  3.0\n",
              "1.0 2013-01-02  7.0"
            ]
          },
          "metadata": {
            "tags": []
          },
          "execution_count": 82
        }
      ]
    },
    {
      "cell_type": "code",
      "metadata": {
        "id": "FytaV54IE6s6",
        "colab_type": "code",
        "outputId": "487bc5fc-fc2d-4da6-fbc6-e20040b04c42",
        "colab": {
          "base_uri": "https://localhost:8080/",
          "height": 119
        }
      },
      "source": [
        "df3.B"
      ],
      "execution_count": 0,
      "outputs": [
        {
          "output_type": "execute_result",
          "data": {
            "text/plain": [
              "G\n",
              "5.0   2013-01-02\n",
              "7.0   2013-01-02\n",
              "1.5   2013-01-02\n",
              "1.0   2013-01-02\n",
              "Name: B, dtype: datetime64[ns]"
            ]
          },
          "metadata": {
            "tags": []
          },
          "execution_count": 83
        }
      ]
    },
    {
      "cell_type": "code",
      "metadata": {
        "id": "-zEXGqESFIgj",
        "colab_type": "code",
        "outputId": "660d61de-b507-497d-a5d3-279f22ece5b2",
        "colab": {
          "base_uri": "https://localhost:8080/",
          "height": 173
        }
      },
      "source": [
        "dates = pd.date_range('20130101', periods=6)\n",
        "df = pd.DataFrame(np.random.randn(6,4), index=dates, columns=['A', 'B', 'C', 'D'])  # list('ABCD')\n",
        "df\n",
        "dates[0:4]\n",
        "df1 = df.reindex(index=list(dates[0:4]), columns=list(df.columns) + ['E'])\n",
        "df1.loc[dates[0]:dates[1],'E'] = 1\n",
        "df1"
      ],
      "execution_count": 0,
      "outputs": [
        {
          "output_type": "execute_result",
          "data": {
            "text/html": [
              "<div>\n",
              "<style scoped>\n",
              "    .dataframe tbody tr th:only-of-type {\n",
              "        vertical-align: middle;\n",
              "    }\n",
              "\n",
              "    .dataframe tbody tr th {\n",
              "        vertical-align: top;\n",
              "    }\n",
              "\n",
              "    .dataframe thead th {\n",
              "        text-align: right;\n",
              "    }\n",
              "</style>\n",
              "<table border=\"1\" class=\"dataframe\">\n",
              "  <thead>\n",
              "    <tr style=\"text-align: right;\">\n",
              "      <th></th>\n",
              "      <th>A</th>\n",
              "      <th>B</th>\n",
              "      <th>C</th>\n",
              "      <th>D</th>\n",
              "      <th>E</th>\n",
              "    </tr>\n",
              "  </thead>\n",
              "  <tbody>\n",
              "    <tr>\n",
              "      <th>2013-01-01</th>\n",
              "      <td>0.147386</td>\n",
              "      <td>-0.483563</td>\n",
              "      <td>0.105069</td>\n",
              "      <td>-0.455969</td>\n",
              "      <td>1.0</td>\n",
              "    </tr>\n",
              "    <tr>\n",
              "      <th>2013-01-02</th>\n",
              "      <td>0.312940</td>\n",
              "      <td>0.916141</td>\n",
              "      <td>-0.128612</td>\n",
              "      <td>0.929501</td>\n",
              "      <td>1.0</td>\n",
              "    </tr>\n",
              "    <tr>\n",
              "      <th>2013-01-03</th>\n",
              "      <td>-0.663498</td>\n",
              "      <td>-0.239579</td>\n",
              "      <td>-1.038062</td>\n",
              "      <td>0.742446</td>\n",
              "      <td>NaN</td>\n",
              "    </tr>\n",
              "    <tr>\n",
              "      <th>2013-01-04</th>\n",
              "      <td>0.638875</td>\n",
              "      <td>0.727247</td>\n",
              "      <td>0.502658</td>\n",
              "      <td>-0.696213</td>\n",
              "      <td>NaN</td>\n",
              "    </tr>\n",
              "  </tbody>\n",
              "</table>\n",
              "</div>"
            ],
            "text/plain": [
              "                   A         B         C         D    E\n",
              "2013-01-01  0.147386 -0.483563  0.105069 -0.455969  1.0\n",
              "2013-01-02  0.312940  0.916141 -0.128612  0.929501  1.0\n",
              "2013-01-03 -0.663498 -0.239579 -1.038062  0.742446  NaN\n",
              "2013-01-04  0.638875  0.727247  0.502658 -0.696213  NaN"
            ]
          },
          "metadata": {
            "tags": []
          },
          "execution_count": 84
        }
      ]
    },
    {
      "cell_type": "code",
      "metadata": {
        "id": "YgSZS6RKGsfD",
        "colab_type": "code",
        "outputId": "f98ee9c6-b01e-44cb-ba39-c3b2efc08e1d",
        "colab": {
          "base_uri": "https://localhost:8080/",
          "height": 111
        }
      },
      "source": [
        "df1.dropna()"
      ],
      "execution_count": 0,
      "outputs": [
        {
          "output_type": "execute_result",
          "data": {
            "text/html": [
              "<div>\n",
              "<style scoped>\n",
              "    .dataframe tbody tr th:only-of-type {\n",
              "        vertical-align: middle;\n",
              "    }\n",
              "\n",
              "    .dataframe tbody tr th {\n",
              "        vertical-align: top;\n",
              "    }\n",
              "\n",
              "    .dataframe thead th {\n",
              "        text-align: right;\n",
              "    }\n",
              "</style>\n",
              "<table border=\"1\" class=\"dataframe\">\n",
              "  <thead>\n",
              "    <tr style=\"text-align: right;\">\n",
              "      <th></th>\n",
              "      <th>A</th>\n",
              "      <th>B</th>\n",
              "      <th>C</th>\n",
              "      <th>D</th>\n",
              "      <th>E</th>\n",
              "    </tr>\n",
              "  </thead>\n",
              "  <tbody>\n",
              "    <tr>\n",
              "      <th>2013-01-01</th>\n",
              "      <td>0.147386</td>\n",
              "      <td>-0.483563</td>\n",
              "      <td>0.105069</td>\n",
              "      <td>-0.455969</td>\n",
              "      <td>1.0</td>\n",
              "    </tr>\n",
              "    <tr>\n",
              "      <th>2013-01-02</th>\n",
              "      <td>0.312940</td>\n",
              "      <td>0.916141</td>\n",
              "      <td>-0.128612</td>\n",
              "      <td>0.929501</td>\n",
              "      <td>1.0</td>\n",
              "    </tr>\n",
              "  </tbody>\n",
              "</table>\n",
              "</div>"
            ],
            "text/plain": [
              "                   A         B         C         D    E\n",
              "2013-01-01  0.147386 -0.483563  0.105069 -0.455969  1.0\n",
              "2013-01-02  0.312940  0.916141 -0.128612  0.929501  1.0"
            ]
          },
          "metadata": {
            "tags": []
          },
          "execution_count": 85
        }
      ]
    },
    {
      "cell_type": "code",
      "metadata": {
        "id": "INNmzJLAGwmd",
        "colab_type": "code",
        "outputId": "8f30df04-dd92-4527-a277-13bece7be906",
        "colab": {
          "base_uri": "https://localhost:8080/",
          "height": 173
        }
      },
      "source": [
        "df1.dropna(how='all')"
      ],
      "execution_count": 0,
      "outputs": [
        {
          "output_type": "execute_result",
          "data": {
            "text/html": [
              "<div>\n",
              "<style scoped>\n",
              "    .dataframe tbody tr th:only-of-type {\n",
              "        vertical-align: middle;\n",
              "    }\n",
              "\n",
              "    .dataframe tbody tr th {\n",
              "        vertical-align: top;\n",
              "    }\n",
              "\n",
              "    .dataframe thead th {\n",
              "        text-align: right;\n",
              "    }\n",
              "</style>\n",
              "<table border=\"1\" class=\"dataframe\">\n",
              "  <thead>\n",
              "    <tr style=\"text-align: right;\">\n",
              "      <th></th>\n",
              "      <th>A</th>\n",
              "      <th>B</th>\n",
              "      <th>C</th>\n",
              "      <th>D</th>\n",
              "      <th>E</th>\n",
              "    </tr>\n",
              "  </thead>\n",
              "  <tbody>\n",
              "    <tr>\n",
              "      <th>2013-01-01</th>\n",
              "      <td>0.147386</td>\n",
              "      <td>-0.483563</td>\n",
              "      <td>0.105069</td>\n",
              "      <td>-0.455969</td>\n",
              "      <td>1.0</td>\n",
              "    </tr>\n",
              "    <tr>\n",
              "      <th>2013-01-02</th>\n",
              "      <td>0.312940</td>\n",
              "      <td>0.916141</td>\n",
              "      <td>-0.128612</td>\n",
              "      <td>0.929501</td>\n",
              "      <td>1.0</td>\n",
              "    </tr>\n",
              "    <tr>\n",
              "      <th>2013-01-03</th>\n",
              "      <td>-0.663498</td>\n",
              "      <td>-0.239579</td>\n",
              "      <td>-1.038062</td>\n",
              "      <td>0.742446</td>\n",
              "      <td>NaN</td>\n",
              "    </tr>\n",
              "    <tr>\n",
              "      <th>2013-01-04</th>\n",
              "      <td>0.638875</td>\n",
              "      <td>0.727247</td>\n",
              "      <td>0.502658</td>\n",
              "      <td>-0.696213</td>\n",
              "      <td>NaN</td>\n",
              "    </tr>\n",
              "  </tbody>\n",
              "</table>\n",
              "</div>"
            ],
            "text/plain": [
              "                   A         B         C         D    E\n",
              "2013-01-01  0.147386 -0.483563  0.105069 -0.455969  1.0\n",
              "2013-01-02  0.312940  0.916141 -0.128612  0.929501  1.0\n",
              "2013-01-03 -0.663498 -0.239579 -1.038062  0.742446  NaN\n",
              "2013-01-04  0.638875  0.727247  0.502658 -0.696213  NaN"
            ]
          },
          "metadata": {
            "tags": []
          },
          "execution_count": 86
        }
      ]
    },
    {
      "cell_type": "code",
      "metadata": {
        "id": "KLGKLBjGG1NS",
        "colab_type": "code",
        "outputId": "e591d950-5882-4c63-f233-382926232ad1",
        "colab": {
          "base_uri": "https://localhost:8080/",
          "height": 173
        }
      },
      "source": [
        "df1.dropna(axis=1)"
      ],
      "execution_count": 0,
      "outputs": [
        {
          "output_type": "execute_result",
          "data": {
            "text/html": [
              "<div>\n",
              "<style scoped>\n",
              "    .dataframe tbody tr th:only-of-type {\n",
              "        vertical-align: middle;\n",
              "    }\n",
              "\n",
              "    .dataframe tbody tr th {\n",
              "        vertical-align: top;\n",
              "    }\n",
              "\n",
              "    .dataframe thead th {\n",
              "        text-align: right;\n",
              "    }\n",
              "</style>\n",
              "<table border=\"1\" class=\"dataframe\">\n",
              "  <thead>\n",
              "    <tr style=\"text-align: right;\">\n",
              "      <th></th>\n",
              "      <th>A</th>\n",
              "      <th>B</th>\n",
              "      <th>C</th>\n",
              "      <th>D</th>\n",
              "    </tr>\n",
              "  </thead>\n",
              "  <tbody>\n",
              "    <tr>\n",
              "      <th>2013-01-01</th>\n",
              "      <td>0.147386</td>\n",
              "      <td>-0.483563</td>\n",
              "      <td>0.105069</td>\n",
              "      <td>-0.455969</td>\n",
              "    </tr>\n",
              "    <tr>\n",
              "      <th>2013-01-02</th>\n",
              "      <td>0.312940</td>\n",
              "      <td>0.916141</td>\n",
              "      <td>-0.128612</td>\n",
              "      <td>0.929501</td>\n",
              "    </tr>\n",
              "    <tr>\n",
              "      <th>2013-01-03</th>\n",
              "      <td>-0.663498</td>\n",
              "      <td>-0.239579</td>\n",
              "      <td>-1.038062</td>\n",
              "      <td>0.742446</td>\n",
              "    </tr>\n",
              "    <tr>\n",
              "      <th>2013-01-04</th>\n",
              "      <td>0.638875</td>\n",
              "      <td>0.727247</td>\n",
              "      <td>0.502658</td>\n",
              "      <td>-0.696213</td>\n",
              "    </tr>\n",
              "  </tbody>\n",
              "</table>\n",
              "</div>"
            ],
            "text/plain": [
              "                   A         B         C         D\n",
              "2013-01-01  0.147386 -0.483563  0.105069 -0.455969\n",
              "2013-01-02  0.312940  0.916141 -0.128612  0.929501\n",
              "2013-01-03 -0.663498 -0.239579 -1.038062  0.742446\n",
              "2013-01-04  0.638875  0.727247  0.502658 -0.696213"
            ]
          },
          "metadata": {
            "tags": []
          },
          "execution_count": 87
        }
      ]
    },
    {
      "cell_type": "code",
      "metadata": {
        "id": "ARphm-LgG9Uh",
        "colab_type": "code",
        "outputId": "731c048f-fe23-4787-93a6-66e04a51e2b4",
        "colab": {
          "base_uri": "https://localhost:8080/",
          "height": 173
        }
      },
      "source": [
        "df1.dropna(how='all', axis=1)"
      ],
      "execution_count": 0,
      "outputs": [
        {
          "output_type": "execute_result",
          "data": {
            "text/html": [
              "<div>\n",
              "<style scoped>\n",
              "    .dataframe tbody tr th:only-of-type {\n",
              "        vertical-align: middle;\n",
              "    }\n",
              "\n",
              "    .dataframe tbody tr th {\n",
              "        vertical-align: top;\n",
              "    }\n",
              "\n",
              "    .dataframe thead th {\n",
              "        text-align: right;\n",
              "    }\n",
              "</style>\n",
              "<table border=\"1\" class=\"dataframe\">\n",
              "  <thead>\n",
              "    <tr style=\"text-align: right;\">\n",
              "      <th></th>\n",
              "      <th>A</th>\n",
              "      <th>B</th>\n",
              "      <th>C</th>\n",
              "      <th>D</th>\n",
              "      <th>E</th>\n",
              "    </tr>\n",
              "  </thead>\n",
              "  <tbody>\n",
              "    <tr>\n",
              "      <th>2013-01-01</th>\n",
              "      <td>0.147386</td>\n",
              "      <td>-0.483563</td>\n",
              "      <td>0.105069</td>\n",
              "      <td>-0.455969</td>\n",
              "      <td>1.0</td>\n",
              "    </tr>\n",
              "    <tr>\n",
              "      <th>2013-01-02</th>\n",
              "      <td>0.312940</td>\n",
              "      <td>0.916141</td>\n",
              "      <td>-0.128612</td>\n",
              "      <td>0.929501</td>\n",
              "      <td>1.0</td>\n",
              "    </tr>\n",
              "    <tr>\n",
              "      <th>2013-01-03</th>\n",
              "      <td>-0.663498</td>\n",
              "      <td>-0.239579</td>\n",
              "      <td>-1.038062</td>\n",
              "      <td>0.742446</td>\n",
              "      <td>NaN</td>\n",
              "    </tr>\n",
              "    <tr>\n",
              "      <th>2013-01-04</th>\n",
              "      <td>0.638875</td>\n",
              "      <td>0.727247</td>\n",
              "      <td>0.502658</td>\n",
              "      <td>-0.696213</td>\n",
              "      <td>NaN</td>\n",
              "    </tr>\n",
              "  </tbody>\n",
              "</table>\n",
              "</div>"
            ],
            "text/plain": [
              "                   A         B         C         D    E\n",
              "2013-01-01  0.147386 -0.483563  0.105069 -0.455969  1.0\n",
              "2013-01-02  0.312940  0.916141 -0.128612  0.929501  1.0\n",
              "2013-01-03 -0.663498 -0.239579 -1.038062  0.742446  NaN\n",
              "2013-01-04  0.638875  0.727247  0.502658 -0.696213  NaN"
            ]
          },
          "metadata": {
            "tags": []
          },
          "execution_count": 88
        }
      ]
    },
    {
      "cell_type": "code",
      "metadata": {
        "id": "A5YqWdSlHFV8",
        "colab_type": "code",
        "outputId": "3147a0ae-5137-4656-ed46-84f9481a9efa",
        "colab": {
          "base_uri": "https://localhost:8080/",
          "height": 173
        }
      },
      "source": [
        "df1.fillna(3)"
      ],
      "execution_count": 0,
      "outputs": [
        {
          "output_type": "execute_result",
          "data": {
            "text/html": [
              "<div>\n",
              "<style scoped>\n",
              "    .dataframe tbody tr th:only-of-type {\n",
              "        vertical-align: middle;\n",
              "    }\n",
              "\n",
              "    .dataframe tbody tr th {\n",
              "        vertical-align: top;\n",
              "    }\n",
              "\n",
              "    .dataframe thead th {\n",
              "        text-align: right;\n",
              "    }\n",
              "</style>\n",
              "<table border=\"1\" class=\"dataframe\">\n",
              "  <thead>\n",
              "    <tr style=\"text-align: right;\">\n",
              "      <th></th>\n",
              "      <th>A</th>\n",
              "      <th>B</th>\n",
              "      <th>C</th>\n",
              "      <th>D</th>\n",
              "      <th>E</th>\n",
              "    </tr>\n",
              "  </thead>\n",
              "  <tbody>\n",
              "    <tr>\n",
              "      <th>2013-01-01</th>\n",
              "      <td>0.147386</td>\n",
              "      <td>-0.483563</td>\n",
              "      <td>0.105069</td>\n",
              "      <td>-0.455969</td>\n",
              "      <td>1.0</td>\n",
              "    </tr>\n",
              "    <tr>\n",
              "      <th>2013-01-02</th>\n",
              "      <td>0.312940</td>\n",
              "      <td>0.916141</td>\n",
              "      <td>-0.128612</td>\n",
              "      <td>0.929501</td>\n",
              "      <td>1.0</td>\n",
              "    </tr>\n",
              "    <tr>\n",
              "      <th>2013-01-03</th>\n",
              "      <td>-0.663498</td>\n",
              "      <td>-0.239579</td>\n",
              "      <td>-1.038062</td>\n",
              "      <td>0.742446</td>\n",
              "      <td>3.0</td>\n",
              "    </tr>\n",
              "    <tr>\n",
              "      <th>2013-01-04</th>\n",
              "      <td>0.638875</td>\n",
              "      <td>0.727247</td>\n",
              "      <td>0.502658</td>\n",
              "      <td>-0.696213</td>\n",
              "      <td>3.0</td>\n",
              "    </tr>\n",
              "  </tbody>\n",
              "</table>\n",
              "</div>"
            ],
            "text/plain": [
              "                   A         B         C         D    E\n",
              "2013-01-01  0.147386 -0.483563  0.105069 -0.455969  1.0\n",
              "2013-01-02  0.312940  0.916141 -0.128612  0.929501  1.0\n",
              "2013-01-03 -0.663498 -0.239579 -1.038062  0.742446  3.0\n",
              "2013-01-04  0.638875  0.727247  0.502658 -0.696213  3.0"
            ]
          },
          "metadata": {
            "tags": []
          },
          "execution_count": 89
        }
      ]
    },
    {
      "cell_type": "code",
      "metadata": {
        "id": "Pb77MiAAHIpC",
        "colab_type": "code",
        "outputId": "8a453904-fff3-40dd-faca-62d96817bbef",
        "colab": {
          "base_uri": "https://localhost:8080/",
          "height": 173
        }
      },
      "source": [
        "df1.fillna({'A': 3, 'E': 5})"
      ],
      "execution_count": 0,
      "outputs": [
        {
          "output_type": "execute_result",
          "data": {
            "text/html": [
              "<div>\n",
              "<style scoped>\n",
              "    .dataframe tbody tr th:only-of-type {\n",
              "        vertical-align: middle;\n",
              "    }\n",
              "\n",
              "    .dataframe tbody tr th {\n",
              "        vertical-align: top;\n",
              "    }\n",
              "\n",
              "    .dataframe thead th {\n",
              "        text-align: right;\n",
              "    }\n",
              "</style>\n",
              "<table border=\"1\" class=\"dataframe\">\n",
              "  <thead>\n",
              "    <tr style=\"text-align: right;\">\n",
              "      <th></th>\n",
              "      <th>A</th>\n",
              "      <th>B</th>\n",
              "      <th>C</th>\n",
              "      <th>D</th>\n",
              "      <th>E</th>\n",
              "    </tr>\n",
              "  </thead>\n",
              "  <tbody>\n",
              "    <tr>\n",
              "      <th>2013-01-01</th>\n",
              "      <td>0.147386</td>\n",
              "      <td>-0.483563</td>\n",
              "      <td>0.105069</td>\n",
              "      <td>-0.455969</td>\n",
              "      <td>1.0</td>\n",
              "    </tr>\n",
              "    <tr>\n",
              "      <th>2013-01-02</th>\n",
              "      <td>0.312940</td>\n",
              "      <td>0.916141</td>\n",
              "      <td>-0.128612</td>\n",
              "      <td>0.929501</td>\n",
              "      <td>1.0</td>\n",
              "    </tr>\n",
              "    <tr>\n",
              "      <th>2013-01-03</th>\n",
              "      <td>-0.663498</td>\n",
              "      <td>-0.239579</td>\n",
              "      <td>-1.038062</td>\n",
              "      <td>0.742446</td>\n",
              "      <td>5.0</td>\n",
              "    </tr>\n",
              "    <tr>\n",
              "      <th>2013-01-04</th>\n",
              "      <td>0.638875</td>\n",
              "      <td>0.727247</td>\n",
              "      <td>0.502658</td>\n",
              "      <td>-0.696213</td>\n",
              "      <td>5.0</td>\n",
              "    </tr>\n",
              "  </tbody>\n",
              "</table>\n",
              "</div>"
            ],
            "text/plain": [
              "                   A         B         C         D    E\n",
              "2013-01-01  0.147386 -0.483563  0.105069 -0.455969  1.0\n",
              "2013-01-02  0.312940  0.916141 -0.128612  0.929501  1.0\n",
              "2013-01-03 -0.663498 -0.239579 -1.038062  0.742446  5.0\n",
              "2013-01-04  0.638875  0.727247  0.502658 -0.696213  5.0"
            ]
          },
          "metadata": {
            "tags": []
          },
          "execution_count": 90
        }
      ]
    },
    {
      "cell_type": "code",
      "metadata": {
        "id": "2rZSqfLPjw9x",
        "colab_type": "code",
        "outputId": "98779ab0-5a94-49ba-bba9-97b993bf7196",
        "colab": {
          "base_uri": "https://localhost:8080/",
          "height": 119
        }
      },
      "source": [
        "df1.mean(axis=0)"
      ],
      "execution_count": 0,
      "outputs": [
        {
          "output_type": "execute_result",
          "data": {
            "text/plain": [
              "A    0.108926\n",
              "B    0.230061\n",
              "C   -0.139737\n",
              "D    0.129941\n",
              "E    1.000000\n",
              "dtype: float64"
            ]
          },
          "metadata": {
            "tags": []
          },
          "execution_count": 91
        }
      ]
    },
    {
      "cell_type": "code",
      "metadata": {
        "id": "LHDgENyqHPQu",
        "colab_type": "code",
        "outputId": "fdfb5422-a34d-4139-a5b4-3f4b5aaf064a",
        "colab": {
          "base_uri": "https://localhost:8080/",
          "height": 173
        }
      },
      "source": [
        "df1.fillna(df1.mean(axis=0))"
      ],
      "execution_count": 0,
      "outputs": [
        {
          "output_type": "execute_result",
          "data": {
            "text/html": [
              "<div>\n",
              "<style scoped>\n",
              "    .dataframe tbody tr th:only-of-type {\n",
              "        vertical-align: middle;\n",
              "    }\n",
              "\n",
              "    .dataframe tbody tr th {\n",
              "        vertical-align: top;\n",
              "    }\n",
              "\n",
              "    .dataframe thead th {\n",
              "        text-align: right;\n",
              "    }\n",
              "</style>\n",
              "<table border=\"1\" class=\"dataframe\">\n",
              "  <thead>\n",
              "    <tr style=\"text-align: right;\">\n",
              "      <th></th>\n",
              "      <th>A</th>\n",
              "      <th>B</th>\n",
              "      <th>C</th>\n",
              "      <th>D</th>\n",
              "      <th>E</th>\n",
              "    </tr>\n",
              "  </thead>\n",
              "  <tbody>\n",
              "    <tr>\n",
              "      <th>2013-01-01</th>\n",
              "      <td>0.147386</td>\n",
              "      <td>-0.483563</td>\n",
              "      <td>0.105069</td>\n",
              "      <td>-0.455969</td>\n",
              "      <td>1.0</td>\n",
              "    </tr>\n",
              "    <tr>\n",
              "      <th>2013-01-02</th>\n",
              "      <td>0.312940</td>\n",
              "      <td>0.916141</td>\n",
              "      <td>-0.128612</td>\n",
              "      <td>0.929501</td>\n",
              "      <td>1.0</td>\n",
              "    </tr>\n",
              "    <tr>\n",
              "      <th>2013-01-03</th>\n",
              "      <td>-0.663498</td>\n",
              "      <td>-0.239579</td>\n",
              "      <td>-1.038062</td>\n",
              "      <td>0.742446</td>\n",
              "      <td>1.0</td>\n",
              "    </tr>\n",
              "    <tr>\n",
              "      <th>2013-01-04</th>\n",
              "      <td>0.638875</td>\n",
              "      <td>0.727247</td>\n",
              "      <td>0.502658</td>\n",
              "      <td>-0.696213</td>\n",
              "      <td>1.0</td>\n",
              "    </tr>\n",
              "  </tbody>\n",
              "</table>\n",
              "</div>"
            ],
            "text/plain": [
              "                   A         B         C         D    E\n",
              "2013-01-01  0.147386 -0.483563  0.105069 -0.455969  1.0\n",
              "2013-01-02  0.312940  0.916141 -0.128612  0.929501  1.0\n",
              "2013-01-03 -0.663498 -0.239579 -1.038062  0.742446  1.0\n",
              "2013-01-04  0.638875  0.727247  0.502658 -0.696213  1.0"
            ]
          },
          "metadata": {
            "tags": []
          },
          "execution_count": 92
        }
      ]
    },
    {
      "cell_type": "code",
      "metadata": {
        "id": "BJlGn6QEHU-w",
        "colab_type": "code",
        "outputId": "e6fa1b16-332a-41e6-c9a5-67026e407fa8",
        "colab": {
          "base_uri": "https://localhost:8080/",
          "height": 119
        }
      },
      "source": [
        "df1.mean()"
      ],
      "execution_count": 0,
      "outputs": [
        {
          "output_type": "execute_result",
          "data": {
            "text/plain": [
              "A    0.108926\n",
              "B    0.230061\n",
              "C   -0.139737\n",
              "D    0.129941\n",
              "E    1.000000\n",
              "dtype: float64"
            ]
          },
          "metadata": {
            "tags": []
          },
          "execution_count": 93
        }
      ]
    },
    {
      "cell_type": "code",
      "metadata": {
        "id": "-t6fmbXdHg6i",
        "colab_type": "code",
        "outputId": "ac5f0d19-6e25-4028-f9af-246fcc66e6b0",
        "colab": {
          "base_uri": "https://localhost:8080/",
          "height": 119
        }
      },
      "source": [
        "df1.sum()"
      ],
      "execution_count": 0,
      "outputs": [
        {
          "output_type": "execute_result",
          "data": {
            "text/plain": [
              "A    0.435703\n",
              "B    0.920246\n",
              "C   -0.558948\n",
              "D    0.519764\n",
              "E    2.000000\n",
              "dtype: float64"
            ]
          },
          "metadata": {
            "tags": []
          },
          "execution_count": 94
        }
      ]
    },
    {
      "cell_type": "code",
      "metadata": {
        "id": "UsOxTz6eHipF",
        "colab_type": "code",
        "outputId": "62186ae3-5598-4f65-b60c-c083b4bfa93f",
        "colab": {
          "base_uri": "https://localhost:8080/",
          "height": 102
        }
      },
      "source": [
        "df1.sum(1)"
      ],
      "execution_count": 0,
      "outputs": [
        {
          "output_type": "execute_result",
          "data": {
            "text/plain": [
              "2013-01-01    0.312922\n",
              "2013-01-02    3.029970\n",
              "2013-01-03   -1.198694\n",
              "2013-01-04    1.172567\n",
              "dtype: float64"
            ]
          },
          "metadata": {
            "tags": []
          },
          "execution_count": 95
        }
      ]
    },
    {
      "cell_type": "code",
      "metadata": {
        "id": "Gha_LwNnHldE",
        "colab_type": "code",
        "outputId": "cb5726f1-8516-4440-d953-d253a349513b",
        "colab": {
          "base_uri": "https://localhost:8080/",
          "height": 102
        }
      },
      "source": [
        "df1.mean(1)"
      ],
      "execution_count": 0,
      "outputs": [
        {
          "output_type": "execute_result",
          "data": {
            "text/plain": [
              "2013-01-01    0.062584\n",
              "2013-01-02    0.605994\n",
              "2013-01-03   -0.299673\n",
              "2013-01-04    0.293142\n",
              "dtype: float64"
            ]
          },
          "metadata": {
            "tags": []
          },
          "execution_count": 96
        }
      ]
    },
    {
      "cell_type": "code",
      "metadata": {
        "id": "73fA9HOYH0XG",
        "colab_type": "code",
        "outputId": "b694a9a9-3dcf-4c47-cf96-560188a55c0b",
        "colab": {
          "base_uri": "https://localhost:8080/",
          "height": 173
        }
      },
      "source": [
        "df1"
      ],
      "execution_count": 0,
      "outputs": [
        {
          "output_type": "execute_result",
          "data": {
            "text/html": [
              "<div>\n",
              "<style scoped>\n",
              "    .dataframe tbody tr th:only-of-type {\n",
              "        vertical-align: middle;\n",
              "    }\n",
              "\n",
              "    .dataframe tbody tr th {\n",
              "        vertical-align: top;\n",
              "    }\n",
              "\n",
              "    .dataframe thead th {\n",
              "        text-align: right;\n",
              "    }\n",
              "</style>\n",
              "<table border=\"1\" class=\"dataframe\">\n",
              "  <thead>\n",
              "    <tr style=\"text-align: right;\">\n",
              "      <th></th>\n",
              "      <th>A</th>\n",
              "      <th>B</th>\n",
              "      <th>C</th>\n",
              "      <th>D</th>\n",
              "      <th>E</th>\n",
              "    </tr>\n",
              "  </thead>\n",
              "  <tbody>\n",
              "    <tr>\n",
              "      <th>2013-01-01</th>\n",
              "      <td>0.147386</td>\n",
              "      <td>-0.483563</td>\n",
              "      <td>0.105069</td>\n",
              "      <td>-0.455969</td>\n",
              "      <td>1.0</td>\n",
              "    </tr>\n",
              "    <tr>\n",
              "      <th>2013-01-02</th>\n",
              "      <td>0.312940</td>\n",
              "      <td>0.916141</td>\n",
              "      <td>-0.128612</td>\n",
              "      <td>0.929501</td>\n",
              "      <td>1.0</td>\n",
              "    </tr>\n",
              "    <tr>\n",
              "      <th>2013-01-03</th>\n",
              "      <td>-0.663498</td>\n",
              "      <td>-0.239579</td>\n",
              "      <td>-1.038062</td>\n",
              "      <td>0.742446</td>\n",
              "      <td>NaN</td>\n",
              "    </tr>\n",
              "    <tr>\n",
              "      <th>2013-01-04</th>\n",
              "      <td>0.638875</td>\n",
              "      <td>0.727247</td>\n",
              "      <td>0.502658</td>\n",
              "      <td>-0.696213</td>\n",
              "      <td>NaN</td>\n",
              "    </tr>\n",
              "  </tbody>\n",
              "</table>\n",
              "</div>"
            ],
            "text/plain": [
              "                   A         B         C         D    E\n",
              "2013-01-01  0.147386 -0.483563  0.105069 -0.455969  1.0\n",
              "2013-01-02  0.312940  0.916141 -0.128612  0.929501  1.0\n",
              "2013-01-03 -0.663498 -0.239579 -1.038062  0.742446  NaN\n",
              "2013-01-04  0.638875  0.727247  0.502658 -0.696213  NaN"
            ]
          },
          "metadata": {
            "tags": []
          },
          "execution_count": 97
        }
      ]
    },
    {
      "cell_type": "code",
      "metadata": {
        "id": "jhsQXM6zHpyX",
        "colab_type": "code",
        "outputId": "2327ed5a-29d0-4cca-a310-6cc03e118f22",
        "colab": {
          "base_uri": "https://localhost:8080/",
          "height": 173
        }
      },
      "source": [
        "df1.shift(1)"
      ],
      "execution_count": 0,
      "outputs": [
        {
          "output_type": "execute_result",
          "data": {
            "text/html": [
              "<div>\n",
              "<style scoped>\n",
              "    .dataframe tbody tr th:only-of-type {\n",
              "        vertical-align: middle;\n",
              "    }\n",
              "\n",
              "    .dataframe tbody tr th {\n",
              "        vertical-align: top;\n",
              "    }\n",
              "\n",
              "    .dataframe thead th {\n",
              "        text-align: right;\n",
              "    }\n",
              "</style>\n",
              "<table border=\"1\" class=\"dataframe\">\n",
              "  <thead>\n",
              "    <tr style=\"text-align: right;\">\n",
              "      <th></th>\n",
              "      <th>A</th>\n",
              "      <th>B</th>\n",
              "      <th>C</th>\n",
              "      <th>D</th>\n",
              "      <th>E</th>\n",
              "    </tr>\n",
              "  </thead>\n",
              "  <tbody>\n",
              "    <tr>\n",
              "      <th>2013-01-01</th>\n",
              "      <td>NaN</td>\n",
              "      <td>NaN</td>\n",
              "      <td>NaN</td>\n",
              "      <td>NaN</td>\n",
              "      <td>NaN</td>\n",
              "    </tr>\n",
              "    <tr>\n",
              "      <th>2013-01-02</th>\n",
              "      <td>0.147386</td>\n",
              "      <td>-0.483563</td>\n",
              "      <td>0.105069</td>\n",
              "      <td>-0.455969</td>\n",
              "      <td>1.0</td>\n",
              "    </tr>\n",
              "    <tr>\n",
              "      <th>2013-01-03</th>\n",
              "      <td>0.312940</td>\n",
              "      <td>0.916141</td>\n",
              "      <td>-0.128612</td>\n",
              "      <td>0.929501</td>\n",
              "      <td>1.0</td>\n",
              "    </tr>\n",
              "    <tr>\n",
              "      <th>2013-01-04</th>\n",
              "      <td>-0.663498</td>\n",
              "      <td>-0.239579</td>\n",
              "      <td>-1.038062</td>\n",
              "      <td>0.742446</td>\n",
              "      <td>NaN</td>\n",
              "    </tr>\n",
              "  </tbody>\n",
              "</table>\n",
              "</div>"
            ],
            "text/plain": [
              "                   A         B         C         D    E\n",
              "2013-01-01       NaN       NaN       NaN       NaN  NaN\n",
              "2013-01-02  0.147386 -0.483563  0.105069 -0.455969  1.0\n",
              "2013-01-03  0.312940  0.916141 -0.128612  0.929501  1.0\n",
              "2013-01-04 -0.663498 -0.239579 -1.038062  0.742446  NaN"
            ]
          },
          "metadata": {
            "tags": []
          },
          "execution_count": 98
        }
      ]
    },
    {
      "cell_type": "code",
      "metadata": {
        "id": "Ygux15C7kqs0",
        "colab_type": "code",
        "colab": {}
      },
      "source": [
        ""
      ],
      "execution_count": 0,
      "outputs": []
    },
    {
      "cell_type": "code",
      "metadata": {
        "id": "i8bwtnf4lrgj",
        "colab_type": "code",
        "outputId": "1f54f69f-c9aa-4402-f989-af02f22f1938",
        "colab": {
          "base_uri": "https://localhost:8080/",
          "height": 241
        }
      },
      "source": [
        "df1.join(df1.shift(1), rsuffix='_Yesterday', lsuffix='').join(df1.shift(2), rsuffix='_2DaysAgo', lsuffix='')"
      ],
      "execution_count": 0,
      "outputs": [
        {
          "output_type": "execute_result",
          "data": {
            "text/html": [
              "<div>\n",
              "<style scoped>\n",
              "    .dataframe tbody tr th:only-of-type {\n",
              "        vertical-align: middle;\n",
              "    }\n",
              "\n",
              "    .dataframe tbody tr th {\n",
              "        vertical-align: top;\n",
              "    }\n",
              "\n",
              "    .dataframe thead th {\n",
              "        text-align: right;\n",
              "    }\n",
              "</style>\n",
              "<table border=\"1\" class=\"dataframe\">\n",
              "  <thead>\n",
              "    <tr style=\"text-align: right;\">\n",
              "      <th></th>\n",
              "      <th>A</th>\n",
              "      <th>B</th>\n",
              "      <th>C</th>\n",
              "      <th>D</th>\n",
              "      <th>E</th>\n",
              "      <th>A_Yesterday</th>\n",
              "      <th>B_Yesterday</th>\n",
              "      <th>C_Yesterday</th>\n",
              "      <th>D_Yesterday</th>\n",
              "      <th>E_Yesterday</th>\n",
              "      <th>A_2DaysAgo</th>\n",
              "      <th>B_2DaysAgo</th>\n",
              "      <th>C_2DaysAgo</th>\n",
              "      <th>D_2DaysAgo</th>\n",
              "      <th>E_2DaysAgo</th>\n",
              "    </tr>\n",
              "  </thead>\n",
              "  <tbody>\n",
              "    <tr>\n",
              "      <th>2013-01-01</th>\n",
              "      <td>0.147386</td>\n",
              "      <td>-0.483563</td>\n",
              "      <td>0.105069</td>\n",
              "      <td>-0.455969</td>\n",
              "      <td>1.0</td>\n",
              "      <td>NaN</td>\n",
              "      <td>NaN</td>\n",
              "      <td>NaN</td>\n",
              "      <td>NaN</td>\n",
              "      <td>NaN</td>\n",
              "      <td>NaN</td>\n",
              "      <td>NaN</td>\n",
              "      <td>NaN</td>\n",
              "      <td>NaN</td>\n",
              "      <td>NaN</td>\n",
              "    </tr>\n",
              "    <tr>\n",
              "      <th>2013-01-02</th>\n",
              "      <td>0.312940</td>\n",
              "      <td>0.916141</td>\n",
              "      <td>-0.128612</td>\n",
              "      <td>0.929501</td>\n",
              "      <td>1.0</td>\n",
              "      <td>0.147386</td>\n",
              "      <td>-0.483563</td>\n",
              "      <td>0.105069</td>\n",
              "      <td>-0.455969</td>\n",
              "      <td>1.0</td>\n",
              "      <td>NaN</td>\n",
              "      <td>NaN</td>\n",
              "      <td>NaN</td>\n",
              "      <td>NaN</td>\n",
              "      <td>NaN</td>\n",
              "    </tr>\n",
              "    <tr>\n",
              "      <th>2013-01-03</th>\n",
              "      <td>-0.663498</td>\n",
              "      <td>-0.239579</td>\n",
              "      <td>-1.038062</td>\n",
              "      <td>0.742446</td>\n",
              "      <td>NaN</td>\n",
              "      <td>0.312940</td>\n",
              "      <td>0.916141</td>\n",
              "      <td>-0.128612</td>\n",
              "      <td>0.929501</td>\n",
              "      <td>1.0</td>\n",
              "      <td>0.147386</td>\n",
              "      <td>-0.483563</td>\n",
              "      <td>0.105069</td>\n",
              "      <td>-0.455969</td>\n",
              "      <td>1.0</td>\n",
              "    </tr>\n",
              "    <tr>\n",
              "      <th>2013-01-04</th>\n",
              "      <td>0.638875</td>\n",
              "      <td>0.727247</td>\n",
              "      <td>0.502658</td>\n",
              "      <td>-0.696213</td>\n",
              "      <td>NaN</td>\n",
              "      <td>-0.663498</td>\n",
              "      <td>-0.239579</td>\n",
              "      <td>-1.038062</td>\n",
              "      <td>0.742446</td>\n",
              "      <td>NaN</td>\n",
              "      <td>0.312940</td>\n",
              "      <td>0.916141</td>\n",
              "      <td>-0.128612</td>\n",
              "      <td>0.929501</td>\n",
              "      <td>1.0</td>\n",
              "    </tr>\n",
              "  </tbody>\n",
              "</table>\n",
              "</div>"
            ],
            "text/plain": [
              "                   A         B         C  ...  C_2DaysAgo  D_2DaysAgo  E_2DaysAgo\n",
              "2013-01-01  0.147386 -0.483563  0.105069  ...         NaN         NaN         NaN\n",
              "2013-01-02  0.312940  0.916141 -0.128612  ...         NaN         NaN         NaN\n",
              "2013-01-03 -0.663498 -0.239579 -1.038062  ...    0.105069   -0.455969         1.0\n",
              "2013-01-04  0.638875  0.727247  0.502658  ...   -0.128612    0.929501         1.0\n",
              "\n",
              "[4 rows x 15 columns]"
            ]
          },
          "metadata": {
            "tags": []
          },
          "execution_count": 99
        }
      ]
    },
    {
      "cell_type": "code",
      "metadata": {
        "id": "DG19Oqnh8Zhq",
        "colab_type": "code",
        "outputId": "2cab1cde-2009-4ffd-c79c-a583e351b8c0",
        "colab": {
          "base_uri": "https://localhost:8080/",
          "height": 235
        }
      },
      "source": [
        "df"
      ],
      "execution_count": 0,
      "outputs": [
        {
          "output_type": "execute_result",
          "data": {
            "text/html": [
              "<div>\n",
              "<style scoped>\n",
              "    .dataframe tbody tr th:only-of-type {\n",
              "        vertical-align: middle;\n",
              "    }\n",
              "\n",
              "    .dataframe tbody tr th {\n",
              "        vertical-align: top;\n",
              "    }\n",
              "\n",
              "    .dataframe thead th {\n",
              "        text-align: right;\n",
              "    }\n",
              "</style>\n",
              "<table border=\"1\" class=\"dataframe\">\n",
              "  <thead>\n",
              "    <tr style=\"text-align: right;\">\n",
              "      <th></th>\n",
              "      <th>A</th>\n",
              "      <th>B</th>\n",
              "      <th>C</th>\n",
              "      <th>D</th>\n",
              "    </tr>\n",
              "  </thead>\n",
              "  <tbody>\n",
              "    <tr>\n",
              "      <th>2013-01-01</th>\n",
              "      <td>-1.680704</td>\n",
              "      <td>0.031517</td>\n",
              "      <td>1.204603</td>\n",
              "      <td>1.968712</td>\n",
              "    </tr>\n",
              "    <tr>\n",
              "      <th>2013-01-02</th>\n",
              "      <td>-2.142850</td>\n",
              "      <td>-2.649671</td>\n",
              "      <td>-1.179119</td>\n",
              "      <td>-0.792110</td>\n",
              "    </tr>\n",
              "    <tr>\n",
              "      <th>2013-01-03</th>\n",
              "      <td>0.461392</td>\n",
              "      <td>-0.411423</td>\n",
              "      <td>0.387210</td>\n",
              "      <td>0.267239</td>\n",
              "    </tr>\n",
              "    <tr>\n",
              "      <th>2013-01-04</th>\n",
              "      <td>0.383249</td>\n",
              "      <td>-0.437396</td>\n",
              "      <td>-0.524174</td>\n",
              "      <td>-0.212485</td>\n",
              "    </tr>\n",
              "    <tr>\n",
              "      <th>2013-01-05</th>\n",
              "      <td>-1.871976</td>\n",
              "      <td>-1.922793</td>\n",
              "      <td>0.481006</td>\n",
              "      <td>1.411477</td>\n",
              "    </tr>\n",
              "    <tr>\n",
              "      <th>2013-01-06</th>\n",
              "      <td>-1.241640</td>\n",
              "      <td>-1.236641</td>\n",
              "      <td>0.550305</td>\n",
              "      <td>-0.710340</td>\n",
              "    </tr>\n",
              "  </tbody>\n",
              "</table>\n",
              "</div>"
            ],
            "text/plain": [
              "                   A         B         C         D\n",
              "2013-01-01 -1.680704  0.031517  1.204603  1.968712\n",
              "2013-01-02 -2.142850 -2.649671 -1.179119 -0.792110\n",
              "2013-01-03  0.461392 -0.411423  0.387210  0.267239\n",
              "2013-01-04  0.383249 -0.437396 -0.524174 -0.212485\n",
              "2013-01-05 -1.871976 -1.922793  0.481006  1.411477\n",
              "2013-01-06 -1.241640 -1.236641  0.550305 -0.710340"
            ]
          },
          "metadata": {
            "tags": []
          },
          "execution_count": 110
        }
      ]
    },
    {
      "cell_type": "code",
      "metadata": {
        "id": "HS7iSOp9IEfv",
        "colab_type": "code",
        "outputId": "44ac6493-368e-43c0-b426-efc349b5ed94",
        "colab": {
          "base_uri": "https://localhost:8080/",
          "height": 578
        }
      },
      "source": [
        "def get_sum_2_3(df_col):\n",
        "  print(df_col)\n",
        "  return(df_col.iloc[[1, 2]].sum())\n",
        "df.apply(get_sum_2_3) #, axis=0)"
      ],
      "execution_count": 0,
      "outputs": [
        {
          "output_type": "stream",
          "text": [
            "2013-01-01   -1.680704\n",
            "2013-01-02   -2.142850\n",
            "2013-01-03    0.461392\n",
            "2013-01-04    0.383249\n",
            "2013-01-05   -1.871976\n",
            "2013-01-06   -1.241640\n",
            "Freq: D, Name: A, dtype: float64\n",
            "2013-01-01    0.031517\n",
            "2013-01-02   -2.649671\n",
            "2013-01-03   -0.411423\n",
            "2013-01-04   -0.437396\n",
            "2013-01-05   -1.922793\n",
            "2013-01-06   -1.236641\n",
            "Freq: D, Name: B, dtype: float64\n",
            "2013-01-01    1.204603\n",
            "2013-01-02   -1.179119\n",
            "2013-01-03    0.387210\n",
            "2013-01-04   -0.524174\n",
            "2013-01-05    0.481006\n",
            "2013-01-06    0.550305\n",
            "Freq: D, Name: C, dtype: float64\n",
            "2013-01-01    1.968712\n",
            "2013-01-02   -0.792110\n",
            "2013-01-03    0.267239\n",
            "2013-01-04   -0.212485\n",
            "2013-01-05    1.411477\n",
            "2013-01-06   -0.710340\n",
            "Freq: D, Name: D, dtype: float64\n"
          ],
          "name": "stdout"
        },
        {
          "output_type": "execute_result",
          "data": {
            "text/plain": [
              "A   -1.681458\n",
              "B   -3.061094\n",
              "C   -0.791909\n",
              "D   -0.524871\n",
              "dtype: float64"
            ]
          },
          "metadata": {
            "tags": []
          },
          "execution_count": 109
        }
      ]
    },
    {
      "cell_type": "code",
      "metadata": {
        "id": "frnNlUu6Id0W",
        "colab_type": "code",
        "outputId": "c762d94b-7357-402a-d5d3-c29dd7a2b630",
        "colab": {
          "base_uri": "https://localhost:8080/",
          "height": 646
        }
      },
      "source": [
        "def get_sum_2_3(df):\n",
        "  print(df)\n",
        "  return(df.iloc[[2, 3]].sum())\n",
        "\n",
        "df.apply(get_sum_2_3, axis=1)"
      ],
      "execution_count": 0,
      "outputs": [
        {
          "output_type": "stream",
          "text": [
            "A   -1.680704\n",
            "B    0.031517\n",
            "C    1.204603\n",
            "D    1.968712\n",
            "Name: 2013-01-01T00:00:00.000000000, dtype: float64\n",
            "A   -2.142850\n",
            "B   -2.649671\n",
            "C   -1.179119\n",
            "D   -0.792110\n",
            "Name: 2013-01-02T00:00:00.000000000, dtype: float64\n",
            "A    0.461392\n",
            "B   -0.411423\n",
            "C    0.387210\n",
            "D    0.267239\n",
            "Name: 2013-01-03T00:00:00.000000000, dtype: float64\n",
            "A    0.383249\n",
            "B   -0.437396\n",
            "C   -0.524174\n",
            "D   -0.212485\n",
            "Name: 2013-01-04T00:00:00.000000000, dtype: float64\n",
            "A   -1.871976\n",
            "B   -1.922793\n",
            "C    0.481006\n",
            "D    1.411477\n",
            "Name: 2013-01-05T00:00:00.000000000, dtype: float64\n",
            "A   -1.241640\n",
            "B   -1.236641\n",
            "C    0.550305\n",
            "D   -0.710340\n",
            "Name: 2013-01-06T00:00:00.000000000, dtype: float64\n"
          ],
          "name": "stdout"
        },
        {
          "output_type": "execute_result",
          "data": {
            "text/plain": [
              "2013-01-01    3.173315\n",
              "2013-01-02   -1.971229\n",
              "2013-01-03    0.654449\n",
              "2013-01-04   -0.736659\n",
              "2013-01-05    1.892483\n",
              "2013-01-06   -0.160034\n",
              "Freq: D, dtype: float64"
            ]
          },
          "metadata": {
            "tags": []
          },
          "execution_count": 111
        }
      ]
    },
    {
      "cell_type": "code",
      "metadata": {
        "id": "xoY_RO-Z9lZz",
        "colab_type": "code",
        "outputId": "5299402b-1fb9-49cc-dec3-c368b7b1cf29",
        "colab": {
          "base_uri": "https://localhost:8080/",
          "height": 238
        }
      },
      "source": [
        "# df.A.apply(lambda x: [print(x), x**2][1])\n",
        "df.A.apply(lambda x: print(x))\n",
        "df.A.apply(lambda x: x**2)"
      ],
      "execution_count": 0,
      "outputs": [
        {
          "output_type": "stream",
          "text": [
            "-1.680704342873072\n",
            "-2.142850030704695\n",
            "0.4613916689946128\n",
            "0.38324855385746764\n",
            "-1.8719760773239438\n",
            "-1.2416399746262803\n"
          ],
          "name": "stdout"
        },
        {
          "output_type": "execute_result",
          "data": {
            "text/plain": [
              "2013-01-01    2.824767\n",
              "2013-01-02    4.591806\n",
              "2013-01-03    0.212882\n",
              "2013-01-04    0.146879\n",
              "2013-01-05    3.504294\n",
              "2013-01-06    1.541670\n",
              "Freq: D, Name: A, dtype: float64"
            ]
          },
          "metadata": {
            "tags": []
          },
          "execution_count": 118
        }
      ]
    },
    {
      "cell_type": "code",
      "metadata": {
        "id": "sAvZl5xv99-y",
        "colab_type": "code",
        "outputId": "93aa5917-9afc-4bba-df14-f2bdeab00475",
        "colab": {
          "base_uri": "https://localhost:8080/",
          "height": 646
        }
      },
      "source": [
        "# df.apply(lambda x: [print(x), x.A**2][1], axis=1)\n",
        "df.apply(lambda x: print(x), axis=1)\n",
        "df.apply(lambda x: x.A**2, axis=1)"
      ],
      "execution_count": 0,
      "outputs": [
        {
          "output_type": "stream",
          "text": [
            "A   -1.680704\n",
            "B    0.031517\n",
            "C    1.204603\n",
            "D    1.968712\n",
            "Name: 2013-01-01T00:00:00.000000000, dtype: float64\n",
            "A   -2.142850\n",
            "B   -2.649671\n",
            "C   -1.179119\n",
            "D   -0.792110\n",
            "Name: 2013-01-02T00:00:00.000000000, dtype: float64\n",
            "A    0.461392\n",
            "B   -0.411423\n",
            "C    0.387210\n",
            "D    0.267239\n",
            "Name: 2013-01-03T00:00:00.000000000, dtype: float64\n",
            "A    0.383249\n",
            "B   -0.437396\n",
            "C   -0.524174\n",
            "D   -0.212485\n",
            "Name: 2013-01-04T00:00:00.000000000, dtype: float64\n",
            "A   -1.871976\n",
            "B   -1.922793\n",
            "C    0.481006\n",
            "D    1.411477\n",
            "Name: 2013-01-05T00:00:00.000000000, dtype: float64\n",
            "A   -1.241640\n",
            "B   -1.236641\n",
            "C    0.550305\n",
            "D   -0.710340\n",
            "Name: 2013-01-06T00:00:00.000000000, dtype: float64\n"
          ],
          "name": "stdout"
        },
        {
          "output_type": "execute_result",
          "data": {
            "text/plain": [
              "2013-01-01    2.824767\n",
              "2013-01-02    4.591806\n",
              "2013-01-03    0.212882\n",
              "2013-01-04    0.146879\n",
              "2013-01-05    3.504294\n",
              "2013-01-06    1.541670\n",
              "Freq: D, dtype: float64"
            ]
          },
          "metadata": {
            "tags": []
          },
          "execution_count": 119
        }
      ]
    },
    {
      "cell_type": "code",
      "metadata": {
        "id": "Ky2FKRmSI7uu",
        "colab_type": "code",
        "outputId": "ac9d37c9-c093-4f70-c5d5-d6f23adb1360",
        "colab": {
          "base_uri": "https://localhost:8080/",
          "height": 136
        }
      },
      "source": [
        "df.apply(lambda x: x.iloc[[2, 3]].sum(), axis=1)"
      ],
      "execution_count": 0,
      "outputs": [
        {
          "output_type": "execute_result",
          "data": {
            "text/plain": [
              "2013-01-01    3.173315\n",
              "2013-01-02   -1.971229\n",
              "2013-01-03    0.654449\n",
              "2013-01-04   -0.736659\n",
              "2013-01-05    1.892483\n",
              "2013-01-06   -0.160034\n",
              "Freq: D, dtype: float64"
            ]
          },
          "metadata": {
            "tags": []
          },
          "execution_count": 120
        }
      ]
    },
    {
      "cell_type": "code",
      "metadata": {
        "id": "RpnS04FcJKhq",
        "colab_type": "code",
        "outputId": "4adba39a-fa22-48c3-dc6c-7373b0d9adb5",
        "colab": {
          "base_uri": "https://localhost:8080/",
          "height": 102
        }
      },
      "source": [
        "df.apply(np.mean)"
      ],
      "execution_count": 0,
      "outputs": [
        {
          "output_type": "execute_result",
          "data": {
            "text/plain": [
              "A   -1.015422\n",
              "B   -1.104401\n",
              "C    0.153305\n",
              "D    0.322082\n",
              "dtype: float64"
            ]
          },
          "metadata": {
            "tags": []
          },
          "execution_count": 121
        }
      ]
    },
    {
      "cell_type": "code",
      "metadata": {
        "id": "JxI3o4VpJQM6",
        "colab_type": "code",
        "outputId": "f80c86ec-1734-435d-cc35-d23ac2915e0a",
        "colab": {
          "base_uri": "https://localhost:8080/",
          "height": 136
        }
      },
      "source": [
        "df.apply(np.mean, axis=1)"
      ],
      "execution_count": 0,
      "outputs": [
        {
          "output_type": "execute_result",
          "data": {
            "text/plain": [
              "2013-01-01    0.381032\n",
              "2013-01-02   -1.690937\n",
              "2013-01-03    0.176104\n",
              "2013-01-04   -0.197701\n",
              "2013-01-05   -0.475572\n",
              "2013-01-06   -0.659579\n",
              "Freq: D, dtype: float64"
            ]
          },
          "metadata": {
            "tags": []
          },
          "execution_count": 122
        }
      ]
    },
    {
      "cell_type": "code",
      "metadata": {
        "id": "IoMpt5AoJbyr",
        "colab_type": "code",
        "outputId": "21f5b9fd-ba69-4f24-ad00-0d6aab7941da",
        "colab": {
          "base_uri": "https://localhost:8080/",
          "height": 235
        }
      },
      "source": [
        "df"
      ],
      "execution_count": 0,
      "outputs": [
        {
          "output_type": "execute_result",
          "data": {
            "text/html": [
              "<div>\n",
              "<style scoped>\n",
              "    .dataframe tbody tr th:only-of-type {\n",
              "        vertical-align: middle;\n",
              "    }\n",
              "\n",
              "    .dataframe tbody tr th {\n",
              "        vertical-align: top;\n",
              "    }\n",
              "\n",
              "    .dataframe thead th {\n",
              "        text-align: right;\n",
              "    }\n",
              "</style>\n",
              "<table border=\"1\" class=\"dataframe\">\n",
              "  <thead>\n",
              "    <tr style=\"text-align: right;\">\n",
              "      <th></th>\n",
              "      <th>A</th>\n",
              "      <th>B</th>\n",
              "      <th>C</th>\n",
              "      <th>D</th>\n",
              "    </tr>\n",
              "  </thead>\n",
              "  <tbody>\n",
              "    <tr>\n",
              "      <th>2013-01-01</th>\n",
              "      <td>-1.680704</td>\n",
              "      <td>0.031517</td>\n",
              "      <td>1.204603</td>\n",
              "      <td>1.968712</td>\n",
              "    </tr>\n",
              "    <tr>\n",
              "      <th>2013-01-02</th>\n",
              "      <td>-2.142850</td>\n",
              "      <td>-2.649671</td>\n",
              "      <td>-1.179119</td>\n",
              "      <td>-0.792110</td>\n",
              "    </tr>\n",
              "    <tr>\n",
              "      <th>2013-01-03</th>\n",
              "      <td>0.461392</td>\n",
              "      <td>-0.411423</td>\n",
              "      <td>0.387210</td>\n",
              "      <td>0.267239</td>\n",
              "    </tr>\n",
              "    <tr>\n",
              "      <th>2013-01-04</th>\n",
              "      <td>0.383249</td>\n",
              "      <td>-0.437396</td>\n",
              "      <td>-0.524174</td>\n",
              "      <td>-0.212485</td>\n",
              "    </tr>\n",
              "    <tr>\n",
              "      <th>2013-01-05</th>\n",
              "      <td>-1.871976</td>\n",
              "      <td>-1.922793</td>\n",
              "      <td>0.481006</td>\n",
              "      <td>1.411477</td>\n",
              "    </tr>\n",
              "    <tr>\n",
              "      <th>2013-01-06</th>\n",
              "      <td>-1.241640</td>\n",
              "      <td>-1.236641</td>\n",
              "      <td>0.550305</td>\n",
              "      <td>-0.710340</td>\n",
              "    </tr>\n",
              "  </tbody>\n",
              "</table>\n",
              "</div>"
            ],
            "text/plain": [
              "                   A         B         C         D\n",
              "2013-01-01 -1.680704  0.031517  1.204603  1.968712\n",
              "2013-01-02 -2.142850 -2.649671 -1.179119 -0.792110\n",
              "2013-01-03  0.461392 -0.411423  0.387210  0.267239\n",
              "2013-01-04  0.383249 -0.437396 -0.524174 -0.212485\n",
              "2013-01-05 -1.871976 -1.922793  0.481006  1.411477\n",
              "2013-01-06 -1.241640 -1.236641  0.550305 -0.710340"
            ]
          },
          "metadata": {
            "tags": []
          },
          "execution_count": 123
        }
      ]
    },
    {
      "cell_type": "code",
      "metadata": {
        "id": "8tYCXM5aJSd0",
        "colab_type": "code",
        "outputId": "3551dcf0-d59e-4b96-e7d5-d8eb7a5a9ad8",
        "colab": {
          "base_uri": "https://localhost:8080/",
          "height": 235
        }
      },
      "source": [
        "df.apply(np.cumsum)"
      ],
      "execution_count": 0,
      "outputs": [
        {
          "output_type": "execute_result",
          "data": {
            "text/html": [
              "<div>\n",
              "<style scoped>\n",
              "    .dataframe tbody tr th:only-of-type {\n",
              "        vertical-align: middle;\n",
              "    }\n",
              "\n",
              "    .dataframe tbody tr th {\n",
              "        vertical-align: top;\n",
              "    }\n",
              "\n",
              "    .dataframe thead th {\n",
              "        text-align: right;\n",
              "    }\n",
              "</style>\n",
              "<table border=\"1\" class=\"dataframe\">\n",
              "  <thead>\n",
              "    <tr style=\"text-align: right;\">\n",
              "      <th></th>\n",
              "      <th>A</th>\n",
              "      <th>B</th>\n",
              "      <th>C</th>\n",
              "      <th>D</th>\n",
              "    </tr>\n",
              "  </thead>\n",
              "  <tbody>\n",
              "    <tr>\n",
              "      <th>2013-01-01</th>\n",
              "      <td>-1.680704</td>\n",
              "      <td>0.031517</td>\n",
              "      <td>1.204603</td>\n",
              "      <td>1.968712</td>\n",
              "    </tr>\n",
              "    <tr>\n",
              "      <th>2013-01-02</th>\n",
              "      <td>-3.823554</td>\n",
              "      <td>-2.618155</td>\n",
              "      <td>0.025484</td>\n",
              "      <td>1.176602</td>\n",
              "    </tr>\n",
              "    <tr>\n",
              "      <th>2013-01-03</th>\n",
              "      <td>-3.362163</td>\n",
              "      <td>-3.029577</td>\n",
              "      <td>0.412694</td>\n",
              "      <td>1.443841</td>\n",
              "    </tr>\n",
              "    <tr>\n",
              "      <th>2013-01-04</th>\n",
              "      <td>-2.978914</td>\n",
              "      <td>-3.466973</td>\n",
              "      <td>-0.111480</td>\n",
              "      <td>1.231356</td>\n",
              "    </tr>\n",
              "    <tr>\n",
              "      <th>2013-01-05</th>\n",
              "      <td>-4.850890</td>\n",
              "      <td>-5.389767</td>\n",
              "      <td>0.369527</td>\n",
              "      <td>2.642833</td>\n",
              "    </tr>\n",
              "    <tr>\n",
              "      <th>2013-01-06</th>\n",
              "      <td>-6.092530</td>\n",
              "      <td>-6.626408</td>\n",
              "      <td>0.919832</td>\n",
              "      <td>1.932493</td>\n",
              "    </tr>\n",
              "  </tbody>\n",
              "</table>\n",
              "</div>"
            ],
            "text/plain": [
              "                   A         B         C         D\n",
              "2013-01-01 -1.680704  0.031517  1.204603  1.968712\n",
              "2013-01-02 -3.823554 -2.618155  0.025484  1.176602\n",
              "2013-01-03 -3.362163 -3.029577  0.412694  1.443841\n",
              "2013-01-04 -2.978914 -3.466973 -0.111480  1.231356\n",
              "2013-01-05 -4.850890 -5.389767  0.369527  2.642833\n",
              "2013-01-06 -6.092530 -6.626408  0.919832  1.932493"
            ]
          },
          "metadata": {
            "tags": []
          },
          "execution_count": 124
        }
      ]
    },
    {
      "cell_type": "code",
      "metadata": {
        "id": "bIhGx0SfNceZ",
        "colab_type": "code",
        "outputId": "21810be8-ac81-497c-bc84-76b2c545113e",
        "colab": {
          "base_uri": "https://localhost:8080/",
          "height": 173
        }
      },
      "source": [
        "df2"
      ],
      "execution_count": 0,
      "outputs": [
        {
          "output_type": "execute_result",
          "data": {
            "text/html": [
              "<div>\n",
              "<style scoped>\n",
              "    .dataframe tbody tr th:only-of-type {\n",
              "        vertical-align: middle;\n",
              "    }\n",
              "\n",
              "    .dataframe tbody tr th {\n",
              "        vertical-align: top;\n",
              "    }\n",
              "\n",
              "    .dataframe thead th {\n",
              "        text-align: right;\n",
              "    }\n",
              "</style>\n",
              "<table border=\"1\" class=\"dataframe\">\n",
              "  <thead>\n",
              "    <tr style=\"text-align: right;\">\n",
              "      <th></th>\n",
              "      <th>A</th>\n",
              "      <th>B</th>\n",
              "      <th>C</th>\n",
              "      <th>D</th>\n",
              "      <th>E</th>\n",
              "      <th>F</th>\n",
              "      <th>G</th>\n",
              "      <th>H</th>\n",
              "    </tr>\n",
              "  </thead>\n",
              "  <tbody>\n",
              "    <tr>\n",
              "      <th>A</th>\n",
              "      <td>1.0</td>\n",
              "      <td>2013-01-02</td>\n",
              "      <td>1.0</td>\n",
              "      <td>3</td>\n",
              "      <td>test</td>\n",
              "      <td>foo</td>\n",
              "      <td>5.0</td>\n",
              "      <td>5</td>\n",
              "    </tr>\n",
              "    <tr>\n",
              "      <th>B</th>\n",
              "      <td>1.0</td>\n",
              "      <td>2013-01-02</td>\n",
              "      <td>5.0</td>\n",
              "      <td>3</td>\n",
              "      <td>train</td>\n",
              "      <td>foo</td>\n",
              "      <td>7.0</td>\n",
              "      <td>7</td>\n",
              "    </tr>\n",
              "    <tr>\n",
              "      <th>C</th>\n",
              "      <td>1.0</td>\n",
              "      <td>2013-01-02</td>\n",
              "      <td>3.0</td>\n",
              "      <td>3</td>\n",
              "      <td>test</td>\n",
              "      <td>foo</td>\n",
              "      <td>3.0</td>\n",
              "      <td>2</td>\n",
              "    </tr>\n",
              "    <tr>\n",
              "      <th>D</th>\n",
              "      <td>1.0</td>\n",
              "      <td>2013-01-02</td>\n",
              "      <td>7.0</td>\n",
              "      <td>3</td>\n",
              "      <td>train</td>\n",
              "      <td>foo</td>\n",
              "      <td>1.0</td>\n",
              "      <td>5</td>\n",
              "    </tr>\n",
              "  </tbody>\n",
              "</table>\n",
              "</div>"
            ],
            "text/plain": [
              "     A          B    C  D      E    F    G  H\n",
              "A  1.0 2013-01-02  1.0  3   test  foo  5.0  5\n",
              "B  1.0 2013-01-02  5.0  3  train  foo  7.0  7\n",
              "C  1.0 2013-01-02  3.0  3   test  foo  3.0  2\n",
              "D  1.0 2013-01-02  7.0  3  train  foo  1.0  5"
            ]
          },
          "metadata": {
            "tags": []
          },
          "execution_count": 125
        }
      ]
    },
    {
      "cell_type": "code",
      "metadata": {
        "id": "SOkxsrdZ_kBi",
        "colab_type": "code",
        "outputId": "f9e0da2f-4260-4022-ba57-fe76eca8029e",
        "colab": {
          "base_uri": "https://localhost:8080/",
          "height": 102
        }
      },
      "source": [
        "df2.A"
      ],
      "execution_count": 0,
      "outputs": [
        {
          "output_type": "execute_result",
          "data": {
            "text/plain": [
              "A    1.0\n",
              "B    1.0\n",
              "C    1.0\n",
              "D    1.0\n",
              "Name: A, dtype: float64"
            ]
          },
          "metadata": {
            "tags": []
          },
          "execution_count": 128
        }
      ]
    },
    {
      "cell_type": "code",
      "metadata": {
        "id": "wg50HUeLJ2Na",
        "colab_type": "code",
        "outputId": "b3525218-b606-40f6-87f1-b65f75099b6b",
        "colab": {
          "base_uri": "https://localhost:8080/",
          "height": 102
        }
      },
      "source": [
        "df2.A.apply(lambda x: str(x)).str.cat(df2.F, sep=' - ')"
      ],
      "execution_count": 0,
      "outputs": [
        {
          "output_type": "execute_result",
          "data": {
            "text/plain": [
              "A    1.0 - foo\n",
              "B    1.0 - foo\n",
              "C    1.0 - foo\n",
              "D    1.0 - foo\n",
              "Name: A, dtype: object"
            ]
          },
          "metadata": {
            "tags": []
          },
          "execution_count": 129
        }
      ]
    },
    {
      "cell_type": "code",
      "metadata": {
        "id": "7557IgluAQpj",
        "colab_type": "code",
        "colab": {}
      },
      "source": [
        "# 2.B.dt.<tab>\n",
        "# 2.F.str.<tab>"
      ],
      "execution_count": 0,
      "outputs": []
    },
    {
      "cell_type": "code",
      "metadata": {
        "id": "r6_Hyh8cABBM",
        "colab_type": "code",
        "outputId": "f054ec1b-e927-47a8-fb20-d70c2a7f13bc",
        "colab": {
          "base_uri": "https://localhost:8080/",
          "height": 102
        }
      },
      "source": [
        "df2.F.str.capitalize()"
      ],
      "execution_count": 0,
      "outputs": [
        {
          "output_type": "execute_result",
          "data": {
            "text/plain": [
              "A    Foo\n",
              "B    Foo\n",
              "C    Foo\n",
              "D    Foo\n",
              "Name: F, dtype: object"
            ]
          },
          "metadata": {
            "tags": []
          },
          "execution_count": 136
        }
      ]
    },
    {
      "cell_type": "code",
      "metadata": {
        "id": "56o_ZWWTBtNr",
        "colab_type": "code",
        "outputId": "48102ecc-f2a4-4e9a-c491-f3642852d7f6",
        "colab": {
          "base_uri": "https://localhost:8080/",
          "height": 102
        }
      },
      "source": [
        "df2.F.apply(lambda x: x.capitalize())"
      ],
      "execution_count": 0,
      "outputs": [
        {
          "output_type": "execute_result",
          "data": {
            "text/plain": [
              "A    Foo\n",
              "B    Foo\n",
              "C    Foo\n",
              "D    Foo\n",
              "Name: F, dtype: object"
            ]
          },
          "metadata": {
            "tags": []
          },
          "execution_count": 137
        }
      ]
    },
    {
      "cell_type": "code",
      "metadata": {
        "id": "jvsvRUA7KMxL",
        "colab_type": "code",
        "outputId": "73eee509-6148-4718-eab8-d5f7fcd7ffe5",
        "colab": {
          "base_uri": "https://localhost:8080/",
          "height": 359
        }
      },
      "source": [
        "df = pd.DataFrame(np.random.randn(10, 4))\n",
        "pieces = [df[:3], df[3:7], df[7:]]\n",
        "pieces = [df[:3].copy(), df[3:7].copy(), df[7:].copy()]\n",
        "df"
      ],
      "execution_count": 0,
      "outputs": [
        {
          "output_type": "execute_result",
          "data": {
            "text/html": [
              "<div>\n",
              "<style scoped>\n",
              "    .dataframe tbody tr th:only-of-type {\n",
              "        vertical-align: middle;\n",
              "    }\n",
              "\n",
              "    .dataframe tbody tr th {\n",
              "        vertical-align: top;\n",
              "    }\n",
              "\n",
              "    .dataframe thead th {\n",
              "        text-align: right;\n",
              "    }\n",
              "</style>\n",
              "<table border=\"1\" class=\"dataframe\">\n",
              "  <thead>\n",
              "    <tr style=\"text-align: right;\">\n",
              "      <th></th>\n",
              "      <th>0</th>\n",
              "      <th>1</th>\n",
              "      <th>2</th>\n",
              "      <th>3</th>\n",
              "    </tr>\n",
              "  </thead>\n",
              "  <tbody>\n",
              "    <tr>\n",
              "      <th>0</th>\n",
              "      <td>-1.491690</td>\n",
              "      <td>0.182492</td>\n",
              "      <td>0.197938</td>\n",
              "      <td>-2.594877</td>\n",
              "    </tr>\n",
              "    <tr>\n",
              "      <th>1</th>\n",
              "      <td>2.424784</td>\n",
              "      <td>0.141677</td>\n",
              "      <td>0.252952</td>\n",
              "      <td>0.134764</td>\n",
              "    </tr>\n",
              "    <tr>\n",
              "      <th>2</th>\n",
              "      <td>-0.462250</td>\n",
              "      <td>0.970214</td>\n",
              "      <td>0.095925</td>\n",
              "      <td>-0.709737</td>\n",
              "    </tr>\n",
              "    <tr>\n",
              "      <th>3</th>\n",
              "      <td>0.613373</td>\n",
              "      <td>-0.874859</td>\n",
              "      <td>-0.116742</td>\n",
              "      <td>-2.406069</td>\n",
              "    </tr>\n",
              "    <tr>\n",
              "      <th>4</th>\n",
              "      <td>1.194217</td>\n",
              "      <td>-0.982609</td>\n",
              "      <td>0.079638</td>\n",
              "      <td>0.772230</td>\n",
              "    </tr>\n",
              "    <tr>\n",
              "      <th>5</th>\n",
              "      <td>-0.023809</td>\n",
              "      <td>0.023997</td>\n",
              "      <td>-0.672300</td>\n",
              "      <td>-2.335959</td>\n",
              "    </tr>\n",
              "    <tr>\n",
              "      <th>6</th>\n",
              "      <td>0.424751</td>\n",
              "      <td>-1.031522</td>\n",
              "      <td>0.218559</td>\n",
              "      <td>1.756925</td>\n",
              "    </tr>\n",
              "    <tr>\n",
              "      <th>7</th>\n",
              "      <td>0.370677</td>\n",
              "      <td>-1.226213</td>\n",
              "      <td>-0.395286</td>\n",
              "      <td>-0.539126</td>\n",
              "    </tr>\n",
              "    <tr>\n",
              "      <th>8</th>\n",
              "      <td>-1.239608</td>\n",
              "      <td>-0.018446</td>\n",
              "      <td>-1.108119</td>\n",
              "      <td>0.691600</td>\n",
              "    </tr>\n",
              "    <tr>\n",
              "      <th>9</th>\n",
              "      <td>1.209424</td>\n",
              "      <td>0.209350</td>\n",
              "      <td>0.114941</td>\n",
              "      <td>1.034735</td>\n",
              "    </tr>\n",
              "  </tbody>\n",
              "</table>\n",
              "</div>"
            ],
            "text/plain": [
              "          0         1         2         3\n",
              "0 -1.491690  0.182492  0.197938 -2.594877\n",
              "1  2.424784  0.141677  0.252952  0.134764\n",
              "2 -0.462250  0.970214  0.095925 -0.709737\n",
              "3  0.613373 -0.874859 -0.116742 -2.406069\n",
              "4  1.194217 -0.982609  0.079638  0.772230\n",
              "5 -0.023809  0.023997 -0.672300 -2.335959\n",
              "6  0.424751 -1.031522  0.218559  1.756925\n",
              "7  0.370677 -1.226213 -0.395286 -0.539126\n",
              "8 -1.239608 -0.018446 -1.108119  0.691600\n",
              "9  1.209424  0.209350  0.114941  1.034735"
            ]
          },
          "metadata": {
            "tags": []
          },
          "execution_count": 140
        }
      ]
    },
    {
      "cell_type": "code",
      "metadata": {
        "id": "PGNnDcEZCEee",
        "colab_type": "code",
        "outputId": "6e4f21e6-4cc1-42e1-de92-acb8748ea9b5",
        "colab": {
          "base_uri": "https://localhost:8080/",
          "height": 238
        }
      },
      "source": [
        "pieces"
      ],
      "execution_count": 0,
      "outputs": [
        {
          "output_type": "execute_result",
          "data": {
            "text/plain": [
              "[          0         1         2         3\n",
              " 0 -1.491690  0.182492  0.197938 -2.594877\n",
              " 1  2.424784  0.141677  0.252952  0.134764\n",
              " 2 -0.462250  0.970214  0.095925 -0.709737,\n",
              "           0         1         2         3\n",
              " 3  0.613373 -0.874859 -0.116742 -2.406069\n",
              " 4  1.194217 -0.982609  0.079638  0.772230\n",
              " 5 -0.023809  0.023997 -0.672300 -2.335959\n",
              " 6  0.424751 -1.031522  0.218559  1.756925,\n",
              "           0         1         2         3\n",
              " 7  0.370677 -1.226213 -0.395286 -0.539126\n",
              " 8 -1.239608 -0.018446 -1.108119  0.691600\n",
              " 9  1.209424  0.209350  0.114941  1.034735]"
            ]
          },
          "metadata": {
            "tags": []
          },
          "execution_count": 141
        }
      ]
    },
    {
      "cell_type": "code",
      "metadata": {
        "id": "BRo3lIMqK5yd",
        "colab_type": "code",
        "outputId": "0b254c6c-127b-44eb-8f16-778cce3e0ba3",
        "colab": {
          "base_uri": "https://localhost:8080/",
          "height": 142
        }
      },
      "source": [
        "pieces[0]"
      ],
      "execution_count": 0,
      "outputs": [
        {
          "output_type": "execute_result",
          "data": {
            "text/html": [
              "<div>\n",
              "<style scoped>\n",
              "    .dataframe tbody tr th:only-of-type {\n",
              "        vertical-align: middle;\n",
              "    }\n",
              "\n",
              "    .dataframe tbody tr th {\n",
              "        vertical-align: top;\n",
              "    }\n",
              "\n",
              "    .dataframe thead th {\n",
              "        text-align: right;\n",
              "    }\n",
              "</style>\n",
              "<table border=\"1\" class=\"dataframe\">\n",
              "  <thead>\n",
              "    <tr style=\"text-align: right;\">\n",
              "      <th></th>\n",
              "      <th>0</th>\n",
              "      <th>1</th>\n",
              "      <th>2</th>\n",
              "      <th>3</th>\n",
              "    </tr>\n",
              "  </thead>\n",
              "  <tbody>\n",
              "    <tr>\n",
              "      <th>0</th>\n",
              "      <td>-1.491690</td>\n",
              "      <td>0.182492</td>\n",
              "      <td>0.197938</td>\n",
              "      <td>-2.594877</td>\n",
              "    </tr>\n",
              "    <tr>\n",
              "      <th>1</th>\n",
              "      <td>2.424784</td>\n",
              "      <td>0.141677</td>\n",
              "      <td>0.252952</td>\n",
              "      <td>0.134764</td>\n",
              "    </tr>\n",
              "    <tr>\n",
              "      <th>2</th>\n",
              "      <td>-0.462250</td>\n",
              "      <td>0.970214</td>\n",
              "      <td>0.095925</td>\n",
              "      <td>-0.709737</td>\n",
              "    </tr>\n",
              "  </tbody>\n",
              "</table>\n",
              "</div>"
            ],
            "text/plain": [
              "          0         1         2         3\n",
              "0 -1.491690  0.182492  0.197938 -2.594877\n",
              "1  2.424784  0.141677  0.252952  0.134764\n",
              "2 -0.462250  0.970214  0.095925 -0.709737"
            ]
          },
          "metadata": {
            "tags": []
          },
          "execution_count": 142
        }
      ]
    },
    {
      "cell_type": "code",
      "metadata": {
        "id": "bxaxqw_XLAKm",
        "colab_type": "code",
        "outputId": "6e803f89-1678-4a45-8df2-2af176c2e7a3",
        "colab": {
          "base_uri": "https://localhost:8080/",
          "height": 238
        }
      },
      "source": [
        "pieces"
      ],
      "execution_count": 0,
      "outputs": [
        {
          "output_type": "execute_result",
          "data": {
            "text/plain": [
              "[          0         1         2         3\n",
              " 0 -1.491690  0.182492  0.197938 -2.594877\n",
              " 1  2.424784  0.141677  0.252952  0.134764\n",
              " 2 -0.462250  0.970214  0.095925 -0.709737,\n",
              "           0         1         2         3\n",
              " 3  0.613373 -0.874859 -0.116742 -2.406069\n",
              " 4  1.194217 -0.982609  0.079638  0.772230\n",
              " 5 -0.023809  0.023997 -0.672300 -2.335959\n",
              " 6  0.424751 -1.031522  0.218559  1.756925,\n",
              "           0         1         2         3\n",
              " 7  0.370677 -1.226213 -0.395286 -0.539126\n",
              " 8 -1.239608 -0.018446 -1.108119  0.691600\n",
              " 9  1.209424  0.209350  0.114941  1.034735]"
            ]
          },
          "metadata": {
            "tags": []
          },
          "execution_count": 143
        }
      ]
    },
    {
      "cell_type": "code",
      "metadata": {
        "id": "pwMLKEkpLDHS",
        "colab_type": "code",
        "outputId": "4849b320-442d-46cb-e2a2-d05467936640",
        "colab": {
          "base_uri": "https://localhost:8080/",
          "height": 359
        }
      },
      "source": [
        "pd.concat(pieces, ignore_index=True)"
      ],
      "execution_count": 0,
      "outputs": [
        {
          "output_type": "execute_result",
          "data": {
            "text/html": [
              "<div>\n",
              "<style scoped>\n",
              "    .dataframe tbody tr th:only-of-type {\n",
              "        vertical-align: middle;\n",
              "    }\n",
              "\n",
              "    .dataframe tbody tr th {\n",
              "        vertical-align: top;\n",
              "    }\n",
              "\n",
              "    .dataframe thead th {\n",
              "        text-align: right;\n",
              "    }\n",
              "</style>\n",
              "<table border=\"1\" class=\"dataframe\">\n",
              "  <thead>\n",
              "    <tr style=\"text-align: right;\">\n",
              "      <th></th>\n",
              "      <th>0</th>\n",
              "      <th>1</th>\n",
              "      <th>2</th>\n",
              "      <th>3</th>\n",
              "    </tr>\n",
              "  </thead>\n",
              "  <tbody>\n",
              "    <tr>\n",
              "      <th>0</th>\n",
              "      <td>-1.491690</td>\n",
              "      <td>0.182492</td>\n",
              "      <td>0.197938</td>\n",
              "      <td>-2.594877</td>\n",
              "    </tr>\n",
              "    <tr>\n",
              "      <th>1</th>\n",
              "      <td>2.424784</td>\n",
              "      <td>0.141677</td>\n",
              "      <td>0.252952</td>\n",
              "      <td>0.134764</td>\n",
              "    </tr>\n",
              "    <tr>\n",
              "      <th>2</th>\n",
              "      <td>-0.462250</td>\n",
              "      <td>0.970214</td>\n",
              "      <td>0.095925</td>\n",
              "      <td>-0.709737</td>\n",
              "    </tr>\n",
              "    <tr>\n",
              "      <th>3</th>\n",
              "      <td>0.613373</td>\n",
              "      <td>-0.874859</td>\n",
              "      <td>-0.116742</td>\n",
              "      <td>-2.406069</td>\n",
              "    </tr>\n",
              "    <tr>\n",
              "      <th>4</th>\n",
              "      <td>1.194217</td>\n",
              "      <td>-0.982609</td>\n",
              "      <td>0.079638</td>\n",
              "      <td>0.772230</td>\n",
              "    </tr>\n",
              "    <tr>\n",
              "      <th>5</th>\n",
              "      <td>-0.023809</td>\n",
              "      <td>0.023997</td>\n",
              "      <td>-0.672300</td>\n",
              "      <td>-2.335959</td>\n",
              "    </tr>\n",
              "    <tr>\n",
              "      <th>6</th>\n",
              "      <td>0.424751</td>\n",
              "      <td>-1.031522</td>\n",
              "      <td>0.218559</td>\n",
              "      <td>1.756925</td>\n",
              "    </tr>\n",
              "    <tr>\n",
              "      <th>7</th>\n",
              "      <td>0.370677</td>\n",
              "      <td>-1.226213</td>\n",
              "      <td>-0.395286</td>\n",
              "      <td>-0.539126</td>\n",
              "    </tr>\n",
              "    <tr>\n",
              "      <th>8</th>\n",
              "      <td>-1.239608</td>\n",
              "      <td>-0.018446</td>\n",
              "      <td>-1.108119</td>\n",
              "      <td>0.691600</td>\n",
              "    </tr>\n",
              "    <tr>\n",
              "      <th>9</th>\n",
              "      <td>1.209424</td>\n",
              "      <td>0.209350</td>\n",
              "      <td>0.114941</td>\n",
              "      <td>1.034735</td>\n",
              "    </tr>\n",
              "  </tbody>\n",
              "</table>\n",
              "</div>"
            ],
            "text/plain": [
              "          0         1         2         3\n",
              "0 -1.491690  0.182492  0.197938 -2.594877\n",
              "1  2.424784  0.141677  0.252952  0.134764\n",
              "2 -0.462250  0.970214  0.095925 -0.709737\n",
              "3  0.613373 -0.874859 -0.116742 -2.406069\n",
              "4  1.194217 -0.982609  0.079638  0.772230\n",
              "5 -0.023809  0.023997 -0.672300 -2.335959\n",
              "6  0.424751 -1.031522  0.218559  1.756925\n",
              "7  0.370677 -1.226213 -0.395286 -0.539126\n",
              "8 -1.239608 -0.018446 -1.108119  0.691600\n",
              "9  1.209424  0.209350  0.114941  1.034735"
            ]
          },
          "metadata": {
            "tags": []
          },
          "execution_count": 144
        }
      ]
    },
    {
      "cell_type": "code",
      "metadata": {
        "id": "jA_XRODaLKAN",
        "colab_type": "code",
        "outputId": "923c7d0a-ef55-4908-bbcd-bbddfc2d2e45",
        "colab": {
          "base_uri": "https://localhost:8080/",
          "height": 328
        }
      },
      "source": [
        "x = pd.concat([pd.DataFrame(np.random.randn(3, 6)), pd.DataFrame(np.random.randint(10, size=(6, 5)), columns=[1, 2, 3, 6, 5])], ignore_index=True)\n",
        "x"
      ],
      "execution_count": 0,
      "outputs": [
        {
          "output_type": "execute_result",
          "data": {
            "text/html": [
              "<div>\n",
              "<style scoped>\n",
              "    .dataframe tbody tr th:only-of-type {\n",
              "        vertical-align: middle;\n",
              "    }\n",
              "\n",
              "    .dataframe tbody tr th {\n",
              "        vertical-align: top;\n",
              "    }\n",
              "\n",
              "    .dataframe thead th {\n",
              "        text-align: right;\n",
              "    }\n",
              "</style>\n",
              "<table border=\"1\" class=\"dataframe\">\n",
              "  <thead>\n",
              "    <tr style=\"text-align: right;\">\n",
              "      <th></th>\n",
              "      <th>0</th>\n",
              "      <th>1</th>\n",
              "      <th>2</th>\n",
              "      <th>3</th>\n",
              "      <th>4</th>\n",
              "      <th>5</th>\n",
              "      <th>6</th>\n",
              "    </tr>\n",
              "  </thead>\n",
              "  <tbody>\n",
              "    <tr>\n",
              "      <th>0</th>\n",
              "      <td>1.240273</td>\n",
              "      <td>-0.398294</td>\n",
              "      <td>1.217065</td>\n",
              "      <td>2.152401</td>\n",
              "      <td>-0.858212</td>\n",
              "      <td>-0.052559</td>\n",
              "      <td>NaN</td>\n",
              "    </tr>\n",
              "    <tr>\n",
              "      <th>1</th>\n",
              "      <td>1.294468</td>\n",
              "      <td>-1.308989</td>\n",
              "      <td>-1.730615</td>\n",
              "      <td>0.729453</td>\n",
              "      <td>-1.506658</td>\n",
              "      <td>1.675056</td>\n",
              "      <td>NaN</td>\n",
              "    </tr>\n",
              "    <tr>\n",
              "      <th>2</th>\n",
              "      <td>0.879513</td>\n",
              "      <td>1.418399</td>\n",
              "      <td>-0.568676</td>\n",
              "      <td>0.330966</td>\n",
              "      <td>-0.121358</td>\n",
              "      <td>-0.870693</td>\n",
              "      <td>NaN</td>\n",
              "    </tr>\n",
              "    <tr>\n",
              "      <th>3</th>\n",
              "      <td>NaN</td>\n",
              "      <td>6.000000</td>\n",
              "      <td>0.000000</td>\n",
              "      <td>9.000000</td>\n",
              "      <td>NaN</td>\n",
              "      <td>7.000000</td>\n",
              "      <td>7.0</td>\n",
              "    </tr>\n",
              "    <tr>\n",
              "      <th>4</th>\n",
              "      <td>NaN</td>\n",
              "      <td>9.000000</td>\n",
              "      <td>7.000000</td>\n",
              "      <td>8.000000</td>\n",
              "      <td>NaN</td>\n",
              "      <td>0.000000</td>\n",
              "      <td>5.0</td>\n",
              "    </tr>\n",
              "    <tr>\n",
              "      <th>5</th>\n",
              "      <td>NaN</td>\n",
              "      <td>8.000000</td>\n",
              "      <td>1.000000</td>\n",
              "      <td>7.000000</td>\n",
              "      <td>NaN</td>\n",
              "      <td>3.000000</td>\n",
              "      <td>9.0</td>\n",
              "    </tr>\n",
              "    <tr>\n",
              "      <th>6</th>\n",
              "      <td>NaN</td>\n",
              "      <td>5.000000</td>\n",
              "      <td>9.000000</td>\n",
              "      <td>3.000000</td>\n",
              "      <td>NaN</td>\n",
              "      <td>8.000000</td>\n",
              "      <td>8.0</td>\n",
              "    </tr>\n",
              "    <tr>\n",
              "      <th>7</th>\n",
              "      <td>NaN</td>\n",
              "      <td>9.000000</td>\n",
              "      <td>8.000000</td>\n",
              "      <td>2.000000</td>\n",
              "      <td>NaN</td>\n",
              "      <td>4.000000</td>\n",
              "      <td>8.0</td>\n",
              "    </tr>\n",
              "    <tr>\n",
              "      <th>8</th>\n",
              "      <td>NaN</td>\n",
              "      <td>3.000000</td>\n",
              "      <td>9.000000</td>\n",
              "      <td>5.000000</td>\n",
              "      <td>NaN</td>\n",
              "      <td>5.000000</td>\n",
              "      <td>7.0</td>\n",
              "    </tr>\n",
              "  </tbody>\n",
              "</table>\n",
              "</div>"
            ],
            "text/plain": [
              "          0         1         2         3         4         5    6\n",
              "0  1.240273 -0.398294  1.217065  2.152401 -0.858212 -0.052559  NaN\n",
              "1  1.294468 -1.308989 -1.730615  0.729453 -1.506658  1.675056  NaN\n",
              "2  0.879513  1.418399 -0.568676  0.330966 -0.121358 -0.870693  NaN\n",
              "3       NaN  6.000000  0.000000  9.000000       NaN  7.000000  7.0\n",
              "4       NaN  9.000000  7.000000  8.000000       NaN  0.000000  5.0\n",
              "5       NaN  8.000000  1.000000  7.000000       NaN  3.000000  9.0\n",
              "6       NaN  5.000000  9.000000  3.000000       NaN  8.000000  8.0\n",
              "7       NaN  9.000000  8.000000  2.000000       NaN  4.000000  8.0\n",
              "8       NaN  3.000000  9.000000  5.000000       NaN  5.000000  7.0"
            ]
          },
          "metadata": {
            "tags": []
          },
          "execution_count": 149
        }
      ]
    },
    {
      "cell_type": "code",
      "metadata": {
        "id": "zW4kA6lRLo-D",
        "colab_type": "code",
        "outputId": "80dc1acb-b1d4-42b0-d530-6209c5b6a35e",
        "colab": {
          "base_uri": "https://localhost:8080/",
          "height": 142
        }
      },
      "source": [
        "left = pd.DataFrame({'key': ['foo', 'bar', 'xyz'], 'lval': [1, 2, 4]})\n",
        "left"
      ],
      "execution_count": 0,
      "outputs": [
        {
          "output_type": "execute_result",
          "data": {
            "text/html": [
              "<div>\n",
              "<style scoped>\n",
              "    .dataframe tbody tr th:only-of-type {\n",
              "        vertical-align: middle;\n",
              "    }\n",
              "\n",
              "    .dataframe tbody tr th {\n",
              "        vertical-align: top;\n",
              "    }\n",
              "\n",
              "    .dataframe thead th {\n",
              "        text-align: right;\n",
              "    }\n",
              "</style>\n",
              "<table border=\"1\" class=\"dataframe\">\n",
              "  <thead>\n",
              "    <tr style=\"text-align: right;\">\n",
              "      <th></th>\n",
              "      <th>key</th>\n",
              "      <th>lval</th>\n",
              "    </tr>\n",
              "  </thead>\n",
              "  <tbody>\n",
              "    <tr>\n",
              "      <th>0</th>\n",
              "      <td>foo</td>\n",
              "      <td>1</td>\n",
              "    </tr>\n",
              "    <tr>\n",
              "      <th>1</th>\n",
              "      <td>bar</td>\n",
              "      <td>2</td>\n",
              "    </tr>\n",
              "    <tr>\n",
              "      <th>2</th>\n",
              "      <td>xyz</td>\n",
              "      <td>4</td>\n",
              "    </tr>\n",
              "  </tbody>\n",
              "</table>\n",
              "</div>"
            ],
            "text/plain": [
              "   key  lval\n",
              "0  foo     1\n",
              "1  bar     2\n",
              "2  xyz     4"
            ]
          },
          "metadata": {
            "tags": []
          },
          "execution_count": 150
        }
      ]
    },
    {
      "cell_type": "code",
      "metadata": {
        "id": "9mCDqvMYLtRY",
        "colab_type": "code",
        "outputId": "6f628c79-659c-4b73-f704-f2d09cb7b28f",
        "colab": {
          "base_uri": "https://localhost:8080/",
          "height": 142
        }
      },
      "source": [
        "right = pd.DataFrame({'key': ['bar', 'foo', 'abc'], 'rval': [4, 5, 2]})\n",
        "right"
      ],
      "execution_count": 0,
      "outputs": [
        {
          "output_type": "execute_result",
          "data": {
            "text/html": [
              "<div>\n",
              "<style scoped>\n",
              "    .dataframe tbody tr th:only-of-type {\n",
              "        vertical-align: middle;\n",
              "    }\n",
              "\n",
              "    .dataframe tbody tr th {\n",
              "        vertical-align: top;\n",
              "    }\n",
              "\n",
              "    .dataframe thead th {\n",
              "        text-align: right;\n",
              "    }\n",
              "</style>\n",
              "<table border=\"1\" class=\"dataframe\">\n",
              "  <thead>\n",
              "    <tr style=\"text-align: right;\">\n",
              "      <th></th>\n",
              "      <th>key</th>\n",
              "      <th>rval</th>\n",
              "    </tr>\n",
              "  </thead>\n",
              "  <tbody>\n",
              "    <tr>\n",
              "      <th>0</th>\n",
              "      <td>bar</td>\n",
              "      <td>4</td>\n",
              "    </tr>\n",
              "    <tr>\n",
              "      <th>1</th>\n",
              "      <td>foo</td>\n",
              "      <td>5</td>\n",
              "    </tr>\n",
              "    <tr>\n",
              "      <th>2</th>\n",
              "      <td>abc</td>\n",
              "      <td>2</td>\n",
              "    </tr>\n",
              "  </tbody>\n",
              "</table>\n",
              "</div>"
            ],
            "text/plain": [
              "   key  rval\n",
              "0  bar     4\n",
              "1  foo     5\n",
              "2  abc     2"
            ]
          },
          "metadata": {
            "tags": []
          },
          "execution_count": 151
        }
      ]
    },
    {
      "cell_type": "code",
      "metadata": {
        "id": "EtQF7aQyLvvP",
        "colab_type": "code",
        "outputId": "e7f53181-c35f-4b57-9e27-f19143566a5f",
        "colab": {
          "base_uri": "https://localhost:8080/",
          "height": 111
        }
      },
      "source": [
        "pd.merge(left, right, on='key')"
      ],
      "execution_count": 0,
      "outputs": [
        {
          "output_type": "execute_result",
          "data": {
            "text/html": [
              "<div>\n",
              "<style scoped>\n",
              "    .dataframe tbody tr th:only-of-type {\n",
              "        vertical-align: middle;\n",
              "    }\n",
              "\n",
              "    .dataframe tbody tr th {\n",
              "        vertical-align: top;\n",
              "    }\n",
              "\n",
              "    .dataframe thead th {\n",
              "        text-align: right;\n",
              "    }\n",
              "</style>\n",
              "<table border=\"1\" class=\"dataframe\">\n",
              "  <thead>\n",
              "    <tr style=\"text-align: right;\">\n",
              "      <th></th>\n",
              "      <th>key</th>\n",
              "      <th>lval</th>\n",
              "      <th>rval</th>\n",
              "    </tr>\n",
              "  </thead>\n",
              "  <tbody>\n",
              "    <tr>\n",
              "      <th>0</th>\n",
              "      <td>foo</td>\n",
              "      <td>1</td>\n",
              "      <td>5</td>\n",
              "    </tr>\n",
              "    <tr>\n",
              "      <th>1</th>\n",
              "      <td>bar</td>\n",
              "      <td>2</td>\n",
              "      <td>4</td>\n",
              "    </tr>\n",
              "  </tbody>\n",
              "</table>\n",
              "</div>"
            ],
            "text/plain": [
              "   key  lval  rval\n",
              "0  foo     1     5\n",
              "1  bar     2     4"
            ]
          },
          "metadata": {
            "tags": []
          },
          "execution_count": 153
        }
      ]
    },
    {
      "cell_type": "code",
      "metadata": {
        "id": "Z_hpP4B7MT-2",
        "colab_type": "code",
        "outputId": "53f63036-3b59-40ad-f7b8-dccfc61ad793",
        "colab": {
          "base_uri": "https://localhost:8080/",
          "height": 111
        }
      },
      "source": [
        "pd.merge(left, right, how='inner')"
      ],
      "execution_count": 0,
      "outputs": [
        {
          "output_type": "execute_result",
          "data": {
            "text/html": [
              "<div>\n",
              "<style scoped>\n",
              "    .dataframe tbody tr th:only-of-type {\n",
              "        vertical-align: middle;\n",
              "    }\n",
              "\n",
              "    .dataframe tbody tr th {\n",
              "        vertical-align: top;\n",
              "    }\n",
              "\n",
              "    .dataframe thead th {\n",
              "        text-align: right;\n",
              "    }\n",
              "</style>\n",
              "<table border=\"1\" class=\"dataframe\">\n",
              "  <thead>\n",
              "    <tr style=\"text-align: right;\">\n",
              "      <th></th>\n",
              "      <th>key</th>\n",
              "      <th>lval</th>\n",
              "      <th>rval</th>\n",
              "    </tr>\n",
              "  </thead>\n",
              "  <tbody>\n",
              "    <tr>\n",
              "      <th>0</th>\n",
              "      <td>foo</td>\n",
              "      <td>1</td>\n",
              "      <td>5</td>\n",
              "    </tr>\n",
              "    <tr>\n",
              "      <th>1</th>\n",
              "      <td>bar</td>\n",
              "      <td>2</td>\n",
              "      <td>4</td>\n",
              "    </tr>\n",
              "  </tbody>\n",
              "</table>\n",
              "</div>"
            ],
            "text/plain": [
              "   key  lval  rval\n",
              "0  foo     1     5\n",
              "1  bar     2     4"
            ]
          },
          "metadata": {
            "tags": []
          },
          "execution_count": 154
        }
      ]
    },
    {
      "cell_type": "code",
      "metadata": {
        "id": "hBx7Bgu0MZg4",
        "colab_type": "code",
        "outputId": "ed9d862d-b33e-4984-f1db-faeb7f30eb97",
        "colab": {
          "base_uri": "https://localhost:8080/",
          "height": 173
        }
      },
      "source": [
        "pd.merge(left, right, on='key', how='outer')"
      ],
      "execution_count": 0,
      "outputs": [
        {
          "output_type": "execute_result",
          "data": {
            "text/html": [
              "<div>\n",
              "<style scoped>\n",
              "    .dataframe tbody tr th:only-of-type {\n",
              "        vertical-align: middle;\n",
              "    }\n",
              "\n",
              "    .dataframe tbody tr th {\n",
              "        vertical-align: top;\n",
              "    }\n",
              "\n",
              "    .dataframe thead th {\n",
              "        text-align: right;\n",
              "    }\n",
              "</style>\n",
              "<table border=\"1\" class=\"dataframe\">\n",
              "  <thead>\n",
              "    <tr style=\"text-align: right;\">\n",
              "      <th></th>\n",
              "      <th>key</th>\n",
              "      <th>lval</th>\n",
              "      <th>rval</th>\n",
              "    </tr>\n",
              "  </thead>\n",
              "  <tbody>\n",
              "    <tr>\n",
              "      <th>0</th>\n",
              "      <td>foo</td>\n",
              "      <td>1.0</td>\n",
              "      <td>5.0</td>\n",
              "    </tr>\n",
              "    <tr>\n",
              "      <th>1</th>\n",
              "      <td>bar</td>\n",
              "      <td>2.0</td>\n",
              "      <td>4.0</td>\n",
              "    </tr>\n",
              "    <tr>\n",
              "      <th>2</th>\n",
              "      <td>xyz</td>\n",
              "      <td>4.0</td>\n",
              "      <td>NaN</td>\n",
              "    </tr>\n",
              "    <tr>\n",
              "      <th>3</th>\n",
              "      <td>abc</td>\n",
              "      <td>NaN</td>\n",
              "      <td>2.0</td>\n",
              "    </tr>\n",
              "  </tbody>\n",
              "</table>\n",
              "</div>"
            ],
            "text/plain": [
              "   key  lval  rval\n",
              "0  foo   1.0   5.0\n",
              "1  bar   2.0   4.0\n",
              "2  xyz   4.0   NaN\n",
              "3  abc   NaN   2.0"
            ]
          },
          "metadata": {
            "tags": []
          },
          "execution_count": 156
        }
      ]
    },
    {
      "cell_type": "code",
      "metadata": {
        "id": "770SPTbJMgMy",
        "colab_type": "code",
        "outputId": "38988178-fdf3-48b4-930b-1d3c8f2c814f",
        "colab": {
          "base_uri": "https://localhost:8080/",
          "height": 142
        }
      },
      "source": [
        "pd.merge(left, right, on='key', how='left')"
      ],
      "execution_count": 0,
      "outputs": [
        {
          "output_type": "execute_result",
          "data": {
            "text/html": [
              "<div>\n",
              "<style scoped>\n",
              "    .dataframe tbody tr th:only-of-type {\n",
              "        vertical-align: middle;\n",
              "    }\n",
              "\n",
              "    .dataframe tbody tr th {\n",
              "        vertical-align: top;\n",
              "    }\n",
              "\n",
              "    .dataframe thead th {\n",
              "        text-align: right;\n",
              "    }\n",
              "</style>\n",
              "<table border=\"1\" class=\"dataframe\">\n",
              "  <thead>\n",
              "    <tr style=\"text-align: right;\">\n",
              "      <th></th>\n",
              "      <th>key</th>\n",
              "      <th>lval</th>\n",
              "      <th>rval</th>\n",
              "    </tr>\n",
              "  </thead>\n",
              "  <tbody>\n",
              "    <tr>\n",
              "      <th>0</th>\n",
              "      <td>foo</td>\n",
              "      <td>1</td>\n",
              "      <td>5.0</td>\n",
              "    </tr>\n",
              "    <tr>\n",
              "      <th>1</th>\n",
              "      <td>bar</td>\n",
              "      <td>2</td>\n",
              "      <td>4.0</td>\n",
              "    </tr>\n",
              "    <tr>\n",
              "      <th>2</th>\n",
              "      <td>xyz</td>\n",
              "      <td>4</td>\n",
              "      <td>NaN</td>\n",
              "    </tr>\n",
              "  </tbody>\n",
              "</table>\n",
              "</div>"
            ],
            "text/plain": [
              "   key  lval  rval\n",
              "0  foo     1   5.0\n",
              "1  bar     2   4.0\n",
              "2  xyz     4   NaN"
            ]
          },
          "metadata": {
            "tags": []
          },
          "execution_count": 157
        }
      ]
    },
    {
      "cell_type": "code",
      "metadata": {
        "id": "i4TUc5R1Mk9z",
        "colab_type": "code",
        "outputId": "4ad2eb34-cdc1-4558-cb06-b31046ae59b0",
        "colab": {
          "base_uri": "https://localhost:8080/",
          "height": 142
        }
      },
      "source": [
        "pd.merge(left, right, on='key', how='right', )"
      ],
      "execution_count": 0,
      "outputs": [
        {
          "output_type": "execute_result",
          "data": {
            "text/html": [
              "<div>\n",
              "<style scoped>\n",
              "    .dataframe tbody tr th:only-of-type {\n",
              "        vertical-align: middle;\n",
              "    }\n",
              "\n",
              "    .dataframe tbody tr th {\n",
              "        vertical-align: top;\n",
              "    }\n",
              "\n",
              "    .dataframe thead th {\n",
              "        text-align: right;\n",
              "    }\n",
              "</style>\n",
              "<table border=\"1\" class=\"dataframe\">\n",
              "  <thead>\n",
              "    <tr style=\"text-align: right;\">\n",
              "      <th></th>\n",
              "      <th>key</th>\n",
              "      <th>lval</th>\n",
              "      <th>rval</th>\n",
              "    </tr>\n",
              "  </thead>\n",
              "  <tbody>\n",
              "    <tr>\n",
              "      <th>0</th>\n",
              "      <td>foo</td>\n",
              "      <td>1.0</td>\n",
              "      <td>5</td>\n",
              "    </tr>\n",
              "    <tr>\n",
              "      <th>1</th>\n",
              "      <td>bar</td>\n",
              "      <td>2.0</td>\n",
              "      <td>4</td>\n",
              "    </tr>\n",
              "    <tr>\n",
              "      <th>2</th>\n",
              "      <td>abc</td>\n",
              "      <td>NaN</td>\n",
              "      <td>2</td>\n",
              "    </tr>\n",
              "  </tbody>\n",
              "</table>\n",
              "</div>"
            ],
            "text/plain": [
              "   key  lval  rval\n",
              "0  foo   1.0     5\n",
              "1  bar   2.0     4\n",
              "2  abc   NaN     2"
            ]
          },
          "metadata": {
            "tags": []
          },
          "execution_count": 158
        }
      ]
    },
    {
      "cell_type": "code",
      "metadata": {
        "id": "BypK7JDFTk9N",
        "colab_type": "code",
        "outputId": "4ff7f5a9-3063-458c-c02d-98e58c27d680",
        "colab": {
          "base_uri": "https://localhost:8080/",
          "height": 142
        }
      },
      "source": [
        "right2 = pd.DataFrame({'key2': ['bar', 'foo', 'abc'], 'rval': [4, 2, 2]})\n",
        "right2"
      ],
      "execution_count": 0,
      "outputs": [
        {
          "output_type": "execute_result",
          "data": {
            "text/html": [
              "<div>\n",
              "<style scoped>\n",
              "    .dataframe tbody tr th:only-of-type {\n",
              "        vertical-align: middle;\n",
              "    }\n",
              "\n",
              "    .dataframe tbody tr th {\n",
              "        vertical-align: top;\n",
              "    }\n",
              "\n",
              "    .dataframe thead th {\n",
              "        text-align: right;\n",
              "    }\n",
              "</style>\n",
              "<table border=\"1\" class=\"dataframe\">\n",
              "  <thead>\n",
              "    <tr style=\"text-align: right;\">\n",
              "      <th></th>\n",
              "      <th>key2</th>\n",
              "      <th>rval</th>\n",
              "    </tr>\n",
              "  </thead>\n",
              "  <tbody>\n",
              "    <tr>\n",
              "      <th>0</th>\n",
              "      <td>bar</td>\n",
              "      <td>4</td>\n",
              "    </tr>\n",
              "    <tr>\n",
              "      <th>1</th>\n",
              "      <td>foo</td>\n",
              "      <td>2</td>\n",
              "    </tr>\n",
              "    <tr>\n",
              "      <th>2</th>\n",
              "      <td>abc</td>\n",
              "      <td>2</td>\n",
              "    </tr>\n",
              "  </tbody>\n",
              "</table>\n",
              "</div>"
            ],
            "text/plain": [
              "  key2  rval\n",
              "0  bar     4\n",
              "1  foo     2\n",
              "2  abc     2"
            ]
          },
          "metadata": {
            "tags": []
          },
          "execution_count": 165
        }
      ]
    },
    {
      "cell_type": "code",
      "metadata": {
        "id": "xxofIeGKFMgi",
        "colab_type": "code",
        "outputId": "d8f6a6a0-a3a3-46f4-d8df-88ecd6b2cbd2",
        "colab": {
          "base_uri": "https://localhost:8080/",
          "height": 173
        }
      },
      "source": [
        "pd.merge(left, right2, left_on='key', right_on='key2', how='outer')"
      ],
      "execution_count": 0,
      "outputs": [
        {
          "output_type": "execute_result",
          "data": {
            "text/html": [
              "<div>\n",
              "<style scoped>\n",
              "    .dataframe tbody tr th:only-of-type {\n",
              "        vertical-align: middle;\n",
              "    }\n",
              "\n",
              "    .dataframe tbody tr th {\n",
              "        vertical-align: top;\n",
              "    }\n",
              "\n",
              "    .dataframe thead th {\n",
              "        text-align: right;\n",
              "    }\n",
              "</style>\n",
              "<table border=\"1\" class=\"dataframe\">\n",
              "  <thead>\n",
              "    <tr style=\"text-align: right;\">\n",
              "      <th></th>\n",
              "      <th>key</th>\n",
              "      <th>lval</th>\n",
              "      <th>key2</th>\n",
              "      <th>rval</th>\n",
              "    </tr>\n",
              "  </thead>\n",
              "  <tbody>\n",
              "    <tr>\n",
              "      <th>0</th>\n",
              "      <td>foo</td>\n",
              "      <td>1.0</td>\n",
              "      <td>foo</td>\n",
              "      <td>2.0</td>\n",
              "    </tr>\n",
              "    <tr>\n",
              "      <th>1</th>\n",
              "      <td>bar</td>\n",
              "      <td>2.0</td>\n",
              "      <td>bar</td>\n",
              "      <td>4.0</td>\n",
              "    </tr>\n",
              "    <tr>\n",
              "      <th>2</th>\n",
              "      <td>xyz</td>\n",
              "      <td>4.0</td>\n",
              "      <td>NaN</td>\n",
              "      <td>NaN</td>\n",
              "    </tr>\n",
              "    <tr>\n",
              "      <th>3</th>\n",
              "      <td>NaN</td>\n",
              "      <td>NaN</td>\n",
              "      <td>abc</td>\n",
              "      <td>2.0</td>\n",
              "    </tr>\n",
              "  </tbody>\n",
              "</table>\n",
              "</div>"
            ],
            "text/plain": [
              "   key  lval key2  rval\n",
              "0  foo   1.0  foo   2.0\n",
              "1  bar   2.0  bar   4.0\n",
              "2  xyz   4.0  NaN   NaN\n",
              "3  NaN   NaN  abc   2.0"
            ]
          },
          "metadata": {
            "tags": []
          },
          "execution_count": 166
        }
      ]
    },
    {
      "cell_type": "code",
      "metadata": {
        "id": "55aXvKhIFipt",
        "colab_type": "code",
        "outputId": "83d83be3-0bfe-4985-e154-5f9648c71a7e",
        "colab": {
          "base_uri": "https://localhost:8080/",
          "height": 142
        }
      },
      "source": [
        "right"
      ],
      "execution_count": 0,
      "outputs": [
        {
          "output_type": "execute_result",
          "data": {
            "text/html": [
              "<div>\n",
              "<style scoped>\n",
              "    .dataframe tbody tr th:only-of-type {\n",
              "        vertical-align: middle;\n",
              "    }\n",
              "\n",
              "    .dataframe tbody tr th {\n",
              "        vertical-align: top;\n",
              "    }\n",
              "\n",
              "    .dataframe thead th {\n",
              "        text-align: right;\n",
              "    }\n",
              "</style>\n",
              "<table border=\"1\" class=\"dataframe\">\n",
              "  <thead>\n",
              "    <tr style=\"text-align: right;\">\n",
              "      <th></th>\n",
              "      <th>key</th>\n",
              "      <th>rval</th>\n",
              "    </tr>\n",
              "  </thead>\n",
              "  <tbody>\n",
              "    <tr>\n",
              "      <th>0</th>\n",
              "      <td>bar</td>\n",
              "      <td>4</td>\n",
              "    </tr>\n",
              "    <tr>\n",
              "      <th>1</th>\n",
              "      <td>foo</td>\n",
              "      <td>5</td>\n",
              "    </tr>\n",
              "    <tr>\n",
              "      <th>2</th>\n",
              "      <td>abc</td>\n",
              "      <td>2</td>\n",
              "    </tr>\n",
              "  </tbody>\n",
              "</table>\n",
              "</div>"
            ],
            "text/plain": [
              "   key  rval\n",
              "0  bar     4\n",
              "1  foo     5\n",
              "2  abc     2"
            ]
          },
          "metadata": {
            "tags": []
          },
          "execution_count": 167
        }
      ]
    },
    {
      "cell_type": "code",
      "metadata": {
        "id": "sQIqcymCToy-",
        "colab_type": "code",
        "outputId": "6d56fc49-901c-4d2b-e619-dbef829c214d",
        "colab": {
          "base_uri": "https://localhost:8080/",
          "height": 235
        }
      },
      "source": [
        "pd.merge(pd.merge(left, right2, left_on='key', right_on='key2', how='outer'), right, how='outer')"
      ],
      "execution_count": 0,
      "outputs": [
        {
          "output_type": "execute_result",
          "data": {
            "text/html": [
              "<div>\n",
              "<style scoped>\n",
              "    .dataframe tbody tr th:only-of-type {\n",
              "        vertical-align: middle;\n",
              "    }\n",
              "\n",
              "    .dataframe tbody tr th {\n",
              "        vertical-align: top;\n",
              "    }\n",
              "\n",
              "    .dataframe thead th {\n",
              "        text-align: right;\n",
              "    }\n",
              "</style>\n",
              "<table border=\"1\" class=\"dataframe\">\n",
              "  <thead>\n",
              "    <tr style=\"text-align: right;\">\n",
              "      <th></th>\n",
              "      <th>key</th>\n",
              "      <th>lval</th>\n",
              "      <th>key2</th>\n",
              "      <th>rval</th>\n",
              "    </tr>\n",
              "  </thead>\n",
              "  <tbody>\n",
              "    <tr>\n",
              "      <th>0</th>\n",
              "      <td>foo</td>\n",
              "      <td>1.0</td>\n",
              "      <td>foo</td>\n",
              "      <td>2.0</td>\n",
              "    </tr>\n",
              "    <tr>\n",
              "      <th>1</th>\n",
              "      <td>bar</td>\n",
              "      <td>2.0</td>\n",
              "      <td>bar</td>\n",
              "      <td>4.0</td>\n",
              "    </tr>\n",
              "    <tr>\n",
              "      <th>2</th>\n",
              "      <td>xyz</td>\n",
              "      <td>4.0</td>\n",
              "      <td>NaN</td>\n",
              "      <td>NaN</td>\n",
              "    </tr>\n",
              "    <tr>\n",
              "      <th>3</th>\n",
              "      <td>NaN</td>\n",
              "      <td>NaN</td>\n",
              "      <td>abc</td>\n",
              "      <td>2.0</td>\n",
              "    </tr>\n",
              "    <tr>\n",
              "      <th>4</th>\n",
              "      <td>foo</td>\n",
              "      <td>NaN</td>\n",
              "      <td>NaN</td>\n",
              "      <td>5.0</td>\n",
              "    </tr>\n",
              "    <tr>\n",
              "      <th>5</th>\n",
              "      <td>abc</td>\n",
              "      <td>NaN</td>\n",
              "      <td>NaN</td>\n",
              "      <td>2.0</td>\n",
              "    </tr>\n",
              "  </tbody>\n",
              "</table>\n",
              "</div>"
            ],
            "text/plain": [
              "   key  lval key2  rval\n",
              "0  foo   1.0  foo   2.0\n",
              "1  bar   2.0  bar   4.0\n",
              "2  xyz   4.0  NaN   NaN\n",
              "3  NaN   NaN  abc   2.0\n",
              "4  foo   NaN  NaN   5.0\n",
              "5  abc   NaN  NaN   2.0"
            ]
          },
          "metadata": {
            "tags": []
          },
          "execution_count": 170
        }
      ]
    },
    {
      "cell_type": "code",
      "metadata": {
        "id": "MfdsdUxeGy9z",
        "colab_type": "code",
        "colab": {}
      },
      "source": [
        "left_merge = pd.merge(left, right2, left_on='key', right_on='key2', how='outer')\n",
        "pd.merge(left_merge, right, how='outer')\n",
        "del left_merge"
      ],
      "execution_count": 0,
      "outputs": []
    },
    {
      "cell_type": "code",
      "metadata": {
        "id": "DijHoCb3UuI9",
        "colab_type": "code",
        "outputId": "d3d9aa39-07ab-4927-ed40-f78fa8ac8c46",
        "colab": {
          "base_uri": "https://localhost:8080/",
          "height": 142
        }
      },
      "source": [
        "left.set_index('key').join(right2.set_index('key2')).join(right.set_index('key'), rsuffix='_right').reset_index()"
      ],
      "execution_count": 0,
      "outputs": [
        {
          "output_type": "execute_result",
          "data": {
            "text/html": [
              "<div>\n",
              "<style scoped>\n",
              "    .dataframe tbody tr th:only-of-type {\n",
              "        vertical-align: middle;\n",
              "    }\n",
              "\n",
              "    .dataframe tbody tr th {\n",
              "        vertical-align: top;\n",
              "    }\n",
              "\n",
              "    .dataframe thead th {\n",
              "        text-align: right;\n",
              "    }\n",
              "</style>\n",
              "<table border=\"1\" class=\"dataframe\">\n",
              "  <thead>\n",
              "    <tr style=\"text-align: right;\">\n",
              "      <th></th>\n",
              "      <th>key</th>\n",
              "      <th>lval</th>\n",
              "      <th>rval</th>\n",
              "      <th>rval_right</th>\n",
              "    </tr>\n",
              "  </thead>\n",
              "  <tbody>\n",
              "    <tr>\n",
              "      <th>0</th>\n",
              "      <td>foo</td>\n",
              "      <td>1</td>\n",
              "      <td>2.0</td>\n",
              "      <td>5.0</td>\n",
              "    </tr>\n",
              "    <tr>\n",
              "      <th>1</th>\n",
              "      <td>bar</td>\n",
              "      <td>2</td>\n",
              "      <td>4.0</td>\n",
              "      <td>4.0</td>\n",
              "    </tr>\n",
              "    <tr>\n",
              "      <th>2</th>\n",
              "      <td>xyz</td>\n",
              "      <td>4</td>\n",
              "      <td>NaN</td>\n",
              "      <td>NaN</td>\n",
              "    </tr>\n",
              "  </tbody>\n",
              "</table>\n",
              "</div>"
            ],
            "text/plain": [
              "   key  lval  rval  rval_right\n",
              "0  foo     1   2.0         5.0\n",
              "1  bar     2   4.0         4.0\n",
              "2  xyz     4   NaN         NaN"
            ]
          },
          "metadata": {
            "tags": []
          },
          "execution_count": 172
        }
      ]
    },
    {
      "cell_type": "code",
      "metadata": {
        "id": "QRc8DpUeHn9p",
        "colab_type": "code",
        "outputId": "16a43516-92f1-452d-cf53-025aec119b98",
        "colab": {
          "base_uri": "https://localhost:8080/",
          "height": 204
        }
      },
      "source": [
        "left.set_index('key').join(right2.set_index('key2')).reset_index().set_index(['key', 'rval']).join(right.set_index(['key', 'rval']), how='outer').reset_index()"
      ],
      "execution_count": 0,
      "outputs": [
        {
          "output_type": "execute_result",
          "data": {
            "text/html": [
              "<div>\n",
              "<style scoped>\n",
              "    .dataframe tbody tr th:only-of-type {\n",
              "        vertical-align: middle;\n",
              "    }\n",
              "\n",
              "    .dataframe tbody tr th {\n",
              "        vertical-align: top;\n",
              "    }\n",
              "\n",
              "    .dataframe thead th {\n",
              "        text-align: right;\n",
              "    }\n",
              "</style>\n",
              "<table border=\"1\" class=\"dataframe\">\n",
              "  <thead>\n",
              "    <tr style=\"text-align: right;\">\n",
              "      <th></th>\n",
              "      <th>key</th>\n",
              "      <th>rval</th>\n",
              "      <th>lval</th>\n",
              "    </tr>\n",
              "  </thead>\n",
              "  <tbody>\n",
              "    <tr>\n",
              "      <th>0</th>\n",
              "      <td>abc</td>\n",
              "      <td>2.0</td>\n",
              "      <td>NaN</td>\n",
              "    </tr>\n",
              "    <tr>\n",
              "      <th>1</th>\n",
              "      <td>bar</td>\n",
              "      <td>4.0</td>\n",
              "      <td>2.0</td>\n",
              "    </tr>\n",
              "    <tr>\n",
              "      <th>2</th>\n",
              "      <td>foo</td>\n",
              "      <td>2.0</td>\n",
              "      <td>1.0</td>\n",
              "    </tr>\n",
              "    <tr>\n",
              "      <th>3</th>\n",
              "      <td>foo</td>\n",
              "      <td>5.0</td>\n",
              "      <td>NaN</td>\n",
              "    </tr>\n",
              "    <tr>\n",
              "      <th>4</th>\n",
              "      <td>xyz</td>\n",
              "      <td>NaN</td>\n",
              "      <td>4.0</td>\n",
              "    </tr>\n",
              "  </tbody>\n",
              "</table>\n",
              "</div>"
            ],
            "text/plain": [
              "   key  rval  lval\n",
              "0  abc   2.0   NaN\n",
              "1  bar   4.0   2.0\n",
              "2  foo   2.0   1.0\n",
              "3  foo   5.0   NaN\n",
              "4  xyz   NaN   4.0"
            ]
          },
          "metadata": {
            "tags": []
          },
          "execution_count": 175
        }
      ]
    },
    {
      "cell_type": "code",
      "metadata": {
        "id": "kIrPyP_KNH1w",
        "colab_type": "code",
        "outputId": "d0776446-ce80-4791-f536-82af89d39437",
        "colab": {
          "base_uri": "https://localhost:8080/",
          "height": 173
        }
      },
      "source": [
        "df2"
      ],
      "execution_count": 0,
      "outputs": [
        {
          "output_type": "execute_result",
          "data": {
            "text/html": [
              "<div>\n",
              "<style scoped>\n",
              "    .dataframe tbody tr th:only-of-type {\n",
              "        vertical-align: middle;\n",
              "    }\n",
              "\n",
              "    .dataframe tbody tr th {\n",
              "        vertical-align: top;\n",
              "    }\n",
              "\n",
              "    .dataframe thead th {\n",
              "        text-align: right;\n",
              "    }\n",
              "</style>\n",
              "<table border=\"1\" class=\"dataframe\">\n",
              "  <thead>\n",
              "    <tr style=\"text-align: right;\">\n",
              "      <th></th>\n",
              "      <th>A</th>\n",
              "      <th>B</th>\n",
              "      <th>C</th>\n",
              "      <th>D</th>\n",
              "      <th>E</th>\n",
              "      <th>F</th>\n",
              "      <th>G</th>\n",
              "      <th>H</th>\n",
              "    </tr>\n",
              "  </thead>\n",
              "  <tbody>\n",
              "    <tr>\n",
              "      <th>A</th>\n",
              "      <td>1.0</td>\n",
              "      <td>2013-01-02</td>\n",
              "      <td>1.0</td>\n",
              "      <td>3</td>\n",
              "      <td>test</td>\n",
              "      <td>foo</td>\n",
              "      <td>5.0</td>\n",
              "      <td>5</td>\n",
              "    </tr>\n",
              "    <tr>\n",
              "      <th>B</th>\n",
              "      <td>1.0</td>\n",
              "      <td>2013-01-02</td>\n",
              "      <td>5.0</td>\n",
              "      <td>3</td>\n",
              "      <td>train</td>\n",
              "      <td>foo</td>\n",
              "      <td>7.0</td>\n",
              "      <td>7</td>\n",
              "    </tr>\n",
              "    <tr>\n",
              "      <th>C</th>\n",
              "      <td>1.0</td>\n",
              "      <td>2013-01-02</td>\n",
              "      <td>3.0</td>\n",
              "      <td>3</td>\n",
              "      <td>test</td>\n",
              "      <td>foo</td>\n",
              "      <td>3.0</td>\n",
              "      <td>2</td>\n",
              "    </tr>\n",
              "    <tr>\n",
              "      <th>D</th>\n",
              "      <td>1.0</td>\n",
              "      <td>2013-01-02</td>\n",
              "      <td>7.0</td>\n",
              "      <td>3</td>\n",
              "      <td>train</td>\n",
              "      <td>foo</td>\n",
              "      <td>1.0</td>\n",
              "      <td>5</td>\n",
              "    </tr>\n",
              "  </tbody>\n",
              "</table>\n",
              "</div>"
            ],
            "text/plain": [
              "     A          B    C  D      E    F    G  H\n",
              "A  1.0 2013-01-02  1.0  3   test  foo  5.0  5\n",
              "B  1.0 2013-01-02  5.0  3  train  foo  7.0  7\n",
              "C  1.0 2013-01-02  3.0  3   test  foo  3.0  2\n",
              "D  1.0 2013-01-02  7.0  3  train  foo  1.0  5"
            ]
          },
          "metadata": {
            "tags": []
          },
          "execution_count": 178
        }
      ]
    },
    {
      "cell_type": "code",
      "metadata": {
        "id": "dyUm31LzNNv-",
        "colab_type": "code",
        "outputId": "7c6ff4d4-f65d-4306-83a0-cdc7dfd9ae1d",
        "colab": {
          "base_uri": "https://localhost:8080/",
          "height": 153
        }
      },
      "source": [
        "list(df2.groupby('E'))\n",
        "for val, df in df2.groupby('E'):\n",
        "  print(val)\n",
        "  print(df)"
      ],
      "execution_count": 0,
      "outputs": [
        {
          "output_type": "stream",
          "text": [
            "test\n",
            "     A          B    C  D     E    F    G  H\n",
            "A  1.0 2013-01-02  1.0  3  test  foo  5.0  5\n",
            "C  1.0 2013-01-02  3.0  3  test  foo  3.0  2\n",
            "train\n",
            "     A          B    C  D      E    F    G  H\n",
            "B  1.0 2013-01-02  5.0  3  train  foo  7.0  7\n",
            "D  1.0 2013-01-02  7.0  3  train  foo  1.0  5\n"
          ],
          "name": "stdout"
        }
      ]
    },
    {
      "cell_type": "code",
      "metadata": {
        "id": "6FnQSf1NNjuN",
        "colab_type": "code",
        "outputId": "ac225fa9-664a-46d4-8d6b-10a06eed23fb",
        "colab": {
          "base_uri": "https://localhost:8080/",
          "height": 119
        }
      },
      "source": [
        "list(df2.groupby(['E', 'F']))"
      ],
      "execution_count": 0,
      "outputs": [
        {
          "output_type": "execute_result",
          "data": {
            "text/plain": [
              "[(('test', 'foo'),      A          B    C  D     E    F    G  H\n",
              "  A  1.0 2013-01-02  1.0  3  test  foo  5.0  5\n",
              "  C  1.0 2013-01-02  3.0  3  test  foo  3.0  2),\n",
              " (('train', 'foo'),      A          B    C  D      E    F    G  H\n",
              "  B  1.0 2013-01-02  5.0  3  train  foo  7.0  7\n",
              "  D  1.0 2013-01-02  7.0  3  train  foo  1.0  5)]"
            ]
          },
          "metadata": {
            "tags": []
          },
          "execution_count": 183
        }
      ]
    },
    {
      "cell_type": "code",
      "metadata": {
        "id": "WPXNHZjsJxOZ",
        "colab_type": "code",
        "outputId": "dc809649-06bf-4ff5-8043-3980b35889f2",
        "colab": {
          "base_uri": "https://localhost:8080/",
          "height": 1000
        }
      },
      "source": [
        "data = pd.DataFrame({\n",
        "    'Student': np.random.choice(list('ABCDEFGHIJKL'), 100),\n",
        "    'Batch': np.random.choice(5, 100),\n",
        "    'Science': np.random.randint(10, 100, size=100),\n",
        "    'Math': np.random.randint(40, 90, 100)\n",
        "})\n",
        "data"
      ],
      "execution_count": 0,
      "outputs": [
        {
          "output_type": "execute_result",
          "data": {
            "text/html": [
              "<div>\n",
              "<style scoped>\n",
              "    .dataframe tbody tr th:only-of-type {\n",
              "        vertical-align: middle;\n",
              "    }\n",
              "\n",
              "    .dataframe tbody tr th {\n",
              "        vertical-align: top;\n",
              "    }\n",
              "\n",
              "    .dataframe thead th {\n",
              "        text-align: right;\n",
              "    }\n",
              "</style>\n",
              "<table border=\"1\" class=\"dataframe\">\n",
              "  <thead>\n",
              "    <tr style=\"text-align: right;\">\n",
              "      <th></th>\n",
              "      <th>Student</th>\n",
              "      <th>Batch</th>\n",
              "      <th>Science</th>\n",
              "      <th>Math</th>\n",
              "    </tr>\n",
              "  </thead>\n",
              "  <tbody>\n",
              "    <tr>\n",
              "      <th>0</th>\n",
              "      <td>H</td>\n",
              "      <td>2</td>\n",
              "      <td>64</td>\n",
              "      <td>77</td>\n",
              "    </tr>\n",
              "    <tr>\n",
              "      <th>1</th>\n",
              "      <td>I</td>\n",
              "      <td>1</td>\n",
              "      <td>27</td>\n",
              "      <td>65</td>\n",
              "    </tr>\n",
              "    <tr>\n",
              "      <th>2</th>\n",
              "      <td>J</td>\n",
              "      <td>4</td>\n",
              "      <td>71</td>\n",
              "      <td>57</td>\n",
              "    </tr>\n",
              "    <tr>\n",
              "      <th>3</th>\n",
              "      <td>L</td>\n",
              "      <td>2</td>\n",
              "      <td>43</td>\n",
              "      <td>76</td>\n",
              "    </tr>\n",
              "    <tr>\n",
              "      <th>4</th>\n",
              "      <td>A</td>\n",
              "      <td>3</td>\n",
              "      <td>83</td>\n",
              "      <td>66</td>\n",
              "    </tr>\n",
              "    <tr>\n",
              "      <th>5</th>\n",
              "      <td>L</td>\n",
              "      <td>2</td>\n",
              "      <td>61</td>\n",
              "      <td>64</td>\n",
              "    </tr>\n",
              "    <tr>\n",
              "      <th>6</th>\n",
              "      <td>D</td>\n",
              "      <td>0</td>\n",
              "      <td>18</td>\n",
              "      <td>48</td>\n",
              "    </tr>\n",
              "    <tr>\n",
              "      <th>7</th>\n",
              "      <td>L</td>\n",
              "      <td>0</td>\n",
              "      <td>91</td>\n",
              "      <td>89</td>\n",
              "    </tr>\n",
              "    <tr>\n",
              "      <th>8</th>\n",
              "      <td>K</td>\n",
              "      <td>3</td>\n",
              "      <td>14</td>\n",
              "      <td>84</td>\n",
              "    </tr>\n",
              "    <tr>\n",
              "      <th>9</th>\n",
              "      <td>F</td>\n",
              "      <td>1</td>\n",
              "      <td>46</td>\n",
              "      <td>54</td>\n",
              "    </tr>\n",
              "    <tr>\n",
              "      <th>10</th>\n",
              "      <td>K</td>\n",
              "      <td>1</td>\n",
              "      <td>94</td>\n",
              "      <td>53</td>\n",
              "    </tr>\n",
              "    <tr>\n",
              "      <th>11</th>\n",
              "      <td>A</td>\n",
              "      <td>1</td>\n",
              "      <td>23</td>\n",
              "      <td>74</td>\n",
              "    </tr>\n",
              "    <tr>\n",
              "      <th>12</th>\n",
              "      <td>B</td>\n",
              "      <td>4</td>\n",
              "      <td>62</td>\n",
              "      <td>57</td>\n",
              "    </tr>\n",
              "    <tr>\n",
              "      <th>13</th>\n",
              "      <td>E</td>\n",
              "      <td>2</td>\n",
              "      <td>40</td>\n",
              "      <td>54</td>\n",
              "    </tr>\n",
              "    <tr>\n",
              "      <th>14</th>\n",
              "      <td>K</td>\n",
              "      <td>2</td>\n",
              "      <td>32</td>\n",
              "      <td>48</td>\n",
              "    </tr>\n",
              "    <tr>\n",
              "      <th>15</th>\n",
              "      <td>H</td>\n",
              "      <td>2</td>\n",
              "      <td>84</td>\n",
              "      <td>84</td>\n",
              "    </tr>\n",
              "    <tr>\n",
              "      <th>16</th>\n",
              "      <td>B</td>\n",
              "      <td>4</td>\n",
              "      <td>47</td>\n",
              "      <td>50</td>\n",
              "    </tr>\n",
              "    <tr>\n",
              "      <th>17</th>\n",
              "      <td>A</td>\n",
              "      <td>2</td>\n",
              "      <td>82</td>\n",
              "      <td>69</td>\n",
              "    </tr>\n",
              "    <tr>\n",
              "      <th>18</th>\n",
              "      <td>B</td>\n",
              "      <td>2</td>\n",
              "      <td>81</td>\n",
              "      <td>54</td>\n",
              "    </tr>\n",
              "    <tr>\n",
              "      <th>19</th>\n",
              "      <td>H</td>\n",
              "      <td>2</td>\n",
              "      <td>16</td>\n",
              "      <td>41</td>\n",
              "    </tr>\n",
              "    <tr>\n",
              "      <th>20</th>\n",
              "      <td>K</td>\n",
              "      <td>4</td>\n",
              "      <td>84</td>\n",
              "      <td>80</td>\n",
              "    </tr>\n",
              "    <tr>\n",
              "      <th>21</th>\n",
              "      <td>B</td>\n",
              "      <td>4</td>\n",
              "      <td>97</td>\n",
              "      <td>66</td>\n",
              "    </tr>\n",
              "    <tr>\n",
              "      <th>22</th>\n",
              "      <td>D</td>\n",
              "      <td>4</td>\n",
              "      <td>36</td>\n",
              "      <td>89</td>\n",
              "    </tr>\n",
              "    <tr>\n",
              "      <th>23</th>\n",
              "      <td>F</td>\n",
              "      <td>2</td>\n",
              "      <td>48</td>\n",
              "      <td>73</td>\n",
              "    </tr>\n",
              "    <tr>\n",
              "      <th>24</th>\n",
              "      <td>A</td>\n",
              "      <td>4</td>\n",
              "      <td>24</td>\n",
              "      <td>84</td>\n",
              "    </tr>\n",
              "    <tr>\n",
              "      <th>25</th>\n",
              "      <td>F</td>\n",
              "      <td>4</td>\n",
              "      <td>68</td>\n",
              "      <td>56</td>\n",
              "    </tr>\n",
              "    <tr>\n",
              "      <th>26</th>\n",
              "      <td>C</td>\n",
              "      <td>4</td>\n",
              "      <td>53</td>\n",
              "      <td>62</td>\n",
              "    </tr>\n",
              "    <tr>\n",
              "      <th>27</th>\n",
              "      <td>L</td>\n",
              "      <td>4</td>\n",
              "      <td>13</td>\n",
              "      <td>59</td>\n",
              "    </tr>\n",
              "    <tr>\n",
              "      <th>28</th>\n",
              "      <td>K</td>\n",
              "      <td>0</td>\n",
              "      <td>48</td>\n",
              "      <td>59</td>\n",
              "    </tr>\n",
              "    <tr>\n",
              "      <th>29</th>\n",
              "      <td>B</td>\n",
              "      <td>2</td>\n",
              "      <td>62</td>\n",
              "      <td>88</td>\n",
              "    </tr>\n",
              "    <tr>\n",
              "      <th>...</th>\n",
              "      <td>...</td>\n",
              "      <td>...</td>\n",
              "      <td>...</td>\n",
              "      <td>...</td>\n",
              "    </tr>\n",
              "    <tr>\n",
              "      <th>70</th>\n",
              "      <td>I</td>\n",
              "      <td>1</td>\n",
              "      <td>42</td>\n",
              "      <td>62</td>\n",
              "    </tr>\n",
              "    <tr>\n",
              "      <th>71</th>\n",
              "      <td>H</td>\n",
              "      <td>2</td>\n",
              "      <td>61</td>\n",
              "      <td>54</td>\n",
              "    </tr>\n",
              "    <tr>\n",
              "      <th>72</th>\n",
              "      <td>L</td>\n",
              "      <td>2</td>\n",
              "      <td>95</td>\n",
              "      <td>83</td>\n",
              "    </tr>\n",
              "    <tr>\n",
              "      <th>73</th>\n",
              "      <td>L</td>\n",
              "      <td>3</td>\n",
              "      <td>87</td>\n",
              "      <td>74</td>\n",
              "    </tr>\n",
              "    <tr>\n",
              "      <th>74</th>\n",
              "      <td>C</td>\n",
              "      <td>0</td>\n",
              "      <td>49</td>\n",
              "      <td>54</td>\n",
              "    </tr>\n",
              "    <tr>\n",
              "      <th>75</th>\n",
              "      <td>F</td>\n",
              "      <td>3</td>\n",
              "      <td>54</td>\n",
              "      <td>54</td>\n",
              "    </tr>\n",
              "    <tr>\n",
              "      <th>76</th>\n",
              "      <td>C</td>\n",
              "      <td>4</td>\n",
              "      <td>19</td>\n",
              "      <td>70</td>\n",
              "    </tr>\n",
              "    <tr>\n",
              "      <th>77</th>\n",
              "      <td>J</td>\n",
              "      <td>2</td>\n",
              "      <td>44</td>\n",
              "      <td>67</td>\n",
              "    </tr>\n",
              "    <tr>\n",
              "      <th>78</th>\n",
              "      <td>F</td>\n",
              "      <td>3</td>\n",
              "      <td>53</td>\n",
              "      <td>66</td>\n",
              "    </tr>\n",
              "    <tr>\n",
              "      <th>79</th>\n",
              "      <td>B</td>\n",
              "      <td>2</td>\n",
              "      <td>52</td>\n",
              "      <td>74</td>\n",
              "    </tr>\n",
              "    <tr>\n",
              "      <th>80</th>\n",
              "      <td>I</td>\n",
              "      <td>2</td>\n",
              "      <td>61</td>\n",
              "      <td>70</td>\n",
              "    </tr>\n",
              "    <tr>\n",
              "      <th>81</th>\n",
              "      <td>L</td>\n",
              "      <td>1</td>\n",
              "      <td>73</td>\n",
              "      <td>59</td>\n",
              "    </tr>\n",
              "    <tr>\n",
              "      <th>82</th>\n",
              "      <td>H</td>\n",
              "      <td>4</td>\n",
              "      <td>91</td>\n",
              "      <td>45</td>\n",
              "    </tr>\n",
              "    <tr>\n",
              "      <th>83</th>\n",
              "      <td>B</td>\n",
              "      <td>1</td>\n",
              "      <td>28</td>\n",
              "      <td>87</td>\n",
              "    </tr>\n",
              "    <tr>\n",
              "      <th>84</th>\n",
              "      <td>G</td>\n",
              "      <td>4</td>\n",
              "      <td>75</td>\n",
              "      <td>63</td>\n",
              "    </tr>\n",
              "    <tr>\n",
              "      <th>85</th>\n",
              "      <td>L</td>\n",
              "      <td>1</td>\n",
              "      <td>88</td>\n",
              "      <td>75</td>\n",
              "    </tr>\n",
              "    <tr>\n",
              "      <th>86</th>\n",
              "      <td>G</td>\n",
              "      <td>2</td>\n",
              "      <td>96</td>\n",
              "      <td>88</td>\n",
              "    </tr>\n",
              "    <tr>\n",
              "      <th>87</th>\n",
              "      <td>B</td>\n",
              "      <td>4</td>\n",
              "      <td>59</td>\n",
              "      <td>57</td>\n",
              "    </tr>\n",
              "    <tr>\n",
              "      <th>88</th>\n",
              "      <td>F</td>\n",
              "      <td>2</td>\n",
              "      <td>61</td>\n",
              "      <td>74</td>\n",
              "    </tr>\n",
              "    <tr>\n",
              "      <th>89</th>\n",
              "      <td>F</td>\n",
              "      <td>4</td>\n",
              "      <td>78</td>\n",
              "      <td>48</td>\n",
              "    </tr>\n",
              "    <tr>\n",
              "      <th>90</th>\n",
              "      <td>L</td>\n",
              "      <td>3</td>\n",
              "      <td>49</td>\n",
              "      <td>72</td>\n",
              "    </tr>\n",
              "    <tr>\n",
              "      <th>91</th>\n",
              "      <td>J</td>\n",
              "      <td>4</td>\n",
              "      <td>50</td>\n",
              "      <td>74</td>\n",
              "    </tr>\n",
              "    <tr>\n",
              "      <th>92</th>\n",
              "      <td>E</td>\n",
              "      <td>4</td>\n",
              "      <td>18</td>\n",
              "      <td>70</td>\n",
              "    </tr>\n",
              "    <tr>\n",
              "      <th>93</th>\n",
              "      <td>D</td>\n",
              "      <td>4</td>\n",
              "      <td>53</td>\n",
              "      <td>76</td>\n",
              "    </tr>\n",
              "    <tr>\n",
              "      <th>94</th>\n",
              "      <td>J</td>\n",
              "      <td>3</td>\n",
              "      <td>17</td>\n",
              "      <td>57</td>\n",
              "    </tr>\n",
              "    <tr>\n",
              "      <th>95</th>\n",
              "      <td>F</td>\n",
              "      <td>2</td>\n",
              "      <td>37</td>\n",
              "      <td>72</td>\n",
              "    </tr>\n",
              "    <tr>\n",
              "      <th>96</th>\n",
              "      <td>F</td>\n",
              "      <td>3</td>\n",
              "      <td>45</td>\n",
              "      <td>67</td>\n",
              "    </tr>\n",
              "    <tr>\n",
              "      <th>97</th>\n",
              "      <td>C</td>\n",
              "      <td>2</td>\n",
              "      <td>29</td>\n",
              "      <td>44</td>\n",
              "    </tr>\n",
              "    <tr>\n",
              "      <th>98</th>\n",
              "      <td>D</td>\n",
              "      <td>4</td>\n",
              "      <td>33</td>\n",
              "      <td>73</td>\n",
              "    </tr>\n",
              "    <tr>\n",
              "      <th>99</th>\n",
              "      <td>C</td>\n",
              "      <td>0</td>\n",
              "      <td>17</td>\n",
              "      <td>76</td>\n",
              "    </tr>\n",
              "  </tbody>\n",
              "</table>\n",
              "<p>100 rows × 4 columns</p>\n",
              "</div>"
            ],
            "text/plain": [
              "   Student  Batch  Science  Math\n",
              "0        H      2       64    77\n",
              "1        I      1       27    65\n",
              "2        J      4       71    57\n",
              "3        L      2       43    76\n",
              "4        A      3       83    66\n",
              "5        L      2       61    64\n",
              "6        D      0       18    48\n",
              "7        L      0       91    89\n",
              "8        K      3       14    84\n",
              "9        F      1       46    54\n",
              "10       K      1       94    53\n",
              "11       A      1       23    74\n",
              "12       B      4       62    57\n",
              "13       E      2       40    54\n",
              "14       K      2       32    48\n",
              "15       H      2       84    84\n",
              "16       B      4       47    50\n",
              "17       A      2       82    69\n",
              "18       B      2       81    54\n",
              "19       H      2       16    41\n",
              "20       K      4       84    80\n",
              "21       B      4       97    66\n",
              "22       D      4       36    89\n",
              "23       F      2       48    73\n",
              "24       A      4       24    84\n",
              "25       F      4       68    56\n",
              "26       C      4       53    62\n",
              "27       L      4       13    59\n",
              "28       K      0       48    59\n",
              "29       B      2       62    88\n",
              "..     ...    ...      ...   ...\n",
              "70       I      1       42    62\n",
              "71       H      2       61    54\n",
              "72       L      2       95    83\n",
              "73       L      3       87    74\n",
              "74       C      0       49    54\n",
              "75       F      3       54    54\n",
              "76       C      4       19    70\n",
              "77       J      2       44    67\n",
              "78       F      3       53    66\n",
              "79       B      2       52    74\n",
              "80       I      2       61    70\n",
              "81       L      1       73    59\n",
              "82       H      4       91    45\n",
              "83       B      1       28    87\n",
              "84       G      4       75    63\n",
              "85       L      1       88    75\n",
              "86       G      2       96    88\n",
              "87       B      4       59    57\n",
              "88       F      2       61    74\n",
              "89       F      4       78    48\n",
              "90       L      3       49    72\n",
              "91       J      4       50    74\n",
              "92       E      4       18    70\n",
              "93       D      4       53    76\n",
              "94       J      3       17    57\n",
              "95       F      2       37    72\n",
              "96       F      3       45    67\n",
              "97       C      2       29    44\n",
              "98       D      4       33    73\n",
              "99       C      0       17    76\n",
              "\n",
              "[100 rows x 4 columns]"
            ]
          },
          "metadata": {
            "tags": []
          },
          "execution_count": 184
        }
      ]
    },
    {
      "cell_type": "code",
      "metadata": {
        "id": "Jox_rUvjMU7l",
        "colab_type": "code",
        "outputId": "f75dd287-e34d-4c21-a615-84204a3ae3c9",
        "colab": {
          "base_uri": "https://localhost:8080/",
          "height": 1000
        }
      },
      "source": [
        "for batch, data_batch in data.groupby('Batch'):\n",
        "  print(batch)\n",
        "  print(data_batch.mean()[['Science', 'Math']])\n",
        "  print(data_batch)"
      ],
      "execution_count": 0,
      "outputs": [
        {
          "output_type": "stream",
          "text": [
            "0\n",
            "Science    42.916667\n",
            "Math       64.250000\n",
            "dtype: float64\n",
            "   Student  Batch  Science  Math\n",
            "6        D      0       18    48\n",
            "7        L      0       91    89\n",
            "28       K      0       48    59\n",
            "30       J      0       20    61\n",
            "34       I      0       55    43\n",
            "36       B      0       24    86\n",
            "37       I      0       61    72\n",
            "44       C      0       20    66\n",
            "47       C      0       22    40\n",
            "55       I      0       90    77\n",
            "74       C      0       49    54\n",
            "99       C      0       17    76\n",
            "1\n",
            "Science    44.764706\n",
            "Math       65.529412\n",
            "dtype: float64\n",
            "   Student  Batch  Science  Math\n",
            "1        I      1       27    65\n",
            "9        F      1       46    54\n",
            "10       K      1       94    53\n",
            "11       A      1       23    74\n",
            "31       C      1       36    83\n",
            "33       F      1       39    65\n",
            "35       I      1       12    47\n",
            "45       H      1       48    84\n",
            "51       E      1       38    54\n",
            "52       E      1       33    72\n",
            "53       I      1       13    57\n",
            "64       L      1       91    65\n",
            "65       E      1       30    58\n",
            "70       I      1       42    62\n",
            "81       L      1       73    59\n",
            "83       B      1       28    87\n",
            "85       L      1       88    75\n",
            "2\n",
            "Science    57.925926\n",
            "Math       65.481481\n",
            "dtype: float64\n",
            "   Student  Batch  Science  Math\n",
            "0        H      2       64    77\n",
            "3        L      2       43    76\n",
            "5        L      2       61    64\n",
            "13       E      2       40    54\n",
            "14       K      2       32    48\n",
            "15       H      2       84    84\n",
            "17       A      2       82    69\n",
            "18       B      2       81    54\n",
            "19       H      2       16    41\n",
            "23       F      2       48    73\n",
            "29       B      2       62    88\n",
            "38       A      2       59    57\n",
            "48       K      2       36    40\n",
            "49       I      2       30    51\n",
            "56       E      2       32    49\n",
            "63       E      2       69    86\n",
            "66       H      2       94    50\n",
            "67       G      2       95    81\n",
            "71       H      2       61    54\n",
            "72       L      2       95    83\n",
            "77       J      2       44    67\n",
            "79       B      2       52    74\n",
            "80       I      2       61    70\n",
            "86       G      2       96    88\n",
            "88       F      2       61    74\n",
            "95       F      2       37    72\n",
            "97       C      2       29    44\n",
            "3\n",
            "Science    54.117647\n",
            "Math       70.764706\n",
            "dtype: float64\n",
            "   Student  Batch  Science  Math\n",
            "4        A      3       83    66\n",
            "8        K      3       14    84\n",
            "32       G      3       86    88\n",
            "39       C      3       66    86\n",
            "40       A      3       42    53\n",
            "43       H      3       59    50\n",
            "50       E      3       44    83\n",
            "54       E      3       98    73\n",
            "57       G      3       81    85\n",
            "59       J      3       29    62\n",
            "61       E      3       13    83\n",
            "73       L      3       87    74\n",
            "75       F      3       54    54\n",
            "78       F      3       53    66\n",
            "90       L      3       49    72\n",
            "94       J      3       17    57\n",
            "96       F      3       45    67\n",
            "4\n",
            "Science    50.481481\n",
            "Math       61.888889\n",
            "dtype: float64\n",
            "   Student  Batch  Science  Math\n",
            "2        J      4       71    57\n",
            "12       B      4       62    57\n",
            "16       B      4       47    50\n",
            "20       K      4       84    80\n",
            "21       B      4       97    66\n",
            "22       D      4       36    89\n",
            "24       A      4       24    84\n",
            "25       F      4       68    56\n",
            "26       C      4       53    62\n",
            "27       L      4       13    59\n",
            "41       F      4       57    52\n",
            "42       E      4       70    46\n",
            "46       D      4       34    49\n",
            "58       K      4       13    42\n",
            "60       E      4       33    68\n",
            "62       D      4       96    49\n",
            "68       L      4       17    42\n",
            "69       B      4       12    87\n",
            "76       C      4       19    70\n",
            "82       H      4       91    45\n",
            "84       G      4       75    63\n",
            "87       B      4       59    57\n",
            "89       F      4       78    48\n",
            "91       J      4       50    74\n",
            "92       E      4       18    70\n",
            "93       D      4       53    76\n",
            "98       D      4       33    73\n"
          ],
          "name": "stdout"
        }
      ]
    },
    {
      "cell_type": "code",
      "metadata": {
        "id": "Ic4Gu0FqLJNa",
        "colab_type": "code",
        "outputId": "0e128246-c2a2-4b0b-de60-bb1e265ebe9d",
        "colab": {
          "base_uri": "https://localhost:8080/",
          "height": 1000
        }
      },
      "source": [
        "def col_mean(df):\n",
        "  print(df)\n",
        "  return(df.mean()[['Science', 'Math']])\n",
        "data.groupby('Batch').apply(col_mean)"
      ],
      "execution_count": 0,
      "outputs": [
        {
          "output_type": "stream",
          "text": [
            "   Student  Batch  Science  Math\n",
            "6        D      0       18    48\n",
            "7        L      0       91    89\n",
            "28       K      0       48    59\n",
            "30       J      0       20    61\n",
            "34       I      0       55    43\n",
            "36       B      0       24    86\n",
            "37       I      0       61    72\n",
            "44       C      0       20    66\n",
            "47       C      0       22    40\n",
            "55       I      0       90    77\n",
            "74       C      0       49    54\n",
            "99       C      0       17    76\n",
            "   Student  Batch  Science  Math\n",
            "6        D      0       18    48\n",
            "7        L      0       91    89\n",
            "28       K      0       48    59\n",
            "30       J      0       20    61\n",
            "34       I      0       55    43\n",
            "36       B      0       24    86\n",
            "37       I      0       61    72\n",
            "44       C      0       20    66\n",
            "47       C      0       22    40\n",
            "55       I      0       90    77\n",
            "74       C      0       49    54\n",
            "99       C      0       17    76\n",
            "   Student  Batch  Science  Math\n",
            "1        I      1       27    65\n",
            "9        F      1       46    54\n",
            "10       K      1       94    53\n",
            "11       A      1       23    74\n",
            "31       C      1       36    83\n",
            "33       F      1       39    65\n",
            "35       I      1       12    47\n",
            "45       H      1       48    84\n",
            "51       E      1       38    54\n",
            "52       E      1       33    72\n",
            "53       I      1       13    57\n",
            "64       L      1       91    65\n",
            "65       E      1       30    58\n",
            "70       I      1       42    62\n",
            "81       L      1       73    59\n",
            "83       B      1       28    87\n",
            "85       L      1       88    75\n",
            "   Student  Batch  Science  Math\n",
            "0        H      2       64    77\n",
            "3        L      2       43    76\n",
            "5        L      2       61    64\n",
            "13       E      2       40    54\n",
            "14       K      2       32    48\n",
            "15       H      2       84    84\n",
            "17       A      2       82    69\n",
            "18       B      2       81    54\n",
            "19       H      2       16    41\n",
            "23       F      2       48    73\n",
            "29       B      2       62    88\n",
            "38       A      2       59    57\n",
            "48       K      2       36    40\n",
            "49       I      2       30    51\n",
            "56       E      2       32    49\n",
            "63       E      2       69    86\n",
            "66       H      2       94    50\n",
            "67       G      2       95    81\n",
            "71       H      2       61    54\n",
            "72       L      2       95    83\n",
            "77       J      2       44    67\n",
            "79       B      2       52    74\n",
            "80       I      2       61    70\n",
            "86       G      2       96    88\n",
            "88       F      2       61    74\n",
            "95       F      2       37    72\n",
            "97       C      2       29    44\n",
            "   Student  Batch  Science  Math\n",
            "4        A      3       83    66\n",
            "8        K      3       14    84\n",
            "32       G      3       86    88\n",
            "39       C      3       66    86\n",
            "40       A      3       42    53\n",
            "43       H      3       59    50\n",
            "50       E      3       44    83\n",
            "54       E      3       98    73\n",
            "57       G      3       81    85\n",
            "59       J      3       29    62\n",
            "61       E      3       13    83\n",
            "73       L      3       87    74\n",
            "75       F      3       54    54\n",
            "78       F      3       53    66\n",
            "90       L      3       49    72\n",
            "94       J      3       17    57\n",
            "96       F      3       45    67\n",
            "   Student  Batch  Science  Math\n",
            "2        J      4       71    57\n",
            "12       B      4       62    57\n",
            "16       B      4       47    50\n",
            "20       K      4       84    80\n",
            "21       B      4       97    66\n",
            "22       D      4       36    89\n",
            "24       A      4       24    84\n",
            "25       F      4       68    56\n",
            "26       C      4       53    62\n",
            "27       L      4       13    59\n",
            "41       F      4       57    52\n",
            "42       E      4       70    46\n",
            "46       D      4       34    49\n",
            "58       K      4       13    42\n",
            "60       E      4       33    68\n",
            "62       D      4       96    49\n",
            "68       L      4       17    42\n",
            "69       B      4       12    87\n",
            "76       C      4       19    70\n",
            "82       H      4       91    45\n",
            "84       G      4       75    63\n",
            "87       B      4       59    57\n",
            "89       F      4       78    48\n",
            "91       J      4       50    74\n",
            "92       E      4       18    70\n",
            "93       D      4       53    76\n",
            "98       D      4       33    73\n"
          ],
          "name": "stdout"
        },
        {
          "output_type": "execute_result",
          "data": {
            "text/html": [
              "<div>\n",
              "<style scoped>\n",
              "    .dataframe tbody tr th:only-of-type {\n",
              "        vertical-align: middle;\n",
              "    }\n",
              "\n",
              "    .dataframe tbody tr th {\n",
              "        vertical-align: top;\n",
              "    }\n",
              "\n",
              "    .dataframe thead th {\n",
              "        text-align: right;\n",
              "    }\n",
              "</style>\n",
              "<table border=\"1\" class=\"dataframe\">\n",
              "  <thead>\n",
              "    <tr style=\"text-align: right;\">\n",
              "      <th></th>\n",
              "      <th>Science</th>\n",
              "      <th>Math</th>\n",
              "    </tr>\n",
              "    <tr>\n",
              "      <th>Batch</th>\n",
              "      <th></th>\n",
              "      <th></th>\n",
              "    </tr>\n",
              "  </thead>\n",
              "  <tbody>\n",
              "    <tr>\n",
              "      <th>0</th>\n",
              "      <td>42.916667</td>\n",
              "      <td>64.250000</td>\n",
              "    </tr>\n",
              "    <tr>\n",
              "      <th>1</th>\n",
              "      <td>44.764706</td>\n",
              "      <td>65.529412</td>\n",
              "    </tr>\n",
              "    <tr>\n",
              "      <th>2</th>\n",
              "      <td>57.925926</td>\n",
              "      <td>65.481481</td>\n",
              "    </tr>\n",
              "    <tr>\n",
              "      <th>3</th>\n",
              "      <td>54.117647</td>\n",
              "      <td>70.764706</td>\n",
              "    </tr>\n",
              "    <tr>\n",
              "      <th>4</th>\n",
              "      <td>50.481481</td>\n",
              "      <td>61.888889</td>\n",
              "    </tr>\n",
              "  </tbody>\n",
              "</table>\n",
              "</div>"
            ],
            "text/plain": [
              "         Science       Math\n",
              "Batch                      \n",
              "0      42.916667  64.250000\n",
              "1      44.764706  65.529412\n",
              "2      57.925926  65.481481\n",
              "3      54.117647  70.764706\n",
              "4      50.481481  61.888889"
            ]
          },
          "metadata": {
            "tags": []
          },
          "execution_count": 194
        }
      ]
    },
    {
      "cell_type": "code",
      "metadata": {
        "id": "3jTi3WFbNJHk",
        "colab_type": "code",
        "outputId": "647ce1b6-113c-4f66-ff49-9d688dd647f9",
        "colab": {
          "base_uri": "https://localhost:8080/",
          "height": 235
        }
      },
      "source": [
        "data.groupby('Batch').apply(np.mean)"
      ],
      "execution_count": 0,
      "outputs": [
        {
          "output_type": "execute_result",
          "data": {
            "text/html": [
              "<div>\n",
              "<style scoped>\n",
              "    .dataframe tbody tr th:only-of-type {\n",
              "        vertical-align: middle;\n",
              "    }\n",
              "\n",
              "    .dataframe tbody tr th {\n",
              "        vertical-align: top;\n",
              "    }\n",
              "\n",
              "    .dataframe thead th {\n",
              "        text-align: right;\n",
              "    }\n",
              "</style>\n",
              "<table border=\"1\" class=\"dataframe\">\n",
              "  <thead>\n",
              "    <tr style=\"text-align: right;\">\n",
              "      <th></th>\n",
              "      <th>Batch</th>\n",
              "      <th>Science</th>\n",
              "      <th>Math</th>\n",
              "    </tr>\n",
              "    <tr>\n",
              "      <th>Batch</th>\n",
              "      <th></th>\n",
              "      <th></th>\n",
              "      <th></th>\n",
              "    </tr>\n",
              "  </thead>\n",
              "  <tbody>\n",
              "    <tr>\n",
              "      <th>0</th>\n",
              "      <td>0.0</td>\n",
              "      <td>42.916667</td>\n",
              "      <td>64.250000</td>\n",
              "    </tr>\n",
              "    <tr>\n",
              "      <th>1</th>\n",
              "      <td>1.0</td>\n",
              "      <td>44.764706</td>\n",
              "      <td>65.529412</td>\n",
              "    </tr>\n",
              "    <tr>\n",
              "      <th>2</th>\n",
              "      <td>2.0</td>\n",
              "      <td>57.925926</td>\n",
              "      <td>65.481481</td>\n",
              "    </tr>\n",
              "    <tr>\n",
              "      <th>3</th>\n",
              "      <td>3.0</td>\n",
              "      <td>54.117647</td>\n",
              "      <td>70.764706</td>\n",
              "    </tr>\n",
              "    <tr>\n",
              "      <th>4</th>\n",
              "      <td>4.0</td>\n",
              "      <td>50.481481</td>\n",
              "      <td>61.888889</td>\n",
              "    </tr>\n",
              "  </tbody>\n",
              "</table>\n",
              "</div>"
            ],
            "text/plain": [
              "       Batch    Science       Math\n",
              "Batch                             \n",
              "0        0.0  42.916667  64.250000\n",
              "1        1.0  44.764706  65.529412\n",
              "2        2.0  57.925926  65.481481\n",
              "3        3.0  54.117647  70.764706\n",
              "4        4.0  50.481481  61.888889"
            ]
          },
          "metadata": {
            "tags": []
          },
          "execution_count": 197
        }
      ]
    },
    {
      "cell_type": "code",
      "metadata": {
        "id": "ZTgVkTV1LJHG",
        "colab_type": "code",
        "outputId": "66c2cc5d-eef2-4d69-93f0-9e71f917d680",
        "colab": {
          "base_uri": "https://localhost:8080/",
          "height": 235
        }
      },
      "source": [
        "data.groupby('Batch').mean()"
      ],
      "execution_count": 0,
      "outputs": [
        {
          "output_type": "execute_result",
          "data": {
            "text/html": [
              "<div>\n",
              "<style scoped>\n",
              "    .dataframe tbody tr th:only-of-type {\n",
              "        vertical-align: middle;\n",
              "    }\n",
              "\n",
              "    .dataframe tbody tr th {\n",
              "        vertical-align: top;\n",
              "    }\n",
              "\n",
              "    .dataframe thead th {\n",
              "        text-align: right;\n",
              "    }\n",
              "</style>\n",
              "<table border=\"1\" class=\"dataframe\">\n",
              "  <thead>\n",
              "    <tr style=\"text-align: right;\">\n",
              "      <th></th>\n",
              "      <th>Science</th>\n",
              "      <th>Math</th>\n",
              "    </tr>\n",
              "    <tr>\n",
              "      <th>Batch</th>\n",
              "      <th></th>\n",
              "      <th></th>\n",
              "    </tr>\n",
              "  </thead>\n",
              "  <tbody>\n",
              "    <tr>\n",
              "      <th>0</th>\n",
              "      <td>42.916667</td>\n",
              "      <td>64.250000</td>\n",
              "    </tr>\n",
              "    <tr>\n",
              "      <th>1</th>\n",
              "      <td>44.764706</td>\n",
              "      <td>65.529412</td>\n",
              "    </tr>\n",
              "    <tr>\n",
              "      <th>2</th>\n",
              "      <td>57.925926</td>\n",
              "      <td>65.481481</td>\n",
              "    </tr>\n",
              "    <tr>\n",
              "      <th>3</th>\n",
              "      <td>54.117647</td>\n",
              "      <td>70.764706</td>\n",
              "    </tr>\n",
              "    <tr>\n",
              "      <th>4</th>\n",
              "      <td>50.481481</td>\n",
              "      <td>61.888889</td>\n",
              "    </tr>\n",
              "  </tbody>\n",
              "</table>\n",
              "</div>"
            ],
            "text/plain": [
              "         Science       Math\n",
              "Batch                      \n",
              "0      42.916667  64.250000\n",
              "1      44.764706  65.529412\n",
              "2      57.925926  65.481481\n",
              "3      54.117647  70.764706\n",
              "4      50.481481  61.888889"
            ]
          },
          "metadata": {
            "tags": []
          },
          "execution_count": 196
        }
      ]
    },
    {
      "cell_type": "code",
      "metadata": {
        "id": "k7DkUxPsNa1o",
        "colab_type": "code",
        "outputId": "84a544c5-ad75-4f31-9aae-f379f69a23ad",
        "colab": {
          "base_uri": "https://localhost:8080/",
          "height": 1000
        }
      },
      "source": [
        "def col_mean(df):\n",
        "  print(df)\n",
        "  return(None)\n",
        "data.groupby('Batch').apply(col_mean)"
      ],
      "execution_count": 0,
      "outputs": [
        {
          "output_type": "stream",
          "text": [
            "   Student  Batch  Science  Math\n",
            "6        D      0       18    48\n",
            "7        L      0       91    89\n",
            "28       K      0       48    59\n",
            "30       J      0       20    61\n",
            "34       I      0       55    43\n",
            "36       B      0       24    86\n",
            "37       I      0       61    72\n",
            "44       C      0       20    66\n",
            "47       C      0       22    40\n",
            "55       I      0       90    77\n",
            "74       C      0       49    54\n",
            "99       C      0       17    76\n",
            "   Student  Batch  Science  Math\n",
            "6        D      0       18    48\n",
            "7        L      0       91    89\n",
            "28       K      0       48    59\n",
            "30       J      0       20    61\n",
            "34       I      0       55    43\n",
            "36       B      0       24    86\n",
            "37       I      0       61    72\n",
            "44       C      0       20    66\n",
            "47       C      0       22    40\n",
            "55       I      0       90    77\n",
            "74       C      0       49    54\n",
            "99       C      0       17    76\n",
            "   Student  Batch  Science  Math\n",
            "1        I      1       27    65\n",
            "9        F      1       46    54\n",
            "10       K      1       94    53\n",
            "11       A      1       23    74\n",
            "31       C      1       36    83\n",
            "33       F      1       39    65\n",
            "35       I      1       12    47\n",
            "45       H      1       48    84\n",
            "51       E      1       38    54\n",
            "52       E      1       33    72\n",
            "53       I      1       13    57\n",
            "64       L      1       91    65\n",
            "65       E      1       30    58\n",
            "70       I      1       42    62\n",
            "81       L      1       73    59\n",
            "83       B      1       28    87\n",
            "85       L      1       88    75\n",
            "   Student  Batch  Science  Math\n",
            "0        H      2       64    77\n",
            "3        L      2       43    76\n",
            "5        L      2       61    64\n",
            "13       E      2       40    54\n",
            "14       K      2       32    48\n",
            "15       H      2       84    84\n",
            "17       A      2       82    69\n",
            "18       B      2       81    54\n",
            "19       H      2       16    41\n",
            "23       F      2       48    73\n",
            "29       B      2       62    88\n",
            "38       A      2       59    57\n",
            "48       K      2       36    40\n",
            "49       I      2       30    51\n",
            "56       E      2       32    49\n",
            "63       E      2       69    86\n",
            "66       H      2       94    50\n",
            "67       G      2       95    81\n",
            "71       H      2       61    54\n",
            "72       L      2       95    83\n",
            "77       J      2       44    67\n",
            "79       B      2       52    74\n",
            "80       I      2       61    70\n",
            "86       G      2       96    88\n",
            "88       F      2       61    74\n",
            "95       F      2       37    72\n",
            "97       C      2       29    44\n",
            "   Student  Batch  Science  Math\n",
            "4        A      3       83    66\n",
            "8        K      3       14    84\n",
            "32       G      3       86    88\n",
            "39       C      3       66    86\n",
            "40       A      3       42    53\n",
            "43       H      3       59    50\n",
            "50       E      3       44    83\n",
            "54       E      3       98    73\n",
            "57       G      3       81    85\n",
            "59       J      3       29    62\n",
            "61       E      3       13    83\n",
            "73       L      3       87    74\n",
            "75       F      3       54    54\n",
            "78       F      3       53    66\n",
            "90       L      3       49    72\n",
            "94       J      3       17    57\n",
            "96       F      3       45    67\n",
            "   Student  Batch  Science  Math\n",
            "2        J      4       71    57\n",
            "12       B      4       62    57\n",
            "16       B      4       47    50\n",
            "20       K      4       84    80\n",
            "21       B      4       97    66\n",
            "22       D      4       36    89\n",
            "24       A      4       24    84\n",
            "25       F      4       68    56\n",
            "26       C      4       53    62\n",
            "27       L      4       13    59\n",
            "41       F      4       57    52\n",
            "42       E      4       70    46\n",
            "46       D      4       34    49\n",
            "58       K      4       13    42\n",
            "60       E      4       33    68\n",
            "62       D      4       96    49\n",
            "68       L      4       17    42\n",
            "69       B      4       12    87\n",
            "76       C      4       19    70\n",
            "82       H      4       91    45\n",
            "84       G      4       75    63\n",
            "87       B      4       59    57\n",
            "89       F      4       78    48\n",
            "91       J      4       50    74\n",
            "92       E      4       18    70\n",
            "93       D      4       53    76\n",
            "98       D      4       33    73\n"
          ],
          "name": "stdout"
        },
        {
          "output_type": "execute_result",
          "data": {
            "text/html": [
              "<div>\n",
              "<style scoped>\n",
              "    .dataframe tbody tr th:only-of-type {\n",
              "        vertical-align: middle;\n",
              "    }\n",
              "\n",
              "    .dataframe tbody tr th {\n",
              "        vertical-align: top;\n",
              "    }\n",
              "\n",
              "    .dataframe thead th {\n",
              "        text-align: right;\n",
              "    }\n",
              "</style>\n",
              "<table border=\"1\" class=\"dataframe\">\n",
              "  <thead>\n",
              "    <tr style=\"text-align: right;\">\n",
              "      <th></th>\n",
              "    </tr>\n",
              "  </thead>\n",
              "  <tbody>\n",
              "  </tbody>\n",
              "</table>\n",
              "</div>"
            ],
            "text/plain": [
              "Empty DataFrame\n",
              "Columns: []\n",
              "Index: []"
            ]
          },
          "metadata": {
            "tags": []
          },
          "execution_count": 199
        }
      ]
    },
    {
      "cell_type": "code",
      "metadata": {
        "id": "xE1KiFu9LJCd",
        "colab_type": "code",
        "outputId": "dee6f714-af0e-41a5-9170-43d04cf02e3f",
        "colab": {
          "base_uri": "https://localhost:8080/",
          "height": 1000
        }
      },
      "source": [
        "data.groupby('Batch').cumsum().join(data, lsuffix='_cumsum')"
      ],
      "execution_count": 0,
      "outputs": [
        {
          "output_type": "execute_result",
          "data": {
            "text/html": [
              "<div>\n",
              "<style scoped>\n",
              "    .dataframe tbody tr th:only-of-type {\n",
              "        vertical-align: middle;\n",
              "    }\n",
              "\n",
              "    .dataframe tbody tr th {\n",
              "        vertical-align: top;\n",
              "    }\n",
              "\n",
              "    .dataframe thead th {\n",
              "        text-align: right;\n",
              "    }\n",
              "</style>\n",
              "<table border=\"1\" class=\"dataframe\">\n",
              "  <thead>\n",
              "    <tr style=\"text-align: right;\">\n",
              "      <th></th>\n",
              "      <th>Science_cumsum</th>\n",
              "      <th>Math_cumsum</th>\n",
              "      <th>Student</th>\n",
              "      <th>Batch</th>\n",
              "      <th>Science</th>\n",
              "      <th>Math</th>\n",
              "    </tr>\n",
              "  </thead>\n",
              "  <tbody>\n",
              "    <tr>\n",
              "      <th>0</th>\n",
              "      <td>64</td>\n",
              "      <td>77</td>\n",
              "      <td>H</td>\n",
              "      <td>2</td>\n",
              "      <td>64</td>\n",
              "      <td>77</td>\n",
              "    </tr>\n",
              "    <tr>\n",
              "      <th>1</th>\n",
              "      <td>27</td>\n",
              "      <td>65</td>\n",
              "      <td>I</td>\n",
              "      <td>1</td>\n",
              "      <td>27</td>\n",
              "      <td>65</td>\n",
              "    </tr>\n",
              "    <tr>\n",
              "      <th>2</th>\n",
              "      <td>71</td>\n",
              "      <td>57</td>\n",
              "      <td>J</td>\n",
              "      <td>4</td>\n",
              "      <td>71</td>\n",
              "      <td>57</td>\n",
              "    </tr>\n",
              "    <tr>\n",
              "      <th>3</th>\n",
              "      <td>107</td>\n",
              "      <td>153</td>\n",
              "      <td>L</td>\n",
              "      <td>2</td>\n",
              "      <td>43</td>\n",
              "      <td>76</td>\n",
              "    </tr>\n",
              "    <tr>\n",
              "      <th>4</th>\n",
              "      <td>83</td>\n",
              "      <td>66</td>\n",
              "      <td>A</td>\n",
              "      <td>3</td>\n",
              "      <td>83</td>\n",
              "      <td>66</td>\n",
              "    </tr>\n",
              "    <tr>\n",
              "      <th>5</th>\n",
              "      <td>168</td>\n",
              "      <td>217</td>\n",
              "      <td>L</td>\n",
              "      <td>2</td>\n",
              "      <td>61</td>\n",
              "      <td>64</td>\n",
              "    </tr>\n",
              "    <tr>\n",
              "      <th>6</th>\n",
              "      <td>18</td>\n",
              "      <td>48</td>\n",
              "      <td>D</td>\n",
              "      <td>0</td>\n",
              "      <td>18</td>\n",
              "      <td>48</td>\n",
              "    </tr>\n",
              "    <tr>\n",
              "      <th>7</th>\n",
              "      <td>109</td>\n",
              "      <td>137</td>\n",
              "      <td>L</td>\n",
              "      <td>0</td>\n",
              "      <td>91</td>\n",
              "      <td>89</td>\n",
              "    </tr>\n",
              "    <tr>\n",
              "      <th>8</th>\n",
              "      <td>97</td>\n",
              "      <td>150</td>\n",
              "      <td>K</td>\n",
              "      <td>3</td>\n",
              "      <td>14</td>\n",
              "      <td>84</td>\n",
              "    </tr>\n",
              "    <tr>\n",
              "      <th>9</th>\n",
              "      <td>73</td>\n",
              "      <td>119</td>\n",
              "      <td>F</td>\n",
              "      <td>1</td>\n",
              "      <td>46</td>\n",
              "      <td>54</td>\n",
              "    </tr>\n",
              "    <tr>\n",
              "      <th>10</th>\n",
              "      <td>167</td>\n",
              "      <td>172</td>\n",
              "      <td>K</td>\n",
              "      <td>1</td>\n",
              "      <td>94</td>\n",
              "      <td>53</td>\n",
              "    </tr>\n",
              "    <tr>\n",
              "      <th>11</th>\n",
              "      <td>190</td>\n",
              "      <td>246</td>\n",
              "      <td>A</td>\n",
              "      <td>1</td>\n",
              "      <td>23</td>\n",
              "      <td>74</td>\n",
              "    </tr>\n",
              "    <tr>\n",
              "      <th>12</th>\n",
              "      <td>133</td>\n",
              "      <td>114</td>\n",
              "      <td>B</td>\n",
              "      <td>4</td>\n",
              "      <td>62</td>\n",
              "      <td>57</td>\n",
              "    </tr>\n",
              "    <tr>\n",
              "      <th>13</th>\n",
              "      <td>208</td>\n",
              "      <td>271</td>\n",
              "      <td>E</td>\n",
              "      <td>2</td>\n",
              "      <td>40</td>\n",
              "      <td>54</td>\n",
              "    </tr>\n",
              "    <tr>\n",
              "      <th>14</th>\n",
              "      <td>240</td>\n",
              "      <td>319</td>\n",
              "      <td>K</td>\n",
              "      <td>2</td>\n",
              "      <td>32</td>\n",
              "      <td>48</td>\n",
              "    </tr>\n",
              "    <tr>\n",
              "      <th>15</th>\n",
              "      <td>324</td>\n",
              "      <td>403</td>\n",
              "      <td>H</td>\n",
              "      <td>2</td>\n",
              "      <td>84</td>\n",
              "      <td>84</td>\n",
              "    </tr>\n",
              "    <tr>\n",
              "      <th>16</th>\n",
              "      <td>180</td>\n",
              "      <td>164</td>\n",
              "      <td>B</td>\n",
              "      <td>4</td>\n",
              "      <td>47</td>\n",
              "      <td>50</td>\n",
              "    </tr>\n",
              "    <tr>\n",
              "      <th>17</th>\n",
              "      <td>406</td>\n",
              "      <td>472</td>\n",
              "      <td>A</td>\n",
              "      <td>2</td>\n",
              "      <td>82</td>\n",
              "      <td>69</td>\n",
              "    </tr>\n",
              "    <tr>\n",
              "      <th>18</th>\n",
              "      <td>487</td>\n",
              "      <td>526</td>\n",
              "      <td>B</td>\n",
              "      <td>2</td>\n",
              "      <td>81</td>\n",
              "      <td>54</td>\n",
              "    </tr>\n",
              "    <tr>\n",
              "      <th>19</th>\n",
              "      <td>503</td>\n",
              "      <td>567</td>\n",
              "      <td>H</td>\n",
              "      <td>2</td>\n",
              "      <td>16</td>\n",
              "      <td>41</td>\n",
              "    </tr>\n",
              "    <tr>\n",
              "      <th>20</th>\n",
              "      <td>264</td>\n",
              "      <td>244</td>\n",
              "      <td>K</td>\n",
              "      <td>4</td>\n",
              "      <td>84</td>\n",
              "      <td>80</td>\n",
              "    </tr>\n",
              "    <tr>\n",
              "      <th>21</th>\n",
              "      <td>361</td>\n",
              "      <td>310</td>\n",
              "      <td>B</td>\n",
              "      <td>4</td>\n",
              "      <td>97</td>\n",
              "      <td>66</td>\n",
              "    </tr>\n",
              "    <tr>\n",
              "      <th>22</th>\n",
              "      <td>397</td>\n",
              "      <td>399</td>\n",
              "      <td>D</td>\n",
              "      <td>4</td>\n",
              "      <td>36</td>\n",
              "      <td>89</td>\n",
              "    </tr>\n",
              "    <tr>\n",
              "      <th>23</th>\n",
              "      <td>551</td>\n",
              "      <td>640</td>\n",
              "      <td>F</td>\n",
              "      <td>2</td>\n",
              "      <td>48</td>\n",
              "      <td>73</td>\n",
              "    </tr>\n",
              "    <tr>\n",
              "      <th>24</th>\n",
              "      <td>421</td>\n",
              "      <td>483</td>\n",
              "      <td>A</td>\n",
              "      <td>4</td>\n",
              "      <td>24</td>\n",
              "      <td>84</td>\n",
              "    </tr>\n",
              "    <tr>\n",
              "      <th>25</th>\n",
              "      <td>489</td>\n",
              "      <td>539</td>\n",
              "      <td>F</td>\n",
              "      <td>4</td>\n",
              "      <td>68</td>\n",
              "      <td>56</td>\n",
              "    </tr>\n",
              "    <tr>\n",
              "      <th>26</th>\n",
              "      <td>542</td>\n",
              "      <td>601</td>\n",
              "      <td>C</td>\n",
              "      <td>4</td>\n",
              "      <td>53</td>\n",
              "      <td>62</td>\n",
              "    </tr>\n",
              "    <tr>\n",
              "      <th>27</th>\n",
              "      <td>555</td>\n",
              "      <td>660</td>\n",
              "      <td>L</td>\n",
              "      <td>4</td>\n",
              "      <td>13</td>\n",
              "      <td>59</td>\n",
              "    </tr>\n",
              "    <tr>\n",
              "      <th>28</th>\n",
              "      <td>157</td>\n",
              "      <td>196</td>\n",
              "      <td>K</td>\n",
              "      <td>0</td>\n",
              "      <td>48</td>\n",
              "      <td>59</td>\n",
              "    </tr>\n",
              "    <tr>\n",
              "      <th>29</th>\n",
              "      <td>613</td>\n",
              "      <td>728</td>\n",
              "      <td>B</td>\n",
              "      <td>2</td>\n",
              "      <td>62</td>\n",
              "      <td>88</td>\n",
              "    </tr>\n",
              "    <tr>\n",
              "      <th>...</th>\n",
              "      <td>...</td>\n",
              "      <td>...</td>\n",
              "      <td>...</td>\n",
              "      <td>...</td>\n",
              "      <td>...</td>\n",
              "      <td>...</td>\n",
              "    </tr>\n",
              "    <tr>\n",
              "      <th>70</th>\n",
              "      <td>572</td>\n",
              "      <td>893</td>\n",
              "      <td>I</td>\n",
              "      <td>1</td>\n",
              "      <td>42</td>\n",
              "      <td>62</td>\n",
              "    </tr>\n",
              "    <tr>\n",
              "      <th>71</th>\n",
              "      <td>1089</td>\n",
              "      <td>1196</td>\n",
              "      <td>H</td>\n",
              "      <td>2</td>\n",
              "      <td>61</td>\n",
              "      <td>54</td>\n",
              "    </tr>\n",
              "    <tr>\n",
              "      <th>72</th>\n",
              "      <td>1184</td>\n",
              "      <td>1279</td>\n",
              "      <td>L</td>\n",
              "      <td>2</td>\n",
              "      <td>95</td>\n",
              "      <td>83</td>\n",
              "    </tr>\n",
              "    <tr>\n",
              "      <th>73</th>\n",
              "      <td>702</td>\n",
              "      <td>887</td>\n",
              "      <td>L</td>\n",
              "      <td>3</td>\n",
              "      <td>87</td>\n",
              "      <td>74</td>\n",
              "    </tr>\n",
              "    <tr>\n",
              "      <th>74</th>\n",
              "      <td>498</td>\n",
              "      <td>695</td>\n",
              "      <td>C</td>\n",
              "      <td>0</td>\n",
              "      <td>49</td>\n",
              "      <td>54</td>\n",
              "    </tr>\n",
              "    <tr>\n",
              "      <th>75</th>\n",
              "      <td>756</td>\n",
              "      <td>941</td>\n",
              "      <td>F</td>\n",
              "      <td>3</td>\n",
              "      <td>54</td>\n",
              "      <td>54</td>\n",
              "    </tr>\n",
              "    <tr>\n",
              "      <th>76</th>\n",
              "      <td>906</td>\n",
              "      <td>1165</td>\n",
              "      <td>C</td>\n",
              "      <td>4</td>\n",
              "      <td>19</td>\n",
              "      <td>70</td>\n",
              "    </tr>\n",
              "    <tr>\n",
              "      <th>77</th>\n",
              "      <td>1228</td>\n",
              "      <td>1346</td>\n",
              "      <td>J</td>\n",
              "      <td>2</td>\n",
              "      <td>44</td>\n",
              "      <td>67</td>\n",
              "    </tr>\n",
              "    <tr>\n",
              "      <th>78</th>\n",
              "      <td>809</td>\n",
              "      <td>1007</td>\n",
              "      <td>F</td>\n",
              "      <td>3</td>\n",
              "      <td>53</td>\n",
              "      <td>66</td>\n",
              "    </tr>\n",
              "    <tr>\n",
              "      <th>79</th>\n",
              "      <td>1280</td>\n",
              "      <td>1420</td>\n",
              "      <td>B</td>\n",
              "      <td>2</td>\n",
              "      <td>52</td>\n",
              "      <td>74</td>\n",
              "    </tr>\n",
              "    <tr>\n",
              "      <th>80</th>\n",
              "      <td>1341</td>\n",
              "      <td>1490</td>\n",
              "      <td>I</td>\n",
              "      <td>2</td>\n",
              "      <td>61</td>\n",
              "      <td>70</td>\n",
              "    </tr>\n",
              "    <tr>\n",
              "      <th>81</th>\n",
              "      <td>645</td>\n",
              "      <td>952</td>\n",
              "      <td>L</td>\n",
              "      <td>1</td>\n",
              "      <td>73</td>\n",
              "      <td>59</td>\n",
              "    </tr>\n",
              "    <tr>\n",
              "      <th>82</th>\n",
              "      <td>997</td>\n",
              "      <td>1210</td>\n",
              "      <td>H</td>\n",
              "      <td>4</td>\n",
              "      <td>91</td>\n",
              "      <td>45</td>\n",
              "    </tr>\n",
              "    <tr>\n",
              "      <th>83</th>\n",
              "      <td>673</td>\n",
              "      <td>1039</td>\n",
              "      <td>B</td>\n",
              "      <td>1</td>\n",
              "      <td>28</td>\n",
              "      <td>87</td>\n",
              "    </tr>\n",
              "    <tr>\n",
              "      <th>84</th>\n",
              "      <td>1072</td>\n",
              "      <td>1273</td>\n",
              "      <td>G</td>\n",
              "      <td>4</td>\n",
              "      <td>75</td>\n",
              "      <td>63</td>\n",
              "    </tr>\n",
              "    <tr>\n",
              "      <th>85</th>\n",
              "      <td>761</td>\n",
              "      <td>1114</td>\n",
              "      <td>L</td>\n",
              "      <td>1</td>\n",
              "      <td>88</td>\n",
              "      <td>75</td>\n",
              "    </tr>\n",
              "    <tr>\n",
              "      <th>86</th>\n",
              "      <td>1437</td>\n",
              "      <td>1578</td>\n",
              "      <td>G</td>\n",
              "      <td>2</td>\n",
              "      <td>96</td>\n",
              "      <td>88</td>\n",
              "    </tr>\n",
              "    <tr>\n",
              "      <th>87</th>\n",
              "      <td>1131</td>\n",
              "      <td>1330</td>\n",
              "      <td>B</td>\n",
              "      <td>4</td>\n",
              "      <td>59</td>\n",
              "      <td>57</td>\n",
              "    </tr>\n",
              "    <tr>\n",
              "      <th>88</th>\n",
              "      <td>1498</td>\n",
              "      <td>1652</td>\n",
              "      <td>F</td>\n",
              "      <td>2</td>\n",
              "      <td>61</td>\n",
              "      <td>74</td>\n",
              "    </tr>\n",
              "    <tr>\n",
              "      <th>89</th>\n",
              "      <td>1209</td>\n",
              "      <td>1378</td>\n",
              "      <td>F</td>\n",
              "      <td>4</td>\n",
              "      <td>78</td>\n",
              "      <td>48</td>\n",
              "    </tr>\n",
              "    <tr>\n",
              "      <th>90</th>\n",
              "      <td>858</td>\n",
              "      <td>1079</td>\n",
              "      <td>L</td>\n",
              "      <td>3</td>\n",
              "      <td>49</td>\n",
              "      <td>72</td>\n",
              "    </tr>\n",
              "    <tr>\n",
              "      <th>91</th>\n",
              "      <td>1259</td>\n",
              "      <td>1452</td>\n",
              "      <td>J</td>\n",
              "      <td>4</td>\n",
              "      <td>50</td>\n",
              "      <td>74</td>\n",
              "    </tr>\n",
              "    <tr>\n",
              "      <th>92</th>\n",
              "      <td>1277</td>\n",
              "      <td>1522</td>\n",
              "      <td>E</td>\n",
              "      <td>4</td>\n",
              "      <td>18</td>\n",
              "      <td>70</td>\n",
              "    </tr>\n",
              "    <tr>\n",
              "      <th>93</th>\n",
              "      <td>1330</td>\n",
              "      <td>1598</td>\n",
              "      <td>D</td>\n",
              "      <td>4</td>\n",
              "      <td>53</td>\n",
              "      <td>76</td>\n",
              "    </tr>\n",
              "    <tr>\n",
              "      <th>94</th>\n",
              "      <td>875</td>\n",
              "      <td>1136</td>\n",
              "      <td>J</td>\n",
              "      <td>3</td>\n",
              "      <td>17</td>\n",
              "      <td>57</td>\n",
              "    </tr>\n",
              "    <tr>\n",
              "      <th>95</th>\n",
              "      <td>1535</td>\n",
              "      <td>1724</td>\n",
              "      <td>F</td>\n",
              "      <td>2</td>\n",
              "      <td>37</td>\n",
              "      <td>72</td>\n",
              "    </tr>\n",
              "    <tr>\n",
              "      <th>96</th>\n",
              "      <td>920</td>\n",
              "      <td>1203</td>\n",
              "      <td>F</td>\n",
              "      <td>3</td>\n",
              "      <td>45</td>\n",
              "      <td>67</td>\n",
              "    </tr>\n",
              "    <tr>\n",
              "      <th>97</th>\n",
              "      <td>1564</td>\n",
              "      <td>1768</td>\n",
              "      <td>C</td>\n",
              "      <td>2</td>\n",
              "      <td>29</td>\n",
              "      <td>44</td>\n",
              "    </tr>\n",
              "    <tr>\n",
              "      <th>98</th>\n",
              "      <td>1363</td>\n",
              "      <td>1671</td>\n",
              "      <td>D</td>\n",
              "      <td>4</td>\n",
              "      <td>33</td>\n",
              "      <td>73</td>\n",
              "    </tr>\n",
              "    <tr>\n",
              "      <th>99</th>\n",
              "      <td>515</td>\n",
              "      <td>771</td>\n",
              "      <td>C</td>\n",
              "      <td>0</td>\n",
              "      <td>17</td>\n",
              "      <td>76</td>\n",
              "    </tr>\n",
              "  </tbody>\n",
              "</table>\n",
              "<p>100 rows × 6 columns</p>\n",
              "</div>"
            ],
            "text/plain": [
              "    Science_cumsum  Math_cumsum Student  Batch  Science  Math\n",
              "0               64           77       H      2       64    77\n",
              "1               27           65       I      1       27    65\n",
              "2               71           57       J      4       71    57\n",
              "3              107          153       L      2       43    76\n",
              "4               83           66       A      3       83    66\n",
              "5              168          217       L      2       61    64\n",
              "6               18           48       D      0       18    48\n",
              "7              109          137       L      0       91    89\n",
              "8               97          150       K      3       14    84\n",
              "9               73          119       F      1       46    54\n",
              "10             167          172       K      1       94    53\n",
              "11             190          246       A      1       23    74\n",
              "12             133          114       B      4       62    57\n",
              "13             208          271       E      2       40    54\n",
              "14             240          319       K      2       32    48\n",
              "15             324          403       H      2       84    84\n",
              "16             180          164       B      4       47    50\n",
              "17             406          472       A      2       82    69\n",
              "18             487          526       B      2       81    54\n",
              "19             503          567       H      2       16    41\n",
              "20             264          244       K      4       84    80\n",
              "21             361          310       B      4       97    66\n",
              "22             397          399       D      4       36    89\n",
              "23             551          640       F      2       48    73\n",
              "24             421          483       A      4       24    84\n",
              "25             489          539       F      4       68    56\n",
              "26             542          601       C      4       53    62\n",
              "27             555          660       L      4       13    59\n",
              "28             157          196       K      0       48    59\n",
              "29             613          728       B      2       62    88\n",
              "..             ...          ...     ...    ...      ...   ...\n",
              "70             572          893       I      1       42    62\n",
              "71            1089         1196       H      2       61    54\n",
              "72            1184         1279       L      2       95    83\n",
              "73             702          887       L      3       87    74\n",
              "74             498          695       C      0       49    54\n",
              "75             756          941       F      3       54    54\n",
              "76             906         1165       C      4       19    70\n",
              "77            1228         1346       J      2       44    67\n",
              "78             809         1007       F      3       53    66\n",
              "79            1280         1420       B      2       52    74\n",
              "80            1341         1490       I      2       61    70\n",
              "81             645          952       L      1       73    59\n",
              "82             997         1210       H      4       91    45\n",
              "83             673         1039       B      1       28    87\n",
              "84            1072         1273       G      4       75    63\n",
              "85             761         1114       L      1       88    75\n",
              "86            1437         1578       G      2       96    88\n",
              "87            1131         1330       B      4       59    57\n",
              "88            1498         1652       F      2       61    74\n",
              "89            1209         1378       F      4       78    48\n",
              "90             858         1079       L      3       49    72\n",
              "91            1259         1452       J      4       50    74\n",
              "92            1277         1522       E      4       18    70\n",
              "93            1330         1598       D      4       53    76\n",
              "94             875         1136       J      3       17    57\n",
              "95            1535         1724       F      2       37    72\n",
              "96             920         1203       F      3       45    67\n",
              "97            1564         1768       C      2       29    44\n",
              "98            1363         1671       D      4       33    73\n",
              "99             515          771       C      0       17    76\n",
              "\n",
              "[100 rows x 6 columns]"
            ]
          },
          "metadata": {
            "tags": []
          },
          "execution_count": 202
        }
      ]
    },
    {
      "cell_type": "code",
      "metadata": {
        "id": "NtUGSISPLI0s",
        "colab_type": "code",
        "colab": {}
      },
      "source": [
        ""
      ],
      "execution_count": 0,
      "outputs": []
    },
    {
      "cell_type": "markdown",
      "metadata": {
        "id": "3z55zpnn9YL2",
        "colab_type": "text"
      },
      "source": [
        "## Further Examples"
      ]
    },
    {
      "cell_type": "code",
      "metadata": {
        "id": "PlBlR8T7dBNf",
        "colab_type": "code",
        "outputId": "64175b97-cf1d-455d-c192-7f5e2081997f",
        "colab": {
          "base_uri": "https://localhost:8080/",
          "height": 1000
        }
      },
      "source": [
        "dates = pd.date_range(start='1/1/2010', end='12/31/2018', freq='W-MON')\n",
        "data = np.random.randint(low=25,high=1000,size=len(dates))\n",
        "status = [1,2,3]\n",
        "random_status = [status[np.random.randint(low=0,high=len(status))] for i in range(len(dates))]\n",
        "states = ['GA','FL','fl','NY','NJ','TX']\n",
        "random_states = [states[np.random.randint(low=0,high=len(states))] for i in range(len(dates))]\n",
        "output = list(zip(random_states, random_status, data, dates))\n",
        "output"
      ],
      "execution_count": 0,
      "outputs": [
        {
          "output_type": "execute_result",
          "data": {
            "text/plain": [
              "[('TX', 1, 792, Timestamp('2010-01-04 00:00:00', freq='W-MON')),\n",
              " ('NJ', 3, 350, Timestamp('2010-01-11 00:00:00', freq='W-MON')),\n",
              " ('TX', 3, 158, Timestamp('2010-01-18 00:00:00', freq='W-MON')),\n",
              " ('NJ', 1, 576, Timestamp('2010-01-25 00:00:00', freq='W-MON')),\n",
              " ('TX', 1, 198, Timestamp('2010-02-01 00:00:00', freq='W-MON')),\n",
              " ('GA', 1, 115, Timestamp('2010-02-08 00:00:00', freq='W-MON')),\n",
              " ('FL', 2, 391, Timestamp('2010-02-15 00:00:00', freq='W-MON')),\n",
              " ('GA', 1, 345, Timestamp('2010-02-22 00:00:00', freq='W-MON')),\n",
              " ('NJ', 3, 802, Timestamp('2010-03-01 00:00:00', freq='W-MON')),\n",
              " ('FL', 1, 481, Timestamp('2010-03-08 00:00:00', freq='W-MON')),\n",
              " ('FL', 2, 213, Timestamp('2010-03-15 00:00:00', freq='W-MON')),\n",
              " ('FL', 1, 228, Timestamp('2010-03-22 00:00:00', freq='W-MON')),\n",
              " ('FL', 3, 919, Timestamp('2010-03-29 00:00:00', freq='W-MON')),\n",
              " ('NY', 1, 978, Timestamp('2010-04-05 00:00:00', freq='W-MON')),\n",
              " ('fl', 3, 489, Timestamp('2010-04-12 00:00:00', freq='W-MON')),\n",
              " ('FL', 3, 706, Timestamp('2010-04-19 00:00:00', freq='W-MON')),\n",
              " ('GA', 1, 806, Timestamp('2010-04-26 00:00:00', freq='W-MON')),\n",
              " ('NJ', 1, 792, Timestamp('2010-05-03 00:00:00', freq='W-MON')),\n",
              " ('NJ', 2, 112, Timestamp('2010-05-10 00:00:00', freq='W-MON')),\n",
              " ('NJ', 3, 611, Timestamp('2010-05-17 00:00:00', freq='W-MON')),\n",
              " ('NJ', 1, 335, Timestamp('2010-05-24 00:00:00', freq='W-MON')),\n",
              " ('NY', 3, 659, Timestamp('2010-05-31 00:00:00', freq='W-MON')),\n",
              " ('TX', 3, 325, Timestamp('2010-06-07 00:00:00', freq='W-MON')),\n",
              " ('NY', 2, 776, Timestamp('2010-06-14 00:00:00', freq='W-MON')),\n",
              " ('TX', 1, 908, Timestamp('2010-06-21 00:00:00', freq='W-MON')),\n",
              " ('GA', 2, 695, Timestamp('2010-06-28 00:00:00', freq='W-MON')),\n",
              " ('FL', 2, 555, Timestamp('2010-07-05 00:00:00', freq='W-MON')),\n",
              " ('fl', 2, 345, Timestamp('2010-07-12 00:00:00', freq='W-MON')),\n",
              " ('FL', 3, 988, Timestamp('2010-07-19 00:00:00', freq='W-MON')),\n",
              " ('GA', 2, 344, Timestamp('2010-07-26 00:00:00', freq='W-MON')),\n",
              " ('FL', 1, 304, Timestamp('2010-08-02 00:00:00', freq='W-MON')),\n",
              " ('NJ', 2, 755, Timestamp('2010-08-09 00:00:00', freq='W-MON')),\n",
              " ('fl', 1, 425, Timestamp('2010-08-16 00:00:00', freq='W-MON')),\n",
              " ('TX', 3, 101, Timestamp('2010-08-23 00:00:00', freq='W-MON')),\n",
              " ('NJ', 3, 307, Timestamp('2010-08-30 00:00:00', freq='W-MON')),\n",
              " ('FL', 1, 341, Timestamp('2010-09-06 00:00:00', freq='W-MON')),\n",
              " ('NY', 3, 93, Timestamp('2010-09-13 00:00:00', freq='W-MON')),\n",
              " ('FL', 3, 263, Timestamp('2010-09-20 00:00:00', freq='W-MON')),\n",
              " ('NY', 3, 595, Timestamp('2010-09-27 00:00:00', freq='W-MON')),\n",
              " ('GA', 1, 378, Timestamp('2010-10-04 00:00:00', freq='W-MON')),\n",
              " ('TX', 2, 139, Timestamp('2010-10-11 00:00:00', freq='W-MON')),\n",
              " ('TX', 1, 964, Timestamp('2010-10-18 00:00:00', freq='W-MON')),\n",
              " ('NY', 2, 714, Timestamp('2010-10-25 00:00:00', freq='W-MON')),\n",
              " ('fl', 3, 64, Timestamp('2010-11-01 00:00:00', freq='W-MON')),\n",
              " ('GA', 3, 908, Timestamp('2010-11-08 00:00:00', freq='W-MON')),\n",
              " ('NY', 2, 927, Timestamp('2010-11-15 00:00:00', freq='W-MON')),\n",
              " ('NY', 2, 459, Timestamp('2010-11-22 00:00:00', freq='W-MON')),\n",
              " ('fl', 2, 510, Timestamp('2010-11-29 00:00:00', freq='W-MON')),\n",
              " ('GA', 1, 314, Timestamp('2010-12-06 00:00:00', freq='W-MON')),\n",
              " ('TX', 3, 401, Timestamp('2010-12-13 00:00:00', freq='W-MON')),\n",
              " ('fl', 2, 596, Timestamp('2010-12-20 00:00:00', freq='W-MON')),\n",
              " ('fl', 3, 679, Timestamp('2010-12-27 00:00:00', freq='W-MON')),\n",
              " ('GA', 2, 573, Timestamp('2011-01-03 00:00:00', freq='W-MON')),\n",
              " ('GA', 3, 697, Timestamp('2011-01-10 00:00:00', freq='W-MON')),\n",
              " ('NJ', 3, 771, Timestamp('2011-01-17 00:00:00', freq='W-MON')),\n",
              " ('NJ', 3, 659, Timestamp('2011-01-24 00:00:00', freq='W-MON')),\n",
              " ('fl', 2, 444, Timestamp('2011-01-31 00:00:00', freq='W-MON')),\n",
              " ('NJ', 2, 40, Timestamp('2011-02-07 00:00:00', freq='W-MON')),\n",
              " ('fl', 3, 973, Timestamp('2011-02-14 00:00:00', freq='W-MON')),\n",
              " ('fl', 1, 304, Timestamp('2011-02-21 00:00:00', freq='W-MON')),\n",
              " ('GA', 1, 413, Timestamp('2011-02-28 00:00:00', freq='W-MON')),\n",
              " ('NY', 2, 927, Timestamp('2011-03-07 00:00:00', freq='W-MON')),\n",
              " ('TX', 2, 563, Timestamp('2011-03-14 00:00:00', freq='W-MON')),\n",
              " ('NY', 3, 299, Timestamp('2011-03-21 00:00:00', freq='W-MON')),\n",
              " ('fl', 3, 600, Timestamp('2011-03-28 00:00:00', freq='W-MON')),\n",
              " ('GA', 1, 556, Timestamp('2011-04-04 00:00:00', freq='W-MON')),\n",
              " ('fl', 1, 316, Timestamp('2011-04-11 00:00:00', freq='W-MON')),\n",
              " ('NY', 3, 803, Timestamp('2011-04-18 00:00:00', freq='W-MON')),\n",
              " ('GA', 1, 457, Timestamp('2011-04-25 00:00:00', freq='W-MON')),\n",
              " ('TX', 1, 238, Timestamp('2011-05-02 00:00:00', freq='W-MON')),\n",
              " ('GA', 2, 456, Timestamp('2011-05-09 00:00:00', freq='W-MON')),\n",
              " ('FL', 2, 887, Timestamp('2011-05-16 00:00:00', freq='W-MON')),\n",
              " ('NY', 2, 340, Timestamp('2011-05-23 00:00:00', freq='W-MON')),\n",
              " ('NY', 2, 794, Timestamp('2011-05-30 00:00:00', freq='W-MON')),\n",
              " ('TX', 2, 915, Timestamp('2011-06-06 00:00:00', freq='W-MON')),\n",
              " ('NY', 2, 924, Timestamp('2011-06-13 00:00:00', freq='W-MON')),\n",
              " ('FL', 3, 451, Timestamp('2011-06-20 00:00:00', freq='W-MON')),\n",
              " ('NJ', 3, 454, Timestamp('2011-06-27 00:00:00', freq='W-MON')),\n",
              " ('NJ', 1, 547, Timestamp('2011-07-04 00:00:00', freq='W-MON')),\n",
              " ('GA', 2, 60, Timestamp('2011-07-11 00:00:00', freq='W-MON')),\n",
              " ('fl', 1, 886, Timestamp('2011-07-18 00:00:00', freq='W-MON')),\n",
              " ('NJ', 1, 29, Timestamp('2011-07-25 00:00:00', freq='W-MON')),\n",
              " ('FL', 2, 445, Timestamp('2011-08-01 00:00:00', freq='W-MON')),\n",
              " ('NY', 1, 407, Timestamp('2011-08-08 00:00:00', freq='W-MON')),\n",
              " ('NJ', 3, 973, Timestamp('2011-08-15 00:00:00', freq='W-MON')),\n",
              " ('GA', 1, 304, Timestamp('2011-08-22 00:00:00', freq='W-MON')),\n",
              " ('FL', 3, 497, Timestamp('2011-08-29 00:00:00', freq='W-MON')),\n",
              " ('FL', 3, 169, Timestamp('2011-09-05 00:00:00', freq='W-MON')),\n",
              " ('NJ', 2, 683, Timestamp('2011-09-12 00:00:00', freq='W-MON')),\n",
              " ('GA', 3, 669, Timestamp('2011-09-19 00:00:00', freq='W-MON')),\n",
              " ('GA', 1, 492, Timestamp('2011-09-26 00:00:00', freq='W-MON')),\n",
              " ('NJ', 2, 768, Timestamp('2011-10-03 00:00:00', freq='W-MON')),\n",
              " ('GA', 2, 618, Timestamp('2011-10-10 00:00:00', freq='W-MON')),\n",
              " ('TX', 3, 910, Timestamp('2011-10-17 00:00:00', freq='W-MON')),\n",
              " ('fl', 1, 971, Timestamp('2011-10-24 00:00:00', freq='W-MON')),\n",
              " ('TX', 1, 131, Timestamp('2011-10-31 00:00:00', freq='W-MON')),\n",
              " ('fl', 1, 423, Timestamp('2011-11-07 00:00:00', freq='W-MON')),\n",
              " ('GA', 2, 452, Timestamp('2011-11-14 00:00:00', freq='W-MON')),\n",
              " ('fl', 1, 90, Timestamp('2011-11-21 00:00:00', freq='W-MON')),\n",
              " ('GA', 1, 826, Timestamp('2011-11-28 00:00:00', freq='W-MON')),\n",
              " ('FL', 2, 539, Timestamp('2011-12-05 00:00:00', freq='W-MON')),\n",
              " ('TX', 1, 230, Timestamp('2011-12-12 00:00:00', freq='W-MON')),\n",
              " ('NY', 3, 791, Timestamp('2011-12-19 00:00:00', freq='W-MON')),\n",
              " ('TX', 1, 794, Timestamp('2011-12-26 00:00:00', freq='W-MON')),\n",
              " ('NJ', 3, 291, Timestamp('2012-01-02 00:00:00', freq='W-MON')),\n",
              " ('fl', 2, 686, Timestamp('2012-01-09 00:00:00', freq='W-MON')),\n",
              " ('GA', 3, 88, Timestamp('2012-01-16 00:00:00', freq='W-MON')),\n",
              " ('NY', 1, 636, Timestamp('2012-01-23 00:00:00', freq='W-MON')),\n",
              " ('FL', 1, 311, Timestamp('2012-01-30 00:00:00', freq='W-MON')),\n",
              " ('TX', 2, 456, Timestamp('2012-02-06 00:00:00', freq='W-MON')),\n",
              " ('NJ', 2, 47, Timestamp('2012-02-13 00:00:00', freq='W-MON')),\n",
              " ('FL', 3, 558, Timestamp('2012-02-20 00:00:00', freq='W-MON')),\n",
              " ('NY', 2, 317, Timestamp('2012-02-27 00:00:00', freq='W-MON')),\n",
              " ('TX', 3, 558, Timestamp('2012-03-05 00:00:00', freq='W-MON')),\n",
              " ('fl', 2, 369, Timestamp('2012-03-12 00:00:00', freq='W-MON')),\n",
              " ('GA', 1, 407, Timestamp('2012-03-19 00:00:00', freq='W-MON')),\n",
              " ('fl', 1, 703, Timestamp('2012-03-26 00:00:00', freq='W-MON')),\n",
              " ('NY', 1, 956, Timestamp('2012-04-02 00:00:00', freq='W-MON')),\n",
              " ('FL', 2, 545, Timestamp('2012-04-09 00:00:00', freq='W-MON')),\n",
              " ('NY', 3, 570, Timestamp('2012-04-16 00:00:00', freq='W-MON')),\n",
              " ('NJ', 2, 667, Timestamp('2012-04-23 00:00:00', freq='W-MON')),\n",
              " ('GA', 3, 204, Timestamp('2012-04-30 00:00:00', freq='W-MON')),\n",
              " ('NY', 1, 322, Timestamp('2012-05-07 00:00:00', freq='W-MON')),\n",
              " ('fl', 2, 839, Timestamp('2012-05-14 00:00:00', freq='W-MON')),\n",
              " ('NJ', 1, 808, Timestamp('2012-05-21 00:00:00', freq='W-MON')),\n",
              " ('fl', 1, 317, Timestamp('2012-05-28 00:00:00', freq='W-MON')),\n",
              " ('fl', 1, 782, Timestamp('2012-06-04 00:00:00', freq='W-MON')),\n",
              " ('fl', 3, 899, Timestamp('2012-06-11 00:00:00', freq='W-MON')),\n",
              " ('NJ', 3, 29, Timestamp('2012-06-18 00:00:00', freq='W-MON')),\n",
              " ('fl', 2, 216, Timestamp('2012-06-25 00:00:00', freq='W-MON')),\n",
              " ('GA', 1, 721, Timestamp('2012-07-02 00:00:00', freq='W-MON')),\n",
              " ('fl', 2, 929, Timestamp('2012-07-09 00:00:00', freq='W-MON')),\n",
              " ('FL', 2, 819, Timestamp('2012-07-16 00:00:00', freq='W-MON')),\n",
              " ('NJ', 2, 394, Timestamp('2012-07-23 00:00:00', freq='W-MON')),\n",
              " ('TX', 3, 910, Timestamp('2012-07-30 00:00:00', freq='W-MON')),\n",
              " ('fl', 1, 998, Timestamp('2012-08-06 00:00:00', freq='W-MON')),\n",
              " ('FL', 3, 834, Timestamp('2012-08-13 00:00:00', freq='W-MON')),\n",
              " ('NY', 2, 225, Timestamp('2012-08-20 00:00:00', freq='W-MON')),\n",
              " ('GA', 2, 966, Timestamp('2012-08-27 00:00:00', freq='W-MON')),\n",
              " ('FL', 2, 493, Timestamp('2012-09-03 00:00:00', freq='W-MON')),\n",
              " ('TX', 1, 690, Timestamp('2012-09-10 00:00:00', freq='W-MON')),\n",
              " ('fl', 3, 978, Timestamp('2012-09-17 00:00:00', freq='W-MON')),\n",
              " ('NJ', 1, 112, Timestamp('2012-09-24 00:00:00', freq='W-MON')),\n",
              " ('FL', 2, 683, Timestamp('2012-10-01 00:00:00', freq='W-MON')),\n",
              " ('NY', 2, 612, Timestamp('2012-10-08 00:00:00', freq='W-MON')),\n",
              " ('NY', 3, 661, Timestamp('2012-10-15 00:00:00', freq='W-MON')),\n",
              " ('NY', 2, 26, Timestamp('2012-10-22 00:00:00', freq='W-MON')),\n",
              " ('TX', 3, 474, Timestamp('2012-10-29 00:00:00', freq='W-MON')),\n",
              " ('FL', 2, 527, Timestamp('2012-11-05 00:00:00', freq='W-MON')),\n",
              " ('fl', 3, 659, Timestamp('2012-11-12 00:00:00', freq='W-MON')),\n",
              " ('GA', 1, 854, Timestamp('2012-11-19 00:00:00', freq='W-MON')),\n",
              " ('NJ', 1, 108, Timestamp('2012-11-26 00:00:00', freq='W-MON')),\n",
              " ('TX', 1, 554, Timestamp('2012-12-03 00:00:00', freq='W-MON')),\n",
              " ('fl', 1, 197, Timestamp('2012-12-10 00:00:00', freq='W-MON')),\n",
              " ('NY', 1, 919, Timestamp('2012-12-17 00:00:00', freq='W-MON')),\n",
              " ('GA', 1, 259, Timestamp('2012-12-24 00:00:00', freq='W-MON')),\n",
              " ('FL', 1, 243, Timestamp('2012-12-31 00:00:00', freq='W-MON')),\n",
              " ('fl', 3, 773, Timestamp('2013-01-07 00:00:00', freq='W-MON')),\n",
              " ('NJ', 1, 206, Timestamp('2013-01-14 00:00:00', freq='W-MON')),\n",
              " ('FL', 3, 625, Timestamp('2013-01-21 00:00:00', freq='W-MON')),\n",
              " ('NY', 2, 942, Timestamp('2013-01-28 00:00:00', freq='W-MON')),\n",
              " ('NJ', 3, 606, Timestamp('2013-02-04 00:00:00', freq='W-MON')),\n",
              " ('NY', 2, 117, Timestamp('2013-02-11 00:00:00', freq='W-MON')),\n",
              " ('GA', 2, 914, Timestamp('2013-02-18 00:00:00', freq='W-MON')),\n",
              " ('NJ', 3, 84, Timestamp('2013-02-25 00:00:00', freq='W-MON')),\n",
              " ('FL', 1, 381, Timestamp('2013-03-04 00:00:00', freq='W-MON')),\n",
              " ('GA', 1, 353, Timestamp('2013-03-11 00:00:00', freq='W-MON')),\n",
              " ('fl', 2, 138, Timestamp('2013-03-18 00:00:00', freq='W-MON')),\n",
              " ('NY', 3, 600, Timestamp('2013-03-25 00:00:00', freq='W-MON')),\n",
              " ('FL', 3, 505, Timestamp('2013-04-01 00:00:00', freq='W-MON')),\n",
              " ('NJ', 3, 399, Timestamp('2013-04-08 00:00:00', freq='W-MON')),\n",
              " ('fl', 2, 293, Timestamp('2013-04-15 00:00:00', freq='W-MON')),\n",
              " ('NY', 2, 464, Timestamp('2013-04-22 00:00:00', freq='W-MON')),\n",
              " ('TX', 1, 458, Timestamp('2013-04-29 00:00:00', freq='W-MON')),\n",
              " ('fl', 2, 904, Timestamp('2013-05-06 00:00:00', freq='W-MON')),\n",
              " ('FL', 3, 32, Timestamp('2013-05-13 00:00:00', freq='W-MON')),\n",
              " ('TX', 3, 557, Timestamp('2013-05-20 00:00:00', freq='W-MON')),\n",
              " ('NJ', 2, 667, Timestamp('2013-05-27 00:00:00', freq='W-MON')),\n",
              " ('NJ', 2, 87, Timestamp('2013-06-03 00:00:00', freq='W-MON')),\n",
              " ('NY', 1, 104, Timestamp('2013-06-10 00:00:00', freq='W-MON')),\n",
              " ('fl', 3, 510, Timestamp('2013-06-17 00:00:00', freq='W-MON')),\n",
              " ('fl', 2, 309, Timestamp('2013-06-24 00:00:00', freq='W-MON')),\n",
              " ('NY', 2, 803, Timestamp('2013-07-01 00:00:00', freq='W-MON')),\n",
              " ('TX', 3, 987, Timestamp('2013-07-08 00:00:00', freq='W-MON')),\n",
              " ('GA', 2, 522, Timestamp('2013-07-15 00:00:00', freq='W-MON')),\n",
              " ('NJ', 3, 166, Timestamp('2013-07-22 00:00:00', freq='W-MON')),\n",
              " ('NJ', 2, 445, Timestamp('2013-07-29 00:00:00', freq='W-MON')),\n",
              " ('NJ', 3, 727, Timestamp('2013-08-05 00:00:00', freq='W-MON')),\n",
              " ('fl', 1, 486, Timestamp('2013-08-12 00:00:00', freq='W-MON')),\n",
              " ('TX', 1, 696, Timestamp('2013-08-19 00:00:00', freq='W-MON')),\n",
              " ('GA', 1, 133, Timestamp('2013-08-26 00:00:00', freq='W-MON')),\n",
              " ('fl', 3, 60, Timestamp('2013-09-02 00:00:00', freq='W-MON')),\n",
              " ('NY', 3, 243, Timestamp('2013-09-09 00:00:00', freq='W-MON')),\n",
              " ('FL', 1, 27, Timestamp('2013-09-16 00:00:00', freq='W-MON')),\n",
              " ('NJ', 3, 995, Timestamp('2013-09-23 00:00:00', freq='W-MON')),\n",
              " ('NJ', 2, 427, Timestamp('2013-09-30 00:00:00', freq='W-MON')),\n",
              " ('GA', 2, 286, Timestamp('2013-10-07 00:00:00', freq='W-MON')),\n",
              " ('NJ', 3, 271, Timestamp('2013-10-14 00:00:00', freq='W-MON')),\n",
              " ('GA', 2, 968, Timestamp('2013-10-21 00:00:00', freq='W-MON')),\n",
              " ('fl', 3, 608, Timestamp('2013-10-28 00:00:00', freq='W-MON')),\n",
              " ('NJ', 2, 898, Timestamp('2013-11-04 00:00:00', freq='W-MON')),\n",
              " ('FL', 1, 874, Timestamp('2013-11-11 00:00:00', freq='W-MON')),\n",
              " ('TX', 1, 81, Timestamp('2013-11-18 00:00:00', freq='W-MON')),\n",
              " ('FL', 2, 158, Timestamp('2013-11-25 00:00:00', freq='W-MON')),\n",
              " ('fl', 1, 779, Timestamp('2013-12-02 00:00:00', freq='W-MON')),\n",
              " ('FL', 2, 385, Timestamp('2013-12-09 00:00:00', freq='W-MON')),\n",
              " ('TX', 1, 302, Timestamp('2013-12-16 00:00:00', freq='W-MON')),\n",
              " ('fl', 1, 126, Timestamp('2013-12-23 00:00:00', freq='W-MON')),\n",
              " ('FL', 3, 888, Timestamp('2013-12-30 00:00:00', freq='W-MON')),\n",
              " ('GA', 2, 873, Timestamp('2014-01-06 00:00:00', freq='W-MON')),\n",
              " ('GA', 3, 91, Timestamp('2014-01-13 00:00:00', freq='W-MON')),\n",
              " ('FL', 1, 258, Timestamp('2014-01-20 00:00:00', freq='W-MON')),\n",
              " ('GA', 2, 52, Timestamp('2014-01-27 00:00:00', freq='W-MON')),\n",
              " ('GA', 2, 435, Timestamp('2014-02-03 00:00:00', freq='W-MON')),\n",
              " ('GA', 1, 31, Timestamp('2014-02-10 00:00:00', freq='W-MON')),\n",
              " ('fl', 1, 348, Timestamp('2014-02-17 00:00:00', freq='W-MON')),\n",
              " ('fl', 3, 777, Timestamp('2014-02-24 00:00:00', freq='W-MON')),\n",
              " ('FL', 2, 446, Timestamp('2014-03-03 00:00:00', freq='W-MON')),\n",
              " ('fl', 2, 150, Timestamp('2014-03-10 00:00:00', freq='W-MON')),\n",
              " ('GA', 1, 558, Timestamp('2014-03-17 00:00:00', freq='W-MON')),\n",
              " ('GA', 3, 406, Timestamp('2014-03-24 00:00:00', freq='W-MON')),\n",
              " ('FL', 3, 951, Timestamp('2014-03-31 00:00:00', freq='W-MON')),\n",
              " ('NY', 3, 487, Timestamp('2014-04-07 00:00:00', freq='W-MON')),\n",
              " ('GA', 3, 951, Timestamp('2014-04-14 00:00:00', freq='W-MON')),\n",
              " ('TX', 2, 997, Timestamp('2014-04-21 00:00:00', freq='W-MON')),\n",
              " ('GA', 2, 949, Timestamp('2014-04-28 00:00:00', freq='W-MON')),\n",
              " ('fl', 1, 776, Timestamp('2014-05-05 00:00:00', freq='W-MON')),\n",
              " ('TX', 3, 247, Timestamp('2014-05-12 00:00:00', freq='W-MON')),\n",
              " ('NY', 1, 558, Timestamp('2014-05-19 00:00:00', freq='W-MON')),\n",
              " ('FL', 1, 366, Timestamp('2014-05-26 00:00:00', freq='W-MON')),\n",
              " ('NJ', 2, 419, Timestamp('2014-06-02 00:00:00', freq='W-MON')),\n",
              " ('FL', 1, 175, Timestamp('2014-06-09 00:00:00', freq='W-MON')),\n",
              " ('NJ', 2, 574, Timestamp('2014-06-16 00:00:00', freq='W-MON')),\n",
              " ('TX', 1, 82, Timestamp('2014-06-23 00:00:00', freq='W-MON')),\n",
              " ('GA', 3, 132, Timestamp('2014-06-30 00:00:00', freq='W-MON')),\n",
              " ('TX', 2, 70, Timestamp('2014-07-07 00:00:00', freq='W-MON')),\n",
              " ('NJ', 1, 888, Timestamp('2014-07-14 00:00:00', freq='W-MON')),\n",
              " ('NY', 3, 582, Timestamp('2014-07-21 00:00:00', freq='W-MON')),\n",
              " ('GA', 3, 803, Timestamp('2014-07-28 00:00:00', freq='W-MON')),\n",
              " ('NY', 2, 72, Timestamp('2014-08-04 00:00:00', freq='W-MON')),\n",
              " ('TX', 1, 28, Timestamp('2014-08-11 00:00:00', freq='W-MON')),\n",
              " ('FL', 1, 266, Timestamp('2014-08-18 00:00:00', freq='W-MON')),\n",
              " ('FL', 2, 139, Timestamp('2014-08-25 00:00:00', freq='W-MON')),\n",
              " ('GA', 2, 851, Timestamp('2014-09-01 00:00:00', freq='W-MON')),\n",
              " ('NY', 3, 230, Timestamp('2014-09-08 00:00:00', freq='W-MON')),\n",
              " ('NY', 2, 476, Timestamp('2014-09-15 00:00:00', freq='W-MON')),\n",
              " ('fl', 1, 880, Timestamp('2014-09-22 00:00:00', freq='W-MON')),\n",
              " ('fl', 1, 616, Timestamp('2014-09-29 00:00:00', freq='W-MON')),\n",
              " ('GA', 2, 912, Timestamp('2014-10-06 00:00:00', freq='W-MON')),\n",
              " ('fl', 3, 28, Timestamp('2014-10-13 00:00:00', freq='W-MON')),\n",
              " ('TX', 1, 520, Timestamp('2014-10-20 00:00:00', freq='W-MON')),\n",
              " ('fl', 1, 858, Timestamp('2014-10-27 00:00:00', freq='W-MON')),\n",
              " ('NJ', 3, 632, Timestamp('2014-11-03 00:00:00', freq='W-MON')),\n",
              " ('NY', 1, 195, Timestamp('2014-11-10 00:00:00', freq='W-MON')),\n",
              " ('NY', 2, 154, Timestamp('2014-11-17 00:00:00', freq='W-MON')),\n",
              " ('NJ', 2, 340, Timestamp('2014-11-24 00:00:00', freq='W-MON')),\n",
              " ('TX', 2, 845, Timestamp('2014-12-01 00:00:00', freq='W-MON')),\n",
              " ('NJ', 1, 491, Timestamp('2014-12-08 00:00:00', freq='W-MON')),\n",
              " ('NY', 1, 811, Timestamp('2014-12-15 00:00:00', freq='W-MON')),\n",
              " ('NY', 1, 226, Timestamp('2014-12-22 00:00:00', freq='W-MON')),\n",
              " ('fl', 2, 450, Timestamp('2014-12-29 00:00:00', freq='W-MON')),\n",
              " ('TX', 1, 459, Timestamp('2015-01-05 00:00:00', freq='W-MON')),\n",
              " ('TX', 1, 984, Timestamp('2015-01-12 00:00:00', freq='W-MON')),\n",
              " ('GA', 2, 189, Timestamp('2015-01-19 00:00:00', freq='W-MON')),\n",
              " ('NJ', 3, 470, Timestamp('2015-01-26 00:00:00', freq='W-MON')),\n",
              " ('NJ', 1, 482, Timestamp('2015-02-02 00:00:00', freq='W-MON')),\n",
              " ('TX', 3, 237, Timestamp('2015-02-09 00:00:00', freq='W-MON')),\n",
              " ('GA', 2, 833, Timestamp('2015-02-16 00:00:00', freq='W-MON')),\n",
              " ('TX', 2, 826, Timestamp('2015-02-23 00:00:00', freq='W-MON')),\n",
              " ('TX', 3, 762, Timestamp('2015-03-02 00:00:00', freq='W-MON')),\n",
              " ('FL', 3, 886, Timestamp('2015-03-09 00:00:00', freq='W-MON')),\n",
              " ('NJ', 3, 924, Timestamp('2015-03-16 00:00:00', freq='W-MON')),\n",
              " ('NY', 1, 443, Timestamp('2015-03-23 00:00:00', freq='W-MON')),\n",
              " ('FL', 3, 644, Timestamp('2015-03-30 00:00:00', freq='W-MON')),\n",
              " ('fl', 3, 908, Timestamp('2015-04-06 00:00:00', freq='W-MON')),\n",
              " ('TX', 3, 653, Timestamp('2015-04-13 00:00:00', freq='W-MON')),\n",
              " ('TX', 2, 869, Timestamp('2015-04-20 00:00:00', freq='W-MON')),\n",
              " ('NJ', 2, 115, Timestamp('2015-04-27 00:00:00', freq='W-MON')),\n",
              " ('TX', 2, 298, Timestamp('2015-05-04 00:00:00', freq='W-MON')),\n",
              " ('NJ', 1, 29, Timestamp('2015-05-11 00:00:00', freq='W-MON')),\n",
              " ('NJ', 3, 844, Timestamp('2015-05-18 00:00:00', freq='W-MON')),\n",
              " ('TX', 1, 538, Timestamp('2015-05-25 00:00:00', freq='W-MON')),\n",
              " ('NY', 1, 937, Timestamp('2015-06-01 00:00:00', freq='W-MON')),\n",
              " ('FL', 2, 643, Timestamp('2015-06-08 00:00:00', freq='W-MON')),\n",
              " ('GA', 3, 459, Timestamp('2015-06-15 00:00:00', freq='W-MON')),\n",
              " ('GA', 1, 314, Timestamp('2015-06-22 00:00:00', freq='W-MON')),\n",
              " ('GA', 1, 271, Timestamp('2015-06-29 00:00:00', freq='W-MON')),\n",
              " ('GA', 2, 173, Timestamp('2015-07-06 00:00:00', freq='W-MON')),\n",
              " ('NJ', 1, 240, Timestamp('2015-07-13 00:00:00', freq='W-MON')),\n",
              " ('NJ', 3, 27, Timestamp('2015-07-20 00:00:00', freq='W-MON')),\n",
              " ('NY', 2, 99, Timestamp('2015-07-27 00:00:00', freq='W-MON')),\n",
              " ('fl', 2, 790, Timestamp('2015-08-03 00:00:00', freq='W-MON')),\n",
              " ('FL', 2, 78, Timestamp('2015-08-10 00:00:00', freq='W-MON')),\n",
              " ('NJ', 2, 551, Timestamp('2015-08-17 00:00:00', freq='W-MON')),\n",
              " ('TX', 3, 973, Timestamp('2015-08-24 00:00:00', freq='W-MON')),\n",
              " ('FL', 3, 343, Timestamp('2015-08-31 00:00:00', freq='W-MON')),\n",
              " ('NY', 1, 662, Timestamp('2015-09-07 00:00:00', freq='W-MON')),\n",
              " ('NY', 1, 331, Timestamp('2015-09-14 00:00:00', freq='W-MON')),\n",
              " ('NY', 3, 576, Timestamp('2015-09-21 00:00:00', freq='W-MON')),\n",
              " ('GA', 3, 805, Timestamp('2015-09-28 00:00:00', freq='W-MON')),\n",
              " ('TX', 2, 578, Timestamp('2015-10-05 00:00:00', freq='W-MON')),\n",
              " ('TX', 3, 174, Timestamp('2015-10-12 00:00:00', freq='W-MON')),\n",
              " ('TX', 3, 78, Timestamp('2015-10-19 00:00:00', freq='W-MON')),\n",
              " ('FL', 2, 130, Timestamp('2015-10-26 00:00:00', freq='W-MON')),\n",
              " ('FL', 1, 342, Timestamp('2015-11-02 00:00:00', freq='W-MON')),\n",
              " ('FL', 3, 891, Timestamp('2015-11-09 00:00:00', freq='W-MON')),\n",
              " ('fl', 2, 618, Timestamp('2015-11-16 00:00:00', freq='W-MON')),\n",
              " ('NJ', 3, 130, Timestamp('2015-11-23 00:00:00', freq='W-MON')),\n",
              " ('FL', 1, 923, Timestamp('2015-11-30 00:00:00', freq='W-MON')),\n",
              " ('TX', 3, 364, Timestamp('2015-12-07 00:00:00', freq='W-MON')),\n",
              " ('GA', 2, 609, Timestamp('2015-12-14 00:00:00', freq='W-MON')),\n",
              " ('GA', 2, 584, Timestamp('2015-12-21 00:00:00', freq='W-MON')),\n",
              " ('NY', 1, 560, Timestamp('2015-12-28 00:00:00', freq='W-MON')),\n",
              " ('fl', 2, 530, Timestamp('2016-01-04 00:00:00', freq='W-MON')),\n",
              " ('NY', 2, 588, Timestamp('2016-01-11 00:00:00', freq='W-MON')),\n",
              " ('NJ', 3, 994, Timestamp('2016-01-18 00:00:00', freq='W-MON')),\n",
              " ('FL', 2, 513, Timestamp('2016-01-25 00:00:00', freq='W-MON')),\n",
              " ('NJ', 2, 710, Timestamp('2016-02-01 00:00:00', freq='W-MON')),\n",
              " ('NY', 2, 733, Timestamp('2016-02-08 00:00:00', freq='W-MON')),\n",
              " ('NY', 3, 763, Timestamp('2016-02-15 00:00:00', freq='W-MON')),\n",
              " ('TX', 3, 534, Timestamp('2016-02-22 00:00:00', freq='W-MON')),\n",
              " ('NJ', 3, 928, Timestamp('2016-02-29 00:00:00', freq='W-MON')),\n",
              " ('FL', 1, 186, Timestamp('2016-03-07 00:00:00', freq='W-MON')),\n",
              " ('TX', 3, 204, Timestamp('2016-03-14 00:00:00', freq='W-MON')),\n",
              " ('NJ', 3, 477, Timestamp('2016-03-21 00:00:00', freq='W-MON')),\n",
              " ('GA', 2, 566, Timestamp('2016-03-28 00:00:00', freq='W-MON')),\n",
              " ('TX', 1, 435, Timestamp('2016-04-04 00:00:00', freq='W-MON')),\n",
              " ('GA', 1, 779, Timestamp('2016-04-11 00:00:00', freq='W-MON')),\n",
              " ('NY', 1, 540, Timestamp('2016-04-18 00:00:00', freq='W-MON')),\n",
              " ('GA', 1, 496, Timestamp('2016-04-25 00:00:00', freq='W-MON')),\n",
              " ('TX', 2, 458, Timestamp('2016-05-02 00:00:00', freq='W-MON')),\n",
              " ('NY', 3, 935, Timestamp('2016-05-09 00:00:00', freq='W-MON')),\n",
              " ('NY', 2, 822, Timestamp('2016-05-16 00:00:00', freq='W-MON')),\n",
              " ('NY', 3, 834, Timestamp('2016-05-23 00:00:00', freq='W-MON')),\n",
              " ('NY', 2, 528, Timestamp('2016-05-30 00:00:00', freq='W-MON')),\n",
              " ('NY', 2, 629, Timestamp('2016-06-06 00:00:00', freq='W-MON')),\n",
              " ('FL', 3, 247, Timestamp('2016-06-13 00:00:00', freq='W-MON')),\n",
              " ('TX', 3, 317, Timestamp('2016-06-20 00:00:00', freq='W-MON')),\n",
              " ('FL', 2, 363, Timestamp('2016-06-27 00:00:00', freq='W-MON')),\n",
              " ('fl', 1, 698, Timestamp('2016-07-04 00:00:00', freq='W-MON')),\n",
              " ('NY', 3, 851, Timestamp('2016-07-11 00:00:00', freq='W-MON')),\n",
              " ('NY', 2, 370, Timestamp('2016-07-18 00:00:00', freq='W-MON')),\n",
              " ('GA', 3, 748, Timestamp('2016-07-25 00:00:00', freq='W-MON')),\n",
              " ('FL', 2, 781, Timestamp('2016-08-01 00:00:00', freq='W-MON')),\n",
              " ('fl', 3, 571, Timestamp('2016-08-08 00:00:00', freq='W-MON')),\n",
              " ('NY', 2, 409, Timestamp('2016-08-15 00:00:00', freq='W-MON')),\n",
              " ('fl', 1, 672, Timestamp('2016-08-22 00:00:00', freq='W-MON')),\n",
              " ('NJ', 2, 955, Timestamp('2016-08-29 00:00:00', freq='W-MON')),\n",
              " ('NY', 1, 207, Timestamp('2016-09-05 00:00:00', freq='W-MON')),\n",
              " ('fl', 1, 938, Timestamp('2016-09-12 00:00:00', freq='W-MON')),\n",
              " ('NJ', 1, 706, Timestamp('2016-09-19 00:00:00', freq='W-MON')),\n",
              " ('FL', 3, 693, Timestamp('2016-09-26 00:00:00', freq='W-MON')),\n",
              " ('TX', 2, 113, Timestamp('2016-10-03 00:00:00', freq='W-MON')),\n",
              " ('NY', 3, 866, Timestamp('2016-10-10 00:00:00', freq='W-MON')),\n",
              " ('GA', 2, 576, Timestamp('2016-10-17 00:00:00', freq='W-MON')),\n",
              " ('FL', 2, 919, Timestamp('2016-10-24 00:00:00', freq='W-MON')),\n",
              " ('fl', 2, 525, Timestamp('2016-10-31 00:00:00', freq='W-MON')),\n",
              " ('FL', 3, 431, Timestamp('2016-11-07 00:00:00', freq='W-MON')),\n",
              " ('NY', 1, 266, Timestamp('2016-11-14 00:00:00', freq='W-MON')),\n",
              " ('NJ', 1, 141, Timestamp('2016-11-21 00:00:00', freq='W-MON')),\n",
              " ('NJ', 2, 511, Timestamp('2016-11-28 00:00:00', freq='W-MON')),\n",
              " ('FL', 3, 620, Timestamp('2016-12-05 00:00:00', freq='W-MON')),\n",
              " ('NJ', 2, 470, Timestamp('2016-12-12 00:00:00', freq='W-MON')),\n",
              " ('FL', 2, 25, Timestamp('2016-12-19 00:00:00', freq='W-MON')),\n",
              " ('FL', 1, 484, Timestamp('2016-12-26 00:00:00', freq='W-MON')),\n",
              " ('fl', 1, 321, Timestamp('2017-01-02 00:00:00', freq='W-MON')),\n",
              " ('NY', 3, 992, Timestamp('2017-01-09 00:00:00', freq='W-MON')),\n",
              " ('NY', 2, 566, Timestamp('2017-01-16 00:00:00', freq='W-MON')),\n",
              " ('NJ', 2, 372, Timestamp('2017-01-23 00:00:00', freq='W-MON')),\n",
              " ('NY', 2, 351, Timestamp('2017-01-30 00:00:00', freq='W-MON')),\n",
              " ('TX', 2, 718, Timestamp('2017-02-06 00:00:00', freq='W-MON')),\n",
              " ('FL', 1, 249, Timestamp('2017-02-13 00:00:00', freq='W-MON')),\n",
              " ('GA', 3, 843, Timestamp('2017-02-20 00:00:00', freq='W-MON')),\n",
              " ('NY', 3, 987, Timestamp('2017-02-27 00:00:00', freq='W-MON')),\n",
              " ('GA', 1, 735, Timestamp('2017-03-06 00:00:00', freq='W-MON')),\n",
              " ('fl', 2, 249, Timestamp('2017-03-13 00:00:00', freq='W-MON')),\n",
              " ('FL', 2, 768, Timestamp('2017-03-20 00:00:00', freq='W-MON')),\n",
              " ('GA', 3, 740, Timestamp('2017-03-27 00:00:00', freq='W-MON')),\n",
              " ('FL', 2, 701, Timestamp('2017-04-03 00:00:00', freq='W-MON')),\n",
              " ('NJ', 2, 776, Timestamp('2017-04-10 00:00:00', freq='W-MON')),\n",
              " ('TX', 1, 973, Timestamp('2017-04-17 00:00:00', freq='W-MON')),\n",
              " ('NJ', 2, 612, Timestamp('2017-04-24 00:00:00', freq='W-MON')),\n",
              " ('fl', 1, 355, Timestamp('2017-05-01 00:00:00', freq='W-MON')),\n",
              " ('NJ', 2, 459, Timestamp('2017-05-08 00:00:00', freq='W-MON')),\n",
              " ('GA', 3, 349, Timestamp('2017-05-15 00:00:00', freq='W-MON')),\n",
              " ('GA', 1, 700, Timestamp('2017-05-22 00:00:00', freq='W-MON')),\n",
              " ('NY', 1, 929, Timestamp('2017-05-29 00:00:00', freq='W-MON')),\n",
              " ('NY', 1, 31, Timestamp('2017-06-05 00:00:00', freq='W-MON')),\n",
              " ('GA', 1, 320, Timestamp('2017-06-12 00:00:00', freq='W-MON')),\n",
              " ('fl', 3, 940, Timestamp('2017-06-19 00:00:00', freq='W-MON')),\n",
              " ('TX', 1, 569, Timestamp('2017-06-26 00:00:00', freq='W-MON')),\n",
              " ('fl', 2, 806, Timestamp('2017-07-03 00:00:00', freq='W-MON')),\n",
              " ('NY', 3, 505, Timestamp('2017-07-10 00:00:00', freq='W-MON')),\n",
              " ('NJ', 3, 765, Timestamp('2017-07-17 00:00:00', freq='W-MON')),\n",
              " ('GA', 3, 907, Timestamp('2017-07-24 00:00:00', freq='W-MON')),\n",
              " ('NJ', 3, 804, Timestamp('2017-07-31 00:00:00', freq='W-MON')),\n",
              " ('FL', 3, 566, Timestamp('2017-08-07 00:00:00', freq='W-MON')),\n",
              " ('TX', 1, 747, Timestamp('2017-08-14 00:00:00', freq='W-MON')),\n",
              " ('GA', 1, 783, Timestamp('2017-08-21 00:00:00', freq='W-MON')),\n",
              " ('NJ', 3, 644, Timestamp('2017-08-28 00:00:00', freq='W-MON')),\n",
              " ('NY', 2, 166, Timestamp('2017-09-04 00:00:00', freq='W-MON')),\n",
              " ('NY', 2, 199, Timestamp('2017-09-11 00:00:00', freq='W-MON')),\n",
              " ('FL', 1, 826, Timestamp('2017-09-18 00:00:00', freq='W-MON')),\n",
              " ('FL', 3, 990, Timestamp('2017-09-25 00:00:00', freq='W-MON')),\n",
              " ('FL', 2, 750, Timestamp('2017-10-02 00:00:00', freq='W-MON')),\n",
              " ('NY', 1, 597, Timestamp('2017-10-09 00:00:00', freq='W-MON')),\n",
              " ('TX', 1, 738, Timestamp('2017-10-16 00:00:00', freq='W-MON')),\n",
              " ('NY', 1, 360, Timestamp('2017-10-23 00:00:00', freq='W-MON')),\n",
              " ('NJ', 1, 327, Timestamp('2017-10-30 00:00:00', freq='W-MON')),\n",
              " ('GA', 3, 219, Timestamp('2017-11-06 00:00:00', freq='W-MON')),\n",
              " ('GA', 3, 392, Timestamp('2017-11-13 00:00:00', freq='W-MON')),\n",
              " ('FL', 2, 404, Timestamp('2017-11-20 00:00:00', freq='W-MON')),\n",
              " ('GA', 1, 559, Timestamp('2017-11-27 00:00:00', freq='W-MON')),\n",
              " ('GA', 3, 97, Timestamp('2017-12-04 00:00:00', freq='W-MON')),\n",
              " ('NJ', 2, 90, Timestamp('2017-12-11 00:00:00', freq='W-MON')),\n",
              " ('TX', 2, 574, Timestamp('2017-12-18 00:00:00', freq='W-MON')),\n",
              " ('FL', 3, 221, Timestamp('2017-12-25 00:00:00', freq='W-MON')),\n",
              " ('TX', 2, 612, Timestamp('2018-01-01 00:00:00', freq='W-MON')),\n",
              " ('NJ', 2, 606, Timestamp('2018-01-08 00:00:00', freq='W-MON')),\n",
              " ('GA', 1, 164, Timestamp('2018-01-15 00:00:00', freq='W-MON')),\n",
              " ('GA', 2, 943, Timestamp('2018-01-22 00:00:00', freq='W-MON')),\n",
              " ('GA', 1, 937, Timestamp('2018-01-29 00:00:00', freq='W-MON')),\n",
              " ('NY', 2, 337, Timestamp('2018-02-05 00:00:00', freq='W-MON')),\n",
              " ('NJ', 1, 563, Timestamp('2018-02-12 00:00:00', freq='W-MON')),\n",
              " ('NJ', 3, 978, Timestamp('2018-02-19 00:00:00', freq='W-MON')),\n",
              " ('NY', 1, 731, Timestamp('2018-02-26 00:00:00', freq='W-MON')),\n",
              " ('fl', 2, 656, Timestamp('2018-03-05 00:00:00', freq='W-MON')),\n",
              " ('NY', 1, 817, Timestamp('2018-03-12 00:00:00', freq='W-MON')),\n",
              " ('NY', 1, 164, Timestamp('2018-03-19 00:00:00', freq='W-MON')),\n",
              " ('GA', 1, 610, Timestamp('2018-03-26 00:00:00', freq='W-MON')),\n",
              " ('TX', 1, 33, Timestamp('2018-04-02 00:00:00', freq='W-MON')),\n",
              " ('fl', 2, 577, Timestamp('2018-04-09 00:00:00', freq='W-MON')),\n",
              " ('TX', 3, 796, Timestamp('2018-04-16 00:00:00', freq='W-MON')),\n",
              " ('GA', 3, 836, Timestamp('2018-04-23 00:00:00', freq='W-MON')),\n",
              " ('fl', 1, 491, Timestamp('2018-04-30 00:00:00', freq='W-MON')),\n",
              " ('NJ', 1, 546, Timestamp('2018-05-07 00:00:00', freq='W-MON')),\n",
              " ('fl', 3, 330, Timestamp('2018-05-14 00:00:00', freq='W-MON')),\n",
              " ('fl', 3, 766, Timestamp('2018-05-21 00:00:00', freq='W-MON')),\n",
              " ('NY', 2, 265, Timestamp('2018-05-28 00:00:00', freq='W-MON')),\n",
              " ('NY', 1, 545, Timestamp('2018-06-04 00:00:00', freq='W-MON')),\n",
              " ('fl', 1, 423, Timestamp('2018-06-11 00:00:00', freq='W-MON')),\n",
              " ('NY', 2, 667, Timestamp('2018-06-18 00:00:00', freq='W-MON')),\n",
              " ('NY', 3, 834, Timestamp('2018-06-25 00:00:00', freq='W-MON')),\n",
              " ('NJ', 1, 240, Timestamp('2018-07-02 00:00:00', freq='W-MON')),\n",
              " ('GA', 3, 802, Timestamp('2018-07-09 00:00:00', freq='W-MON')),\n",
              " ('NJ', 2, 332, Timestamp('2018-07-16 00:00:00', freq='W-MON')),\n",
              " ('FL', 1, 802, Timestamp('2018-07-23 00:00:00', freq='W-MON')),\n",
              " ('GA', 3, 617, Timestamp('2018-07-30 00:00:00', freq='W-MON')),\n",
              " ('TX', 2, 72, Timestamp('2018-08-06 00:00:00', freq='W-MON')),\n",
              " ('fl', 1, 895, Timestamp('2018-08-13 00:00:00', freq='W-MON')),\n",
              " ('TX', 2, 576, Timestamp('2018-08-20 00:00:00', freq='W-MON')),\n",
              " ('fl', 2, 983, Timestamp('2018-08-27 00:00:00', freq='W-MON')),\n",
              " ('NY', 2, 512, Timestamp('2018-09-03 00:00:00', freq='W-MON')),\n",
              " ('NY', 2, 265, Timestamp('2018-09-10 00:00:00', freq='W-MON')),\n",
              " ('TX', 2, 53, Timestamp('2018-09-17 00:00:00', freq='W-MON')),\n",
              " ('NY', 1, 628, Timestamp('2018-09-24 00:00:00', freq='W-MON')),\n",
              " ('NY', 3, 219, Timestamp('2018-10-01 00:00:00', freq='W-MON')),\n",
              " ('FL', 2, 583, Timestamp('2018-10-08 00:00:00', freq='W-MON')),\n",
              " ('GA', 2, 512, Timestamp('2018-10-15 00:00:00', freq='W-MON')),\n",
              " ('GA', 1, 65, Timestamp('2018-10-22 00:00:00', freq='W-MON')),\n",
              " ('TX', 2, 356, Timestamp('2018-10-29 00:00:00', freq='W-MON')),\n",
              " ('GA', 2, 50, Timestamp('2018-11-05 00:00:00', freq='W-MON')),\n",
              " ('NY', 1, 782, Timestamp('2018-11-12 00:00:00', freq='W-MON')),\n",
              " ('FL', 3, 692, Timestamp('2018-11-19 00:00:00', freq='W-MON')),\n",
              " ('FL', 1, 675, Timestamp('2018-11-26 00:00:00', freq='W-MON')),\n",
              " ('NJ', 2, 951, Timestamp('2018-12-03 00:00:00', freq='W-MON')),\n",
              " ('NJ', 3, 993, Timestamp('2018-12-10 00:00:00', freq='W-MON')),\n",
              " ('TX', 3, 508, Timestamp('2018-12-17 00:00:00', freq='W-MON')),\n",
              " ('TX', 3, 486, Timestamp('2018-12-24 00:00:00', freq='W-MON')),\n",
              " ('NY', 1, 395, Timestamp('2018-12-31 00:00:00', freq='W-MON'))]"
            ]
          },
          "metadata": {
            "tags": []
          },
          "execution_count": 204
        }
      ]
    },
    {
      "cell_type": "code",
      "metadata": {
        "id": "MQ5q-SntdbbH",
        "colab_type": "code",
        "outputId": "93de76bc-ea22-44ab-cfa5-89e0837df5d9",
        "colab": {
          "base_uri": "https://localhost:8080/",
          "height": 359
        }
      },
      "source": [
        "pd.DataFrame(output).head(10)"
      ],
      "execution_count": 0,
      "outputs": [
        {
          "output_type": "execute_result",
          "data": {
            "text/html": [
              "<div>\n",
              "<style scoped>\n",
              "    .dataframe tbody tr th:only-of-type {\n",
              "        vertical-align: middle;\n",
              "    }\n",
              "\n",
              "    .dataframe tbody tr th {\n",
              "        vertical-align: top;\n",
              "    }\n",
              "\n",
              "    .dataframe thead th {\n",
              "        text-align: right;\n",
              "    }\n",
              "</style>\n",
              "<table border=\"1\" class=\"dataframe\">\n",
              "  <thead>\n",
              "    <tr style=\"text-align: right;\">\n",
              "      <th></th>\n",
              "      <th>0</th>\n",
              "      <th>1</th>\n",
              "      <th>2</th>\n",
              "      <th>3</th>\n",
              "    </tr>\n",
              "  </thead>\n",
              "  <tbody>\n",
              "    <tr>\n",
              "      <th>0</th>\n",
              "      <td>TX</td>\n",
              "      <td>1</td>\n",
              "      <td>792</td>\n",
              "      <td>2010-01-04</td>\n",
              "    </tr>\n",
              "    <tr>\n",
              "      <th>1</th>\n",
              "      <td>NJ</td>\n",
              "      <td>3</td>\n",
              "      <td>350</td>\n",
              "      <td>2010-01-11</td>\n",
              "    </tr>\n",
              "    <tr>\n",
              "      <th>2</th>\n",
              "      <td>TX</td>\n",
              "      <td>3</td>\n",
              "      <td>158</td>\n",
              "      <td>2010-01-18</td>\n",
              "    </tr>\n",
              "    <tr>\n",
              "      <th>3</th>\n",
              "      <td>NJ</td>\n",
              "      <td>1</td>\n",
              "      <td>576</td>\n",
              "      <td>2010-01-25</td>\n",
              "    </tr>\n",
              "    <tr>\n",
              "      <th>4</th>\n",
              "      <td>TX</td>\n",
              "      <td>1</td>\n",
              "      <td>198</td>\n",
              "      <td>2010-02-01</td>\n",
              "    </tr>\n",
              "    <tr>\n",
              "      <th>5</th>\n",
              "      <td>GA</td>\n",
              "      <td>1</td>\n",
              "      <td>115</td>\n",
              "      <td>2010-02-08</td>\n",
              "    </tr>\n",
              "    <tr>\n",
              "      <th>6</th>\n",
              "      <td>FL</td>\n",
              "      <td>2</td>\n",
              "      <td>391</td>\n",
              "      <td>2010-02-15</td>\n",
              "    </tr>\n",
              "    <tr>\n",
              "      <th>7</th>\n",
              "      <td>GA</td>\n",
              "      <td>1</td>\n",
              "      <td>345</td>\n",
              "      <td>2010-02-22</td>\n",
              "    </tr>\n",
              "    <tr>\n",
              "      <th>8</th>\n",
              "      <td>NJ</td>\n",
              "      <td>3</td>\n",
              "      <td>802</td>\n",
              "      <td>2010-03-01</td>\n",
              "    </tr>\n",
              "    <tr>\n",
              "      <th>9</th>\n",
              "      <td>FL</td>\n",
              "      <td>1</td>\n",
              "      <td>481</td>\n",
              "      <td>2010-03-08</td>\n",
              "    </tr>\n",
              "  </tbody>\n",
              "</table>\n",
              "</div>"
            ],
            "text/plain": [
              "    0  1    2          3\n",
              "0  TX  1  792 2010-01-04\n",
              "1  NJ  3  350 2010-01-11\n",
              "2  TX  3  158 2010-01-18\n",
              "3  NJ  1  576 2010-01-25\n",
              "4  TX  1  198 2010-02-01\n",
              "5  GA  1  115 2010-02-08\n",
              "6  FL  2  391 2010-02-15\n",
              "7  GA  1  345 2010-02-22\n",
              "8  NJ  3  802 2010-03-01\n",
              "9  FL  1  481 2010-03-08"
            ]
          },
          "metadata": {
            "tags": []
          },
          "execution_count": 205
        }
      ]
    },
    {
      "cell_type": "code",
      "metadata": {
        "id": "AeGpWIzxd1in",
        "colab_type": "code",
        "outputId": "99828652-32c2-4f1c-d19b-2bd7b3390990",
        "colab": {
          "base_uri": "https://localhost:8080/",
          "height": 359
        }
      },
      "source": [
        "df = pd.DataFrame({\n",
        "    'dates': pd.date_range(end='12/31/2018', freq='W-MON', periods=1000),\n",
        "    'data': np.random.randint(low=25,high=1000,size=1000),\n",
        "    'status': np.random.choice([1, 2, 3], 1000),\n",
        "    'states': np.random.choice(['GA','FL','fl','NY','NJ','TX'], 1000)\n",
        "})\n",
        "df.head(10)"
      ],
      "execution_count": 0,
      "outputs": [
        {
          "output_type": "execute_result",
          "data": {
            "text/html": [
              "<div>\n",
              "<style scoped>\n",
              "    .dataframe tbody tr th:only-of-type {\n",
              "        vertical-align: middle;\n",
              "    }\n",
              "\n",
              "    .dataframe tbody tr th {\n",
              "        vertical-align: top;\n",
              "    }\n",
              "\n",
              "    .dataframe thead th {\n",
              "        text-align: right;\n",
              "    }\n",
              "</style>\n",
              "<table border=\"1\" class=\"dataframe\">\n",
              "  <thead>\n",
              "    <tr style=\"text-align: right;\">\n",
              "      <th></th>\n",
              "      <th>dates</th>\n",
              "      <th>data</th>\n",
              "      <th>status</th>\n",
              "      <th>states</th>\n",
              "    </tr>\n",
              "  </thead>\n",
              "  <tbody>\n",
              "    <tr>\n",
              "      <th>0</th>\n",
              "      <td>1999-11-08</td>\n",
              "      <td>667</td>\n",
              "      <td>3</td>\n",
              "      <td>NJ</td>\n",
              "    </tr>\n",
              "    <tr>\n",
              "      <th>1</th>\n",
              "      <td>1999-11-15</td>\n",
              "      <td>663</td>\n",
              "      <td>1</td>\n",
              "      <td>GA</td>\n",
              "    </tr>\n",
              "    <tr>\n",
              "      <th>2</th>\n",
              "      <td>1999-11-22</td>\n",
              "      <td>290</td>\n",
              "      <td>1</td>\n",
              "      <td>NY</td>\n",
              "    </tr>\n",
              "    <tr>\n",
              "      <th>3</th>\n",
              "      <td>1999-11-29</td>\n",
              "      <td>898</td>\n",
              "      <td>2</td>\n",
              "      <td>GA</td>\n",
              "    </tr>\n",
              "    <tr>\n",
              "      <th>4</th>\n",
              "      <td>1999-12-06</td>\n",
              "      <td>338</td>\n",
              "      <td>2</td>\n",
              "      <td>NJ</td>\n",
              "    </tr>\n",
              "    <tr>\n",
              "      <th>5</th>\n",
              "      <td>1999-12-13</td>\n",
              "      <td>747</td>\n",
              "      <td>2</td>\n",
              "      <td>NJ</td>\n",
              "    </tr>\n",
              "    <tr>\n",
              "      <th>6</th>\n",
              "      <td>1999-12-20</td>\n",
              "      <td>883</td>\n",
              "      <td>3</td>\n",
              "      <td>fl</td>\n",
              "    </tr>\n",
              "    <tr>\n",
              "      <th>7</th>\n",
              "      <td>1999-12-27</td>\n",
              "      <td>410</td>\n",
              "      <td>2</td>\n",
              "      <td>GA</td>\n",
              "    </tr>\n",
              "    <tr>\n",
              "      <th>8</th>\n",
              "      <td>2000-01-03</td>\n",
              "      <td>590</td>\n",
              "      <td>2</td>\n",
              "      <td>TX</td>\n",
              "    </tr>\n",
              "    <tr>\n",
              "      <th>9</th>\n",
              "      <td>2000-01-10</td>\n",
              "      <td>233</td>\n",
              "      <td>3</td>\n",
              "      <td>TX</td>\n",
              "    </tr>\n",
              "  </tbody>\n",
              "</table>\n",
              "</div>"
            ],
            "text/plain": [
              "       dates  data  status states\n",
              "0 1999-11-08   667       3     NJ\n",
              "1 1999-11-15   663       1     GA\n",
              "2 1999-11-22   290       1     NY\n",
              "3 1999-11-29   898       2     GA\n",
              "4 1999-12-06   338       2     NJ\n",
              "5 1999-12-13   747       2     NJ\n",
              "6 1999-12-20   883       3     fl\n",
              "7 1999-12-27   410       2     GA\n",
              "8 2000-01-03   590       2     TX\n",
              "9 2000-01-10   233       3     TX"
            ]
          },
          "metadata": {
            "tags": []
          },
          "execution_count": 206
        }
      ]
    },
    {
      "cell_type": "code",
      "metadata": {
        "id": "pnjxZaqpeeU8",
        "colab_type": "code",
        "outputId": "d35bb3e9-07cc-4cce-8361-29739468ad4d",
        "colab": {
          "base_uri": "https://localhost:8080/",
          "height": 170
        }
      },
      "source": [
        "df.info()"
      ],
      "execution_count": 0,
      "outputs": [
        {
          "output_type": "stream",
          "text": [
            "<class 'pandas.core.frame.DataFrame'>\n",
            "RangeIndex: 1000 entries, 0 to 999\n",
            "Data columns (total 4 columns):\n",
            "dates     1000 non-null datetime64[ns]\n",
            "data      1000 non-null int64\n",
            "status    1000 non-null int64\n",
            "states    1000 non-null object\n",
            "dtypes: datetime64[ns](1), int64(2), object(1)\n",
            "memory usage: 31.3+ KB\n"
          ],
          "name": "stdout"
        }
      ]
    },
    {
      "cell_type": "code",
      "metadata": {
        "id": "TuFhKf71en5Q",
        "colab_type": "code",
        "outputId": "6dbf86be-a5cb-47fa-9f4b-eb6bdc92b443",
        "colab": {
          "base_uri": "https://localhost:8080/",
          "height": 102
        }
      },
      "source": [
        "df.dtypes"
      ],
      "execution_count": 0,
      "outputs": [
        {
          "output_type": "execute_result",
          "data": {
            "text/plain": [
              "dates     datetime64[ns]\n",
              "data               int64\n",
              "status             int64\n",
              "states            object\n",
              "dtype: object"
            ]
          },
          "metadata": {
            "tags": []
          },
          "execution_count": 208
        }
      ]
    },
    {
      "cell_type": "code",
      "metadata": {
        "id": "DlFD-hyHepon",
        "colab_type": "code",
        "outputId": "ad059df9-a9ba-4181-969c-e216384aa00c",
        "colab": {
          "base_uri": "https://localhost:8080/",
          "height": 297
        }
      },
      "source": [
        "df.describe()"
      ],
      "execution_count": 0,
      "outputs": [
        {
          "output_type": "execute_result",
          "data": {
            "text/html": [
              "<div>\n",
              "<style scoped>\n",
              "    .dataframe tbody tr th:only-of-type {\n",
              "        vertical-align: middle;\n",
              "    }\n",
              "\n",
              "    .dataframe tbody tr th {\n",
              "        vertical-align: top;\n",
              "    }\n",
              "\n",
              "    .dataframe thead th {\n",
              "        text-align: right;\n",
              "    }\n",
              "</style>\n",
              "<table border=\"1\" class=\"dataframe\">\n",
              "  <thead>\n",
              "    <tr style=\"text-align: right;\">\n",
              "      <th></th>\n",
              "      <th>data</th>\n",
              "      <th>status</th>\n",
              "    </tr>\n",
              "  </thead>\n",
              "  <tbody>\n",
              "    <tr>\n",
              "      <th>count</th>\n",
              "      <td>1000.00000</td>\n",
              "      <td>1000.000000</td>\n",
              "    </tr>\n",
              "    <tr>\n",
              "      <th>mean</th>\n",
              "      <td>517.13600</td>\n",
              "      <td>2.036000</td>\n",
              "    </tr>\n",
              "    <tr>\n",
              "      <th>std</th>\n",
              "      <td>283.13113</td>\n",
              "      <td>0.819375</td>\n",
              "    </tr>\n",
              "    <tr>\n",
              "      <th>min</th>\n",
              "      <td>25.00000</td>\n",
              "      <td>1.000000</td>\n",
              "    </tr>\n",
              "    <tr>\n",
              "      <th>25%</th>\n",
              "      <td>266.50000</td>\n",
              "      <td>1.000000</td>\n",
              "    </tr>\n",
              "    <tr>\n",
              "      <th>50%</th>\n",
              "      <td>530.50000</td>\n",
              "      <td>2.000000</td>\n",
              "    </tr>\n",
              "    <tr>\n",
              "      <th>75%</th>\n",
              "      <td>768.00000</td>\n",
              "      <td>3.000000</td>\n",
              "    </tr>\n",
              "    <tr>\n",
              "      <th>max</th>\n",
              "      <td>996.00000</td>\n",
              "      <td>3.000000</td>\n",
              "    </tr>\n",
              "  </tbody>\n",
              "</table>\n",
              "</div>"
            ],
            "text/plain": [
              "             data       status\n",
              "count  1000.00000  1000.000000\n",
              "mean    517.13600     2.036000\n",
              "std     283.13113     0.819375\n",
              "min      25.00000     1.000000\n",
              "25%     266.50000     1.000000\n",
              "50%     530.50000     2.000000\n",
              "75%     768.00000     3.000000\n",
              "max     996.00000     3.000000"
            ]
          },
          "metadata": {
            "tags": []
          },
          "execution_count": 209
        }
      ]
    },
    {
      "cell_type": "code",
      "metadata": {
        "id": "wmE_FotmetC1",
        "colab_type": "code",
        "outputId": "ab56b21d-68a2-48ec-d1ac-1eac56206991",
        "colab": {
          "base_uri": "https://localhost:8080/",
          "height": 235
        }
      },
      "source": [
        "df[[col for col in df.columns if col not in df.describe().columns]].describe()"
      ],
      "execution_count": 0,
      "outputs": [
        {
          "output_type": "execute_result",
          "data": {
            "text/html": [
              "<div>\n",
              "<style scoped>\n",
              "    .dataframe tbody tr th:only-of-type {\n",
              "        vertical-align: middle;\n",
              "    }\n",
              "\n",
              "    .dataframe tbody tr th {\n",
              "        vertical-align: top;\n",
              "    }\n",
              "\n",
              "    .dataframe thead th {\n",
              "        text-align: right;\n",
              "    }\n",
              "</style>\n",
              "<table border=\"1\" class=\"dataframe\">\n",
              "  <thead>\n",
              "    <tr style=\"text-align: right;\">\n",
              "      <th></th>\n",
              "      <th>dates</th>\n",
              "      <th>states</th>\n",
              "    </tr>\n",
              "  </thead>\n",
              "  <tbody>\n",
              "    <tr>\n",
              "      <th>count</th>\n",
              "      <td>1000</td>\n",
              "      <td>1000</td>\n",
              "    </tr>\n",
              "    <tr>\n",
              "      <th>unique</th>\n",
              "      <td>1000</td>\n",
              "      <td>6</td>\n",
              "    </tr>\n",
              "    <tr>\n",
              "      <th>top</th>\n",
              "      <td>2017-10-30 00:00:00</td>\n",
              "      <td>fl</td>\n",
              "    </tr>\n",
              "    <tr>\n",
              "      <th>freq</th>\n",
              "      <td>1</td>\n",
              "      <td>187</td>\n",
              "    </tr>\n",
              "    <tr>\n",
              "      <th>first</th>\n",
              "      <td>1999-11-08 00:00:00</td>\n",
              "      <td>NaN</td>\n",
              "    </tr>\n",
              "    <tr>\n",
              "      <th>last</th>\n",
              "      <td>2018-12-31 00:00:00</td>\n",
              "      <td>NaN</td>\n",
              "    </tr>\n",
              "  </tbody>\n",
              "</table>\n",
              "</div>"
            ],
            "text/plain": [
              "                      dates states\n",
              "count                  1000   1000\n",
              "unique                 1000      6\n",
              "top     2017-10-30 00:00:00     fl\n",
              "freq                      1    187\n",
              "first   1999-11-08 00:00:00    NaN\n",
              "last    2018-12-31 00:00:00    NaN"
            ]
          },
          "metadata": {
            "tags": []
          },
          "execution_count": 210
        }
      ]
    },
    {
      "cell_type": "code",
      "metadata": {
        "id": "peH6c4zte0UF",
        "colab_type": "code",
        "colab": {}
      },
      "source": [
        "#!pip install openpyxl xlrd\n",
        "df.to_excel('data.xlsx', index=False)\n",
        "df = pd.read_excel('data.xlsx', index=None)"
      ],
      "execution_count": 0,
      "outputs": []
    },
    {
      "cell_type": "code",
      "metadata": {
        "id": "O0wa28SPPiTK",
        "colab_type": "code",
        "outputId": "30755a09-de57-4954-da11-5b9af6bb63aa",
        "colab": {
          "base_uri": "https://localhost:8080/",
          "height": 102
        }
      },
      "source": [
        "df.dtypes"
      ],
      "execution_count": 0,
      "outputs": [
        {
          "output_type": "execute_result",
          "data": {
            "text/plain": [
              "dates     datetime64[ns]\n",
              "data               int64\n",
              "status             int64\n",
              "states            object\n",
              "dtype: object"
            ]
          },
          "metadata": {
            "tags": []
          },
          "execution_count": 212
        }
      ]
    },
    {
      "cell_type": "code",
      "metadata": {
        "id": "GsV8dpXAPmpX",
        "colab_type": "code",
        "outputId": "97dac819-ce0b-4d57-cc08-ceb1458e5029",
        "colab": {
          "base_uri": "https://localhost:8080/",
          "height": 102
        }
      },
      "source": [
        "df.to_csv('data.csv', index=False)\n",
        "df2 = pd.read_csv('data.csv')\n",
        "df2.dtypes"
      ],
      "execution_count": 0,
      "outputs": [
        {
          "output_type": "execute_result",
          "data": {
            "text/plain": [
              "dates     object\n",
              "data       int64\n",
              "status     int64\n",
              "states    object\n",
              "dtype: object"
            ]
          },
          "metadata": {
            "tags": []
          },
          "execution_count": 216
        }
      ]
    },
    {
      "cell_type": "code",
      "metadata": {
        "id": "rBCvFgJiP2Ei",
        "colab_type": "code",
        "colab": {}
      },
      "source": [
        "df2['dates'] = pd.to_datetime(df2.dates, format=\"%Y-%m-%d\")"
      ],
      "execution_count": 0,
      "outputs": []
    },
    {
      "cell_type": "code",
      "metadata": {
        "id": "rkRpLxCTQF65",
        "colab_type": "code",
        "outputId": "3954d813-1314-4de3-cd5d-f11ef3579fcc",
        "colab": {
          "base_uri": "https://localhost:8080/",
          "height": 102
        }
      },
      "source": [
        "df2.dtypes"
      ],
      "execution_count": 0,
      "outputs": [
        {
          "output_type": "execute_result",
          "data": {
            "text/plain": [
              "dates     datetime64[ns]\n",
              "data               int64\n",
              "status             int64\n",
              "states            object\n",
              "dtype: object"
            ]
          },
          "metadata": {
            "tags": []
          },
          "execution_count": 218
        }
      ]
    },
    {
      "cell_type": "code",
      "metadata": {
        "id": "Lsmj6OFGrAe7",
        "colab_type": "code",
        "outputId": "a98304de-0e89-4c84-c924-004401066199",
        "colab": {
          "base_uri": "https://localhost:8080/",
          "height": 390
        }
      },
      "source": [
        "df.reset_index().sort_values('dates').head(10).set_index('index')"
      ],
      "execution_count": 0,
      "outputs": [
        {
          "output_type": "execute_result",
          "data": {
            "text/html": [
              "<div>\n",
              "<style scoped>\n",
              "    .dataframe tbody tr th:only-of-type {\n",
              "        vertical-align: middle;\n",
              "    }\n",
              "\n",
              "    .dataframe tbody tr th {\n",
              "        vertical-align: top;\n",
              "    }\n",
              "\n",
              "    .dataframe thead th {\n",
              "        text-align: right;\n",
              "    }\n",
              "</style>\n",
              "<table border=\"1\" class=\"dataframe\">\n",
              "  <thead>\n",
              "    <tr style=\"text-align: right;\">\n",
              "      <th></th>\n",
              "      <th>dates</th>\n",
              "      <th>data</th>\n",
              "      <th>status</th>\n",
              "      <th>states</th>\n",
              "    </tr>\n",
              "    <tr>\n",
              "      <th>index</th>\n",
              "      <th></th>\n",
              "      <th></th>\n",
              "      <th></th>\n",
              "      <th></th>\n",
              "    </tr>\n",
              "  </thead>\n",
              "  <tbody>\n",
              "    <tr>\n",
              "      <th>0</th>\n",
              "      <td>1999-11-08</td>\n",
              "      <td>667</td>\n",
              "      <td>3</td>\n",
              "      <td>NJ</td>\n",
              "    </tr>\n",
              "    <tr>\n",
              "      <th>1</th>\n",
              "      <td>1999-11-15</td>\n",
              "      <td>663</td>\n",
              "      <td>1</td>\n",
              "      <td>GA</td>\n",
              "    </tr>\n",
              "    <tr>\n",
              "      <th>2</th>\n",
              "      <td>1999-11-22</td>\n",
              "      <td>290</td>\n",
              "      <td>1</td>\n",
              "      <td>NY</td>\n",
              "    </tr>\n",
              "    <tr>\n",
              "      <th>3</th>\n",
              "      <td>1999-11-29</td>\n",
              "      <td>898</td>\n",
              "      <td>2</td>\n",
              "      <td>GA</td>\n",
              "    </tr>\n",
              "    <tr>\n",
              "      <th>4</th>\n",
              "      <td>1999-12-06</td>\n",
              "      <td>338</td>\n",
              "      <td>2</td>\n",
              "      <td>NJ</td>\n",
              "    </tr>\n",
              "    <tr>\n",
              "      <th>5</th>\n",
              "      <td>1999-12-13</td>\n",
              "      <td>747</td>\n",
              "      <td>2</td>\n",
              "      <td>NJ</td>\n",
              "    </tr>\n",
              "    <tr>\n",
              "      <th>6</th>\n",
              "      <td>1999-12-20</td>\n",
              "      <td>883</td>\n",
              "      <td>3</td>\n",
              "      <td>fl</td>\n",
              "    </tr>\n",
              "    <tr>\n",
              "      <th>7</th>\n",
              "      <td>1999-12-27</td>\n",
              "      <td>410</td>\n",
              "      <td>2</td>\n",
              "      <td>GA</td>\n",
              "    </tr>\n",
              "    <tr>\n",
              "      <th>8</th>\n",
              "      <td>2000-01-03</td>\n",
              "      <td>590</td>\n",
              "      <td>2</td>\n",
              "      <td>TX</td>\n",
              "    </tr>\n",
              "    <tr>\n",
              "      <th>9</th>\n",
              "      <td>2000-01-10</td>\n",
              "      <td>233</td>\n",
              "      <td>3</td>\n",
              "      <td>TX</td>\n",
              "    </tr>\n",
              "  </tbody>\n",
              "</table>\n",
              "</div>"
            ],
            "text/plain": [
              "           dates  data  status states\n",
              "index                                \n",
              "0     1999-11-08   667       3     NJ\n",
              "1     1999-11-15   663       1     GA\n",
              "2     1999-11-22   290       1     NY\n",
              "3     1999-11-29   898       2     GA\n",
              "4     1999-12-06   338       2     NJ\n",
              "5     1999-12-13   747       2     NJ\n",
              "6     1999-12-20   883       3     fl\n",
              "7     1999-12-27   410       2     GA\n",
              "8     2000-01-03   590       2     TX\n",
              "9     2000-01-10   233       3     TX"
            ]
          },
          "metadata": {
            "tags": []
          },
          "execution_count": 219
        }
      ]
    },
    {
      "cell_type": "code",
      "metadata": {
        "id": "XeyYmaCjfBDT",
        "colab_type": "code",
        "outputId": "d3a509d4-4ed0-408d-8aba-6c7002f6f426",
        "colab": {
          "base_uri": "https://localhost:8080/",
          "height": 359
        }
      },
      "source": [
        "df.head(10)"
      ],
      "execution_count": 0,
      "outputs": [
        {
          "output_type": "execute_result",
          "data": {
            "text/html": [
              "<div>\n",
              "<style scoped>\n",
              "    .dataframe tbody tr th:only-of-type {\n",
              "        vertical-align: middle;\n",
              "    }\n",
              "\n",
              "    .dataframe tbody tr th {\n",
              "        vertical-align: top;\n",
              "    }\n",
              "\n",
              "    .dataframe thead th {\n",
              "        text-align: right;\n",
              "    }\n",
              "</style>\n",
              "<table border=\"1\" class=\"dataframe\">\n",
              "  <thead>\n",
              "    <tr style=\"text-align: right;\">\n",
              "      <th></th>\n",
              "      <th>dates</th>\n",
              "      <th>data</th>\n",
              "      <th>status</th>\n",
              "      <th>states</th>\n",
              "    </tr>\n",
              "  </thead>\n",
              "  <tbody>\n",
              "    <tr>\n",
              "      <th>0</th>\n",
              "      <td>1999-11-08</td>\n",
              "      <td>667</td>\n",
              "      <td>3</td>\n",
              "      <td>NJ</td>\n",
              "    </tr>\n",
              "    <tr>\n",
              "      <th>1</th>\n",
              "      <td>1999-11-15</td>\n",
              "      <td>663</td>\n",
              "      <td>1</td>\n",
              "      <td>GA</td>\n",
              "    </tr>\n",
              "    <tr>\n",
              "      <th>2</th>\n",
              "      <td>1999-11-22</td>\n",
              "      <td>290</td>\n",
              "      <td>1</td>\n",
              "      <td>NY</td>\n",
              "    </tr>\n",
              "    <tr>\n",
              "      <th>3</th>\n",
              "      <td>1999-11-29</td>\n",
              "      <td>898</td>\n",
              "      <td>2</td>\n",
              "      <td>GA</td>\n",
              "    </tr>\n",
              "    <tr>\n",
              "      <th>4</th>\n",
              "      <td>1999-12-06</td>\n",
              "      <td>338</td>\n",
              "      <td>2</td>\n",
              "      <td>NJ</td>\n",
              "    </tr>\n",
              "    <tr>\n",
              "      <th>5</th>\n",
              "      <td>1999-12-13</td>\n",
              "      <td>747</td>\n",
              "      <td>2</td>\n",
              "      <td>NJ</td>\n",
              "    </tr>\n",
              "    <tr>\n",
              "      <th>6</th>\n",
              "      <td>1999-12-20</td>\n",
              "      <td>883</td>\n",
              "      <td>3</td>\n",
              "      <td>fl</td>\n",
              "    </tr>\n",
              "    <tr>\n",
              "      <th>7</th>\n",
              "      <td>1999-12-27</td>\n",
              "      <td>410</td>\n",
              "      <td>2</td>\n",
              "      <td>GA</td>\n",
              "    </tr>\n",
              "    <tr>\n",
              "      <th>8</th>\n",
              "      <td>2000-01-03</td>\n",
              "      <td>590</td>\n",
              "      <td>2</td>\n",
              "      <td>TX</td>\n",
              "    </tr>\n",
              "    <tr>\n",
              "      <th>9</th>\n",
              "      <td>2000-01-10</td>\n",
              "      <td>233</td>\n",
              "      <td>3</td>\n",
              "      <td>TX</td>\n",
              "    </tr>\n",
              "  </tbody>\n",
              "</table>\n",
              "</div>"
            ],
            "text/plain": [
              "       dates  data  status states\n",
              "0 1999-11-08   667       3     NJ\n",
              "1 1999-11-15   663       1     GA\n",
              "2 1999-11-22   290       1     NY\n",
              "3 1999-11-29   898       2     GA\n",
              "4 1999-12-06   338       2     NJ\n",
              "5 1999-12-13   747       2     NJ\n",
              "6 1999-12-20   883       3     fl\n",
              "7 1999-12-27   410       2     GA\n",
              "8 2000-01-03   590       2     TX\n",
              "9 2000-01-10   233       3     TX"
            ]
          },
          "metadata": {
            "tags": []
          },
          "execution_count": 220
        }
      ]
    },
    {
      "cell_type": "code",
      "metadata": {
        "id": "S5i_4IwTfOqZ",
        "colab_type": "code",
        "colab": {}
      },
      "source": [
        "df = pd.read_excel('data.xlsx', index_col='dates')"
      ],
      "execution_count": 0,
      "outputs": []
    },
    {
      "cell_type": "code",
      "metadata": {
        "id": "3s_amltUfXv9",
        "colab_type": "code",
        "outputId": "c53d84d6-ca11-4494-af3f-a9307cd5bea3",
        "colab": {
          "base_uri": "https://localhost:8080/",
          "height": 390
        }
      },
      "source": [
        "df.head(10)"
      ],
      "execution_count": 0,
      "outputs": [
        {
          "output_type": "execute_result",
          "data": {
            "text/html": [
              "<div>\n",
              "<style scoped>\n",
              "    .dataframe tbody tr th:only-of-type {\n",
              "        vertical-align: middle;\n",
              "    }\n",
              "\n",
              "    .dataframe tbody tr th {\n",
              "        vertical-align: top;\n",
              "    }\n",
              "\n",
              "    .dataframe thead th {\n",
              "        text-align: right;\n",
              "    }\n",
              "</style>\n",
              "<table border=\"1\" class=\"dataframe\">\n",
              "  <thead>\n",
              "    <tr style=\"text-align: right;\">\n",
              "      <th></th>\n",
              "      <th>data</th>\n",
              "      <th>status</th>\n",
              "      <th>states</th>\n",
              "    </tr>\n",
              "    <tr>\n",
              "      <th>dates</th>\n",
              "      <th></th>\n",
              "      <th></th>\n",
              "      <th></th>\n",
              "    </tr>\n",
              "  </thead>\n",
              "  <tbody>\n",
              "    <tr>\n",
              "      <th>1999-11-08</th>\n",
              "      <td>667</td>\n",
              "      <td>3</td>\n",
              "      <td>NJ</td>\n",
              "    </tr>\n",
              "    <tr>\n",
              "      <th>1999-11-15</th>\n",
              "      <td>663</td>\n",
              "      <td>1</td>\n",
              "      <td>GA</td>\n",
              "    </tr>\n",
              "    <tr>\n",
              "      <th>1999-11-22</th>\n",
              "      <td>290</td>\n",
              "      <td>1</td>\n",
              "      <td>NY</td>\n",
              "    </tr>\n",
              "    <tr>\n",
              "      <th>1999-11-29</th>\n",
              "      <td>898</td>\n",
              "      <td>2</td>\n",
              "      <td>GA</td>\n",
              "    </tr>\n",
              "    <tr>\n",
              "      <th>1999-12-06</th>\n",
              "      <td>338</td>\n",
              "      <td>2</td>\n",
              "      <td>NJ</td>\n",
              "    </tr>\n",
              "    <tr>\n",
              "      <th>1999-12-13</th>\n",
              "      <td>747</td>\n",
              "      <td>2</td>\n",
              "      <td>NJ</td>\n",
              "    </tr>\n",
              "    <tr>\n",
              "      <th>1999-12-20</th>\n",
              "      <td>883</td>\n",
              "      <td>3</td>\n",
              "      <td>fl</td>\n",
              "    </tr>\n",
              "    <tr>\n",
              "      <th>1999-12-27</th>\n",
              "      <td>410</td>\n",
              "      <td>2</td>\n",
              "      <td>GA</td>\n",
              "    </tr>\n",
              "    <tr>\n",
              "      <th>2000-01-03</th>\n",
              "      <td>590</td>\n",
              "      <td>2</td>\n",
              "      <td>TX</td>\n",
              "    </tr>\n",
              "    <tr>\n",
              "      <th>2000-01-10</th>\n",
              "      <td>233</td>\n",
              "      <td>3</td>\n",
              "      <td>TX</td>\n",
              "    </tr>\n",
              "  </tbody>\n",
              "</table>\n",
              "</div>"
            ],
            "text/plain": [
              "            data  status states\n",
              "dates                          \n",
              "1999-11-08   667       3     NJ\n",
              "1999-11-15   663       1     GA\n",
              "1999-11-22   290       1     NY\n",
              "1999-11-29   898       2     GA\n",
              "1999-12-06   338       2     NJ\n",
              "1999-12-13   747       2     NJ\n",
              "1999-12-20   883       3     fl\n",
              "1999-12-27   410       2     GA\n",
              "2000-01-03   590       2     TX\n",
              "2000-01-10   233       3     TX"
            ]
          },
          "metadata": {
            "tags": []
          },
          "execution_count": 222
        }
      ]
    },
    {
      "cell_type": "code",
      "metadata": {
        "id": "VTl8PGANfYxQ",
        "colab_type": "code",
        "outputId": "f99aab1b-6232-40e5-b54a-5a036fd68dcc",
        "colab": {
          "base_uri": "https://localhost:8080/",
          "height": 34
        }
      },
      "source": [
        "df.states.unique()"
      ],
      "execution_count": 0,
      "outputs": [
        {
          "output_type": "execute_result",
          "data": {
            "text/plain": [
              "array(['NJ', 'GA', 'NY', 'fl', 'TX', 'FL'], dtype=object)"
            ]
          },
          "metadata": {
            "tags": []
          },
          "execution_count": 223
        }
      ]
    },
    {
      "cell_type": "code",
      "metadata": {
        "id": "hRrfzuPugiTx",
        "colab_type": "code",
        "colab": {}
      },
      "source": [
        "df.states = df.states.str.upper()"
      ],
      "execution_count": 0,
      "outputs": []
    },
    {
      "cell_type": "code",
      "metadata": {
        "id": "qdknVOc6gqLQ",
        "colab_type": "code",
        "outputId": "90f3ad54-3524-496d-8d3a-54cdb0065467",
        "colab": {
          "base_uri": "https://localhost:8080/",
          "height": 390
        }
      },
      "source": [
        "df.head(10)"
      ],
      "execution_count": 0,
      "outputs": [
        {
          "output_type": "execute_result",
          "data": {
            "text/html": [
              "<div>\n",
              "<style scoped>\n",
              "    .dataframe tbody tr th:only-of-type {\n",
              "        vertical-align: middle;\n",
              "    }\n",
              "\n",
              "    .dataframe tbody tr th {\n",
              "        vertical-align: top;\n",
              "    }\n",
              "\n",
              "    .dataframe thead th {\n",
              "        text-align: right;\n",
              "    }\n",
              "</style>\n",
              "<table border=\"1\" class=\"dataframe\">\n",
              "  <thead>\n",
              "    <tr style=\"text-align: right;\">\n",
              "      <th></th>\n",
              "      <th>data</th>\n",
              "      <th>status</th>\n",
              "      <th>states</th>\n",
              "    </tr>\n",
              "    <tr>\n",
              "      <th>dates</th>\n",
              "      <th></th>\n",
              "      <th></th>\n",
              "      <th></th>\n",
              "    </tr>\n",
              "  </thead>\n",
              "  <tbody>\n",
              "    <tr>\n",
              "      <th>1999-11-08</th>\n",
              "      <td>667</td>\n",
              "      <td>3</td>\n",
              "      <td>NJ</td>\n",
              "    </tr>\n",
              "    <tr>\n",
              "      <th>1999-11-15</th>\n",
              "      <td>663</td>\n",
              "      <td>1</td>\n",
              "      <td>GA</td>\n",
              "    </tr>\n",
              "    <tr>\n",
              "      <th>1999-11-22</th>\n",
              "      <td>290</td>\n",
              "      <td>1</td>\n",
              "      <td>NY</td>\n",
              "    </tr>\n",
              "    <tr>\n",
              "      <th>1999-11-29</th>\n",
              "      <td>898</td>\n",
              "      <td>2</td>\n",
              "      <td>GA</td>\n",
              "    </tr>\n",
              "    <tr>\n",
              "      <th>1999-12-06</th>\n",
              "      <td>338</td>\n",
              "      <td>2</td>\n",
              "      <td>NJ</td>\n",
              "    </tr>\n",
              "    <tr>\n",
              "      <th>1999-12-13</th>\n",
              "      <td>747</td>\n",
              "      <td>2</td>\n",
              "      <td>NJ</td>\n",
              "    </tr>\n",
              "    <tr>\n",
              "      <th>1999-12-20</th>\n",
              "      <td>883</td>\n",
              "      <td>3</td>\n",
              "      <td>FL</td>\n",
              "    </tr>\n",
              "    <tr>\n",
              "      <th>1999-12-27</th>\n",
              "      <td>410</td>\n",
              "      <td>2</td>\n",
              "      <td>GA</td>\n",
              "    </tr>\n",
              "    <tr>\n",
              "      <th>2000-01-03</th>\n",
              "      <td>590</td>\n",
              "      <td>2</td>\n",
              "      <td>TX</td>\n",
              "    </tr>\n",
              "    <tr>\n",
              "      <th>2000-01-10</th>\n",
              "      <td>233</td>\n",
              "      <td>3</td>\n",
              "      <td>TX</td>\n",
              "    </tr>\n",
              "  </tbody>\n",
              "</table>\n",
              "</div>"
            ],
            "text/plain": [
              "            data  status states\n",
              "dates                          \n",
              "1999-11-08   667       3     NJ\n",
              "1999-11-15   663       1     GA\n",
              "1999-11-22   290       1     NY\n",
              "1999-11-29   898       2     GA\n",
              "1999-12-06   338       2     NJ\n",
              "1999-12-13   747       2     NJ\n",
              "1999-12-20   883       3     FL\n",
              "1999-12-27   410       2     GA\n",
              "2000-01-03   590       2     TX\n",
              "2000-01-10   233       3     TX"
            ]
          },
          "metadata": {
            "tags": []
          },
          "execution_count": 225
        }
      ]
    },
    {
      "cell_type": "code",
      "metadata": {
        "id": "KAX5AZqGgxG3",
        "colab_type": "code",
        "outputId": "efe1054e-f8ad-47d4-f9d5-f50b63849f0a",
        "colab": {
          "base_uri": "https://localhost:8080/",
          "height": 34
        }
      },
      "source": [
        "df.states.unique()"
      ],
      "execution_count": 0,
      "outputs": [
        {
          "output_type": "execute_result",
          "data": {
            "text/plain": [
              "array(['NJ', 'GA', 'NY', 'FL', 'TX'], dtype=object)"
            ]
          },
          "metadata": {
            "tags": []
          },
          "execution_count": 226
        }
      ]
    },
    {
      "cell_type": "code",
      "metadata": {
        "id": "lOfY_shNg1iU",
        "colab_type": "code",
        "outputId": "b9a7d70b-2179-4823-d6fd-afaa164a5048",
        "colab": {
          "base_uri": "https://localhost:8080/",
          "height": 1000
        }
      },
      "source": [
        "df[df.states=='NY']"
      ],
      "execution_count": 0,
      "outputs": [
        {
          "output_type": "execute_result",
          "data": {
            "text/html": [
              "<div>\n",
              "<style scoped>\n",
              "    .dataframe tbody tr th:only-of-type {\n",
              "        vertical-align: middle;\n",
              "    }\n",
              "\n",
              "    .dataframe tbody tr th {\n",
              "        vertical-align: top;\n",
              "    }\n",
              "\n",
              "    .dataframe thead th {\n",
              "        text-align: right;\n",
              "    }\n",
              "</style>\n",
              "<table border=\"1\" class=\"dataframe\">\n",
              "  <thead>\n",
              "    <tr style=\"text-align: right;\">\n",
              "      <th></th>\n",
              "      <th>data</th>\n",
              "      <th>status</th>\n",
              "      <th>states</th>\n",
              "    </tr>\n",
              "    <tr>\n",
              "      <th>dates</th>\n",
              "      <th></th>\n",
              "      <th></th>\n",
              "      <th></th>\n",
              "    </tr>\n",
              "  </thead>\n",
              "  <tbody>\n",
              "    <tr>\n",
              "      <th>1999-11-22</th>\n",
              "      <td>290</td>\n",
              "      <td>1</td>\n",
              "      <td>NY</td>\n",
              "    </tr>\n",
              "    <tr>\n",
              "      <th>2000-02-21</th>\n",
              "      <td>944</td>\n",
              "      <td>3</td>\n",
              "      <td>NY</td>\n",
              "    </tr>\n",
              "    <tr>\n",
              "      <th>2000-03-13</th>\n",
              "      <td>825</td>\n",
              "      <td>2</td>\n",
              "      <td>NY</td>\n",
              "    </tr>\n",
              "    <tr>\n",
              "      <th>2000-03-20</th>\n",
              "      <td>301</td>\n",
              "      <td>2</td>\n",
              "      <td>NY</td>\n",
              "    </tr>\n",
              "    <tr>\n",
              "      <th>2000-03-27</th>\n",
              "      <td>392</td>\n",
              "      <td>3</td>\n",
              "      <td>NY</td>\n",
              "    </tr>\n",
              "    <tr>\n",
              "      <th>2000-05-08</th>\n",
              "      <td>414</td>\n",
              "      <td>2</td>\n",
              "      <td>NY</td>\n",
              "    </tr>\n",
              "    <tr>\n",
              "      <th>2000-05-15</th>\n",
              "      <td>698</td>\n",
              "      <td>2</td>\n",
              "      <td>NY</td>\n",
              "    </tr>\n",
              "    <tr>\n",
              "      <th>2000-07-03</th>\n",
              "      <td>588</td>\n",
              "      <td>1</td>\n",
              "      <td>NY</td>\n",
              "    </tr>\n",
              "    <tr>\n",
              "      <th>2000-10-09</th>\n",
              "      <td>673</td>\n",
              "      <td>3</td>\n",
              "      <td>NY</td>\n",
              "    </tr>\n",
              "    <tr>\n",
              "      <th>2000-10-23</th>\n",
              "      <td>592</td>\n",
              "      <td>1</td>\n",
              "      <td>NY</td>\n",
              "    </tr>\n",
              "    <tr>\n",
              "      <th>2000-10-30</th>\n",
              "      <td>69</td>\n",
              "      <td>3</td>\n",
              "      <td>NY</td>\n",
              "    </tr>\n",
              "    <tr>\n",
              "      <th>2000-11-27</th>\n",
              "      <td>93</td>\n",
              "      <td>1</td>\n",
              "      <td>NY</td>\n",
              "    </tr>\n",
              "    <tr>\n",
              "      <th>2001-01-08</th>\n",
              "      <td>663</td>\n",
              "      <td>3</td>\n",
              "      <td>NY</td>\n",
              "    </tr>\n",
              "    <tr>\n",
              "      <th>2001-02-12</th>\n",
              "      <td>942</td>\n",
              "      <td>1</td>\n",
              "      <td>NY</td>\n",
              "    </tr>\n",
              "    <tr>\n",
              "      <th>2001-03-19</th>\n",
              "      <td>250</td>\n",
              "      <td>3</td>\n",
              "      <td>NY</td>\n",
              "    </tr>\n",
              "    <tr>\n",
              "      <th>2001-04-02</th>\n",
              "      <td>755</td>\n",
              "      <td>1</td>\n",
              "      <td>NY</td>\n",
              "    </tr>\n",
              "    <tr>\n",
              "      <th>2001-04-09</th>\n",
              "      <td>818</td>\n",
              "      <td>3</td>\n",
              "      <td>NY</td>\n",
              "    </tr>\n",
              "    <tr>\n",
              "      <th>2001-05-28</th>\n",
              "      <td>723</td>\n",
              "      <td>2</td>\n",
              "      <td>NY</td>\n",
              "    </tr>\n",
              "    <tr>\n",
              "      <th>2001-06-04</th>\n",
              "      <td>660</td>\n",
              "      <td>1</td>\n",
              "      <td>NY</td>\n",
              "    </tr>\n",
              "    <tr>\n",
              "      <th>2001-06-25</th>\n",
              "      <td>644</td>\n",
              "      <td>2</td>\n",
              "      <td>NY</td>\n",
              "    </tr>\n",
              "    <tr>\n",
              "      <th>2001-07-23</th>\n",
              "      <td>168</td>\n",
              "      <td>1</td>\n",
              "      <td>NY</td>\n",
              "    </tr>\n",
              "    <tr>\n",
              "      <th>2001-08-27</th>\n",
              "      <td>248</td>\n",
              "      <td>3</td>\n",
              "      <td>NY</td>\n",
              "    </tr>\n",
              "    <tr>\n",
              "      <th>2001-10-22</th>\n",
              "      <td>383</td>\n",
              "      <td>3</td>\n",
              "      <td>NY</td>\n",
              "    </tr>\n",
              "    <tr>\n",
              "      <th>2001-12-31</th>\n",
              "      <td>596</td>\n",
              "      <td>3</td>\n",
              "      <td>NY</td>\n",
              "    </tr>\n",
              "    <tr>\n",
              "      <th>2002-02-18</th>\n",
              "      <td>213</td>\n",
              "      <td>3</td>\n",
              "      <td>NY</td>\n",
              "    </tr>\n",
              "    <tr>\n",
              "      <th>2002-03-04</th>\n",
              "      <td>686</td>\n",
              "      <td>2</td>\n",
              "      <td>NY</td>\n",
              "    </tr>\n",
              "    <tr>\n",
              "      <th>2002-03-18</th>\n",
              "      <td>477</td>\n",
              "      <td>1</td>\n",
              "      <td>NY</td>\n",
              "    </tr>\n",
              "    <tr>\n",
              "      <th>2002-04-22</th>\n",
              "      <td>981</td>\n",
              "      <td>3</td>\n",
              "      <td>NY</td>\n",
              "    </tr>\n",
              "    <tr>\n",
              "      <th>2002-04-29</th>\n",
              "      <td>429</td>\n",
              "      <td>3</td>\n",
              "      <td>NY</td>\n",
              "    </tr>\n",
              "    <tr>\n",
              "      <th>2002-05-06</th>\n",
              "      <td>457</td>\n",
              "      <td>3</td>\n",
              "      <td>NY</td>\n",
              "    </tr>\n",
              "    <tr>\n",
              "      <th>...</th>\n",
              "      <td>...</td>\n",
              "      <td>...</td>\n",
              "      <td>...</td>\n",
              "    </tr>\n",
              "    <tr>\n",
              "      <th>2014-10-06</th>\n",
              "      <td>564</td>\n",
              "      <td>2</td>\n",
              "      <td>NY</td>\n",
              "    </tr>\n",
              "    <tr>\n",
              "      <th>2014-12-01</th>\n",
              "      <td>819</td>\n",
              "      <td>3</td>\n",
              "      <td>NY</td>\n",
              "    </tr>\n",
              "    <tr>\n",
              "      <th>2014-12-22</th>\n",
              "      <td>991</td>\n",
              "      <td>3</td>\n",
              "      <td>NY</td>\n",
              "    </tr>\n",
              "    <tr>\n",
              "      <th>2015-01-05</th>\n",
              "      <td>759</td>\n",
              "      <td>3</td>\n",
              "      <td>NY</td>\n",
              "    </tr>\n",
              "    <tr>\n",
              "      <th>2015-03-16</th>\n",
              "      <td>513</td>\n",
              "      <td>2</td>\n",
              "      <td>NY</td>\n",
              "    </tr>\n",
              "    <tr>\n",
              "      <th>2015-07-06</th>\n",
              "      <td>560</td>\n",
              "      <td>2</td>\n",
              "      <td>NY</td>\n",
              "    </tr>\n",
              "    <tr>\n",
              "      <th>2015-08-31</th>\n",
              "      <td>570</td>\n",
              "      <td>1</td>\n",
              "      <td>NY</td>\n",
              "    </tr>\n",
              "    <tr>\n",
              "      <th>2015-09-07</th>\n",
              "      <td>703</td>\n",
              "      <td>3</td>\n",
              "      <td>NY</td>\n",
              "    </tr>\n",
              "    <tr>\n",
              "      <th>2015-12-14</th>\n",
              "      <td>386</td>\n",
              "      <td>1</td>\n",
              "      <td>NY</td>\n",
              "    </tr>\n",
              "    <tr>\n",
              "      <th>2016-02-01</th>\n",
              "      <td>603</td>\n",
              "      <td>3</td>\n",
              "      <td>NY</td>\n",
              "    </tr>\n",
              "    <tr>\n",
              "      <th>2016-03-14</th>\n",
              "      <td>660</td>\n",
              "      <td>2</td>\n",
              "      <td>NY</td>\n",
              "    </tr>\n",
              "    <tr>\n",
              "      <th>2016-05-09</th>\n",
              "      <td>847</td>\n",
              "      <td>3</td>\n",
              "      <td>NY</td>\n",
              "    </tr>\n",
              "    <tr>\n",
              "      <th>2016-08-08</th>\n",
              "      <td>114</td>\n",
              "      <td>3</td>\n",
              "      <td>NY</td>\n",
              "    </tr>\n",
              "    <tr>\n",
              "      <th>2016-10-17</th>\n",
              "      <td>420</td>\n",
              "      <td>2</td>\n",
              "      <td>NY</td>\n",
              "    </tr>\n",
              "    <tr>\n",
              "      <th>2016-11-21</th>\n",
              "      <td>581</td>\n",
              "      <td>2</td>\n",
              "      <td>NY</td>\n",
              "    </tr>\n",
              "    <tr>\n",
              "      <th>2016-12-05</th>\n",
              "      <td>324</td>\n",
              "      <td>3</td>\n",
              "      <td>NY</td>\n",
              "    </tr>\n",
              "    <tr>\n",
              "      <th>2017-02-13</th>\n",
              "      <td>635</td>\n",
              "      <td>2</td>\n",
              "      <td>NY</td>\n",
              "    </tr>\n",
              "    <tr>\n",
              "      <th>2017-03-27</th>\n",
              "      <td>237</td>\n",
              "      <td>2</td>\n",
              "      <td>NY</td>\n",
              "    </tr>\n",
              "    <tr>\n",
              "      <th>2017-06-12</th>\n",
              "      <td>849</td>\n",
              "      <td>1</td>\n",
              "      <td>NY</td>\n",
              "    </tr>\n",
              "    <tr>\n",
              "      <th>2017-07-17</th>\n",
              "      <td>245</td>\n",
              "      <td>1</td>\n",
              "      <td>NY</td>\n",
              "    </tr>\n",
              "    <tr>\n",
              "      <th>2017-09-04</th>\n",
              "      <td>475</td>\n",
              "      <td>3</td>\n",
              "      <td>NY</td>\n",
              "    </tr>\n",
              "    <tr>\n",
              "      <th>2017-10-16</th>\n",
              "      <td>699</td>\n",
              "      <td>1</td>\n",
              "      <td>NY</td>\n",
              "    </tr>\n",
              "    <tr>\n",
              "      <th>2017-11-06</th>\n",
              "      <td>224</td>\n",
              "      <td>1</td>\n",
              "      <td>NY</td>\n",
              "    </tr>\n",
              "    <tr>\n",
              "      <th>2017-11-27</th>\n",
              "      <td>480</td>\n",
              "      <td>1</td>\n",
              "      <td>NY</td>\n",
              "    </tr>\n",
              "    <tr>\n",
              "      <th>2018-02-19</th>\n",
              "      <td>87</td>\n",
              "      <td>3</td>\n",
              "      <td>NY</td>\n",
              "    </tr>\n",
              "    <tr>\n",
              "      <th>2018-02-26</th>\n",
              "      <td>765</td>\n",
              "      <td>3</td>\n",
              "      <td>NY</td>\n",
              "    </tr>\n",
              "    <tr>\n",
              "      <th>2018-07-02</th>\n",
              "      <td>734</td>\n",
              "      <td>2</td>\n",
              "      <td>NY</td>\n",
              "    </tr>\n",
              "    <tr>\n",
              "      <th>2018-08-20</th>\n",
              "      <td>382</td>\n",
              "      <td>3</td>\n",
              "      <td>NY</td>\n",
              "    </tr>\n",
              "    <tr>\n",
              "      <th>2018-09-10</th>\n",
              "      <td>191</td>\n",
              "      <td>2</td>\n",
              "      <td>NY</td>\n",
              "    </tr>\n",
              "    <tr>\n",
              "      <th>2018-09-24</th>\n",
              "      <td>464</td>\n",
              "      <td>3</td>\n",
              "      <td>NY</td>\n",
              "    </tr>\n",
              "  </tbody>\n",
              "</table>\n",
              "<p>166 rows × 3 columns</p>\n",
              "</div>"
            ],
            "text/plain": [
              "            data  status states\n",
              "dates                          \n",
              "1999-11-22   290       1     NY\n",
              "2000-02-21   944       3     NY\n",
              "2000-03-13   825       2     NY\n",
              "2000-03-20   301       2     NY\n",
              "2000-03-27   392       3     NY\n",
              "2000-05-08   414       2     NY\n",
              "2000-05-15   698       2     NY\n",
              "2000-07-03   588       1     NY\n",
              "2000-10-09   673       3     NY\n",
              "2000-10-23   592       1     NY\n",
              "2000-10-30    69       3     NY\n",
              "2000-11-27    93       1     NY\n",
              "2001-01-08   663       3     NY\n",
              "2001-02-12   942       1     NY\n",
              "2001-03-19   250       3     NY\n",
              "2001-04-02   755       1     NY\n",
              "2001-04-09   818       3     NY\n",
              "2001-05-28   723       2     NY\n",
              "2001-06-04   660       1     NY\n",
              "2001-06-25   644       2     NY\n",
              "2001-07-23   168       1     NY\n",
              "2001-08-27   248       3     NY\n",
              "2001-10-22   383       3     NY\n",
              "2001-12-31   596       3     NY\n",
              "2002-02-18   213       3     NY\n",
              "2002-03-04   686       2     NY\n",
              "2002-03-18   477       1     NY\n",
              "2002-04-22   981       3     NY\n",
              "2002-04-29   429       3     NY\n",
              "2002-05-06   457       3     NY\n",
              "...          ...     ...    ...\n",
              "2014-10-06   564       2     NY\n",
              "2014-12-01   819       3     NY\n",
              "2014-12-22   991       3     NY\n",
              "2015-01-05   759       3     NY\n",
              "2015-03-16   513       2     NY\n",
              "2015-07-06   560       2     NY\n",
              "2015-08-31   570       1     NY\n",
              "2015-09-07   703       3     NY\n",
              "2015-12-14   386       1     NY\n",
              "2016-02-01   603       3     NY\n",
              "2016-03-14   660       2     NY\n",
              "2016-05-09   847       3     NY\n",
              "2016-08-08   114       3     NY\n",
              "2016-10-17   420       2     NY\n",
              "2016-11-21   581       2     NY\n",
              "2016-12-05   324       3     NY\n",
              "2017-02-13   635       2     NY\n",
              "2017-03-27   237       2     NY\n",
              "2017-06-12   849       1     NY\n",
              "2017-07-17   245       1     NY\n",
              "2017-09-04   475       3     NY\n",
              "2017-10-16   699       1     NY\n",
              "2017-11-06   224       1     NY\n",
              "2017-11-27   480       1     NY\n",
              "2018-02-19    87       3     NY\n",
              "2018-02-26   765       3     NY\n",
              "2018-07-02   734       2     NY\n",
              "2018-08-20   382       3     NY\n",
              "2018-09-10   191       2     NY\n",
              "2018-09-24   464       3     NY\n",
              "\n",
              "[166 rows x 3 columns]"
            ]
          },
          "metadata": {
            "tags": []
          },
          "execution_count": 227
        }
      ]
    },
    {
      "cell_type": "code",
      "metadata": {
        "id": "v_g-LV7JhKqX",
        "colab_type": "code",
        "outputId": "44d7de24-9e42-41f0-a5d0-5af182d67fb3",
        "colab": {
          "base_uri": "https://localhost:8080/",
          "height": 102
        }
      },
      "source": [
        "df.states[df.states == 'NJ'] = 'NY'"
      ],
      "execution_count": 0,
      "outputs": [
        {
          "output_type": "stream",
          "text": [
            "/usr/local/lib/python3.6/dist-packages/ipykernel_launcher.py:1: SettingWithCopyWarning: \n",
            "A value is trying to be set on a copy of a slice from a DataFrame\n",
            "\n",
            "See the caveats in the documentation: http://pandas.pydata.org/pandas-docs/stable/indexing.html#indexing-view-versus-copy\n",
            "  \"\"\"Entry point for launching an IPython kernel.\n"
          ],
          "name": "stderr"
        }
      ]
    },
    {
      "cell_type": "code",
      "metadata": {
        "id": "nuwEPb6shU9R",
        "colab_type": "code",
        "outputId": "ae47e712-3826-4200-dc7d-86b088f7714f",
        "colab": {
          "base_uri": "https://localhost:8080/",
          "height": 34
        }
      },
      "source": [
        "df.states.unique()"
      ],
      "execution_count": 0,
      "outputs": [
        {
          "output_type": "execute_result",
          "data": {
            "text/plain": [
              "array(['NY', 'GA', 'FL', 'TX'], dtype=object)"
            ]
          },
          "metadata": {
            "tags": []
          },
          "execution_count": 230
        }
      ]
    },
    {
      "cell_type": "code",
      "metadata": {
        "id": "qsR0t5pgsvMA",
        "colab_type": "code",
        "outputId": "6b02fbd3-ea18-41c1-e943-ca6d611214f6",
        "colab": {
          "base_uri": "https://localhost:8080/",
          "height": 1000
        }
      },
      "source": [
        "df[df.states=='NY']"
      ],
      "execution_count": 0,
      "outputs": [
        {
          "output_type": "execute_result",
          "data": {
            "text/html": [
              "<div>\n",
              "<style scoped>\n",
              "    .dataframe tbody tr th:only-of-type {\n",
              "        vertical-align: middle;\n",
              "    }\n",
              "\n",
              "    .dataframe tbody tr th {\n",
              "        vertical-align: top;\n",
              "    }\n",
              "\n",
              "    .dataframe thead th {\n",
              "        text-align: right;\n",
              "    }\n",
              "</style>\n",
              "<table border=\"1\" class=\"dataframe\">\n",
              "  <thead>\n",
              "    <tr style=\"text-align: right;\">\n",
              "      <th></th>\n",
              "      <th>data</th>\n",
              "      <th>status</th>\n",
              "      <th>states</th>\n",
              "    </tr>\n",
              "    <tr>\n",
              "      <th>dates</th>\n",
              "      <th></th>\n",
              "      <th></th>\n",
              "      <th></th>\n",
              "    </tr>\n",
              "  </thead>\n",
              "  <tbody>\n",
              "    <tr>\n",
              "      <th>1999-11-08</th>\n",
              "      <td>667</td>\n",
              "      <td>3</td>\n",
              "      <td>NY</td>\n",
              "    </tr>\n",
              "    <tr>\n",
              "      <th>1999-11-22</th>\n",
              "      <td>290</td>\n",
              "      <td>1</td>\n",
              "      <td>NY</td>\n",
              "    </tr>\n",
              "    <tr>\n",
              "      <th>1999-12-06</th>\n",
              "      <td>338</td>\n",
              "      <td>2</td>\n",
              "      <td>NY</td>\n",
              "    </tr>\n",
              "    <tr>\n",
              "      <th>1999-12-13</th>\n",
              "      <td>747</td>\n",
              "      <td>2</td>\n",
              "      <td>NY</td>\n",
              "    </tr>\n",
              "    <tr>\n",
              "      <th>2000-02-14</th>\n",
              "      <td>213</td>\n",
              "      <td>1</td>\n",
              "      <td>NY</td>\n",
              "    </tr>\n",
              "    <tr>\n",
              "      <th>2000-02-21</th>\n",
              "      <td>944</td>\n",
              "      <td>3</td>\n",
              "      <td>NY</td>\n",
              "    </tr>\n",
              "    <tr>\n",
              "      <th>2000-02-28</th>\n",
              "      <td>933</td>\n",
              "      <td>2</td>\n",
              "      <td>NY</td>\n",
              "    </tr>\n",
              "    <tr>\n",
              "      <th>2000-03-13</th>\n",
              "      <td>825</td>\n",
              "      <td>2</td>\n",
              "      <td>NY</td>\n",
              "    </tr>\n",
              "    <tr>\n",
              "      <th>2000-03-20</th>\n",
              "      <td>301</td>\n",
              "      <td>2</td>\n",
              "      <td>NY</td>\n",
              "    </tr>\n",
              "    <tr>\n",
              "      <th>2000-03-27</th>\n",
              "      <td>392</td>\n",
              "      <td>3</td>\n",
              "      <td>NY</td>\n",
              "    </tr>\n",
              "    <tr>\n",
              "      <th>2000-05-08</th>\n",
              "      <td>414</td>\n",
              "      <td>2</td>\n",
              "      <td>NY</td>\n",
              "    </tr>\n",
              "    <tr>\n",
              "      <th>2000-05-15</th>\n",
              "      <td>698</td>\n",
              "      <td>2</td>\n",
              "      <td>NY</td>\n",
              "    </tr>\n",
              "    <tr>\n",
              "      <th>2000-05-22</th>\n",
              "      <td>916</td>\n",
              "      <td>2</td>\n",
              "      <td>NY</td>\n",
              "    </tr>\n",
              "    <tr>\n",
              "      <th>2000-06-26</th>\n",
              "      <td>693</td>\n",
              "      <td>1</td>\n",
              "      <td>NY</td>\n",
              "    </tr>\n",
              "    <tr>\n",
              "      <th>2000-07-03</th>\n",
              "      <td>588</td>\n",
              "      <td>1</td>\n",
              "      <td>NY</td>\n",
              "    </tr>\n",
              "    <tr>\n",
              "      <th>2000-08-07</th>\n",
              "      <td>821</td>\n",
              "      <td>3</td>\n",
              "      <td>NY</td>\n",
              "    </tr>\n",
              "    <tr>\n",
              "      <th>2000-09-04</th>\n",
              "      <td>280</td>\n",
              "      <td>2</td>\n",
              "      <td>NY</td>\n",
              "    </tr>\n",
              "    <tr>\n",
              "      <th>2000-09-11</th>\n",
              "      <td>242</td>\n",
              "      <td>1</td>\n",
              "      <td>NY</td>\n",
              "    </tr>\n",
              "    <tr>\n",
              "      <th>2000-10-09</th>\n",
              "      <td>673</td>\n",
              "      <td>3</td>\n",
              "      <td>NY</td>\n",
              "    </tr>\n",
              "    <tr>\n",
              "      <th>2000-10-23</th>\n",
              "      <td>592</td>\n",
              "      <td>1</td>\n",
              "      <td>NY</td>\n",
              "    </tr>\n",
              "    <tr>\n",
              "      <th>2000-10-30</th>\n",
              "      <td>69</td>\n",
              "      <td>3</td>\n",
              "      <td>NY</td>\n",
              "    </tr>\n",
              "    <tr>\n",
              "      <th>2000-11-27</th>\n",
              "      <td>93</td>\n",
              "      <td>1</td>\n",
              "      <td>NY</td>\n",
              "    </tr>\n",
              "    <tr>\n",
              "      <th>2001-01-08</th>\n",
              "      <td>663</td>\n",
              "      <td>3</td>\n",
              "      <td>NY</td>\n",
              "    </tr>\n",
              "    <tr>\n",
              "      <th>2001-01-15</th>\n",
              "      <td>738</td>\n",
              "      <td>3</td>\n",
              "      <td>NY</td>\n",
              "    </tr>\n",
              "    <tr>\n",
              "      <th>2001-01-22</th>\n",
              "      <td>929</td>\n",
              "      <td>2</td>\n",
              "      <td>NY</td>\n",
              "    </tr>\n",
              "    <tr>\n",
              "      <th>2001-02-12</th>\n",
              "      <td>942</td>\n",
              "      <td>1</td>\n",
              "      <td>NY</td>\n",
              "    </tr>\n",
              "    <tr>\n",
              "      <th>2001-03-12</th>\n",
              "      <td>679</td>\n",
              "      <td>2</td>\n",
              "      <td>NY</td>\n",
              "    </tr>\n",
              "    <tr>\n",
              "      <th>2001-03-19</th>\n",
              "      <td>250</td>\n",
              "      <td>3</td>\n",
              "      <td>NY</td>\n",
              "    </tr>\n",
              "    <tr>\n",
              "      <th>2001-04-02</th>\n",
              "      <td>755</td>\n",
              "      <td>1</td>\n",
              "      <td>NY</td>\n",
              "    </tr>\n",
              "    <tr>\n",
              "      <th>2001-04-09</th>\n",
              "      <td>818</td>\n",
              "      <td>3</td>\n",
              "      <td>NY</td>\n",
              "    </tr>\n",
              "    <tr>\n",
              "      <th>...</th>\n",
              "      <td>...</td>\n",
              "      <td>...</td>\n",
              "      <td>...</td>\n",
              "    </tr>\n",
              "    <tr>\n",
              "      <th>2017-02-27</th>\n",
              "      <td>951</td>\n",
              "      <td>3</td>\n",
              "      <td>NY</td>\n",
              "    </tr>\n",
              "    <tr>\n",
              "      <th>2017-03-27</th>\n",
              "      <td>237</td>\n",
              "      <td>2</td>\n",
              "      <td>NY</td>\n",
              "    </tr>\n",
              "    <tr>\n",
              "      <th>2017-04-10</th>\n",
              "      <td>588</td>\n",
              "      <td>2</td>\n",
              "      <td>NY</td>\n",
              "    </tr>\n",
              "    <tr>\n",
              "      <th>2017-05-08</th>\n",
              "      <td>342</td>\n",
              "      <td>1</td>\n",
              "      <td>NY</td>\n",
              "    </tr>\n",
              "    <tr>\n",
              "      <th>2017-06-12</th>\n",
              "      <td>849</td>\n",
              "      <td>1</td>\n",
              "      <td>NY</td>\n",
              "    </tr>\n",
              "    <tr>\n",
              "      <th>2017-07-17</th>\n",
              "      <td>245</td>\n",
              "      <td>1</td>\n",
              "      <td>NY</td>\n",
              "    </tr>\n",
              "    <tr>\n",
              "      <th>2017-08-21</th>\n",
              "      <td>578</td>\n",
              "      <td>2</td>\n",
              "      <td>NY</td>\n",
              "    </tr>\n",
              "    <tr>\n",
              "      <th>2017-09-04</th>\n",
              "      <td>475</td>\n",
              "      <td>3</td>\n",
              "      <td>NY</td>\n",
              "    </tr>\n",
              "    <tr>\n",
              "      <th>2017-09-18</th>\n",
              "      <td>805</td>\n",
              "      <td>3</td>\n",
              "      <td>NY</td>\n",
              "    </tr>\n",
              "    <tr>\n",
              "      <th>2017-10-09</th>\n",
              "      <td>221</td>\n",
              "      <td>3</td>\n",
              "      <td>NY</td>\n",
              "    </tr>\n",
              "    <tr>\n",
              "      <th>2017-10-16</th>\n",
              "      <td>699</td>\n",
              "      <td>1</td>\n",
              "      <td>NY</td>\n",
              "    </tr>\n",
              "    <tr>\n",
              "      <th>2017-10-30</th>\n",
              "      <td>25</td>\n",
              "      <td>3</td>\n",
              "      <td>NY</td>\n",
              "    </tr>\n",
              "    <tr>\n",
              "      <th>2017-11-06</th>\n",
              "      <td>224</td>\n",
              "      <td>1</td>\n",
              "      <td>NY</td>\n",
              "    </tr>\n",
              "    <tr>\n",
              "      <th>2017-11-27</th>\n",
              "      <td>480</td>\n",
              "      <td>1</td>\n",
              "      <td>NY</td>\n",
              "    </tr>\n",
              "    <tr>\n",
              "      <th>2017-12-04</th>\n",
              "      <td>587</td>\n",
              "      <td>1</td>\n",
              "      <td>NY</td>\n",
              "    </tr>\n",
              "    <tr>\n",
              "      <th>2017-12-25</th>\n",
              "      <td>771</td>\n",
              "      <td>1</td>\n",
              "      <td>NY</td>\n",
              "    </tr>\n",
              "    <tr>\n",
              "      <th>2018-01-08</th>\n",
              "      <td>897</td>\n",
              "      <td>3</td>\n",
              "      <td>NY</td>\n",
              "    </tr>\n",
              "    <tr>\n",
              "      <th>2018-02-19</th>\n",
              "      <td>87</td>\n",
              "      <td>3</td>\n",
              "      <td>NY</td>\n",
              "    </tr>\n",
              "    <tr>\n",
              "      <th>2018-02-26</th>\n",
              "      <td>765</td>\n",
              "      <td>3</td>\n",
              "      <td>NY</td>\n",
              "    </tr>\n",
              "    <tr>\n",
              "      <th>2018-03-26</th>\n",
              "      <td>224</td>\n",
              "      <td>1</td>\n",
              "      <td>NY</td>\n",
              "    </tr>\n",
              "    <tr>\n",
              "      <th>2018-05-14</th>\n",
              "      <td>927</td>\n",
              "      <td>2</td>\n",
              "      <td>NY</td>\n",
              "    </tr>\n",
              "    <tr>\n",
              "      <th>2018-06-04</th>\n",
              "      <td>893</td>\n",
              "      <td>3</td>\n",
              "      <td>NY</td>\n",
              "    </tr>\n",
              "    <tr>\n",
              "      <th>2018-06-18</th>\n",
              "      <td>882</td>\n",
              "      <td>1</td>\n",
              "      <td>NY</td>\n",
              "    </tr>\n",
              "    <tr>\n",
              "      <th>2018-07-02</th>\n",
              "      <td>734</td>\n",
              "      <td>2</td>\n",
              "      <td>NY</td>\n",
              "    </tr>\n",
              "    <tr>\n",
              "      <th>2018-08-06</th>\n",
              "      <td>71</td>\n",
              "      <td>2</td>\n",
              "      <td>NY</td>\n",
              "    </tr>\n",
              "    <tr>\n",
              "      <th>2018-08-13</th>\n",
              "      <td>909</td>\n",
              "      <td>2</td>\n",
              "      <td>NY</td>\n",
              "    </tr>\n",
              "    <tr>\n",
              "      <th>2018-08-20</th>\n",
              "      <td>382</td>\n",
              "      <td>3</td>\n",
              "      <td>NY</td>\n",
              "    </tr>\n",
              "    <tr>\n",
              "      <th>2018-09-10</th>\n",
              "      <td>191</td>\n",
              "      <td>2</td>\n",
              "      <td>NY</td>\n",
              "    </tr>\n",
              "    <tr>\n",
              "      <th>2018-09-24</th>\n",
              "      <td>464</td>\n",
              "      <td>3</td>\n",
              "      <td>NY</td>\n",
              "    </tr>\n",
              "    <tr>\n",
              "      <th>2018-10-08</th>\n",
              "      <td>501</td>\n",
              "      <td>1</td>\n",
              "      <td>NY</td>\n",
              "    </tr>\n",
              "  </tbody>\n",
              "</table>\n",
              "<p>344 rows × 3 columns</p>\n",
              "</div>"
            ],
            "text/plain": [
              "            data  status states\n",
              "dates                          \n",
              "1999-11-08   667       3     NY\n",
              "1999-11-22   290       1     NY\n",
              "1999-12-06   338       2     NY\n",
              "1999-12-13   747       2     NY\n",
              "2000-02-14   213       1     NY\n",
              "2000-02-21   944       3     NY\n",
              "2000-02-28   933       2     NY\n",
              "2000-03-13   825       2     NY\n",
              "2000-03-20   301       2     NY\n",
              "2000-03-27   392       3     NY\n",
              "2000-05-08   414       2     NY\n",
              "2000-05-15   698       2     NY\n",
              "2000-05-22   916       2     NY\n",
              "2000-06-26   693       1     NY\n",
              "2000-07-03   588       1     NY\n",
              "2000-08-07   821       3     NY\n",
              "2000-09-04   280       2     NY\n",
              "2000-09-11   242       1     NY\n",
              "2000-10-09   673       3     NY\n",
              "2000-10-23   592       1     NY\n",
              "2000-10-30    69       3     NY\n",
              "2000-11-27    93       1     NY\n",
              "2001-01-08   663       3     NY\n",
              "2001-01-15   738       3     NY\n",
              "2001-01-22   929       2     NY\n",
              "2001-02-12   942       1     NY\n",
              "2001-03-12   679       2     NY\n",
              "2001-03-19   250       3     NY\n",
              "2001-04-02   755       1     NY\n",
              "2001-04-09   818       3     NY\n",
              "...          ...     ...    ...\n",
              "2017-02-27   951       3     NY\n",
              "2017-03-27   237       2     NY\n",
              "2017-04-10   588       2     NY\n",
              "2017-05-08   342       1     NY\n",
              "2017-06-12   849       1     NY\n",
              "2017-07-17   245       1     NY\n",
              "2017-08-21   578       2     NY\n",
              "2017-09-04   475       3     NY\n",
              "2017-09-18   805       3     NY\n",
              "2017-10-09   221       3     NY\n",
              "2017-10-16   699       1     NY\n",
              "2017-10-30    25       3     NY\n",
              "2017-11-06   224       1     NY\n",
              "2017-11-27   480       1     NY\n",
              "2017-12-04   587       1     NY\n",
              "2017-12-25   771       1     NY\n",
              "2018-01-08   897       3     NY\n",
              "2018-02-19    87       3     NY\n",
              "2018-02-26   765       3     NY\n",
              "2018-03-26   224       1     NY\n",
              "2018-05-14   927       2     NY\n",
              "2018-06-04   893       3     NY\n",
              "2018-06-18   882       1     NY\n",
              "2018-07-02   734       2     NY\n",
              "2018-08-06    71       2     NY\n",
              "2018-08-13   909       2     NY\n",
              "2018-08-20   382       3     NY\n",
              "2018-09-10   191       2     NY\n",
              "2018-09-24   464       3     NY\n",
              "2018-10-08   501       1     NY\n",
              "\n",
              "[344 rows x 3 columns]"
            ]
          },
          "metadata": {
            "tags": []
          },
          "execution_count": 231
        }
      ]
    },
    {
      "cell_type": "code",
      "metadata": {
        "id": "ppIlf7XKhZ8j",
        "colab_type": "code",
        "outputId": "b661dee6-c708-4661-939a-81f4d05adbc1",
        "colab": {
          "base_uri": "https://localhost:8080/",
          "height": 300
        }
      },
      "source": [
        "df['data'].plot()"
      ],
      "execution_count": 0,
      "outputs": [
        {
          "output_type": "execute_result",
          "data": {
            "text/plain": [
              "<matplotlib.axes._subplots.AxesSubplot at 0x7ff7f1dcb278>"
            ]
          },
          "metadata": {
            "tags": []
          },
          "execution_count": 232
        },
        {
          "output_type": "display_data",
          "data": {
            "image/png": "[encoded data removed]",
            "text/plain": [
              "<Figure size 432x288 with 1 Axes>"
            ]
          },
          "metadata": {
            "tags": []
          }
        }
      ]
    },
    {
      "cell_type": "code",
      "metadata": {
        "id": "JCJjpy9OhmKY",
        "colab_type": "code",
        "outputId": "9918ecb0-ff13-4bbe-8402-692364b9fb05",
        "colab": {
          "base_uri": "https://localhost:8080/",
          "height": 337
        }
      },
      "source": [
        "df['data'].plot(figsize=(20, 5))\n",
        "plt.show()"
      ],
      "execution_count": 0,
      "outputs": [
        {
          "output_type": "display_data",
          "data": {
            "image/png": "[encoded data removed]",
            "text/plain": [
              "<Figure size 1440x360 with 1 Axes>"
            ]
          },
          "metadata": {
            "tags": []
          }
        }
      ]
    },
    {
      "cell_type": "code",
      "metadata": {
        "id": "4lRKF39rX2wN",
        "colab_type": "code",
        "outputId": "cd10798c-9e9b-485d-f7bf-f52f2516e9ac",
        "colab": {
          "base_uri": "https://localhost:8080/",
          "height": 80
        }
      },
      "source": [
        "df[(df.states == 'FL') & (df.status == 1) & (df.index == '2000-03-06')]  # For and use & and for or use |"
      ],
      "execution_count": 0,
      "outputs": [
        {
          "output_type": "execute_result",
          "data": {
            "text/html": [
              "<div>\n",
              "<style scoped>\n",
              "    .dataframe tbody tr th:only-of-type {\n",
              "        vertical-align: middle;\n",
              "    }\n",
              "\n",
              "    .dataframe tbody tr th {\n",
              "        vertical-align: top;\n",
              "    }\n",
              "\n",
              "    .dataframe thead th {\n",
              "        text-align: right;\n",
              "    }\n",
              "</style>\n",
              "<table border=\"1\" class=\"dataframe\">\n",
              "  <thead>\n",
              "    <tr style=\"text-align: right;\">\n",
              "      <th></th>\n",
              "      <th>data</th>\n",
              "      <th>status</th>\n",
              "      <th>states</th>\n",
              "    </tr>\n",
              "    <tr>\n",
              "      <th>dates</th>\n",
              "      <th></th>\n",
              "      <th></th>\n",
              "      <th></th>\n",
              "    </tr>\n",
              "  </thead>\n",
              "  <tbody>\n",
              "  </tbody>\n",
              "</table>\n",
              "</div>"
            ],
            "text/plain": [
              "Empty DataFrame\n",
              "Columns: [data, status, states]\n",
              "Index: []"
            ]
          },
          "metadata": {
            "tags": []
          },
          "execution_count": 236
        }
      ]
    },
    {
      "cell_type": "code",
      "metadata": {
        "id": "CVM5jxcStuqq",
        "colab_type": "code",
        "outputId": "540c6e71-2185-49b3-abce-b457f1e3e661",
        "colab": {
          "base_uri": "https://localhost:8080/",
          "height": 452
        }
      },
      "source": [
        "dt = df.groupby(['states', 'status']).apply(lambda x: pd.Series({\n",
        "    'min': x['data'].min(),\n",
        "    'max': x.data.max(),\n",
        "    'sum': x.data.sum(),\n",
        "    'mean': x.data.mean(),\n",
        "    'count': x.data.count(),\n",
        "    'earliest': x.index.min()\n",
        "}))\n",
        "pd.DataFrame(dt)\n",
        "# dt"
      ],
      "execution_count": 0,
      "outputs": [
        {
          "output_type": "execute_result",
          "data": {
            "text/html": [
              "<div>\n",
              "<style scoped>\n",
              "    .dataframe tbody tr th:only-of-type {\n",
              "        vertical-align: middle;\n",
              "    }\n",
              "\n",
              "    .dataframe tbody tr th {\n",
              "        vertical-align: top;\n",
              "    }\n",
              "\n",
              "    .dataframe thead th {\n",
              "        text-align: right;\n",
              "    }\n",
              "</style>\n",
              "<table border=\"1\" class=\"dataframe\">\n",
              "  <thead>\n",
              "    <tr style=\"text-align: right;\">\n",
              "      <th></th>\n",
              "      <th></th>\n",
              "      <th>min</th>\n",
              "      <th>max</th>\n",
              "      <th>sum</th>\n",
              "      <th>mean</th>\n",
              "      <th>count</th>\n",
              "      <th>earliest</th>\n",
              "    </tr>\n",
              "    <tr>\n",
              "      <th>states</th>\n",
              "      <th>status</th>\n",
              "      <th></th>\n",
              "      <th></th>\n",
              "      <th></th>\n",
              "      <th></th>\n",
              "      <th></th>\n",
              "      <th></th>\n",
              "    </tr>\n",
              "  </thead>\n",
              "  <tbody>\n",
              "    <tr>\n",
              "      <th rowspan=\"3\" valign=\"top\">FL</th>\n",
              "      <th>1</th>\n",
              "      <td>26</td>\n",
              "      <td>991</td>\n",
              "      <td>62687</td>\n",
              "      <td>505.540323</td>\n",
              "      <td>124</td>\n",
              "      <td>2000-04-17</td>\n",
              "    </tr>\n",
              "    <tr>\n",
              "      <th>2</th>\n",
              "      <td>43</td>\n",
              "      <td>996</td>\n",
              "      <td>54261</td>\n",
              "      <td>511.896226</td>\n",
              "      <td>106</td>\n",
              "      <td>2000-06-05</td>\n",
              "    </tr>\n",
              "    <tr>\n",
              "      <th>3</th>\n",
              "      <td>28</td>\n",
              "      <td>996</td>\n",
              "      <td>65704</td>\n",
              "      <td>497.757576</td>\n",
              "      <td>132</td>\n",
              "      <td>1999-12-20</td>\n",
              "    </tr>\n",
              "    <tr>\n",
              "      <th rowspan=\"3\" valign=\"top\">GA</th>\n",
              "      <th>1</th>\n",
              "      <td>27</td>\n",
              "      <td>987</td>\n",
              "      <td>26176</td>\n",
              "      <td>513.254902</td>\n",
              "      <td>51</td>\n",
              "      <td>1999-11-15</td>\n",
              "    </tr>\n",
              "    <tr>\n",
              "      <th>2</th>\n",
              "      <td>30</td>\n",
              "      <td>984</td>\n",
              "      <td>26883</td>\n",
              "      <td>480.053571</td>\n",
              "      <td>56</td>\n",
              "      <td>1999-11-29</td>\n",
              "    </tr>\n",
              "    <tr>\n",
              "      <th>3</th>\n",
              "      <td>40</td>\n",
              "      <td>994</td>\n",
              "      <td>30582</td>\n",
              "      <td>588.115385</td>\n",
              "      <td>52</td>\n",
              "      <td>2000-01-17</td>\n",
              "    </tr>\n",
              "    <tr>\n",
              "      <th rowspan=\"3\" valign=\"top\">NY</th>\n",
              "      <th>1</th>\n",
              "      <td>33</td>\n",
              "      <td>984</td>\n",
              "      <td>52067</td>\n",
              "      <td>525.929293</td>\n",
              "      <td>99</td>\n",
              "      <td>1999-11-22</td>\n",
              "    </tr>\n",
              "    <tr>\n",
              "      <th>2</th>\n",
              "      <td>38</td>\n",
              "      <td>983</td>\n",
              "      <td>59289</td>\n",
              "      <td>506.743590</td>\n",
              "      <td>117</td>\n",
              "      <td>1999-12-06</td>\n",
              "    </tr>\n",
              "    <tr>\n",
              "      <th>3</th>\n",
              "      <td>25</td>\n",
              "      <td>991</td>\n",
              "      <td>67901</td>\n",
              "      <td>530.476562</td>\n",
              "      <td>128</td>\n",
              "      <td>1999-11-08</td>\n",
              "    </tr>\n",
              "    <tr>\n",
              "      <th rowspan=\"3\" valign=\"top\">TX</th>\n",
              "      <th>1</th>\n",
              "      <td>58</td>\n",
              "      <td>964</td>\n",
              "      <td>24341</td>\n",
              "      <td>553.204545</td>\n",
              "      <td>44</td>\n",
              "      <td>2000-01-31</td>\n",
              "    </tr>\n",
              "    <tr>\n",
              "      <th>2</th>\n",
              "      <td>26</td>\n",
              "      <td>972</td>\n",
              "      <td>24866</td>\n",
              "      <td>507.469388</td>\n",
              "      <td>49</td>\n",
              "      <td>2000-01-03</td>\n",
              "    </tr>\n",
              "    <tr>\n",
              "      <th>3</th>\n",
              "      <td>37</td>\n",
              "      <td>932</td>\n",
              "      <td>22379</td>\n",
              "      <td>532.833333</td>\n",
              "      <td>42</td>\n",
              "      <td>2000-01-10</td>\n",
              "    </tr>\n",
              "  </tbody>\n",
              "</table>\n",
              "</div>"
            ],
            "text/plain": [
              "               min  max    sum        mean  count   earliest\n",
              "states status                                               \n",
              "FL     1        26  991  62687  505.540323    124 2000-04-17\n",
              "       2        43  996  54261  511.896226    106 2000-06-05\n",
              "       3        28  996  65704  497.757576    132 1999-12-20\n",
              "GA     1        27  987  26176  513.254902     51 1999-11-15\n",
              "       2        30  984  26883  480.053571     56 1999-11-29\n",
              "       3        40  994  30582  588.115385     52 2000-01-17\n",
              "NY     1        33  984  52067  525.929293     99 1999-11-22\n",
              "       2        38  983  59289  506.743590    117 1999-12-06\n",
              "       3        25  991  67901  530.476562    128 1999-11-08\n",
              "TX     1        58  964  24341  553.204545     44 2000-01-31\n",
              "       2        26  972  24866  507.469388     49 2000-01-03\n",
              "       3        37  932  22379  532.833333     42 2000-01-10"
            ]
          },
          "metadata": {
            "tags": []
          },
          "execution_count": 239
        }
      ]
    },
    {
      "cell_type": "code",
      "metadata": {
        "id": "qio38_pBTCF3",
        "colab_type": "code",
        "outputId": "77aeaba5-cfdc-4e6b-89d4-e8a481203440",
        "colab": {
          "base_uri": "https://localhost:8080/",
          "height": 204
        }
      },
      "source": [
        "_ = df.groupby('states').apply(lambda x: x.data.mean())\n",
        "pd.DataFrame(_)"
      ],
      "execution_count": 0,
      "outputs": [
        {
          "output_type": "execute_result",
          "data": {
            "text/html": [
              "<div>\n",
              "<style scoped>\n",
              "    .dataframe tbody tr th:only-of-type {\n",
              "        vertical-align: middle;\n",
              "    }\n",
              "\n",
              "    .dataframe tbody tr th {\n",
              "        vertical-align: top;\n",
              "    }\n",
              "\n",
              "    .dataframe thead th {\n",
              "        text-align: right;\n",
              "    }\n",
              "</style>\n",
              "<table border=\"1\" class=\"dataframe\">\n",
              "  <thead>\n",
              "    <tr style=\"text-align: right;\">\n",
              "      <th></th>\n",
              "      <th>0</th>\n",
              "    </tr>\n",
              "    <tr>\n",
              "      <th>states</th>\n",
              "      <th></th>\n",
              "    </tr>\n",
              "  </thead>\n",
              "  <tbody>\n",
              "    <tr>\n",
              "      <th>FL</th>\n",
              "      <td>504.563536</td>\n",
              "    </tr>\n",
              "    <tr>\n",
              "      <th>GA</th>\n",
              "      <td>526.044025</td>\n",
              "    </tr>\n",
              "    <tr>\n",
              "      <th>NY</th>\n",
              "      <td>521.095930</td>\n",
              "    </tr>\n",
              "    <tr>\n",
              "      <th>TX</th>\n",
              "      <td>530.266667</td>\n",
              "    </tr>\n",
              "  </tbody>\n",
              "</table>\n",
              "</div>"
            ],
            "text/plain": [
              "                 0\n",
              "states            \n",
              "FL      504.563536\n",
              "GA      526.044025\n",
              "NY      521.095930\n",
              "TX      530.266667"
            ]
          },
          "metadata": {
            "tags": []
          },
          "execution_count": 247
        }
      ]
    },
    {
      "cell_type": "code",
      "metadata": {
        "id": "lHjfLp-iTSIR",
        "colab_type": "code",
        "outputId": "282637ed-8fa1-469f-affd-0361c9fca837",
        "colab": {
          "base_uri": "https://localhost:8080/",
          "height": 119
        }
      },
      "source": [
        "df.groupby('states').apply(lambda x: x.data.mean())"
      ],
      "execution_count": 0,
      "outputs": [
        {
          "output_type": "execute_result",
          "data": {
            "text/plain": [
              "states\n",
              "FL    504.563536\n",
              "GA    526.044025\n",
              "NY    521.095930\n",
              "TX    530.266667\n",
              "dtype: float64"
            ]
          },
          "metadata": {
            "tags": []
          },
          "execution_count": 249
        }
      ]
    },
    {
      "cell_type": "code",
      "metadata": {
        "id": "1X05QzTHTpUo",
        "colab_type": "code",
        "outputId": "e37f5ce4-bcca-445a-d3d6-d0636bd7b212",
        "colab": {
          "base_uri": "https://localhost:8080/",
          "height": 255
        }
      },
      "source": [
        "df.groupby(['states', 'status']).apply(lambda x: x.data.mean())"
      ],
      "execution_count": 0,
      "outputs": [
        {
          "output_type": "execute_result",
          "data": {
            "text/plain": [
              "states  status\n",
              "FL      1         505.540323\n",
              "        2         511.896226\n",
              "        3         497.757576\n",
              "GA      1         513.254902\n",
              "        2         480.053571\n",
              "        3         588.115385\n",
              "NY      1         525.929293\n",
              "        2         506.743590\n",
              "        3         530.476562\n",
              "TX      1         553.204545\n",
              "        2         507.469388\n",
              "        3         532.833333\n",
              "dtype: float64"
            ]
          },
          "metadata": {
            "tags": []
          },
          "execution_count": 250
        }
      ]
    },
    {
      "cell_type": "code",
      "metadata": {
        "id": "puT5wmkqhqLE",
        "colab_type": "code",
        "outputId": "e1779248-e504-4af8-e3fb-5fe396e9ef59",
        "colab": {
          "base_uri": "https://localhost:8080/",
          "height": 1000
        }
      },
      "source": [
        "dt = df.groupby(['states', 'status', 'dates']).sum()\n",
        "dt\n"
      ],
      "execution_count": 0,
      "outputs": [
        {
          "output_type": "execute_result",
          "data": {
            "text/html": [
              "<div>\n",
              "<style scoped>\n",
              "    .dataframe tbody tr th:only-of-type {\n",
              "        vertical-align: middle;\n",
              "    }\n",
              "\n",
              "    .dataframe tbody tr th {\n",
              "        vertical-align: top;\n",
              "    }\n",
              "\n",
              "    .dataframe thead th {\n",
              "        text-align: right;\n",
              "    }\n",
              "</style>\n",
              "<table border=\"1\" class=\"dataframe\">\n",
              "  <thead>\n",
              "    <tr style=\"text-align: right;\">\n",
              "      <th></th>\n",
              "      <th></th>\n",
              "      <th></th>\n",
              "      <th>data</th>\n",
              "    </tr>\n",
              "    <tr>\n",
              "      <th>states</th>\n",
              "      <th>status</th>\n",
              "      <th>dates</th>\n",
              "      <th></th>\n",
              "    </tr>\n",
              "  </thead>\n",
              "  <tbody>\n",
              "    <tr>\n",
              "      <th rowspan=\"30\" valign=\"top\">FL</th>\n",
              "      <th rowspan=\"30\" valign=\"top\">1</th>\n",
              "      <th>2000-04-17</th>\n",
              "      <td>454</td>\n",
              "    </tr>\n",
              "    <tr>\n",
              "      <th>2000-05-01</th>\n",
              "      <td>183</td>\n",
              "    </tr>\n",
              "    <tr>\n",
              "      <th>2000-05-29</th>\n",
              "      <td>353</td>\n",
              "    </tr>\n",
              "    <tr>\n",
              "      <th>2000-06-12</th>\n",
              "      <td>364</td>\n",
              "    </tr>\n",
              "    <tr>\n",
              "      <th>2000-07-24</th>\n",
              "      <td>927</td>\n",
              "    </tr>\n",
              "    <tr>\n",
              "      <th>2000-08-14</th>\n",
              "      <td>253</td>\n",
              "    </tr>\n",
              "    <tr>\n",
              "      <th>2000-10-02</th>\n",
              "      <td>88</td>\n",
              "    </tr>\n",
              "    <tr>\n",
              "      <th>2000-10-16</th>\n",
              "      <td>766</td>\n",
              "    </tr>\n",
              "    <tr>\n",
              "      <th>2001-03-05</th>\n",
              "      <td>283</td>\n",
              "    </tr>\n",
              "    <tr>\n",
              "      <th>2001-04-16</th>\n",
              "      <td>72</td>\n",
              "    </tr>\n",
              "    <tr>\n",
              "      <th>2001-05-07</th>\n",
              "      <td>778</td>\n",
              "    </tr>\n",
              "    <tr>\n",
              "      <th>2001-05-14</th>\n",
              "      <td>658</td>\n",
              "    </tr>\n",
              "    <tr>\n",
              "      <th>2001-06-11</th>\n",
              "      <td>312</td>\n",
              "    </tr>\n",
              "    <tr>\n",
              "      <th>2001-08-06</th>\n",
              "      <td>901</td>\n",
              "    </tr>\n",
              "    <tr>\n",
              "      <th>2001-12-03</th>\n",
              "      <td>165</td>\n",
              "    </tr>\n",
              "    <tr>\n",
              "      <th>2001-12-24</th>\n",
              "      <td>189</td>\n",
              "    </tr>\n",
              "    <tr>\n",
              "      <th>2002-03-25</th>\n",
              "      <td>294</td>\n",
              "    </tr>\n",
              "    <tr>\n",
              "      <th>2002-07-08</th>\n",
              "      <td>154</td>\n",
              "    </tr>\n",
              "    <tr>\n",
              "      <th>2002-07-29</th>\n",
              "      <td>300</td>\n",
              "    </tr>\n",
              "    <tr>\n",
              "      <th>2002-11-11</th>\n",
              "      <td>57</td>\n",
              "    </tr>\n",
              "    <tr>\n",
              "      <th>2002-12-16</th>\n",
              "      <td>613</td>\n",
              "    </tr>\n",
              "    <tr>\n",
              "      <th>2003-03-10</th>\n",
              "      <td>771</td>\n",
              "    </tr>\n",
              "    <tr>\n",
              "      <th>2003-06-02</th>\n",
              "      <td>707</td>\n",
              "    </tr>\n",
              "    <tr>\n",
              "      <th>2003-06-23</th>\n",
              "      <td>856</td>\n",
              "    </tr>\n",
              "    <tr>\n",
              "      <th>2003-08-04</th>\n",
              "      <td>334</td>\n",
              "    </tr>\n",
              "    <tr>\n",
              "      <th>2003-10-06</th>\n",
              "      <td>606</td>\n",
              "    </tr>\n",
              "    <tr>\n",
              "      <th>2003-12-01</th>\n",
              "      <td>230</td>\n",
              "    </tr>\n",
              "    <tr>\n",
              "      <th>2004-01-19</th>\n",
              "      <td>33</td>\n",
              "    </tr>\n",
              "    <tr>\n",
              "      <th>2004-02-02</th>\n",
              "      <td>768</td>\n",
              "    </tr>\n",
              "    <tr>\n",
              "      <th>2004-02-23</th>\n",
              "      <td>192</td>\n",
              "    </tr>\n",
              "    <tr>\n",
              "      <th>...</th>\n",
              "      <th>...</th>\n",
              "      <th>...</th>\n",
              "      <td>...</td>\n",
              "    </tr>\n",
              "    <tr>\n",
              "      <th rowspan=\"30\" valign=\"top\">TX</th>\n",
              "      <th rowspan=\"30\" valign=\"top\">3</th>\n",
              "      <th>2005-03-14</th>\n",
              "      <td>491</td>\n",
              "    </tr>\n",
              "    <tr>\n",
              "      <th>2007-03-12</th>\n",
              "      <td>701</td>\n",
              "    </tr>\n",
              "    <tr>\n",
              "      <th>2007-03-19</th>\n",
              "      <td>381</td>\n",
              "    </tr>\n",
              "    <tr>\n",
              "      <th>2007-04-30</th>\n",
              "      <td>709</td>\n",
              "    </tr>\n",
              "    <tr>\n",
              "      <th>2008-12-22</th>\n",
              "      <td>406</td>\n",
              "    </tr>\n",
              "    <tr>\n",
              "      <th>2009-04-27</th>\n",
              "      <td>932</td>\n",
              "    </tr>\n",
              "    <tr>\n",
              "      <th>2009-07-06</th>\n",
              "      <td>306</td>\n",
              "    </tr>\n",
              "    <tr>\n",
              "      <th>2009-08-31</th>\n",
              "      <td>398</td>\n",
              "    </tr>\n",
              "    <tr>\n",
              "      <th>2009-09-28</th>\n",
              "      <td>808</td>\n",
              "    </tr>\n",
              "    <tr>\n",
              "      <th>2010-07-19</th>\n",
              "      <td>779</td>\n",
              "    </tr>\n",
              "    <tr>\n",
              "      <th>2010-12-20</th>\n",
              "      <td>765</td>\n",
              "    </tr>\n",
              "    <tr>\n",
              "      <th>2011-08-22</th>\n",
              "      <td>191</td>\n",
              "    </tr>\n",
              "    <tr>\n",
              "      <th>2011-10-03</th>\n",
              "      <td>696</td>\n",
              "    </tr>\n",
              "    <tr>\n",
              "      <th>2011-10-24</th>\n",
              "      <td>117</td>\n",
              "    </tr>\n",
              "    <tr>\n",
              "      <th>2011-12-26</th>\n",
              "      <td>775</td>\n",
              "    </tr>\n",
              "    <tr>\n",
              "      <th>2012-05-21</th>\n",
              "      <td>667</td>\n",
              "    </tr>\n",
              "    <tr>\n",
              "      <th>2012-07-23</th>\n",
              "      <td>472</td>\n",
              "    </tr>\n",
              "    <tr>\n",
              "      <th>2013-04-29</th>\n",
              "      <td>472</td>\n",
              "    </tr>\n",
              "    <tr>\n",
              "      <th>2013-05-20</th>\n",
              "      <td>665</td>\n",
              "    </tr>\n",
              "    <tr>\n",
              "      <th>2013-08-05</th>\n",
              "      <td>800</td>\n",
              "    </tr>\n",
              "    <tr>\n",
              "      <th>2014-01-20</th>\n",
              "      <td>264</td>\n",
              "    </tr>\n",
              "    <tr>\n",
              "      <th>2014-12-29</th>\n",
              "      <td>916</td>\n",
              "    </tr>\n",
              "    <tr>\n",
              "      <th>2015-06-15</th>\n",
              "      <td>476</td>\n",
              "    </tr>\n",
              "    <tr>\n",
              "      <th>2015-11-23</th>\n",
              "      <td>103</td>\n",
              "    </tr>\n",
              "    <tr>\n",
              "      <th>2017-01-16</th>\n",
              "      <td>699</td>\n",
              "    </tr>\n",
              "    <tr>\n",
              "      <th>2017-06-26</th>\n",
              "      <td>849</td>\n",
              "    </tr>\n",
              "    <tr>\n",
              "      <th>2017-07-03</th>\n",
              "      <td>301</td>\n",
              "    </tr>\n",
              "    <tr>\n",
              "      <th>2017-07-24</th>\n",
              "      <td>407</td>\n",
              "    </tr>\n",
              "    <tr>\n",
              "      <th>2017-08-14</th>\n",
              "      <td>607</td>\n",
              "    </tr>\n",
              "    <tr>\n",
              "      <th>2017-10-02</th>\n",
              "      <td>504</td>\n",
              "    </tr>\n",
              "  </tbody>\n",
              "</table>\n",
              "<p>1000 rows × 1 columns</p>\n",
              "</div>"
            ],
            "text/plain": [
              "                          data\n",
              "states status dates           \n",
              "FL     1      2000-04-17   454\n",
              "              2000-05-01   183\n",
              "              2000-05-29   353\n",
              "              2000-06-12   364\n",
              "              2000-07-24   927\n",
              "              2000-08-14   253\n",
              "              2000-10-02    88\n",
              "              2000-10-16   766\n",
              "              2001-03-05   283\n",
              "              2001-04-16    72\n",
              "              2001-05-07   778\n",
              "              2001-05-14   658\n",
              "              2001-06-11   312\n",
              "              2001-08-06   901\n",
              "              2001-12-03   165\n",
              "              2001-12-24   189\n",
              "              2002-03-25   294\n",
              "              2002-07-08   154\n",
              "              2002-07-29   300\n",
              "              2002-11-11    57\n",
              "              2002-12-16   613\n",
              "              2003-03-10   771\n",
              "              2003-06-02   707\n",
              "              2003-06-23   856\n",
              "              2003-08-04   334\n",
              "              2003-10-06   606\n",
              "              2003-12-01   230\n",
              "              2004-01-19    33\n",
              "              2004-02-02   768\n",
              "              2004-02-23   192\n",
              "...                        ...\n",
              "TX     3      2005-03-14   491\n",
              "              2007-03-12   701\n",
              "              2007-03-19   381\n",
              "              2007-04-30   709\n",
              "              2008-12-22   406\n",
              "              2009-04-27   932\n",
              "              2009-07-06   306\n",
              "              2009-08-31   398\n",
              "              2009-09-28   808\n",
              "              2010-07-19   779\n",
              "              2010-12-20   765\n",
              "              2011-08-22   191\n",
              "              2011-10-03   696\n",
              "              2011-10-24   117\n",
              "              2011-12-26   775\n",
              "              2012-05-21   667\n",
              "              2012-07-23   472\n",
              "              2013-04-29   472\n",
              "              2013-05-20   665\n",
              "              2013-08-05   800\n",
              "              2014-01-20   264\n",
              "              2014-12-29   916\n",
              "              2015-06-15   476\n",
              "              2015-11-23   103\n",
              "              2017-01-16   699\n",
              "              2017-06-26   849\n",
              "              2017-07-03   301\n",
              "              2017-07-24   407\n",
              "              2017-08-14   607\n",
              "              2017-10-02   504\n",
              "\n",
              "[1000 rows x 1 columns]"
            ]
          },
          "metadata": {
            "tags": []
          },
          "execution_count": 251
        }
      ]
    },
    {
      "cell_type": "code",
      "metadata": {
        "id": "594w8tlfh1V_",
        "colab_type": "code",
        "outputId": "673b60f4-71b1-4c54-aa40-c81daf59de10",
        "colab": {
          "base_uri": "https://localhost:8080/",
          "height": 88
        }
      },
      "source": [
        "dt.index"
      ],
      "execution_count": 0,
      "outputs": [
        {
          "output_type": "execute_result",
          "data": {
            "text/plain": [
              "MultiIndex(levels=[['FL', 'GA', 'NY', 'TX'], [1, 2, 3], [1999-11-08 00:00:00, 1999-11-15 00:00:00, 1999-11-22 00:00:00, 1999-11-29 00:00:00, 1999-12-06 00:00:00, 1999-12-13 00:00:00, 1999-12-20 00:00:00, 1999-12-27 00:00:00, 2000-01-03 00:00:00, 2000-01-10 00:00:00, 2000-01-17 00:00:00, 2000-01-24 00:00:00, 2000-01-31 00:00:00, 2000-02-07 00:00:00, 2000-02-14 00:00:00, 2000-02-21 00:00:00, 2000-02-28 00:00:00, 2000-03-06 00:00:00, 2000-03-13 00:00:00, 2000-03-20 00:00:00, 2000-03-27 00:00:00, 2000-04-03 00:00:00, 2000-04-10 00:00:00, 2000-04-17 00:00:00, 2000-04-24 00:00:00, 2000-05-01 00:00:00, 2000-05-08 00:00:00, 2000-05-15 00:00:00, 2000-05-22 00:00:00, 2000-05-29 00:00:00, 2000-06-05 00:00:00, 2000-06-12 00:00:00, 2000-06-19 00:00:00, 2000-06-26 00:00:00, 2000-07-03 00:00:00, 2000-07-10 00:00:00, 2000-07-17 00:00:00, 2000-07-24 00:00:00, 2000-07-31 00:00:00, 2000-08-07 00:00:00, 2000-08-14 00:00:00, 2000-08-21 00:00:00, 2000-08-28 00:00:00, 2000-09-04 00:00:00, 2000-09-11 00:00:00, 2000-09-18 00:00:00, 2000-09-25 00:00:00, 2000-10-02 00:00:00, 2000-10-09 00:00:00, 2000-10-16 00:00:00, 2000-10-23 00:00:00, 2000-10-30 00:00:00, 2000-11-06 00:00:00, 2000-11-13 00:00:00, 2000-11-20 00:00:00, 2000-11-27 00:00:00, 2000-12-04 00:00:00, 2000-12-11 00:00:00, 2000-12-18 00:00:00, 2000-12-25 00:00:00, 2001-01-01 00:00:00, 2001-01-08 00:00:00, 2001-01-15 00:00:00, 2001-01-22 00:00:00, 2001-01-29 00:00:00, 2001-02-05 00:00:00, 2001-02-12 00:00:00, 2001-02-19 00:00:00, 2001-02-26 00:00:00, 2001-03-05 00:00:00, 2001-03-12 00:00:00, 2001-03-19 00:00:00, 2001-03-26 00:00:00, 2001-04-02 00:00:00, 2001-04-09 00:00:00, 2001-04-16 00:00:00, 2001-04-23 00:00:00, 2001-04-30 00:00:00, 2001-05-07 00:00:00, 2001-05-14 00:00:00, 2001-05-21 00:00:00, 2001-05-28 00:00:00, 2001-06-04 00:00:00, 2001-06-11 00:00:00, 2001-06-18 00:00:00, 2001-06-25 00:00:00, 2001-07-02 00:00:00, 2001-07-09 00:00:00, 2001-07-16 00:00:00, 2001-07-23 00:00:00, 2001-07-30 00:00:00, 2001-08-06 00:00:00, 2001-08-13 00:00:00, 2001-08-20 00:00:00, 2001-08-27 00:00:00, 2001-09-03 00:00:00, 2001-09-10 00:00:00, 2001-09-17 00:00:00, 2001-09-24 00:00:00, 2001-10-01 00:00:00, 2001-10-08 00:00:00, 2001-10-15 00:00:00, 2001-10-22 00:00:00, 2001-10-29 00:00:00, 2001-11-05 00:00:00, 2001-11-12 00:00:00, 2001-11-19 00:00:00, 2001-11-26 00:00:00, 2001-12-03 00:00:00, 2001-12-10 00:00:00, 2001-12-17 00:00:00, 2001-12-24 00:00:00, 2001-12-31 00:00:00, 2002-01-07 00:00:00, 2002-01-14 00:00:00, 2002-01-21 00:00:00, 2002-01-28 00:00:00, 2002-02-04 00:00:00, 2002-02-11 00:00:00, 2002-02-18 00:00:00, 2002-02-25 00:00:00, 2002-03-04 00:00:00, 2002-03-11 00:00:00, 2002-03-18 00:00:00, 2002-03-25 00:00:00, 2002-04-01 00:00:00, 2002-04-08 00:00:00, 2002-04-15 00:00:00, 2002-04-22 00:00:00, 2002-04-29 00:00:00, 2002-05-06 00:00:00, 2002-05-13 00:00:00, 2002-05-20 00:00:00, 2002-05-27 00:00:00, 2002-06-03 00:00:00, 2002-06-10 00:00:00, 2002-06-17 00:00:00, 2002-06-24 00:00:00, 2002-07-01 00:00:00, 2002-07-08 00:00:00, 2002-07-15 00:00:00, 2002-07-22 00:00:00, 2002-07-29 00:00:00, 2002-08-05 00:00:00, 2002-08-12 00:00:00, 2002-08-19 00:00:00, 2002-08-26 00:00:00, 2002-09-02 00:00:00, 2002-09-09 00:00:00, 2002-09-16 00:00:00, 2002-09-23 00:00:00, 2002-09-30 00:00:00, 2002-10-07 00:00:00, 2002-10-14 00:00:00, 2002-10-21 00:00:00, 2002-10-28 00:00:00, 2002-11-04 00:00:00, 2002-11-11 00:00:00, 2002-11-18 00:00:00, 2002-11-25 00:00:00, 2002-12-02 00:00:00, 2002-12-09 00:00:00, 2002-12-16 00:00:00, 2002-12-23 00:00:00, 2002-12-30 00:00:00, 2003-01-06 00:00:00, 2003-01-13 00:00:00, 2003-01-20 00:00:00, 2003-01-27 00:00:00, 2003-02-03 00:00:00, 2003-02-10 00:00:00, 2003-02-17 00:00:00, 2003-02-24 00:00:00, 2003-03-03 00:00:00, 2003-03-10 00:00:00, 2003-03-17 00:00:00, 2003-03-24 00:00:00, 2003-03-31 00:00:00, 2003-04-07 00:00:00, 2003-04-14 00:00:00, 2003-04-21 00:00:00, 2003-04-28 00:00:00, 2003-05-05 00:00:00, 2003-05-12 00:00:00, 2003-05-19 00:00:00, 2003-05-26 00:00:00, 2003-06-02 00:00:00, 2003-06-09 00:00:00, 2003-06-16 00:00:00, 2003-06-23 00:00:00, 2003-06-30 00:00:00, 2003-07-07 00:00:00, 2003-07-14 00:00:00, 2003-07-21 00:00:00, 2003-07-28 00:00:00, 2003-08-04 00:00:00, 2003-08-11 00:00:00, 2003-08-18 00:00:00, 2003-08-25 00:00:00, 2003-09-01 00:00:00, 2003-09-08 00:00:00, 2003-09-15 00:00:00, 2003-09-22 00:00:00, 2003-09-29 00:00:00, 2003-10-06 00:00:00, 2003-10-13 00:00:00, 2003-10-20 00:00:00, 2003-10-27 00:00:00, 2003-11-03 00:00:00, 2003-11-10 00:00:00, 2003-11-17 00:00:00, 2003-11-24 00:00:00, 2003-12-01 00:00:00, 2003-12-08 00:00:00, 2003-12-15 00:00:00, 2003-12-22 00:00:00, 2003-12-29 00:00:00, 2004-01-05 00:00:00, 2004-01-12 00:00:00, 2004-01-19 00:00:00, 2004-01-26 00:00:00, 2004-02-02 00:00:00, 2004-02-09 00:00:00, 2004-02-16 00:00:00, 2004-02-23 00:00:00, 2004-03-01 00:00:00, 2004-03-08 00:00:00, 2004-03-15 00:00:00, 2004-03-22 00:00:00, 2004-03-29 00:00:00, 2004-04-05 00:00:00, 2004-04-12 00:00:00, 2004-04-19 00:00:00, 2004-04-26 00:00:00, 2004-05-03 00:00:00, 2004-05-10 00:00:00, 2004-05-17 00:00:00, 2004-05-24 00:00:00, 2004-05-31 00:00:00, 2004-06-07 00:00:00, 2004-06-14 00:00:00, 2004-06-21 00:00:00, 2004-06-28 00:00:00, 2004-07-05 00:00:00, 2004-07-12 00:00:00, 2004-07-19 00:00:00, 2004-07-26 00:00:00, 2004-08-02 00:00:00, 2004-08-09 00:00:00, 2004-08-16 00:00:00, 2004-08-23 00:00:00, 2004-08-30 00:00:00, 2004-09-06 00:00:00, 2004-09-13 00:00:00, 2004-09-20 00:00:00, 2004-09-27 00:00:00, 2004-10-04 00:00:00, 2004-10-11 00:00:00, 2004-10-18 00:00:00, 2004-10-25 00:00:00, 2004-11-01 00:00:00, 2004-11-08 00:00:00, 2004-11-15 00:00:00, 2004-11-22 00:00:00, 2004-11-29 00:00:00, 2004-12-06 00:00:00, 2004-12-13 00:00:00, 2004-12-20 00:00:00, 2004-12-27 00:00:00, 2005-01-03 00:00:00, 2005-01-10 00:00:00, 2005-01-17 00:00:00, 2005-01-24 00:00:00, 2005-01-31 00:00:00, 2005-02-07 00:00:00, 2005-02-14 00:00:00, 2005-02-21 00:00:00, 2005-02-28 00:00:00, 2005-03-07 00:00:00, 2005-03-14 00:00:00, 2005-03-21 00:00:00, 2005-03-28 00:00:00, 2005-04-04 00:00:00, 2005-04-11 00:00:00, 2005-04-18 00:00:00, 2005-04-25 00:00:00, 2005-05-02 00:00:00, 2005-05-09 00:00:00, 2005-05-16 00:00:00, 2005-05-23 00:00:00, 2005-05-30 00:00:00, 2005-06-06 00:00:00, 2005-06-13 00:00:00, 2005-06-20 00:00:00, 2005-06-27 00:00:00, 2005-07-04 00:00:00, 2005-07-11 00:00:00, 2005-07-18 00:00:00, 2005-07-25 00:00:00, 2005-08-01 00:00:00, 2005-08-08 00:00:00, 2005-08-15 00:00:00, 2005-08-22 00:00:00, 2005-08-29 00:00:00, 2005-09-05 00:00:00, 2005-09-12 00:00:00, 2005-09-19 00:00:00, 2005-09-26 00:00:00, 2005-10-03 00:00:00, 2005-10-10 00:00:00, 2005-10-17 00:00:00, 2005-10-24 00:00:00, 2005-10-31 00:00:00, 2005-11-07 00:00:00, 2005-11-14 00:00:00, 2005-11-21 00:00:00, 2005-11-28 00:00:00, 2005-12-05 00:00:00, 2005-12-12 00:00:00, 2005-12-19 00:00:00, 2005-12-26 00:00:00, 2006-01-02 00:00:00, 2006-01-09 00:00:00, 2006-01-16 00:00:00, 2006-01-23 00:00:00, 2006-01-30 00:00:00, 2006-02-06 00:00:00, 2006-02-13 00:00:00, 2006-02-20 00:00:00, 2006-02-27 00:00:00, 2006-03-06 00:00:00, 2006-03-13 00:00:00, 2006-03-20 00:00:00, 2006-03-27 00:00:00, 2006-04-03 00:00:00, 2006-04-10 00:00:00, 2006-04-17 00:00:00, 2006-04-24 00:00:00, 2006-05-01 00:00:00, 2006-05-08 00:00:00, 2006-05-15 00:00:00, 2006-05-22 00:00:00, 2006-05-29 00:00:00, 2006-06-05 00:00:00, 2006-06-12 00:00:00, 2006-06-19 00:00:00, 2006-06-26 00:00:00, 2006-07-03 00:00:00, 2006-07-10 00:00:00, 2006-07-17 00:00:00, 2006-07-24 00:00:00, 2006-07-31 00:00:00, 2006-08-07 00:00:00, 2006-08-14 00:00:00, 2006-08-21 00:00:00, 2006-08-28 00:00:00, 2006-09-04 00:00:00, 2006-09-11 00:00:00, 2006-09-18 00:00:00, 2006-09-25 00:00:00, 2006-10-02 00:00:00, 2006-10-09 00:00:00, 2006-10-16 00:00:00, 2006-10-23 00:00:00, 2006-10-30 00:00:00, 2006-11-06 00:00:00, 2006-11-13 00:00:00, 2006-11-20 00:00:00, 2006-11-27 00:00:00, 2006-12-04 00:00:00, 2006-12-11 00:00:00, 2006-12-18 00:00:00, 2006-12-25 00:00:00, 2007-01-01 00:00:00, 2007-01-08 00:00:00, 2007-01-15 00:00:00, 2007-01-22 00:00:00, 2007-01-29 00:00:00, 2007-02-05 00:00:00, 2007-02-12 00:00:00, 2007-02-19 00:00:00, 2007-02-26 00:00:00, 2007-03-05 00:00:00, 2007-03-12 00:00:00, 2007-03-19 00:00:00, 2007-03-26 00:00:00, 2007-04-02 00:00:00, 2007-04-09 00:00:00, 2007-04-16 00:00:00, 2007-04-23 00:00:00, 2007-04-30 00:00:00, 2007-05-07 00:00:00, 2007-05-14 00:00:00, 2007-05-21 00:00:00, 2007-05-28 00:00:00, 2007-06-04 00:00:00, 2007-06-11 00:00:00, 2007-06-18 00:00:00, 2007-06-25 00:00:00, 2007-07-02 00:00:00, 2007-07-09 00:00:00, 2007-07-16 00:00:00, 2007-07-23 00:00:00, 2007-07-30 00:00:00, 2007-08-06 00:00:00, 2007-08-13 00:00:00, 2007-08-20 00:00:00, 2007-08-27 00:00:00, 2007-09-03 00:00:00, 2007-09-10 00:00:00, 2007-09-17 00:00:00, 2007-09-24 00:00:00, 2007-10-01 00:00:00, 2007-10-08 00:00:00, 2007-10-15 00:00:00, 2007-10-22 00:00:00, 2007-10-29 00:00:00, 2007-11-05 00:00:00, 2007-11-12 00:00:00, 2007-11-19 00:00:00, 2007-11-26 00:00:00, 2007-12-03 00:00:00, 2007-12-10 00:00:00, 2007-12-17 00:00:00, 2007-12-24 00:00:00, 2007-12-31 00:00:00, 2008-01-07 00:00:00, 2008-01-14 00:00:00, 2008-01-21 00:00:00, 2008-01-28 00:00:00, 2008-02-04 00:00:00, 2008-02-11 00:00:00, 2008-02-18 00:00:00, 2008-02-25 00:00:00, 2008-03-03 00:00:00, 2008-03-10 00:00:00, 2008-03-17 00:00:00, 2008-03-24 00:00:00, 2008-03-31 00:00:00, 2008-04-07 00:00:00, 2008-04-14 00:00:00, 2008-04-21 00:00:00, 2008-04-28 00:00:00, 2008-05-05 00:00:00, 2008-05-12 00:00:00, 2008-05-19 00:00:00, 2008-05-26 00:00:00, 2008-06-02 00:00:00, 2008-06-09 00:00:00, 2008-06-16 00:00:00, 2008-06-23 00:00:00, 2008-06-30 00:00:00, 2008-07-07 00:00:00, 2008-07-14 00:00:00, 2008-07-21 00:00:00, 2008-07-28 00:00:00, 2008-08-04 00:00:00, 2008-08-11 00:00:00, 2008-08-18 00:00:00, 2008-08-25 00:00:00, 2008-09-01 00:00:00, 2008-09-08 00:00:00, 2008-09-15 00:00:00, 2008-09-22 00:00:00, 2008-09-29 00:00:00, 2008-10-06 00:00:00, 2008-10-13 00:00:00, 2008-10-20 00:00:00, 2008-10-27 00:00:00, 2008-11-03 00:00:00, 2008-11-10 00:00:00, 2008-11-17 00:00:00, 2008-11-24 00:00:00, 2008-12-01 00:00:00, 2008-12-08 00:00:00, 2008-12-15 00:00:00, 2008-12-22 00:00:00, 2008-12-29 00:00:00, 2009-01-05 00:00:00, 2009-01-12 00:00:00, 2009-01-19 00:00:00, 2009-01-26 00:00:00, 2009-02-02 00:00:00, 2009-02-09 00:00:00, 2009-02-16 00:00:00, 2009-02-23 00:00:00, 2009-03-02 00:00:00, 2009-03-09 00:00:00, 2009-03-16 00:00:00, 2009-03-23 00:00:00, 2009-03-30 00:00:00, 2009-04-06 00:00:00, 2009-04-13 00:00:00, 2009-04-20 00:00:00, 2009-04-27 00:00:00, 2009-05-04 00:00:00, 2009-05-11 00:00:00, 2009-05-18 00:00:00, 2009-05-25 00:00:00, 2009-06-01 00:00:00, 2009-06-08 00:00:00, 2009-06-15 00:00:00, 2009-06-22 00:00:00, 2009-06-29 00:00:00, 2009-07-06 00:00:00, 2009-07-13 00:00:00, 2009-07-20 00:00:00, 2009-07-27 00:00:00, 2009-08-03 00:00:00, 2009-08-10 00:00:00, 2009-08-17 00:00:00, 2009-08-24 00:00:00, 2009-08-31 00:00:00, 2009-09-07 00:00:00, 2009-09-14 00:00:00, 2009-09-21 00:00:00, 2009-09-28 00:00:00, 2009-10-05 00:00:00, 2009-10-12 00:00:00, 2009-10-19 00:00:00, 2009-10-26 00:00:00, 2009-11-02 00:00:00, 2009-11-09 00:00:00, 2009-11-16 00:00:00, 2009-11-23 00:00:00, 2009-11-30 00:00:00, 2009-12-07 00:00:00, 2009-12-14 00:00:00, 2009-12-21 00:00:00, 2009-12-28 00:00:00, 2010-01-04 00:00:00, 2010-01-11 00:00:00, 2010-01-18 00:00:00, 2010-01-25 00:00:00, 2010-02-01 00:00:00, 2010-02-08 00:00:00, 2010-02-15 00:00:00, 2010-02-22 00:00:00, 2010-03-01 00:00:00, 2010-03-08 00:00:00, 2010-03-15 00:00:00, 2010-03-22 00:00:00, 2010-03-29 00:00:00, 2010-04-05 00:00:00, 2010-04-12 00:00:00, 2010-04-19 00:00:00, 2010-04-26 00:00:00, 2010-05-03 00:00:00, 2010-05-10 00:00:00, 2010-05-17 00:00:00, 2010-05-24 00:00:00, 2010-05-31 00:00:00, 2010-06-07 00:00:00, 2010-06-14 00:00:00, 2010-06-21 00:00:00, 2010-06-28 00:00:00, 2010-07-05 00:00:00, 2010-07-12 00:00:00, 2010-07-19 00:00:00, 2010-07-26 00:00:00, 2010-08-02 00:00:00, 2010-08-09 00:00:00, 2010-08-16 00:00:00, 2010-08-23 00:00:00, 2010-08-30 00:00:00, 2010-09-06 00:00:00, 2010-09-13 00:00:00, 2010-09-20 00:00:00, 2010-09-27 00:00:00, 2010-10-04 00:00:00, 2010-10-11 00:00:00, 2010-10-18 00:00:00, 2010-10-25 00:00:00, 2010-11-01 00:00:00, 2010-11-08 00:00:00, 2010-11-15 00:00:00, 2010-11-22 00:00:00, 2010-11-29 00:00:00, 2010-12-06 00:00:00, 2010-12-13 00:00:00, 2010-12-20 00:00:00, 2010-12-27 00:00:00, 2011-01-03 00:00:00, 2011-01-10 00:00:00, 2011-01-17 00:00:00, 2011-01-24 00:00:00, 2011-01-31 00:00:00, 2011-02-07 00:00:00, 2011-02-14 00:00:00, 2011-02-21 00:00:00, 2011-02-28 00:00:00, 2011-03-07 00:00:00, 2011-03-14 00:00:00, 2011-03-21 00:00:00, 2011-03-28 00:00:00, 2011-04-04 00:00:00, 2011-04-11 00:00:00, 2011-04-18 00:00:00, 2011-04-25 00:00:00, 2011-05-02 00:00:00, 2011-05-09 00:00:00, 2011-05-16 00:00:00, 2011-05-23 00:00:00, 2011-05-30 00:00:00, 2011-06-06 00:00:00, 2011-06-13 00:00:00, 2011-06-20 00:00:00, 2011-06-27 00:00:00, 2011-07-04 00:00:00, 2011-07-11 00:00:00, 2011-07-18 00:00:00, 2011-07-25 00:00:00, 2011-08-01 00:00:00, 2011-08-08 00:00:00, 2011-08-15 00:00:00, 2011-08-22 00:00:00, 2011-08-29 00:00:00, 2011-09-05 00:00:00, 2011-09-12 00:00:00, 2011-09-19 00:00:00, 2011-09-26 00:00:00, 2011-10-03 00:00:00, 2011-10-10 00:00:00, 2011-10-17 00:00:00, 2011-10-24 00:00:00, 2011-10-31 00:00:00, 2011-11-07 00:00:00, 2011-11-14 00:00:00, 2011-11-21 00:00:00, 2011-11-28 00:00:00, 2011-12-05 00:00:00, 2011-12-12 00:00:00, 2011-12-19 00:00:00, 2011-12-26 00:00:00, 2012-01-02 00:00:00, 2012-01-09 00:00:00, 2012-01-16 00:00:00, 2012-01-23 00:00:00, 2012-01-30 00:00:00, 2012-02-06 00:00:00, 2012-02-13 00:00:00, 2012-02-20 00:00:00, 2012-02-27 00:00:00, 2012-03-05 00:00:00, 2012-03-12 00:00:00, 2012-03-19 00:00:00, 2012-03-26 00:00:00, 2012-04-02 00:00:00, 2012-04-09 00:00:00, 2012-04-16 00:00:00, 2012-04-23 00:00:00, 2012-04-30 00:00:00, 2012-05-07 00:00:00, 2012-05-14 00:00:00, 2012-05-21 00:00:00, 2012-05-28 00:00:00, 2012-06-04 00:00:00, 2012-06-11 00:00:00, 2012-06-18 00:00:00, 2012-06-25 00:00:00, 2012-07-02 00:00:00, 2012-07-09 00:00:00, 2012-07-16 00:00:00, 2012-07-23 00:00:00, 2012-07-30 00:00:00, 2012-08-06 00:00:00, 2012-08-13 00:00:00, 2012-08-20 00:00:00, 2012-08-27 00:00:00, 2012-09-03 00:00:00, 2012-09-10 00:00:00, 2012-09-17 00:00:00, 2012-09-24 00:00:00, 2012-10-01 00:00:00, 2012-10-08 00:00:00, 2012-10-15 00:00:00, 2012-10-22 00:00:00, 2012-10-29 00:00:00, 2012-11-05 00:00:00, 2012-11-12 00:00:00, 2012-11-19 00:00:00, 2012-11-26 00:00:00, 2012-12-03 00:00:00, 2012-12-10 00:00:00, 2012-12-17 00:00:00, 2012-12-24 00:00:00, 2012-12-31 00:00:00, 2013-01-07 00:00:00, 2013-01-14 00:00:00, 2013-01-21 00:00:00, 2013-01-28 00:00:00, 2013-02-04 00:00:00, 2013-02-11 00:00:00, 2013-02-18 00:00:00, 2013-02-25 00:00:00, 2013-03-04 00:00:00, 2013-03-11 00:00:00, 2013-03-18 00:00:00, 2013-03-25 00:00:00, 2013-04-01 00:00:00, 2013-04-08 00:00:00, 2013-04-15 00:00:00, 2013-04-22 00:00:00, 2013-04-29 00:00:00, 2013-05-06 00:00:00, 2013-05-13 00:00:00, 2013-05-20 00:00:00, 2013-05-27 00:00:00, 2013-06-03 00:00:00, 2013-06-10 00:00:00, 2013-06-17 00:00:00, 2013-06-24 00:00:00, 2013-07-01 00:00:00, 2013-07-08 00:00:00, 2013-07-15 00:00:00, 2013-07-22 00:00:00, 2013-07-29 00:00:00, 2013-08-05 00:00:00, 2013-08-12 00:00:00, 2013-08-19 00:00:00, 2013-08-26 00:00:00, 2013-09-02 00:00:00, 2013-09-09 00:00:00, 2013-09-16 00:00:00, 2013-09-23 00:00:00, 2013-09-30 00:00:00, 2013-10-07 00:00:00, 2013-10-14 00:00:00, 2013-10-21 00:00:00, 2013-10-28 00:00:00, 2013-11-04 00:00:00, 2013-11-11 00:00:00, 2013-11-18 00:00:00, 2013-11-25 00:00:00, 2013-12-02 00:00:00, 2013-12-09 00:00:00, 2013-12-16 00:00:00, 2013-12-23 00:00:00, 2013-12-30 00:00:00, 2014-01-06 00:00:00, 2014-01-13 00:00:00, 2014-01-20 00:00:00, 2014-01-27 00:00:00, 2014-02-03 00:00:00, 2014-02-10 00:00:00, 2014-02-17 00:00:00, 2014-02-24 00:00:00, 2014-03-03 00:00:00, 2014-03-10 00:00:00, 2014-03-17 00:00:00, 2014-03-24 00:00:00, 2014-03-31 00:00:00, 2014-04-07 00:00:00, 2014-04-14 00:00:00, 2014-04-21 00:00:00, 2014-04-28 00:00:00, 2014-05-05 00:00:00, 2014-05-12 00:00:00, 2014-05-19 00:00:00, 2014-05-26 00:00:00, 2014-06-02 00:00:00, 2014-06-09 00:00:00, 2014-06-16 00:00:00, 2014-06-23 00:00:00, 2014-06-30 00:00:00, 2014-07-07 00:00:00, 2014-07-14 00:00:00, 2014-07-21 00:00:00, 2014-07-28 00:00:00, 2014-08-04 00:00:00, 2014-08-11 00:00:00, 2014-08-18 00:00:00, 2014-08-25 00:00:00, 2014-09-01 00:00:00, 2014-09-08 00:00:00, 2014-09-15 00:00:00, 2014-09-22 00:00:00, 2014-09-29 00:00:00, 2014-10-06 00:00:00, 2014-10-13 00:00:00, 2014-10-20 00:00:00, 2014-10-27 00:00:00, 2014-11-03 00:00:00, 2014-11-10 00:00:00, 2014-11-17 00:00:00, 2014-11-24 00:00:00, 2014-12-01 00:00:00, 2014-12-08 00:00:00, 2014-12-15 00:00:00, 2014-12-22 00:00:00, 2014-12-29 00:00:00, 2015-01-05 00:00:00, 2015-01-12 00:00:00, 2015-01-19 00:00:00, 2015-01-26 00:00:00, 2015-02-02 00:00:00, 2015-02-09 00:00:00, 2015-02-16 00:00:00, 2015-02-23 00:00:00, 2015-03-02 00:00:00, 2015-03-09 00:00:00, 2015-03-16 00:00:00, 2015-03-23 00:00:00, 2015-03-30 00:00:00, 2015-04-06 00:00:00, 2015-04-13 00:00:00, 2015-04-20 00:00:00, 2015-04-27 00:00:00, 2015-05-04 00:00:00, 2015-05-11 00:00:00, 2015-05-18 00:00:00, 2015-05-25 00:00:00, 2015-06-01 00:00:00, 2015-06-08 00:00:00, 2015-06-15 00:00:00, 2015-06-22 00:00:00, 2015-06-29 00:00:00, 2015-07-06 00:00:00, 2015-07-13 00:00:00, 2015-07-20 00:00:00, 2015-07-27 00:00:00, 2015-08-03 00:00:00, 2015-08-10 00:00:00, 2015-08-17 00:00:00, 2015-08-24 00:00:00, 2015-08-31 00:00:00, 2015-09-07 00:00:00, 2015-09-14 00:00:00, 2015-09-21 00:00:00, 2015-09-28 00:00:00, 2015-10-05 00:00:00, 2015-10-12 00:00:00, 2015-10-19 00:00:00, 2015-10-26 00:00:00, 2015-11-02 00:00:00, 2015-11-09 00:00:00, 2015-11-16 00:00:00, 2015-11-23 00:00:00, 2015-11-30 00:00:00, 2015-12-07 00:00:00, 2015-12-14 00:00:00, 2015-12-21 00:00:00, 2015-12-28 00:00:00, 2016-01-04 00:00:00, 2016-01-11 00:00:00, 2016-01-18 00:00:00, 2016-01-25 00:00:00, 2016-02-01 00:00:00, 2016-02-08 00:00:00, 2016-02-15 00:00:00, 2016-02-22 00:00:00, 2016-02-29 00:00:00, 2016-03-07 00:00:00, 2016-03-14 00:00:00, 2016-03-21 00:00:00, 2016-03-28 00:00:00, 2016-04-04 00:00:00, 2016-04-11 00:00:00, 2016-04-18 00:00:00, 2016-04-25 00:00:00, 2016-05-02 00:00:00, 2016-05-09 00:00:00, 2016-05-16 00:00:00, 2016-05-23 00:00:00, 2016-05-30 00:00:00, 2016-06-06 00:00:00, 2016-06-13 00:00:00, 2016-06-20 00:00:00, 2016-06-27 00:00:00, 2016-07-04 00:00:00, 2016-07-11 00:00:00, 2016-07-18 00:00:00, 2016-07-25 00:00:00, 2016-08-01 00:00:00, 2016-08-08 00:00:00, 2016-08-15 00:00:00, 2016-08-22 00:00:00, 2016-08-29 00:00:00, 2016-09-05 00:00:00, 2016-09-12 00:00:00, 2016-09-19 00:00:00, 2016-09-26 00:00:00, 2016-10-03 00:00:00, 2016-10-10 00:00:00, 2016-10-17 00:00:00, 2016-10-24 00:00:00, 2016-10-31 00:00:00, 2016-11-07 00:00:00, 2016-11-14 00:00:00, 2016-11-21 00:00:00, 2016-11-28 00:00:00, 2016-12-05 00:00:00, 2016-12-12 00:00:00, 2016-12-19 00:00:00, 2016-12-26 00:00:00, 2017-01-02 00:00:00, 2017-01-09 00:00:00, 2017-01-16 00:00:00, 2017-01-23 00:00:00, 2017-01-30 00:00:00, 2017-02-06 00:00:00, 2017-02-13 00:00:00, 2017-02-20 00:00:00, 2017-02-27 00:00:00, 2017-03-06 00:00:00, 2017-03-13 00:00:00, 2017-03-20 00:00:00, 2017-03-27 00:00:00, 2017-04-03 00:00:00, 2017-04-10 00:00:00, 2017-04-17 00:00:00, 2017-04-24 00:00:00, 2017-05-01 00:00:00, 2017-05-08 00:00:00, 2017-05-15 00:00:00, 2017-05-22 00:00:00, 2017-05-29 00:00:00, 2017-06-05 00:00:00, 2017-06-12 00:00:00, 2017-06-19 00:00:00, 2017-06-26 00:00:00, 2017-07-03 00:00:00, 2017-07-10 00:00:00, 2017-07-17 00:00:00, 2017-07-24 00:00:00, 2017-07-31 00:00:00, 2017-08-07 00:00:00, 2017-08-14 00:00:00, 2017-08-21 00:00:00, 2017-08-28 00:00:00, 2017-09-04 00:00:00, 2017-09-11 00:00:00, 2017-09-18 00:00:00, 2017-09-25 00:00:00, 2017-10-02 00:00:00, 2017-10-09 00:00:00, 2017-10-16 00:00:00, 2017-10-23 00:00:00, 2017-10-30 00:00:00, 2017-11-06 00:00:00, 2017-11-13 00:00:00, 2017-11-20 00:00:00, 2017-11-27 00:00:00, 2017-12-04 00:00:00, 2017-12-11 00:00:00, 2017-12-18 00:00:00, 2017-12-25 00:00:00, 2018-01-01 00:00:00, 2018-01-08 00:00:00, 2018-01-15 00:00:00, 2018-01-22 00:00:00, 2018-01-29 00:00:00, 2018-02-05 00:00:00, 2018-02-12 00:00:00, 2018-02-19 00:00:00, 2018-02-26 00:00:00, 2018-03-05 00:00:00, 2018-03-12 00:00:00, 2018-03-19 00:00:00, 2018-03-26 00:00:00, 2018-04-02 00:00:00, 2018-04-09 00:00:00, 2018-04-16 00:00:00, 2018-04-23 00:00:00, 2018-04-30 00:00:00, 2018-05-07 00:00:00, 2018-05-14 00:00:00, 2018-05-21 00:00:00, 2018-05-28 00:00:00, 2018-06-04 00:00:00, 2018-06-11 00:00:00, 2018-06-18 00:00:00, 2018-06-25 00:00:00, 2018-07-02 00:00:00, 2018-07-09 00:00:00, 2018-07-16 00:00:00, 2018-07-23 00:00:00, 2018-07-30 00:00:00, 2018-08-06 00:00:00, 2018-08-13 00:00:00, 2018-08-20 00:00:00, 2018-08-27 00:00:00, 2018-09-03 00:00:00, 2018-09-10 00:00:00, 2018-09-17 00:00:00, 2018-09-24 00:00:00, 2018-10-01 00:00:00, 2018-10-08 00:00:00, 2018-10-15 00:00:00, 2018-10-22 00:00:00, 2018-10-29 00:00:00, 2018-11-05 00:00:00, 2018-11-12 00:00:00, 2018-11-19 00:00:00, 2018-11-26 00:00:00, 2018-12-03 00:00:00, 2018-12-10 00:00:00, 2018-12-17 00:00:00, 2018-12-24 00:00:00, 2018-12-31 00:00:00]],\n",
              "           codes=[[0, 0, 0, 0, 0, 0, 0, 0, 0, 0, 0, 0, 0, 0, 0, 0, 0, 0, 0, 0, 0, 0, 0, 0, 0, 0, 0, 0, 0, 0, 0, 0, 0, 0, 0, 0, 0, 0, 0, 0, 0, 0, 0, 0, 0, 0, 0, 0, 0, 0, 0, 0, 0, 0, 0, 0, 0, 0, 0, 0, 0, 0, 0, 0, 0, 0, 0, 0, 0, 0, 0, 0, 0, 0, 0, 0, 0, 0, 0, 0, 0, 0, 0, 0, 0, 0, 0, 0, 0, 0, 0, 0, 0, 0, 0, 0, 0, 0, 0, 0, 0, 0, 0, 0, 0, 0, 0, 0, 0, 0, 0, 0, 0, 0, 0, 0, 0, 0, 0, 0, 0, 0, 0, 0, 0, 0, 0, 0, 0, 0, 0, 0, 0, 0, 0, 0, 0, 0, 0, 0, 0, 0, 0, 0, 0, 0, 0, 0, 0, 0, 0, 0, 0, 0, 0, 0, 0, 0, 0, 0, 0, 0, 0, 0, 0, 0, 0, 0, 0, 0, 0, 0, 0, 0, 0, 0, 0, 0, 0, 0, 0, 0, 0, 0, 0, 0, 0, 0, 0, 0, 0, 0, 0, 0, 0, 0, 0, 0, 0, 0, 0, 0, 0, 0, 0, 0, 0, 0, 0, 0, 0, 0, 0, 0, 0, 0, 0, 0, 0, 0, 0, 0, 0, 0, 0, 0, 0, 0, 0, 0, 0, 0, 0, 0, 0, 0, 0, 0, 0, 0, 0, 0, 0, 0, 0, 0, 0, 0, 0, 0, 0, 0, 0, 0, 0, 0, 0, 0, 0, 0, 0, 0, 0, 0, 0, 0, 0, 0, 0, 0, 0, 0, 0, 0, 0, 0, 0, 0, 0, 0, 0, 0, 0, 0, 0, 0, 0, 0, 0, 0, 0, 0, 0, 0, 0, 0, 0, 0, 0, 0, 0, 0, 0, 0, 0, 0, 0, 0, 0, 0, 0, 0, 0, 0, 0, 0, 0, 0, 0, 0, 0, 0, 0, 0, 0, 0, 0, 0, 0, 0, 0, 0, 0, 0, 0, 0, 0, 0, 0, 0, 0, 0, 0, 0, 0, 0, 0, 0, 0, 0, 0, 0, 0, 0, 0, 0, 0, 0, 0, 0, 0, 0, 1, 1, 1, 1, 1, 1, 1, 1, 1, 1, 1, 1, 1, 1, 1, 1, 1, 1, 1, 1, 1, 1, 1, 1, 1, 1, 1, 1, 1, 1, 1, 1, 1, 1, 1, 1, 1, 1, 1, 1, 1, 1, 1, 1, 1, 1, 1, 1, 1, 1, 1, 1, 1, 1, 1, 1, 1, 1, 1, 1, 1, 1, 1, 1, 1, 1, 1, 1, 1, 1, 1, 1, 1, 1, 1, 1, 1, 1, 1, 1, 1, 1, 1, 1, 1, 1, 1, 1, 1, 1, 1, 1, 1, 1, 1, 1, 1, 1, 1, 1, 1, 1, 1, 1, 1, 1, 1, 1, 1, 1, 1, 1, 1, 1, 1, 1, 1, 1, 1, 1, 1, 1, 1, 1, 1, 1, 1, 1, 1, 1, 1, 1, 1, 1, 1, 1, 1, 1, 1, 1, 1, 1, 1, 1, 1, 1, 1, 1, 1, 1, 1, 1, 1, 1, 1, 1, 1, 1, 1, 2, 2, 2, 2, 2, 2, 2, 2, 2, 2, 2, 2, 2, 2, 2, 2, 2, 2, 2, 2, 2, 2, 2, 2, 2, 2, 2, 2, 2, 2, 2, 2, 2, 2, 2, 2, 2, 2, 2, 2, 2, 2, 2, 2, 2, 2, 2, 2, 2, 2, 2, 2, 2, 2, 2, 2, 2, 2, 2, 2, 2, 2, 2, 2, 2, 2, 2, 2, 2, 2, 2, 2, 2, 2, 2, 2, 2, 2, 2, 2, 2, 2, 2, 2, 2, 2, 2, 2, 2, 2, 2, 2, 2, 2, 2, 2, 2, 2, 2, 2, 2, 2, 2, 2, 2, 2, 2, 2, 2, 2, 2, 2, 2, 2, 2, 2, 2, 2, 2, 2, 2, 2, 2, 2, 2, 2, 2, 2, 2, 2, 2, 2, 2, 2, 2, 2, 2, 2, 2, 2, 2, 2, 2, 2, 2, 2, 2, 2, 2, 2, 2, 2, 2, 2, 2, 2, 2, 2, 2, 2, 2, 2, 2, 2, 2, 2, 2, 2, 2, 2, 2, 2, 2, 2, 2, 2, 2, 2, 2, 2, 2, 2, 2, 2, 2, 2, 2, 2, 2, 2, 2, 2, 2, 2, 2, 2, 2, 2, 2, 2, 2, 2, 2, 2, 2, 2, 2, 2, 2, 2, 2, 2, 2, 2, 2, 2, 2, 2, 2, 2, 2, 2, 2, 2, 2, 2, 2, 2, 2, 2, 2, 2, 2, 2, 2, 2, 2, 2, 2, 2, 2, 2, 2, 2, 2, 2, 2, 2, 2, 2, 2, 2, 2, 2, 2, 2, 2, 2, 2, 2, 2, 2, 2, 2, 2, 2, 2, 2, 2, 2, 2, 2, 2, 2, 2, 2, 2, 2, 2, 2, 2, 2, 2, 2, 2, 2, 2, 2, 2, 2, 2, 2, 2, 2, 2, 2, 2, 2, 2, 2, 2, 2, 2, 2, 2, 2, 2, 2, 2, 2, 2, 2, 2, 2, 2, 2, 2, 2, 2, 2, 2, 2, 2, 2, 2, 2, 2, 2, 2, 2, 2, 2, 2, 2, 2, 2, 2, 2, 2, 2, 2, 2, 2, 2, 3, 3, 3, 3, 3, 3, 3, 3, 3, 3, 3, 3, 3, 3, 3, 3, 3, 3, 3, 3, 3, 3, 3, 3, 3, 3, 3, 3, 3, 3, 3, 3, 3, 3, 3, 3, 3, 3, 3, 3, 3, 3, 3, 3, 3, 3, 3, 3, 3, 3, 3, 3, 3, 3, 3, 3, 3, 3, 3, 3, 3, 3, 3, 3, 3, 3, 3, 3, 3, 3, 3, 3, 3, 3, 3, 3, 3, 3, 3, 3, 3, 3, 3, 3, 3, 3, 3, 3, 3, 3, 3, 3, 3, 3, 3, 3, 3, 3, 3, 3, 3, 3, 3, 3, 3, 3, 3, 3, 3, 3, 3, 3, 3, 3, 3, 3, 3, 3, 3, 3, 3, 3, 3, 3, 3, 3, 3, 3, 3, 3, 3, 3, 3, 3, 3], [0, 0, 0, 0, 0, 0, 0, 0, 0, 0, 0, 0, 0, 0, 0, 0, 0, 0, 0, 0, 0, 0, 0, 0, 0, 0, 0, 0, 0, 0, 0, 0, 0, 0, 0, 0, 0, 0, 0, 0, 0, 0, 0, 0, 0, 0, 0, 0, 0, 0, 0, 0, 0, 0, 0, 0, 0, 0, 0, 0, 0, 0, 0, 0, 0, 0, 0, 0, 0, 0, 0, 0, 0, 0, 0, 0, 0, 0, 0, 0, 0, 0, 0, 0, 0, 0, 0, 0, 0, 0, 0, 0, 0, 0, 0, 0, 0, 0, 0, 0, 0, 0, 0, 0, 0, 0, 0, 0, 0, 0, 0, 0, 0, 0, 0, 0, 0, 0, 0, 0, 0, 0, 0, 0, 1, 1, 1, 1, 1, 1, 1, 1, 1, 1, 1, 1, 1, 1, 1, 1, 1, 1, 1, 1, 1, 1, 1, 1, 1, 1, 1, 1, 1, 1, 1, 1, 1, 1, 1, 1, 1, 1, 1, 1, 1, 1, 1, 1, 1, 1, 1, 1, 1, 1, 1, 1, 1, 1, 1, 1, 1, 1, 1, 1, 1, 1, 1, 1, 1, 1, 1, 1, 1, 1, 1, 1, 1, 1, 1, 1, 1, 1, 1, 1, 1, 1, 1, 1, 1, 1, 1, 1, 1, 1, 1, 1, 1, 1, 1, 1, 1, 1, 1, 1, 1, 1, 1, 1, 1, 1, 2, 2, 2, 2, 2, 2, 2, 2, 2, 2, 2, 2, 2, 2, 2, 2, 2, 2, 2, 2, 2, 2, 2, 2, 2, 2, 2, 2, 2, 2, 2, 2, 2, 2, 2, 2, 2, 2, 2, 2, 2, 2, 2, 2, 2, 2, 2, 2, 2, 2, 2, 2, 2, 2, 2, 2, 2, 2, 2, 2, 2, 2, 2, 2, 2, 2, 2, 2, 2, 2, 2, 2, 2, 2, 2, 2, 2, 2, 2, 2, 2, 2, 2, 2, 2, 2, 2, 2, 2, 2, 2, 2, 2, 2, 2, 2, 2, 2, 2, 2, 2, 2, 2, 2, 2, 2, 2, 2, 2, 2, 2, 2, 2, 2, 2, 2, 2, 2, 2, 2, 2, 2, 2, 2, 2, 2, 2, 2, 2, 2, 2, 2, 0, 0, 0, 0, 0, 0, 0, 0, 0, 0, 0, 0, 0, 0, 0, 0, 0, 0, 0, 0, 0, 0, 0, 0, 0, 0, 0, 0, 0, 0, 0, 0, 0, 0, 0, 0, 0, 0, 0, 0, 0, 0, 0, 0, 0, 0, 0, 0, 0, 0, 0, 1, 1, 1, 1, 1, 1, 1, 1, 1, 1, 1, 1, 1, 1, 1, 1, 1, 1, 1, 1, 1, 1, 1, 1, 1, 1, 1, 1, 1, 1, 1, 1, 1, 1, 1, 1, 1, 1, 1, 1, 1, 1, 1, 1, 1, 1, 1, 1, 1, 1, 1, 1, 1, 1, 1, 1, 2, 2, 2, 2, 2, 2, 2, 2, 2, 2, 2, 2, 2, 2, 2, 2, 2, 2, 2, 2, 2, 2, 2, 2, 2, 2, 2, 2, 2, 2, 2, 2, 2, 2, 2, 2, 2, 2, 2, 2, 2, 2, 2, 2, 2, 2, 2, 2, 2, 2, 2, 2, 0, 0, 0, 0, 0, 0, 0, 0, 0, 0, 0, 0, 0, 0, 0, 0, 0, 0, 0, 0, 0, 0, 0, 0, 0, 0, 0, 0, 0, 0, 0, 0, 0, 0, 0, 0, 0, 0, 0, 0, 0, 0, 0, 0, 0, 0, 0, 0, 0, 0, 0, 0, 0, 0, 0, 0, 0, 0, 0, 0, 0, 0, 0, 0, 0, 0, 0, 0, 0, 0, 0, 0, 0, 0, 0, 0, 0, 0, 0, 0, 0, 0, 0, 0, 0, 0, 0, 0, 0, 0, 0, 0, 0, 0, 0, 0, 0, 0, 0, 1, 1, 1, 1, 1, 1, 1, 1, 1, 1, 1, 1, 1, 1, 1, 1, 1, 1, 1, 1, 1, 1, 1, 1, 1, 1, 1, 1, 1, 1, 1, 1, 1, 1, 1, 1, 1, 1, 1, 1, 1, 1, 1, 1, 1, 1, 1, 1, 1, 1, 1, 1, 1, 1, 1, 1, 1, 1, 1, 1, 1, 1, 1, 1, 1, 1, 1, 1, 1, 1, 1, 1, 1, 1, 1, 1, 1, 1, 1, 1, 1, 1, 1, 1, 1, 1, 1, 1, 1, 1, 1, 1, 1, 1, 1, 1, 1, 1, 1, 1, 1, 1, 1, 1, 1, 1, 1, 1, 1, 1, 1, 1, 1, 1, 1, 1, 1, 2, 2, 2, 2, 2, 2, 2, 2, 2, 2, 2, 2, 2, 2, 2, 2, 2, 2, 2, 2, 2, 2, 2, 2, 2, 2, 2, 2, 2, 2, 2, 2, 2, 2, 2, 2, 2, 2, 2, 2, 2, 2, 2, 2, 2, 2, 2, 2, 2, 2, 2, 2, 2, 2, 2, 2, 2, 2, 2, 2, 2, 2, 2, 2, 2, 2, 2, 2, 2, 2, 2, 2, 2, 2, 2, 2, 2, 2, 2, 2, 2, 2, 2, 2, 2, 2, 2, 2, 2, 2, 2, 2, 2, 2, 2, 2, 2, 2, 2, 2, 2, 2, 2, 2, 2, 2, 2, 2, 2, 2, 2, 2, 2, 2, 2, 2, 2, 2, 2, 2, 2, 2, 2, 2, 2, 2, 2, 2, 0, 0, 0, 0, 0, 0, 0, 0, 0, 0, 0, 0, 0, 0, 0, 0, 0, 0, 0, 0, 0, 0, 0, 0, 0, 0, 0, 0, 0, 0, 0, 0, 0, 0, 0, 0, 0, 0, 0, 0, 0, 0, 0, 0, 1, 1, 1, 1, 1, 1, 1, 1, 1, 1, 1, 1, 1, 1, 1, 1, 1, 1, 1, 1, 1, 1, 1, 1, 1, 1, 1, 1, 1, 1, 1, 1, 1, 1, 1, 1, 1, 1, 1, 1, 1, 1, 1, 1, 1, 1, 1, 1, 1, 2, 2, 2, 2, 2, 2, 2, 2, 2, 2, 2, 2, 2, 2, 2, 2, 2, 2, 2, 2, 2, 2, 2, 2, 2, 2, 2, 2, 2, 2, 2, 2, 2, 2, 2, 2, 2, 2, 2, 2, 2, 2], [23, 25, 29, 31, 37, 40, 47, 49, 69, 75, 78, 79, 83, 91, 108, 111, 124, 139, 142, 157, 162, 174, 186, 189, 195, 204, 212, 219, 221, 224, 228, 230, 240, 245, 250, 263, 271, 281, 289, 290, 292, 299, 317, 330, 351, 364, 368, 392, 393, 407, 408, 426, 428, 445, 473, 483, 490, 519, 538, 542, 544, 553, 555, 556, 566, 574, 590, 592, 599, 614, 618, 632, 648, 656, 657, 658, 661, 675, 678, 679, 680, 681, 685, 713, 730, 733, 735, 737, 748, 759, 761, 769, 770, 773, 781, 796, 807, 809, 813, 824, 834, 856, 862, 867, 869, 886, 896, 899, 906, 908, 915, 917, 919, 929, 940, 952, 961, 964, 975, 976, 981, 982, 991, 992, 30, 32, 45, 46, 53, 56, 68, 76, 80, 86, 97, 117, 125, 132, 156, 159, 161, 176, 181, 209, 210, 211, 214, 217, 235, 236, 244, 249, 252, 262, 268, 269, 276, 278, 293, 296, 326, 353, 356, 372, 373, 375, 378, 412, 423, 424, 432, 442, 451, 452, 479, 482, 484, 486, 489, 522, 523, 524, 552, 554, 572, 573, 575, 596, 598, 600, 609, 625, 627, 629, 638, 645, 646, 655, 662, 670, 677, 693, 734, 739, 740, 744, 757, 767, 800, 812, 815, 827, 836, 839, 841, 859, 866, 875, 895, 910, 911, 926, 933, 937, 960, 963, 972, 974, 986, 995, 6, 22, 42, 59, 64, 67, 72, 90, 93, 98, 103, 104, 109, 127, 135, 138, 148, 153, 163, 168, 191, 194, 206, 218, 231, 241, 258, 259, 261, 265, 266, 277, 280, 285, 287, 294, 303, 306, 320, 323, 327, 329, 333, 336, 337, 343, 365, 366, 381, 386, 398, 413, 415, 416, 421, 431, 434, 437, 444, 450, 467, 471, 475, 488, 495, 498, 499, 500, 507, 511, 514, 518, 525, 527, 545, 551, 576, 579, 585, 593, 594, 611, 617, 626, 628, 643, 650, 651, 666, 667, 668, 671, 672, 673, 701, 704, 710, 720, 724, 726, 727, 756, 758, 765, 775, 783, 793, 795, 799, 816, 822, 831, 846, 848, 850, 876, 878, 879, 881, 885, 905, 912, 916, 941, 944, 950, 958, 962, 977, 990, 993, 996, 1, 17, 38, 106, 120, 140, 202, 216, 223, 260, 286, 291, 295, 304, 316, 340, 342, 376, 387, 404, 457, 459, 462, 463, 474, 480, 549, 561, 568, 605, 622, 630, 659, 669, 689, 690, 694, 753, 787, 798, 810, 821, 842, 855, 858, 863, 865, 947, 951, 970, 997, 3, 7, 21, 118, 131, 160, 184, 215, 246, 312, 315, 324, 325, 361, 363, 380, 397, 399, 427, 430, 456, 461, 526, 540, 559, 563, 635, 641, 642, 674, 692, 715, 716, 721, 747, 749, 764, 774, 802, 803, 845, 849, 851, 852, 860, 864, 883, 898, 949, 957, 968, 984, 988, 989, 998, 999, 10, 11, 92, 99, 115, 144, 147, 149, 150, 151, 152, 182, 205, 220, 239, 253, 255, 273, 284, 298, 352, 369, 374, 377, 396, 405, 439, 464, 477, 496, 536, 608, 613, 702, 725, 736, 738, 754, 782, 784, 785, 792, 804, 829, 854, 870, 887, 953, 956, 965, 967, 994, 2, 14, 33, 34, 44, 50, 55, 66, 73, 82, 87, 89, 96, 123, 143, 170, 183, 185, 188, 196, 197, 264, 272, 274, 282, 297, 307, 308, 322, 338, 339, 344, 346, 348, 349, 354, 367, 370, 389, 394, 395, 402, 403, 425, 447, 453, 465, 478, 481, 492, 513, 515, 520, 530, 533, 537, 541, 564, 565, 570, 571, 584, 595, 597, 602, 604, 636, 639, 640, 660, 684, 686, 691, 695, 712, 714, 732, 750, 777, 797, 811, 825, 830, 840, 868, 871, 900, 902, 913, 918, 923, 936, 939, 942, 943, 946, 959, 971, 987, 4, 5, 16, 18, 19, 26, 27, 28, 43, 63, 70, 81, 84, 85, 101, 121, 122, 145, 146, 158, 166, 171, 172, 173, 175, 179, 200, 201, 203, 222, 226, 229, 248, 254, 256, 267, 275, 283, 301, 310, 311, 347, 360, 371, 388, 406, 411, 414, 418, 441, 443, 446, 460, 472, 485, 487, 503, 505, 506, 531, 547, 557, 562, 581, 586, 587, 589, 601, 603, 607, 610, 612, 620, 623, 631, 644, 647, 649, 653, 664, 676, 687, 700, 708, 711, 719, 751, 763, 768, 771, 778, 794, 801, 806, 808, 817, 818, 819, 820, 828, 844, 853, 857, 873, 882, 884, 888, 889, 901, 907, 909, 928, 966, 973, 978, 979, 983, 0, 15, 20, 39, 48, 51, 61, 62, 71, 74, 94, 95, 102, 110, 112, 113, 114, 119, 128, 129, 130, 136, 137, 164, 165, 167, 169, 177, 178, 187, 190, 192, 208, 227, 237, 238, 251, 302, 305, 313, 321, 328, 331, 334, 335, 355, 358, 359, 379, 382, 400, 401, 409, 419, 422, 429, 436, 438, 440, 448, 449, 454, 455, 468, 469, 493, 501, 502, 508, 509, 521, 528, 529, 532, 535, 543, 546, 548, 550, 560, 567, 569, 588, 591, 606, 619, 634, 637, 665, 683, 688, 696, 697, 698, 705, 722, 728, 729, 743, 752, 762, 766, 776, 786, 789, 791, 826, 832, 833, 838, 843, 847, 861, 874, 877, 880, 891, 903, 930, 932, 935, 938, 948, 954, 955, 969, 980, 985, 12, 35, 41, 54, 57, 77, 126, 133, 199, 234, 270, 288, 319, 345, 362, 417, 435, 466, 470, 491, 497, 534, 577, 578, 582, 616, 652, 699, 709, 723, 746, 760, 772, 780, 788, 890, 892, 893, 894, 904, 914, 922, 931, 945, 8, 13, 52, 60, 105, 107, 116, 141, 155, 180, 193, 198, 207, 213, 232, 242, 243, 257, 300, 309, 314, 318, 332, 341, 350, 357, 385, 391, 410, 420, 433, 458, 510, 517, 539, 583, 682, 707, 718, 731, 742, 745, 755, 779, 805, 823, 835, 872, 925, 9, 24, 36, 58, 65, 88, 100, 134, 154, 225, 233, 247, 279, 383, 384, 390, 476, 494, 504, 512, 516, 558, 580, 615, 621, 624, 633, 654, 663, 703, 706, 717, 741, 790, 814, 837, 897, 920, 921, 924, 927, 934]],\n",
              "           names=['states', 'status', 'dates'])"
            ]
          },
          "metadata": {
            "tags": []
          },
          "execution_count": 252
        }
      ]
    },
    {
      "cell_type": "code",
      "metadata": {
        "id": "wUOs16iuibjM",
        "colab_type": "code",
        "outputId": "6c152530-a73c-40b8-e1dc-3a7da31ff5ed",
        "colab": {
          "base_uri": "https://localhost:8080/",
          "height": 34
        }
      },
      "source": [
        "dt.index.levels[0]"
      ],
      "execution_count": 0,
      "outputs": [
        {
          "output_type": "execute_result",
          "data": {
            "text/plain": [
              "Index(['FL', 'GA', 'NY', 'TX'], dtype='object', name='states')"
            ]
          },
          "metadata": {
            "tags": []
          },
          "execution_count": 253
        }
      ]
    },
    {
      "cell_type": "code",
      "metadata": {
        "id": "lb6QPkXaUito",
        "colab_type": "code",
        "outputId": "591fa973-8114-4298-e81a-11267e8e7b1d",
        "colab": {
          "base_uri": "https://localhost:8080/",
          "height": 235
        }
      },
      "source": [
        "df.head()"
      ],
      "execution_count": 0,
      "outputs": [
        {
          "output_type": "execute_result",
          "data": {
            "text/html": [
              "<div>\n",
              "<style scoped>\n",
              "    .dataframe tbody tr th:only-of-type {\n",
              "        vertical-align: middle;\n",
              "    }\n",
              "\n",
              "    .dataframe tbody tr th {\n",
              "        vertical-align: top;\n",
              "    }\n",
              "\n",
              "    .dataframe thead th {\n",
              "        text-align: right;\n",
              "    }\n",
              "</style>\n",
              "<table border=\"1\" class=\"dataframe\">\n",
              "  <thead>\n",
              "    <tr style=\"text-align: right;\">\n",
              "      <th></th>\n",
              "      <th>data</th>\n",
              "      <th>status</th>\n",
              "      <th>states</th>\n",
              "    </tr>\n",
              "    <tr>\n",
              "      <th>dates</th>\n",
              "      <th></th>\n",
              "      <th></th>\n",
              "      <th></th>\n",
              "    </tr>\n",
              "  </thead>\n",
              "  <tbody>\n",
              "    <tr>\n",
              "      <th>1999-11-08</th>\n",
              "      <td>667</td>\n",
              "      <td>3</td>\n",
              "      <td>NY</td>\n",
              "    </tr>\n",
              "    <tr>\n",
              "      <th>1999-11-15</th>\n",
              "      <td>663</td>\n",
              "      <td>1</td>\n",
              "      <td>GA</td>\n",
              "    </tr>\n",
              "    <tr>\n",
              "      <th>1999-11-22</th>\n",
              "      <td>290</td>\n",
              "      <td>1</td>\n",
              "      <td>NY</td>\n",
              "    </tr>\n",
              "    <tr>\n",
              "      <th>1999-11-29</th>\n",
              "      <td>898</td>\n",
              "      <td>2</td>\n",
              "      <td>GA</td>\n",
              "    </tr>\n",
              "    <tr>\n",
              "      <th>1999-12-06</th>\n",
              "      <td>338</td>\n",
              "      <td>2</td>\n",
              "      <td>NY</td>\n",
              "    </tr>\n",
              "  </tbody>\n",
              "</table>\n",
              "</div>"
            ],
            "text/plain": [
              "            data  status states\n",
              "dates                          \n",
              "1999-11-08   667       3     NY\n",
              "1999-11-15   663       1     GA\n",
              "1999-11-22   290       1     NY\n",
              "1999-11-29   898       2     GA\n",
              "1999-12-06   338       2     NY"
            ]
          },
          "metadata": {
            "tags": []
          },
          "execution_count": 258
        }
      ]
    },
    {
      "cell_type": "code",
      "metadata": {
        "id": "RBQ9IpFaUlcW",
        "colab_type": "code",
        "outputId": "9aa2b799-04fe-4797-c841-76cf4bb8e087",
        "colab": {
          "base_uri": "https://localhost:8080/",
          "height": 235
        }
      },
      "source": [
        "df.groupby(['states', 'status']).data.mean().to_frame('data_mean').head()"
      ],
      "execution_count": 0,
      "outputs": [
        {
          "output_type": "execute_result",
          "data": {
            "text/html": [
              "<div>\n",
              "<style scoped>\n",
              "    .dataframe tbody tr th:only-of-type {\n",
              "        vertical-align: middle;\n",
              "    }\n",
              "\n",
              "    .dataframe tbody tr th {\n",
              "        vertical-align: top;\n",
              "    }\n",
              "\n",
              "    .dataframe thead th {\n",
              "        text-align: right;\n",
              "    }\n",
              "</style>\n",
              "<table border=\"1\" class=\"dataframe\">\n",
              "  <thead>\n",
              "    <tr style=\"text-align: right;\">\n",
              "      <th></th>\n",
              "      <th></th>\n",
              "      <th>data_mean</th>\n",
              "    </tr>\n",
              "    <tr>\n",
              "      <th>states</th>\n",
              "      <th>status</th>\n",
              "      <th></th>\n",
              "    </tr>\n",
              "  </thead>\n",
              "  <tbody>\n",
              "    <tr>\n",
              "      <th rowspan=\"3\" valign=\"top\">FL</th>\n",
              "      <th>1</th>\n",
              "      <td>505.540323</td>\n",
              "    </tr>\n",
              "    <tr>\n",
              "      <th>2</th>\n",
              "      <td>511.896226</td>\n",
              "    </tr>\n",
              "    <tr>\n",
              "      <th>3</th>\n",
              "      <td>497.757576</td>\n",
              "    </tr>\n",
              "    <tr>\n",
              "      <th rowspan=\"2\" valign=\"top\">GA</th>\n",
              "      <th>1</th>\n",
              "      <td>513.254902</td>\n",
              "    </tr>\n",
              "    <tr>\n",
              "      <th>2</th>\n",
              "      <td>480.053571</td>\n",
              "    </tr>\n",
              "  </tbody>\n",
              "</table>\n",
              "</div>"
            ],
            "text/plain": [
              "                data_mean\n",
              "states status            \n",
              "FL     1       505.540323\n",
              "       2       511.896226\n",
              "       3       497.757576\n",
              "GA     1       513.254902\n",
              "       2       480.053571"
            ]
          },
          "metadata": {
            "tags": []
          },
          "execution_count": 259
        }
      ]
    },
    {
      "cell_type": "code",
      "metadata": {
        "id": "McgGOahsUDY1",
        "colab_type": "code",
        "outputId": "48f99836-7ee7-4440-c544-f8c18d6b1a86",
        "colab": {
          "base_uri": "https://localhost:8080/",
          "height": 1000
        }
      },
      "source": [
        "pd.merge(\n",
        "    df.reset_index(),\n",
        "    df.groupby(['states', 'status']).data.mean().to_frame('data_mean').reset_index()\n",
        ").sort_values(\n",
        "    'dates'\n",
        ").assign(\n",
        "    deviation=lambda row: row.data - row.data_mean\n",
        ")"
      ],
      "execution_count": 0,
      "outputs": [
        {
          "output_type": "execute_result",
          "data": {
            "text/html": [
              "<div>\n",
              "<style scoped>\n",
              "    .dataframe tbody tr th:only-of-type {\n",
              "        vertical-align: middle;\n",
              "    }\n",
              "\n",
              "    .dataframe tbody tr th {\n",
              "        vertical-align: top;\n",
              "    }\n",
              "\n",
              "    .dataframe thead th {\n",
              "        text-align: right;\n",
              "    }\n",
              "</style>\n",
              "<table border=\"1\" class=\"dataframe\">\n",
              "  <thead>\n",
              "    <tr style=\"text-align: right;\">\n",
              "      <th></th>\n",
              "      <th>dates</th>\n",
              "      <th>data</th>\n",
              "      <th>status</th>\n",
              "      <th>states</th>\n",
              "      <th>data_mean</th>\n",
              "      <th>deviation</th>\n",
              "    </tr>\n",
              "  </thead>\n",
              "  <tbody>\n",
              "    <tr>\n",
              "      <th>0</th>\n",
              "      <td>1999-11-08</td>\n",
              "      <td>667</td>\n",
              "      <td>3</td>\n",
              "      <td>NY</td>\n",
              "      <td>530.476562</td>\n",
              "      <td>136.523438</td>\n",
              "    </tr>\n",
              "    <tr>\n",
              "      <th>128</th>\n",
              "      <td>1999-11-15</td>\n",
              "      <td>663</td>\n",
              "      <td>1</td>\n",
              "      <td>GA</td>\n",
              "      <td>513.254902</td>\n",
              "      <td>149.745098</td>\n",
              "    </tr>\n",
              "    <tr>\n",
              "      <th>179</th>\n",
              "      <td>1999-11-22</td>\n",
              "      <td>290</td>\n",
              "      <td>1</td>\n",
              "      <td>NY</td>\n",
              "      <td>525.929293</td>\n",
              "      <td>-235.929293</td>\n",
              "    </tr>\n",
              "    <tr>\n",
              "      <th>278</th>\n",
              "      <td>1999-11-29</td>\n",
              "      <td>898</td>\n",
              "      <td>2</td>\n",
              "      <td>GA</td>\n",
              "      <td>480.053571</td>\n",
              "      <td>417.946429</td>\n",
              "    </tr>\n",
              "    <tr>\n",
              "      <th>334</th>\n",
              "      <td>1999-12-06</td>\n",
              "      <td>338</td>\n",
              "      <td>2</td>\n",
              "      <td>NY</td>\n",
              "      <td>506.743590</td>\n",
              "      <td>-168.743590</td>\n",
              "    </tr>\n",
              "    <tr>\n",
              "      <th>335</th>\n",
              "      <td>1999-12-13</td>\n",
              "      <td>747</td>\n",
              "      <td>2</td>\n",
              "      <td>NY</td>\n",
              "      <td>506.743590</td>\n",
              "      <td>240.256410</td>\n",
              "    </tr>\n",
              "    <tr>\n",
              "      <th>451</th>\n",
              "      <td>1999-12-20</td>\n",
              "      <td>883</td>\n",
              "      <td>3</td>\n",
              "      <td>FL</td>\n",
              "      <td>497.757576</td>\n",
              "      <td>385.242424</td>\n",
              "    </tr>\n",
              "    <tr>\n",
              "      <th>279</th>\n",
              "      <td>1999-12-27</td>\n",
              "      <td>410</td>\n",
              "      <td>2</td>\n",
              "      <td>GA</td>\n",
              "      <td>480.053571</td>\n",
              "      <td>-70.053571</td>\n",
              "    </tr>\n",
              "    <tr>\n",
              "      <th>583</th>\n",
              "      <td>2000-01-03</td>\n",
              "      <td>590</td>\n",
              "      <td>2</td>\n",
              "      <td>TX</td>\n",
              "      <td>507.469388</td>\n",
              "      <td>82.530612</td>\n",
              "    </tr>\n",
              "    <tr>\n",
              "      <th>632</th>\n",
              "      <td>2000-01-10</td>\n",
              "      <td>233</td>\n",
              "      <td>3</td>\n",
              "      <td>TX</td>\n",
              "      <td>532.833333</td>\n",
              "      <td>-299.833333</td>\n",
              "    </tr>\n",
              "    <tr>\n",
              "      <th>674</th>\n",
              "      <td>2000-01-17</td>\n",
              "      <td>694</td>\n",
              "      <td>3</td>\n",
              "      <td>GA</td>\n",
              "      <td>588.115385</td>\n",
              "      <td>105.884615</td>\n",
              "    </tr>\n",
              "    <tr>\n",
              "      <th>675</th>\n",
              "      <td>2000-01-24</td>\n",
              "      <td>994</td>\n",
              "      <td>3</td>\n",
              "      <td>GA</td>\n",
              "      <td>588.115385</td>\n",
              "      <td>405.884615</td>\n",
              "    </tr>\n",
              "    <tr>\n",
              "      <th>726</th>\n",
              "      <td>2000-01-31</td>\n",
              "      <td>472</td>\n",
              "      <td>1</td>\n",
              "      <td>TX</td>\n",
              "      <td>553.204545</td>\n",
              "      <td>-81.204545</td>\n",
              "    </tr>\n",
              "    <tr>\n",
              "      <th>584</th>\n",
              "      <td>2000-02-07</td>\n",
              "      <td>828</td>\n",
              "      <td>2</td>\n",
              "      <td>TX</td>\n",
              "      <td>507.469388</td>\n",
              "      <td>320.530612</td>\n",
              "    </tr>\n",
              "    <tr>\n",
              "      <th>180</th>\n",
              "      <td>2000-02-14</td>\n",
              "      <td>213</td>\n",
              "      <td>1</td>\n",
              "      <td>NY</td>\n",
              "      <td>525.929293</td>\n",
              "      <td>-312.929293</td>\n",
              "    </tr>\n",
              "    <tr>\n",
              "      <th>1</th>\n",
              "      <td>2000-02-21</td>\n",
              "      <td>944</td>\n",
              "      <td>3</td>\n",
              "      <td>NY</td>\n",
              "      <td>530.476562</td>\n",
              "      <td>413.523438</td>\n",
              "    </tr>\n",
              "    <tr>\n",
              "      <th>336</th>\n",
              "      <td>2000-02-28</td>\n",
              "      <td>933</td>\n",
              "      <td>2</td>\n",
              "      <td>NY</td>\n",
              "      <td>506.743590</td>\n",
              "      <td>426.256410</td>\n",
              "    </tr>\n",
              "    <tr>\n",
              "      <th>129</th>\n",
              "      <td>2000-03-06</td>\n",
              "      <td>486</td>\n",
              "      <td>1</td>\n",
              "      <td>GA</td>\n",
              "      <td>513.254902</td>\n",
              "      <td>-27.254902</td>\n",
              "    </tr>\n",
              "    <tr>\n",
              "      <th>337</th>\n",
              "      <td>2000-03-13</td>\n",
              "      <td>825</td>\n",
              "      <td>2</td>\n",
              "      <td>NY</td>\n",
              "      <td>506.743590</td>\n",
              "      <td>318.256410</td>\n",
              "    </tr>\n",
              "    <tr>\n",
              "      <th>338</th>\n",
              "      <td>2000-03-20</td>\n",
              "      <td>301</td>\n",
              "      <td>2</td>\n",
              "      <td>NY</td>\n",
              "      <td>506.743590</td>\n",
              "      <td>-205.743590</td>\n",
              "    </tr>\n",
              "    <tr>\n",
              "      <th>2</th>\n",
              "      <td>2000-03-27</td>\n",
              "      <td>392</td>\n",
              "      <td>3</td>\n",
              "      <td>NY</td>\n",
              "      <td>530.476562</td>\n",
              "      <td>-138.476562</td>\n",
              "    </tr>\n",
              "    <tr>\n",
              "      <th>280</th>\n",
              "      <td>2000-04-03</td>\n",
              "      <td>82</td>\n",
              "      <td>2</td>\n",
              "      <td>GA</td>\n",
              "      <td>480.053571</td>\n",
              "      <td>-398.053571</td>\n",
              "    </tr>\n",
              "    <tr>\n",
              "      <th>452</th>\n",
              "      <td>2000-04-10</td>\n",
              "      <td>170</td>\n",
              "      <td>3</td>\n",
              "      <td>FL</td>\n",
              "      <td>497.757576</td>\n",
              "      <td>-327.757576</td>\n",
              "    </tr>\n",
              "    <tr>\n",
              "      <th>770</th>\n",
              "      <td>2000-04-17</td>\n",
              "      <td>454</td>\n",
              "      <td>1</td>\n",
              "      <td>FL</td>\n",
              "      <td>505.540323</td>\n",
              "      <td>-51.540323</td>\n",
              "    </tr>\n",
              "    <tr>\n",
              "      <th>633</th>\n",
              "      <td>2000-04-24</td>\n",
              "      <td>619</td>\n",
              "      <td>3</td>\n",
              "      <td>TX</td>\n",
              "      <td>532.833333</td>\n",
              "      <td>86.166667</td>\n",
              "    </tr>\n",
              "    <tr>\n",
              "      <th>771</th>\n",
              "      <td>2000-05-01</td>\n",
              "      <td>183</td>\n",
              "      <td>1</td>\n",
              "      <td>FL</td>\n",
              "      <td>505.540323</td>\n",
              "      <td>-322.540323</td>\n",
              "    </tr>\n",
              "    <tr>\n",
              "      <th>339</th>\n",
              "      <td>2000-05-08</td>\n",
              "      <td>414</td>\n",
              "      <td>2</td>\n",
              "      <td>NY</td>\n",
              "      <td>506.743590</td>\n",
              "      <td>-92.743590</td>\n",
              "    </tr>\n",
              "    <tr>\n",
              "      <th>340</th>\n",
              "      <td>2000-05-15</td>\n",
              "      <td>698</td>\n",
              "      <td>2</td>\n",
              "      <td>NY</td>\n",
              "      <td>506.743590</td>\n",
              "      <td>191.256410</td>\n",
              "    </tr>\n",
              "    <tr>\n",
              "      <th>341</th>\n",
              "      <td>2000-05-22</td>\n",
              "      <td>916</td>\n",
              "      <td>2</td>\n",
              "      <td>NY</td>\n",
              "      <td>506.743590</td>\n",
              "      <td>409.256410</td>\n",
              "    </tr>\n",
              "    <tr>\n",
              "      <th>772</th>\n",
              "      <td>2000-05-29</td>\n",
              "      <td>353</td>\n",
              "      <td>1</td>\n",
              "      <td>FL</td>\n",
              "      <td>505.540323</td>\n",
              "      <td>-152.540323</td>\n",
              "    </tr>\n",
              "    <tr>\n",
              "      <th>...</th>\n",
              "      <td>...</td>\n",
              "      <td>...</td>\n",
              "      <td>...</td>\n",
              "      <td>...</td>\n",
              "      <td>...</td>\n",
              "      <td>...</td>\n",
              "    </tr>\n",
              "    <tr>\n",
              "      <th>177</th>\n",
              "      <td>2018-06-11</td>\n",
              "      <td>912</td>\n",
              "      <td>1</td>\n",
              "      <td>GA</td>\n",
              "      <td>513.254902</td>\n",
              "      <td>398.745098</td>\n",
              "    </tr>\n",
              "    <tr>\n",
              "      <th>276</th>\n",
              "      <td>2018-06-18</td>\n",
              "      <td>882</td>\n",
              "      <td>1</td>\n",
              "      <td>NY</td>\n",
              "      <td>525.929293</td>\n",
              "      <td>356.070707</td>\n",
              "    </tr>\n",
              "    <tr>\n",
              "      <th>996</th>\n",
              "      <td>2018-06-25</td>\n",
              "      <td>477</td>\n",
              "      <td>2</td>\n",
              "      <td>FL</td>\n",
              "      <td>511.896226</td>\n",
              "      <td>-34.896226</td>\n",
              "    </tr>\n",
              "    <tr>\n",
              "      <th>447</th>\n",
              "      <td>2018-07-02</td>\n",
              "      <td>734</td>\n",
              "      <td>2</td>\n",
              "      <td>NY</td>\n",
              "      <td>506.743590</td>\n",
              "      <td>227.256410</td>\n",
              "    </tr>\n",
              "    <tr>\n",
              "      <th>997</th>\n",
              "      <td>2018-07-09</td>\n",
              "      <td>995</td>\n",
              "      <td>2</td>\n",
              "      <td>FL</td>\n",
              "      <td>511.896226</td>\n",
              "      <td>483.103774</td>\n",
              "    </tr>\n",
              "    <tr>\n",
              "      <th>888</th>\n",
              "      <td>2018-07-16</td>\n",
              "      <td>441</td>\n",
              "      <td>1</td>\n",
              "      <td>FL</td>\n",
              "      <td>505.540323</td>\n",
              "      <td>-64.540323</td>\n",
              "    </tr>\n",
              "    <tr>\n",
              "      <th>889</th>\n",
              "      <td>2018-07-23</td>\n",
              "      <td>53</td>\n",
              "      <td>1</td>\n",
              "      <td>FL</td>\n",
              "      <td>505.540323</td>\n",
              "      <td>-452.540323</td>\n",
              "    </tr>\n",
              "    <tr>\n",
              "      <th>579</th>\n",
              "      <td>2018-07-30</td>\n",
              "      <td>182</td>\n",
              "      <td>3</td>\n",
              "      <td>FL</td>\n",
              "      <td>497.757576</td>\n",
              "      <td>-315.757576</td>\n",
              "    </tr>\n",
              "    <tr>\n",
              "      <th>448</th>\n",
              "      <td>2018-08-06</td>\n",
              "      <td>71</td>\n",
              "      <td>2</td>\n",
              "      <td>NY</td>\n",
              "      <td>506.743590</td>\n",
              "      <td>-435.743590</td>\n",
              "    </tr>\n",
              "    <tr>\n",
              "      <th>449</th>\n",
              "      <td>2018-08-13</td>\n",
              "      <td>909</td>\n",
              "      <td>2</td>\n",
              "      <td>NY</td>\n",
              "      <td>506.743590</td>\n",
              "      <td>402.256410</td>\n",
              "    </tr>\n",
              "    <tr>\n",
              "      <th>126</th>\n",
              "      <td>2018-08-20</td>\n",
              "      <td>382</td>\n",
              "      <td>3</td>\n",
              "      <td>NY</td>\n",
              "      <td>530.476562</td>\n",
              "      <td>-148.476562</td>\n",
              "    </tr>\n",
              "    <tr>\n",
              "      <th>890</th>\n",
              "      <td>2018-08-27</td>\n",
              "      <td>579</td>\n",
              "      <td>1</td>\n",
              "      <td>FL</td>\n",
              "      <td>505.540323</td>\n",
              "      <td>73.459677</td>\n",
              "    </tr>\n",
              "    <tr>\n",
              "      <th>891</th>\n",
              "      <td>2018-09-03</td>\n",
              "      <td>748</td>\n",
              "      <td>1</td>\n",
              "      <td>FL</td>\n",
              "      <td>505.540323</td>\n",
              "      <td>242.459677</td>\n",
              "    </tr>\n",
              "    <tr>\n",
              "      <th>450</th>\n",
              "      <td>2018-09-10</td>\n",
              "      <td>191</td>\n",
              "      <td>2</td>\n",
              "      <td>NY</td>\n",
              "      <td>506.743590</td>\n",
              "      <td>-315.743590</td>\n",
              "    </tr>\n",
              "    <tr>\n",
              "      <th>329</th>\n",
              "      <td>2018-09-17</td>\n",
              "      <td>702</td>\n",
              "      <td>2</td>\n",
              "      <td>GA</td>\n",
              "      <td>480.053571</td>\n",
              "      <td>221.946429</td>\n",
              "    </tr>\n",
              "    <tr>\n",
              "      <th>127</th>\n",
              "      <td>2018-09-24</td>\n",
              "      <td>464</td>\n",
              "      <td>3</td>\n",
              "      <td>NY</td>\n",
              "      <td>530.476562</td>\n",
              "      <td>-66.476562</td>\n",
              "    </tr>\n",
              "    <tr>\n",
              "      <th>998</th>\n",
              "      <td>2018-10-01</td>\n",
              "      <td>748</td>\n",
              "      <td>2</td>\n",
              "      <td>FL</td>\n",
              "      <td>511.896226</td>\n",
              "      <td>236.103774</td>\n",
              "    </tr>\n",
              "    <tr>\n",
              "      <th>277</th>\n",
              "      <td>2018-10-08</td>\n",
              "      <td>501</td>\n",
              "      <td>1</td>\n",
              "      <td>NY</td>\n",
              "      <td>525.929293</td>\n",
              "      <td>-24.929293</td>\n",
              "    </tr>\n",
              "    <tr>\n",
              "      <th>330</th>\n",
              "      <td>2018-10-15</td>\n",
              "      <td>596</td>\n",
              "      <td>2</td>\n",
              "      <td>GA</td>\n",
              "      <td>480.053571</td>\n",
              "      <td>115.946429</td>\n",
              "    </tr>\n",
              "    <tr>\n",
              "      <th>331</th>\n",
              "      <td>2018-10-22</td>\n",
              "      <td>984</td>\n",
              "      <td>2</td>\n",
              "      <td>GA</td>\n",
              "      <td>480.053571</td>\n",
              "      <td>503.946429</td>\n",
              "    </tr>\n",
              "    <tr>\n",
              "      <th>580</th>\n",
              "      <td>2018-10-29</td>\n",
              "      <td>50</td>\n",
              "      <td>3</td>\n",
              "      <td>FL</td>\n",
              "      <td>497.757576</td>\n",
              "      <td>-447.757576</td>\n",
              "    </tr>\n",
              "    <tr>\n",
              "      <th>892</th>\n",
              "      <td>2018-11-05</td>\n",
              "      <td>380</td>\n",
              "      <td>1</td>\n",
              "      <td>FL</td>\n",
              "      <td>505.540323</td>\n",
              "      <td>-125.540323</td>\n",
              "    </tr>\n",
              "    <tr>\n",
              "      <th>893</th>\n",
              "      <td>2018-11-12</td>\n",
              "      <td>892</td>\n",
              "      <td>1</td>\n",
              "      <td>FL</td>\n",
              "      <td>505.540323</td>\n",
              "      <td>386.459677</td>\n",
              "    </tr>\n",
              "    <tr>\n",
              "      <th>581</th>\n",
              "      <td>2018-11-19</td>\n",
              "      <td>310</td>\n",
              "      <td>3</td>\n",
              "      <td>FL</td>\n",
              "      <td>497.757576</td>\n",
              "      <td>-187.757576</td>\n",
              "    </tr>\n",
              "    <tr>\n",
              "      <th>725</th>\n",
              "      <td>2018-11-26</td>\n",
              "      <td>700</td>\n",
              "      <td>3</td>\n",
              "      <td>GA</td>\n",
              "      <td>588.115385</td>\n",
              "      <td>111.884615</td>\n",
              "    </tr>\n",
              "    <tr>\n",
              "      <th>999</th>\n",
              "      <td>2018-12-03</td>\n",
              "      <td>981</td>\n",
              "      <td>2</td>\n",
              "      <td>FL</td>\n",
              "      <td>511.896226</td>\n",
              "      <td>469.103774</td>\n",
              "    </tr>\n",
              "    <tr>\n",
              "      <th>582</th>\n",
              "      <td>2018-12-10</td>\n",
              "      <td>864</td>\n",
              "      <td>3</td>\n",
              "      <td>FL</td>\n",
              "      <td>497.757576</td>\n",
              "      <td>366.242424</td>\n",
              "    </tr>\n",
              "    <tr>\n",
              "      <th>178</th>\n",
              "      <td>2018-12-17</td>\n",
              "      <td>627</td>\n",
              "      <td>1</td>\n",
              "      <td>GA</td>\n",
              "      <td>513.254902</td>\n",
              "      <td>113.745098</td>\n",
              "    </tr>\n",
              "    <tr>\n",
              "      <th>332</th>\n",
              "      <td>2018-12-24</td>\n",
              "      <td>635</td>\n",
              "      <td>2</td>\n",
              "      <td>GA</td>\n",
              "      <td>480.053571</td>\n",
              "      <td>154.946429</td>\n",
              "    </tr>\n",
              "    <tr>\n",
              "      <th>333</th>\n",
              "      <td>2018-12-31</td>\n",
              "      <td>629</td>\n",
              "      <td>2</td>\n",
              "      <td>GA</td>\n",
              "      <td>480.053571</td>\n",
              "      <td>148.946429</td>\n",
              "    </tr>\n",
              "  </tbody>\n",
              "</table>\n",
              "<p>1000 rows × 6 columns</p>\n",
              "</div>"
            ],
            "text/plain": [
              "         dates  data  status states   data_mean   deviation\n",
              "0   1999-11-08   667       3     NY  530.476562  136.523438\n",
              "128 1999-11-15   663       1     GA  513.254902  149.745098\n",
              "179 1999-11-22   290       1     NY  525.929293 -235.929293\n",
              "278 1999-11-29   898       2     GA  480.053571  417.946429\n",
              "334 1999-12-06   338       2     NY  506.743590 -168.743590\n",
              "335 1999-12-13   747       2     NY  506.743590  240.256410\n",
              "451 1999-12-20   883       3     FL  497.757576  385.242424\n",
              "279 1999-12-27   410       2     GA  480.053571  -70.053571\n",
              "583 2000-01-03   590       2     TX  507.469388   82.530612\n",
              "632 2000-01-10   233       3     TX  532.833333 -299.833333\n",
              "674 2000-01-17   694       3     GA  588.115385  105.884615\n",
              "675 2000-01-24   994       3     GA  588.115385  405.884615\n",
              "726 2000-01-31   472       1     TX  553.204545  -81.204545\n",
              "584 2000-02-07   828       2     TX  507.469388  320.530612\n",
              "180 2000-02-14   213       1     NY  525.929293 -312.929293\n",
              "1   2000-02-21   944       3     NY  530.476562  413.523438\n",
              "336 2000-02-28   933       2     NY  506.743590  426.256410\n",
              "129 2000-03-06   486       1     GA  513.254902  -27.254902\n",
              "337 2000-03-13   825       2     NY  506.743590  318.256410\n",
              "338 2000-03-20   301       2     NY  506.743590 -205.743590\n",
              "2   2000-03-27   392       3     NY  530.476562 -138.476562\n",
              "280 2000-04-03    82       2     GA  480.053571 -398.053571\n",
              "452 2000-04-10   170       3     FL  497.757576 -327.757576\n",
              "770 2000-04-17   454       1     FL  505.540323  -51.540323\n",
              "633 2000-04-24   619       3     TX  532.833333   86.166667\n",
              "771 2000-05-01   183       1     FL  505.540323 -322.540323\n",
              "339 2000-05-08   414       2     NY  506.743590  -92.743590\n",
              "340 2000-05-15   698       2     NY  506.743590  191.256410\n",
              "341 2000-05-22   916       2     NY  506.743590  409.256410\n",
              "772 2000-05-29   353       1     FL  505.540323 -152.540323\n",
              "..         ...   ...     ...    ...         ...         ...\n",
              "177 2018-06-11   912       1     GA  513.254902  398.745098\n",
              "276 2018-06-18   882       1     NY  525.929293  356.070707\n",
              "996 2018-06-25   477       2     FL  511.896226  -34.896226\n",
              "447 2018-07-02   734       2     NY  506.743590  227.256410\n",
              "997 2018-07-09   995       2     FL  511.896226  483.103774\n",
              "888 2018-07-16   441       1     FL  505.540323  -64.540323\n",
              "889 2018-07-23    53       1     FL  505.540323 -452.540323\n",
              "579 2018-07-30   182       3     FL  497.757576 -315.757576\n",
              "448 2018-08-06    71       2     NY  506.743590 -435.743590\n",
              "449 2018-08-13   909       2     NY  506.743590  402.256410\n",
              "126 2018-08-20   382       3     NY  530.476562 -148.476562\n",
              "890 2018-08-27   579       1     FL  505.540323   73.459677\n",
              "891 2018-09-03   748       1     FL  505.540323  242.459677\n",
              "450 2018-09-10   191       2     NY  506.743590 -315.743590\n",
              "329 2018-09-17   702       2     GA  480.053571  221.946429\n",
              "127 2018-09-24   464       3     NY  530.476562  -66.476562\n",
              "998 2018-10-01   748       2     FL  511.896226  236.103774\n",
              "277 2018-10-08   501       1     NY  525.929293  -24.929293\n",
              "330 2018-10-15   596       2     GA  480.053571  115.946429\n",
              "331 2018-10-22   984       2     GA  480.053571  503.946429\n",
              "580 2018-10-29    50       3     FL  497.757576 -447.757576\n",
              "892 2018-11-05   380       1     FL  505.540323 -125.540323\n",
              "893 2018-11-12   892       1     FL  505.540323  386.459677\n",
              "581 2018-11-19   310       3     FL  497.757576 -187.757576\n",
              "725 2018-11-26   700       3     GA  588.115385  111.884615\n",
              "999 2018-12-03   981       2     FL  511.896226  469.103774\n",
              "582 2018-12-10   864       3     FL  497.757576  366.242424\n",
              "178 2018-12-17   627       1     GA  513.254902  113.745098\n",
              "332 2018-12-24   635       2     GA  480.053571  154.946429\n",
              "333 2018-12-31   629       2     GA  480.053571  148.946429\n",
              "\n",
              "[1000 rows x 6 columns]"
            ]
          },
          "metadata": {
            "tags": []
          },
          "execution_count": 262
        }
      ]
    },
    {
      "cell_type": "code",
      "metadata": {
        "id": "iutQNIx8itDw",
        "colab_type": "code",
        "outputId": "b7e59ba9-fd9f-4111-9ff9-9730592e32c2",
        "colab": {
          "base_uri": "https://localhost:8080/"
        }
      },
      "source": [
        "dt.loc['FL',1]"
      ],
      "execution_count": 0,
      "outputs": [
        {
          "output_type": "execute_result",
          "data": {
            "text/html": [
              "<div>\n",
              "<style scoped>\n",
              "    .dataframe tbody tr th:only-of-type {\n",
              "        vertical-align: middle;\n",
              "    }\n",
              "\n",
              "    .dataframe tbody tr th {\n",
              "        vertical-align: top;\n",
              "    }\n",
              "\n",
              "    .dataframe thead th {\n",
              "        text-align: right;\n",
              "    }\n",
              "</style>\n",
              "<table border=\"1\" class=\"dataframe\">\n",
              "  <thead>\n",
              "    <tr style=\"text-align: right;\">\n",
              "      <th></th>\n",
              "      <th>data</th>\n",
              "    </tr>\n",
              "    <tr>\n",
              "      <th>dates</th>\n",
              "      <th></th>\n",
              "    </tr>\n",
              "  </thead>\n",
              "  <tbody>\n",
              "    <tr>\n",
              "      <th>2000-04-17</th>\n",
              "      <td>454</td>\n",
              "    </tr>\n",
              "    <tr>\n",
              "      <th>2000-05-01</th>\n",
              "      <td>183</td>\n",
              "    </tr>\n",
              "    <tr>\n",
              "      <th>2000-05-29</th>\n",
              "      <td>353</td>\n",
              "    </tr>\n",
              "    <tr>\n",
              "      <th>2000-06-12</th>\n",
              "      <td>364</td>\n",
              "    </tr>\n",
              "    <tr>\n",
              "      <th>2000-07-24</th>\n",
              "      <td>927</td>\n",
              "    </tr>\n",
              "    <tr>\n",
              "      <th>2000-08-14</th>\n",
              "      <td>253</td>\n",
              "    </tr>\n",
              "    <tr>\n",
              "      <th>2000-10-02</th>\n",
              "      <td>88</td>\n",
              "    </tr>\n",
              "    <tr>\n",
              "      <th>2000-10-16</th>\n",
              "      <td>766</td>\n",
              "    </tr>\n",
              "    <tr>\n",
              "      <th>2001-03-05</th>\n",
              "      <td>283</td>\n",
              "    </tr>\n",
              "    <tr>\n",
              "      <th>2001-04-16</th>\n",
              "      <td>72</td>\n",
              "    </tr>\n",
              "    <tr>\n",
              "      <th>2001-05-07</th>\n",
              "      <td>778</td>\n",
              "    </tr>\n",
              "    <tr>\n",
              "      <th>2001-05-14</th>\n",
              "      <td>658</td>\n",
              "    </tr>\n",
              "    <tr>\n",
              "      <th>2001-06-11</th>\n",
              "      <td>312</td>\n",
              "    </tr>\n",
              "    <tr>\n",
              "      <th>2001-08-06</th>\n",
              "      <td>901</td>\n",
              "    </tr>\n",
              "    <tr>\n",
              "      <th>2001-12-03</th>\n",
              "      <td>165</td>\n",
              "    </tr>\n",
              "    <tr>\n",
              "      <th>2001-12-24</th>\n",
              "      <td>189</td>\n",
              "    </tr>\n",
              "    <tr>\n",
              "      <th>2002-03-25</th>\n",
              "      <td>294</td>\n",
              "    </tr>\n",
              "    <tr>\n",
              "      <th>2002-07-08</th>\n",
              "      <td>154</td>\n",
              "    </tr>\n",
              "    <tr>\n",
              "      <th>2002-07-29</th>\n",
              "      <td>300</td>\n",
              "    </tr>\n",
              "    <tr>\n",
              "      <th>2002-11-11</th>\n",
              "      <td>57</td>\n",
              "    </tr>\n",
              "    <tr>\n",
              "      <th>2002-12-16</th>\n",
              "      <td>613</td>\n",
              "    </tr>\n",
              "    <tr>\n",
              "      <th>2003-03-10</th>\n",
              "      <td>771</td>\n",
              "    </tr>\n",
              "    <tr>\n",
              "      <th>2003-06-02</th>\n",
              "      <td>707</td>\n",
              "    </tr>\n",
              "    <tr>\n",
              "      <th>2003-06-23</th>\n",
              "      <td>856</td>\n",
              "    </tr>\n",
              "    <tr>\n",
              "      <th>2003-08-04</th>\n",
              "      <td>334</td>\n",
              "    </tr>\n",
              "    <tr>\n",
              "      <th>2003-10-06</th>\n",
              "      <td>606</td>\n",
              "    </tr>\n",
              "    <tr>\n",
              "      <th>2003-12-01</th>\n",
              "      <td>230</td>\n",
              "    </tr>\n",
              "    <tr>\n",
              "      <th>2004-01-19</th>\n",
              "      <td>33</td>\n",
              "    </tr>\n",
              "    <tr>\n",
              "      <th>2004-02-02</th>\n",
              "      <td>768</td>\n",
              "    </tr>\n",
              "    <tr>\n",
              "      <th>2004-02-23</th>\n",
              "      <td>192</td>\n",
              "    </tr>\n",
              "    <tr>\n",
              "      <th>...</th>\n",
              "      <td>...</td>\n",
              "    </tr>\n",
              "    <tr>\n",
              "      <th>2014-10-27</th>\n",
              "      <td>394</td>\n",
              "    </tr>\n",
              "    <tr>\n",
              "      <th>2015-02-09</th>\n",
              "      <td>653</td>\n",
              "    </tr>\n",
              "    <tr>\n",
              "      <th>2015-04-27</th>\n",
              "      <td>621</td>\n",
              "    </tr>\n",
              "    <tr>\n",
              "      <th>2015-05-11</th>\n",
              "      <td>346</td>\n",
              "    </tr>\n",
              "    <tr>\n",
              "      <th>2015-06-08</th>\n",
              "      <td>807</td>\n",
              "    </tr>\n",
              "    <tr>\n",
              "      <th>2015-08-24</th>\n",
              "      <td>143</td>\n",
              "    </tr>\n",
              "    <tr>\n",
              "      <th>2015-11-02</th>\n",
              "      <td>319</td>\n",
              "    </tr>\n",
              "    <tr>\n",
              "      <th>2016-04-04</th>\n",
              "      <td>965</td>\n",
              "    </tr>\n",
              "    <tr>\n",
              "      <th>2016-05-16</th>\n",
              "      <td>52</td>\n",
              "    </tr>\n",
              "    <tr>\n",
              "      <th>2016-06-20</th>\n",
              "      <td>237</td>\n",
              "    </tr>\n",
              "    <tr>\n",
              "      <th>2016-07-04</th>\n",
              "      <td>26</td>\n",
              "    </tr>\n",
              "    <tr>\n",
              "      <th>2016-10-31</th>\n",
              "      <td>801</td>\n",
              "    </tr>\n",
              "    <tr>\n",
              "      <th>2017-01-09</th>\n",
              "      <td>566</td>\n",
              "    </tr>\n",
              "    <tr>\n",
              "      <th>2017-01-30</th>\n",
              "      <td>525</td>\n",
              "    </tr>\n",
              "    <tr>\n",
              "      <th>2017-03-20</th>\n",
              "      <td>493</td>\n",
              "    </tr>\n",
              "    <tr>\n",
              "      <th>2017-04-03</th>\n",
              "      <td>669</td>\n",
              "    </tr>\n",
              "    <tr>\n",
              "      <th>2017-05-22</th>\n",
              "      <td>498</td>\n",
              "    </tr>\n",
              "    <tr>\n",
              "      <th>2017-06-05</th>\n",
              "      <td>965</td>\n",
              "    </tr>\n",
              "    <tr>\n",
              "      <th>2017-06-19</th>\n",
              "      <td>551</td>\n",
              "    </tr>\n",
              "    <tr>\n",
              "      <th>2017-08-28</th>\n",
              "      <td>127</td>\n",
              "    </tr>\n",
              "    <tr>\n",
              "      <th>2017-11-13</th>\n",
              "      <td>784</td>\n",
              "    </tr>\n",
              "    <tr>\n",
              "      <th>2018-02-05</th>\n",
              "      <td>955</td>\n",
              "    </tr>\n",
              "    <tr>\n",
              "      <th>2018-04-09</th>\n",
              "      <td>88</td>\n",
              "    </tr>\n",
              "    <tr>\n",
              "      <th>2018-04-30</th>\n",
              "      <td>181</td>\n",
              "    </tr>\n",
              "    <tr>\n",
              "      <th>2018-07-16</th>\n",
              "      <td>441</td>\n",
              "    </tr>\n",
              "    <tr>\n",
              "      <th>2018-07-23</th>\n",
              "      <td>53</td>\n",
              "    </tr>\n",
              "    <tr>\n",
              "      <th>2018-08-27</th>\n",
              "      <td>579</td>\n",
              "    </tr>\n",
              "    <tr>\n",
              "      <th>2018-09-03</th>\n",
              "      <td>748</td>\n",
              "    </tr>\n",
              "    <tr>\n",
              "      <th>2018-11-05</th>\n",
              "      <td>380</td>\n",
              "    </tr>\n",
              "    <tr>\n",
              "      <th>2018-11-12</th>\n",
              "      <td>892</td>\n",
              "    </tr>\n",
              "  </tbody>\n",
              "</table>\n",
              "<p>124 rows × 1 columns</p>\n",
              "</div>"
            ],
            "text/plain": [
              "            data\n",
              "dates           \n",
              "2000-04-17   454\n",
              "2000-05-01   183\n",
              "2000-05-29   353\n",
              "2000-06-12   364\n",
              "2000-07-24   927\n",
              "2000-08-14   253\n",
              "2000-10-02    88\n",
              "2000-10-16   766\n",
              "2001-03-05   283\n",
              "2001-04-16    72\n",
              "2001-05-07   778\n",
              "2001-05-14   658\n",
              "2001-06-11   312\n",
              "2001-08-06   901\n",
              "2001-12-03   165\n",
              "2001-12-24   189\n",
              "2002-03-25   294\n",
              "2002-07-08   154\n",
              "2002-07-29   300\n",
              "2002-11-11    57\n",
              "2002-12-16   613\n",
              "2003-03-10   771\n",
              "2003-06-02   707\n",
              "2003-06-23   856\n",
              "2003-08-04   334\n",
              "2003-10-06   606\n",
              "2003-12-01   230\n",
              "2004-01-19    33\n",
              "2004-02-02   768\n",
              "2004-02-23   192\n",
              "...          ...\n",
              "2014-10-27   394\n",
              "2015-02-09   653\n",
              "2015-04-27   621\n",
              "2015-05-11   346\n",
              "2015-06-08   807\n",
              "2015-08-24   143\n",
              "2015-11-02   319\n",
              "2016-04-04   965\n",
              "2016-05-16    52\n",
              "2016-06-20   237\n",
              "2016-07-04    26\n",
              "2016-10-31   801\n",
              "2017-01-09   566\n",
              "2017-01-30   525\n",
              "2017-03-20   493\n",
              "2017-04-03   669\n",
              "2017-05-22   498\n",
              "2017-06-05   965\n",
              "2017-06-19   551\n",
              "2017-08-28   127\n",
              "2017-11-13   784\n",
              "2018-02-05   955\n",
              "2018-04-09    88\n",
              "2018-04-30   181\n",
              "2018-07-16   441\n",
              "2018-07-23    53\n",
              "2018-08-27   579\n",
              "2018-09-03   748\n",
              "2018-11-05   380\n",
              "2018-11-12   892\n",
              "\n",
              "[124 rows x 1 columns]"
            ]
          },
          "metadata": {
            "tags": []
          },
          "execution_count": 263
        }
      ]
    },
    {
      "cell_type": "code",
      "metadata": {
        "id": "GtpwIzvgi0tE",
        "colab_type": "code",
        "colab": {}
      },
      "source": [
        "for state in dt.index.levels[0]:\n",
        "  for status in dt.index.levels[1]:\n",
        "    dt.loc[state, status].plot(figsize=(20, 5))\n",
        "    print(state, status)\n",
        "plt.show()"
      ],
      "execution_count": 0,
      "outputs": []
    },
    {
      "cell_type": "code",
      "metadata": {
        "id": "DAO4xQNQjHqp",
        "colab_type": "code",
        "colab": {}
      },
      "source": [
        "dt.loc['FL', 1]['2012-06':].plot()"
      ],
      "execution_count": 0,
      "outputs": []
    },
    {
      "cell_type": "code",
      "metadata": {
        "id": "abu33lG4jtFq",
        "colab_type": "code",
        "colab": {}
      },
      "source": [
        "sym = dt.groupby([dt.index.levels[0], dt.index.levels[2].year, dt.index.levels[2].month])\n",
        "dt['Lower'] = sym['data'].transform( lambda x: x.quantile(q=.25) - (1.5*x.quantile(q=.75)-x.quantile(q=.25)) )\n",
        "dt['Upper'] = sym['data'].transform( lambda x: x.quantile(q=.75) + (1.5*x.quantile(q=.75)-x.quantile(q=.25)) )\n",
        "dt['Outlier'] = (dt['data'] < dt['Lower']) | (dt['data'] > dt['Upper']) \n",
        "\n",
        "dt = dt[dt['Outlier'] == False]"
      ],
      "execution_count": 0,
      "outputs": []
    },
    {
      "cell_type": "code",
      "metadata": {
        "id": "3S3izkDGkvNA",
        "colab_type": "code",
        "colab": {}
      },
      "source": [
        "sym = dt.groupby([dt.index.get_level_values(0), dt.index.get_level_values(2).year, dt.index.get_level_values(2).month])\n",
        "dt['Lower'] = sym['data'].transform( lambda x: x.quantile(q=.25) - (1.5*x.quantile(q=.75)-x.quantile(q=.25)) )\n",
        "dt['Upper'] = sym['data'].transform( lambda x: x.quantile(q=.75) + (1.5*x.quantile(q=.75)-x.quantile(q=.25)) )\n",
        "dt['Outlier'] = (dt['data'] < dt['Lower']) | (dt['data'] > dt['Upper']) \n",
        "\n",
        "dt = dt[dt['Outlier'] == False]"
      ],
      "execution_count": 0,
      "outputs": []
    },
    {
      "cell_type": "code",
      "metadata": {
        "id": "Itpy-ffpv8Dj",
        "colab_type": "code",
        "colab": {}
      },
      "source": [
        "sym.sum()"
      ],
      "execution_count": 0,
      "outputs": []
    },
    {
      "cell_type": "code",
      "metadata": {
        "id": "TIpus2sslDgO",
        "colab_type": "code",
        "colab": {}
      },
      "source": [
        "dt"
      ],
      "execution_count": 0,
      "outputs": []
    },
    {
      "cell_type": "code",
      "metadata": {
        "id": "WcRa89CFmYkx",
        "colab_type": "code",
        "colab": {}
      },
      "source": [
        "ALL = pd.DataFrame(dt['data'].groupby(dt.index.get_level_values(2)).sum())\n",
        "ALL.columns = ['data'] # rename column\n",
        "ALL.head()"
      ],
      "execution_count": 0,
      "outputs": []
    },
    {
      "cell_type": "code",
      "metadata": {
        "id": "pBgZ3wYpmqzi",
        "colab_type": "code",
        "colab": {}
      },
      "source": [
        "YearMonth = ALL.groupby([lambda x: x.year, lambda x: x.month])\n",
        "\n",
        "ALL['Max'] = YearMonth['data'].transform(lambda x: x.max())\n",
        "ALL.head()"
      ],
      "execution_count": 0,
      "outputs": []
    },
    {
      "cell_type": "code",
      "metadata": {
        "id": "IdK3yWnCnARk",
        "colab_type": "code",
        "colab": {}
      },
      "source": [
        ""
      ],
      "execution_count": 0,
      "outputs": []
    },
    {
      "cell_type": "markdown",
      "metadata": {
        "id": "kNf-qUFrmm2-",
        "colab_type": "text"
      },
      "source": [
        "# Introduction to Statistics"
      ]
    },
    {
      "cell_type": "code",
      "metadata": {
        "id": "MEe_lnqZmcEG",
        "colab_type": "code",
        "colab": {}
      },
      "source": [
        "# Datasets\n",
        "# --------\n",
        "# https://raw.githubusercontent.com/amitkaps/weed/master/data/Demographics_State.csv\n",
        "# https://raw.githubusercontent.com/amitkaps/weed/master/data/Population_State.csv\n",
        "# https://raw.githubusercontent.com/amitkaps/weed/master/data/State_Location.csv\n",
        "# https://github.com/amitkaps/weed/tree/master/data"
      ],
      "execution_count": 0,
      "outputs": []
    },
    {
      "cell_type": "markdown",
      "metadata": {
        "id": "sKwer9QTonHb",
        "colab_type": "text"
      },
      "source": [
        "## Basic Probability"
      ]
    },
    {
      "cell_type": "markdown",
      "metadata": {
        "id": "Z-4EcKRB7ZPr",
        "colab_type": "text"
      },
      "source": [
        "Probability is a simple division of counts. Count of desirable outcome and total count of all outcomes.\n",
        "\n",
        "$P(H|HHHTTHH)$\n",
        "\n",
        "$P_P$ - Probability of Population and $P_S$ - Probability of Sample\n",
        "\n",
        "$P_S \\rightarrow P_P$ as my $S \\rightarrow P$\n",
        "\n",
        "For continuous variables, we can never know the probability of an exact event or measurement. We can only know this for a range of values. This range can denote the notion of 'tolerance'. the smaller the range, the more the data needed but the better the results. The larger the range, the lesser the data needed and less reliable are the rsults."
      ]
    },
    {
      "cell_type": "code",
      "metadata": {
        "id": "CaEddFnIotf4",
        "colab_type": "code",
        "colab": {}
      },
      "source": [
        "import numpy as np\n",
        "import pandas as pd\n",
        "import matplotlib.pyplot as plt\n",
        "import seaborn as sns\n",
        "%matplotlib inline"
      ],
      "execution_count": 0,
      "outputs": []
    },
    {
      "cell_type": "markdown",
      "metadata": {
        "id": "qbXpOl-OouDX",
        "colab_type": "text"
      },
      "source": [
        "## Mean, Median, Mode (Measure of Location)"
      ]
    },
    {
      "cell_type": "markdown",
      "metadata": {
        "id": "czxOWmLJOSUp",
        "colab_type": "text"
      },
      "source": [
        "***Median*** is a value that divides the data into 2 equally sized groups. 2nd Quartile. 50 percentile.\n",
        "\n",
        "Half the time I am too large and half the times I am too small.\n",
        "\n",
        "For continuous, median is resistant to errors due to outliers.\n",
        "\n",
        "For categorical / discrete data, median is resistant to default values.\n",
        "\n",
        "***Mode*** is a value that is the most probable value. The histogram is tallest over here and number of occurances is the maximum.\n",
        "\n",
        "The chances of me being right are maximum.\n",
        "\n",
        "For categorical / discrete, mode is giving the most probable value. So it's suseptible to default value.\n",
        "\n",
        "***Mean*** is the average value of the data. Sum up all the data and divide by number of data points.\n",
        "\n",
        "My difference between the actual and what I have said if going to be small.\n",
        "\n",
        "For continuous, mean is suseptible to outlier."
      ]
    },
    {
      "cell_type": "code",
      "metadata": {
        "id": "WkStRifdozk3",
        "colab_type": "code",
        "colab": {}
      },
      "source": [
        "X = np.random.randint(18, 60, 1000000)\n",
        "fig, ax = plt.subplots(1, figsize=(15, 5))\n",
        "sns.distplot(X, bins=100, ax=ax)\n",
        "# plt.hist(X)\n",
        "print(X)\n",
        "plt.show()\n",
        "\n",
        "## Uniform Distribution - All values are equal and have equal probability"
      ],
      "execution_count": 0,
      "outputs": []
    },
    {
      "cell_type": "markdown",
      "metadata": {
        "id": "EeLpWuPZUZd6",
        "colab_type": "text"
      },
      "source": [
        "$$\\frac{1}{\\sqrt{2\\pi\\sigma^2}} e^{-\\frac{(x - \\mu)^2}{2 \\sigma^2}}$$\n",
        "\n",
        "$$E = m"
      ]
    },
    {
      "cell_type": "code",
      "metadata": {
        "id": "BFFT9cFPJNa2",
        "colab_type": "code",
        "colab": {}
      },
      "source": [
        "X = np.random.normal(150, 6, 1000000)  # Mu will be mean, median and mode\n",
        "fig, ax = plt.subplots(1, figsize=(15, 5))\n",
        "sns.distplot(X, bins=100, ax=ax)\n",
        "# plt.hist(X)\n",
        "print(X)\n",
        "# plt.xlim([-40, 40])\n",
        "plt.show()\n",
        "\n",
        "## Normal distribution - Bell shape curve / distribution - Most common distribution in nature. Most important for a data scientist.\n",
        "## Central Limit Theorm\n",
        "\n",
        "# P(x = X) = "
      ],
      "execution_count": 0,
      "outputs": []
    },
    {
      "cell_type": "code",
      "metadata": {
        "id": "TkHX4XYuNYYR",
        "colab_type": "code",
        "colab": {}
      },
      "source": [
        "X = np.random.poisson(lam=1000, size=100000)  # lam both mean and mode of the data but not always median\n",
        "fig, ax = plt.subplots(1, figsize=(15, 5))\n",
        "sns.distplot(X, bins=100, ax=ax)\n",
        "# plt.hist(X)\n",
        "print(X)\n",
        "plt.show()\n",
        "\n",
        "print(np.mean(X), np.std(X))\n",
        "\n",
        "## Poisson Distribution. Normal for whole numbers."
      ],
      "execution_count": 0,
      "outputs": []
    },
    {
      "cell_type": "code",
      "metadata": {
        "id": "4KY4RCTwNhbb",
        "colab_type": "code",
        "colab": {}
      },
      "source": [
        "X = np.random.binomial(250, 0.6, size=100000)\n",
        "fig, ax = plt.subplots(1, figsize=(15, 5))\n",
        "sns.distplot(X, bins=100, ax=ax)\n",
        "# plt.hist(X)\n",
        "print(X)\n",
        "# plt.xlim([0, 25])\n",
        "plt.show()\n",
        "\n",
        "print(np.sqrt(250 * 0.6 * (1-0.6)), 250 * 0.6, np.mean(X), np.std(X))\n",
        "\n",
        "print(1 - (np.std(X) * np.std(X)) / np.mean(X), np.mean(X) / (1 - (np.std(X) * np.std(X)) / np.mean(X)))\n",
        "\n",
        "## Binomial Distribution. 10 coins <- n or number of attempts.\n",
        "## Chances of Heads is 70% = 0.7 <- p or probability of success.\n",
        "## How many times will I be successfull?"
      ],
      "execution_count": 0,
      "outputs": []
    },
    {
      "cell_type": "code",
      "metadata": {
        "id": "V7abIm78NwT4",
        "colab_type": "code",
        "colab": {}
      },
      "source": [
        "X = list(np.random.binomial(10, 0.7, size=1000000)) + list(np.random.binomial(10, 0.3, size=1000000))\n",
        "fig, ax = plt.subplots(1, figsize=(15, 5))\n",
        "sns.distplot(X, bins=100, ax=ax)\n",
        "# plt.hist(X)\n",
        "print(X)\n",
        "plt.show()"
      ],
      "execution_count": 0,
      "outputs": []
    },
    {
      "cell_type": "code",
      "metadata": {
        "id": "SDnwK1O6Olzy",
        "colab_type": "code",
        "colab": {}
      },
      "source": [
        "X = list(np.random.binomial(10, 0.7, size=1000000)) + list(np.random.binomial(10, 0.22, size=1000000))\n",
        "fig, ax = plt.subplots(1, figsize=(15, 5))\n",
        "sns.distplot(X, bins=100, ax=ax)\n",
        "# plt.hist(X)\n",
        "print(X)\n",
        "plt.show()"
      ],
      "execution_count": 0,
      "outputs": []
    },
    {
      "cell_type": "markdown",
      "metadata": {
        "id": "E_oBf35Woz4u",
        "colab_type": "text"
      },
      "source": [
        "## Standard Deviation, Inter Quartile Range (Measure of Dispersion)"
      ]
    },
    {
      "cell_type": "markdown",
      "metadata": {
        "id": "8iKWvDZvbAFu",
        "colab_type": "text"
      },
      "source": [
        "### Inter Quartile Range\n",
        "\n",
        "1. Sort the data\n",
        "2. Find a value that divides the data such that 25% of the data (or a quarter of the data) is below that value and 75% of the data is above (larger).\n",
        "3. Find another value, this time dividing such that 75% of the data is below and 25% of the data is above.\n",
        "\n",
        "0% - Minimum\n",
        "\n",
        "25% - 1st Quartile (1 quarter below)\n",
        "\n",
        "50% - 2nd Quartile or Median (2 quartes of data below)\n",
        "\n",
        "75% - 3rd quartile (3 quarters of the data is below)\n",
        "\n",
        "100% - Maximum\n",
        "\n",
        "$IQR = Q_3 - Q_1$ Third Quartile minus First Quartile is your inter-quartile range.\n",
        "\n",
        "$3 * IQR$ -> From your median + or - 1.5 * IQR is accepted region. Anything outside this region is outlier.\n",
        "\n",
        "in data from 0 to 10 -> Uniform distribution\n",
        "\n",
        "$Q_1 = 2.5$\n",
        "\n",
        "$Q_2 = 5$\n",
        "\n",
        "$Q_3 = 7.5$\n",
        "\n",
        "$IQR = 7.5 - 2.5 = 5$\n",
        "\n",
        "$Q_2 - 1.5 * IQR = 5 - 1.5* 5 = -2.5$\n",
        "\n",
        "$Q_2 + 1.5 * IQR = 5 + 1.5 * 5 = 12.5$"
      ]
    },
    {
      "cell_type": "code",
      "metadata": {
        "id": "Pf11L-xRo8FT",
        "colab_type": "code",
        "colab": {}
      },
      "source": [
        "sns.boxplot(list(np.log(np.random.randn(100000))) + [-10, 10])"
      ],
      "execution_count": 0,
      "outputs": []
    }
  ]
}